{
 "cells": [
  {
   "cell_type": "code",
   "execution_count": 1,
   "metadata": {},
   "outputs": [
    {
     "name": "stderr",
     "output_type": "stream",
     "text": [
      "Setting default log level to \"WARN\".\n",
      "To adjust logging level use sc.setLogLevel(newLevel). For SparkR, use setLogLevel(newLevel).\n",
      "23/12/14 22:26:37 WARN NativeCodeLoader: Unable to load native-hadoop library for your platform... using builtin-java classes where applicable\n",
      "23/12/14 22:26:42 WARN SparkStringUtils: Truncated the string representation of a plan since it was too large. This behavior can be adjusted by setting 'spark.sql.debug.maxToStringFields'.\n"
     ]
    },
    {
     "name": "stdout",
     "output_type": "stream",
     "text": [
      "+--------+-------------------+------------------+------------------+-----------+---------+---------+-----+-------------+-------------+-------------+--------------+--------------+----------------+-----------------+-------+-----+--------+--------+--------+-------+-------+----------+-------+-----+---------------+--------------+-----+---------------+----+------+---------------+---------------------+\n",
      "|Severity|         Start_Time|         Start_Lat|         Start_Lng|Distance_mi|     City|   County|State|Temperature_F|Humidity_perc|Visibility_mi|Wind_Direction|Wind_Speed_mph|Precipitation_in|Weather_Condition|Amenity| Bump|Crossing|Give_Way|Junction|No_Exit|Railway|Roundabout|Station| Stop|Traffic_Calming|Traffic_Signal|month|day_of_the_week|hour|season|Working_Weekend|Astronomical_Twilight|\n",
      "+--------+-------------------+------------------+------------------+-----------+---------+---------+-----+-------------+-------------+-------------+--------------+--------------+----------------+-----------------+-------+-----+--------+--------+--------+-------+-------+----------+-------+-----+---------------+--------------+-----+---------------+----+------+---------------+---------------------+\n",
      "|       2|2022-03-14 06:27:23|         33.032551|        -81.346909|        0.0|Allendale|Allendale|   SC|         30.0|         93.0|         10.0|          CALM|           0.0|             0.0|           Normal|  false|false|   false|   false|   false|  false|  false|     false|  false| true|          false|         false|    3|         Monday|   6|Spring|     WorkingDay|                  Day|\n",
      "|       2|2022-03-08 14:37:33|         33.023018|        -81.274361|      0.129|Allendale|Allendale|   SC|         73.0|         47.0|         10.0|             E|           6.0|             0.0|           Cloudy|  false|false|   false|   false|   false|  false|  false|     false|  false| true|          false|         false|    3|        Tuesday|  14|Spring|     WorkingDay|                  Day|\n",
      "|       2|2022-03-03 14:01:20|         33.023848|-81.33301800000002|      0.122|Allendale|Allendale|   SC|         82.0|         15.0|         10.0|             W|           7.0|             0.0|           Normal|  false|false|   false|   false|   false|  false|  false|     false|  false|false|          false|         false|    3|       Thursday|  14|Spring|     WorkingDay|                  Day|\n",
      "|       2|2022-03-18 07:23:27|         33.087425|        -81.208588|        0.0|    Ulmer|Allendale|   SC|         46.0|        100.0|         0.25|          CALM|           0.0|             0.0|            Foggy|  false|false|   false|   false|   false|  false|  false|     false|  false|false|          false|         false|    3|         Friday|   7|Spring|     WorkingDay|                  Day|\n",
      "|       2|2022-03-08 06:43:22|          33.06987|        -81.424118|        0.0|   Martin|Allendale|   SC|         59.0|         94.0|         10.0|          CALM|           0.0|             0.0|           Normal|  false|false|   false|   false|   false|  false|  false|     false|  false| true|          false|         false|    3|        Tuesday|   6|Spring|     WorkingDay|                  Day|\n",
      "|       2|2022-03-15 06:43:05|         32.920799|-81.23739599999998|        0.0|  Fairfax|Allendale|   SC|         41.0|         87.0|         10.0|          CALM|           0.0|             0.0|           Cloudy|  false|false|    true|   false|   false|  false|   true|     false|  false|false|          false|         false|    3|        Tuesday|   6|Spring|     WorkingDay|                  Day|\n",
      "|       2|2022-03-15 06:41:04|         32.911909|        -81.237579|      0.616|  Fairfax|Allendale|   SC|         41.0|         87.0|         10.0|          CALM|           0.0|             0.0|           Cloudy|  false|false|   false|   false|   false|  false|  false|     false|  false|false|          false|         false|    3|        Tuesday|   6|Spring|     WorkingDay|                  Day|\n",
      "|       2|2022-03-11 17:49:55|32.804585695110305|-81.34368538817718|      1.213|    Luray|Allendale|   SC|         59.0|         92.0|          7.0|          CALM|           0.0|             0.0|           Cloudy|  false|false|   false|   false|   false|  false|  false|     false|  false|false|          false|         false|    3|         Friday|  17|Spring|     WorkingDay|                  Day|\n",
      "|       2|2022-04-20 08:46:07|          33.14547|        -81.519951|        0.0|   Martin|Allendale|   SC|         50.0|         76.0|         10.0|           ENE|           9.0|             0.0|           Normal|  false|false|   false|   false|   false|  false|  false|     false|  false| true|          false|         false|    4|      Wednesday|   8|Spring|     WorkingDay|                  Day|\n",
      "|       1|2022-04-28 06:16:01|           32.9389|        -81.247276|        0.0|  Fairfax|Allendale|   SC|         45.0|         93.0|         10.0|          CALM|           0.0|             0.0|           Normal|  false|false|   false|   false|   false|  false|  false|     false|  false|false|          false|         false|    4|       Thursday|   6|Spring|     WorkingDay|                  Day|\n",
      "|       2|2022-04-28 09:55:51| 33.03021311744199|-81.22305035552395|      0.423|  Fairfax|Allendale|   SC|         68.0|         40.0|         10.0|            NE|           7.0|             0.0|           Normal|  false|false|   false|   false|   false|  false|  false|     false|  false|false|          false|         false|    4|       Thursday|   9|Spring|     WorkingDay|                  Day|\n",
      "|       2|2022-04-21 11:19:02|32.966290712199374|-81.24783396682145|      1.666|  Fairfax|Allendale|   SC|         70.0|         56.0|         10.0|           VAR|           6.0|             0.0|           Normal|  false|false|   false|   false|   false|  false|  false|     false|  false|false|          false|         false|    4|       Thursday|  11|Spring|     WorkingDay|                  Day|\n",
      "|       2|2022-04-11 07:04:06|         33.048222|        -81.315002|        0.0|Allendale|Allendale|   SC|         41.0|         93.0|         10.0|          CALM|           0.0|             0.0|           Normal|  false|false|   false|   false|   false|  false|  false|     false|  false|false|          false|         false|    4|         Monday|   7|Spring|     WorkingDay|                  Day|\n",
      "|       2|2022-04-05 16:58:16|         32.971668|        -81.325263|      0.507|Allendale|Allendale|   SC|         70.0|         94.0|         10.0|           VAR|           7.0|            0.08|             Rain|  false|false|   false|   false|   false|  false|  false|     false|  false|false|          false|         false|    4|        Tuesday|  16|Spring|     WorkingDay|                  Day|\n",
      "|       2|2022-04-21 13:28:37|         33.042212|        -81.419471|      0.389|Allendale|Allendale|   SC|         73.0|         47.0|         10.0|           WSW|           3.0|             0.0|           Cloudy|  false|false|   false|   false|   false|  false|  false|     false|  false|false|          false|         false|    4|       Thursday|  13|Spring|     WorkingDay|                  Day|\n",
      "|       2|2022-04-22 11:20:46|32.996328000000005|        -81.324656|      0.216|Allendale|Allendale|   SC|         73.0|         53.0|         10.0|           VAR|           8.0|             0.0|           Normal|  false|false|   false|   false|   false|  false|  false|     false|  false|false|          false|         false|    4|         Friday|  11|Spring|     WorkingDay|                  Day|\n",
      "|       2|2022-04-01 16:10:15|         33.081761|        -81.329436|      0.947|Allendale|Allendale|   SC|         75.0|         19.0|         10.0|           WSW|          17.0|             0.0|           Normal|  false|false|   false|   false|   false|  false|  false|     false|  false|false|          false|         false|    4|         Friday|  16|Spring|     WorkingDay|                  Day|\n",
      "|       2|2022-04-01 16:17:20|         33.081761|        -81.329436|      0.053|Allendale|Allendale|   SC|         75.0|         19.0|         10.0|           WSW|          17.0|             0.0|           Normal|  false|false|   false|   false|   false|  false|  false|     false|  false|false|          false|         false|    4|         Friday|  16|Spring|     WorkingDay|                  Day|\n",
      "|       2|2022-04-01 16:17:20|         33.081761|        -81.329436|      0.434|Allendale|Allendale|   SC|         75.0|         19.0|         10.0|           WSW|          17.0|             0.0|           Normal|  false|false|   false|   false|   false|  false|  false|     false|  false|false|          false|         false|    4|         Friday|  16|Spring|     WorkingDay|                  Day|\n",
      "|       2|2022-04-03 15:56:01|         32.954487|        -81.461396|       0.12|Allendale|Allendale|   SC|         75.0|         24.0|         10.0|             W|           9.0|             0.0|           Normal|  false|false|   false|   false|   false|  false|  false|     false|  false|false|          false|         false|    4|         Sunday|  15|Spring|        Weekend|                  Day|\n",
      "+--------+-------------------+------------------+------------------+-----------+---------+---------+-----+-------------+-------------+-------------+--------------+--------------+----------------+-----------------+-------+-----+--------+--------+--------+-------+-------+----------+-------+-----+---------------+--------------+-----+---------------+----+------+---------------+---------------------+\n",
      "only showing top 20 rows\n",
      "\n"
     ]
    }
   ],
   "source": [
    "import pandas as pd\n",
    "import matplotlib.pyplot as plt\n",
    "import seaborn as sns\n",
    "from pyspark.ml.feature import StringIndexer,OneHotEncoder\n",
    "from pyspark.sql import SQLContext, SparkSession, Row\n",
    "from pyspark.mllib.stat import Statistics\n",
    "from pyspark.ml import Pipeline\n",
    "from pyspark.ml.feature import VectorAssembler, MinMaxScaler, StandardScaler\n",
    "from pyspark.sql.functions import col\n",
    "import pyspark.sql.functions as F\n",
    "from pyspark.sql.functions import when, count, isnull\n",
    "from pyspark.mllib.regression import LabeledPoint\n",
    "from pyspark.ml.linalg import Vectors\n",
    "from pyspark.sql.types import FloatType\n",
    "\n",
    "from pyspark.sql.functions import udf\n",
    "from pyspark.sql.types import IntegerType\n",
    "from pyspark.ml.evaluation import MulticlassClassificationEvaluator\n",
    "from pyspark.ml.tuning import ParamGridBuilder, CrossValidator\n",
    "from pyspark.mllib.evaluation import MulticlassMetrics\n",
    "\n",
    "from pyspark.ml.functions import vector_to_array\n",
    "\n",
    "import pyspark.sql.functions as F\n",
    "\n",
    "spark = SparkSession.Builder().appName('DDAM_Project_est').getOrCreate()\n",
    "df = spark.read.options(inferSchema = True, delimiter = ',', header = True).csv('../../Datasets/East_Incidents_Cleaned.csv')\n",
    "df.show()"
   ]
  },
  {
   "cell_type": "code",
   "execution_count": 2,
   "metadata": {},
   "outputs": [
    {
     "name": "stdout",
     "output_type": "stream",
     "text": [
      "+-----------------------------------------------------------------------------------------------------------+--------+\n",
      "|features                                                                                                   |Severity|\n",
      "+-----------------------------------------------------------------------------------------------------------+--------+\n",
      "|(28,[0,1,3,4,5,17,20,21,24],[33.032551,-81.346909,30.0,93.0,10.0,1.0,3.0,6.0,1.0])                         |1       |\n",
      "|(28,[0,1,2,3,4,5,6,17,20,21,25],[33.023018,-81.274361,0.129,73.0,47.0,10.0,6.0,1.0,3.0,14.0,1.0])          |1       |\n",
      "|(28,[0,1,2,3,4,5,6,20,21,24],[33.023848,-81.33301800000002,0.122,82.0,15.0,10.0,7.0,3.0,14.0,1.0])         |1       |\n",
      "|(28,[0,1,3,4,5,20,21],[33.087425,-81.208588,46.0,100.0,0.25,3.0,7.0])                                      |1       |\n",
      "|(28,[0,1,3,4,5,17,20,21,24],[33.06987,-81.424118,59.0,94.0,10.0,1.0,3.0,6.0,1.0])                          |1       |\n",
      "|(28,[0,1,3,4,5,10,14,20,21,25],[32.920799,-81.23739599999998,41.0,87.0,10.0,1.0,1.0,3.0,6.0,1.0])          |1       |\n",
      "|(28,[0,1,2,3,4,5,20,21,25],[32.911909,-81.237579,0.616,41.0,87.0,10.0,3.0,6.0,1.0])                        |1       |\n",
      "|(28,[0,1,2,3,4,5,20,21,25],[32.804585695110305,-81.34368538817718,1.213,59.0,92.0,7.0,3.0,17.0,1.0])       |1       |\n",
      "|(28,[0,1,3,4,5,6,17,20,21,24],[33.14547,-81.519951,50.0,76.0,10.0,9.0,1.0,4.0,8.0,1.0])                    |1       |\n",
      "|(28,[0,1,3,4,5,20,21,24],[32.9389,-81.247276,45.0,93.0,10.0,4.0,6.0,1.0])                                  |0       |\n",
      "|(28,[0,1,2,3,4,5,6,20,21,24],[33.03021311744199,-81.22305035552395,0.423,68.0,40.0,10.0,7.0,4.0,9.0,1.0])  |1       |\n",
      "|(28,[0,1,2,3,4,5,6,20,21,24],[32.966290712199374,-81.24783396682145,1.666,70.0,56.0,10.0,6.0,4.0,11.0,1.0])|1       |\n",
      "|(28,[0,1,3,4,5,20,21,24],[33.048222,-81.315002,41.0,93.0,10.0,4.0,7.0,1.0])                                |1       |\n",
      "|(28,[0,1,2,3,4,5,6,7,20,21,26],[32.971668,-81.325263,0.507,70.0,94.0,10.0,7.0,0.08,4.0,16.0,1.0])          |1       |\n",
      "|(28,[0,1,2,3,4,5,6,20,21,25],[33.042212,-81.419471,0.389,73.0,47.0,10.0,3.0,4.0,13.0,1.0])                 |1       |\n",
      "|(28,[0,1,2,3,4,5,6,20,21,24],[32.996328000000005,-81.324656,0.216,73.0,53.0,10.0,8.0,4.0,11.0,1.0])        |1       |\n",
      "|(28,[0,1,2,3,4,5,6,20,21,24],[33.081761,-81.329436,0.947,75.0,19.0,10.0,17.0,4.0,16.0,1.0])                |1       |\n",
      "|(28,[0,1,2,3,4,5,6,20,21,24],[33.081761,-81.329436,0.053,75.0,19.0,10.0,17.0,4.0,16.0,1.0])                |1       |\n",
      "|(28,[0,1,2,3,4,5,6,20,21,24],[33.081761,-81.329436,0.434,75.0,19.0,10.0,17.0,4.0,16.0,1.0])                |1       |\n",
      "|(28,[0,1,2,3,4,5,6,20,21,22,24],[32.954487,-81.461396,0.12,75.0,24.0,10.0,9.0,4.0,15.0,1.0,1.0])           |1       |\n",
      "+-----------------------------------------------------------------------------------------------------------+--------+\n",
      "only showing top 20 rows\n",
      "\n"
     ]
    }
   ],
   "source": [
    "to_drop=['Start_Time','City','County','State','Wind_Direction','day_of_the_week','season']\n",
    "df_class=df.drop(*to_drop)\n",
    "colonne_booleane = ['Amenity', 'Bump', 'Crossing', 'Give_Way', 'Junction', 'No_Exit', 'Railway', 'Roundabout', 'Station', 'Stop', 'Traffic_Calming', 'Traffic_Signal']\n",
    "\n",
    "# Converti le colonne booleane in numeriche\n",
    "for col_name in colonne_booleane:\n",
    "    df_class = df_class.withColumn(col_name, col(col_name).cast(\"int\"))\n",
    "\n",
    "\n",
    "df_class = df_class.withColumn(\"Astronomical_Twilight\", when(df_class[\"Astronomical_Twilight\"] == 'Day', 0).otherwise(1))\n",
    "df_class = df_class.withColumn(\"Working_Weekend\", when(df_class[\"Working_Weekend\"] == 'WorkingDay', 0).otherwise(1))\n",
    "\n",
    "indexer = StringIndexer(inputCol=\"Weather_Condition\", outputCol=\"Weather_Condition_Indexed\")\n",
    "df_class = indexer.fit(df_class).transform(df_class)\n",
    "\n",
    "onehotencoder_vector = OneHotEncoder(inputCol=\"Weather_Condition_Indexed\", outputCol=\"Weather_Condition_1hot\")\n",
    "df_class = onehotencoder_vector.fit(df_class).transform(df_class)\n",
    "\n",
    "df_class=df_class.drop('Weather_Condition')\n",
    "df_class=df_class.drop('Weather_Condition_Indexed')\n",
    "df_class= df_class.withColumn(\"Severity\", col(\"Severity\") - 1)\n",
    "\n",
    "\n",
    "num_col = [item[0] for item in df_class.dtypes if not item[1].startswith('string')]\n",
    "num_col.remove(\"Severity\")\n",
    "\n",
    "assembler = VectorAssembler(inputCols=num_col, outputCol=\"features\")\n",
    "\n",
    "output_dataset = assembler.transform(df_class)\n",
    "\n",
    "classificationData = output_dataset.select(\"features\", \"Severity\")\n",
    "\n",
    "classificationData.show(truncate=False)"
   ]
  },
  {
   "cell_type": "code",
   "execution_count": 3,
   "metadata": {},
   "outputs": [],
   "source": [
    "df_DT_binary=df_class"
   ]
  },
  {
   "cell_type": "code",
   "execution_count": 4,
   "metadata": {},
   "outputs": [],
   "source": [
    "(trainingData, testData) = classificationData.randomSplit([0.7, 0.3],seed=0)"
   ]
  },
  {
   "cell_type": "code",
   "execution_count": 5,
   "metadata": {},
   "outputs": [
    {
     "name": "stderr",
     "output_type": "stream",
     "text": [
      "[Stage 7:>                                                          (0 + 8) / 8]\r"
     ]
    },
    {
     "name": "stdout",
     "output_type": "stream",
     "text": [
      "+--------+------+\n",
      "|Severity| Count|\n",
      "+--------+------+\n",
      "|       0|  8918|\n",
      "|       1|246675|\n",
      "|       2|  9859|\n",
      "|       3| 10956|\n",
      "+--------+------+\n",
      "\n"
     ]
    },
    {
     "name": "stderr",
     "output_type": "stream",
     "text": [
      "                                                                                \r"
     ]
    }
   ],
   "source": [
    "g=trainingData.groupBy('Severity').agg(F.count('Severity').alias('Count'))\n",
    "g=g.sort('Severity')\n",
    "g.show()"
   ]
  },
  {
   "cell_type": "markdown",
   "metadata": {},
   "source": [
    "Train & Test a DT without Severity sampling"
   ]
  },
  {
   "cell_type": "code",
   "execution_count": 6,
   "metadata": {},
   "outputs": [
    {
     "name": "stderr",
     "output_type": "stream",
     "text": [
      "Java HotSpot(TM) 64-Bit Server VM warning: CodeCache is full. Compiler has been disabled.\n",
      "Java HotSpot(TM) 64-Bit Server VM warning: Try increasing the code cache size using -XX:ReservedCodeCacheSize=\n"
     ]
    },
    {
     "name": "stdout",
     "output_type": "stream",
     "text": [
      "CodeCache: size=131072Kb used=40491Kb max_used=40501Kb free=90580Kb\n",
      " bounds [0x00000001089d8000, 0x000000010b1a8000, 0x00000001109d8000]\n",
      " total_blobs=14426 nmethods=13370 adapters=968\n",
      " compilation: disabled (not enough contiguous free space left)\n"
     ]
    }
   ],
   "source": [
    "from pyspark.ml.classification import DecisionTreeClassifier, RandomForestClassifier\n",
    "\n",
    "dt = DecisionTreeClassifier(labelCol=\"Severity\", featuresCol=\"features\")\n",
    "\n",
    "dt = dt.fit(trainingData)"
   ]
  },
  {
   "cell_type": "code",
   "execution_count": 7,
   "metadata": {},
   "outputs": [
    {
     "data": {
      "text/plain": [
       "SparseVector(28, {0: 0.0723, 1: 0.0074, 2: 0.5556, 19: 0.0019, 20: 0.2465, 21: 0.0692, 22: 0.0471})"
      ]
     },
     "execution_count": 7,
     "metadata": {},
     "output_type": "execute_result"
    }
   ],
   "source": [
    "dt.featureImportances"
   ]
  },
  {
   "cell_type": "code",
   "execution_count": 8,
   "metadata": {},
   "outputs": [
    {
     "name": "stderr",
     "output_type": "stream",
     "text": [
      "[Stage 27:=============================>                            (4 + 4) / 8]\r"
     ]
    },
    {
     "name": "stdout",
     "output_type": "stream",
     "text": [
      "0.9186358594881087\n",
      "Test Error = 0.0813641\n"
     ]
    },
    {
     "name": "stderr",
     "output_type": "stream",
     "text": [
      "                                                                                \r"
     ]
    }
   ],
   "source": [
    "predictions = dt.transform(testData)\n",
    "evaluator = MulticlassClassificationEvaluator(labelCol=\"Severity\"\n",
    "                                              , predictionCol=\"prediction\"\n",
    "                                              , metricName=\"accuracy\")\n",
    "\n",
    "accuracy = evaluator.evaluate(predictions)\n",
    "print(accuracy)\n",
    "print(\"Test Error = %g\" % (1.0 - accuracy))"
   ]
  },
  {
   "cell_type": "code",
   "execution_count": 9,
   "metadata": {},
   "outputs": [
    {
     "name": "stderr",
     "output_type": "stream",
     "text": [
      "/opt/anaconda3/lib/python3.9/site-packages/pyspark/sql/context.py:158: FutureWarning: Deprecated in 3.0.0. Use SparkSession.builder.getOrCreate() instead.\n",
      "  warnings.warn(\n",
      "                                                                                \r"
     ]
    },
    {
     "name": "stdout",
     "output_type": "stream",
     "text": [
      "DenseMatrix([[3.27300e+03, 3.62000e+02, 1.09000e+02, 0.00000e+00],\n",
      "             [1.18600e+03, 1.03069e+05, 1.12800e+03, 0.00000e+00],\n",
      "             [6.30000e+02, 1.51400e+03, 2.15900e+03, 0.00000e+00],\n",
      "             [9.00000e+00, 4.66100e+03, 1.10000e+01, 0.00000e+00]])\n"
     ]
    },
    {
     "name": "stderr",
     "output_type": "stream",
     "text": [
      "                                                                                \r"
     ]
    }
   ],
   "source": [
    "preds_and_labels = predictions.select(['prediction','Severity']).withColumn('label', F.col('Severity').cast(FloatType())).orderBy('prediction')\n",
    "preds_and_labels = preds_and_labels.select(['prediction','label'])\n",
    "metrics = MulticlassMetrics(preds_and_labels.rdd.map(tuple))\n",
    "print(metrics.confusionMatrix())"
   ]
  },
  {
   "cell_type": "markdown",
   "metadata": {},
   "source": [
    "Train & Test a tuned DT without Severity sampling"
   ]
  },
  {
   "cell_type": "code",
   "execution_count": 11,
   "metadata": {},
   "outputs": [
    {
     "name": "stderr",
     "output_type": "stream",
     "text": [
      "                                                                                \r"
     ]
    }
   ],
   "source": [
    "n=trainingData.count()\n",
    "max_depth=[5,15,25]\n",
    "max_bins=[32,64]\n",
    "min_inst=[round(0.005*n),round(0.02*n)]\n",
    "impurity=['entropy', 'gini']\n"
   ]
  },
  {
   "cell_type": "code",
   "execution_count": 12,
   "metadata": {},
   "outputs": [
    {
     "name": "stderr",
     "output_type": "stream",
     "text": [
      "                                                                                \r"
     ]
    },
    {
     "name": "stdout",
     "output_type": "stream",
     "text": [
      "0.9160450762418403\n",
      "Test Error = 0.0839549\n"
     ]
    },
    {
     "name": "stderr",
     "output_type": "stream",
     "text": [
      "[Stage 69:=======>                                                  (1 + 7) / 8]\r"
     ]
    },
    {
     "name": "stdout",
     "output_type": "stream",
     "text": [
      "Precision for class  0 : 60.25%\n",
      "Recall for class  0 : 90.04%\n",
      "avg_F1-Score for class  0 : 72.19%\n",
      "----------------------------\n",
      "Precision for class  1 : 93.70%\n",
      "Recall for class  1 : 98.12%\n",
      "avg_F1-Score for class  1 : 95.86%\n",
      "----------------------------\n",
      "Precision for class  2 : 65.89%\n",
      "Recall for class  2 : 33.00%\n",
      "avg_F1-Score for class  2 : 43.98%\n",
      "----------------------------\n",
      "Precision for class  3 : 0.00%\n",
      "Recall for class  3 : 0.00%\n",
      "avg_F1-Score for class  3 : 0.00%\n",
      "----------------------------\n",
      "[0.72191883499304, 0.9585805398991397, 0.43976463301331675, 0.0]\n",
      "----------------------\n",
      "avg_F1-Score: 53.01%\n"
     ]
    },
    {
     "name": "stderr",
     "output_type": "stream",
     "text": [
      "                                                                                \r"
     ]
    },
    {
     "data": {
      "text/plain": [
       "<AxesSubplot:>"
      ]
     },
     "execution_count": 12,
     "metadata": {},
     "output_type": "execute_result"
    },
    {
     "data": {
      "image/png": "[encoded data removed]",
      "text/plain": [
       "<Figure size 700x700 with 1 Axes>"
      ]
     },
     "metadata": {},
     "output_type": "display_data"
    }
   ],
   "source": [
    "dt = DecisionTreeClassifier(labelCol=\"Severity\", featuresCol=\"features\", maxDepth=10, maxBins=64, \n",
    "                            minInstancesPerNode=round(0.005*n), impurity='entropy')\n",
    "dt = dt.fit(trainingData)\n",
    "predictions = dt.transform(testData)\n",
    "# Select (prediction, true label) and compute test error\n",
    "evaluator = MulticlassClassificationEvaluator(labelCol=\"Severity\"\n",
    "                                              , predictionCol=\"prediction\"\n",
    "                                              , metricName=\"accuracy\")\n",
    "\n",
    "accuracy = evaluator.evaluate(predictions)\n",
    "print(accuracy)\n",
    "print(\"Test Error = %g\" % (1.0 - accuracy))\n",
    "\n",
    "# Calcolare precision, recall e F1-score\n",
    "predictionAndLabels = predictions.select(\"prediction\", \"Severity\").rdd.map(lambda x: (float(x[0]), float(x[1])))\n",
    "metrics = MulticlassMetrics(predictionAndLabels)\n",
    "\n",
    "list_avg=[]\n",
    "for i in range(4):\n",
    "    precision = metrics.precision(label=float(i))  \n",
    "    recall = metrics.recall(label=float(i))\n",
    "    f1Score= metrics.fMeasure(label=float(i)) # need .0\n",
    "    print(\"Precision for class \",i,\": {:.2%}\".format(precision))\n",
    "    print(\"Recall for class \",i,\": {:.2%}\".format(recall))\n",
    "    print(\"avg_F1-Score for class \",i,\": {:.2%}\".format(f1Score))\n",
    "    list_avg.append(f1Score)\n",
    "    print('----------------------------')\n",
    "sum_=0\n",
    "print(list_avg)\n",
    "for elem in list_avg:\n",
    "    sum_+=elem\n",
    "\n",
    "avg_f1=sum_/4\n",
    "print('----------------------')\n",
    "\n",
    "print(\"avg_F1-Score: {:.2%}\".format(avg_f1))\n",
    "\n",
    "labels = [\"0\", \"1\", \"2\", \"3\"]\n",
    "_ = plt.figure(figsize=(7, 7))\n",
    "sns.heatmap(metrics.confusionMatrix().toArray(),\n",
    "            cmap='viridis',\n",
    "            annot=True,fmt='0',\n",
    "            cbar=False, \n",
    "            xticklabels=labels, \n",
    "            yticklabels=labels)"
   ]
  },
  {
   "cell_type": "markdown",
   "metadata": {},
   "source": [
    "Undersampling Severity target"
   ]
  },
  {
   "cell_type": "code",
   "execution_count": 13,
   "metadata": {},
   "outputs": [
    {
     "name": "stderr",
     "output_type": "stream",
     "text": [
      "                                                                                \r"
     ]
    }
   ],
   "source": [
    "g_p=g.toPandas()\n",
    "n_0=g_p.iloc[0,1]\n",
    "n_1=g_p.iloc[1,1]\n",
    "n_2=g_p.iloc[2,1]\n",
    "n_3=g_p.iloc[3,1]"
   ]
  },
  {
   "cell_type": "code",
   "execution_count": 14,
   "metadata": {},
   "outputs": [
    {
     "name": "stdout",
     "output_type": "stream",
     "text": [
      "+--------+-----+\n",
      "|Severity|count|\n",
      "+--------+-----+\n",
      "|       1| 9697|\n",
      "|       3|10956|\n",
      "|       2| 9859|\n",
      "|       0| 8918|\n",
      "+--------+-----+\n",
      "\n"
     ]
    },
    {
     "name": "stderr",
     "output_type": "stream",
     "text": [
      "                                                                                \r"
     ]
    }
   ],
   "source": [
    "und=(n_0+n_2+n_3)/3\n",
    "train_und = trainingData.sampleBy('Severity', fractions={0:1.0 ,1: und/n_1 , 2:1.0, 3:1.0})\n",
    "result_counts=train_und.groupBy(\"Severity\").count()\n",
    "result_counts.show()"
   ]
  },
  {
   "cell_type": "markdown",
   "metadata": {},
   "source": [
    "Training & Test a DT "
   ]
  },
  {
   "cell_type": "code",
   "execution_count": 15,
   "metadata": {},
   "outputs": [
    {
     "name": "stderr",
     "output_type": "stream",
     "text": [
      "                                                                                \r"
     ]
    }
   ],
   "source": [
    "from pyspark.ml.classification import DecisionTreeClassifier, RandomForestClassifier\n",
    "\n",
    "dt = DecisionTreeClassifier(labelCol=\"Severity\", featuresCol=\"features\")\n",
    "\n",
    "dt = dt.fit(train_und)"
   ]
  },
  {
   "cell_type": "code",
   "execution_count": 16,
   "metadata": {},
   "outputs": [
    {
     "data": {
      "text/plain": [
       "SparseVector(28, {0: 0.1138, 1: 0.0592, 2: 0.5652, 3: 0.0001, 19: 0.0117, 20: 0.141, 21: 0.0798, 22: 0.0293})"
      ]
     },
     "execution_count": 16,
     "metadata": {},
     "output_type": "execute_result"
    }
   ],
   "source": [
    "dt.featureImportances"
   ]
  },
  {
   "cell_type": "code",
   "execution_count": 17,
   "metadata": {},
   "outputs": [
    {
     "name": "stdout",
     "output_type": "stream",
     "text": [
      "0.5784897257664401\n",
      "Test Error = 0.42151\n"
     ]
    }
   ],
   "source": [
    "predictions = dt.transform(testData)\n",
    "evaluator = MulticlassClassificationEvaluator(labelCol=\"Severity\"\n",
    "                                              , predictionCol=\"prediction\"\n",
    "                                              , metricName=\"accuracy\")\n",
    "\n",
    "accuracy = evaluator.evaluate(predictions)\n",
    "print(accuracy)\n",
    "print(\"Test Error = %g\" % (1.0 - accuracy))"
   ]
  },
  {
   "cell_type": "code",
   "execution_count": 18,
   "metadata": {},
   "outputs": [
    {
     "name": "stdout",
     "output_type": "stream",
     "text": [
      "+--------+------+\n",
      "|Severity| count|\n",
      "+--------+------+\n",
      "|       1|105383|\n",
      "|       3|  4681|\n",
      "|       2|  4303|\n",
      "|       0|  3744|\n",
      "+--------+------+\n",
      "\n"
     ]
    },
    {
     "name": "stderr",
     "output_type": "stream",
     "text": [
      "                                                                                \r"
     ]
    }
   ],
   "source": [
    "prediction_counts = predictions.groupBy(\"Severity\").count()\n",
    "prediction_counts.show()"
   ]
  },
  {
   "cell_type": "code",
   "execution_count": 19,
   "metadata": {},
   "outputs": [
    {
     "name": "stdout",
     "output_type": "stream",
     "text": [
      "Counts of predictions in the test set:\n",
      "+----------+-----+\n",
      "|prediction|count|\n",
      "+----------+-----+\n",
      "|       0.0| 5691|\n",
      "|       1.0|59532|\n",
      "|       2.0|11657|\n",
      "|       3.0|41231|\n",
      "+----------+-----+\n",
      "\n"
     ]
    },
    {
     "name": "stderr",
     "output_type": "stream",
     "text": [
      "                                                                                \r"
     ]
    }
   ],
   "source": [
    "prediction_counts = predictions.groupBy(\"prediction\").count()\n",
    "print(\"Counts of predictions in the test set:\")\n",
    "prediction_counts.show()"
   ]
  },
  {
   "cell_type": "code",
   "execution_count": 20,
   "metadata": {},
   "outputs": [
    {
     "name": "stderr",
     "output_type": "stream",
     "text": [
      "/opt/anaconda3/lib/python3.9/site-packages/pyspark/sql/context.py:158: FutureWarning: Deprecated in 3.0.0. Use SparkSession.builder.getOrCreate() instead.\n",
      "  warnings.warn(\n",
      "                                                                                \r"
     ]
    },
    {
     "name": "stdout",
     "output_type": "stream",
     "text": [
      "DenseMatrix([[3.3800e+03, 4.2000e+01, 2.8400e+02, 3.8000e+01],\n",
      "             [1.6080e+03, 5.8204e+04, 8.0750e+03, 3.7496e+04],\n",
      "             [6.9400e+02, 3.1600e+02, 3.1690e+03, 1.2400e+02],\n",
      "             [9.0000e+00, 9.7000e+02, 1.2900e+02, 3.5730e+03]])\n"
     ]
    }
   ],
   "source": [
    "preds_and_labels = predictions.select(['prediction','Severity']).withColumn('label', F.col('Severity').cast(FloatType())).orderBy('prediction')\n",
    "preds_and_labels = preds_and_labels.select(['prediction','label'])\n",
    "metrics = MulticlassMetrics(preds_and_labels.rdd.map(tuple))\n",
    "print(metrics.confusionMatrix())"
   ]
  },
  {
   "cell_type": "markdown",
   "metadata": {},
   "source": [
    "Train & Test a tuned DT with Severity Undersampling"
   ]
  },
  {
   "cell_type": "code",
   "execution_count": 21,
   "metadata": {},
   "outputs": [
    {
     "name": "stderr",
     "output_type": "stream",
     "text": [
      "                                                                                \r"
     ]
    }
   ],
   "source": [
    "n=train_und.count()\n",
    "max_depth=[5,15,10,25]\n",
    "max_bins=[32,64]\n",
    "min_inst=[round(0.005*n),round(0.02*n)]\n",
    "impurity=['entropy', 'gini']"
   ]
  },
  {
   "cell_type": "code",
   "execution_count": 22,
   "metadata": {},
   "outputs": [
    {
     "name": "stderr",
     "output_type": "stream",
     "text": [
      "                                                                                \r"
     ]
    },
    {
     "name": "stdout",
     "output_type": "stream",
     "text": [
      "0.6039318945737484\n",
      "Test Error = 0.396068\n"
     ]
    },
    {
     "name": "stderr",
     "output_type": "stream",
     "text": [
      "/opt/anaconda3/lib/python3.9/site-packages/pyspark/sql/context.py:158: FutureWarning: Deprecated in 3.0.0. Use SparkSession.builder.getOrCreate() instead.\n",
      "  warnings.warn(\n",
      "[Stage 155:==============>                                          (2 + 6) / 8]\r"
     ]
    },
    {
     "name": "stdout",
     "output_type": "stream",
     "text": [
      "Precision for class  0 : 62.35%\n",
      "Recall for class  0 : 87.53%\n",
      "avg_F1-Score for class  0 : 72.82%\n",
      "----------------------------\n",
      "Precision for class  1 : 98.16%\n",
      "Recall for class  1 : 57.80%\n",
      "avg_F1-Score for class  1 : 72.76%\n",
      "----------------------------\n",
      "Precision for class  2 : 26.09%\n",
      "Recall for class  2 : 80.85%\n",
      "avg_F1-Score for class  2 : 39.45%\n",
      "----------------------------\n",
      "Precision for class  3 : 9.77%\n",
      "Recall for class  3 : 78.17%\n",
      "avg_F1-Score for class  3 : 17.37%\n",
      "----------------------------\n",
      "[0.7282222222222221, 0.7275984806860801, 0.3944668065083055, 0.17366335223901846]\n",
      "----------------------\n",
      "avg_F1-Score: 50.60%\n"
     ]
    },
    {
     "name": "stderr",
     "output_type": "stream",
     "text": [
      "                                                                                \r"
     ]
    },
    {
     "data": {
      "text/plain": [
       "<AxesSubplot:>"
      ]
     },
     "execution_count": 22,
     "metadata": {},
     "output_type": "execute_result"
    },
    {
     "data": {
      "image/png": "[encoded data removed]",
      "text/plain": [
       "<Figure size 700x700 with 1 Axes>"
      ]
     },
     "metadata": {},
     "output_type": "display_data"
    }
   ],
   "source": [
    "dt = DecisionTreeClassifier(labelCol=\"Severity\", featuresCol=\"features\", maxDepth=15, maxBins=64, \n",
    "                            minInstancesPerNode=round(0.005*n), impurity='entropy')\n",
    "dt = dt.fit(train_und)\n",
    "predictions = dt.transform(testData)\n",
    "# Select (prediction, true label) and compute test error\n",
    "evaluator = MulticlassClassificationEvaluator(labelCol=\"Severity\"\n",
    "                                              , predictionCol=\"prediction\"\n",
    "                                              , metricName=\"accuracy\")\n",
    "\n",
    "accuracy = evaluator.evaluate(predictions)\n",
    "print(accuracy)\n",
    "print(\"Test Error = %g\" % (1.0 - accuracy))\n",
    "\n",
    "# Calcolare precision, recall e F1-score\n",
    "predictionAndLabels = predictions.select(\"prediction\", \"Severity\").rdd.map(lambda x: (float(x[0]), float(x[1])))\n",
    "metrics = MulticlassMetrics(predictionAndLabels)\n",
    "\n",
    "list_avg=[]\n",
    "for i in range(4):\n",
    "    precision = metrics.precision(label=float(i))  \n",
    "    recall = metrics.recall(label=float(i))\n",
    "    f1Score= metrics.fMeasure(label=float(i)) # need .0\n",
    "    print(\"Precision for class \",i,\": {:.2%}\".format(precision))\n",
    "    print(\"Recall for class \",i,\": {:.2%}\".format(recall))\n",
    "    print(\"avg_F1-Score for class \",i,\": {:.2%}\".format(f1Score))\n",
    "    list_avg.append(f1Score)\n",
    "    print('----------------------------')\n",
    "sum_=0\n",
    "print(list_avg)\n",
    "for elem in list_avg:\n",
    "    sum_+=elem\n",
    "\n",
    "avg_f1=sum_/4\n",
    "print('----------------------')\n",
    "\n",
    "print(\"avg_F1-Score: {:.2%}\".format(avg_f1))\n",
    "\n",
    "labels = [\"0\", \"1\", \"2\", \"3\"]\n",
    "_ = plt.figure(figsize=(7, 7))\n",
    "sns.heatmap(metrics.confusionMatrix().toArray(),\n",
    "            cmap='viridis',\n",
    "            annot=True,fmt='0',\n",
    "            cbar=False, \n",
    "            xticklabels=labels, \n",
    "            yticklabels=labels)"
   ]
  },
  {
   "cell_type": "markdown",
   "metadata": {},
   "source": [
    "Performing Undersampling(Severity=1) & Oversampling(Severity=0,2,3) "
   ]
  },
  {
   "cell_type": "code",
   "execution_count": 23,
   "metadata": {},
   "outputs": [],
   "source": [
    "under_1=trainingData.filter(col('Severity') == 1)\n",
    "under_1 = trainingData.sample(True, 0.3, seed=42)"
   ]
  },
  {
   "cell_type": "code",
   "execution_count": 24,
   "metadata": {},
   "outputs": [
    {
     "name": "stdout",
     "output_type": "stream",
     "text": [
      "6.298048889885624\n",
      "5.298048889885624\n",
      "4.298048889885624\n",
      "3.2980488898856244\n",
      "2.2980488898856244\n",
      "1.2980488898856244\n",
      "0.2980488898856244\n"
     ]
    }
   ],
   "source": [
    "oversample_0=trainingData.filter(col('Severity') == 0)\n",
    "num_campioni_da_generare = round(n_1*0.3)\n",
    "num_campioni_da_generare=(num_campioni_da_generare-n_0)/n_0 \n",
    "full_0=oversample_0\n",
    "\n",
    "while num_campioni_da_generare>1:\n",
    "    oversample_0 = oversample_0.unionAll(full_0)\n",
    "    num_campioni_da_generare=num_campioni_da_generare-1.0\n",
    "    print(num_campioni_da_generare)\n",
    "    \n",
    "df_minority_oversampled = full_0.sample(True, num_campioni_da_generare, seed=42)\n",
    "\n",
    "oversample_0 = oversample_0.unionAll(df_minority_oversampled)"
   ]
  },
  {
   "cell_type": "code",
   "execution_count": 25,
   "metadata": {},
   "outputs": [
    {
     "name": "stdout",
     "output_type": "stream",
     "text": [
      "5.5060350948372045\n",
      "4.5060350948372045\n",
      "3.5060350948372045\n",
      "2.5060350948372045\n",
      "1.5060350948372045\n",
      "0.5060350948372045\n"
     ]
    }
   ],
   "source": [
    "oversample_2=trainingData.filter(col('Severity') == 2)\n",
    "num_campioni_da_generare = round(n_1*0.3)\n",
    "num_campioni_da_generare=(num_campioni_da_generare-n_2)/n_2\n",
    "full_2=oversample_2\n",
    "\n",
    "while num_campioni_da_generare>1:\n",
    "    oversample_2 = oversample_2.unionAll(full_2)\n",
    "    num_campioni_da_generare=num_campioni_da_generare-1.0\n",
    "    print(num_campioni_da_generare)\n",
    "    \n",
    "df_minority_oversampled = full_2.sample(True, num_campioni_da_generare, seed=42)\n",
    "\n",
    "oversample_2 = oversample_2.unionAll(df_minority_oversampled)"
   ]
  },
  {
   "cell_type": "code",
   "execution_count": 26,
   "metadata": {},
   "outputs": [
    {
     "name": "stdout",
     "output_type": "stream",
     "text": [
      "4.754472435195327\n",
      "3.7544724351953267\n",
      "2.7544724351953267\n",
      "1.7544724351953267\n",
      "0.7544724351953267\n"
     ]
    }
   ],
   "source": [
    "oversample_3=trainingData.filter(col('Severity') == 3)\n",
    "num_campioni_da_generare = round(n_1*0.3)\n",
    "num_campioni_da_generare=(num_campioni_da_generare-n_3)/n_3  \n",
    "full_3=oversample_3\n",
    "\n",
    "while num_campioni_da_generare>1:\n",
    "    oversample_3 = oversample_3.unionAll(full_3)\n",
    "    num_campioni_da_generare=num_campioni_da_generare-1.0\n",
    "    print(num_campioni_da_generare)\n",
    "    \n",
    "df_minority_oversampled = full_3.sample(True, num_campioni_da_generare, seed=42)\n",
    "\n",
    "oversample_3 = oversample_3.unionAll(df_minority_oversampled)"
   ]
  },
  {
   "cell_type": "code",
   "execution_count": 27,
   "metadata": {},
   "outputs": [
    {
     "name": "stderr",
     "output_type": "stream",
     "text": [
      "                                                                                \r"
     ]
    },
    {
     "name": "stdout",
     "output_type": "stream",
     "text": [
      "Class 0: 73994\n",
      "Class 1: 83020\n",
      "Class 2: 73987\n",
      "Class 3: 73830\n"
     ]
    },
    {
     "name": "stderr",
     "output_type": "stream",
     "text": [
      "                                                                                \r"
     ]
    }
   ],
   "source": [
    "class0_counts=oversample_0.count()\n",
    "class2_counts=oversample_2.count()\n",
    "class3_counts=oversample_3.count()\n",
    "class1_counts=under_1.count()\n",
    "print(f'Class 0: {class0_counts}\\nClass 1: {class1_counts}\\nClass 2: {class2_counts}\\nClass 3: {class3_counts}')"
   ]
  },
  {
   "cell_type": "code",
   "execution_count": 28,
   "metadata": {},
   "outputs": [],
   "source": [
    "train_und_over=oversample_0.unionAll(oversample_2).unionAll(oversample_3).unionAll(under_1)"
   ]
  },
  {
   "cell_type": "code",
   "execution_count": 29,
   "metadata": {},
   "outputs": [
    {
     "name": "stderr",
     "output_type": "stream",
     "text": [
      "23/12/14 22:20:43 WARN DAGScheduler: Broadcasting large task binary with size 1352.8 KiB\n",
      "23/12/14 22:21:00 WARN DAGScheduler: Broadcasting large task binary with size 1964.9 KiB\n",
      "23/12/14 22:21:00 WARN DAGScheduler: Broadcasting large task binary with size 1965.0 KiB\n",
      "23/12/14 22:21:16 WARN DAGScheduler: Broadcasting large task binary with size 1969.7 KiB\n",
      "23/12/14 22:21:30 WARN DAGScheduler: Broadcasting large task binary with size 1971.5 KiB\n",
      "23/12/14 22:21:43 WARN DAGScheduler: Broadcasting large task binary with size 1972.3 KiB\n",
      "23/12/14 22:21:44 WARN DAGScheduler: Broadcasting large task binary with size 1972.9 KiB\n",
      "23/12/14 22:21:45 WARN DAGScheduler: Broadcasting large task binary with size 1974.2 KiB\n",
      "23/12/14 22:21:46 WARN DAGScheduler: Broadcasting large task binary with size 1976.6 KiB\n",
      "                                                                                \r"
     ]
    }
   ],
   "source": [
    "from pyspark.ml.classification import DecisionTreeClassifier, RandomForestClassifier\n",
    "\n",
    "dt = DecisionTreeClassifier(labelCol=\"Severity\", featuresCol=\"features\")\n",
    "\n",
    "dt = dt.fit(train_und_over)"
   ]
  },
  {
   "cell_type": "code",
   "execution_count": 30,
   "metadata": {},
   "outputs": [
    {
     "data": {
      "text/plain": [
       "SparseVector(28, {0: 0.1057, 1: 0.0627, 2: 0.55, 3: 0.0001, 19: 0.0131, 20: 0.151, 21: 0.0861, 22: 0.0312})"
      ]
     },
     "execution_count": 30,
     "metadata": {},
     "output_type": "execute_result"
    }
   ],
   "source": [
    "dt.featureImportances"
   ]
  },
  {
   "cell_type": "code",
   "execution_count": 31,
   "metadata": {},
   "outputs": [
    {
     "name": "stderr",
     "output_type": "stream",
     "text": [
      "                                                                                \r"
     ]
    },
    {
     "name": "stdout",
     "output_type": "stream",
     "text": [
      "0.5796750514346674\n",
      "Test Error = 0.420325\n"
     ]
    },
    {
     "name": "stderr",
     "output_type": "stream",
     "text": [
      "[Stage 189:=================================================>       (7 + 1) / 8]\r"
     ]
    },
    {
     "name": "stdout",
     "output_type": "stream",
     "text": [
      "Precision for class  0 : 58.85%\n",
      "Recall for class  0 : 91.08%\n",
      "avg_F1-Score for class  0 : 71.50%\n",
      "----------------------------\n",
      "Precision for class  1 : 97.76%\n",
      "Recall for class  1 : 55.35%\n",
      "avg_F1-Score for class  1 : 70.68%\n",
      "----------------------------\n",
      "Precision for class  2 : 28.20%\n",
      "Recall for class  2 : 72.58%\n",
      "avg_F1-Score for class  2 : 40.62%\n",
      "----------------------------\n",
      "Precision for class  3 : 8.67%\n",
      "Recall for class  3 : 77.06%\n",
      "avg_F1-Score for class  3 : 15.59%\n",
      "----------------------------\n",
      "[0.715034598448312, 0.7067847751535935, 0.4061910645769656, 0.15594128963922094]\n",
      "----------------------\n",
      "avg_F1-Score: 49.60%\n"
     ]
    },
    {
     "name": "stderr",
     "output_type": "stream",
     "text": [
      "                                                                                \r"
     ]
    }
   ],
   "source": [
    "predictions = dt.transform(testData)\n",
    "evaluator = MulticlassClassificationEvaluator(labelCol=\"Severity\"\n",
    "                                              , predictionCol=\"prediction\"\n",
    "                                              , metricName=\"accuracy\")\n",
    "\n",
    "accuracy = evaluator.evaluate(predictions)\n",
    "print(accuracy)\n",
    "print(\"Test Error = %g\" % (1.0 - accuracy))\n",
    "from pyspark.mllib.evaluation import MulticlassMetrics\n",
    "# Calcolare precision, recall e F1-score\n",
    "predictionAndLabels = predictions.select(\"prediction\", \"Severity\").rdd.map(lambda x: (float(x[0]), float(x[1])))\n",
    "metrics = MulticlassMetrics(predictionAndLabels)\n",
    "\n",
    "list_avg=[]\n",
    "for i in range(4):\n",
    "    precision = metrics.precision(label=float(i))  \n",
    "    recall = metrics.recall(label=float(i))\n",
    "    f1Score= metrics.fMeasure(label=float(i)) # need .0\n",
    "    print(\"Precision for class \",i,\": {:.2%}\".format(precision))\n",
    "    print(\"Recall for class \",i,\": {:.2%}\".format(recall))\n",
    "    print(\"avg_F1-Score for class \",i,\": {:.2%}\".format(f1Score))\n",
    "    list_avg.append(f1Score)\n",
    "    print('----------------------------')\n",
    "sum_=0\n",
    "print(list_avg)\n",
    "for elem in list_avg:\n",
    "    sum_+=elem\n",
    "    \n",
    "avg_f1=sum_/4\n",
    "print('----------------------')\n",
    "    \n",
    "print(\"avg_F1-Score: {:.2%}\".format(avg_f1))\n",
    "    \n",
    "    \n"
   ]
  },
  {
   "cell_type": "code",
   "execution_count": 32,
   "metadata": {},
   "outputs": [
    {
     "data": {
      "text/plain": [
       "<AxesSubplot:>"
      ]
     },
     "execution_count": 32,
     "metadata": {},
     "output_type": "execute_result"
    },
    {
     "data": {
      "image/png": "[encoded data removed]",
      "text/plain": [
       "<Figure size 700x700 with 1 Axes>"
      ]
     },
     "metadata": {},
     "output_type": "display_data"
    }
   ],
   "source": [
    "import seaborn as sns\n",
    "import matplotlib.pyplot as plt\n",
    " \n",
    "labels = [\"0\", \"1\", \"2\", \"3\"]\n",
    "_ = plt.figure(figsize=(7, 7))\n",
    "sns.heatmap(metrics.confusionMatrix().toArray(),\n",
    "            cmap='viridis',\n",
    "            annot=True,fmt='0',\n",
    "            cbar=False, \n",
    "            xticklabels=labels, \n",
    "            yticklabels=labels)"
   ]
  },
  {
   "cell_type": "markdown",
   "metadata": {},
   "source": [
    "Train & Test a tuned DT with Severity Undersampling + Oversampling"
   ]
  },
  {
   "cell_type": "code",
   "execution_count": 33,
   "metadata": {},
   "outputs": [
    {
     "name": "stderr",
     "output_type": "stream",
     "text": [
      "23/12/14 22:23:45 WARN DAGScheduler: Broadcasting large task binary with size 1330.3 KiB\n",
      "                                                                                \r"
     ]
    }
   ],
   "source": [
    "n=train_und_over.count()\n",
    "max_depth=[5,15,10,25]\n",
    "max_bins=[32,64]\n",
    "min_inst=[round(0.005*n),round(0.02*n)]\n",
    "impurity=['entropy', 'gini']"
   ]
  },
  {
   "cell_type": "code",
   "execution_count": 34,
   "metadata": {},
   "outputs": [
    {
     "name": "stderr",
     "output_type": "stream",
     "text": [
      "23/12/14 22:24:46 WARN DAGScheduler: Broadcasting large task binary with size 1352.8 KiB\n",
      "23/12/14 22:25:02 WARN DAGScheduler: Broadcasting large task binary with size 1964.9 KiB\n",
      "23/12/14 22:25:02 WARN DAGScheduler: Broadcasting large task binary with size 1965.0 KiB\n",
      "23/12/14 22:25:18 WARN DAGScheduler: Broadcasting large task binary with size 1969.7 KiB\n",
      "23/12/14 22:25:32 WARN DAGScheduler: Broadcasting large task binary with size 1973.0 KiB\n",
      "23/12/14 22:25:46 WARN DAGScheduler: Broadcasting large task binary with size 1973.7 KiB\n",
      "23/12/14 22:25:47 WARN DAGScheduler: Broadcasting large task binary with size 1974.4 KiB\n",
      "23/12/14 22:25:48 WARN DAGScheduler: Broadcasting large task binary with size 1975.6 KiB\n",
      "23/12/14 22:25:49 WARN DAGScheduler: Broadcasting large task binary with size 1978.0 KiB\n",
      "23/12/14 22:25:49 WARN DAGScheduler: Broadcasting large task binary with size 1982.1 KiB\n",
      "23/12/14 22:25:50 WARN DAGScheduler: Broadcasting large task binary with size 1988.4 KiB\n",
      "23/12/14 22:25:51 WARN DAGScheduler: Broadcasting large task binary with size 1995.9 KiB\n",
      "23/12/14 22:25:52 WARN DAGScheduler: Broadcasting large task binary with size 2005.4 KiB\n",
      "23/12/14 22:25:53 WARN DAGScheduler: Broadcasting large task binary with size 2013.4 KiB\n",
      "23/12/14 22:25:54 WARN DAGScheduler: Broadcasting large task binary with size 2019.4 KiB\n",
      "23/12/14 22:25:55 WARN DAGScheduler: Broadcasting large task binary with size 2023.2 KiB\n",
      "23/12/14 22:25:56 WARN DAGScheduler: Broadcasting large task binary with size 2024.2 KiB\n",
      "23/12/14 22:25:57 WARN DAGScheduler: Broadcasting large task binary with size 2024.6 KiB\n",
      "/opt/anaconda3/lib/python3.9/site-packages/pyspark/sql/context.py:158: FutureWarning: Deprecated in 3.0.0. Use SparkSession.builder.getOrCreate() instead.\n",
      "  warnings.warn(\n"
     ]
    },
    {
     "name": "stdout",
     "output_type": "stream",
     "text": [
      "0.6498717308294739\n",
      "Test Error = 0.350128\n"
     ]
    },
    {
     "name": "stderr",
     "output_type": "stream",
     "text": [
      "[Stage 232:=======>                                                 (1 + 7) / 8]\r"
     ]
    },
    {
     "name": "stdout",
     "output_type": "stream",
     "text": [
      "Precision for class  0 : 59.62%\n",
      "Recall for class  0 : 88.11%\n",
      "avg_F1-Score for class  0 : 71.12%\n",
      "----------------------------\n",
      "Precision for class  1 : 97.97%\n",
      "Recall for class  1 : 63.19%\n",
      "avg_F1-Score for class  1 : 76.82%\n",
      "----------------------------\n",
      "Precision for class  2 : 28.49%\n",
      "Recall for class  2 : 79.32%\n",
      "avg_F1-Score for class  2 : 41.92%\n",
      "----------------------------\n",
      "Precision for class  3 : 10.59%\n",
      "Recall for class  3 : 73.83%\n",
      "avg_F1-Score for class  3 : 18.53%\n",
      "----------------------------\n",
      "[0.7112212999892206, 0.7682385855614202, 0.41918447555883076, 0.18527850747868974]\n",
      "----------------------\n",
      "avg_F1-Score: 52.10%\n"
     ]
    },
    {
     "name": "stderr",
     "output_type": "stream",
     "text": [
      "                                                                                \r"
     ]
    },
    {
     "data": {
      "text/plain": [
       "<AxesSubplot:>"
      ]
     },
     "execution_count": 34,
     "metadata": {},
     "output_type": "execute_result"
    },
    {
     "data": {
      "image/png": "[encoded data removed]",
      "text/plain": [
       "<Figure size 700x700 with 1 Axes>"
      ]
     },
     "metadata": {},
     "output_type": "display_data"
    }
   ],
   "source": [
    "dt = DecisionTreeClassifier(labelCol=\"Severity\", featuresCol=\"features\", maxDepth=15, maxBins=64, \n",
    "                            minInstancesPerNode=round(0.005*n), impurity='entropy')\n",
    "dt = dt.fit(train_und_over)\n",
    "predictions = dt.transform(testData)\n",
    "# Select (prediction, true label) and compute test error\n",
    "evaluator = MulticlassClassificationEvaluator(labelCol=\"Severity\"\n",
    "                                              , predictionCol=\"prediction\"\n",
    "                                              , metricName=\"accuracy\")\n",
    "\n",
    "accuracy = evaluator.evaluate(predictions)\n",
    "print(accuracy)\n",
    "print(\"Test Error = %g\" % (1.0 - accuracy))\n",
    "\n",
    "# Calcolare precision, recall e F1-score\n",
    "predictionAndLabels = predictions.select(\"prediction\", \"Severity\").rdd.map(lambda x: (float(x[0]), float(x[1])))\n",
    "metrics = MulticlassMetrics(predictionAndLabels)\n",
    "\n",
    "list_avg=[]\n",
    "for i in range(4):\n",
    "    precision = metrics.precision(label=float(i))  \n",
    "    recall = metrics.recall(label=float(i))\n",
    "    f1Score= metrics.fMeasure(label=float(i)) # need .0\n",
    "    print(\"Precision for class \",i,\": {:.2%}\".format(precision))\n",
    "    print(\"Recall for class \",i,\": {:.2%}\".format(recall))\n",
    "    print(\"avg_F1-Score for class \",i,\": {:.2%}\".format(f1Score))\n",
    "    list_avg.append(f1Score)\n",
    "    print('----------------------------')\n",
    "sum_=0\n",
    "print(list_avg)\n",
    "for elem in list_avg:\n",
    "    sum_+=elem\n",
    "\n",
    "avg_f1=sum_/4\n",
    "print('----------------------')\n",
    "\n",
    "print(\"avg_F1-Score: {:.2%}\".format(avg_f1))\n",
    "\n",
    "labels = [\"0\", \"1\", \"2\", \"3\"]\n",
    "_ = plt.figure(figsize=(7, 7))\n",
    "sns.heatmap(metrics.confusionMatrix().toArray(),\n",
    "            cmap='viridis',\n",
    "            annot=True,fmt='0',\n",
    "            cbar=False, \n",
    "            xticklabels=labels, \n",
    "            yticklabels=labels)"
   ]
  },
  {
   "cell_type": "markdown",
   "metadata": {},
   "source": [
    "# Train & Test DT with Working_Weekend target"
   ]
  },
  {
   "cell_type": "code",
   "execution_count": 4,
   "metadata": {},
   "outputs": [
    {
     "name": "stdout",
     "output_type": "stream",
     "text": [
      "+---------------+------+\n",
      "|Working_Weekend| count|\n",
      "+---------------+------+\n",
      "|              1| 82649|\n",
      "|              0|311870|\n",
      "+---------------+------+\n",
      "\n"
     ]
    }
   ],
   "source": [
    "ww_counts = df_DT_binary.groupBy(\"Working_Weekend\").count()\n",
    "ww_counts.show()"
   ]
  },
  {
   "cell_type": "code",
   "execution_count": 5,
   "metadata": {},
   "outputs": [
    {
     "name": "stdout",
     "output_type": "stream",
     "text": [
      "+-----------------------------------------------------------------------------------------------------------------+---------------+\n",
      "|features                                                                                                         |Working_Weekend|\n",
      "+-----------------------------------------------------------------------------------------------------------------+---------------+\n",
      "|(28,[0,1,2,4,5,6,18,21,22,24],[1.0,33.032551,-81.346909,30.0,93.0,10.0,1.0,3.0,6.0,1.0])                         |0              |\n",
      "|(28,[0,1,2,3,4,5,6,7,18,21,22,25],[1.0,33.023018,-81.274361,0.129,73.0,47.0,10.0,6.0,1.0,3.0,14.0,1.0])          |0              |\n",
      "|(28,[0,1,2,3,4,5,6,7,21,22,24],[1.0,33.023848,-81.33301800000002,0.122,82.0,15.0,10.0,7.0,3.0,14.0,1.0])         |0              |\n",
      "|(28,[0,1,2,4,5,6,21,22],[1.0,33.087425,-81.208588,46.0,100.0,0.25,3.0,7.0])                                      |0              |\n",
      "|(28,[0,1,2,4,5,6,18,21,22,24],[1.0,33.06987,-81.424118,59.0,94.0,10.0,1.0,3.0,6.0,1.0])                          |0              |\n",
      "|(28,[0,1,2,4,5,6,11,15,21,22,25],[1.0,32.920799,-81.23739599999998,41.0,87.0,10.0,1.0,1.0,3.0,6.0,1.0])          |0              |\n",
      "|(28,[0,1,2,3,4,5,6,21,22,25],[1.0,32.911909,-81.237579,0.616,41.0,87.0,10.0,3.0,6.0,1.0])                        |0              |\n",
      "|(28,[0,1,2,3,4,5,6,21,22,25],[1.0,32.804585695110305,-81.34368538817718,1.213,59.0,92.0,7.0,3.0,17.0,1.0])       |0              |\n",
      "|(28,[0,1,2,4,5,6,7,18,21,22,24],[1.0,33.14547,-81.519951,50.0,76.0,10.0,9.0,1.0,4.0,8.0,1.0])                    |0              |\n",
      "|(28,[1,2,4,5,6,21,22,24],[32.9389,-81.247276,45.0,93.0,10.0,4.0,6.0,1.0])                                        |0              |\n",
      "|(28,[0,1,2,3,4,5,6,7,21,22,24],[1.0,33.03021311744199,-81.22305035552395,0.423,68.0,40.0,10.0,7.0,4.0,9.0,1.0])  |0              |\n",
      "|(28,[0,1,2,3,4,5,6,7,21,22,24],[1.0,32.966290712199374,-81.24783396682145,1.666,70.0,56.0,10.0,6.0,4.0,11.0,1.0])|0              |\n",
      "|(28,[0,1,2,4,5,6,21,22,24],[1.0,33.048222,-81.315002,41.0,93.0,10.0,4.0,7.0,1.0])                                |0              |\n",
      "|(28,[0,1,2,3,4,5,6,7,8,21,22,26],[1.0,32.971668,-81.325263,0.507,70.0,94.0,10.0,7.0,0.08,4.0,16.0,1.0])          |0              |\n",
      "|(28,[0,1,2,3,4,5,6,7,21,22,25],[1.0,33.042212,-81.419471,0.389,73.0,47.0,10.0,3.0,4.0,13.0,1.0])                 |0              |\n",
      "|(28,[0,1,2,3,4,5,6,7,21,22,24],[1.0,32.996328000000005,-81.324656,0.216,73.0,53.0,10.0,8.0,4.0,11.0,1.0])        |0              |\n",
      "|(28,[0,1,2,3,4,5,6,7,21,22,24],[1.0,33.081761,-81.329436,0.947,75.0,19.0,10.0,17.0,4.0,16.0,1.0])                |0              |\n",
      "|(28,[0,1,2,3,4,5,6,7,21,22,24],[1.0,33.081761,-81.329436,0.053,75.0,19.0,10.0,17.0,4.0,16.0,1.0])                |0              |\n",
      "|(28,[0,1,2,3,4,5,6,7,21,22,24],[1.0,33.081761,-81.329436,0.434,75.0,19.0,10.0,17.0,4.0,16.0,1.0])                |0              |\n",
      "|(28,[0,1,2,3,4,5,6,7,21,22,24],[1.0,32.954487,-81.461396,0.12,75.0,24.0,10.0,9.0,4.0,15.0,1.0])                  |1              |\n",
      "+-----------------------------------------------------------------------------------------------------------------+---------------+\n",
      "only showing top 20 rows\n",
      "\n"
     ]
    }
   ],
   "source": [
    "num_col = [item[0] for item in df_class.dtypes if not item[1].startswith('string')]\n",
    "num_col.remove(\"Working_Weekend\")\n",
    "assembler = VectorAssembler(inputCols=num_col, outputCol=\"features\")\n",
    "\n",
    "output_dataset = assembler.transform(df_DT_binary)\n",
    "\n",
    "classificationData = output_dataset.select(\"features\", \"Working_Weekend\")\n",
    "\n",
    "classificationData.show(truncate=False)"
   ]
  },
  {
   "cell_type": "code",
   "execution_count": 6,
   "metadata": {},
   "outputs": [],
   "source": [
    "(trainingData, testData) = classificationData.randomSplit([0.7, 0.3],seed=0)"
   ]
  },
  {
   "cell_type": "code",
   "execution_count": 37,
   "metadata": {},
   "outputs": [
    {
     "name": "stdout",
     "output_type": "stream",
     "text": [
      "+---------------+------+\n",
      "|Working_Weekend| count|\n",
      "+---------------+------+\n",
      "|              1| 57814|\n",
      "|              0|218652|\n",
      "+---------------+------+\n",
      "\n"
     ]
    }
   ],
   "source": [
    "ww_counts_train= trainingData.groupBy(\"Working_Weekend\").count()\n",
    "ww_counts_train.show()"
   ]
  },
  {
   "cell_type": "code",
   "execution_count": 38,
   "metadata": {},
   "outputs": [
    {
     "name": "stdout",
     "output_type": "stream",
     "text": [
      "+---------------+-----+\n",
      "|Working_Weekend|count|\n",
      "+---------------+-----+\n",
      "|              1|24835|\n",
      "|              0|93218|\n",
      "+---------------+-----+\n",
      "\n"
     ]
    }
   ],
   "source": [
    "ww_counts_test= testData.groupBy(\"Working_Weekend\").count()\n",
    "ww_counts_test.show()"
   ]
  },
  {
   "cell_type": "code",
   "execution_count": 7,
   "metadata": {},
   "outputs": [
    {
     "name": "stderr",
     "output_type": "stream",
     "text": [
      "                                                                                \r"
     ]
    }
   ],
   "source": [
    "from pyspark.ml.classification import DecisionTreeClassifier, RandomForestClassifier\n",
    "\n",
    "dt = DecisionTreeClassifier(labelCol=\"Working_Weekend\", featuresCol=\"features\")\n",
    "\n",
    "dt = dt.fit(trainingData)"
   ]
  },
  {
   "cell_type": "code",
   "execution_count": 8,
   "metadata": {},
   "outputs": [
    {
     "data": {
      "text/plain": [
       "SparseVector(28, {0: 0.0786, 1: 0.0227, 3: 0.2868, 4: 0.1676, 5: 0.003, 7: 0.0042, 8: 0.0102, 22: 0.1774, 23: 0.2495})"
      ]
     },
     "execution_count": 8,
     "metadata": {},
     "output_type": "execute_result"
    }
   ],
   "source": [
    "dt.featureImportances"
   ]
  },
  {
   "cell_type": "code",
   "execution_count": 9,
   "metadata": {},
   "outputs": [],
   "source": [
    "predictions = dt.transform(testData)"
   ]
  },
  {
   "cell_type": "code",
   "execution_count": 10,
   "metadata": {},
   "outputs": [
    {
     "name": "stderr",
     "output_type": "stream",
     "text": [
      "[Stage 28:=======>                                                  (1 + 7) / 8]\r"
     ]
    },
    {
     "name": "stdout",
     "output_type": "stream",
     "text": [
      "0.7925002751648873\n",
      "Test Error = 0.2075\n"
     ]
    },
    {
     "name": "stderr",
     "output_type": "stream",
     "text": [
      "                                                                                \r"
     ]
    }
   ],
   "source": [
    "evaluator = MulticlassClassificationEvaluator(labelCol=\"Working_Weekend\"\n",
    "                                              , predictionCol=\"prediction\"\n",
    "                                              , metricName=\"accuracy\")\n",
    "\n",
    "accuracy = evaluator.evaluate(predictions)\n",
    "print(accuracy)\n",
    "print(\"Test Error = %g\" % (1.0 - accuracy))"
   ]
  },
  {
   "cell_type": "code",
   "execution_count": 11,
   "metadata": {},
   "outputs": [
    {
     "name": "stderr",
     "output_type": "stream",
     "text": [
      "/opt/anaconda3/lib/python3.9/site-packages/pyspark/sql/context.py:158: FutureWarning: Deprecated in 3.0.0. Use SparkSession.builder.getOrCreate() instead.\n",
      "  warnings.warn(\n",
      "[Stage 31:=======>                                                  (1 + 7) / 8]\r"
     ]
    },
    {
     "name": "stdout",
     "output_type": "stream",
     "text": [
      "Precision for class  0 : 79.43%\n",
      "Recall for class  0 : 99.49%\n",
      "avg_F1-Score for class  0 : 88.34%\n",
      "----------------------------\n",
      "Precision for class  1 : 62.84%\n",
      "Recall for class  1 : 3.24%\n",
      "avg_F1-Score for class  1 : 6.16%\n",
      "----------------------------\n",
      "[0.8833530061302973, 0.06164331112642622]\n",
      "----------------------\n",
      "avg_F1-Score: 47.25%\n"
     ]
    },
    {
     "name": "stderr",
     "output_type": "stream",
     "text": [
      "                                                                                \r"
     ]
    }
   ],
   "source": [
    "from pyspark.mllib.evaluation import MulticlassMetrics\n",
    "# Calcolare precision, recall e F1-score\n",
    "predictionAndLabels = predictions.select(\"prediction\", \"Working_Weekend\").rdd.map(lambda x: (float(x[0]), float(x[1])))\n",
    "metrics = MulticlassMetrics(predictionAndLabels)\n",
    "\n",
    "list_avg=[]\n",
    "for i in range(2):\n",
    "    precision = metrics.precision(label=float(i))  \n",
    "    recall = metrics.recall(label=float(i))\n",
    "    f1Score= metrics.fMeasure(label=float(i)) # need .0\n",
    "    print(\"Precision for class \",i,\": {:.2%}\".format(precision))\n",
    "    print(\"Recall for class \",i,\": {:.2%}\".format(recall))\n",
    "    print(\"avg_F1-Score for class \",i,\": {:.2%}\".format(f1Score))\n",
    "    list_avg.append(f1Score)\n",
    "    print('----------------------------')\n",
    "sum_=0\n",
    "print(list_avg)\n",
    "for elem in list_avg:\n",
    "    sum_+=elem\n",
    "\n",
    "avg_f1=sum_/2\n",
    "print('----------------------')\n",
    "\n",
    "print(\"avg_F1-Score: {:.2%}\".format(avg_f1))"
   ]
  },
  {
   "cell_type": "code",
   "execution_count": 12,
   "metadata": {},
   "outputs": [
    {
     "data": {
      "text/plain": [
       "<AxesSubplot:>"
      ]
     },
     "execution_count": 12,
     "metadata": {},
     "output_type": "execute_result"
    },
    {
     "data": {
      "image/png": "[encoded data removed]",
      "text/plain": [
       "<Figure size 700x700 with 1 Axes>"
      ]
     },
     "metadata": {},
     "output_type": "display_data"
    }
   ],
   "source": [
    "import seaborn as sns\n",
    "import matplotlib.pyplot as plt\n",
    "\n",
    "labels = [\"0\", \"1\"]\n",
    "_ = plt.figure(figsize=(7, 7))\n",
    "sns.heatmap(metrics.confusionMatrix().toArray(),\n",
    "            cmap='viridis',\n",
    "            annot=True,fmt='0',\n",
    "            cbar=False, \n",
    "            xticklabels=labels, \n",
    "            yticklabels=labels)"
   ]
  },
  {
   "cell_type": "markdown",
   "metadata": {},
   "source": [
    "Train & Test a tuned DT with Working_Weekend"
   ]
  },
  {
   "cell_type": "code",
   "execution_count": 13,
   "metadata": {},
   "outputs": [
    {
     "name": "stdout",
     "output_type": "stream",
     "text": [
      "CodeCache: size=131072Kb used=45464Kb max_used=45469Kb free=85607Kb\n",
      " bounds [0x000000010a9d8000, 0x000000010d698000, 0x00000001129d8000]\n",
      " total_blobs=15889 nmethods=14824 adapters=977\n",
      " compilation: disabled (not enough contiguous free space left)\n"
     ]
    },
    {
     "name": "stderr",
     "output_type": "stream",
     "text": [
      "Java HotSpot(TM) 64-Bit Server VM warning: CodeCache is full. Compiler has been disabled.\n",
      "Java HotSpot(TM) 64-Bit Server VM warning: Try increasing the code cache size using -XX:ReservedCodeCacheSize=\n",
      "                                                                                \r"
     ]
    }
   ],
   "source": [
    "n=trainingData.count()\n",
    "max_depth=[5,15,10,25]\n",
    "max_bins=[32,64]\n",
    "min_inst=[round(0.005*n),round(0.02*n)]\n",
    "impurity=['entropy', 'gini']"
   ]
  },
  {
   "cell_type": "code",
   "execution_count": 15,
   "metadata": {},
   "outputs": [
    {
     "name": "stderr",
     "output_type": "stream",
     "text": [
      "                                                                                \r"
     ]
    },
    {
     "name": "stdout",
     "output_type": "stream",
     "text": [
      "0.7912302833775008\n",
      "Test Error = 0.20877\n"
     ]
    },
    {
     "name": "stderr",
     "output_type": "stream",
     "text": [
      "/opt/anaconda3/lib/python3.9/site-packages/pyspark/sql/context.py:158: FutureWarning: Deprecated in 3.0.0. Use SparkSession.builder.getOrCreate() instead.\n",
      "  warnings.warn(\n",
      "[Stage 76:>                                                         (0 + 8) / 8]\r"
     ]
    },
    {
     "name": "stdout",
     "output_type": "stream",
     "text": [
      "Precision for class  0 : 79.90%\n",
      "Recall for class  0 : 98.29%\n",
      "avg_F1-Score for class  0 : 88.15%\n",
      "----------------------------\n",
      "Precision for class  1 : 52.66%\n",
      "Recall for class  1 : 7.13%\n",
      "avg_F1-Score for class  1 : 12.55%\n",
      "----------------------------\n",
      "[0.8814656001230627, 0.1255408184977658]\n",
      "----------------------\n",
      "avg_F1-Score: 50.35%\n"
     ]
    },
    {
     "name": "stderr",
     "output_type": "stream",
     "text": [
      "                                                                                \r"
     ]
    },
    {
     "data": {
      "text/plain": [
       "<AxesSubplot:>"
      ]
     },
     "execution_count": 15,
     "metadata": {},
     "output_type": "execute_result"
    },
    {
     "data": {
      "image/png": "[encoded data removed]",
      "text/plain": [
       "<Figure size 700x700 with 1 Axes>"
      ]
     },
     "metadata": {},
     "output_type": "display_data"
    }
   ],
   "source": [
    "dt = DecisionTreeClassifier(labelCol=\"Working_Weekend\", featuresCol=\"features\", maxDepth=15, maxBins=64, \n",
    "                            minInstancesPerNode=round(0.005*n), impurity='entropy')\n",
    "dt = dt.fit(trainingData)\n",
    "predictions = dt.transform(testData)\n",
    "# Select (prediction, true label) and compute test error\n",
    "evaluator = MulticlassClassificationEvaluator(labelCol=\"Working_Weekend\"\n",
    "                                              , predictionCol=\"prediction\"\n",
    "                                              , metricName=\"accuracy\")\n",
    "\n",
    "accuracy = evaluator.evaluate(predictions)\n",
    "print(accuracy)\n",
    "print(\"Test Error = %g\" % (1.0 - accuracy))\n",
    "\n",
    "# Calcolare precision, recall e F1-score\n",
    "predictionAndLabels = predictions.select(\"prediction\", \"Working_Weekend\").rdd.map(lambda x: (float(x[0]), float(x[1])))\n",
    "metrics = MulticlassMetrics(predictionAndLabels)\n",
    "\n",
    "list_avg=[]\n",
    "for i in range(2):\n",
    "    precision = metrics.precision(label=float(i))  \n",
    "    recall = metrics.recall(label=float(i))\n",
    "    f1Score= metrics.fMeasure(label=float(i)) # need .0\n",
    "    print(\"Precision for class \",i,\": {:.2%}\".format(precision))\n",
    "    print(\"Recall for class \",i,\": {:.2%}\".format(recall))\n",
    "    print(\"avg_F1-Score for class \",i,\": {:.2%}\".format(f1Score))\n",
    "    list_avg.append(f1Score)\n",
    "    print('----------------------------')\n",
    "sum_=0\n",
    "print(list_avg)\n",
    "for elem in list_avg:\n",
    "    sum_+=elem\n",
    "\n",
    "avg_f1=sum_/2\n",
    "print('----------------------')\n",
    "\n",
    "print(\"avg_F1-Score: {:.2%}\".format(avg_f1))\n",
    "\n",
    "labels = [\"0\", \"1\"]\n",
    "_ = plt.figure(figsize=(7, 7))\n",
    "sns.heatmap(metrics.confusionMatrix().toArray(),\n",
    "            cmap='viridis',\n",
    "            annot=True,fmt='0',\n",
    "            cbar=False, \n",
    "            xticklabels=labels, \n",
    "            yticklabels=labels)"
   ]
  }
 ],
 "metadata": {
  "kernelspec": {
   "display_name": "base",
   "language": "python",
   "name": "python3"
  },
  "language_info": {
   "codemirror_mode": {
    "name": "ipython",
    "version": 3
   },
   "file_extension": ".py",
   "mimetype": "text/x-python",
   "name": "python",
   "nbconvert_exporter": "python",
   "pygments_lexer": "ipython3",
   "version": "3.9.13"
  }
 },
 "nbformat": 4,
 "nbformat_minor": 2
}
