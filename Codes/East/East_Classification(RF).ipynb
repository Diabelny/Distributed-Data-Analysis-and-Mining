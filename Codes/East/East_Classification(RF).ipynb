{
 "cells": [
  {
   "cell_type": "code",
   "execution_count": 1,
   "metadata": {},
   "outputs": [],
   "source": [
    "import pandas as pd\n",
    "import matplotlib.pyplot as plt\n",
    "import seaborn as sns\n",
    "from pyspark.ml.feature import StringIndexer,OneHotEncoder\n",
    "from pyspark.sql import SQLContext, SparkSession, Row\n",
    "from pyspark.mllib.stat import Statistics\n",
    "from pyspark.ml import Pipeline\n",
    "from pyspark.ml.feature import VectorAssembler, MinMaxScaler, StandardScaler\n",
    "from pyspark.sql.functions import col\n",
    "\n",
    "from pyspark.mllib.regression import LabeledPoint\n",
    "from pyspark.ml.linalg import Vectors\n",
    "\n",
    "spark = SparkSession.Builder().appName('DDAM_Project_est').getOrCreate()\n",
    "df = spark.read.options(inferSchema = True, delimiter = ',', header = True).csv('../../Datasets/East_Incidents_Cleaned.csv')"
   ]
  },
  {
   "cell_type": "code",
   "execution_count": 2,
   "metadata": {},
   "outputs": [
    {
     "name": "stdout",
     "output_type": "stream",
     "text": [
      "+--------+-------------------+------------------+------------------+-----------+---------+---------+-----+-------------+-------------+-------------+--------------+--------------+----------------+-----------------+-------+-----+--------+--------+--------+-------+-------+----------+-------+-----+---------------+--------------+-----+---------------+----+------+---------------+---------------------+\n",
      "|Severity|         Start_Time|         Start_Lat|         Start_Lng|Distance_mi|     City|   County|State|Temperature_F|Humidity_perc|Visibility_mi|Wind_Direction|Wind_Speed_mph|Precipitation_in|Weather_Condition|Amenity| Bump|Crossing|Give_Way|Junction|No_Exit|Railway|Roundabout|Station| Stop|Traffic_Calming|Traffic_Signal|month|day_of_the_week|hour|season|Working_Weekend|Astronomical_Twilight|\n",
      "+--------+-------------------+------------------+------------------+-----------+---------+---------+-----+-------------+-------------+-------------+--------------+--------------+----------------+-----------------+-------+-----+--------+--------+--------+-------+-------+----------+-------+-----+---------------+--------------+-----+---------------+----+------+---------------+---------------------+\n",
      "|       2|2022-03-14 06:27:23|         33.032551|        -81.346909|        0.0|Allendale|Allendale|   SC|         30.0|         93.0|         10.0|          CALM|           0.0|             0.0|           Normal|  false|false|   false|   false|   false|  false|  false|     false|  false| true|          false|         false|    3|         Monday|   6|Spring|     WorkingDay|                  Day|\n",
      "|       2|2022-03-08 14:37:33|         33.023018|        -81.274361|      0.129|Allendale|Allendale|   SC|         73.0|         47.0|         10.0|             E|           6.0|             0.0|           Cloudy|  false|false|   false|   false|   false|  false|  false|     false|  false| true|          false|         false|    3|        Tuesday|  14|Spring|     WorkingDay|                  Day|\n",
      "|       2|2022-03-03 14:01:20|         33.023848|-81.33301800000002|      0.122|Allendale|Allendale|   SC|         82.0|         15.0|         10.0|             W|           7.0|             0.0|           Normal|  false|false|   false|   false|   false|  false|  false|     false|  false|false|          false|         false|    3|       Thursday|  14|Spring|     WorkingDay|                  Day|\n",
      "|       2|2022-03-18 07:23:27|         33.087425|        -81.208588|        0.0|    Ulmer|Allendale|   SC|         46.0|        100.0|         0.25|          CALM|           0.0|             0.0|            Foggy|  false|false|   false|   false|   false|  false|  false|     false|  false|false|          false|         false|    3|         Friday|   7|Spring|     WorkingDay|                  Day|\n",
      "|       2|2022-03-08 06:43:22|          33.06987|        -81.424118|        0.0|   Martin|Allendale|   SC|         59.0|         94.0|         10.0|          CALM|           0.0|             0.0|           Normal|  false|false|   false|   false|   false|  false|  false|     false|  false| true|          false|         false|    3|        Tuesday|   6|Spring|     WorkingDay|                  Day|\n",
      "|       2|2022-03-15 06:43:05|         32.920799|-81.23739599999998|        0.0|  Fairfax|Allendale|   SC|         41.0|         87.0|         10.0|          CALM|           0.0|             0.0|           Cloudy|  false|false|    true|   false|   false|  false|   true|     false|  false|false|          false|         false|    3|        Tuesday|   6|Spring|     WorkingDay|                  Day|\n",
      "|       2|2022-03-15 06:41:04|         32.911909|        -81.237579|      0.616|  Fairfax|Allendale|   SC|         41.0|         87.0|         10.0|          CALM|           0.0|             0.0|           Cloudy|  false|false|   false|   false|   false|  false|  false|     false|  false|false|          false|         false|    3|        Tuesday|   6|Spring|     WorkingDay|                  Day|\n",
      "|       2|2022-03-11 17:49:55|32.804585695110305|-81.34368538817718|      1.213|    Luray|Allendale|   SC|         59.0|         92.0|          7.0|          CALM|           0.0|             0.0|           Cloudy|  false|false|   false|   false|   false|  false|  false|     false|  false|false|          false|         false|    3|         Friday|  17|Spring|     WorkingDay|                  Day|\n",
      "|       2|2022-04-20 08:46:07|          33.14547|        -81.519951|        0.0|   Martin|Allendale|   SC|         50.0|         76.0|         10.0|           ENE|           9.0|             0.0|           Normal|  false|false|   false|   false|   false|  false|  false|     false|  false| true|          false|         false|    4|      Wednesday|   8|Spring|     WorkingDay|                  Day|\n",
      "|       1|2022-04-28 06:16:01|           32.9389|        -81.247276|        0.0|  Fairfax|Allendale|   SC|         45.0|         93.0|         10.0|          CALM|           0.0|             0.0|           Normal|  false|false|   false|   false|   false|  false|  false|     false|  false|false|          false|         false|    4|       Thursday|   6|Spring|     WorkingDay|                  Day|\n",
      "|       2|2022-04-28 09:55:51| 33.03021311744199|-81.22305035552395|      0.423|  Fairfax|Allendale|   SC|         68.0|         40.0|         10.0|            NE|           7.0|             0.0|           Normal|  false|false|   false|   false|   false|  false|  false|     false|  false|false|          false|         false|    4|       Thursday|   9|Spring|     WorkingDay|                  Day|\n",
      "|       2|2022-04-21 11:19:02|32.966290712199374|-81.24783396682145|      1.666|  Fairfax|Allendale|   SC|         70.0|         56.0|         10.0|           VAR|           6.0|             0.0|           Normal|  false|false|   false|   false|   false|  false|  false|     false|  false|false|          false|         false|    4|       Thursday|  11|Spring|     WorkingDay|                  Day|\n",
      "|       2|2022-04-11 07:04:06|         33.048222|        -81.315002|        0.0|Allendale|Allendale|   SC|         41.0|         93.0|         10.0|          CALM|           0.0|             0.0|           Normal|  false|false|   false|   false|   false|  false|  false|     false|  false|false|          false|         false|    4|         Monday|   7|Spring|     WorkingDay|                  Day|\n",
      "|       2|2022-04-05 16:58:16|         32.971668|        -81.325263|      0.507|Allendale|Allendale|   SC|         70.0|         94.0|         10.0|           VAR|           7.0|            0.08|             Rain|  false|false|   false|   false|   false|  false|  false|     false|  false|false|          false|         false|    4|        Tuesday|  16|Spring|     WorkingDay|                  Day|\n",
      "|       2|2022-04-21 13:28:37|         33.042212|        -81.419471|      0.389|Allendale|Allendale|   SC|         73.0|         47.0|         10.0|           WSW|           3.0|             0.0|           Cloudy|  false|false|   false|   false|   false|  false|  false|     false|  false|false|          false|         false|    4|       Thursday|  13|Spring|     WorkingDay|                  Day|\n",
      "|       2|2022-04-22 11:20:46|32.996328000000005|        -81.324656|      0.216|Allendale|Allendale|   SC|         73.0|         53.0|         10.0|           VAR|           8.0|             0.0|           Normal|  false|false|   false|   false|   false|  false|  false|     false|  false|false|          false|         false|    4|         Friday|  11|Spring|     WorkingDay|                  Day|\n",
      "|       2|2022-04-01 16:10:15|         33.081761|        -81.329436|      0.947|Allendale|Allendale|   SC|         75.0|         19.0|         10.0|           WSW|          17.0|             0.0|           Normal|  false|false|   false|   false|   false|  false|  false|     false|  false|false|          false|         false|    4|         Friday|  16|Spring|     WorkingDay|                  Day|\n",
      "|       2|2022-04-01 16:17:20|         33.081761|        -81.329436|      0.053|Allendale|Allendale|   SC|         75.0|         19.0|         10.0|           WSW|          17.0|             0.0|           Normal|  false|false|   false|   false|   false|  false|  false|     false|  false|false|          false|         false|    4|         Friday|  16|Spring|     WorkingDay|                  Day|\n",
      "|       2|2022-04-01 16:17:20|         33.081761|        -81.329436|      0.434|Allendale|Allendale|   SC|         75.0|         19.0|         10.0|           WSW|          17.0|             0.0|           Normal|  false|false|   false|   false|   false|  false|  false|     false|  false|false|          false|         false|    4|         Friday|  16|Spring|     WorkingDay|                  Day|\n",
      "|       2|2022-04-03 15:56:01|         32.954487|        -81.461396|       0.12|Allendale|Allendale|   SC|         75.0|         24.0|         10.0|             W|           9.0|             0.0|           Normal|  false|false|   false|   false|   false|  false|  false|     false|  false|false|          false|         false|    4|         Sunday|  15|Spring|        Weekend|                  Day|\n",
      "+--------+-------------------+------------------+------------------+-----------+---------+---------+-----+-------------+-------------+-------------+--------------+--------------+----------------+-----------------+-------+-----+--------+--------+--------+-------+-------+----------+-------+-----+---------------+--------------+-----+---------------+----+------+---------------+---------------------+\n",
      "only showing top 20 rows\n",
      "\n"
     ]
    }
   ],
   "source": [
    "df.show()"
   ]
  },
  {
   "cell_type": "markdown",
   "metadata": {},
   "source": [
    "Preparing data"
   ]
  },
  {
   "cell_type": "code",
   "execution_count": 3,
   "metadata": {},
   "outputs": [
    {
     "name": "stdout",
     "output_type": "stream",
     "text": [
      "+--------+------------------+------------------+-----------+-------------+-------------+-------------+--------------+----------------+-----------------+-------+-----+--------+--------+--------+-------+-------+----------+-------+-----+---------------+--------------+-----+----+---------------+---------------------+\n",
      "|Severity|         Start_Lat|         Start_Lng|Distance_mi|Temperature_F|Humidity_perc|Visibility_mi|Wind_Speed_mph|Precipitation_in|Weather_Condition|Amenity| Bump|Crossing|Give_Way|Junction|No_Exit|Railway|Roundabout|Station| Stop|Traffic_Calming|Traffic_Signal|month|hour|Working_Weekend|Astronomical_Twilight|\n",
      "+--------+------------------+------------------+-----------+-------------+-------------+-------------+--------------+----------------+-----------------+-------+-----+--------+--------+--------+-------+-------+----------+-------+-----+---------------+--------------+-----+----+---------------+---------------------+\n",
      "|       2|         33.032551|        -81.346909|        0.0|         30.0|         93.0|         10.0|           0.0|             0.0|           Normal|  false|false|   false|   false|   false|  false|  false|     false|  false| true|          false|         false|    3|   6|     WorkingDay|                  Day|\n",
      "|       2|         33.023018|        -81.274361|      0.129|         73.0|         47.0|         10.0|           6.0|             0.0|           Cloudy|  false|false|   false|   false|   false|  false|  false|     false|  false| true|          false|         false|    3|  14|     WorkingDay|                  Day|\n",
      "|       2|         33.023848|-81.33301800000002|      0.122|         82.0|         15.0|         10.0|           7.0|             0.0|           Normal|  false|false|   false|   false|   false|  false|  false|     false|  false|false|          false|         false|    3|  14|     WorkingDay|                  Day|\n",
      "|       2|         33.087425|        -81.208588|        0.0|         46.0|        100.0|         0.25|           0.0|             0.0|            Foggy|  false|false|   false|   false|   false|  false|  false|     false|  false|false|          false|         false|    3|   7|     WorkingDay|                  Day|\n",
      "|       2|          33.06987|        -81.424118|        0.0|         59.0|         94.0|         10.0|           0.0|             0.0|           Normal|  false|false|   false|   false|   false|  false|  false|     false|  false| true|          false|         false|    3|   6|     WorkingDay|                  Day|\n",
      "|       2|         32.920799|-81.23739599999998|        0.0|         41.0|         87.0|         10.0|           0.0|             0.0|           Cloudy|  false|false|    true|   false|   false|  false|   true|     false|  false|false|          false|         false|    3|   6|     WorkingDay|                  Day|\n",
      "|       2|         32.911909|        -81.237579|      0.616|         41.0|         87.0|         10.0|           0.0|             0.0|           Cloudy|  false|false|   false|   false|   false|  false|  false|     false|  false|false|          false|         false|    3|   6|     WorkingDay|                  Day|\n",
      "|       2|32.804585695110305|-81.34368538817718|      1.213|         59.0|         92.0|          7.0|           0.0|             0.0|           Cloudy|  false|false|   false|   false|   false|  false|  false|     false|  false|false|          false|         false|    3|  17|     WorkingDay|                  Day|\n",
      "|       2|          33.14547|        -81.519951|        0.0|         50.0|         76.0|         10.0|           9.0|             0.0|           Normal|  false|false|   false|   false|   false|  false|  false|     false|  false| true|          false|         false|    4|   8|     WorkingDay|                  Day|\n",
      "|       1|           32.9389|        -81.247276|        0.0|         45.0|         93.0|         10.0|           0.0|             0.0|           Normal|  false|false|   false|   false|   false|  false|  false|     false|  false|false|          false|         false|    4|   6|     WorkingDay|                  Day|\n",
      "|       2| 33.03021311744199|-81.22305035552395|      0.423|         68.0|         40.0|         10.0|           7.0|             0.0|           Normal|  false|false|   false|   false|   false|  false|  false|     false|  false|false|          false|         false|    4|   9|     WorkingDay|                  Day|\n",
      "|       2|32.966290712199374|-81.24783396682145|      1.666|         70.0|         56.0|         10.0|           6.0|             0.0|           Normal|  false|false|   false|   false|   false|  false|  false|     false|  false|false|          false|         false|    4|  11|     WorkingDay|                  Day|\n",
      "|       2|         33.048222|        -81.315002|        0.0|         41.0|         93.0|         10.0|           0.0|             0.0|           Normal|  false|false|   false|   false|   false|  false|  false|     false|  false|false|          false|         false|    4|   7|     WorkingDay|                  Day|\n",
      "|       2|         32.971668|        -81.325263|      0.507|         70.0|         94.0|         10.0|           7.0|            0.08|             Rain|  false|false|   false|   false|   false|  false|  false|     false|  false|false|          false|         false|    4|  16|     WorkingDay|                  Day|\n",
      "|       2|         33.042212|        -81.419471|      0.389|         73.0|         47.0|         10.0|           3.0|             0.0|           Cloudy|  false|false|   false|   false|   false|  false|  false|     false|  false|false|          false|         false|    4|  13|     WorkingDay|                  Day|\n",
      "|       2|32.996328000000005|        -81.324656|      0.216|         73.0|         53.0|         10.0|           8.0|             0.0|           Normal|  false|false|   false|   false|   false|  false|  false|     false|  false|false|          false|         false|    4|  11|     WorkingDay|                  Day|\n",
      "|       2|         33.081761|        -81.329436|      0.947|         75.0|         19.0|         10.0|          17.0|             0.0|           Normal|  false|false|   false|   false|   false|  false|  false|     false|  false|false|          false|         false|    4|  16|     WorkingDay|                  Day|\n",
      "|       2|         33.081761|        -81.329436|      0.053|         75.0|         19.0|         10.0|          17.0|             0.0|           Normal|  false|false|   false|   false|   false|  false|  false|     false|  false|false|          false|         false|    4|  16|     WorkingDay|                  Day|\n",
      "|       2|         33.081761|        -81.329436|      0.434|         75.0|         19.0|         10.0|          17.0|             0.0|           Normal|  false|false|   false|   false|   false|  false|  false|     false|  false|false|          false|         false|    4|  16|     WorkingDay|                  Day|\n",
      "|       2|         32.954487|        -81.461396|       0.12|         75.0|         24.0|         10.0|           9.0|             0.0|           Normal|  false|false|   false|   false|   false|  false|  false|     false|  false|false|          false|         false|    4|  15|        Weekend|                  Day|\n",
      "+--------+------------------+------------------+-----------+-------------+-------------+-------------+--------------+----------------+-----------------+-------+-----+--------+--------+--------+-------+-------+----------+-------+-----+---------------+--------------+-----+----+---------------+---------------------+\n",
      "only showing top 20 rows\n",
      "\n"
     ]
    }
   ],
   "source": [
    "to_drop=['Start_Time','City','County','State','Wind_Direction','day_of_the_week','season']\n",
    "df_class=df.drop(*to_drop)\n",
    "df_class.show()"
   ]
  },
  {
   "cell_type": "code",
   "execution_count": 4,
   "metadata": {},
   "outputs": [
    {
     "name": "stdout",
     "output_type": "stream",
     "text": [
      "+--------+------------------+------------------+-----------+-------------+-------------+-------------+--------------+----------------+-----------------+-------+----+--------+--------+--------+-------+-------+----------+-------+----+---------------+--------------+-----+----+---------------+---------------------+\n",
      "|Severity|         Start_Lat|         Start_Lng|Distance_mi|Temperature_F|Humidity_perc|Visibility_mi|Wind_Speed_mph|Precipitation_in|Weather_Condition|Amenity|Bump|Crossing|Give_Way|Junction|No_Exit|Railway|Roundabout|Station|Stop|Traffic_Calming|Traffic_Signal|month|hour|Working_Weekend|Astronomical_Twilight|\n",
      "+--------+------------------+------------------+-----------+-------------+-------------+-------------+--------------+----------------+-----------------+-------+----+--------+--------+--------+-------+-------+----------+-------+----+---------------+--------------+-----+----+---------------+---------------------+\n",
      "|       2|         33.032551|        -81.346909|        0.0|         30.0|         93.0|         10.0|           0.0|             0.0|           Normal|      0|   0|       0|       0|       0|      0|      0|         0|      0|   1|              0|             0|    3|   6|     WorkingDay|                  Day|\n",
      "|       2|         33.023018|        -81.274361|      0.129|         73.0|         47.0|         10.0|           6.0|             0.0|           Cloudy|      0|   0|       0|       0|       0|      0|      0|         0|      0|   1|              0|             0|    3|  14|     WorkingDay|                  Day|\n",
      "|       2|         33.023848|-81.33301800000002|      0.122|         82.0|         15.0|         10.0|           7.0|             0.0|           Normal|      0|   0|       0|       0|       0|      0|      0|         0|      0|   0|              0|             0|    3|  14|     WorkingDay|                  Day|\n",
      "|       2|         33.087425|        -81.208588|        0.0|         46.0|        100.0|         0.25|           0.0|             0.0|            Foggy|      0|   0|       0|       0|       0|      0|      0|         0|      0|   0|              0|             0|    3|   7|     WorkingDay|                  Day|\n",
      "|       2|          33.06987|        -81.424118|        0.0|         59.0|         94.0|         10.0|           0.0|             0.0|           Normal|      0|   0|       0|       0|       0|      0|      0|         0|      0|   1|              0|             0|    3|   6|     WorkingDay|                  Day|\n",
      "|       2|         32.920799|-81.23739599999998|        0.0|         41.0|         87.0|         10.0|           0.0|             0.0|           Cloudy|      0|   0|       1|       0|       0|      0|      1|         0|      0|   0|              0|             0|    3|   6|     WorkingDay|                  Day|\n",
      "|       2|         32.911909|        -81.237579|      0.616|         41.0|         87.0|         10.0|           0.0|             0.0|           Cloudy|      0|   0|       0|       0|       0|      0|      0|         0|      0|   0|              0|             0|    3|   6|     WorkingDay|                  Day|\n",
      "|       2|32.804585695110305|-81.34368538817718|      1.213|         59.0|         92.0|          7.0|           0.0|             0.0|           Cloudy|      0|   0|       0|       0|       0|      0|      0|         0|      0|   0|              0|             0|    3|  17|     WorkingDay|                  Day|\n",
      "|       2|          33.14547|        -81.519951|        0.0|         50.0|         76.0|         10.0|           9.0|             0.0|           Normal|      0|   0|       0|       0|       0|      0|      0|         0|      0|   1|              0|             0|    4|   8|     WorkingDay|                  Day|\n",
      "|       1|           32.9389|        -81.247276|        0.0|         45.0|         93.0|         10.0|           0.0|             0.0|           Normal|      0|   0|       0|       0|       0|      0|      0|         0|      0|   0|              0|             0|    4|   6|     WorkingDay|                  Day|\n",
      "|       2| 33.03021311744199|-81.22305035552395|      0.423|         68.0|         40.0|         10.0|           7.0|             0.0|           Normal|      0|   0|       0|       0|       0|      0|      0|         0|      0|   0|              0|             0|    4|   9|     WorkingDay|                  Day|\n",
      "|       2|32.966290712199374|-81.24783396682145|      1.666|         70.0|         56.0|         10.0|           6.0|             0.0|           Normal|      0|   0|       0|       0|       0|      0|      0|         0|      0|   0|              0|             0|    4|  11|     WorkingDay|                  Day|\n",
      "|       2|         33.048222|        -81.315002|        0.0|         41.0|         93.0|         10.0|           0.0|             0.0|           Normal|      0|   0|       0|       0|       0|      0|      0|         0|      0|   0|              0|             0|    4|   7|     WorkingDay|                  Day|\n",
      "|       2|         32.971668|        -81.325263|      0.507|         70.0|         94.0|         10.0|           7.0|            0.08|             Rain|      0|   0|       0|       0|       0|      0|      0|         0|      0|   0|              0|             0|    4|  16|     WorkingDay|                  Day|\n",
      "|       2|         33.042212|        -81.419471|      0.389|         73.0|         47.0|         10.0|           3.0|             0.0|           Cloudy|      0|   0|       0|       0|       0|      0|      0|         0|      0|   0|              0|             0|    4|  13|     WorkingDay|                  Day|\n",
      "|       2|32.996328000000005|        -81.324656|      0.216|         73.0|         53.0|         10.0|           8.0|             0.0|           Normal|      0|   0|       0|       0|       0|      0|      0|         0|      0|   0|              0|             0|    4|  11|     WorkingDay|                  Day|\n",
      "|       2|         33.081761|        -81.329436|      0.947|         75.0|         19.0|         10.0|          17.0|             0.0|           Normal|      0|   0|       0|       0|       0|      0|      0|         0|      0|   0|              0|             0|    4|  16|     WorkingDay|                  Day|\n",
      "|       2|         33.081761|        -81.329436|      0.053|         75.0|         19.0|         10.0|          17.0|             0.0|           Normal|      0|   0|       0|       0|       0|      0|      0|         0|      0|   0|              0|             0|    4|  16|     WorkingDay|                  Day|\n",
      "|       2|         33.081761|        -81.329436|      0.434|         75.0|         19.0|         10.0|          17.0|             0.0|           Normal|      0|   0|       0|       0|       0|      0|      0|         0|      0|   0|              0|             0|    4|  16|     WorkingDay|                  Day|\n",
      "|       2|         32.954487|        -81.461396|       0.12|         75.0|         24.0|         10.0|           9.0|             0.0|           Normal|      0|   0|       0|       0|       0|      0|      0|         0|      0|   0|              0|             0|    4|  15|        Weekend|                  Day|\n",
      "+--------+------------------+------------------+-----------+-------------+-------------+-------------+--------------+----------------+-----------------+-------+----+--------+--------+--------+-------+-------+----------+-------+----+---------------+--------------+-----+----+---------------+---------------------+\n",
      "only showing top 20 rows\n",
      "\n"
     ]
    }
   ],
   "source": [
    "colonne_booleane = ['Amenity', 'Bump', 'Crossing', 'Give_Way', 'Junction', 'No_Exit', 'Railway', 'Roundabout', 'Station', 'Stop', 'Traffic_Calming', 'Traffic_Signal']\n",
    "\n",
    "# Converti le colonne booleane in numeriche\n",
    "for col_name in colonne_booleane:\n",
    "    df_class = df_class.withColumn(col_name, col(col_name).cast(\"int\"))\n",
    "\n",
    "df_class.show()\n"
   ]
  },
  {
   "cell_type": "code",
   "execution_count": 5,
   "metadata": {},
   "outputs": [
    {
     "name": "stdout",
     "output_type": "stream",
     "text": [
      "+--------+------------------+------------------+-----------+-------------+-------------+-------------+--------------+----------------+-----------------+-------+----+--------+--------+--------+-------+-------+----------+-------+----+---------------+--------------+-----+----+---------------+---------------------+\n",
      "|Severity|         Start_Lat|         Start_Lng|Distance_mi|Temperature_F|Humidity_perc|Visibility_mi|Wind_Speed_mph|Precipitation_in|Weather_Condition|Amenity|Bump|Crossing|Give_Way|Junction|No_Exit|Railway|Roundabout|Station|Stop|Traffic_Calming|Traffic_Signal|month|hour|Working_Weekend|Astronomical_Twilight|\n",
      "+--------+------------------+------------------+-----------+-------------+-------------+-------------+--------------+----------------+-----------------+-------+----+--------+--------+--------+-------+-------+----------+-------+----+---------------+--------------+-----+----+---------------+---------------------+\n",
      "|       2|         33.032551|        -81.346909|        0.0|         30.0|         93.0|         10.0|           0.0|             0.0|           Normal|      0|   0|       0|       0|       0|      0|      0|         0|      0|   1|              0|             0|    3|   6|              0|                    0|\n",
      "|       2|         33.023018|        -81.274361|      0.129|         73.0|         47.0|         10.0|           6.0|             0.0|           Cloudy|      0|   0|       0|       0|       0|      0|      0|         0|      0|   1|              0|             0|    3|  14|              0|                    0|\n",
      "|       2|         33.023848|-81.33301800000002|      0.122|         82.0|         15.0|         10.0|           7.0|             0.0|           Normal|      0|   0|       0|       0|       0|      0|      0|         0|      0|   0|              0|             0|    3|  14|              0|                    0|\n",
      "|       2|         33.087425|        -81.208588|        0.0|         46.0|        100.0|         0.25|           0.0|             0.0|            Foggy|      0|   0|       0|       0|       0|      0|      0|         0|      0|   0|              0|             0|    3|   7|              0|                    0|\n",
      "|       2|          33.06987|        -81.424118|        0.0|         59.0|         94.0|         10.0|           0.0|             0.0|           Normal|      0|   0|       0|       0|       0|      0|      0|         0|      0|   1|              0|             0|    3|   6|              0|                    0|\n",
      "|       2|         32.920799|-81.23739599999998|        0.0|         41.0|         87.0|         10.0|           0.0|             0.0|           Cloudy|      0|   0|       1|       0|       0|      0|      1|         0|      0|   0|              0|             0|    3|   6|              0|                    0|\n",
      "|       2|         32.911909|        -81.237579|      0.616|         41.0|         87.0|         10.0|           0.0|             0.0|           Cloudy|      0|   0|       0|       0|       0|      0|      0|         0|      0|   0|              0|             0|    3|   6|              0|                    0|\n",
      "|       2|32.804585695110305|-81.34368538817718|      1.213|         59.0|         92.0|          7.0|           0.0|             0.0|           Cloudy|      0|   0|       0|       0|       0|      0|      0|         0|      0|   0|              0|             0|    3|  17|              0|                    0|\n",
      "|       2|          33.14547|        -81.519951|        0.0|         50.0|         76.0|         10.0|           9.0|             0.0|           Normal|      0|   0|       0|       0|       0|      0|      0|         0|      0|   1|              0|             0|    4|   8|              0|                    0|\n",
      "|       1|           32.9389|        -81.247276|        0.0|         45.0|         93.0|         10.0|           0.0|             0.0|           Normal|      0|   0|       0|       0|       0|      0|      0|         0|      0|   0|              0|             0|    4|   6|              0|                    0|\n",
      "|       2| 33.03021311744199|-81.22305035552395|      0.423|         68.0|         40.0|         10.0|           7.0|             0.0|           Normal|      0|   0|       0|       0|       0|      0|      0|         0|      0|   0|              0|             0|    4|   9|              0|                    0|\n",
      "|       2|32.966290712199374|-81.24783396682145|      1.666|         70.0|         56.0|         10.0|           6.0|             0.0|           Normal|      0|   0|       0|       0|       0|      0|      0|         0|      0|   0|              0|             0|    4|  11|              0|                    0|\n",
      "|       2|         33.048222|        -81.315002|        0.0|         41.0|         93.0|         10.0|           0.0|             0.0|           Normal|      0|   0|       0|       0|       0|      0|      0|         0|      0|   0|              0|             0|    4|   7|              0|                    0|\n",
      "|       2|         32.971668|        -81.325263|      0.507|         70.0|         94.0|         10.0|           7.0|            0.08|             Rain|      0|   0|       0|       0|       0|      0|      0|         0|      0|   0|              0|             0|    4|  16|              0|                    0|\n",
      "|       2|         33.042212|        -81.419471|      0.389|         73.0|         47.0|         10.0|           3.0|             0.0|           Cloudy|      0|   0|       0|       0|       0|      0|      0|         0|      0|   0|              0|             0|    4|  13|              0|                    0|\n",
      "|       2|32.996328000000005|        -81.324656|      0.216|         73.0|         53.0|         10.0|           8.0|             0.0|           Normal|      0|   0|       0|       0|       0|      0|      0|         0|      0|   0|              0|             0|    4|  11|              0|                    0|\n",
      "|       2|         33.081761|        -81.329436|      0.947|         75.0|         19.0|         10.0|          17.0|             0.0|           Normal|      0|   0|       0|       0|       0|      0|      0|         0|      0|   0|              0|             0|    4|  16|              0|                    0|\n",
      "|       2|         33.081761|        -81.329436|      0.053|         75.0|         19.0|         10.0|          17.0|             0.0|           Normal|      0|   0|       0|       0|       0|      0|      0|         0|      0|   0|              0|             0|    4|  16|              0|                    0|\n",
      "|       2|         33.081761|        -81.329436|      0.434|         75.0|         19.0|         10.0|          17.0|             0.0|           Normal|      0|   0|       0|       0|       0|      0|      0|         0|      0|   0|              0|             0|    4|  16|              0|                    0|\n",
      "|       2|         32.954487|        -81.461396|       0.12|         75.0|         24.0|         10.0|           9.0|             0.0|           Normal|      0|   0|       0|       0|       0|      0|      0|         0|      0|   0|              0|             0|    4|  15|              1|                    0|\n",
      "+--------+------------------+------------------+-----------+-------------+-------------+-------------+--------------+----------------+-----------------+-------+----+--------+--------+--------+-------+-------+----------+-------+----+---------------+--------------+-----+----+---------------+---------------------+\n",
      "only showing top 20 rows\n",
      "\n"
     ]
    }
   ],
   "source": [
    "from pyspark.sql.functions import when, count, isnull\n",
    "\n",
    "\n",
    "\n",
    "df_class = df_class.withColumn(\"Astronomical_Twilight\", when(df_class[\"Astronomical_Twilight\"] == 'Day', 0).otherwise(1))\n",
    "df_class = df_class.withColumn(\"Working_Weekend\", when(df_class[\"Working_Weekend\"] == 'WorkingDay', 0).otherwise(1))\n",
    "\n",
    "\n",
    "df_class.show()"
   ]
  },
  {
   "cell_type": "code",
   "execution_count": 6,
   "metadata": {},
   "outputs": [
    {
     "name": "stdout",
     "output_type": "stream",
     "text": [
      "+--------+------------------+------------------+-----------+-------------+-------------+-------------+--------------+----------------+-------+----+--------+--------+--------+-------+-------+----------+-------+----+---------------+--------------+-----+----+---------------+---------------------+----------------------+\n",
      "|Severity|         Start_Lat|         Start_Lng|Distance_mi|Temperature_F|Humidity_perc|Visibility_mi|Wind_Speed_mph|Precipitation_in|Amenity|Bump|Crossing|Give_Way|Junction|No_Exit|Railway|Roundabout|Station|Stop|Traffic_Calming|Traffic_Signal|month|hour|Working_Weekend|Astronomical_Twilight|Weather_Condition_1hot|\n",
      "+--------+------------------+------------------+-----------+-------------+-------------+-------------+--------------+----------------+-------+----+--------+--------+--------+-------+-------+----------+-------+----+---------------+--------------+-----+----+---------------+---------------------+----------------------+\n",
      "|       1|         33.032551|        -81.346909|        0.0|         30.0|         93.0|         10.0|           0.0|             0.0|      0|   0|       0|       0|       0|      0|      0|         0|      0|   1|              0|             0|    3|   6|              0|                    0|         (4,[0],[1.0])|\n",
      "|       1|         33.023018|        -81.274361|      0.129|         73.0|         47.0|         10.0|           6.0|             0.0|      0|   0|       0|       0|       0|      0|      0|         0|      0|   1|              0|             0|    3|  14|              0|                    0|         (4,[1],[1.0])|\n",
      "|       1|         33.023848|-81.33301800000002|      0.122|         82.0|         15.0|         10.0|           7.0|             0.0|      0|   0|       0|       0|       0|      0|      0|         0|      0|   0|              0|             0|    3|  14|              0|                    0|         (4,[0],[1.0])|\n",
      "|       1|         33.087425|        -81.208588|        0.0|         46.0|        100.0|         0.25|           0.0|             0.0|      0|   0|       0|       0|       0|      0|      0|         0|      0|   0|              0|             0|    3|   7|              0|                    0|             (4,[],[])|\n",
      "|       1|          33.06987|        -81.424118|        0.0|         59.0|         94.0|         10.0|           0.0|             0.0|      0|   0|       0|       0|       0|      0|      0|         0|      0|   1|              0|             0|    3|   6|              0|                    0|         (4,[0],[1.0])|\n",
      "|       1|         32.920799|-81.23739599999998|        0.0|         41.0|         87.0|         10.0|           0.0|             0.0|      0|   0|       1|       0|       0|      0|      1|         0|      0|   0|              0|             0|    3|   6|              0|                    0|         (4,[1],[1.0])|\n",
      "|       1|         32.911909|        -81.237579|      0.616|         41.0|         87.0|         10.0|           0.0|             0.0|      0|   0|       0|       0|       0|      0|      0|         0|      0|   0|              0|             0|    3|   6|              0|                    0|         (4,[1],[1.0])|\n",
      "|       1|32.804585695110305|-81.34368538817718|      1.213|         59.0|         92.0|          7.0|           0.0|             0.0|      0|   0|       0|       0|       0|      0|      0|         0|      0|   0|              0|             0|    3|  17|              0|                    0|         (4,[1],[1.0])|\n",
      "|       1|          33.14547|        -81.519951|        0.0|         50.0|         76.0|         10.0|           9.0|             0.0|      0|   0|       0|       0|       0|      0|      0|         0|      0|   1|              0|             0|    4|   8|              0|                    0|         (4,[0],[1.0])|\n",
      "|       0|           32.9389|        -81.247276|        0.0|         45.0|         93.0|         10.0|           0.0|             0.0|      0|   0|       0|       0|       0|      0|      0|         0|      0|   0|              0|             0|    4|   6|              0|                    0|         (4,[0],[1.0])|\n",
      "|       1| 33.03021311744199|-81.22305035552395|      0.423|         68.0|         40.0|         10.0|           7.0|             0.0|      0|   0|       0|       0|       0|      0|      0|         0|      0|   0|              0|             0|    4|   9|              0|                    0|         (4,[0],[1.0])|\n",
      "|       1|32.966290712199374|-81.24783396682145|      1.666|         70.0|         56.0|         10.0|           6.0|             0.0|      0|   0|       0|       0|       0|      0|      0|         0|      0|   0|              0|             0|    4|  11|              0|                    0|         (4,[0],[1.0])|\n",
      "|       1|         33.048222|        -81.315002|        0.0|         41.0|         93.0|         10.0|           0.0|             0.0|      0|   0|       0|       0|       0|      0|      0|         0|      0|   0|              0|             0|    4|   7|              0|                    0|         (4,[0],[1.0])|\n",
      "|       1|         32.971668|        -81.325263|      0.507|         70.0|         94.0|         10.0|           7.0|            0.08|      0|   0|       0|       0|       0|      0|      0|         0|      0|   0|              0|             0|    4|  16|              0|                    0|         (4,[2],[1.0])|\n",
      "|       1|         33.042212|        -81.419471|      0.389|         73.0|         47.0|         10.0|           3.0|             0.0|      0|   0|       0|       0|       0|      0|      0|         0|      0|   0|              0|             0|    4|  13|              0|                    0|         (4,[1],[1.0])|\n",
      "|       1|32.996328000000005|        -81.324656|      0.216|         73.0|         53.0|         10.0|           8.0|             0.0|      0|   0|       0|       0|       0|      0|      0|         0|      0|   0|              0|             0|    4|  11|              0|                    0|         (4,[0],[1.0])|\n",
      "|       1|         33.081761|        -81.329436|      0.947|         75.0|         19.0|         10.0|          17.0|             0.0|      0|   0|       0|       0|       0|      0|      0|         0|      0|   0|              0|             0|    4|  16|              0|                    0|         (4,[0],[1.0])|\n",
      "|       1|         33.081761|        -81.329436|      0.053|         75.0|         19.0|         10.0|          17.0|             0.0|      0|   0|       0|       0|       0|      0|      0|         0|      0|   0|              0|             0|    4|  16|              0|                    0|         (4,[0],[1.0])|\n",
      "|       1|         33.081761|        -81.329436|      0.434|         75.0|         19.0|         10.0|          17.0|             0.0|      0|   0|       0|       0|       0|      0|      0|         0|      0|   0|              0|             0|    4|  16|              0|                    0|         (4,[0],[1.0])|\n",
      "|       1|         32.954487|        -81.461396|       0.12|         75.0|         24.0|         10.0|           9.0|             0.0|      0|   0|       0|       0|       0|      0|      0|         0|      0|   0|              0|             0|    4|  15|              1|                    0|         (4,[0],[1.0])|\n",
      "+--------+------------------+------------------+-----------+-------------+-------------+-------------+--------------+----------------+-------+----+--------+--------+--------+-------+-------+----------+-------+----+---------------+--------------+-----+----+---------------+---------------------+----------------------+\n",
      "only showing top 20 rows\n",
      "\n"
     ]
    }
   ],
   "source": [
    "indexer = StringIndexer(inputCol=\"Weather_Condition\", outputCol=\"Weather_Condition_Indexed\")\n",
    "df_class = indexer.fit(df_class).transform(df_class)\n",
    "\n",
    "from pyspark.ml.feature import OneHotEncoder\n",
    "onehotencoder_vector = OneHotEncoder(inputCol=\"Weather_Condition_Indexed\", outputCol=\"Weather_Condition_1hot\")\n",
    "df_class = onehotencoder_vector.fit(df_class).transform(df_class)\n",
    "\n",
    "df_class=df_class.drop('Weather_Condition')\n",
    "#df_class.show()\n",
    "df_class=df_class.drop('Weather_Condition_Indexed')\n",
    "num_col = [item[0] for item in df_class.dtypes if not item[1].startswith('string')]\n",
    "num_col.remove(\"Severity\")\n",
    "\n",
    "df_rf= df_class.withColumn(\"Severity\", col(\"Severity\") - 1)\n",
    "df_rf.show()"
   ]
  },
  {
   "cell_type": "code",
   "execution_count": 7,
   "metadata": {},
   "outputs": [
    {
     "name": "stdout",
     "output_type": "stream",
     "text": [
      "+-----------------------------------------------------------------------------------------------------------+--------+\n",
      "|features                                                                                                   |Severity|\n",
      "+-----------------------------------------------------------------------------------------------------------+--------+\n",
      "|(28,[0,1,3,4,5,17,20,21,24],[33.032551,-81.346909,30.0,93.0,10.0,1.0,3.0,6.0,1.0])                         |1       |\n",
      "|(28,[0,1,2,3,4,5,6,17,20,21,25],[33.023018,-81.274361,0.129,73.0,47.0,10.0,6.0,1.0,3.0,14.0,1.0])          |1       |\n",
      "|(28,[0,1,2,3,4,5,6,20,21,24],[33.023848,-81.33301800000002,0.122,82.0,15.0,10.0,7.0,3.0,14.0,1.0])         |1       |\n",
      "|(28,[0,1,3,4,5,20,21],[33.087425,-81.208588,46.0,100.0,0.25,3.0,7.0])                                      |1       |\n",
      "|(28,[0,1,3,4,5,17,20,21,24],[33.06987,-81.424118,59.0,94.0,10.0,1.0,3.0,6.0,1.0])                          |1       |\n",
      "|(28,[0,1,3,4,5,10,14,20,21,25],[32.920799,-81.23739599999998,41.0,87.0,10.0,1.0,1.0,3.0,6.0,1.0])          |1       |\n",
      "|(28,[0,1,2,3,4,5,20,21,25],[32.911909,-81.237579,0.616,41.0,87.0,10.0,3.0,6.0,1.0])                        |1       |\n",
      "|(28,[0,1,2,3,4,5,20,21,25],[32.804585695110305,-81.34368538817718,1.213,59.0,92.0,7.0,3.0,17.0,1.0])       |1       |\n",
      "|(28,[0,1,3,4,5,6,17,20,21,24],[33.14547,-81.519951,50.0,76.0,10.0,9.0,1.0,4.0,8.0,1.0])                    |1       |\n",
      "|(28,[0,1,3,4,5,20,21,24],[32.9389,-81.247276,45.0,93.0,10.0,4.0,6.0,1.0])                                  |0       |\n",
      "|(28,[0,1,2,3,4,5,6,20,21,24],[33.03021311744199,-81.22305035552395,0.423,68.0,40.0,10.0,7.0,4.0,9.0,1.0])  |1       |\n",
      "|(28,[0,1,2,3,4,5,6,20,21,24],[32.966290712199374,-81.24783396682145,1.666,70.0,56.0,10.0,6.0,4.0,11.0,1.0])|1       |\n",
      "|(28,[0,1,3,4,5,20,21,24],[33.048222,-81.315002,41.0,93.0,10.0,4.0,7.0,1.0])                                |1       |\n",
      "|(28,[0,1,2,3,4,5,6,7,20,21,26],[32.971668,-81.325263,0.507,70.0,94.0,10.0,7.0,0.08,4.0,16.0,1.0])          |1       |\n",
      "|(28,[0,1,2,3,4,5,6,20,21,25],[33.042212,-81.419471,0.389,73.0,47.0,10.0,3.0,4.0,13.0,1.0])                 |1       |\n",
      "|(28,[0,1,2,3,4,5,6,20,21,24],[32.996328000000005,-81.324656,0.216,73.0,53.0,10.0,8.0,4.0,11.0,1.0])        |1       |\n",
      "|(28,[0,1,2,3,4,5,6,20,21,24],[33.081761,-81.329436,0.947,75.0,19.0,10.0,17.0,4.0,16.0,1.0])                |1       |\n",
      "|(28,[0,1,2,3,4,5,6,20,21,24],[33.081761,-81.329436,0.053,75.0,19.0,10.0,17.0,4.0,16.0,1.0])                |1       |\n",
      "|(28,[0,1,2,3,4,5,6,20,21,24],[33.081761,-81.329436,0.434,75.0,19.0,10.0,17.0,4.0,16.0,1.0])                |1       |\n",
      "|(28,[0,1,2,3,4,5,6,20,21,22,24],[32.954487,-81.461396,0.12,75.0,24.0,10.0,9.0,4.0,15.0,1.0,1.0])           |1       |\n",
      "+-----------------------------------------------------------------------------------------------------------+--------+\n",
      "only showing top 20 rows\n",
      "\n"
     ]
    }
   ],
   "source": [
    "assembler = VectorAssembler(inputCols=num_col, outputCol=\"features\")\n",
    "\n",
    "output_dataset = assembler.transform(df_rf)\n",
    "\n",
    "classificationData = output_dataset.select(\"features\", \"Severity\")\n",
    "\n",
    "classificationData.show(truncate=False)"
   ]
  },
  {
   "cell_type": "code",
   "execution_count": 8,
   "metadata": {},
   "outputs": [],
   "source": [
    "(trainingData, testData) = classificationData.randomSplit([0.7, 0.3],seed=0)"
   ]
  },
  {
   "cell_type": "code",
   "execution_count": 9,
   "metadata": {},
   "outputs": [
    {
     "name": "stdout",
     "output_type": "stream",
     "text": [
      "0.8936409917579392\n",
      "Test Error = 0.106359\n"
     ]
    },
    {
     "name": "stderr",
     "output_type": "stream",
     "text": [
      "/Applications/anaconda3/lib/python3.8/site-packages/pyspark/sql/context.py:158: FutureWarning: Deprecated in 3.0.0. Use SparkSession.builder.getOrCreate() instead.\n",
      "  warnings.warn(\n"
     ]
    },
    {
     "name": "stdout",
     "output_type": "stream",
     "text": [
      "Max Depth :  5\n",
      "Precision for class  0 : 74.83%\n",
      "Recall for class  0 : 2.87%\n",
      "avg_F1-Score for class  0 : 5.53%\n",
      "----------------------------\n",
      "Precision for class  1 : 89.38%\n",
      "Recall for class  1 : 99.98%\n",
      "avg_F1-Score for class  1 : 94.38%\n",
      "----------------------------\n",
      "Precision for class  2 : 0.00%\n",
      "Recall for class  2 : 0.00%\n",
      "avg_F1-Score for class  2 : 0.00%\n",
      "----------------------------\n",
      "Precision for class  3 : 0.00%\n",
      "Recall for class  3 : 0.00%\n",
      "avg_F1-Score for class  3 : 0.00%\n",
      "----------------------------\n",
      "[0.055325749741468463, 0.9438262621739617, 0.0, 0.0]\n",
      "----------------------\n",
      "avg_F1-Score: 24.98%\n",
      "0.9169525552082539\n",
      "Test Error = 0.0830474\n",
      "Max Depth :  10\n",
      "Precision for class  0 : 69.11%\n",
      "Recall for class  0 : 78.15%\n",
      "avg_F1-Score for class  0 : 73.35%\n",
      "----------------------------\n",
      "Precision for class  1 : 92.89%\n",
      "Recall for class  1 : 98.61%\n",
      "avg_F1-Score for class  1 : 95.66%\n",
      "----------------------------\n",
      "Precision for class  2 : 71.95%\n",
      "Recall for class  2 : 33.09%\n",
      "avg_F1-Score for class  2 : 45.34%\n",
      "----------------------------\n",
      "Precision for class  3 : 0.00%\n",
      "Recall for class  3 : 0.00%\n",
      "avg_F1-Score for class  3 : 0.00%\n",
      "----------------------------\n",
      "[0.733526521355676, 0.9566229690742521, 0.4533725298056508, 0.0]\n",
      "----------------------\n",
      "avg_F1-Score: 53.59%\n",
      "0.9212472364107647\n",
      "Test Error = 0.0787528\n",
      "Max Depth :  15\n",
      "Precision for class  0 : 70.57%\n",
      "Recall for class  0 : 82.26%\n",
      "avg_F1-Score for class  0 : 75.96%\n",
      "----------------------------\n",
      "Precision for class  1 : 93.64%\n",
      "Recall for class  1 : 98.28%\n",
      "avg_F1-Score for class  1 : 95.90%\n",
      "----------------------------\n",
      "Precision for class  2 : 70.23%\n",
      "Recall for class  2 : 49.00%\n",
      "avg_F1-Score for class  2 : 57.72%\n",
      "----------------------------\n",
      "Precision for class  3 : 24.11%\n",
      "Recall for class  3 : 0.72%\n",
      "avg_F1-Score for class  3 : 1.40%\n",
      "----------------------------\n",
      "[0.7596380314863022, 0.9590250811121036, 0.5772471910112359, 0.013991769547325101]\n",
      "----------------------\n",
      "avg_F1-Score: 57.75%\n",
      "0.9169864382946643\n",
      "Test Error = 0.0830136\n",
      "Max Depth :  20\n",
      "Precision for class  0 : 70.77%\n",
      "Recall for class  0 : 81.23%\n",
      "avg_F1-Score for class  0 : 75.64%\n",
      "----------------------------\n",
      "Precision for class  1 : 93.70%\n",
      "Recall for class  1 : 97.71%\n",
      "avg_F1-Score for class  1 : 95.66%\n",
      "----------------------------\n",
      "Precision for class  2 : 68.24%\n",
      "Recall for class  2 : 50.52%\n",
      "avg_F1-Score for class  2 : 58.06%\n",
      "----------------------------\n",
      "Precision for class  3 : 14.29%\n",
      "Recall for class  3 : 2.25%\n",
      "avg_F1-Score for class  3 : 3.88%\n",
      "----------------------------\n",
      "[0.7564054493188351, 0.9566230931760663, 0.5806274832168788, 0.038820728804248306]\n",
      "----------------------\n",
      "avg_F1-Score: 58.31%\n"
     ]
    }
   ],
   "source": [
    "from pyspark.ml import Pipeline\n",
    "from pyspark.ml.classification import RandomForestClassifier\n",
    "from pyspark.ml.feature import IndexToString, StringIndexer, VectorIndexer\n",
    "from pyspark.ml.evaluation import MulticlassClassificationEvaluator\n",
    "from pyspark.mllib.evaluation import MulticlassMetrics\n",
    " \n",
    " \n",
    "# Train a RandomForest model.\n",
    "for max_depth in range (5,21,5):\n",
    "    rf = RandomForestClassifier(labelCol=\"Severity\", featuresCol=\"features\", numTrees=5,maxDepth=max_depth)\n",
    "    \n",
    "    \n",
    "    # Train model.  This also runs the indexers.\n",
    "    model = rf.fit(trainingData)\n",
    "    \n",
    "    \n",
    "    # Make predictions.\n",
    "    predictions = model.transform(testData)\n",
    "    \n",
    "    evaluator = MulticlassClassificationEvaluator(labelCol=\"Severity\"\n",
    "                                                , predictionCol=\"prediction\"\n",
    "                                                , metricName=\"accuracy\")\n",
    "    \n",
    "    accuracy = evaluator.evaluate(predictions)\n",
    "    print(accuracy)\n",
    "    print(\"Test Error = %g\" % (1.0 - accuracy))\n",
    "    from pyspark.mllib.evaluation import MulticlassMetrics\n",
    "    # Calcolare precision, recall e F1-score\n",
    "    predictionAndLabels = predictions.select(\"prediction\", \"Severity\").rdd.map(lambda x: (float(x[0]), float(x[1])))\n",
    "    metrics = MulticlassMetrics(predictionAndLabels)\n",
    "    print(\"Max Depth : \",max_depth)\n",
    "    list_avg=[]\n",
    "    for i in range(4):\n",
    "        precision = metrics.precision(label=float(i))  \n",
    "        recall = metrics.recall(label=float(i))\n",
    "        f1Score= metrics.fMeasure(label=float(i)) # need .0\n",
    "        print(\"Precision for class \",i,\": {:.2%}\".format(precision))\n",
    "        print(\"Recall for class \",i,\": {:.2%}\".format(recall))\n",
    "        print(\"avg_F1-Score for class \",i,\": {:.2%}\".format(f1Score))\n",
    "        list_avg.append(f1Score)\n",
    "        print('----------------------------')\n",
    "    sum_=0\n",
    "    print(list_avg)\n",
    "    for elem in list_avg:\n",
    "        sum_+=elem\n",
    "    \n",
    "    avg_f1=sum_/4\n",
    "    print('----------------------')\n",
    "    \n",
    "    print(\"avg_F1-Score: {:.2%}\".format(avg_f1))\n",
    "    \n",
    "    "
   ]
  },
  {
   "cell_type": "markdown",
   "metadata": {},
   "source": [
    "Confusion Matrix Max_depth = 20"
   ]
  },
  {
   "cell_type": "code",
   "execution_count": 10,
   "metadata": {},
   "outputs": [],
   "source": [
    "rf = RandomForestClassifier(labelCol=\"Severity\", featuresCol=\"features\", numTrees=5,maxDepth=20)\n",
    "model = rf.fit(trainingData)\n",
    "predictions = model.transform(testData)\n",
    "# Calcolare precision, recall e F1-score\n",
    "predictionAndLabels = predictions.select(\"prediction\", \"Severity\").rdd.map(lambda x: (float(x[0]), float(x[1])))\n",
    "metrics = MulticlassMetrics(predictionAndLabels)\n",
    "\n",
    "\n",
    "\n"
   ]
  },
  {
   "cell_type": "code",
   "execution_count": 11,
   "metadata": {},
   "outputs": [
    {
     "data": {
      "text/plain": [
       "<AxesSubplot:>"
      ]
     },
     "execution_count": 11,
     "metadata": {},
     "output_type": "execute_result"
    },
    {
     "data": {
      "image/png": "[encoded data removed]",
      "text/plain": [
       "<Figure size 504x504 with 1 Axes>"
      ]
     },
     "metadata": {
      "needs_background": "light"
     },
     "output_type": "display_data"
    }
   ],
   "source": [
    "import seaborn as sns\n",
    "import matplotlib.pyplot as plt\n",
    " \n",
    "labels = [\"0\", \"1\", \"2\", \"3\"]\n",
    "_ = plt.figure(figsize=(7, 7))\n",
    "sns.heatmap(metrics.confusionMatrix().toArray(),\n",
    "            cmap='viridis',\n",
    "            annot=True,fmt='0',\n",
    "            cbar=False, \n",
    "            xticklabels=labels, \n",
    "            yticklabels=labels)"
   ]
  },
  {
   "cell_type": "code",
   "execution_count": 12,
   "metadata": {},
   "outputs": [
    {
     "data": {
      "text/plain": [
       "SparseVector(28, {0: 0.1027, 1: 0.0813, 2: 0.3543, 3: 0.0665, 4: 0.0535, 5: 0.0154, 6: 0.0428, 7: 0.0105, 8: 0.0021, 9: 0.0001, 10: 0.007, 11: 0.0024, 12: 0.0082, 13: 0.0006, 14: 0.0014, 16: 0.0018, 17: 0.0049, 18: 0.0004, 19: 0.0148, 20: 0.0974, 21: 0.0809, 22: 0.0218, 23: 0.0061, 24: 0.0088, 25: 0.0085, 26: 0.0044, 27: 0.0016})"
      ]
     },
     "execution_count": 12,
     "metadata": {},
     "output_type": "execute_result"
    }
   ],
   "source": [
    "model.featureImportances"
   ]
  },
  {
   "cell_type": "code",
   "execution_count": 13,
   "metadata": {},
   "outputs": [
    {
     "data": {
      "text/plain": [
       "[Row(prediction=0.0),\n",
       " Row(prediction=1.0),\n",
       " Row(prediction=3.0),\n",
       " Row(prediction=2.0)]"
      ]
     },
     "execution_count": 13,
     "metadata": {},
     "output_type": "execute_result"
    }
   ],
   "source": [
    "predictions.select('prediction').distinct().collect()"
   ]
  },
  {
   "cell_type": "code",
   "execution_count": 14,
   "metadata": {},
   "outputs": [
    {
     "name": "stdout",
     "output_type": "stream",
     "text": [
      "Counts of predictions in the test set:\n",
      "+----------+------+\n",
      "|prediction| count|\n",
      "+----------+------+\n",
      "|       0.0|  4276|\n",
      "|       1.0|109930|\n",
      "|       3.0|   742|\n",
      "|       2.0|  3105|\n",
      "+----------+------+\n",
      "\n"
     ]
    }
   ],
   "source": [
    "prediction_counts = predictions.groupBy(\"prediction\").count()\n",
    "\n",
    "# Stampare i risultati\n",
    "print(\"Counts of predictions in the test set:\")\n",
    "prediction_counts.show()"
   ]
  },
  {
   "cell_type": "code",
   "execution_count": 15,
   "metadata": {},
   "outputs": [
    {
     "name": "stdout",
     "output_type": "stream",
     "text": [
      "+--------+------+\n",
      "|Severity| count|\n",
      "+--------+------+\n",
      "|       1|105415|\n",
      "|       3|  4719|\n",
      "|       2|  4194|\n",
      "|       0|  3725|\n",
      "+--------+------+\n",
      "\n"
     ]
    }
   ],
   "source": [
    "prediction_counts = predictions.groupBy(\"Severity\").count()\n",
    "\n",
    "# Stampare i risultati\n",
    "prediction_counts.show()"
   ]
  },
  {
   "cell_type": "code",
   "execution_count": 16,
   "metadata": {},
   "outputs": [
    {
     "name": "stdout",
     "output_type": "stream",
     "text": [
      "+--------+------+\n",
      "|Severity| count|\n",
      "+--------+------+\n",
      "|       1|246643|\n",
      "|       3| 10918|\n",
      "|       2|  9968|\n",
      "|       0|  8937|\n",
      "+--------+------+\n",
      "\n"
     ]
    }
   ],
   "source": [
    "severity_counts_train= trainingData.groupBy(\"Severity\").count()\n",
    "\n",
    "# Mostra il risultato\n",
    "severity_counts_train.show()"
   ]
  },
  {
   "cell_type": "code",
   "execution_count": 17,
   "metadata": {},
   "outputs": [
    {
     "name": "stdout",
     "output_type": "stream",
     "text": [
      "+--------+------+\n",
      "|Severity| count|\n",
      "+--------+------+\n",
      "|       1|105415|\n",
      "|       3|  4719|\n",
      "|       2|  4194|\n",
      "|       0|  3725|\n",
      "+--------+------+\n",
      "\n"
     ]
    }
   ],
   "source": [
    "severity_counts_test= testData.groupBy(\"Severity\").count()\n",
    "\n",
    "# Mostra il risultato\n",
    "severity_counts_test.show()"
   ]
  },
  {
   "cell_type": "code",
   "execution_count": 18,
   "metadata": {},
   "outputs": [
    {
     "name": "stdout",
     "output_type": "stream",
     "text": [
      "DenseMatrix([[3.02600e+03, 5.77000e+02, 1.22000e+02, 0.00000e+00],\n",
      "             [9.26000e+02, 1.03002e+05, 8.55000e+02, 6.32000e+02],\n",
      "             [3.23000e+02, 1.74800e+03, 2.11900e+03, 4.00000e+00],\n",
      "             [1.00000e+00, 4.60300e+03, 9.00000e+00, 1.06000e+02]])\n"
     ]
    }
   ],
   "source": [
    "from pyspark.sql.types import FloatType\n",
    "from pyspark.mllib.evaluation import MulticlassMetrics\n",
    "\n",
    "from pyspark.sql import functions as F\n",
    "\n",
    "#important: need to cast to float type, and order by prediction, else it won't work\n",
    "preds_and_labels = predictions.select(['prediction','Severity']).withColumn('label', F.col('Severity').cast(FloatType())).orderBy('prediction')\n",
    "\n",
    "#select only prediction and label columns\n",
    "preds_and_labels = preds_and_labels.select(['prediction','label'])\n",
    "\n",
    "metrics = MulticlassMetrics(preds_and_labels.rdd.map(tuple))\n",
    "\n",
    "print(metrics.confusionMatrix())\n",
    "\n"
   ]
  },
  {
   "cell_type": "markdown",
   "metadata": {},
   "source": [
    "Undersampling"
   ]
  },
  {
   "cell_type": "code",
   "execution_count": 19,
   "metadata": {},
   "outputs": [
    {
     "name": "stdout",
     "output_type": "stream",
     "text": [
      "+--------+-----+\n",
      "|Severity|count|\n",
      "+--------+-----+\n",
      "|       1| 9971|\n",
      "|       3|10918|\n",
      "|       2| 9968|\n",
      "|       0| 8937|\n",
      "+--------+-----+\n",
      "\n"
     ]
    }
   ],
   "source": [
    "from pyspark.sql import functions as F\n",
    "\n",
    " \n",
    "g=trainingData.groupBy('Severity').agg(F.count('Severity').alias('Count'))\n",
    "\n",
    "g=g.sort('Severity')\n",
    "\n",
    "g_p=g.toPandas()\n",
    "\n",
    "n_0=g_p.iloc[0,1]\n",
    "\n",
    "n_1=g_p.iloc[1,1]\n",
    "\n",
    "n_2=g_p.iloc[2,1]\n",
    "\n",
    "n_3=g_p.iloc[3,1]\n",
    "\n",
    "und=(n_0+n_2+n_3)/3\n",
    "\n",
    "train_und = trainingData.sampleBy('Severity', fractions={0:1.0 ,1: und/n_1 , 2:1.0, 3:1.0})\n",
    "\n",
    "result_counts=train_und.groupBy(\"Severity\").count()\n",
    "\n",
    "result_counts.show()"
   ]
  },
  {
   "cell_type": "markdown",
   "metadata": {},
   "source": [
    "Training & Testing random forest with training Data sampled"
   ]
  },
  {
   "cell_type": "code",
   "execution_count": 20,
   "metadata": {},
   "outputs": [
    {
     "name": "stdout",
     "output_type": "stream",
     "text": [
      "0.42187830889515726\n",
      "Test Error = 0.578122\n",
      "Max Depth :  5\n",
      "Precision for class  0 : 41.63%\n",
      "Recall for class  0 : 77.53%\n",
      "avg_F1-Score for class  0 : 54.17%\n",
      "----------------------------\n",
      "Precision for class  1 : 97.94%\n",
      "Recall for class  1 : 37.88%\n",
      "avg_F1-Score for class  1 : 54.63%\n",
      "----------------------------\n",
      "Precision for class  2 : 25.17%\n",
      "Recall for class  2 : 71.72%\n",
      "avg_F1-Score for class  2 : 37.26%\n",
      "----------------------------\n",
      "Precision for class  3 : 6.81%\n",
      "Recall for class  3 : 84.30%\n",
      "avg_F1-Score for class  3 : 12.61%\n",
      "----------------------------\n",
      "[0.5417370099418496, 0.5463015535322164, 0.37264618434093166, 0.12605161842292884]\n",
      "----------------------\n",
      "avg_F1-Score: 39.67%\n",
      "0.5568261712959434\n",
      "Test Error = 0.443174\n",
      "Max Depth :  10\n",
      "Precision for class  0 : 54.97%\n",
      "Recall for class  0 : 89.72%\n",
      "avg_F1-Score for class  0 : 68.17%\n",
      "----------------------------\n",
      "Precision for class  1 : 97.90%\n",
      "Recall for class  1 : 52.53%\n",
      "avg_F1-Score for class  1 : 68.37%\n",
      "----------------------------\n",
      "Precision for class  2 : 34.22%\n",
      "Recall for class  2 : 75.44%\n",
      "avg_F1-Score for class  2 : 47.08%\n",
      "----------------------------\n",
      "Precision for class  3 : 8.36%\n",
      "Recall for class  3 : 81.75%\n",
      "avg_F1-Score for class  3 : 15.16%\n",
      "----------------------------\n",
      "[0.6816930137684855, 0.6837107648235498, 0.47083333333333327, 0.1516241230914343]\n",
      "----------------------\n",
      "avg_F1-Score: 49.70%\n",
      "0.6063547728562595\n",
      "Test Error = 0.393645\n",
      "Max Depth :  15\n",
      "Precision for class  0 : 59.19%\n",
      "Recall for class  0 : 91.57%\n",
      "avg_F1-Score for class  0 : 71.90%\n",
      "----------------------------\n",
      "Precision for class  1 : 97.96%\n",
      "Recall for class  1 : 58.00%\n",
      "avg_F1-Score for class  1 : 72.86%\n",
      "----------------------------\n",
      "Precision for class  2 : 31.46%\n",
      "Recall for class  2 : 79.26%\n",
      "avg_F1-Score for class  2 : 45.04%\n",
      "----------------------------\n",
      "Precision for class  3 : 9.43%\n",
      "Recall for class  3 : 78.51%\n",
      "avg_F1-Score for class  3 : 16.83%\n",
      "----------------------------\n",
      "[0.7190134907251265, 0.7286139032717437, 0.45040650406504074, 0.16830581234242623]\n",
      "----------------------\n",
      "avg_F1-Score: 51.66%\n",
      "0.6254987166781022\n",
      "Test Error = 0.374501\n",
      "Max Depth :  20\n",
      "Precision for class  0 : 57.59%\n",
      "Recall for class  0 : 91.06%\n",
      "avg_F1-Score for class  0 : 70.56%\n",
      "----------------------------\n",
      "Precision for class  1 : 97.87%\n",
      "Recall for class  1 : 60.25%\n",
      "avg_F1-Score for class  1 : 74.58%\n",
      "----------------------------\n",
      "Precision for class  2 : 29.49%\n",
      "Recall for class  2 : 80.26%\n",
      "avg_F1-Score for class  2 : 43.13%\n",
      "----------------------------\n",
      "Precision for class  3 : 9.96%\n",
      "Recall for class  3 : 75.67%\n",
      "avg_F1-Score for class  3 : 17.60%\n",
      "----------------------------\n",
      "[0.7055642225689027, 0.7458385443272093, 0.43131727319323426, 0.17604140990879963]\n",
      "----------------------\n",
      "avg_F1-Score: 51.47%\n"
     ]
    }
   ],
   "source": [
    "from pyspark.ml import Pipeline\n",
    "from pyspark.ml.classification import RandomForestClassifier\n",
    "from pyspark.ml.feature import IndexToString, StringIndexer, VectorIndexer\n",
    "from pyspark.ml.evaluation import MulticlassClassificationEvaluator\n",
    "from pyspark.mllib.evaluation import MulticlassMetrics\n",
    " \n",
    " \n",
    "# Train a RandomForest model.\n",
    "for max_depth in range (5,21,5):\n",
    "    rf = RandomForestClassifier(labelCol=\"Severity\", featuresCol=\"features\", numTrees=5,maxDepth=max_depth)\n",
    "    \n",
    "    \n",
    "    # Train model.  This also runs the indexers.\n",
    "    model = rf.fit(train_und)\n",
    "    \n",
    "    \n",
    "    # Make predictions.\n",
    "    predictions = model.transform(testData)\n",
    "    \n",
    "    evaluator = MulticlassClassificationEvaluator(labelCol=\"Severity\"\n",
    "                                                , predictionCol=\"prediction\"\n",
    "                                                , metricName=\"accuracy\")\n",
    "    \n",
    "    accuracy = evaluator.evaluate(predictions)\n",
    "    print(accuracy)\n",
    "    print(\"Test Error = %g\" % (1.0 - accuracy))\n",
    "    from pyspark.mllib.evaluation import MulticlassMetrics\n",
    "    # Calcolare precision, recall e F1-score\n",
    "    predictionAndLabels = predictions.select(\"prediction\", \"Severity\").rdd.map(lambda x: (float(x[0]), float(x[1])))\n",
    "    metrics = MulticlassMetrics(predictionAndLabels)\n",
    "    print(\"Max Depth : \",max_depth)\n",
    "    list_avg=[]\n",
    "    for i in range(4):\n",
    "        precision = metrics.precision(label=float(i))  \n",
    "        recall = metrics.recall(label=float(i))\n",
    "        f1Score= metrics.fMeasure(label=float(i)) # need .0\n",
    "        print(\"Precision for class \",i,\": {:.2%}\".format(precision))\n",
    "        print(\"Recall for class \",i,\": {:.2%}\".format(recall))\n",
    "        print(\"avg_F1-Score for class \",i,\": {:.2%}\".format(f1Score))\n",
    "        list_avg.append(f1Score)\n",
    "        print('----------------------------')\n",
    "    sum_=0\n",
    "    print(list_avg)\n",
    "    for elem in list_avg:\n",
    "        sum_+=elem\n",
    "    \n",
    "    avg_f1=sum_/4\n",
    "    print('----------------------')\n",
    "    \n",
    "    print(\"avg_F1-Score: {:.2%}\".format(avg_f1))\n",
    "    \n",
    "    "
   ]
  },
  {
   "cell_type": "markdown",
   "metadata": {},
   "source": [
    "Confusion Matrix MaxDepth=20"
   ]
  },
  {
   "cell_type": "code",
   "execution_count": 21,
   "metadata": {},
   "outputs": [],
   "source": [
    "rf = RandomForestClassifier(labelCol=\"Severity\", featuresCol=\"features\", numTrees=5,maxDepth=20)\n",
    "model = rf.fit(train_und)\n",
    "predictions = model.transform(testData)\n",
    "# Calcolare precision, recall e F1-score\n",
    "predictionAndLabels = predictions.select(\"prediction\", \"Severity\").rdd.map(lambda x: (float(x[0]), float(x[1])))\n",
    "metrics = MulticlassMetrics(predictionAndLabels)\n",
    "\n",
    "\n",
    "\n"
   ]
  },
  {
   "cell_type": "code",
   "execution_count": 22,
   "metadata": {},
   "outputs": [
    {
     "data": {
      "text/plain": [
       "<AxesSubplot:>"
      ]
     },
     "execution_count": 22,
     "metadata": {},
     "output_type": "execute_result"
    },
    {
     "data": {
      "image/png": "[encoded data removed]",
      "text/plain": [
       "<Figure size 504x504 with 1 Axes>"
      ]
     },
     "metadata": {
      "needs_background": "light"
     },
     "output_type": "display_data"
    }
   ],
   "source": [
    "import seaborn as sns\n",
    "import matplotlib.pyplot as plt\n",
    " \n",
    "labels = [\"0\", \"1\", \"2\", \"3\"]\n",
    "_ = plt.figure(figsize=(7, 7))\n",
    "sns.heatmap(metrics.confusionMatrix().toArray(),\n",
    "            cmap='viridis',\n",
    "            annot=True,fmt='0',\n",
    "            cbar=False, \n",
    "            xticklabels=labels, \n",
    "            yticklabels=labels)"
   ]
  },
  {
   "cell_type": "code",
   "execution_count": 23,
   "metadata": {},
   "outputs": [
    {
     "data": {
      "text/plain": [
       "SparseVector(28, {0: 0.1276, 1: 0.0962, 2: 0.3191, 3: 0.0581, 4: 0.0477, 5: 0.0112, 6: 0.0377, 7: 0.0083, 8: 0.0013, 10: 0.0075, 11: 0.0007, 12: 0.0073, 13: 0.0005, 14: 0.0005, 16: 0.0017, 17: 0.004, 18: 0.0001, 19: 0.0315, 20: 0.1078, 21: 0.0767, 22: 0.0217, 23: 0.0127, 24: 0.007, 25: 0.0075, 26: 0.0036, 27: 0.0019})"
      ]
     },
     "execution_count": 23,
     "metadata": {},
     "output_type": "execute_result"
    }
   ],
   "source": [
    "model.featureImportances"
   ]
  },
  {
   "cell_type": "markdown",
   "metadata": {},
   "source": [
    "Performing Undersampling(Severity=1) & Oversampling(Severity=0,2,3)"
   ]
  },
  {
   "cell_type": "code",
   "execution_count": 24,
   "metadata": {},
   "outputs": [],
   "source": [
    "under_1=trainingData.filter(col('Severity') == 1)\n",
    "under_1 = trainingData.sample(True, 0.3, seed=42)"
   ]
  },
  {
   "cell_type": "code",
   "execution_count": 25,
   "metadata": {},
   "outputs": [
    {
     "name": "stdout",
     "output_type": "stream",
     "text": [
      "6.279400246167618\n",
      "5.279400246167618\n",
      "4.279400246167618\n",
      "3.2794002461676177\n",
      "2.2794002461676177\n",
      "1.2794002461676177\n",
      "0.2794002461676177\n"
     ]
    }
   ],
   "source": [
    "oversample_0=trainingData.filter(col('Severity') == 0)\n",
    "num_campioni_da_generare = round(n_1*0.3)\n",
    "num_campioni_da_generare=(num_campioni_da_generare-n_0)/n_0 \n",
    "full_0=oversample_0\n",
    "\n",
    "while num_campioni_da_generare>1:\n",
    "    oversample_0 = oversample_0.unionAll(full_0)\n",
    "    num_campioni_da_generare=num_campioni_da_generare-1.0\n",
    "    print(num_campioni_da_generare)\n",
    "    \n",
    "df_minority_oversampled = full_0.sample(True, num_campioni_da_generare, seed=42)\n",
    "\n",
    "oversample_0 = oversample_0.unionAll(df_minority_oversampled)"
   ]
  },
  {
   "cell_type": "code",
   "execution_count": 26,
   "metadata": {},
   "outputs": [
    {
     "name": "stdout",
     "output_type": "stream",
     "text": [
      "5.423053772070626\n",
      "4.423053772070626\n",
      "3.4230537720706264\n",
      "2.4230537720706264\n",
      "1.4230537720706264\n",
      "0.42305377207062644\n"
     ]
    }
   ],
   "source": [
    "oversample_2=trainingData.filter(col('Severity') == 2)\n",
    "num_campioni_da_generare = round(n_1*0.3)\n",
    "num_campioni_da_generare=(num_campioni_da_generare-n_2)/n_2\n",
    "full_2=oversample_2\n",
    "\n",
    "while num_campioni_da_generare>1:\n",
    "    oversample_2 = oversample_2.unionAll(full_2)\n",
    "    num_campioni_da_generare=num_campioni_da_generare-1.0\n",
    "    print(num_campioni_da_generare)\n",
    "    \n",
    "df_minority_oversampled = full_2.sample(True, num_campioni_da_generare, seed=42)\n",
    "\n",
    "oversample_2 = oversample_2.unionAll(df_minority_oversampled)"
   ]
  },
  {
   "cell_type": "code",
   "execution_count": 27,
   "metadata": {},
   "outputs": [
    {
     "name": "stdout",
     "output_type": "stream",
     "text": [
      "4.777156988459425\n",
      "3.777156988459425\n",
      "2.777156988459425\n",
      "1.7771569884594252\n",
      "0.7771569884594252\n"
     ]
    }
   ],
   "source": [
    "oversample_3=trainingData.filter(col('Severity') == 3)\n",
    "num_campioni_da_generare = round(n_1*0.3)\n",
    "num_campioni_da_generare=(num_campioni_da_generare-n_3)/n_3  \n",
    "full_3=oversample_3\n",
    "\n",
    "while num_campioni_da_generare>1:\n",
    "    oversample_3 = oversample_3.unionAll(full_3)\n",
    "    num_campioni_da_generare=num_campioni_da_generare-1.0\n",
    "    print(num_campioni_da_generare)\n",
    "    \n",
    "df_minority_oversampled = full_3.sample(True, num_campioni_da_generare, seed=42)\n",
    "\n",
    "oversample_3 = oversample_3.unionAll(df_minority_oversampled)"
   ]
  },
  {
   "cell_type": "code",
   "execution_count": 28,
   "metadata": {},
   "outputs": [
    {
     "name": "stdout",
     "output_type": "stream",
     "text": [
      "Class 0: 73974\n",
      "Class 1: 82835\n",
      "Class 2: 73977\n",
      "Class 3: 73914\n"
     ]
    }
   ],
   "source": [
    "class0_counts=oversample_0.count()\n",
    "class2_counts=oversample_2.count()\n",
    "class3_counts=oversample_3.count()\n",
    "class1_counts=under_1.count()\n",
    "print(f'Class 0: {class0_counts}\\nClass 1: {class1_counts}\\nClass 2: {class2_counts}\\nClass 3: {class3_counts}')"
   ]
  },
  {
   "cell_type": "code",
   "execution_count": 29,
   "metadata": {},
   "outputs": [],
   "source": [
    "train_und_over=oversample_0.unionAll(oversample_2).unionAll(oversample_3).unionAll(under_1)"
   ]
  },
  {
   "cell_type": "code",
   "execution_count": 30,
   "metadata": {},
   "outputs": [
    {
     "name": "stdout",
     "output_type": "stream",
     "text": [
      "+--------+-----+\n",
      "|Severity|Count|\n",
      "+--------+-----+\n",
      "|       0|76682|\n",
      "|       1|73872|\n",
      "|       2|77029|\n",
      "|       3|77117|\n",
      "+--------+-----+\n",
      "\n"
     ]
    }
   ],
   "source": [
    "g=train_und_over.groupBy('Severity').agg(F.count('Severity').alias('Count'))\n",
    "g=g.sort('Severity')\n",
    "g.show()"
   ]
  },
  {
   "cell_type": "code",
   "execution_count": 31,
   "metadata": {},
   "outputs": [
    {
     "name": "stdout",
     "output_type": "stream",
     "text": [
      "0.697889930793796\n",
      "Test Error = 0.30211\n",
      "Precision for class  0 : 59.35%\n",
      "Recall for class  0 : 91.84%\n",
      "avg_F1-Score for class  0 : 72.10%\n",
      "----------------------------\n",
      "Precision for class  1 : 97.79%\n",
      "Recall for class  1 : 68.52%\n",
      "avg_F1-Score for class  1 : 80.58%\n",
      "----------------------------\n",
      "Precision for class  2 : 36.92%\n",
      "Recall for class  2 : 77.28%\n",
      "avg_F1-Score for class  2 : 49.97%\n",
      "----------------------------\n",
      "Precision for class  3 : 11.78%\n",
      "Recall for class  3 : 74.04%\n",
      "avg_F1-Score for class  3 : 20.33%\n",
      "----------------------------\n",
      "[0.7210454210138055, 0.8058144658824056, 0.4996531257226548, 0.20333459423283964]\n",
      "----------------------\n",
      "avg_F1-Score: 55.75%\n"
     ]
    }
   ],
   "source": [
    "from pyspark.ml import Pipeline\n",
    "from pyspark.ml.classification import RandomForestClassifier\n",
    "from pyspark.ml.feature import IndexToString, StringIndexer, VectorIndexer\n",
    "from pyspark.ml.evaluation import MulticlassClassificationEvaluator\n",
    "from pyspark.mllib.evaluation import MulticlassMetrics\n",
    " \n",
    "# Train a RandomForest model.\n",
    "rf = RandomForestClassifier(labelCol=\"Severity\", featuresCol=\"features\", numTrees=5,maxDepth=15)\n",
    " \n",
    " \n",
    "# Train model.  This also runs the indexers.\n",
    "model = rf.fit(train_und_over)\n",
    " \n",
    " \n",
    "# Make predictions.\n",
    "predictions = model.transform(testData)\n",
    " \n",
    "evaluator = MulticlassClassificationEvaluator(labelCol=\"Severity\"\n",
    "                                              , predictionCol=\"prediction\"\n",
    "                                              , metricName=\"accuracy\")\n",
    " \n",
    "accuracy = evaluator.evaluate(predictions)\n",
    "print(accuracy)\n",
    "print(\"Test Error = %g\" % (1.0 - accuracy))\n",
    "from pyspark.mllib.evaluation import MulticlassMetrics\n",
    "# Calcolare precision, recall e F1-score\n",
    "predictionAndLabels = predictions.select(\"prediction\", \"Severity\").rdd.map(lambda x: (float(x[0]), float(x[1])))\n",
    "metrics = MulticlassMetrics(predictionAndLabels)\n",
    " \n",
    "list_avg=[]\n",
    "for i in range(4):\n",
    "    precision = metrics.precision(label=float(i))  \n",
    "    recall = metrics.recall(label=float(i))\n",
    "    f1Score= metrics.fMeasure(label=float(i)) # need .0\n",
    "    print(\"Precision for class \",i,\": {:.2%}\".format(precision))\n",
    "    print(\"Recall for class \",i,\": {:.2%}\".format(recall))\n",
    "    print(\"avg_F1-Score for class \",i,\": {:.2%}\".format(f1Score))\n",
    "    list_avg.append(f1Score)\n",
    "    print('----------------------------')\n",
    "sum_=0\n",
    "print(list_avg)\n",
    "for elem in list_avg:\n",
    "    sum_+=elem\n",
    " \n",
    "avg_f1=sum_/4\n",
    "print('----------------------')\n",
    " \n",
    "print(\"avg_F1-Score: {:.2%}\".format(avg_f1))"
   ]
  },
  {
   "cell_type": "code",
   "execution_count": 32,
   "metadata": {},
   "outputs": [
    {
     "data": {
      "text/plain": [
       "<AxesSubplot:>"
      ]
     },
     "execution_count": 32,
     "metadata": {},
     "output_type": "execute_result"
    },
    {
     "data": {
      "image/png": "[encoded data removed]",
      "text/plain": [
       "<Figure size 504x504 with 1 Axes>"
      ]
     },
     "metadata": {
      "needs_background": "light"
     },
     "output_type": "display_data"
    }
   ],
   "source": [
    "import seaborn as sns\n",
    "import matplotlib.pyplot as plt\n",
    " \n",
    "labels = [\"0\", \"1\", \"2\", \"3\"]\n",
    "_ = plt.figure(figsize=(7, 7))\n",
    "sns.heatmap(metrics.confusionMatrix().toArray(),\n",
    "            cmap='viridis',\n",
    "            annot=True,fmt='0',\n",
    "            cbar=False, \n",
    "            xticklabels=labels, \n",
    "            yticklabels=labels)"
   ]
  },
  {
   "cell_type": "code",
   "execution_count": 33,
   "metadata": {},
   "outputs": [
    {
     "data": {
      "text/plain": [
       "SparseVector(28, {0: 0.1269, 1: 0.092, 2: 0.3647, 3: 0.053, 4: 0.0279, 5: 0.0067, 6: 0.0216, 7: 0.0051, 8: 0.0007, 9: 0.0, 10: 0.0076, 11: 0.0006, 12: 0.0058, 13: 0.0001, 14: 0.0005, 16: 0.0012, 17: 0.0037, 18: 0.0, 19: 0.0472, 20: 0.1193, 21: 0.0716, 22: 0.0198, 23: 0.0129, 24: 0.0035, 25: 0.0038, 26: 0.0022, 27: 0.0015})"
      ]
     },
     "execution_count": 33,
     "metadata": {},
     "output_type": "execute_result"
    }
   ],
   "source": [
    "model.featureImportances"
   ]
  },
  {
   "cell_type": "markdown",
   "metadata": {},
   "source": [
    "### Classificazione binaria "
   ]
  },
  {
   "cell_type": "code",
   "execution_count": 34,
   "metadata": {},
   "outputs": [
    {
     "name": "stdout",
     "output_type": "stream",
     "text": [
      "+-----------------------------------------------------------------------------------------------------------------+---------------+\n",
      "|features                                                                                                         |Working_Weekend|\n",
      "+-----------------------------------------------------------------------------------------------------------------+---------------+\n",
      "|(28,[0,1,2,4,5,6,18,21,22,24],[1.0,33.032551,-81.346909,30.0,93.0,10.0,1.0,3.0,6.0,1.0])                         |0              |\n",
      "|(28,[0,1,2,3,4,5,6,7,18,21,22,25],[1.0,33.023018,-81.274361,0.129,73.0,47.0,10.0,6.0,1.0,3.0,14.0,1.0])          |0              |\n",
      "|(28,[0,1,2,3,4,5,6,7,21,22,24],[1.0,33.023848,-81.33301800000002,0.122,82.0,15.0,10.0,7.0,3.0,14.0,1.0])         |0              |\n",
      "|(28,[0,1,2,4,5,6,21,22],[1.0,33.087425,-81.208588,46.0,100.0,0.25,3.0,7.0])                                      |0              |\n",
      "|(28,[0,1,2,4,5,6,18,21,22,24],[1.0,33.06987,-81.424118,59.0,94.0,10.0,1.0,3.0,6.0,1.0])                          |0              |\n",
      "|(28,[0,1,2,4,5,6,11,15,21,22,25],[1.0,32.920799,-81.23739599999998,41.0,87.0,10.0,1.0,1.0,3.0,6.0,1.0])          |0              |\n",
      "|(28,[0,1,2,3,4,5,6,21,22,25],[1.0,32.911909,-81.237579,0.616,41.0,87.0,10.0,3.0,6.0,1.0])                        |0              |\n",
      "|(28,[0,1,2,3,4,5,6,21,22,25],[1.0,32.804585695110305,-81.34368538817718,1.213,59.0,92.0,7.0,3.0,17.0,1.0])       |0              |\n",
      "|(28,[0,1,2,4,5,6,7,18,21,22,24],[1.0,33.14547,-81.519951,50.0,76.0,10.0,9.0,1.0,4.0,8.0,1.0])                    |0              |\n",
      "|(28,[1,2,4,5,6,21,22,24],[32.9389,-81.247276,45.0,93.0,10.0,4.0,6.0,1.0])                                        |0              |\n",
      "|(28,[0,1,2,3,4,5,6,7,21,22,24],[1.0,33.03021311744199,-81.22305035552395,0.423,68.0,40.0,10.0,7.0,4.0,9.0,1.0])  |0              |\n",
      "|(28,[0,1,2,3,4,5,6,7,21,22,24],[1.0,32.966290712199374,-81.24783396682145,1.666,70.0,56.0,10.0,6.0,4.0,11.0,1.0])|0              |\n",
      "|(28,[0,1,2,4,5,6,21,22,24],[1.0,33.048222,-81.315002,41.0,93.0,10.0,4.0,7.0,1.0])                                |0              |\n",
      "|(28,[0,1,2,3,4,5,6,7,8,21,22,26],[1.0,32.971668,-81.325263,0.507,70.0,94.0,10.0,7.0,0.08,4.0,16.0,1.0])          |0              |\n",
      "|(28,[0,1,2,3,4,5,6,7,21,22,25],[1.0,33.042212,-81.419471,0.389,73.0,47.0,10.0,3.0,4.0,13.0,1.0])                 |0              |\n",
      "|(28,[0,1,2,3,4,5,6,7,21,22,24],[1.0,32.996328000000005,-81.324656,0.216,73.0,53.0,10.0,8.0,4.0,11.0,1.0])        |0              |\n",
      "|(28,[0,1,2,3,4,5,6,7,21,22,24],[1.0,33.081761,-81.329436,0.947,75.0,19.0,10.0,17.0,4.0,16.0,1.0])                |0              |\n",
      "|(28,[0,1,2,3,4,5,6,7,21,22,24],[1.0,33.081761,-81.329436,0.053,75.0,19.0,10.0,17.0,4.0,16.0,1.0])                |0              |\n",
      "|(28,[0,1,2,3,4,5,6,7,21,22,24],[1.0,33.081761,-81.329436,0.434,75.0,19.0,10.0,17.0,4.0,16.0,1.0])                |0              |\n",
      "|(28,[0,1,2,3,4,5,6,7,21,22,24],[1.0,32.954487,-81.461396,0.12,75.0,24.0,10.0,9.0,4.0,15.0,1.0])                  |1              |\n",
      "+-----------------------------------------------------------------------------------------------------------------+---------------+\n",
      "only showing top 20 rows\n",
      "\n"
     ]
    }
   ],
   "source": [
    "num_col = [item[0] for item in df_class.dtypes if not item[1].startswith('string')]\n",
    "num_col.remove(\"Working_Weekend\")\n",
    "assembler = VectorAssembler(inputCols=num_col, outputCol=\"features\")\n",
    "\n",
    "output_dataset = assembler.transform(df_rf)\n",
    "\n",
    "classificationData = output_dataset.select(\"features\", \"Working_Weekend\")\n",
    "\n",
    "classificationData.show(truncate=False)"
   ]
  },
  {
   "cell_type": "code",
   "execution_count": 35,
   "metadata": {},
   "outputs": [],
   "source": [
    "(trainingData, testData) = classificationData.randomSplit([0.7, 0.3],seed=0)"
   ]
  },
  {
   "cell_type": "code",
   "execution_count": 36,
   "metadata": {},
   "outputs": [
    {
     "name": "stdout",
     "output_type": "stream",
     "text": [
      "0.8122622889719024\n",
      "Test Error = 0.187738\n",
      "Precision for class  0 : 81.24%\n",
      "Recall for class  0 : 99.11%\n",
      "avg_F1-Score for class  0 : 89.29%\n",
      "----------------------------\n",
      "Precision for class  1 : 80.84%\n",
      "Recall for class  1 : 14.10%\n",
      "avg_F1-Score for class  1 : 24.01%\n",
      "----------------------------\n",
      "[0.8929008065178627, 0.24013439846401757]\n",
      "----------------------\n",
      "avg_F1-Score: 56.65%\n"
     ]
    }
   ],
   "source": [
    "from pyspark.ml import Pipeline\n",
    "from pyspark.ml.classification import RandomForestClassifier\n",
    "from pyspark.ml.feature import IndexToString, StringIndexer, VectorIndexer\n",
    "from pyspark.ml.evaluation import MulticlassClassificationEvaluator\n",
    "from pyspark.mllib.evaluation import MulticlassMetrics\n",
    " \n",
    "# Train a RandomForest model.\n",
    "rf = RandomForestClassifier(labelCol=\"Working_Weekend\", featuresCol=\"features\", numTrees=5,maxDepth=15)\n",
    " \n",
    " \n",
    "# Train model.  This also runs the indexers.\n",
    "model = rf.fit(trainingData)\n",
    " \n",
    " \n",
    "# Make predictions.\n",
    "predictions = model.transform(testData)\n",
    " \n",
    "evaluator = MulticlassClassificationEvaluator(labelCol=\"Working_Weekend\"\n",
    "                                              , predictionCol=\"prediction\"\n",
    "                                              , metricName=\"accuracy\")\n",
    " \n",
    "accuracy = evaluator.evaluate(predictions)\n",
    "print(accuracy)\n",
    "print(\"Test Error = %g\" % (1.0 - accuracy))\n",
    "from pyspark.mllib.evaluation import MulticlassMetrics\n",
    "# Calcolare precision, recall e F1-score\n",
    "predictionAndLabels = predictions.select(\"prediction\", \"Working_Weekend\").rdd.map(lambda x: (float(x[0]), float(x[1])))\n",
    "metrics = MulticlassMetrics(predictionAndLabels)\n",
    " \n",
    "list_avg=[]\n",
    "for i in range(2):\n",
    "    precision = metrics.precision(label=float(i))  \n",
    "    recall = metrics.recall(label=float(i))\n",
    "    f1Score= metrics.fMeasure(label=float(i)) # need .0\n",
    "    print(\"Precision for class \",i,\": {:.2%}\".format(precision))\n",
    "    print(\"Recall for class \",i,\": {:.2%}\".format(recall))\n",
    "    print(\"avg_F1-Score for class \",i,\": {:.2%}\".format(f1Score))\n",
    "    list_avg.append(f1Score)\n",
    "    print('----------------------------')\n",
    "sum_=0\n",
    "print(list_avg)\n",
    "for elem in list_avg:\n",
    "    sum_+=elem\n",
    " \n",
    "avg_f1=sum_/2\n",
    "print('----------------------')\n",
    " \n",
    "print(\"avg_F1-Score: {:.2%}\".format(avg_f1))"
   ]
  },
  {
   "cell_type": "markdown",
   "metadata": {},
   "source": [
    "Confusion matrix"
   ]
  },
  {
   "cell_type": "code",
   "execution_count": 37,
   "metadata": {},
   "outputs": [
    {
     "data": {
      "text/plain": [
       "<AxesSubplot:>"
      ]
     },
     "execution_count": 37,
     "metadata": {},
     "output_type": "execute_result"
    },
    {
     "data": {
      "image/png": "[encoded data removed]",
      "text/plain": [
       "<Figure size 504x504 with 1 Axes>"
      ]
     },
     "metadata": {
      "needs_background": "light"
     },
     "output_type": "display_data"
    }
   ],
   "source": [
    "import seaborn as sns\n",
    "import matplotlib.pyplot as plt\n",
    " \n",
    "labels = [\"0\", \"1\"]\n",
    "_ = plt.figure(figsize=(7, 7))\n",
    "sns.heatmap(metrics.confusionMatrix().toArray(),\n",
    "            cmap='viridis',\n",
    "            annot=True,fmt='0',\n",
    "            cbar=False, \n",
    "            xticklabels=labels, \n",
    "            yticklabels=labels)"
   ]
  },
  {
   "cell_type": "code",
   "execution_count": 38,
   "metadata": {},
   "outputs": [
    {
     "data": {
      "text/plain": [
       "SparseVector(28, {0: 0.0425, 1: 0.0855, 2: 0.0686, 3: 0.0842, 4: 0.1245, 5: 0.0798, 6: 0.0379, 7: 0.0744, 8: 0.0188, 9: 0.0024, 10: 0.0001, 11: 0.0038, 12: 0.0013, 13: 0.0047, 14: 0.0006, 15: 0.0017, 17: 0.0016, 18: 0.003, 19: 0.0003, 20: 0.0052, 21: 0.1063, 22: 0.1859, 23: 0.0266, 24: 0.0099, 25: 0.009, 26: 0.0048, 27: 0.0166})"
      ]
     },
     "execution_count": 38,
     "metadata": {},
     "output_type": "execute_result"
    }
   ],
   "source": [
    "model.featureImportances"
   ]
  }
 ],
 "metadata": {
  "kernelspec": {
   "display_name": "base",
   "language": "python",
   "name": "python3"
  },
  "language_info": {
   "codemirror_mode": {
    "name": "ipython",
    "version": 3
   },
   "file_extension": ".py",
   "mimetype": "text/x-python",
   "name": "python",
   "nbconvert_exporter": "python",
   "pygments_lexer": "ipython3",
   "version": "3.9.13"
  }
 },
 "nbformat": 4,
 "nbformat_minor": 2
}
