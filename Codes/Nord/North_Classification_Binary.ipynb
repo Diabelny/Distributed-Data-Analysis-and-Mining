{
 "cells": [
  {
   "cell_type": "code",
   "execution_count": 1,
   "id": "0fca3984-9a84-4edd-b81c-6809915b2d66",
   "metadata": {
    "tags": []
   },
   "outputs": [
    {
     "name": "stderr",
     "output_type": "stream",
     "text": [
      "Setting default log level to \"WARN\".\n",
      "To adjust logging level use sc.setLogLevel(newLevel). For SparkR, use setLogLevel(newLevel).\n",
      "23/12/15 08:22:34 WARN NativeCodeLoader: Unable to load native-hadoop library for your platform... using builtin-java classes where applicable\n"
     ]
    }
   ],
   "source": [
    "import pandas as pd\n",
    "import matplotlib.pyplot as plt\n",
    "import seaborn as sns\n",
    "from pyspark.ml.feature import StringIndexer,OneHotEncoder\n",
    "from pyspark.sql import SQLContext, SparkSession, Row\n",
    "from pyspark.mllib.stat import Statistics\n",
    "from pyspark.ml import Pipeline\n",
    "from pyspark.ml.feature import VectorAssembler, MinMaxScaler, StandardScaler\n",
    "from pyspark.sql.functions import col\n",
    "\n",
    "from pyspark.mllib.regression import LabeledPoint\n",
    "from pyspark.ml.linalg import Vectors\n",
    "\n",
    "spark = SparkSession.Builder().appName('DDAM_Project_north').getOrCreate()"
   ]
  },
  {
   "cell_type": "code",
   "execution_count": 2,
   "id": "c2e0181d-2336-4c76-ba4a-d33fbba0eaa6",
   "metadata": {},
   "outputs": [
    {
     "name": "stderr",
     "output_type": "stream",
     "text": [
      "                                                                                \r"
     ]
    }
   ],
   "source": [
    "df = spark.read.options(inferSchema = True, delimiter = ',', header = True).csv('../../Datasets/North_Incidents_Cleaned.csv')"
   ]
  },
  {
   "cell_type": "code",
   "execution_count": 3,
   "id": "dc4895af-ddee-40c6-a0f4-ea1d611c9561",
   "metadata": {},
   "outputs": [
    {
     "name": "stderr",
     "output_type": "stream",
     "text": [
      "23/12/15 08:23:03 WARN SparkStringUtils: Truncated the string representation of a plan since it was too large. This behavior can be adjusted by setting 'spark.sql.debug.maxToStringFields'.\n",
      "                                                                                \r"
     ]
    },
    {
     "data": {
      "text/html": [
       "<div>\n",
       "<style scoped>\n",
       "    .dataframe tbody tr th:only-of-type {\n",
       "        vertical-align: middle;\n",
       "    }\n",
       "\n",
       "    .dataframe tbody tr th {\n",
       "        vertical-align: top;\n",
       "    }\n",
       "\n",
       "    .dataframe thead th {\n",
       "        text-align: right;\n",
       "    }\n",
       "</style>\n",
       "<table border=\"1\" class=\"dataframe\">\n",
       "  <thead>\n",
       "    <tr style=\"text-align: right;\">\n",
       "      <th></th>\n",
       "      <th>0</th>\n",
       "    </tr>\n",
       "  </thead>\n",
       "  <tbody>\n",
       "    <tr>\n",
       "      <th>Severity</th>\n",
       "      <td>0</td>\n",
       "    </tr>\n",
       "    <tr>\n",
       "      <th>Start_Time</th>\n",
       "      <td>0</td>\n",
       "    </tr>\n",
       "    <tr>\n",
       "      <th>Start_Lat</th>\n",
       "      <td>0</td>\n",
       "    </tr>\n",
       "    <tr>\n",
       "      <th>Start_Lng</th>\n",
       "      <td>0</td>\n",
       "    </tr>\n",
       "    <tr>\n",
       "      <th>Distance_mi</th>\n",
       "      <td>0</td>\n",
       "    </tr>\n",
       "    <tr>\n",
       "      <th>City</th>\n",
       "      <td>0</td>\n",
       "    </tr>\n",
       "    <tr>\n",
       "      <th>County</th>\n",
       "      <td>0</td>\n",
       "    </tr>\n",
       "    <tr>\n",
       "      <th>State</th>\n",
       "      <td>0</td>\n",
       "    </tr>\n",
       "    <tr>\n",
       "      <th>Temperature_F</th>\n",
       "      <td>0</td>\n",
       "    </tr>\n",
       "    <tr>\n",
       "      <th>Wind_Chill_F</th>\n",
       "      <td>0</td>\n",
       "    </tr>\n",
       "    <tr>\n",
       "      <th>Humidity_perc</th>\n",
       "      <td>0</td>\n",
       "    </tr>\n",
       "    <tr>\n",
       "      <th>Visibility_mi</th>\n",
       "      <td>0</td>\n",
       "    </tr>\n",
       "    <tr>\n",
       "      <th>Wind_Direction</th>\n",
       "      <td>0</td>\n",
       "    </tr>\n",
       "    <tr>\n",
       "      <th>Wind_Speed_mph</th>\n",
       "      <td>0</td>\n",
       "    </tr>\n",
       "    <tr>\n",
       "      <th>Precipitation_in</th>\n",
       "      <td>0</td>\n",
       "    </tr>\n",
       "    <tr>\n",
       "      <th>Amenity</th>\n",
       "      <td>0</td>\n",
       "    </tr>\n",
       "    <tr>\n",
       "      <th>Crossing</th>\n",
       "      <td>0</td>\n",
       "    </tr>\n",
       "    <tr>\n",
       "      <th>Give_Way</th>\n",
       "      <td>0</td>\n",
       "    </tr>\n",
       "    <tr>\n",
       "      <th>Junction</th>\n",
       "      <td>0</td>\n",
       "    </tr>\n",
       "    <tr>\n",
       "      <th>No_Exit</th>\n",
       "      <td>0</td>\n",
       "    </tr>\n",
       "    <tr>\n",
       "      <th>Railway</th>\n",
       "      <td>0</td>\n",
       "    </tr>\n",
       "    <tr>\n",
       "      <th>Roundabout</th>\n",
       "      <td>0</td>\n",
       "    </tr>\n",
       "    <tr>\n",
       "      <th>Station</th>\n",
       "      <td>0</td>\n",
       "    </tr>\n",
       "    <tr>\n",
       "      <th>Stop</th>\n",
       "      <td>0</td>\n",
       "    </tr>\n",
       "    <tr>\n",
       "      <th>Traffic_Calming</th>\n",
       "      <td>0</td>\n",
       "    </tr>\n",
       "    <tr>\n",
       "      <th>Traffic_Signal</th>\n",
       "      <td>0</td>\n",
       "    </tr>\n",
       "    <tr>\n",
       "      <th>month</th>\n",
       "      <td>0</td>\n",
       "    </tr>\n",
       "    <tr>\n",
       "      <th>day_of_the_week</th>\n",
       "      <td>0</td>\n",
       "    </tr>\n",
       "    <tr>\n",
       "      <th>hour</th>\n",
       "      <td>0</td>\n",
       "    </tr>\n",
       "    <tr>\n",
       "      <th>season</th>\n",
       "      <td>0</td>\n",
       "    </tr>\n",
       "    <tr>\n",
       "      <th>Working_Weekend</th>\n",
       "      <td>0</td>\n",
       "    </tr>\n",
       "    <tr>\n",
       "      <th>Astronomical_Twilight</th>\n",
       "      <td>0</td>\n",
       "    </tr>\n",
       "    <tr>\n",
       "      <th>Weather_Condition</th>\n",
       "      <td>0</td>\n",
       "    </tr>\n",
       "  </tbody>\n",
       "</table>\n",
       "</div>"
      ],
      "text/plain": [
       "                       0\n",
       "Severity               0\n",
       "Start_Time             0\n",
       "Start_Lat              0\n",
       "Start_Lng              0\n",
       "Distance_mi            0\n",
       "City                   0\n",
       "County                 0\n",
       "State                  0\n",
       "Temperature_F          0\n",
       "Wind_Chill_F           0\n",
       "Humidity_perc          0\n",
       "Visibility_mi          0\n",
       "Wind_Direction         0\n",
       "Wind_Speed_mph         0\n",
       "Precipitation_in       0\n",
       "Amenity                0\n",
       "Crossing               0\n",
       "Give_Way               0\n",
       "Junction               0\n",
       "No_Exit                0\n",
       "Railway                0\n",
       "Roundabout             0\n",
       "Station                0\n",
       "Stop                   0\n",
       "Traffic_Calming        0\n",
       "Traffic_Signal         0\n",
       "month                  0\n",
       "day_of_the_week        0\n",
       "hour                   0\n",
       "season                 0\n",
       "Working_Weekend        0\n",
       "Astronomical_Twilight  0\n",
       "Weather_Condition      0"
      ]
     },
     "execution_count": 3,
     "metadata": {},
     "output_type": "execute_result"
    }
   ],
   "source": [
    "#Checking missing values\n",
    "from pyspark.sql.functions import when, count, isnull\n",
    "missing = df.select([count(when(isnull(c), c)).alias(c) for c in df.columns])\n",
    "missing.toPandas().T"
   ]
  },
  {
   "cell_type": "code",
   "execution_count": 4,
   "id": "c47366f4-6cb9-4506-9ef9-601d8f169e7a",
   "metadata": {},
   "outputs": [],
   "source": [
    "df=df.drop('Wind_Chill_F')"
   ]
  },
  {
   "cell_type": "markdown",
   "id": "4b343e67-c171-4a37-93c1-4c7bcb072583",
   "metadata": {},
   "source": [
    "preparing data"
   ]
  },
  {
   "cell_type": "code",
   "execution_count": 5,
   "id": "cd48c0f3-5514-4637-a37f-34a6b1963357",
   "metadata": {},
   "outputs": [
    {
     "name": "stderr",
     "output_type": "stream",
     "text": [
      "                                                                                \r"
     ]
    }
   ],
   "source": [
    "to_drop=['Start_Time','City','County','State','Wind_Direction','day_of_the_week','season']\n",
    "df_class=df.drop(*to_drop)\n",
    "#df_class.show()\n",
    "colonne_booleane = ['Amenity', 'Crossing', 'Give_Way', 'Junction', 'No_Exit', 'Railway', 'Roundabout', 'Station', 'Stop', 'Traffic_Calming', 'Traffic_Signal']\n",
    "\n",
    "# Converti le colonne booleane in numeriche\n",
    "for col_name in colonne_booleane:\n",
    "    df_class = df_class.withColumn(col_name, col(col_name).cast(\"int\"))\n",
    "\n",
    "#df_class.show()\n",
    "from pyspark.sql.functions import when, count, isnull\n",
    "df_class = df_class.withColumn(\"Astronomical_Twilight\", when(df_class[\"Astronomical_Twilight\"] == 'Day', 0).otherwise(1))\n",
    "df_class = df_class.withColumn(\"Working_Weekend\", when(df_class[\"Working_Weekend\"] == 'WorkingDay', 0).otherwise(1))\n",
    "indexer = StringIndexer(inputCol=\"Weather_Condition\", outputCol=\"Weather_Condition_Indexed\")\n",
    "df_class = indexer.fit(df_class).transform(df_class)"
   ]
  },
  {
   "cell_type": "code",
   "execution_count": 6,
   "id": "4c0a6879-f401-49da-a615-1b8a46c4e8d2",
   "metadata": {},
   "outputs": [
    {
     "name": "stdout",
     "output_type": "stream",
     "text": [
      "root\n",
      " |-- Severity: integer (nullable = true)\n",
      " |-- Start_Lat: double (nullable = true)\n",
      " |-- Start_Lng: double (nullable = true)\n",
      " |-- Distance_mi: double (nullable = true)\n",
      " |-- Temperature_F: double (nullable = true)\n",
      " |-- Humidity_perc: double (nullable = true)\n",
      " |-- Visibility_mi: double (nullable = true)\n",
      " |-- Wind_Speed_mph: double (nullable = true)\n",
      " |-- Precipitation_in: double (nullable = true)\n",
      " |-- Amenity: integer (nullable = true)\n",
      " |-- Crossing: integer (nullable = true)\n",
      " |-- Give_Way: integer (nullable = true)\n",
      " |-- Junction: integer (nullable = true)\n",
      " |-- No_Exit: integer (nullable = true)\n",
      " |-- Railway: integer (nullable = true)\n",
      " |-- Roundabout: integer (nullable = true)\n",
      " |-- Station: integer (nullable = true)\n",
      " |-- Stop: integer (nullable = true)\n",
      " |-- Traffic_Calming: integer (nullable = true)\n",
      " |-- Traffic_Signal: integer (nullable = true)\n",
      " |-- month: integer (nullable = true)\n",
      " |-- hour: integer (nullable = true)\n",
      " |-- Working_Weekend: integer (nullable = false)\n",
      " |-- Astronomical_Twilight: integer (nullable = false)\n",
      " |-- Weather_Condition: string (nullable = true)\n",
      " |-- Weather_Condition_Indexed: double (nullable = false)\n",
      " |-- Weather_Condition_1hot: vector (nullable = true)\n",
      "\n"
     ]
    }
   ],
   "source": [
    "from pyspark.ml.feature import OneHotEncoder\n",
    "onehotencoder_vector = OneHotEncoder(inputCol=\"Weather_Condition_Indexed\", outputCol=\"Weather_Condition_1hot\")\n",
    "df_class = onehotencoder_vector.fit(df_class).transform(df_class)\n",
    "df_class.printSchema()\n",
    "df_class=df_class.drop('Weather_Condition')\n",
    "#df_class.show()\n",
    "df_class=df_class.drop('Weather_Condition_Indexed')"
   ]
  },
  {
   "cell_type": "code",
   "execution_count": 7,
   "id": "91390fe4-7542-48a6-bc85-ff65bf43c8e3",
   "metadata": {},
   "outputs": [
    {
     "name": "stdout",
     "output_type": "stream",
     "text": [
      "['Severity', 'Start_Lat', 'Start_Lng', 'Distance_mi', 'Temperature_F', 'Humidity_perc', 'Visibility_mi', 'Wind_Speed_mph', 'Precipitation_in', 'Amenity', 'Crossing', 'Give_Way', 'Junction', 'No_Exit', 'Railway', 'Roundabout', 'Station', 'Stop', 'Traffic_Calming', 'Traffic_Signal', 'month', 'hour', 'Astronomical_Twilight', 'Weather_Condition_1hot']\n"
     ]
    }
   ],
   "source": [
    "num_col = [item[0] for item in df_class.dtypes if not item[1].startswith('string')]\n",
    "num_col.remove(\"Working_Weekend\")\n",
    "print(num_col)"
   ]
  },
  {
   "cell_type": "code",
   "execution_count": 8,
   "id": "3bd67586-0416-4221-b07e-42892b58d3e4",
   "metadata": {},
   "outputs": [],
   "source": [
    "assembler = VectorAssembler(inputCols=num_col, outputCol=\"features\")\n",
    "\n",
    "output_dataset = assembler.transform(df_class)\n",
    "\n",
    "classificationData = output_dataset.select(\"features\", \"Working_Weekend\")\n",
    "\n",
    "#classificationData.show(truncate=False)\n",
    "(trainingData, testData) = classificationData.randomSplit([0.7, 0.3],seed=0)\n",
    "from pyspark.sql import functions as F"
   ]
  },
  {
   "cell_type": "code",
   "execution_count": 9,
   "id": "ba7bf486-a725-47a4-ae36-7fd7edfcd329",
   "metadata": {},
   "outputs": [
    {
     "name": "stderr",
     "output_type": "stream",
     "text": [
      "[Stage 8:=======================>                                   (2 + 3) / 5]\r"
     ]
    },
    {
     "name": "stdout",
     "output_type": "stream",
     "text": [
      "+---------------+-----+\n",
      "|Working_Weekend|Count|\n",
      "+---------------+-----+\n",
      "|              0|46859|\n",
      "|              1|11484|\n",
      "+---------------+-----+\n",
      "\n"
     ]
    },
    {
     "name": "stderr",
     "output_type": "stream",
     "text": [
      "                                                                                \r"
     ]
    }
   ],
   "source": [
    "g=trainingData.groupBy('Working_Weekend').agg(F.count('Working_Weekend').alias('Count'))\n",
    "g=g.sort('Working_Weekend')\n",
    "g.show()"
   ]
  },
  {
   "cell_type": "code",
   "execution_count": 10,
   "id": "7e20a9f3-3019-4e0b-98a7-c0973fa064a7",
   "metadata": {},
   "outputs": [
    {
     "name": "stderr",
     "output_type": "stream",
     "text": [
      "                                                                                \r"
     ]
    }
   ],
   "source": [
    "g_p=g.toPandas()"
   ]
  },
  {
   "cell_type": "code",
   "execution_count": 11,
   "id": "5299079e-cc0b-4996-8c7e-a47bde7782f4",
   "metadata": {},
   "outputs": [],
   "source": [
    "g_p\n",
    "n_0=g_p.iloc[0,1]\n",
    "n_1=g_p.iloc[1,1]"
   ]
  },
  {
   "cell_type": "code",
   "execution_count": 12,
   "id": "a295ac48-8b56-4c78-8066-836c12f5d15d",
   "metadata": {},
   "outputs": [
    {
     "name": "stderr",
     "output_type": "stream",
     "text": [
      "[Stage 19:>                                                         (0 + 1) / 1]\r"
     ]
    },
    {
     "name": "stdout",
     "output_type": "stream",
     "text": [
      "+--------------------+---------------+\n",
      "|            features|Working_Weekend|\n",
      "+--------------------+---------------+\n",
      "|(27,[0,1,2,3,4,5,...|              0|\n",
      "|(27,[0,1,2,3,4,5,...|              0|\n",
      "|(27,[0,1,2,3,4,5,...|              1|\n",
      "|(27,[0,1,2,3,4,5,...|              0|\n",
      "|(27,[0,1,2,3,4,5,...|              0|\n",
      "|(27,[0,1,2,3,4,5,...|              0|\n",
      "|(27,[0,1,2,3,4,5,...|              0|\n",
      "|(27,[0,1,2,3,4,5,...|              0|\n",
      "|(27,[0,1,2,3,4,5,...|              0|\n",
      "|(27,[0,1,2,3,4,5,...|              0|\n",
      "|(27,[0,1,2,3,4,5,...|              0|\n",
      "|(27,[0,1,2,3,4,5,...|              0|\n",
      "|(27,[0,1,2,3,4,5,...|              0|\n",
      "|(27,[0,1,2,3,4,5,...|              0|\n",
      "|(27,[0,1,2,3,4,5,...|              1|\n",
      "|(27,[0,1,2,3,4,5,...|              1|\n",
      "|(27,[0,1,2,3,4,5,...|              1|\n",
      "|(27,[0,1,2,3,4,5,...|              1|\n",
      "|(27,[0,1,2,3,4,5,...|              0|\n",
      "|(27,[0,1,2,3,4,5,...|              1|\n",
      "+--------------------+---------------+\n",
      "only showing top 20 rows\n",
      "\n"
     ]
    },
    {
     "name": "stderr",
     "output_type": "stream",
     "text": [
      "                                                                                \r"
     ]
    }
   ],
   "source": [
    "trainingData.show()"
   ]
  },
  {
   "cell_type": "markdown",
   "id": "20664cd2-f4bb-453a-ae33-5097ab132f75",
   "metadata": {},
   "source": [
    "# Random Forest"
   ]
  },
  {
   "cell_type": "code",
   "execution_count": 13,
   "id": "d691ca43-8ca8-4095-82d4-19f9a291c61b",
   "metadata": {},
   "outputs": [],
   "source": [
    "(trainingData, testData) = classificationData.randomSplit([0.7, 0.3],seed=0)"
   ]
  },
  {
   "cell_type": "code",
   "execution_count": 15,
   "id": "c06f5c0e-7db5-4b82-a195-306721619508",
   "metadata": {
    "tags": []
   },
   "outputs": [
    {
     "name": "stderr",
     "output_type": "stream",
     "text": [
      "23/12/15 09:05:41 WARN DAGScheduler: Broadcasting large task binary with size 1296.9 KiB\n",
      "23/12/15 09:05:42 WARN DAGScheduler: Broadcasting large task binary with size 1734.2 KiB\n",
      "23/12/15 09:05:44 WARN DAGScheduler: Broadcasting large task binary with size 2.2 MiB\n",
      "23/12/15 09:05:47 WARN DAGScheduler: Broadcasting large task binary with size 1433.4 KiB\n",
      "                                                                                \r"
     ]
    },
    {
     "name": "stdout",
     "output_type": "stream",
     "text": [
      "0.8295217461081689\n",
      "Test Error = 0.170478\n"
     ]
    },
    {
     "name": "stderr",
     "output_type": "stream",
     "text": [
      "23/12/15 09:05:52 WARN DAGScheduler: Broadcasting large task binary with size 1421.8 KiB\n",
      "23/12/15 09:05:54 WARN DAGScheduler: Broadcasting large task binary with size 1433.2 KiB\n",
      "[Stage 82:===========>                                              (1 + 4) / 5]\r"
     ]
    },
    {
     "name": "stdout",
     "output_type": "stream",
     "text": [
      "Precision for class  0 : 83.25%\n",
      "Recall for class  0 : 98.53%\n",
      "avg_F1-Score for class  0 : 90.25%\n",
      "----------------------------\n",
      "Precision for class  1 : 77.54%\n",
      "Recall for class  1 : 20.42%\n",
      "avg_F1-Score for class  1 : 32.33%\n",
      "----------------------------\n",
      "[0.9024765314788038, 0.3232998885172798]\n",
      "----------------------\n",
      "avg_F1-Score: 61.29%\n"
     ]
    },
    {
     "name": "stderr",
     "output_type": "stream",
     "text": [
      "                                                                                \r"
     ]
    }
   ],
   "source": [
    "from pyspark.ml import Pipeline\n",
    "from pyspark.ml.classification import RandomForestClassifier\n",
    "from pyspark.ml.feature import IndexToString, StringIndexer, VectorIndexer\n",
    "from pyspark.ml.evaluation import MulticlassClassificationEvaluator\n",
    "from pyspark.mllib.evaluation import MulticlassMetrics\n",
    " \n",
    "# Train a RandomForest model.\n",
    "rf = RandomForestClassifier(labelCol=\"Working_Weekend\", featuresCol=\"features\", numTrees=5,maxDepth=15)\n",
    " \n",
    " \n",
    "# Train model.  This also runs the indexers.\n",
    "model = rf.fit(trainingData)\n",
    " \n",
    " \n",
    "# Make predictions.\n",
    "predictions = model.transform(testData)\n",
    " \n",
    "evaluator = MulticlassClassificationEvaluator(labelCol=\"Working_Weekend\"\n",
    "                                              , predictionCol=\"prediction\"\n",
    "                                              , metricName=\"accuracy\")\n",
    " \n",
    "accuracy = evaluator.evaluate(predictions)\n",
    "print(accuracy)\n",
    "print(\"Test Error = %g\" % (1.0 - accuracy))\n",
    "from pyspark.mllib.evaluation import MulticlassMetrics\n",
    "# Calcolare precision, recall e F1-score\n",
    "predictionAndLabels = predictions.select(\"prediction\", \"Working_Weekend\").rdd.map(lambda x: (float(x[0]), float(x[1])))\n",
    "metrics = MulticlassMetrics(predictionAndLabels)\n",
    " \n",
    "list_avg=[]\n",
    "for i in range(2):\n",
    "    precision = metrics.precision(label=float(i))  \n",
    "    recall = metrics.recall(label=float(i))\n",
    "    f1Score= metrics.fMeasure(label=float(i)) # need .0\n",
    "    print(\"Precision for class \",i,\": {:.2%}\".format(precision))\n",
    "    print(\"Recall for class \",i,\": {:.2%}\".format(recall))\n",
    "    print(\"avg_F1-Score for class \",i,\": {:.2%}\".format(f1Score))\n",
    "    list_avg.append(f1Score)\n",
    "    print('----------------------------')\n",
    "sum_=0\n",
    "print(list_avg)\n",
    "for elem in list_avg:\n",
    "    sum_+=elem\n",
    " \n",
    "avg_f1=sum_/2\n",
    "print('----------------------')\n",
    " \n",
    "print(\"avg_F1-Score: {:.2%}\".format(avg_f1))"
   ]
  },
  {
   "cell_type": "code",
   "execution_count": 16,
   "id": "bcea8896-af2d-42e4-afec-d2c86b330bf8",
   "metadata": {
    "tags": []
   },
   "outputs": [
    {
     "data": {
      "text/plain": [
       "<Axes: >"
      ]
     },
     "execution_count": 16,
     "metadata": {},
     "output_type": "execute_result"
    },
    {
     "data": {
      "image/png": "[encoded data removed]",
      "text/plain": [
       "<Figure size 700x700 with 1 Axes>"
      ]
     },
     "metadata": {},
     "output_type": "display_data"
    }
   ],
   "source": [
    "import seaborn as sns\n",
    "import matplotlib.pyplot as plt\n",
    "\n",
    "labels = [\"0\", \"1\"]\n",
    "_ = plt.figure(figsize=(7, 7))\n",
    "sns.heatmap(metrics.confusionMatrix().toArray(),\n",
    "            cmap='viridis',\n",
    "            annot=True,fmt='0',\n",
    "            cbar=False, \n",
    "            xticklabels=labels, \n",
    "            yticklabels=labels)"
   ]
  },
  {
   "cell_type": "code",
   "execution_count": 17,
   "id": "0df62e79-80c5-4786-ac27-db5e5517807a",
   "metadata": {
    "tags": []
   },
   "outputs": [
    {
     "data": {
      "text/plain": [
       "SparseVector(27, {0: 0.0121, 1: 0.098, 2: 0.104, 3: 0.0814, 4: 0.1307, 5: 0.0938, 6: 0.0496, 7: 0.0943, 8: 0.024, 9: 0.0014, 10: 0.0035, 11: 0.0005, 12: 0.0072, 13: 0.0005, 14: 0.0017, 16: 0.0017, 17: 0.002, 19: 0.0049, 20: 0.0868, 21: 0.1341, 22: 0.0237, 23: 0.0143, 24: 0.0127, 25: 0.0125, 26: 0.0045})"
      ]
     },
     "execution_count": 17,
     "metadata": {},
     "output_type": "execute_result"
    }
   ],
   "source": [
    "model.featureImportances"
   ]
  },
  {
   "cell_type": "markdown",
   "id": "d35c94e5-fc05-4c98-beac-cacbc10ebcd7",
   "metadata": {},
   "source": [
    "# Decision tree"
   ]
  },
  {
   "cell_type": "code",
   "execution_count": 18,
   "id": "1d14b53d-16e9-4c95-9e9d-ec7eeabc5148",
   "metadata": {
    "tags": []
   },
   "outputs": [
    {
     "name": "stderr",
     "output_type": "stream",
     "text": [
      "                                                                                \r"
     ]
    }
   ],
   "source": [
    "from pyspark.ml.classification import DecisionTreeClassifier, RandomForestClassifier\n",
    "\n",
    "dt = DecisionTreeClassifier(labelCol=\"Working_Weekend\", featuresCol=\"features\")\n",
    "\n",
    "dt = dt.fit(trainingData)"
   ]
  },
  {
   "cell_type": "code",
   "execution_count": 19,
   "id": "05c6a3a0-9cb7-489f-8ba1-c5f87873554d",
   "metadata": {
    "tags": []
   },
   "outputs": [
    {
     "data": {
      "text/plain": [
       "SparseVector(27, {1: 0.0228, 2: 0.0268, 3: 0.0461, 4: 0.1033, 7: 0.1089, 20: 0.0647, 21: 0.6115, 25: 0.016})"
      ]
     },
     "execution_count": 19,
     "metadata": {},
     "output_type": "execute_result"
    }
   ],
   "source": [
    "dt.featureImportances"
   ]
  },
  {
   "cell_type": "code",
   "execution_count": 20,
   "id": "bb7e6c80-15a2-4a54-9def-ae3c4ab898ae",
   "metadata": {
    "tags": []
   },
   "outputs": [],
   "source": [
    "# Make predictions.\n",
    "predictions = dt.transform(testData)"
   ]
  },
  {
   "cell_type": "code",
   "execution_count": 21,
   "id": "5b3a66e0-f726-4696-bac3-4ee661dd409c",
   "metadata": {
    "tags": []
   },
   "outputs": [
    {
     "name": "stderr",
     "output_type": "stream",
     "text": [
      "[Stage 101:===========>                                             (1 + 4) / 5]\r"
     ]
    },
    {
     "name": "stdout",
     "output_type": "stream",
     "text": [
      "0.8039640507141711\n",
      "Test Error = 0.196036\n"
     ]
    },
    {
     "name": "stderr",
     "output_type": "stream",
     "text": [
      "                                                                                \r"
     ]
    }
   ],
   "source": [
    "from pyspark.ml.evaluation import MulticlassClassificationEvaluator\n",
    "# Select (prediction, true label) and compute test error\n",
    "evaluator = MulticlassClassificationEvaluator(labelCol=\"Working_Weekend\"\n",
    "                                              , predictionCol=\"prediction\"\n",
    "                                              , metricName=\"accuracy\")\n",
    "\n",
    "accuracy = evaluator.evaluate(predictions)\n",
    "print(accuracy)\n",
    "print(\"Test Error = %g\" % (1.0 - accuracy))"
   ]
  },
  {
   "cell_type": "code",
   "execution_count": 22,
   "id": "bb2badde-b536-4597-88a0-9d3ecde7e77c",
   "metadata": {
    "tags": []
   },
   "outputs": [
    {
     "name": "stderr",
     "output_type": "stream",
     "text": [
      "/opt/conda/lib/python3.10/site-packages/pyspark/sql/context.py:158: FutureWarning: Deprecated in 3.0.0. Use SparkSession.builder.getOrCreate() instead.\n",
      "  warnings.warn(\n",
      "[Stage 104:===========>                                             (1 + 4) / 5]\r"
     ]
    },
    {
     "name": "stdout",
     "output_type": "stream",
     "text": [
      "Precision for class  0 : 80.53%\n",
      "Recall for class  0 : 99.59%\n",
      "avg_F1-Score for class  0 : 89.05%\n",
      "----------------------------\n",
      "Precision for class  1 : 67.07%\n",
      "Recall for class  1 : 3.32%\n",
      "avg_F1-Score for class  1 : 6.33%\n",
      "----------------------------\n",
      "[0.8905269761606022, 0.06326687116564417]\n",
      "----------------------\n",
      "avg_F1-Score: 47.69%\n"
     ]
    },
    {
     "name": "stderr",
     "output_type": "stream",
     "text": [
      "                                                                                \r"
     ]
    }
   ],
   "source": [
    "from pyspark.mllib.evaluation import MulticlassMetrics\n",
    "# Calcolare precision, recall e F1-score\n",
    "predictionAndLabels = predictions.select(\"prediction\", \"Working_Weekend\").rdd.map(lambda x: (float(x[0]), float(x[1])))\n",
    "metrics = MulticlassMetrics(predictionAndLabels)\n",
    "\n",
    "list_avg=[]\n",
    "for i in range(2):\n",
    "    precision = metrics.precision(label=float(i))  \n",
    "    recall = metrics.recall(label=float(i))\n",
    "    f1Score= metrics.fMeasure(label=float(i)) # need .0\n",
    "    print(\"Precision for class \",i,\": {:.2%}\".format(precision))\n",
    "    print(\"Recall for class \",i,\": {:.2%}\".format(recall))\n",
    "    print(\"avg_F1-Score for class \",i,\": {:.2%}\".format(f1Score))\n",
    "    list_avg.append(f1Score)\n",
    "    print('----------------------------')\n",
    "sum_=0\n",
    "print(list_avg)\n",
    "for elem in list_avg:\n",
    "    sum_+=elem\n",
    "\n",
    "avg_f1=sum_/2\n",
    "print('----------------------')\n",
    "\n",
    "print(\"avg_F1-Score: {:.2%}\".format(avg_f1))"
   ]
  },
  {
   "cell_type": "code",
   "execution_count": 23,
   "id": "0331c14b-fb1e-4163-a411-f551493314d4",
   "metadata": {
    "tags": []
   },
   "outputs": [
    {
     "data": {
      "text/plain": [
       "<Axes: >"
      ]
     },
     "execution_count": 23,
     "metadata": {},
     "output_type": "execute_result"
    },
    {
     "data": {
      "image/png": "[encoded data removed]",
      "text/plain": [
       "<Figure size 700x700 with 1 Axes>"
      ]
     },
     "metadata": {},
     "output_type": "display_data"
    }
   ],
   "source": [
    "import seaborn as sns\n",
    "import matplotlib.pyplot as plt\n",
    "\n",
    "labels = [\"0\", \"1\"]\n",
    "_ = plt.figure(figsize=(7, 7))\n",
    "sns.heatmap(metrics.confusionMatrix().toArray(),\n",
    "            cmap='viridis',\n",
    "            annot=True,fmt='0',\n",
    "            cbar=False, \n",
    "            xticklabels=labels, \n",
    "            yticklabels=labels)"
   ]
  },
  {
   "cell_type": "markdown",
   "id": "a4c2bcb1-ed4b-41fe-91ad-7a98f4d78c71",
   "metadata": {},
   "source": [
    "# Hyperparameter Tuning Decision Tree"
   ]
  },
  {
   "cell_type": "code",
   "execution_count": 24,
   "id": "5208bdd7-c42e-4ff4-b81e-e66e6dfc0e2c",
   "metadata": {
    "tags": []
   },
   "outputs": [
    {
     "name": "stderr",
     "output_type": "stream",
     "text": [
      "                                                                                \r"
     ]
    }
   ],
   "source": [
    "from pyspark.ml.evaluation import MulticlassClassificationEvaluator\n",
    "from pyspark.ml.tuning import ParamGridBuilder, CrossValidator\n",
    "from pyspark.mllib.evaluation import MulticlassMetrics\n",
    "from pyspark.ml.evaluation import MulticlassClassificationEvaluator\n",
    "from pyspark.mllib.evaluation import MulticlassMetrics\n",
    "import seaborn as sns\n",
    "import matplotlib.pyplot as plt\n",
    "n=trainingData.count()"
   ]
  },
  {
   "cell_type": "code",
   "execution_count": 25,
   "id": "545ca75d-8da6-44f9-a6bb-68bf7c830f06",
   "metadata": {
    "tags": []
   },
   "outputs": [
    {
     "name": "stderr",
     "output_type": "stream",
     "text": [
      "                                                                                \r"
     ]
    },
    {
     "name": "stdout",
     "output_type": "stream",
     "text": [
      "0.8002728294013802\n",
      "Test Error = 0.199727\n"
     ]
    },
    {
     "name": "stderr",
     "output_type": "stream",
     "text": [
      "/opt/conda/lib/python3.10/site-packages/pyspark/sql/context.py:158: FutureWarning: Deprecated in 3.0.0. Use SparkSession.builder.getOrCreate() instead.\n",
      "  warnings.warn(\n",
      "                                                                                \r"
     ]
    },
    {
     "name": "stdout",
     "output_type": "stream",
     "text": [
      "Precision for class  0 : 80.53%\n",
      "Recall for class  0 : 98.98%\n",
      "avg_F1-Score for class  0 : 88.81%\n",
      "----------------------------\n",
      "Precision for class  1 : 48.99%\n",
      "Recall for class  1 : 3.92%\n",
      "avg_F1-Score for class  1 : 7.27%\n",
      "----------------------------\n",
      "[0.8880845323741007, 0.0726527570789866]\n",
      "----------------------\n",
      "avg_F1-Score: 48.04%\n"
     ]
    },
    {
     "data": {
      "text/plain": [
       "<Axes: >"
      ]
     },
     "execution_count": 25,
     "metadata": {},
     "output_type": "execute_result"
    },
    {
     "data": {
      "image/png": "[encoded data removed]",
      "text/plain": [
       "<Figure size 700x700 with 1 Axes>"
      ]
     },
     "metadata": {},
     "output_type": "display_data"
    }
   ],
   "source": [
    "ax_depth=[5,15,25]\n",
    "max_bins=[32,64]\n",
    "min_inst=[round(0.005*n),round(0.02*n)]\n",
    "impurity=['entropy', 'gini']\n",
    "# Creiamo la colonna 'weights' basata sulla frequenza delle classi\n",
    "trainingData_w = trainingData.withColumn(\"weights\", when(trainingData[\"Working_Weekend\"] == 0 , 1)#Calcolo del peso per la classe 0\n",
    "    .when(trainingData[\"Working_Weekend\"] == 1, n_0/n_1)  # Calcolo del peso per la classe 1\n",
    "\n",
    ")\n",
    "dt = DecisionTreeClassifier(labelCol=\"Working_Weekend\", featuresCol=\"features\", maxDepth=10, maxBins=64, \n",
    "                            minInstancesPerNode=round(0.005*n), impurity='entropy')\n",
    "dt = dt.fit(trainingData)\n",
    "predictions = dt.transform(testData)\n",
    "# Select (prediction, true label) and compute test error\n",
    "evaluator = MulticlassClassificationEvaluator(labelCol=\"Working_Weekend\"\n",
    "                                              , predictionCol=\"prediction\"\n",
    "                                              , metricName=\"accuracy\")\n",
    "\n",
    "accuracy = evaluator.evaluate(predictions)\n",
    "print(accuracy)\n",
    "print(\"Test Error = %g\" % (1.0 - accuracy))\n",
    "\n",
    "# Calcolare precision, recall e F1-score\n",
    "predictionAndLabels = predictions.select(\"prediction\", \"Working_Weekend\").rdd.map(lambda x: (float(x[0]), float(x[1])))\n",
    "metrics = MulticlassMetrics(predictionAndLabels)\n",
    "\n",
    "list_avg=[]\n",
    "for i in range(2):\n",
    "    precision = metrics.precision(label=float(i))  \n",
    "    recall = metrics.recall(label=float(i))\n",
    "    f1Score= metrics.fMeasure(label=float(i)) # need .0\n",
    "    print(\"Precision for class \",i,\": {:.2%}\".format(precision))\n",
    "    print(\"Recall for class \",i,\": {:.2%}\".format(recall))\n",
    "    print(\"avg_F1-Score for class \",i,\": {:.2%}\".format(f1Score))\n",
    "    list_avg.append(f1Score)\n",
    "    print('----------------------------')\n",
    "sum_=0\n",
    "print(list_avg)\n",
    "for elem in list_avg:\n",
    "    sum_+=elem\n",
    "\n",
    "avg_f1=sum_/2\n",
    "print('----------------------')\n",
    "\n",
    "print(\"avg_F1-Score: {:.2%}\".format(avg_f1))\n",
    "\n",
    "labels = [\"0\", \"1\"]\n",
    "_ = plt.figure(figsize=(7, 7))\n",
    "sns.heatmap(metrics.confusionMatrix().toArray(),\n",
    "            cmap='viridis',\n",
    "            annot=True,fmt='0',\n",
    "            cbar=False, \n",
    "            xticklabels=labels, \n",
    "            yticklabels=labels)"
   ]
  },
  {
   "cell_type": "code",
   "execution_count": 26,
   "id": "04f3ef3e-737e-43c3-92f5-95ab705f0afe",
   "metadata": {
    "tags": []
   },
   "outputs": [
    {
     "name": "stderr",
     "output_type": "stream",
     "text": [
      "/opt/conda/lib/python3.10/site-packages/pyspark/sql/context.py:158: FutureWarning: Deprecated in 3.0.0. Use SparkSession.builder.getOrCreate() instead.\n",
      "  warnings.warn(\n"
     ]
    },
    {
     "name": "stdout",
     "output_type": "stream",
     "text": [
      "0.8005938051677098\n",
      "Test Error = 0.199406\n"
     ]
    },
    {
     "name": "stderr",
     "output_type": "stream",
     "text": [
      "[Stage 173:===========>                                             (1 + 4) / 5]\r"
     ]
    },
    {
     "name": "stdout",
     "output_type": "stream",
     "text": [
      "Precision for class  0 : 80.06%\n",
      "Recall for class  0 : 100.00%\n",
      "avg_F1-Score for class  0 : 88.93%\n",
      "----------------------------\n",
      "Precision for class  1 : 0.00%\n",
      "Recall for class  1 : 0.00%\n",
      "avg_F1-Score for class  1 : 0.00%\n",
      "----------------------------\n",
      "[0.8892553144079504, 0.0]\n",
      "----------------------\n",
      "avg_F1-Score: 44.46%\n"
     ]
    },
    {
     "name": "stderr",
     "output_type": "stream",
     "text": [
      "                                                                                \r"
     ]
    },
    {
     "data": {
      "text/plain": [
       "<Axes: >"
      ]
     },
     "execution_count": 26,
     "metadata": {},
     "output_type": "execute_result"
    },
    {
     "data": {
      "image/png": "[encoded data removed]",
      "text/plain": [
       "<Figure size 700x700 with 1 Axes>"
      ]
     },
     "metadata": {},
     "output_type": "display_data"
    }
   ],
   "source": [
    "dt = DecisionTreeClassifier(labelCol=\"Working_Weekend\", featuresCol=\"features\", maxDepth=15, maxBins=32, \n",
    "                            minInstancesPerNode=round(0.02*n))\n",
    "dt = dt.fit(trainingData)\n",
    "predictions = dt.transform(testData)\n",
    "# Select (prediction, true label) and compute test error\n",
    "evaluator = MulticlassClassificationEvaluator(labelCol=\"Working_Weekend\"\n",
    "                                              , predictionCol=\"prediction\"\n",
    "                                              , metricName=\"accuracy\")\n",
    "\n",
    "accuracy = evaluator.evaluate(predictions)\n",
    "print(accuracy)\n",
    "print(\"Test Error = %g\" % (1.0 - accuracy))\n",
    "\n",
    "# Calcolare precision, recall e F1-score\n",
    "predictionAndLabels = predictions.select(\"prediction\", \"Working_Weekend\").rdd.map(lambda x: (float(x[0]), float(x[1])))\n",
    "metrics = MulticlassMetrics(predictionAndLabels)\n",
    "\n",
    "list_avg=[]\n",
    "for i in range(2):\n",
    "    precision = metrics.precision(label=float(i))  \n",
    "    recall = metrics.recall(label=float(i))\n",
    "    f1Score= metrics.fMeasure(label=float(i)) # need .0\n",
    "    print(\"Precision for class \",i,\": {:.2%}\".format(precision))\n",
    "    print(\"Recall for class \",i,\": {:.2%}\".format(recall))\n",
    "    print(\"avg_F1-Score for class \",i,\": {:.2%}\".format(f1Score))\n",
    "    list_avg.append(f1Score)\n",
    "    print('----------------------------')\n",
    "sum_=0\n",
    "print(list_avg)\n",
    "for elem in list_avg:\n",
    "    sum_+=elem\n",
    "\n",
    "avg_f1=sum_/2\n",
    "print('----------------------')\n",
    "\n",
    "print(\"avg_F1-Score: {:.2%}\".format(avg_f1))\n",
    "\n",
    "labels = [\"0\", \"1\"]\n",
    "_ = plt.figure(figsize=(7, 7))\n",
    "sns.heatmap(metrics.confusionMatrix().toArray(),\n",
    "            cmap='viridis',\n",
    "            annot=True,fmt='0',\n",
    "            cbar=False, \n",
    "            xticklabels=labels, \n",
    "            yticklabels=labels)"
   ]
  },
  {
   "cell_type": "code",
   "execution_count": 27,
   "id": "e5b40baa-83c2-4449-94a0-bce614a6fae4",
   "metadata": {
    "tags": []
   },
   "outputs": [
    {
     "name": "stderr",
     "output_type": "stream",
     "text": [
      "/opt/conda/lib/python3.10/site-packages/pyspark/sql/context.py:158: FutureWarning: Deprecated in 3.0.0. Use SparkSession.builder.getOrCreate() instead.\n",
      "  warnings.warn(\n"
     ]
    },
    {
     "name": "stdout",
     "output_type": "stream",
     "text": [
      "0.8002728294013802\n",
      "Test Error = 0.199727\n"
     ]
    },
    {
     "name": "stderr",
     "output_type": "stream",
     "text": [
      "                                                                                \r"
     ]
    },
    {
     "name": "stdout",
     "output_type": "stream",
     "text": [
      "Precision for class  0 : 80.53%\n",
      "Recall for class  0 : 98.98%\n",
      "avg_F1-Score for class  0 : 88.81%\n",
      "----------------------------\n",
      "Precision for class  1 : 48.99%\n",
      "Recall for class  1 : 3.92%\n",
      "avg_F1-Score for class  1 : 7.27%\n",
      "----------------------------\n",
      "[0.8880845323741007, 0.0726527570789866]\n",
      "----------------------\n",
      "avg_F1-Score: 48.04%\n"
     ]
    },
    {
     "data": {
      "text/plain": [
       "<Axes: >"
      ]
     },
     "execution_count": 27,
     "metadata": {},
     "output_type": "execute_result"
    },
    {
     "data": {
      "image/png": "[encoded data removed]",
      "text/plain": [
       "<Figure size 700x700 with 1 Axes>"
      ]
     },
     "metadata": {},
     "output_type": "display_data"
    }
   ],
   "source": [
    "dt = DecisionTreeClassifier(labelCol=\"Working_Weekend\", featuresCol=\"features\", maxDepth=25, maxBins=64,\n",
    "                            minInstancesPerNode=round(0.005*n), impurity='entropy' )\n",
    "dt = dt.fit(trainingData)\n",
    "predictions = dt.transform(testData)\n",
    "# Select (prediction, true label) and compute test error\n",
    "evaluator = MulticlassClassificationEvaluator(labelCol=\"Working_Weekend\"\n",
    "                                              , predictionCol=\"prediction\"\n",
    "                                              , metricName=\"accuracy\")\n",
    "\n",
    "accuracy = evaluator.evaluate(predictions)\n",
    "print(accuracy)\n",
    "print(\"Test Error = %g\" % (1.0 - accuracy))\n",
    "\n",
    "# Calcolare precision, recall e F1-score\n",
    "predictionAndLabels = predictions.select(\"prediction\", \"Working_Weekend\").rdd.map(lambda x: (float(x[0]), float(x[1])))\n",
    "metrics = MulticlassMetrics(predictionAndLabels)\n",
    "\n",
    "list_avg=[]\n",
    "for i in range(2):\n",
    "    precision = metrics.precision(label=float(i))  \n",
    "    recall = metrics.recall(label=float(i))\n",
    "    f1Score= metrics.fMeasure(label=float(i)) # need .0\n",
    "    print(\"Precision for class \",i,\": {:.2%}\".format(precision))\n",
    "    print(\"Recall for class \",i,\": {:.2%}\".format(recall))\n",
    "    print(\"avg_F1-Score for class \",i,\": {:.2%}\".format(f1Score))\n",
    "    list_avg.append(f1Score)\n",
    "    print('----------------------------')\n",
    "sum_=0\n",
    "print(list_avg)\n",
    "for elem in list_avg:\n",
    "    sum_+=elem\n",
    "\n",
    "avg_f1=sum_/2\n",
    "print('----------------------')\n",
    "\n",
    "print(\"avg_F1-Score: {:.2%}\".format(avg_f1))\n",
    "\n",
    "labels = [\"0\", \"1\"]\n",
    "_ = plt.figure(figsize=(7, 7))\n",
    "sns.heatmap(metrics.confusionMatrix().toArray(),\n",
    "            cmap='viridis',\n",
    "            annot=True,fmt='0',\n",
    "            cbar=False, \n",
    "            xticklabels=labels, \n",
    "            yticklabels=labels)"
   ]
  },
  {
   "cell_type": "code",
   "execution_count": 28,
   "id": "384a2b47-31ea-4dc3-b515-9f99ec3b4e79",
   "metadata": {
    "tags": []
   },
   "outputs": [
    {
     "name": "stderr",
     "output_type": "stream",
     "text": [
      "                                                                                \r"
     ]
    },
    {
     "name": "stdout",
     "output_type": "stream",
     "text": [
      "0.6089311506981223\n",
      "Test Error = 0.391069\n"
     ]
    },
    {
     "name": "stderr",
     "output_type": "stream",
     "text": [
      "/opt/conda/lib/python3.10/site-packages/pyspark/sql/context.py:158: FutureWarning: Deprecated in 3.0.0. Use SparkSession.builder.getOrCreate() instead.\n",
      "  warnings.warn(\n",
      "                                                                                \r"
     ]
    },
    {
     "name": "stdout",
     "output_type": "stream",
     "text": [
      "Precision for class  0 : 86.01%\n",
      "Recall for class  0 : 61.09%\n",
      "avg_F1-Score for class  0 : 71.44%\n",
      "----------------------------\n",
      "Precision for class  1 : 27.78%\n",
      "Recall for class  1 : 60.10%\n",
      "avg_F1-Score for class  1 : 38.00%\n",
      "----------------------------\n",
      "[0.71439036539983, 0.38000127218370333]\n",
      "----------------------\n",
      "avg_F1-Score: 54.72%\n"
     ]
    },
    {
     "data": {
      "text/plain": [
       "<Axes: >"
      ]
     },
     "execution_count": 28,
     "metadata": {},
     "output_type": "execute_result"
    },
    {
     "data": {
      "image/png": "[encoded data removed]",
      "text/plain": [
       "<Figure size 700x700 with 1 Axes>"
      ]
     },
     "metadata": {},
     "output_type": "display_data"
    }
   ],
   "source": [
    "trainingData_w = trainingData.withColumn(\"weights\", when(trainingData[\"Working_Weekend\"] == 0 , 1)#Calcolo del peso per la classe 0\n",
    "    .when(trainingData[\"Working_Weekend\"] == 1, n_0/n_1)  # Calcolo del peso per la classe 1\n",
    "\n",
    ")\n",
    "\n",
    "dt = DecisionTreeClassifier(labelCol=\"Working_Weekend\", featuresCol=\"features\", maxDepth=10, maxBins=32, \n",
    "                            minInstancesPerNode=round(0.02*n), weightCol='weights')\n",
    "dt = dt.fit(trainingData_w)\n",
    "predictions = dt.transform(testData)\n",
    "# Select (prediction, true label) and compute test error\n",
    "evaluator = MulticlassClassificationEvaluator(labelCol=\"Working_Weekend\"\n",
    "                                              , predictionCol=\"prediction\"\n",
    "                                              , metricName=\"accuracy\")\n",
    "\n",
    "accuracy = evaluator.evaluate(predictions)\n",
    "print(accuracy)\n",
    "print(\"Test Error = %g\" % (1.0 - accuracy))\n",
    "\n",
    "# Calcolare precision, recall e F1-score\n",
    "predictionAndLabels = predictions.select(\"prediction\", \"Working_Weekend\").rdd.map(lambda x: (float(x[0]), float(x[1])))\n",
    "metrics = MulticlassMetrics(predictionAndLabels)\n",
    "\n",
    "list_avg=[]\n",
    "for i in range(2):\n",
    "    precision = metrics.precision(label=float(i))  \n",
    "    recall = metrics.recall(label=float(i))\n",
    "    f1Score= metrics.fMeasure(label=float(i)) # need .0\n",
    "    print(\"Precision for class \",i,\": {:.2%}\".format(precision))\n",
    "    print(\"Recall for class \",i,\": {:.2%}\".format(recall))\n",
    "    print(\"avg_F1-Score for class \",i,\": {:.2%}\".format(f1Score))\n",
    "    list_avg.append(f1Score)\n",
    "    print('----------------------------')\n",
    "sum_=0\n",
    "print(list_avg)\n",
    "for elem in list_avg:\n",
    "    sum_+=elem\n",
    "\n",
    "avg_f1=sum_/2\n",
    "print('----------------------')\n",
    "\n",
    "print(\"avg_F1-Score: {:.2%}\".format(avg_f1))\n",
    "\n",
    "labels = [\"0\", \"1\"]\n",
    "_ = plt.figure(figsize=(7, 7))\n",
    "sns.heatmap(metrics.confusionMatrix().toArray(),\n",
    "            cmap='viridis',\n",
    "            annot=True,fmt='0',\n",
    "            cbar=False, \n",
    "            xticklabels=labels, \n",
    "            yticklabels=labels)"
   ]
  },
  {
   "cell_type": "code",
   "execution_count": 29,
   "id": "1e62aa1b-92c4-48b7-889a-8a51d33a548c",
   "metadata": {
    "tags": []
   },
   "outputs": [
    {
     "name": "stderr",
     "output_type": "stream",
     "text": [
      "/opt/conda/lib/python3.10/site-packages/pyspark/sql/context.py:158: FutureWarning: Deprecated in 3.0.0. Use SparkSession.builder.getOrCreate() instead.\n",
      "  warnings.warn(\n"
     ]
    },
    {
     "name": "stdout",
     "output_type": "stream",
     "text": [
      "0.800032097576633\n",
      "Test Error = 0.199968\n"
     ]
    },
    {
     "name": "stderr",
     "output_type": "stream",
     "text": [
      "[Stage 301:==================================>                      (3 + 2) / 5]\r"
     ]
    },
    {
     "name": "stdout",
     "output_type": "stream",
     "text": [
      "Precision for class  0 : 81.26%\n",
      "Recall for class  0 : 97.52%\n",
      "avg_F1-Score for class  0 : 88.65%\n",
      "----------------------------\n",
      "Precision for class  1 : 49.28%\n",
      "Recall for class  1 : 9.68%\n",
      "avg_F1-Score for class  1 : 16.18%\n",
      "----------------------------\n",
      "[0.8864744202997585, 0.16178943827783385]\n",
      "----------------------\n",
      "avg_F1-Score: 52.41%\n"
     ]
    },
    {
     "name": "stderr",
     "output_type": "stream",
     "text": [
      "                                                                                \r"
     ]
    },
    {
     "data": {
      "text/plain": [
       "<Axes: >"
      ]
     },
     "execution_count": 29,
     "metadata": {},
     "output_type": "execute_result"
    },
    {
     "data": {
      "image/png": "[encoded data removed]",
      "text/plain": [
       "<Figure size 700x700 with 1 Axes>"
      ]
     },
     "metadata": {},
     "output_type": "display_data"
    }
   ],
   "source": [
    "trainingData_w = trainingData.withColumn(\"weights\", when(trainingData[\"Working_Weekend\"] == 0 , 1)#Calcolo del peso per la classe 0\n",
    "    .when(trainingData[\"Working_Weekend\"] == 1, 1.2)  # Calcolo del peso per la classe 1\n",
    "\n",
    ")\n",
    "\n",
    "dt = DecisionTreeClassifier(labelCol=\"Working_Weekend\", featuresCol=\"features\", maxDepth=25, maxBins=64,\n",
    "                            minInstancesPerNode=round(0.005*n), impurity='entropy', weightCol='weights' )\n",
    "dt = dt.fit(trainingData_w)\n",
    "predictions = dt.transform(testData)\n",
    "# Select (prediction, true label) and compute test error\n",
    "evaluator = MulticlassClassificationEvaluator(labelCol=\"Working_Weekend\"\n",
    "                                              , predictionCol=\"prediction\"\n",
    "                                              , metricName=\"accuracy\")\n",
    "\n",
    "accuracy = evaluator.evaluate(predictions)\n",
    "print(accuracy)\n",
    "print(\"Test Error = %g\" % (1.0 - accuracy))\n",
    "\n",
    "# Calcolare precision, recall e F1-score\n",
    "predictionAndLabels = predictions.select(\"prediction\", \"Working_Weekend\").rdd.map(lambda x: (float(x[0]), float(x[1])))\n",
    "metrics = MulticlassMetrics(predictionAndLabels)\n",
    "\n",
    "list_avg=[]\n",
    "for i in range(2):\n",
    "    precision = metrics.precision(label=float(i))  \n",
    "    recall = metrics.recall(label=float(i))\n",
    "    f1Score= metrics.fMeasure(label=float(i)) # need .0\n",
    "    print(\"Precision for class \",i,\": {:.2%}\".format(precision))\n",
    "    print(\"Recall for class \",i,\": {:.2%}\".format(recall))\n",
    "    print(\"avg_F1-Score for class \",i,\": {:.2%}\".format(f1Score))\n",
    "    list_avg.append(f1Score)\n",
    "    print('----------------------------')\n",
    "sum_=0\n",
    "print(list_avg)\n",
    "for elem in list_avg:\n",
    "    sum_+=elem\n",
    "\n",
    "avg_f1=sum_/2\n",
    "print('----------------------')\n",
    "\n",
    "print(\"avg_F1-Score: {:.2%}\".format(avg_f1))\n",
    "\n",
    "labels = [\"0\", \"1\"]\n",
    "_ = plt.figure(figsize=(7, 7))\n",
    "sns.heatmap(metrics.confusionMatrix().toArray(),\n",
    "            cmap='viridis',\n",
    "            annot=True,fmt='0',\n",
    "            cbar=False, \n",
    "            xticklabels=labels, \n",
    "            yticklabels=labels)"
   ]
  },
  {
   "cell_type": "markdown",
   "id": "fdb3a747-20a2-4965-bdca-05159720d2fc",
   "metadata": {},
   "source": [
    "# undersampling"
   ]
  },
  {
   "cell_type": "markdown",
   "id": "5b686202-c32b-4d78-af4e-f6ecb714a6a8",
   "metadata": {},
   "source": [
    "DECISION TREE"
   ]
  },
  {
   "cell_type": "code",
   "execution_count": 30,
   "id": "00dfe50c-d2f7-49ff-a115-0a279879f77a",
   "metadata": {
    "tags": []
   },
   "outputs": [
    {
     "name": "stderr",
     "output_type": "stream",
     "text": [
      "                                                                                \r"
     ]
    }
   ],
   "source": [
    "train_und = trainingData.sampleBy('Working_Weekend', fractions={0:n_1/n_0 ,1: 1})\n",
    "from pyspark.ml.classification import DecisionTreeClassifier\n",
    "\n",
    "dt = DecisionTreeClassifier(labelCol=\"Working_Weekend\", featuresCol=\"features\")\n",
    "\n",
    "dt = dt.fit(train_und)"
   ]
  },
  {
   "cell_type": "code",
   "execution_count": 31,
   "id": "d76e40c2-cda0-4792-a4be-d6fcfd83e6aa",
   "metadata": {
    "tags": []
   },
   "outputs": [
    {
     "data": {
      "text/plain": [
       "SparseVector(27, {0: 0.0278, 1: 0.0077, 2: 0.0135, 3: 0.1263, 4: 0.0169, 5: 0.007, 6: 0.092, 7: 0.0498, 14: 0.0018, 20: 0.0052, 21: 0.652})"
      ]
     },
     "execution_count": 31,
     "metadata": {},
     "output_type": "execute_result"
    }
   ],
   "source": [
    "dt.featureImportances"
   ]
  },
  {
   "cell_type": "code",
   "execution_count": 32,
   "id": "e9ed3ff9-0adc-4227-9eee-c2db356cb806",
   "metadata": {
    "tags": []
   },
   "outputs": [
    {
     "name": "stderr",
     "output_type": "stream",
     "text": [
      "[Stage 320:===========>                                             (1 + 4) / 5]\r"
     ]
    },
    {
     "name": "stdout",
     "output_type": "stream",
     "text": [
      "0.5978574867597496\n",
      "Test Error = 0.402143\n"
     ]
    },
    {
     "name": "stderr",
     "output_type": "stream",
     "text": [
      "                                                                                \r"
     ]
    }
   ],
   "source": [
    "# Make predictions.\n",
    "predictions = dt.transform(testData)\n",
    "\n",
    "#predictions.show(20)\n",
    "from pyspark.ml.evaluation import MulticlassClassificationEvaluator\n",
    "# Select (prediction, true label) and compute test error\n",
    "evaluator = MulticlassClassificationEvaluator(labelCol=\"Working_Weekend\"\n",
    "                                              , predictionCol=\"prediction\"\n",
    "                                              , metricName=\"accuracy\")\n",
    "\n",
    "accuracy = evaluator.evaluate(predictions)\n",
    "print(accuracy)\n",
    "print(\"Test Error = %g\" % (1.0 - accuracy))"
   ]
  },
  {
   "cell_type": "code",
   "execution_count": 33,
   "id": "6e722891-1154-4cc3-84d6-351b57b18da0",
   "metadata": {
    "tags": []
   },
   "outputs": [
    {
     "name": "stderr",
     "output_type": "stream",
     "text": [
      "/opt/conda/lib/python3.10/site-packages/pyspark/sql/context.py:158: FutureWarning: Deprecated in 3.0.0. Use SparkSession.builder.getOrCreate() instead.\n",
      "  warnings.warn(\n",
      "[Stage 323:===========>                                             (1 + 4) / 5]\r"
     ]
    },
    {
     "name": "stdout",
     "output_type": "stream",
     "text": [
      "Precision for class  0 : 85.56%\n",
      "Recall for class  0 : 59.87%\n",
      "avg_F1-Score for class  0 : 70.45%\n",
      "----------------------------\n",
      "Precision for class  1 : 26.95%\n",
      "Recall for class  1 : 59.44%\n",
      "avg_F1-Score for class  1 : 37.08%\n",
      "----------------------------\n",
      "[0.7044844768110388, 0.37084928755257046]\n",
      "----------------------\n",
      "avg_F1-Score: 53.77%\n"
     ]
    },
    {
     "name": "stderr",
     "output_type": "stream",
     "text": [
      "                                                                                \r"
     ]
    }
   ],
   "source": [
    "from pyspark.mllib.evaluation import MulticlassMetrics\n",
    "# Calcolare precision, recall e F1-score\n",
    "predictionAndLabels = predictions.select(\"prediction\", \"Working_Weekend\").rdd.map(lambda x: (float(x[0]), float(x[1])))\n",
    "metrics = MulticlassMetrics(predictionAndLabels)\n",
    "\n",
    "list_avg=[]\n",
    "for i in range(2):\n",
    "    precision = metrics.precision(label=float(i))  \n",
    "    recall = metrics.recall(label=float(i))\n",
    "    f1Score= metrics.fMeasure(label=float(i)) # need .0\n",
    "    print(\"Precision for class \",i,\": {:.2%}\".format(precision))\n",
    "    print(\"Recall for class \",i,\": {:.2%}\".format(recall))\n",
    "    print(\"avg_F1-Score for class \",i,\": {:.2%}\".format(f1Score))\n",
    "    list_avg.append(f1Score)\n",
    "    print('----------------------------')\n",
    "sum_=0\n",
    "print(list_avg)\n",
    "for elem in list_avg:\n",
    "    sum_+=elem\n",
    "\n",
    "avg_f1=sum_/2\n",
    "print('----------------------')\n",
    "\n",
    "print(\"avg_F1-Score: {:.2%}\".format(avg_f1))"
   ]
  },
  {
   "cell_type": "code",
   "execution_count": 34,
   "id": "2d6860e9-8b91-4af2-a734-6d95f551383a",
   "metadata": {
    "tags": []
   },
   "outputs": [
    {
     "data": {
      "text/plain": [
       "<Axes: >"
      ]
     },
     "execution_count": 34,
     "metadata": {},
     "output_type": "execute_result"
    },
    {
     "data": {
      "image/png": "[encoded data removed]",
      "text/plain": [
       "<Figure size 700x700 with 1 Axes>"
      ]
     },
     "metadata": {},
     "output_type": "display_data"
    }
   ],
   "source": [
    "import seaborn as sns\n",
    "import matplotlib.pyplot as plt\n",
    "\n",
    "labels = [\"0\", \"1\"]\n",
    "_ = plt.figure(figsize=(7, 7))\n",
    "sns.heatmap(metrics.confusionMatrix().toArray(),\n",
    "            cmap='viridis',\n",
    "            annot=True,fmt='0',\n",
    "            cbar=False, \n",
    "            xticklabels=labels, \n",
    "            yticklabels=labels)"
   ]
  },
  {
   "cell_type": "markdown",
   "id": "9d9f1acd-c7d0-4e4d-b8c4-c9c74f37850d",
   "metadata": {},
   "source": [
    "RANDOM FOREST"
   ]
  },
  {
   "cell_type": "code",
   "execution_count": 36,
   "id": "d7c2ba07-10de-4f58-bb8a-767967db5368",
   "metadata": {
    "tags": []
   },
   "outputs": [
    {
     "name": "stderr",
     "output_type": "stream",
     "text": [
      "23/12/15 09:19:35 WARN DAGScheduler: Broadcasting large task binary with size 1079.9 KiB\n",
      "23/12/15 09:19:35 WARN DAGScheduler: Broadcasting large task binary with size 1380.2 KiB\n",
      "23/12/15 09:19:35 WARN DAGScheduler: Broadcasting large task binary with size 1700.6 KiB\n",
      "23/12/15 09:19:36 WARN DAGScheduler: Broadcasting large task binary with size 1140.7 KiB\n",
      "23/12/15 09:19:37 WARN DAGScheduler: Broadcasting large task binary with size 1129.1 KiB\n"
     ]
    },
    {
     "name": "stdout",
     "output_type": "stream",
     "text": [
      "0.6864066762959397\n",
      "Test Error = 0.313593\n"
     ]
    },
    {
     "name": "stderr",
     "output_type": "stream",
     "text": [
      "23/12/15 09:19:38 WARN DAGScheduler: Broadcasting large task binary with size 1140.5 KiB\n",
      "[Stage 387:===========>                                             (1 + 4) / 5]\r"
     ]
    },
    {
     "name": "stdout",
     "output_type": "stream",
     "text": [
      "Precision for class  0 : 91.68%\n",
      "Recall for class  0 : 66.90%\n",
      "avg_F1-Score for class  0 : 77.35%\n",
      "----------------------------\n",
      "Precision for class  1 : 36.27%\n",
      "Recall for class  1 : 75.63%\n",
      "avg_F1-Score for class  1 : 49.03%\n",
      "----------------------------\n",
      "[0.7735411716984412, 0.4902830311725578]\n",
      "----------------------\n",
      "avg_F1-Score: 63.19%\n"
     ]
    },
    {
     "name": "stderr",
     "output_type": "stream",
     "text": [
      "                                                                                \r"
     ]
    }
   ],
   "source": [
    "from pyspark.ml import Pipeline\n",
    "from pyspark.ml.classification import RandomForestClassifier\n",
    "from pyspark.ml.feature import IndexToString, StringIndexer, VectorIndexer\n",
    "from pyspark.ml.evaluation import MulticlassClassificationEvaluator\n",
    "from pyspark.mllib.evaluation import MulticlassMetrics\n",
    " \n",
    "# Train a RandomForest model.\n",
    "rf = RandomForestClassifier(labelCol=\"Working_Weekend\", featuresCol=\"features\", numTrees=5,maxDepth=15)\n",
    " \n",
    " \n",
    "# Train model.  This also runs the indexers.\n",
    "model = rf.fit(train_und)\n",
    " \n",
    " \n",
    "# Make predictions.\n",
    "predictions = model.transform(testData)\n",
    " \n",
    "evaluator = MulticlassClassificationEvaluator(labelCol=\"Working_Weekend\"\n",
    "                                              , predictionCol=\"prediction\"\n",
    "                                              , metricName=\"accuracy\")\n",
    " \n",
    "accuracy = evaluator.evaluate(predictions)\n",
    "print(accuracy)\n",
    "print(\"Test Error = %g\" % (1.0 - accuracy))\n",
    "from pyspark.mllib.evaluation import MulticlassMetrics\n",
    "# Calcolare precision, recall e F1-score\n",
    "predictionAndLabels = predictions.select(\"prediction\", \"Working_Weekend\").rdd.map(lambda x: (float(x[0]), float(x[1])))\n",
    "metrics = MulticlassMetrics(predictionAndLabels)\n",
    " \n",
    "list_avg=[]\n",
    "for i in range(2):\n",
    "    precision = metrics.precision(label=float(i))  \n",
    "    recall = metrics.recall(label=float(i))\n",
    "    f1Score= metrics.fMeasure(label=float(i)) # need .0\n",
    "    print(\"Precision for class \",i,\": {:.2%}\".format(precision))\n",
    "    print(\"Recall for class \",i,\": {:.2%}\".format(recall))\n",
    "    print(\"avg_F1-Score for class \",i,\": {:.2%}\".format(f1Score))\n",
    "    list_avg.append(f1Score)\n",
    "    print('----------------------------')\n",
    "sum_=0\n",
    "print(list_avg)\n",
    "for elem in list_avg:\n",
    "    sum_+=elem\n",
    " \n",
    "avg_f1=sum_/2\n",
    "print('----------------------')\n",
    " \n",
    "print(\"avg_F1-Score: {:.2%}\".format(avg_f1))"
   ]
  },
  {
   "cell_type": "code",
   "execution_count": 37,
   "id": "814a0f9f-496e-4727-9306-b6320e314b95",
   "metadata": {
    "tags": []
   },
   "outputs": [
    {
     "data": {
      "text/plain": [
       "SparseVector(27, {0: 0.0226, 1: 0.1119, 2: 0.1073, 3: 0.0966, 4: 0.1163, 5: 0.0888, 6: 0.0474, 7: 0.0836, 8: 0.0165, 9: 0.0009, 10: 0.004, 11: 0.0004, 12: 0.0069, 13: 0.0001, 14: 0.0011, 16: 0.0011, 17: 0.0015, 18: 0.0, 19: 0.006, 20: 0.0862, 21: 0.1342, 22: 0.0258, 23: 0.0103, 24: 0.0117, 25: 0.0137, 26: 0.0051})"
      ]
     },
     "execution_count": 37,
     "metadata": {},
     "output_type": "execute_result"
    }
   ],
   "source": [
    "model.featureImportances"
   ]
  },
  {
   "cell_type": "markdown",
   "id": "0ea0b133-d046-483b-a429-3146ba56facd",
   "metadata": {},
   "source": [
    "# Oversampling"
   ]
  },
  {
   "cell_type": "markdown",
   "id": "8ae9188f-72e2-4cd9-9aac-b7ca9ec24a4a",
   "metadata": {},
   "source": [
    "DECISION TREE"
   ]
  },
  {
   "cell_type": "code",
   "execution_count": 38,
   "id": "00e3f705-7c2a-4421-96ef-a0362246bfb2",
   "metadata": {
    "tags": []
   },
   "outputs": [],
   "source": [
    "under_1=trainingData.filter(col('Working_Weekend') == 1)\n",
    "under_1 = trainingData.sample(True, 0.3, seed=42)\n"
   ]
  },
  {
   "cell_type": "code",
   "execution_count": 39,
   "id": "d28a6812-9ce6-47c8-9824-a31f1da81162",
   "metadata": {
    "tags": []
   },
   "outputs": [
    {
     "name": "stdout",
     "output_type": "stream",
     "text": [
      "2.080372692441658\n",
      "1.080372692441658\n",
      "0.0803726924416579\n"
     ]
    }
   ],
   "source": [
    "oversample_1=trainingData.filter(col('Working_Weekend') == 1)\n",
    "num_campioni_da_generare = n_0\n",
    "num_campioni_da_generare=(num_campioni_da_generare-n_1)/n_1 #percentuale \n",
    "#print(num_campioni_da_generare)\n",
    "full_1=oversample_1\n",
    "#print(full.count())\n",
    "while num_campioni_da_generare>1:\n",
    "    oversample_1= oversample_1.unionAll(full_1)\n",
    "    num_campioni_da_generare=num_campioni_da_generare-1.0\n",
    "    print(num_campioni_da_generare)\n",
    "df_minority_oversampled = full_1.sample(True, num_campioni_da_generare, seed=42)\n",
    "\n",
    "oversample_1 = oversample_1.unionAll(df_minority_oversampled)"
   ]
  },
  {
   "cell_type": "code",
   "execution_count": 40,
   "id": "dc981e00-6ab1-4ba7-a9f5-df8e551d099f",
   "metadata": {
    "tags": []
   },
   "outputs": [],
   "source": [
    "df_over=oversample_1.unionAll(trainingData.filter(col('Working_Weekend') == 0))"
   ]
  },
  {
   "cell_type": "code",
   "execution_count": 41,
   "id": "0651c028-e538-4b09-abba-0196f1074670",
   "metadata": {
    "tags": []
   },
   "outputs": [
    {
     "name": "stderr",
     "output_type": "stream",
     "text": [
      "[Stage 389:===============================================>       (26 + 4) / 30]\r"
     ]
    },
    {
     "name": "stdout",
     "output_type": "stream",
     "text": [
      "+---------------+---------------+\n",
      "|Working_Weekend|Working_Weekend|\n",
      "+---------------+---------------+\n",
      "|              0|          46859|\n",
      "|              1|          46853|\n",
      "+---------------+---------------+\n",
      "\n"
     ]
    },
    {
     "name": "stderr",
     "output_type": "stream",
     "text": [
      "                                                                                \r"
     ]
    }
   ],
   "source": [
    "from pyspark.sql import functions as F\n",
    "g=df_over.groupBy('Working_Weekend').agg(F.count('Working_Weekend').alias('Working_Weekend'))\n",
    "g=g.sort('Working_Weekend')\n",
    "g.show()"
   ]
  },
  {
   "cell_type": "code",
   "execution_count": 42,
   "id": "068abb2c-7072-48f9-b346-7bade2a4fac0",
   "metadata": {
    "tags": []
   },
   "outputs": [
    {
     "name": "stderr",
     "output_type": "stream",
     "text": [
      "                                                                                \r"
     ]
    }
   ],
   "source": [
    "train_over=df_over\n",
    "from pyspark.ml.classification import DecisionTreeClassifier\n",
    "\n",
    "dt = DecisionTreeClassifier(labelCol=\"Working_Weekend\", featuresCol=\"features\")\n",
    "\n",
    "dt = dt.fit(train_over)"
   ]
  },
  {
   "cell_type": "code",
   "execution_count": 43,
   "id": "c255c859-e527-4a4f-9571-e833c771c6cc",
   "metadata": {
    "tags": []
   },
   "outputs": [
    {
     "data": {
      "text/plain": [
       "SparseVector(27, {0: 0.0279, 1: 0.013, 2: 0.0221, 3: 0.1277, 4: 0.003, 5: 0.0172, 6: 0.077, 7: 0.0409, 20: 0.0163, 21: 0.6494, 25: 0.0054})"
      ]
     },
     "execution_count": 43,
     "metadata": {},
     "output_type": "execute_result"
    }
   ],
   "source": [
    "dt.featureImportances"
   ]
  },
  {
   "cell_type": "code",
   "execution_count": 44,
   "id": "3c93ac48-7ca0-4c7d-b2ea-6d3ec48f0eac",
   "metadata": {
    "tags": []
   },
   "outputs": [
    {
     "name": "stderr",
     "output_type": "stream",
     "text": [
      "[Stage 409:======================>                                  (2 + 3) / 5]\r"
     ]
    },
    {
     "name": "stdout",
     "output_type": "stream",
     "text": [
      "0.6263842079922965\n",
      "Test Error = 0.373616\n"
     ]
    },
    {
     "name": "stderr",
     "output_type": "stream",
     "text": [
      "                                                                                \r"
     ]
    }
   ],
   "source": [
    "# Make predictions.\n",
    "predictions = dt.transform(testData)\n",
    "\n",
    "#predictions.show(20)\n",
    "from pyspark.ml.evaluation import MulticlassClassificationEvaluator\n",
    "# Select (prediction, true label) and compute test error\n",
    "evaluator = MulticlassClassificationEvaluator(labelCol=\"Working_Weekend\"\n",
    "                                              , predictionCol=\"prediction\"\n",
    "                                              , metricName=\"accuracy\")\n",
    "\n",
    "accuracy = evaluator.evaluate(predictions)\n",
    "print(accuracy)\n",
    "print(\"Test Error = %g\" % (1.0 - accuracy))"
   ]
  },
  {
   "cell_type": "code",
   "execution_count": 45,
   "id": "1a5fe924-fea3-43e0-bfa0-3382123e56d3",
   "metadata": {
    "tags": []
   },
   "outputs": [
    {
     "name": "stderr",
     "output_type": "stream",
     "text": [
      "[Stage 412:===========>                                             (1 + 4) / 5]\r"
     ]
    },
    {
     "name": "stdout",
     "output_type": "stream",
     "text": [
      "Precision for class  0 : 85.47%\n",
      "Recall for class  0 : 64.25%\n",
      "avg_F1-Score for class  0 : 73.36%\n",
      "----------------------------\n",
      "Precision for class  1 : 28.12%\n",
      "Recall for class  1 : 56.16%\n",
      "avg_F1-Score for class  1 : 37.48%\n",
      "----------------------------\n",
      "[0.7335927218630199, 0.37478179132536593]\n",
      "----------------------\n",
      "avg_F1-Score: 55.42%\n"
     ]
    },
    {
     "name": "stderr",
     "output_type": "stream",
     "text": [
      "                                                                                \r"
     ]
    }
   ],
   "source": [
    "from pyspark.mllib.evaluation import MulticlassMetrics\n",
    "# Calcolare precision, recall e F1-score\n",
    "predictionAndLabels = predictions.select(\"prediction\", \"Working_Weekend\").rdd.map(lambda x: (float(x[0]), float(x[1])))\n",
    "metrics = MulticlassMetrics(predictionAndLabels)\n",
    "\n",
    "list_avg=[]\n",
    "for i in range(2):\n",
    "    precision = metrics.precision(label=float(i))  \n",
    "    recall = metrics.recall(label=float(i))\n",
    "    f1Score= metrics.fMeasure(label=float(i)) # need .0\n",
    "    print(\"Precision for class \",i,\": {:.2%}\".format(precision))\n",
    "    print(\"Recall for class \",i,\": {:.2%}\".format(recall))\n",
    "    print(\"avg_F1-Score for class \",i,\": {:.2%}\".format(f1Score))\n",
    "    list_avg.append(f1Score)\n",
    "    print('----------------------------')\n",
    "sum_=0\n",
    "print(list_avg)\n",
    "for elem in list_avg:\n",
    "    sum_+=elem\n",
    "\n",
    "avg_f1=sum_/2\n",
    "print('----------------------')\n",
    "\n",
    "print(\"avg_F1-Score: {:.2%}\".format(avg_f1))"
   ]
  },
  {
   "cell_type": "code",
   "execution_count": 46,
   "id": "b014ff64-1ea6-4e5a-8aee-90f27770a88c",
   "metadata": {
    "tags": []
   },
   "outputs": [
    {
     "data": {
      "text/plain": [
       "<Axes: >"
      ]
     },
     "execution_count": 46,
     "metadata": {},
     "output_type": "execute_result"
    },
    {
     "data": {
      "image/png": "[encoded data removed]",
      "text/plain": [
       "<Figure size 700x700 with 1 Axes>"
      ]
     },
     "metadata": {},
     "output_type": "display_data"
    }
   ],
   "source": [
    "import seaborn as sns\n",
    "import matplotlib.pyplot as plt\n",
    "\n",
    "labels = [\"0\", \"1\"]\n",
    "_ = plt.figure(figsize=(7, 7))\n",
    "sns.heatmap(metrics.confusionMatrix().toArray(),\n",
    "            cmap='viridis',\n",
    "            annot=True,fmt='0',\n",
    "            cbar=False, \n",
    "            xticklabels=labels, \n",
    "            yticklabels=labels)"
   ]
  },
  {
   "cell_type": "markdown",
   "id": "e69978bd-0f47-4feb-b733-3396aef5aa1b",
   "metadata": {},
   "source": [
    "RANDOM FOREST"
   ]
  },
  {
   "cell_type": "code",
   "execution_count": 47,
   "id": "a26db445-4e1b-48a0-811e-662fa73ab8e0",
   "metadata": {
    "tags": []
   },
   "outputs": [
    {
     "name": "stderr",
     "output_type": "stream",
     "text": [
      "[Stage 431:==================================>                      (3 + 2) / 5]\r"
     ]
    },
    {
     "name": "stdout",
     "output_type": "stream",
     "text": [
      "Test Accuracy = 0.655513\n"
     ]
    },
    {
     "name": "stderr",
     "output_type": "stream",
     "text": [
      "                                                                                \r"
     ]
    }
   ],
   "source": [
    "from pyspark.ml import Pipeline\n",
    "from pyspark.ml.classification import RandomForestClassifier\n",
    "from pyspark.ml.feature import IndexToString, StringIndexer, VectorIndexer\n",
    "from pyspark.ml.evaluation import MulticlassClassificationEvaluator\n",
    "from pyspark.mllib.evaluation import MulticlassMetrics\n",
    "\n",
    "# Train a RandomForest model.\n",
    "rf = RandomForestClassifier(labelCol=\"Working_Weekend\", featuresCol=\"features\", numTrees=10)\n",
    "\n",
    "\n",
    "# Train model.  This also runs the indexers.\n",
    "model = rf.fit(train_over)\n",
    "\n",
    "# Make predictions.\n",
    "predictions = model.transform(testData)\n",
    "\n",
    "# Select example rows to display.\n",
    "#predictions.select(\"predictedLabel\", \"Severity\", \"features\").show(5)\n",
    "\n",
    "evaluator = MulticlassClassificationEvaluator(\n",
    "    labelCol=\"Working_Weekend\", predictionCol=\"prediction\", metricName=\"accuracy\")\n",
    "accuracy = evaluator.evaluate(predictions)\n",
    "print(\"Test Accuracy = %g\" % (accuracy))"
   ]
  },
  {
   "cell_type": "code",
   "execution_count": 48,
   "id": "e6e7a6a1-f8b4-40ef-a359-f41e8da7c82b",
   "metadata": {
    "tags": []
   },
   "outputs": [
    {
     "name": "stderr",
     "output_type": "stream",
     "text": [
      "/opt/conda/lib/python3.10/site-packages/pyspark/sql/context.py:158: FutureWarning: Deprecated in 3.0.0. Use SparkSession.builder.getOrCreate() instead.\n",
      "  warnings.warn(\n",
      "[Stage 434:======================>                                  (2 + 3) / 5]\r"
     ]
    },
    {
     "name": "stdout",
     "output_type": "stream",
     "text": [
      "Precision for class  0 : 86.05%\n",
      "Recall for class  0 : 68.00%\n",
      "avg_F1-Score for class  0 : 75.96%\n",
      "----------------------------\n",
      "Precision for class  1 : 30.25%\n",
      "Recall for class  1 : 55.73%\n",
      "avg_F1-Score for class  1 : 39.22%\n",
      "----------------------------\n",
      "[0.7596439169139466, 0.392184624097409]\n",
      "----------------------\n",
      "avg_F1-Score: 57.59%\n"
     ]
    },
    {
     "name": "stderr",
     "output_type": "stream",
     "text": [
      "                                                                                \r"
     ]
    }
   ],
   "source": [
    "from pyspark.mllib.evaluation import MulticlassMetrics\n",
    "# Calcolare precision, recall e F1-score\n",
    "predictionAndLabels = predictions.select(\"prediction\", \"Working_Weekend\").rdd.map(lambda x: (float(x[0]), float(x[1])))\n",
    "metrics = MulticlassMetrics(predictionAndLabels)\n",
    "\n",
    "list_avg=[]\n",
    "for i in range(2):\n",
    "    precision = metrics.precision(label=float(i))  \n",
    "    recall = metrics.recall(label=float(i))\n",
    "    f1Score= metrics.fMeasure(label=float(i)) # need .0\n",
    "    print(\"Precision for class \",i,\": {:.2%}\".format(precision))\n",
    "    print(\"Recall for class \",i,\": {:.2%}\".format(recall))\n",
    "    print(\"avg_F1-Score for class \",i,\": {:.2%}\".format(f1Score))\n",
    "    list_avg.append(f1Score)\n",
    "    print('----------------------------')\n",
    "sum_=0\n",
    "print(list_avg)\n",
    "for elem in list_avg:\n",
    "    sum_+=elem\n",
    "\n",
    "avg_f1=sum_/2\n",
    "print('----------------------')\n",
    "\n",
    "print(\"avg_F1-Score: {:.2%}\".format(avg_f1))"
   ]
  },
  {
   "cell_type": "code",
   "execution_count": 49,
   "id": "a37bb84f-e7aa-4833-bbde-44bf2308cb77",
   "metadata": {
    "tags": []
   },
   "outputs": [
    {
     "data": {
      "text/plain": [
       "<Axes: >"
      ]
     },
     "execution_count": 49,
     "metadata": {},
     "output_type": "execute_result"
    },
    {
     "data": {
      "image/png": "[encoded data removed]",
      "text/plain": [
       "<Figure size 700x700 with 1 Axes>"
      ]
     },
     "metadata": {},
     "output_type": "display_data"
    }
   ],
   "source": [
    "import seaborn as sns\n",
    "import matplotlib.pyplot as plt\n",
    "\n",
    "labels = [\"0\", \"1\"]\n",
    "_ = plt.figure(figsize=(7, 7))\n",
    "sns.heatmap(metrics.confusionMatrix().toArray(),\n",
    "            cmap='viridis',\n",
    "            annot=True,fmt='0',\n",
    "            cbar=False, \n",
    "            xticklabels=labels, \n",
    "            yticklabels=labels)"
   ]
  },
  {
   "cell_type": "code",
   "execution_count": 50,
   "id": "0e1b2efd-e0d1-4724-93b4-f21a9fe1e890",
   "metadata": {
    "tags": []
   },
   "outputs": [
    {
     "data": {
      "text/plain": [
       "SparseVector(27, {0: 0.0898, 1: 0.0637, 2: 0.0589, 3: 0.1317, 4: 0.0966, 5: 0.009, 6: 0.0564, 7: 0.0123, 8: 0.0066, 10: 0.0008, 11: 0.0001, 12: 0.001, 16: 0.0006, 17: 0.0001, 19: 0.0061, 20: 0.0565, 21: 0.191, 22: 0.1988, 23: 0.0054, 24: 0.0048, 25: 0.0099})"
      ]
     },
     "execution_count": 50,
     "metadata": {},
     "output_type": "execute_result"
    }
   ],
   "source": [
    "model.featureImportances"
   ]
  }
 ],
 "metadata": {
  "kernelspec": {
   "display_name": "Python 3 (ipykernel)",
   "language": "python",
   "name": "python3"
  },
  "language_info": {
   "codemirror_mode": {
    "name": "ipython",
    "version": 3
   },
   "file_extension": ".py",
   "mimetype": "text/x-python",
   "name": "python",
   "nbconvert_exporter": "python",
   "pygments_lexer": "ipython3",
   "version": "3.9.13"
  }
 },
 "nbformat": 4,
 "nbformat_minor": 5
}
