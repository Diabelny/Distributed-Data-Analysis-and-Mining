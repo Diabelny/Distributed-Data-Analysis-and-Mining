{
 "cells": [
  {
   "cell_type": "code",
   "execution_count": 1,
   "id": "a3665cad-3f74-4bad-8fc4-e7af7816a2d9",
   "metadata": {
    "tags": []
   },
   "outputs": [
    {
     "name": "stderr",
     "output_type": "stream",
     "text": [
      "Setting default log level to \"WARN\".\n",
      "To adjust logging level use sc.setLogLevel(newLevel). For SparkR, use setLogLevel(newLevel).\n",
      "23/12/14 21:27:05 WARN NativeCodeLoader: Unable to load native-hadoop library for your platform... using builtin-java classes where applicable\n"
     ]
    }
   ],
   "source": [
    "import pandas as pd\n",
    "import matplotlib.pyplot as plt\n",
    "import seaborn as sns\n",
    "from pyspark.ml.feature import StringIndexer,OneHotEncoder\n",
    "from pyspark.sql import SQLContext, SparkSession, Row\n",
    "from pyspark.mllib.stat import Statistics\n",
    "from pyspark.ml import Pipeline\n",
    "from pyspark.ml.feature import VectorAssembler, MinMaxScaler, StandardScaler\n",
    "from pyspark.sql.functions import col\n",
    "import pyspark.sql.functions as F\n",
    "from pyspark.sql.functions import when, count, isnull\n",
    "from pyspark.mllib.regression import LabeledPoint\n",
    "from pyspark.ml.linalg import Vectors\n",
    "from pyspark.sql.types import FloatType\n",
    "\n",
    "from pyspark.sql.functions import udf\n",
    "from pyspark.sql.types import IntegerType\n",
    "\n",
    "from pyspark.ml.classification import MultilayerPerceptronClassifier\n",
    "from pyspark.ml.evaluation import MulticlassClassificationEvaluator\n",
    "from pyspark.ml.tuning import ParamGridBuilder, CrossValidator\n",
    "from pyspark.mllib.evaluation import MulticlassMetrics\n",
    "\n",
    "from pyspark.ml.functions import vector_to_array\n",
    "\n",
    "import pyspark.sql.functions as F\n",
    "\n",
    "spark = SparkSession.Builder().appName('DDAM_Project_north').getOrCreate()"
   ]
  },
  {
   "cell_type": "code",
   "execution_count": 2,
   "id": "7f36b228-410c-4e32-aa90-803083e7e7a4",
   "metadata": {
    "tags": []
   },
   "outputs": [
    {
     "name": "stderr",
     "output_type": "stream",
     "text": [
      "                                                                                \r"
     ]
    }
   ],
   "source": [
    "df = spark.read.options(inferSchema = True, delimiter = ',', header = True).csv('../../Datasets/North_Incidents_Cleaned.csv')"
   ]
  },
  {
   "cell_type": "markdown",
   "id": "e9f7a21b-232e-42a5-9f4e-250f102fa88a",
   "metadata": {},
   "source": [
    "Preparing data for MLP classification"
   ]
  },
  {
   "cell_type": "code",
   "execution_count": 3,
   "id": "99473e29-1e81-4398-91c2-24d843e07512",
   "metadata": {
    "tags": []
   },
   "outputs": [
    {
     "name": "stderr",
     "output_type": "stream",
     "text": [
      "23/12/14 21:27:14 WARN SparkStringUtils: Truncated the string representation of a plan since it was too large. This behavior can be adjusted by setting 'spark.sql.debug.maxToStringFields'.\n"
     ]
    },
    {
     "name": "stdout",
     "output_type": "stream",
     "text": [
      "+--------+------------------+------------------+------------------+-------------+-------------+-------------+--------------+----------------+-------+--------+--------+--------+-------+-------+----------+-------+----+---------------+--------------+-----+----+---------------+---------------------+------+------+----+----+-----+\n",
      "|Severity|         Start_Lat|         Start_Lng|       Distance_mi|Temperature_F|Humidity_perc|Visibility_mi|Wind_Speed_mph|Precipitation_in|Amenity|Crossing|Give_Way|Junction|No_Exit|Railway|Roundabout|Station|Stop|Traffic_Calming|Traffic_Signal|month|hour|Working_Weekend|Astronomical_Twilight|Cloudy|Normal|Snow|Rain|Foggy|\n",
      "+--------+------------------+------------------+------------------+-------------+-------------+-------------+--------------+----------------+-------+--------+--------+--------+-------+-------+----------+-------+----+---------------+--------------+-----+----+---------------+---------------------+------+------+----+----+-----+\n",
      "|       2|         41.877678|        -86.088089|               0.0|         30.0|         64.0|         10.0|          13.0|             0.0|      0|       0|       0|       0|      0|      0|         0|      0|   0|              0|             0|    2|  15|              0|                    0|   0.0|   1.0| 0.0| 0.0|  0.0|\n",
      "|       1|41.883412599363886|-86.07864260632476|             0.647|         30.0|         64.0|         10.0|          13.0|             0.0|      0|       0|       0|       0|      0|      0|         0|      0|   0|              0|             0|    2|  15|              0|                    0|   0.0|   1.0| 0.0| 0.0|  0.0|\n",
      "|       1|         41.883422|-86.07864599999998|             0.927|         30.0|         64.0|         10.0|          10.0|             0.0|      0|       0|       0|       0|      0|      0|         0|      0|   0|              0|             0|    2|  16|              0|                    0|   0.0|   1.0| 0.0| 0.0|  0.0|\n",
      "|       1|41.883412599363886|-86.07864260632476|             0.647|         30.0|         64.0|         10.0|          10.0|             0.0|      0|       0|       0|       0|      0|      0|         0|      0|   0|              0|             0|    2|  16|              0|                    0|   0.0|   1.0| 0.0| 0.0|  0.0|\n",
      "|       2|         42.291237|        -84.203728|               0.0|         16.0|         71.0|         10.0|          12.0|             0.0|      0|       0|       0|       0|      0|      0|         0|      0|   0|              0|             0|    2|   9|              0|                    0|   1.0|   0.0| 0.0| 0.0|  0.0|\n",
      "|       2|         42.291237|        -84.203728|               0.0|         16.0|         74.0|         10.0|           9.0|             0.0|      0|       0|       0|       0|      0|      0|         0|      0|   0|              0|             0|    2|   8|              0|                    0|   1.0|   0.0| 0.0| 0.0|  0.0|\n",
      "|       1| 42.29078650454383|-84.20128941495798|             0.363|         16.0|         74.0|         10.0|           9.0|             0.0|      0|       0|       0|       1|      0|      0|         0|      0|   0|              0|             0|    2|   8|              0|                    0|   1.0|   0.0| 0.0| 0.0|  0.0|\n",
      "|       1| 42.29078650454383|-84.20128941495798|             0.363|         16.0|         74.0|         10.0|           9.0|             0.0|      0|       0|       0|       1|      0|      0|         0|      0|   0|              0|             0|    2|   8|              0|                    0|   1.0|   0.0| 0.0| 0.0|  0.0|\n",
      "|       2|         42.291218|        -84.205589|               0.0|         18.0|         74.0|         10.0|           9.0|             0.0|      0|       0|       0|       0|      0|      0|         0|      0|   0|              0|             0|    2|  18|              1|                    0|   0.0|   1.0| 0.0| 0.0|  0.0|\n",
      "|       1| 42.29158043841223|-84.20787692029853|             0.468|         18.0|         74.0|         10.0|           9.0|             0.0|      0|       0|       0|       1|      0|      0|         0|      0|   0|              0|             0|    2|  18|              1|                    0|   0.0|   1.0| 0.0| 0.0|  0.0|\n",
      "|       1| 42.29158043841223|-84.20787692029853|             0.468|         18.0|         74.0|         10.0|           9.0|             0.0|      0|       0|       0|       1|      0|      0|         0|      0|   0|              0|             0|    2|  19|              1|                    0|   0.0|   1.0| 0.0| 0.0|  0.0|\n",
      "|       1| 42.29158043841223|-84.20787692029853|             0.468|         18.0|         74.0|         10.0|           9.0|             0.0|      0|       0|       0|       1|      0|      0|         0|      0|   0|              0|             0|    2|  18|              1|                    0|   0.0|   1.0| 0.0| 0.0|  0.0|\n",
      "|       1| 42.29175209978917|-84.24894690473437|2.0980000000000003|         25.0|         92.0|          0.5|          12.0|            0.02|      0|       0|       0|       0|      0|      0|         0|      0|   0|              0|             0|    2|  17|              0|                    0|   0.0|   0.0| 1.0| 0.0|  0.0|\n",
      "|       2|         42.291508|        -84.261375|               0.0|         27.0|         86.0|         0.25|          10.0|            0.03|      0|       0|       0|       0|      0|      0|         0|      0|   0|              0|             0|    2|  15|              0|                    0|   0.0|   0.0| 1.0| 0.0|  0.0|\n",
      "|       2|         42.291508|        -84.261375|               0.0|         28.0|         88.0|          1.0|          10.0|             0.0|      0|       0|       0|       0|      0|      0|         0|      0|   0|              0|             0|    2|  15|              0|                    0|   0.0|   0.0| 1.0| 0.0|  0.0|\n",
      "|       1|         42.291914|        -84.256819|             17.21|         28.0|         88.0|          1.0|          10.0|             0.0|      0|       0|       0|       0|      0|      0|         0|      0|   0|              0|             0|    2|  15|              0|                    0|   0.0|   0.0| 1.0| 0.0|  0.0|\n",
      "|       2|         42.291508|        -84.261375|               0.0|         32.0|        100.0|          0.5|           7.0|            0.03|      0|       0|       0|       0|      0|      0|         0|      0|   0|              0|             0|    2|   8|              0|                    0|   0.0|   0.0| 1.0| 0.0|  0.0|\n",
      "|       1|          42.28931|        -84.273064|             0.687|         32.0|        100.0|          0.5|           7.0|            0.03|      0|       0|       0|       0|      0|      0|         0|      0|   0|              0|             0|    2|   8|              0|                    0|   0.0|   0.0| 1.0| 0.0|  0.0|\n",
      "|       1|         42.271773|-84.40369100000002|              2.69|         22.0|         75.0|          3.0|          22.0|             0.0|      0|       0|       0|       0|      0|      0|         0|      0|   0|              0|             0|    2|   3|              1|                    1|   0.0|   0.0| 1.0| 0.0|  0.0|\n",
      "|       1|         42.272562|        -84.415959|              2.07|         22.0|         75.0|          3.0|          22.0|             0.0|      0|       0|       0|       0|      0|      0|         0|      0|   0|              0|             0|    2|   3|              1|                    1|   0.0|   0.0| 1.0| 0.0|  0.0|\n",
      "+--------+------------------+------------------+------------------+-------------+-------------+-------------+--------------+----------------+-------+--------+--------+--------+-------+-------+----------+-------+----+---------------+--------------+-----+----+---------------+---------------------+------+------+----+----+-----+\n",
      "only showing top 20 rows\n",
      "\n"
     ]
    }
   ],
   "source": [
    "to_drop=['Start_Time','City','County','State','Wind_Direction','day_of_the_week','season']\n",
    "df_class=df.drop(*to_drop)\n",
    "colonne_booleane = ['Amenity', 'Crossing', 'Give_Way', 'Junction', 'No_Exit', 'Railway', 'Roundabout', 'Station', 'Stop', 'Traffic_Calming', 'Traffic_Signal']\n",
    "\n",
    "# Converti le colonne booleane in numeriche\n",
    "for col_name in colonne_booleane:\n",
    "    df_class = df_class.withColumn(col_name, col(col_name).cast(\"int\"))\n",
    "\n",
    "\n",
    "df_class = df_class.withColumn(\"Astronomical_Twilight\", when(df_class[\"Astronomical_Twilight\"] == 'Day', 0).otherwise(1))\n",
    "df_class = df_class.withColumn(\"Working_Weekend\", when(df_class[\"Working_Weekend\"] == 'WorkingDay', 0).otherwise(1))\n",
    "\n",
    "\n",
    "\n",
    "\n",
    "indexer = StringIndexer(inputCol='Weather_Condition', outputCol='class_numeric')\n",
    "indexer_fitted = indexer.fit(df_class)\n",
    "df_indexed = indexer_fitted.transform(df_class)\n",
    "\n",
    "\n",
    "encoder = OneHotEncoder(inputCols=['class_numeric'], outputCols=['class_onehot'],dropLast=False)\n",
    "df_onehot = encoder.fit(df_indexed).transform(df_indexed)\n",
    "\n",
    "\n",
    "df_col_onehot = df_onehot.select('*', vector_to_array('class_onehot').alias('col_onehot'))\n",
    "\n",
    "num_categories = len(df_col_onehot.first()['col_onehot'])   # 3\n",
    "cols_expanded = [(F.col('col_onehot')[i].alias(f'{indexer_fitted.labels[i]}')) for i in range(num_categories)]\n",
    "df_cols_onehot = df_col_onehot.select('Severity',\n",
    " 'Start_Lat',\n",
    " 'Start_Lng',\n",
    " 'Distance_mi',\n",
    " 'Temperature_F',\n",
    " 'Humidity_perc',\n",
    " 'Visibility_mi',\n",
    " 'Wind_Speed_mph',\n",
    " 'Precipitation_in',\n",
    " 'Amenity',\n",
    " 'Crossing',\n",
    " 'Give_Way',\n",
    " 'Junction',\n",
    " 'No_Exit',\n",
    " 'Railway',\n",
    " 'Roundabout',\n",
    " 'Station',\n",
    " 'Stop',\n",
    " 'Traffic_Calming',\n",
    " 'Traffic_Signal',\n",
    " 'month',\n",
    " 'hour',\n",
    " 'Working_Weekend',\n",
    " 'Astronomical_Twilight', *cols_expanded)\n",
    "\n",
    "\n",
    "num_col = [item[0] for item in df_cols_onehot.dtypes if not item[1].startswith('string')]\n",
    "num_col.remove(\"Severity\")\n",
    "\n",
    "df_MLP= df_cols_onehot.withColumn(\"Severity\", col(\"Severity\") - 1)\n",
    "df_MLP.show()"
   ]
  },
  {
   "cell_type": "code",
   "execution_count": 4,
   "id": "aa64a5c7-6922-4175-919d-59f14c56dcc4",
   "metadata": {
    "tags": []
   },
   "outputs": [],
   "source": [
    "df_MLP_binary=df_MLP"
   ]
  },
  {
   "cell_type": "markdown",
   "id": "0d4de867-4ad0-4ad8-8019-3c8019c740bf",
   "metadata": {},
   "source": [
    "Discovering Severity distribution before train e test split"
   ]
  },
  {
   "cell_type": "code",
   "execution_count": 5,
   "id": "fbfc005c-53f4-4132-8075-17de5cfdd40c",
   "metadata": {
    "tags": []
   },
   "outputs": [
    {
     "name": "stderr",
     "output_type": "stream",
     "text": [
      "[Stage 7:===========>                                               (1 + 4) / 5]\r"
     ]
    },
    {
     "name": "stdout",
     "output_type": "stream",
     "text": [
      "+--------+-----+\n",
      "|Severity|count|\n",
      "+--------+-----+\n",
      "|       1|77510|\n",
      "|       3| 2171|\n",
      "|       2| 2128|\n",
      "|       0| 1458|\n",
      "+--------+-----+\n",
      "\n"
     ]
    },
    {
     "name": "stderr",
     "output_type": "stream",
     "text": [
      "                                                                                \r"
     ]
    }
   ],
   "source": [
    "severity_counts = df_MLP.groupBy(\"Severity\").count()\n",
    "severity_counts.show()"
   ]
  },
  {
   "cell_type": "markdown",
   "id": "6bdf324b-408f-4f35-9c3d-ea27faf2f1fd",
   "metadata": {},
   "source": [
    "Vectorizing data with respect to Severity"
   ]
  },
  {
   "cell_type": "code",
   "execution_count": 5,
   "id": "26a94323-3d6b-47c5-b4f7-62cbc2527099",
   "metadata": {
    "tags": []
   },
   "outputs": [
    {
     "name": "stdout",
     "output_type": "stream",
     "text": [
      "+------------------------------------------------------------------------------------------------------------------------------+--------+\n",
      "|features                                                                                                                      |Severity|\n",
      "+------------------------------------------------------------------------------------------------------------------------------+--------+\n",
      "|(28,[0,1,3,4,5,6,19,20,24],[41.877678,-86.088089,30.0,64.0,10.0,13.0,2.0,15.0,1.0])                                           |2       |\n",
      "|(28,[0,1,2,3,4,5,6,19,20,24],[41.883412599363886,-86.07864260632476,0.647,30.0,64.0,10.0,13.0,2.0,15.0,1.0])                  |1       |\n",
      "|(28,[0,1,2,3,4,5,6,19,20,24],[41.883422,-86.07864599999998,0.927,30.0,64.0,10.0,10.0,2.0,16.0,1.0])                           |1       |\n",
      "|(28,[0,1,2,3,4,5,6,19,20,24],[41.883412599363886,-86.07864260632476,0.647,30.0,64.0,10.0,10.0,2.0,16.0,1.0])                  |1       |\n",
      "|(28,[0,1,3,4,5,6,19,20,23],[42.291237,-84.203728,16.0,71.0,10.0,12.0,2.0,9.0,1.0])                                            |2       |\n",
      "|(28,[0,1,3,4,5,6,19,20,23],[42.291237,-84.203728,16.0,74.0,10.0,9.0,2.0,8.0,1.0])                                             |2       |\n",
      "|(28,[0,1,2,3,4,5,6,11,19,20,23],[42.29078650454383,-84.20128941495798,0.363,16.0,74.0,10.0,9.0,1.0,2.0,8.0,1.0])              |1       |\n",
      "|(28,[0,1,2,3,4,5,6,11,19,20,23],[42.29078650454383,-84.20128941495798,0.363,16.0,74.0,10.0,9.0,1.0,2.0,8.0,1.0])              |1       |\n",
      "|(28,[0,1,3,4,5,6,19,20,21,24],[42.291218,-84.205589,18.0,74.0,10.0,9.0,2.0,18.0,1.0,1.0])                                     |2       |\n",
      "|(28,[0,1,2,3,4,5,6,11,19,20,21,24],[42.29158043841223,-84.20787692029853,0.468,18.0,74.0,10.0,9.0,1.0,2.0,18.0,1.0,1.0])      |1       |\n",
      "|(28,[0,1,2,3,4,5,6,11,19,20,21,24],[42.29158043841223,-84.20787692029853,0.468,18.0,74.0,10.0,9.0,1.0,2.0,19.0,1.0,1.0])      |1       |\n",
      "|(28,[0,1,2,3,4,5,6,11,19,20,21,24],[42.29158043841223,-84.20787692029853,0.468,18.0,74.0,10.0,9.0,1.0,2.0,18.0,1.0,1.0])      |1       |\n",
      "|(28,[0,1,2,3,4,5,6,7,19,20,25],[42.29175209978917,-84.24894690473437,2.0980000000000003,25.0,92.0,0.5,12.0,0.02,2.0,17.0,1.0])|1       |\n",
      "|(28,[0,1,3,4,5,6,7,19,20,25],[42.291508,-84.261375,27.0,86.0,0.25,10.0,0.03,2.0,15.0,1.0])                                    |2       |\n",
      "|(28,[0,1,3,4,5,6,19,20,25],[42.291508,-84.261375,28.0,88.0,1.0,10.0,2.0,15.0,1.0])                                            |2       |\n",
      "|(28,[0,1,2,3,4,5,6,19,20,25],[42.291914,-84.256819,17.21,28.0,88.0,1.0,10.0,2.0,15.0,1.0])                                    |1       |\n",
      "|(28,[0,1,3,4,5,6,7,19,20,25],[42.291508,-84.261375,32.0,100.0,0.5,7.0,0.03,2.0,8.0,1.0])                                      |2       |\n",
      "|(28,[0,1,2,3,4,5,6,7,19,20,25],[42.28931,-84.273064,0.687,32.0,100.0,0.5,7.0,0.03,2.0,8.0,1.0])                               |1       |\n",
      "|(28,[0,1,2,3,4,5,6,19,20,21,22,25],[42.271773,-84.40369100000002,2.69,22.0,75.0,3.0,22.0,2.0,3.0,1.0,1.0,1.0])                |1       |\n",
      "|(28,[0,1,2,3,4,5,6,19,20,21,22,25],[42.272562,-84.415959,2.07,22.0,75.0,3.0,22.0,2.0,3.0,1.0,1.0,1.0])                        |1       |\n",
      "+------------------------------------------------------------------------------------------------------------------------------+--------+\n",
      "only showing top 20 rows\n",
      "\n"
     ]
    }
   ],
   "source": [
    "assembler = VectorAssembler(inputCols=num_col, outputCol=\"features\")\n",
    "\n",
    "output_dataset = assembler.transform(df_MLP)\n",
    "\n",
    "classificationData = output_dataset.select(\"features\", \"Severity\")\n",
    "\n",
    "classificationData.show(truncate=False)\n",
    "(trainingData, testData) = classificationData.randomSplit([0.7, 0.3],seed=0)"
   ]
  },
  {
   "cell_type": "markdown",
   "id": "9a20e908-cab0-47ce-aaf3-3d62785dd472",
   "metadata": {},
   "source": [
    "Discovering Severity trainingData e testData distribution"
   ]
  },
  {
   "cell_type": "code",
   "execution_count": 7,
   "id": "b38c5f4d-2739-4035-a3d5-b52f6dfbb6de",
   "metadata": {
    "tags": []
   },
   "outputs": [
    {
     "name": "stderr",
     "output_type": "stream",
     "text": [
      "[Stage 11:=======================>                                  (2 + 3) / 5]\r"
     ]
    },
    {
     "name": "stdout",
     "output_type": "stream",
     "text": [
      "+--------+-----+\n",
      "|Severity|count|\n",
      "+--------+-----+\n",
      "|       1|54289|\n",
      "|       3| 1532|\n",
      "|       2| 1512|\n",
      "|       0| 1010|\n",
      "+--------+-----+\n",
      "\n"
     ]
    },
    {
     "name": "stderr",
     "output_type": "stream",
     "text": [
      "                                                                                \r"
     ]
    }
   ],
   "source": [
    "severity_counts_train= trainingData.groupBy(\"Severity\").count()\n",
    "severity_counts_train.show()"
   ]
  },
  {
   "cell_type": "code",
   "execution_count": 8,
   "id": "30d0bf27-bad4-4aa1-9cff-9f62a58b20ae",
   "metadata": {
    "tags": []
   },
   "outputs": [
    {
     "name": "stderr",
     "output_type": "stream",
     "text": [
      "[Stage 14:===========>                                              (1 + 4) / 5]\r"
     ]
    },
    {
     "name": "stdout",
     "output_type": "stream",
     "text": [
      "+--------+-----+\n",
      "|Severity|count|\n",
      "+--------+-----+\n",
      "|       1|23221|\n",
      "|       3|  639|\n",
      "|       2|  616|\n",
      "|       0|  448|\n",
      "+--------+-----+\n",
      "\n"
     ]
    },
    {
     "name": "stderr",
     "output_type": "stream",
     "text": [
      "                                                                                \r"
     ]
    }
   ],
   "source": [
    "severity_counts_test= testData.groupBy(\"Severity\").count()\n",
    "\n",
    "# Mostra il risultato\n",
    "severity_counts_test.show()"
   ]
  },
  {
   "cell_type": "markdown",
   "id": "fb943e6b-c1ab-4376-adfb-dacb8b1bcbc6",
   "metadata": {},
   "source": [
    "Training & Testing a non tuned MLP with trainingData not yet sampled"
   ]
  },
  {
   "cell_type": "code",
   "execution_count": 9,
   "id": "1f2c7fdf-2158-4832-af78-7436bf07225c",
   "metadata": {
    "tags": []
   },
   "outputs": [
    {
     "name": "stderr",
     "output_type": "stream",
     "text": [
      "                                                                                \r"
     ]
    },
    {
     "name": "stdout",
     "output_type": "stream",
     "text": [
      "Accuracy:0.9343604557855882\n",
      "\n",
      "Test Error = 0.0656395\n"
     ]
    },
    {
     "name": "stderr",
     "output_type": "stream",
     "text": [
      "/opt/conda/lib/python3.10/site-packages/pyspark/sql/context.py:158: FutureWarning: Deprecated in 3.0.0. Use SparkSession.builder.getOrCreate() instead.\n",
      "  warnings.warn(\n",
      "[Stage 577:>                                                        (0 + 1) / 1]\r"
     ]
    },
    {
     "name": "stdout",
     "output_type": "stream",
     "text": [
      "DenseMatrix([[1.1000e+02, 3.3800e+02, 0.0000e+00, 0.0000e+00],\n",
      "             [4.3000e+01, 2.3178e+04, 0.0000e+00, 0.0000e+00],\n",
      "             [5.0000e+00, 6.1100e+02, 0.0000e+00, 0.0000e+00],\n",
      "             [2.0000e+00, 6.3700e+02, 0.0000e+00, 0.0000e+00]])\n"
     ]
    },
    {
     "name": "stderr",
     "output_type": "stream",
     "text": [
      "                                                                                \r"
     ]
    }
   ],
   "source": [
    "# MLP Layers  -> output layer must have the same number of units of the Severity classes\n",
    "layers = [len(num_col),4]\n",
    "\n",
    "# Create the Multilayer Perceptron Classifier and set its parameters\n",
    "trainer = MultilayerPerceptronClassifier(\n",
    "    layers=layers,\n",
    "    labelCol=\"Severity\",\n",
    "    featuresCol=\"features\",\n",
    "    maxIter=500,  \n",
    "    tol=1e-6,\n",
    "    seed=None,\n",
    "    blockSize=32,\n",
    "    stepSize=0.03,  \n",
    "    solver=\"l-bfgs\",\n",
    "    initialWeights=None,\n",
    "    probabilityCol=\"probability\",\n",
    "    rawPredictionCol=\"rawPrediction\"\n",
    ")\n",
    "\n",
    "# Train the model\n",
    "model = trainer.fit(trainingData)\n",
    "\n",
    "# Make predictions on the test set\n",
    "predictions= model.transform(testData)\n",
    "\n",
    "# Compute Test Error = 1-Accuracy\n",
    "evaluator = MulticlassClassificationEvaluator(labelCol=\"Severity\"\n",
    "                                              , predictionCol=\"prediction\"\n",
    "                                              , metricName=\"accuracy\")\n",
    "\n",
    "accuracy = evaluator.evaluate(predictions)\n",
    "print(f'Accuracy:{accuracy}\\n')\n",
    "print(\"Test Error = %g\" % (1.0 - accuracy))\n",
    "\n",
    "#Computing confusion matrix\n",
    "preds_and_labels = predictions.select(['prediction','Severity']).withColumn('label', F.col('Severity').cast(FloatType())).orderBy('prediction')\n",
    "preds_and_labels = preds_and_labels.select(['prediction','label'])\n",
    "metrics = MulticlassMetrics(preds_and_labels.rdd.map(tuple))\n",
    "print(metrics.confusionMatrix())"
   ]
  },
  {
   "cell_type": "code",
   "execution_count": 10,
   "id": "5903c7f8-d442-475f-9079-d24d0d574b96",
   "metadata": {
    "tags": []
   },
   "outputs": [
    {
     "name": "stderr",
     "output_type": "stream",
     "text": [
      "                                                                                \r"
     ]
    },
    {
     "name": "stdout",
     "output_type": "stream",
     "text": [
      "Precision for class  0 : 68.75%\n",
      "Recall for class  0 : 24.55%\n",
      "avg_F1-Score for class  0 : 36.18%\n",
      "----------------------------\n",
      "Precision for class  1 : 93.60%\n",
      "Recall for class  1 : 99.81%\n",
      "avg_F1-Score for class  1 : 96.61%\n",
      "----------------------------\n",
      "Precision for class  2 : 0.00%\n",
      "Recall for class  2 : 0.00%\n",
      "avg_F1-Score for class  2 : 0.00%\n",
      "----------------------------\n",
      "Precision for class  3 : 0.00%\n",
      "Recall for class  3 : 0.00%\n",
      "avg_F1-Score for class  3 : 0.00%\n",
      "----------------------------\n",
      "[0.3618421052631579, 0.966051891216005, 0.0, 0.0]\n",
      "----------------------\n",
      "avg_F1-Score: 33.20%\n"
     ]
    },
    {
     "data": {
      "text/plain": [
       "<Axes: >"
      ]
     },
     "execution_count": 10,
     "metadata": {},
     "output_type": "execute_result"
    },
    {
     "data": {
      "image/png": "[encoded data removed]",
      "text/plain": [
       "<Figure size 700x700 with 1 Axes>"
      ]
     },
     "metadata": {},
     "output_type": "display_data"
    }
   ],
   "source": [
    "predictionAndLabels = predictions.select(\"prediction\", \"Severity\").rdd.map(lambda x: (float(x[0]), float(x[1])))\n",
    "metrics = MulticlassMetrics(predictionAndLabels)\n",
    "\n",
    "list_avg=[]\n",
    "for i in range(4):\n",
    "    precision = metrics.precision(label=float(i))  \n",
    "    recall = metrics.recall(label=float(i))\n",
    "    f1Score= metrics.fMeasure(label=float(i)) # need .0\n",
    "    print(\"Precision for class \",i,\": {:.2%}\".format(precision))\n",
    "    print(\"Recall for class \",i,\": {:.2%}\".format(recall))\n",
    "    print(\"avg_F1-Score for class \",i,\": {:.2%}\".format(f1Score))\n",
    "    list_avg.append(f1Score)\n",
    "    print('----------------------------')\n",
    "sum_=0\n",
    "print(list_avg)\n",
    "for elem in list_avg:\n",
    "    sum_+=elem\n",
    "\n",
    "avg_f1=sum_/4\n",
    "print('----------------------')\n",
    "\n",
    "print(\"avg_F1-Score: {:.2%}\".format(avg_f1))\n",
    "\n",
    "labels = [\"0\", \"1\", \"2\", \"3\"]\n",
    "_ = plt.figure(figsize=(7, 7))\n",
    "sns.heatmap(metrics.confusionMatrix().toArray(),\n",
    "            cmap='viridis',\n",
    "            annot=True,fmt='0',\n",
    "            cbar=False, \n",
    "            xticklabels=labels, \n",
    "            yticklabels=labels)\n"
   ]
  },
  {
   "cell_type": "markdown",
   "id": "83583d8c-706d-436e-8c7f-e0535d21cdbc",
   "metadata": {},
   "source": [
    "As we can see from the results accuracy is very high because the model predict only the labels instead of 4, cause of the unbalanced data. Now we have to sample the training set trying the define a model well trained and that can predict each labels on the test set.\n",
    "\n",
    "Performing Undersampling(Severity=1) on trainingData\n",
    "\n",
    "Undersampling -> Faccio una media delle occorrenze delle altre tre classi e riduco la classe di maggioranza a quel numero"
   ]
  },
  {
   "cell_type": "code",
   "execution_count": 6,
   "id": "743b6e84-cf65-4500-ac69-594f2d1bf5ce",
   "metadata": {
    "tags": []
   },
   "outputs": [],
   "source": [
    "g=trainingData.groupBy('Severity').agg(F.count('Severity').alias('Count'))\n",
    "g=g.sort('Severity')\n",
    "g_p=g.toPandas()\n",
    "n_0=g_p.iloc[0,1]\n",
    "n_1=g_p.iloc[1,1]\n",
    "n_2=g_p.iloc[2,1]\n",
    "n_3=g_p.iloc[3,1]"
   ]
  },
  {
   "cell_type": "code",
   "execution_count": 7,
   "id": "b6736274-ce55-4237-be61-92c546ff0bdb",
   "metadata": {
    "tags": []
   },
   "outputs": [
    {
     "name": "stdout",
     "output_type": "stream",
     "text": [
      "+--------+-----+\n",
      "|Severity|count|\n",
      "+--------+-----+\n",
      "|       1| 1335|\n",
      "|       3| 1532|\n",
      "|       2| 1512|\n",
      "|       0| 1010|\n",
      "+--------+-----+\n",
      "\n"
     ]
    }
   ],
   "source": [
    "und=(n_0+n_2+n_3)/3\n",
    "train_und = trainingData.sampleBy('Severity', fractions={0:1.0 ,1: und/n_1 , 2:1.0, 3:1.0})\n",
    "result_counts=train_und.groupBy(\"Severity\").count()\n",
    "result_counts.show()"
   ]
  },
  {
   "cell_type": "markdown",
   "id": "2c4b3d4d-c391-40c2-b51a-cb863e82cc2b",
   "metadata": {},
   "source": [
    "Training & Testing a non tuned MLP with trainingData sampled"
   ]
  },
  {
   "cell_type": "code",
   "execution_count": 13,
   "id": "b8e3f9ef-c621-42e7-91f3-4a7b55c57cf0",
   "metadata": {
    "tags": []
   },
   "outputs": [
    {
     "name": "stderr",
     "output_type": "stream",
     "text": [
      "                                                                                \r"
     ]
    },
    {
     "name": "stdout",
     "output_type": "stream",
     "text": [
      "Accuracy:0.41353715294495264\n",
      "\n",
      "Test Error = 0.586463\n"
     ]
    },
    {
     "name": "stderr",
     "output_type": "stream",
     "text": [
      "/opt/conda/lib/python3.10/site-packages/pyspark/sql/context.py:158: FutureWarning: Deprecated in 3.0.0. Use SparkSession.builder.getOrCreate() instead.\n",
      "  warnings.warn(\n",
      "                                                                                \r"
     ]
    },
    {
     "name": "stdout",
     "output_type": "stream",
     "text": [
      "DenseMatrix([[3.590e+02, 2.000e+00, 5.300e+01, 3.400e+01],\n",
      "             [1.149e+03, 9.220e+03, 4.724e+03, 8.128e+03],\n",
      "             [6.900e+01, 2.500e+01, 4.330e+02, 8.900e+01],\n",
      "             [5.100e+01, 1.260e+02, 1.670e+02, 2.950e+02]])\n"
     ]
    }
   ],
   "source": [
    "# MLP Layers  -> output layer must have the same number of units of the Severity classes\n",
    "layers = [len(num_col),4]\n",
    "\n",
    "# Create the Multilayer Perceptron Classifier and set its parameters\n",
    "trainer = MultilayerPerceptronClassifier(\n",
    "    layers=layers,\n",
    "    labelCol=\"Severity\",\n",
    "    featuresCol=\"features\",\n",
    "    maxIter=500,  \n",
    "    tol=1e-6,\n",
    "    seed=None,\n",
    "    blockSize=32,\n",
    "    stepSize=0.03,  \n",
    "    solver=\"l-bfgs\",\n",
    "    initialWeights=None,\n",
    "    probabilityCol=\"probability\",\n",
    "    rawPredictionCol=\"rawPrediction\"\n",
    ")\n",
    "\n",
    "# Train the model\n",
    "model = trainer.fit(train_und)\n",
    "\n",
    "# Make predictions on the test set\n",
    "predictions= model.transform(testData)\n",
    "\n",
    "# Compute Test Error = 1-Accuracy\n",
    "evaluator = MulticlassClassificationEvaluator(labelCol=\"Severity\"\n",
    "                                              , predictionCol=\"prediction\"\n",
    "                                              , metricName=\"accuracy\")\n",
    "\n",
    "accuracy = evaluator.evaluate(predictions)\n",
    "print(f'Accuracy:{accuracy}\\n')\n",
    "print(\"Test Error = %g\" % (1.0 - accuracy))\n",
    "\n",
    "#Computing confusion matrix\n",
    "preds_and_labels = predictions.select(['prediction','Severity']).withColumn('label', F.col('Severity').cast(FloatType())).orderBy('prediction')\n",
    "preds_and_labels = preds_and_labels.select(['prediction','label'])\n",
    "metrics = MulticlassMetrics(preds_and_labels.rdd.map(tuple))\n",
    "print(metrics.confusionMatrix())"
   ]
  },
  {
   "cell_type": "code",
   "execution_count": 14,
   "id": "07be0da9-805c-4896-82ac-4c493d601188",
   "metadata": {
    "tags": []
   },
   "outputs": [
    {
     "name": "stderr",
     "output_type": "stream",
     "text": [
      "                                                                                \r"
     ]
    },
    {
     "name": "stdout",
     "output_type": "stream",
     "text": [
      "Precision for class  0 : 22.05%\n",
      "Recall for class  0 : 80.13%\n",
      "avg_F1-Score for class  0 : 34.59%\n",
      "----------------------------\n",
      "Precision for class  1 : 98.37%\n",
      "Recall for class  1 : 39.71%\n",
      "avg_F1-Score for class  1 : 56.57%\n",
      "----------------------------\n",
      "Precision for class  2 : 8.05%\n",
      "Recall for class  2 : 70.29%\n",
      "avg_F1-Score for class  2 : 14.45%\n",
      "----------------------------\n",
      "Precision for class  3 : 3.45%\n",
      "Recall for class  3 : 46.17%\n",
      "avg_F1-Score for class  3 : 6.42%\n",
      "----------------------------\n",
      "[0.34585741811175336, 0.5657482972326195, 0.1445019189053896, 0.06423516603157321]\n",
      "----------------------\n",
      "avg_F1-Score: 28.01%\n"
     ]
    },
    {
     "data": {
      "text/plain": [
       "<Axes: >"
      ]
     },
     "execution_count": 14,
     "metadata": {},
     "output_type": "execute_result"
    },
    {
     "data": {
      "image/png": "[encoded data removed]",
      "text/plain": [
       "<Figure size 700x700 with 1 Axes>"
      ]
     },
     "metadata": {},
     "output_type": "display_data"
    }
   ],
   "source": [
    "predictionAndLabels = predictions.select(\"prediction\", \"Severity\").rdd.map(lambda x: (float(x[0]), float(x[1])))\n",
    "metrics = MulticlassMetrics(predictionAndLabels)\n",
    "\n",
    "list_avg=[]\n",
    "for i in range(4):\n",
    "    precision = metrics.precision(label=float(i))  \n",
    "    recall = metrics.recall(label=float(i))\n",
    "    f1Score= metrics.fMeasure(label=float(i)) # need .0\n",
    "    print(\"Precision for class \",i,\": {:.2%}\".format(precision))\n",
    "    print(\"Recall for class \",i,\": {:.2%}\".format(recall))\n",
    "    print(\"avg_F1-Score for class \",i,\": {:.2%}\".format(f1Score))\n",
    "    list_avg.append(f1Score)\n",
    "    print('----------------------------')\n",
    "sum_=0\n",
    "print(list_avg)\n",
    "for elem in list_avg:\n",
    "    sum_+=elem\n",
    "\n",
    "avg_f1=sum_/4\n",
    "print('----------------------')\n",
    "\n",
    "print(\"avg_F1-Score: {:.2%}\".format(avg_f1))\n",
    "\n",
    "labels = [\"0\", \"1\", \"2\", \"3\"]\n",
    "_ = plt.figure(figsize=(7, 7))\n",
    "sns.heatmap(metrics.confusionMatrix().toArray(),\n",
    "            cmap='viridis',\n",
    "            annot=True,fmt='0',\n",
    "            cbar=False, \n",
    "            xticklabels=labels, \n",
    "            yticklabels=labels)"
   ]
  },
  {
   "cell_type": "markdown",
   "id": "01cf4fc2-9a5f-472a-8344-423cae3f743d",
   "metadata": {},
   "source": [
    "Training & Testing(on the train itself) a non tuned MLP with trainingData sampled"
   ]
  },
  {
   "cell_type": "code",
   "execution_count": 15,
   "id": "4760884e-ca8e-4a56-ae77-c78411620690",
   "metadata": {
    "tags": []
   },
   "outputs": [
    {
     "name": "stderr",
     "output_type": "stream",
     "text": [
      "                                                                                \r"
     ]
    },
    {
     "name": "stdout",
     "output_type": "stream",
     "text": [
      "Accuracy:0.5757461986108504\n",
      "\n",
      "Test Error = 0.424254\n"
     ]
    },
    {
     "name": "stderr",
     "output_type": "stream",
     "text": [
      "/opt/conda/lib/python3.10/site-packages/pyspark/sql/context.py:158: FutureWarning: Deprecated in 3.0.0. Use SparkSession.builder.getOrCreate() instead.\n",
      "  warnings.warn(\n",
      "                                                                                \r"
     ]
    },
    {
     "name": "stdout",
     "output_type": "stream",
     "text": [
      "DenseMatrix([[ 792.,    4.,  121.,   93.],\n",
      "             [  58.,  494.,  253.,  468.],\n",
      "             [ 186.,   69., 1046.,  211.],\n",
      "             [ 136.,  292.,  369.,  735.]])\n"
     ]
    }
   ],
   "source": [
    "# MLP Layers  -> output layer must have the same number of units of the Severity classes\n",
    "layers = [len(num_col),4]\n",
    "\n",
    "# Create the Multilayer Perceptron Classifier and set its parameters\n",
    "trainer = MultilayerPerceptronClassifier(\n",
    "    layers=layers,\n",
    "    labelCol=\"Severity\",\n",
    "    featuresCol=\"features\",\n",
    "    maxIter=500,  \n",
    "    tol=1e-6,\n",
    "    seed=None,\n",
    "    blockSize=32,\n",
    "    stepSize=0.03,  \n",
    "    solver=\"l-bfgs\",\n",
    "    initialWeights=None,\n",
    "    probabilityCol=\"probability\",\n",
    "    rawPredictionCol=\"rawPrediction\"\n",
    ")\n",
    "\n",
    "# Train the model\n",
    "model = trainer.fit(train_und)\n",
    "\n",
    "# Make predictions on the test set\n",
    "predictions= model.transform(train_und)\n",
    "\n",
    "# Compute Test Error = 1-Accuracy\n",
    "evaluator = MulticlassClassificationEvaluator(labelCol=\"Severity\"\n",
    "                                              , predictionCol=\"prediction\"\n",
    "                                              , metricName=\"accuracy\")\n",
    "\n",
    "accuracy = evaluator.evaluate(predictions)\n",
    "print(f'Accuracy:{accuracy}\\n')\n",
    "print(\"Test Error = %g\" % (1.0 - accuracy))\n",
    "\n",
    "#Computing confusion matrix\n",
    "preds_and_labels = predictions.select(['prediction','Severity']).withColumn('label', F.col('Severity').cast(FloatType())).orderBy('prediction')\n",
    "preds_and_labels = preds_and_labels.select(['prediction','label'])\n",
    "metrics = MulticlassMetrics(preds_and_labels.rdd.map(tuple))\n",
    "print(metrics.confusionMatrix())"
   ]
  },
  {
   "cell_type": "code",
   "execution_count": 16,
   "id": "8666b04b-f92a-4d15-9640-3fddf62d729e",
   "metadata": {
    "tags": []
   },
   "outputs": [
    {
     "name": "stderr",
     "output_type": "stream",
     "text": [
      "[Stage 1720:===========>                                            (1 + 4) / 5]\r"
     ]
    },
    {
     "name": "stdout",
     "output_type": "stream",
     "text": [
      "Precision for class  0 : 67.58%\n",
      "Recall for class  0 : 78.42%\n",
      "avg_F1-Score for class  0 : 72.59%\n",
      "----------------------------\n",
      "Precision for class  1 : 57.51%\n",
      "Recall for class  1 : 38.81%\n",
      "avg_F1-Score for class  1 : 46.34%\n",
      "----------------------------\n",
      "Precision for class  2 : 58.47%\n",
      "Recall for class  2 : 69.18%\n",
      "avg_F1-Score for class  2 : 63.37%\n",
      "----------------------------\n",
      "Precision for class  3 : 48.77%\n",
      "Recall for class  3 : 47.98%\n",
      "avg_F1-Score for class  3 : 48.37%\n",
      "----------------------------\n",
      "[0.7259395050412465, 0.4634146341463415, 0.6337473492880944, 0.4837117472852912]\n",
      "----------------------\n",
      "avg_F1-Score: 57.67%\n"
     ]
    },
    {
     "name": "stderr",
     "output_type": "stream",
     "text": [
      "                                                                                \r"
     ]
    },
    {
     "data": {
      "text/plain": [
       "<Axes: >"
      ]
     },
     "execution_count": 16,
     "metadata": {},
     "output_type": "execute_result"
    },
    {
     "data": {
      "image/png": "[encoded data removed]",
      "text/plain": [
       "<Figure size 700x700 with 1 Axes>"
      ]
     },
     "metadata": {},
     "output_type": "display_data"
    }
   ],
   "source": [
    "predictionAndLabels = predictions.select(\"prediction\", \"Severity\").rdd.map(lambda x: (float(x[0]), float(x[1])))\n",
    "metrics = MulticlassMetrics(predictionAndLabels)\n",
    "\n",
    "list_avg=[]\n",
    "for i in range(4):\n",
    "    precision = metrics.precision(label=float(i))  \n",
    "    recall = metrics.recall(label=float(i))\n",
    "    f1Score= metrics.fMeasure(label=float(i)) # need .0\n",
    "    print(\"Precision for class \",i,\": {:.2%}\".format(precision))\n",
    "    print(\"Recall for class \",i,\": {:.2%}\".format(recall))\n",
    "    print(\"avg_F1-Score for class \",i,\": {:.2%}\".format(f1Score))\n",
    "    list_avg.append(f1Score)\n",
    "    print('----------------------------')\n",
    "sum_=0\n",
    "print(list_avg)\n",
    "for elem in list_avg:\n",
    "    sum_+=elem\n",
    "\n",
    "avg_f1=sum_/4\n",
    "print('----------------------')\n",
    "\n",
    "print(\"avg_F1-Score: {:.2%}\".format(avg_f1))\n",
    "\n",
    "labels = [\"0\", \"1\", \"2\", \"3\"]\n",
    "_ = plt.figure(figsize=(7, 7))\n",
    "sns.heatmap(metrics.confusionMatrix().toArray(),\n",
    "            cmap='viridis',\n",
    "            annot=True,fmt='0',\n",
    "            cbar=False, \n",
    "            xticklabels=labels, \n",
    "            yticklabels=labels)"
   ]
  },
  {
   "cell_type": "markdown",
   "id": "9323b8ee-c853-4b3a-bb13-d8fc835e7aa2",
   "metadata": {},
   "source": [
    "Performing Undersampling(Severity=1) & Oversampling(Severity=0,2,3)"
   ]
  },
  {
   "cell_type": "code",
   "execution_count": 8,
   "id": "f585ad55-7be2-4f4f-af3b-14ebe34e3cc8",
   "metadata": {
    "tags": []
   },
   "outputs": [],
   "source": [
    "under_1=trainingData.filter(col('Severity') == 1)\n",
    "under_1 = trainingData.sample(True, 0.3, seed=42)"
   ]
  },
  {
   "cell_type": "code",
   "execution_count": 9,
   "id": "235b645c-0462-48bd-a7fc-01749d384749",
   "metadata": {
    "tags": []
   },
   "outputs": [
    {
     "name": "stdout",
     "output_type": "stream",
     "text": [
      "14.125742574257426\n",
      "13.125742574257426\n",
      "12.125742574257426\n",
      "11.125742574257426\n",
      "10.125742574257426\n",
      "9.125742574257426\n",
      "8.125742574257426\n",
      "7.125742574257426\n",
      "6.125742574257426\n",
      "5.125742574257426\n",
      "4.125742574257426\n",
      "3.1257425742574263\n",
      "2.1257425742574263\n",
      "1.1257425742574263\n",
      "0.1257425742574263\n"
     ]
    }
   ],
   "source": [
    "oversample_0=trainingData.filter(col('Severity') == 0)\n",
    "num_campioni_da_generare = round(n_1*0.3)\n",
    "num_campioni_da_generare=(num_campioni_da_generare-n_0)/n_0 \n",
    "full_0=oversample_0\n",
    "\n",
    "while num_campioni_da_generare>1:\n",
    "    oversample_0 = oversample_0.unionAll(full_0)\n",
    "    num_campioni_da_generare=num_campioni_da_generare-1.0\n",
    "    print(num_campioni_da_generare)\n",
    "    \n",
    "df_minority_oversampled = full_0.sample(True, num_campioni_da_generare, seed=42)\n",
    "\n",
    "oversample_0 = oversample_0.unionAll(df_minority_oversampled)"
   ]
  },
  {
   "cell_type": "code",
   "execution_count": 10,
   "id": "817cbf59-5f77-476b-9cb8-952e0c0cc370",
   "metadata": {
    "tags": []
   },
   "outputs": [
    {
     "name": "stdout",
     "output_type": "stream",
     "text": [
      "8.771825396825397\n",
      "7.771825396825397\n",
      "6.771825396825397\n",
      "5.771825396825397\n",
      "4.771825396825397\n",
      "3.771825396825397\n",
      "2.771825396825397\n",
      "1.7718253968253972\n",
      "0.7718253968253972\n"
     ]
    }
   ],
   "source": [
    "oversample_2=trainingData.filter(col('Severity') == 2)\n",
    "num_campioni_da_generare = round(n_1*0.3)\n",
    "num_campioni_da_generare=(num_campioni_da_generare-n_2)/n_2\n",
    "full_2=oversample_2\n",
    "\n",
    "while num_campioni_da_generare>1:\n",
    "    oversample_2 = oversample_2.unionAll(full_2)\n",
    "    num_campioni_da_generare=num_campioni_da_generare-1.0\n",
    "    print(num_campioni_da_generare)\n",
    "    \n",
    "df_minority_oversampled = full_2.sample(True, num_campioni_da_generare, seed=42)\n",
    "\n",
    "oversample_2 = oversample_2.unionAll(df_minority_oversampled)"
   ]
  },
  {
   "cell_type": "code",
   "execution_count": 11,
   "id": "8136c463-fe72-4334-ad72-ffd1d0f64616",
   "metadata": {
    "tags": []
   },
   "outputs": [
    {
     "name": "stdout",
     "output_type": "stream",
     "text": [
      "8.631201044386422\n",
      "7.631201044386422\n",
      "6.631201044386422\n",
      "5.631201044386422\n",
      "4.631201044386422\n",
      "3.6312010443864224\n",
      "2.6312010443864224\n",
      "1.6312010443864224\n",
      "0.6312010443864224\n"
     ]
    }
   ],
   "source": [
    "oversample_3=trainingData.filter(col('Severity') == 3)\n",
    "num_campioni_da_generare = round(n_1*0.3)\n",
    "num_campioni_da_generare=(num_campioni_da_generare-n_3)/n_3  \n",
    "full_3=oversample_3\n",
    "\n",
    "while num_campioni_da_generare>1:\n",
    "    oversample_3 = oversample_3.unionAll(full_3)\n",
    "    num_campioni_da_generare=num_campioni_da_generare-1.0\n",
    "    print(num_campioni_da_generare)\n",
    "    \n",
    "df_minority_oversampled = full_3.sample(True, num_campioni_da_generare, seed=42)\n",
    "\n",
    "oversample_3 = oversample_3.unionAll(df_minority_oversampled)"
   ]
  },
  {
   "cell_type": "code",
   "execution_count": 12,
   "id": "1c63aeef-1f78-47e9-8945-d99c7fc4a4db",
   "metadata": {
    "tags": []
   },
   "outputs": [
    {
     "name": "stderr",
     "output_type": "stream",
     "text": [
      "Java HotSpot(TM) 64-Bit Server VM warning: CodeCache is full. Compiler has been disabled.\n",
      "Java HotSpot(TM) 64-Bit Server VM warning: Try increasing the code cache size using -XX:ReservedCodeCacheSize=\n",
      "[Stage 25:=========================>                              (25 + 8) / 55]\r"
     ]
    },
    {
     "name": "stdout",
     "output_type": "stream",
     "text": [
      "CodeCache: size=131072Kb used=72470Kb max_used=72473Kb free=58601Kb\n",
      " bounds [0x000000010a9d8000, 0x000000010f118000, 0x00000001129d8000]\n",
      " total_blobs=17773 nmethods=16753 adapters=932\n",
      " compilation: disabled (not enough contiguous free space left)\n"
     ]
    },
    {
     "name": "stderr",
     "output_type": "stream",
     "text": [
      "                                                                                \r"
     ]
    },
    {
     "name": "stdout",
     "output_type": "stream",
     "text": [
      "Class 0: 16278\n",
      "Class 1: 17673\n",
      "Class 2: 16306\n",
      "Class 3: 16302\n"
     ]
    }
   ],
   "source": [
    "class0_counts=oversample_0.count()\n",
    "class2_counts=oversample_2.count()\n",
    "class3_counts=oversample_3.count()\n",
    "class1_counts=under_1.count()\n",
    "print(f'Class 0: {class0_counts}\\nClass 1: {class1_counts}\\nClass 2: {class2_counts}\\nClass 3: {class3_counts}')"
   ]
  },
  {
   "cell_type": "code",
   "execution_count": 13,
   "id": "94869552-a3fe-4986-933f-03336cdac269",
   "metadata": {
    "tags": []
   },
   "outputs": [
    {
     "name": "stderr",
     "output_type": "stream",
     "text": [
      "23/12/14 21:07:24 WARN DAGScheduler: Broadcasting large task binary with size 2.2 MiB\n",
      "23/12/14 21:07:32 WARN DAGScheduler: Broadcasting large task binary with size 1118.8 KiB\n"
     ]
    },
    {
     "name": "stdout",
     "output_type": "stream",
     "text": [
      "+--------+-----+\n",
      "|Severity|Count|\n",
      "+--------+-----+\n",
      "|       0|16584|\n",
      "|       1|16489|\n",
      "|       2|16749|\n",
      "|       3|16737|\n",
      "+--------+-----+\n",
      "\n"
     ]
    },
    {
     "name": "stderr",
     "output_type": "stream",
     "text": [
      "                                                                                \r"
     ]
    }
   ],
   "source": [
    "train_und_over=oversample_0.unionAll(oversample_2).unionAll(oversample_3).unionAll(under_1)\n",
    "g=train_und_over.groupBy('Severity').agg(F.count('Severity').alias('Count'))\n",
    "g=g.sort('Severity')\n",
    "g.show()"
   ]
  },
  {
   "cell_type": "markdown",
   "id": "45c4f348-7b6a-48dd-abe3-d7e757a84b8d",
   "metadata": {},
   "source": [
    "# ESEGUI SOTTOOOO"
   ]
  },
  {
   "cell_type": "markdown",
   "id": "c1a464f7-6272-4d82-8e9e-3dedff153270",
   "metadata": {},
   "source": [
    "Training a tuned MLP with trainingData sampled"
   ]
  },
  {
   "cell_type": "code",
   "execution_count": 14,
   "id": "c24945c5-8969-4704-b006-09d790701f07",
   "metadata": {
    "tags": []
   },
   "outputs": [
    {
     "name": "stderr",
     "output_type": "stream",
     "text": [
      "23/12/14 21:07:44 WARN DAGScheduler: Broadcasting large task binary with size 3.5 MiB\n",
      "23/12/14 21:07:55 WARN DAGScheduler: Broadcasting large task binary with size 3.6 MiB\n",
      "23/12/14 21:07:55 WARN InstanceBuilder: Failed to load implementation from:dev.ludovic.netlib.blas.JNIBLAS\n",
      "23/12/14 21:07:57 WARN DAGScheduler: Broadcasting large task binary with size 3.6 MiB\n",
      "23/12/14 21:07:57 WARN DAGScheduler: Broadcasting large task binary with size 3.6 MiB\n",
      "23/12/14 21:08:03 WARN DAGScheduler: Broadcasting large task binary with size 3.6 MiB\n",
      "23/12/14 21:08:03 WARN DAGScheduler: Broadcasting large task binary with size 3.6 MiB\n",
      "23/12/14 21:08:05 WARN DAGScheduler: Broadcasting large task binary with size 3.6 MiB\n",
      "23/12/14 21:08:05 WARN DAGScheduler: Broadcasting large task binary with size 3.6 MiB\n",
      "23/12/14 21:08:07 WARN DAGScheduler: Broadcasting large task binary with size 3.6 MiB\n",
      "23/12/14 21:08:07 WARN DAGScheduler: Broadcasting large task binary with size 3.6 MiB\n",
      "23/12/14 21:08:08 WARN DAGScheduler: Broadcasting large task binary with size 3.6 MiB\n",
      "23/12/14 21:08:09 WARN DAGScheduler: Broadcasting large task binary with size 3.6 MiB\n",
      "23/12/14 21:08:10 WARN DAGScheduler: Broadcasting large task binary with size 3.6 MiB\n",
      "23/12/14 21:08:10 WARN DAGScheduler: Broadcasting large task binary with size 3.6 MiB\n",
      "23/12/14 21:08:12 WARN DAGScheduler: Broadcasting large task binary with size 3.6 MiB\n",
      "23/12/14 21:08:12 WARN DAGScheduler: Broadcasting large task binary with size 3.6 MiB\n",
      "23/12/14 21:08:14 WARN DAGScheduler: Broadcasting large task binary with size 3.6 MiB\n",
      "23/12/14 21:08:14 WARN DAGScheduler: Broadcasting large task binary with size 3.6 MiB\n",
      "23/12/14 21:08:16 WARN DAGScheduler: Broadcasting large task binary with size 3.6 MiB\n",
      "23/12/14 21:08:16 WARN DAGScheduler: Broadcasting large task binary with size 3.6 MiB\n",
      "23/12/14 21:08:17 WARN DAGScheduler: Broadcasting large task binary with size 3.6 MiB\n",
      "23/12/14 21:08:18 WARN DAGScheduler: Broadcasting large task binary with size 3.6 MiB\n",
      "23/12/14 21:08:19 WARN DAGScheduler: Broadcasting large task binary with size 3.6 MiB\n",
      "23/12/14 21:08:19 WARN DAGScheduler: Broadcasting large task binary with size 3.6 MiB\n",
      "23/12/14 21:08:21 WARN DAGScheduler: Broadcasting large task binary with size 3.6 MiB\n",
      "23/12/14 21:08:21 WARN DAGScheduler: Broadcasting large task binary with size 3.6 MiB\n",
      "23/12/14 21:08:23 WARN DAGScheduler: Broadcasting large task binary with size 3.6 MiB\n",
      "23/12/14 21:08:23 WARN DAGScheduler: Broadcasting large task binary with size 3.6 MiB\n",
      "23/12/14 21:08:25 WARN DAGScheduler: Broadcasting large task binary with size 3.6 MiB\n",
      "23/12/14 21:08:25 WARN DAGScheduler: Broadcasting large task binary with size 3.6 MiB\n",
      "23/12/14 21:08:27 WARN DAGScheduler: Broadcasting large task binary with size 3.6 MiB\n",
      "23/12/14 21:08:27 WARN DAGScheduler: Broadcasting large task binary with size 3.6 MiB\n",
      "23/12/14 21:08:28 WARN DAGScheduler: Broadcasting large task binary with size 3.6 MiB\n",
      "23/12/14 21:08:28 WARN DAGScheduler: Broadcasting large task binary with size 3.6 MiB\n",
      "23/12/14 21:08:30 WARN DAGScheduler: Broadcasting large task binary with size 3.6 MiB\n",
      "23/12/14 21:08:30 WARN DAGScheduler: Broadcasting large task binary with size 3.6 MiB\n",
      "23/12/14 21:08:32 WARN DAGScheduler: Broadcasting large task binary with size 3.6 MiB\n",
      "23/12/14 21:08:32 WARN DAGScheduler: Broadcasting large task binary with size 3.6 MiB\n",
      "23/12/14 21:08:33 WARN DAGScheduler: Broadcasting large task binary with size 3.6 MiB\n",
      "23/12/14 21:08:34 WARN DAGScheduler: Broadcasting large task binary with size 3.6 MiB\n",
      "23/12/14 21:08:35 WARN DAGScheduler: Broadcasting large task binary with size 3.6 MiB\n",
      "23/12/14 21:08:35 WARN DAGScheduler: Broadcasting large task binary with size 3.6 MiB\n",
      "23/12/14 21:08:37 WARN DAGScheduler: Broadcasting large task binary with size 3.6 MiB\n",
      "23/12/14 21:08:37 WARN DAGScheduler: Broadcasting large task binary with size 3.6 MiB\n",
      "23/12/14 21:08:39 WARN DAGScheduler: Broadcasting large task binary with size 3.6 MiB\n",
      "23/12/14 21:08:39 WARN DAGScheduler: Broadcasting large task binary with size 3.6 MiB\n",
      "23/12/14 21:08:41 WARN DAGScheduler: Broadcasting large task binary with size 3.6 MiB\n",
      "23/12/14 21:08:41 WARN DAGScheduler: Broadcasting large task binary with size 3.6 MiB\n",
      "23/12/14 21:08:42 WARN DAGScheduler: Broadcasting large task binary with size 3.6 MiB\n",
      "23/12/14 21:08:43 WARN DAGScheduler: Broadcasting large task binary with size 3.6 MiB\n",
      "23/12/14 21:08:44 WARN DAGScheduler: Broadcasting large task binary with size 3.6 MiB\n",
      "23/12/14 21:08:44 WARN DAGScheduler: Broadcasting large task binary with size 3.6 MiB\n",
      "23/12/14 21:08:46 WARN DAGScheduler: Broadcasting large task binary with size 3.6 MiB\n",
      "23/12/14 21:08:46 WARN DAGScheduler: Broadcasting large task binary with size 3.6 MiB\n",
      "23/12/14 21:08:48 WARN DAGScheduler: Broadcasting large task binary with size 3.6 MiB\n",
      "23/12/14 21:08:48 WARN DAGScheduler: Broadcasting large task binary with size 3.6 MiB\n",
      "23/12/14 21:08:50 WARN DAGScheduler: Broadcasting large task binary with size 3.6 MiB\n",
      "23/12/14 21:08:50 WARN DAGScheduler: Broadcasting large task binary with size 3.6 MiB\n",
      "23/12/14 21:08:51 WARN DAGScheduler: Broadcasting large task binary with size 3.6 MiB\n",
      "23/12/14 21:08:51 WARN DAGScheduler: Broadcasting large task binary with size 3.6 MiB\n",
      "23/12/14 21:08:53 WARN DAGScheduler: Broadcasting large task binary with size 3.6 MiB\n",
      "23/12/14 21:08:53 WARN DAGScheduler: Broadcasting large task binary with size 3.6 MiB\n",
      "23/12/14 21:08:55 WARN DAGScheduler: Broadcasting large task binary with size 3.6 MiB\n",
      "23/12/14 21:08:55 WARN DAGScheduler: Broadcasting large task binary with size 3.6 MiB\n",
      "23/12/14 21:08:57 WARN DAGScheduler: Broadcasting large task binary with size 3.6 MiB\n",
      "23/12/14 21:08:57 WARN DAGScheduler: Broadcasting large task binary with size 3.6 MiB\n",
      "23/12/14 21:08:58 WARN DAGScheduler: Broadcasting large task binary with size 3.6 MiB\n",
      "23/12/14 21:08:59 WARN DAGScheduler: Broadcasting large task binary with size 3.6 MiB\n",
      "23/12/14 21:09:00 WARN DAGScheduler: Broadcasting large task binary with size 3.6 MiB\n",
      "23/12/14 21:09:00 WARN DAGScheduler: Broadcasting large task binary with size 3.6 MiB\n",
      "23/12/14 21:09:02 WARN DAGScheduler: Broadcasting large task binary with size 3.6 MiB\n",
      "23/12/14 21:09:02 WARN DAGScheduler: Broadcasting large task binary with size 3.6 MiB\n",
      "23/12/14 21:09:04 WARN DAGScheduler: Broadcasting large task binary with size 3.6 MiB\n",
      "23/12/14 21:09:04 WARN DAGScheduler: Broadcasting large task binary with size 3.6 MiB\n",
      "23/12/14 21:09:06 WARN DAGScheduler: Broadcasting large task binary with size 3.6 MiB\n",
      "23/12/14 21:09:06 WARN DAGScheduler: Broadcasting large task binary with size 3.6 MiB\n",
      "23/12/14 21:09:08 WARN DAGScheduler: Broadcasting large task binary with size 3.6 MiB\n",
      "23/12/14 21:09:08 WARN DAGScheduler: Broadcasting large task binary with size 3.6 MiB\n",
      "23/12/14 21:09:09 WARN DAGScheduler: Broadcasting large task binary with size 3.6 MiB\n",
      "23/12/14 21:09:10 WARN DAGScheduler: Broadcasting large task binary with size 3.6 MiB\n",
      "23/12/14 21:09:12 WARN DAGScheduler: Broadcasting large task binary with size 3.6 MiB\n",
      "23/12/14 21:09:12 WARN DAGScheduler: Broadcasting large task binary with size 3.6 MiB\n",
      "23/12/14 21:09:13 WARN DAGScheduler: Broadcasting large task binary with size 3.6 MiB\n",
      "23/12/14 21:09:14 WARN DAGScheduler: Broadcasting large task binary with size 3.6 MiB\n",
      "23/12/14 21:09:15 WARN DAGScheduler: Broadcasting large task binary with size 3.6 MiB\n",
      "23/12/14 21:09:15 WARN DAGScheduler: Broadcasting large task binary with size 3.6 MiB\n",
      "23/12/14 21:09:17 WARN DAGScheduler: Broadcasting large task binary with size 3.6 MiB\n",
      "23/12/14 21:09:17 WARN DAGScheduler: Broadcasting large task binary with size 3.6 MiB\n",
      "23/12/14 21:09:19 WARN DAGScheduler: Broadcasting large task binary with size 3.6 MiB\n",
      "23/12/14 21:09:19 WARN DAGScheduler: Broadcasting large task binary with size 3.6 MiB\n",
      "23/12/14 21:09:21 WARN DAGScheduler: Broadcasting large task binary with size 3.6 MiB\n",
      "23/12/14 21:09:21 WARN DAGScheduler: Broadcasting large task binary with size 3.6 MiB\n",
      "23/12/14 21:09:23 WARN DAGScheduler: Broadcasting large task binary with size 3.6 MiB\n",
      "23/12/14 21:09:23 WARN DAGScheduler: Broadcasting large task binary with size 3.6 MiB\n",
      "23/12/14 21:09:24 WARN DAGScheduler: Broadcasting large task binary with size 3.6 MiB\n",
      "23/12/14 21:09:24 WARN DAGScheduler: Broadcasting large task binary with size 3.6 MiB\n",
      "23/12/14 21:09:26 WARN DAGScheduler: Broadcasting large task binary with size 3.6 MiB\n",
      "23/12/14 21:09:26 WARN DAGScheduler: Broadcasting large task binary with size 3.6 MiB\n",
      "23/12/14 21:09:28 WARN DAGScheduler: Broadcasting large task binary with size 3.6 MiB\n",
      "23/12/14 21:09:28 WARN DAGScheduler: Broadcasting large task binary with size 3.6 MiB\n",
      "23/12/14 21:09:30 WARN DAGScheduler: Broadcasting large task binary with size 3.6 MiB\n",
      "23/12/14 21:09:30 WARN DAGScheduler: Broadcasting large task binary with size 3.6 MiB\n",
      "23/12/14 21:09:32 WARN DAGScheduler: Broadcasting large task binary with size 3.6 MiB\n",
      "23/12/14 21:09:32 WARN DAGScheduler: Broadcasting large task binary with size 3.6 MiB\n",
      "23/12/14 21:09:33 WARN DAGScheduler: Broadcasting large task binary with size 3.6 MiB\n",
      "23/12/14 21:09:33 WARN DAGScheduler: Broadcasting large task binary with size 3.6 MiB\n",
      "23/12/14 21:09:35 WARN DAGScheduler: Broadcasting large task binary with size 3.6 MiB\n",
      "23/12/14 21:09:35 WARN DAGScheduler: Broadcasting large task binary with size 3.6 MiB\n",
      "23/12/14 21:09:37 WARN DAGScheduler: Broadcasting large task binary with size 3.6 MiB\n",
      "23/12/14 21:09:37 WARN DAGScheduler: Broadcasting large task binary with size 3.6 MiB\n",
      "23/12/14 21:09:38 WARN DAGScheduler: Broadcasting large task binary with size 3.6 MiB\n",
      "23/12/14 21:09:39 WARN DAGScheduler: Broadcasting large task binary with size 3.6 MiB\n",
      "23/12/14 21:09:40 WARN DAGScheduler: Broadcasting large task binary with size 3.6 MiB\n",
      "23/12/14 21:09:40 WARN DAGScheduler: Broadcasting large task binary with size 3.6 MiB\n",
      "23/12/14 21:09:42 WARN DAGScheduler: Broadcasting large task binary with size 3.6 MiB\n",
      "23/12/14 21:09:42 WARN DAGScheduler: Broadcasting large task binary with size 3.6 MiB\n",
      "23/12/14 21:09:44 WARN DAGScheduler: Broadcasting large task binary with size 3.6 MiB\n",
      "23/12/14 21:09:44 WARN DAGScheduler: Broadcasting large task binary with size 3.6 MiB\n",
      "23/12/14 21:09:46 WARN DAGScheduler: Broadcasting large task binary with size 3.6 MiB\n",
      "23/12/14 21:09:46 WARN DAGScheduler: Broadcasting large task binary with size 3.6 MiB\n",
      "23/12/14 21:09:48 WARN DAGScheduler: Broadcasting large task binary with size 3.6 MiB\n",
      "23/12/14 21:09:48 WARN DAGScheduler: Broadcasting large task binary with size 3.6 MiB\n",
      "23/12/14 21:09:49 WARN DAGScheduler: Broadcasting large task binary with size 3.6 MiB\n",
      "23/12/14 21:09:50 WARN DAGScheduler: Broadcasting large task binary with size 3.6 MiB\n",
      "23/12/14 21:09:51 WARN DAGScheduler: Broadcasting large task binary with size 3.6 MiB\n",
      "23/12/14 21:09:51 WARN DAGScheduler: Broadcasting large task binary with size 3.6 MiB\n",
      "23/12/14 21:09:53 WARN DAGScheduler: Broadcasting large task binary with size 3.6 MiB\n",
      "23/12/14 21:09:53 WARN DAGScheduler: Broadcasting large task binary with size 3.6 MiB\n",
      "23/12/14 21:09:55 WARN DAGScheduler: Broadcasting large task binary with size 3.6 MiB\n",
      "23/12/14 21:09:55 WARN DAGScheduler: Broadcasting large task binary with size 3.6 MiB\n",
      "23/12/14 21:09:57 WARN DAGScheduler: Broadcasting large task binary with size 3.6 MiB\n",
      "23/12/14 21:09:57 WARN DAGScheduler: Broadcasting large task binary with size 3.6 MiB\n",
      "23/12/14 21:09:59 WARN DAGScheduler: Broadcasting large task binary with size 3.6 MiB\n",
      "23/12/14 21:09:59 WARN DAGScheduler: Broadcasting large task binary with size 3.6 MiB\n",
      "23/12/14 21:10:00 WARN DAGScheduler: Broadcasting large task binary with size 3.6 MiB\n",
      "23/12/14 21:10:01 WARN DAGScheduler: Broadcasting large task binary with size 3.6 MiB\n",
      "23/12/14 21:10:02 WARN DAGScheduler: Broadcasting large task binary with size 3.6 MiB\n",
      "23/12/14 21:10:02 WARN DAGScheduler: Broadcasting large task binary with size 3.6 MiB\n",
      "23/12/14 21:10:04 WARN DAGScheduler: Broadcasting large task binary with size 3.6 MiB\n",
      "23/12/14 21:10:04 WARN DAGScheduler: Broadcasting large task binary with size 3.6 MiB\n",
      "23/12/14 21:10:06 WARN DAGScheduler: Broadcasting large task binary with size 3.6 MiB\n",
      "23/12/14 21:10:06 WARN DAGScheduler: Broadcasting large task binary with size 3.6 MiB\n",
      "23/12/14 21:10:08 WARN DAGScheduler: Broadcasting large task binary with size 3.6 MiB\n",
      "23/12/14 21:10:08 WARN DAGScheduler: Broadcasting large task binary with size 3.6 MiB\n",
      "23/12/14 21:10:09 WARN DAGScheduler: Broadcasting large task binary with size 3.6 MiB\n",
      "23/12/14 21:10:10 WARN DAGScheduler: Broadcasting large task binary with size 3.6 MiB\n",
      "23/12/14 21:10:11 WARN DAGScheduler: Broadcasting large task binary with size 3.6 MiB\n",
      "23/12/14 21:10:11 WARN DAGScheduler: Broadcasting large task binary with size 3.6 MiB\n",
      "23/12/14 21:10:13 WARN DAGScheduler: Broadcasting large task binary with size 3.6 MiB\n",
      "23/12/14 21:10:13 WARN DAGScheduler: Broadcasting large task binary with size 3.6 MiB\n",
      "23/12/14 21:10:15 WARN DAGScheduler: Broadcasting large task binary with size 3.6 MiB\n",
      "23/12/14 21:10:15 WARN DAGScheduler: Broadcasting large task binary with size 3.6 MiB\n",
      "23/12/14 21:10:17 WARN DAGScheduler: Broadcasting large task binary with size 3.6 MiB\n",
      "23/12/14 21:10:17 WARN DAGScheduler: Broadcasting large task binary with size 3.6 MiB\n",
      "23/12/14 21:10:19 WARN DAGScheduler: Broadcasting large task binary with size 3.6 MiB\n",
      "23/12/14 21:10:19 WARN DAGScheduler: Broadcasting large task binary with size 3.6 MiB\n",
      "23/12/14 21:10:20 WARN DAGScheduler: Broadcasting large task binary with size 3.6 MiB\n",
      "23/12/14 21:10:21 WARN DAGScheduler: Broadcasting large task binary with size 3.6 MiB\n",
      "23/12/14 21:10:22 WARN DAGScheduler: Broadcasting large task binary with size 3.6 MiB\n",
      "23/12/14 21:10:22 WARN DAGScheduler: Broadcasting large task binary with size 3.6 MiB\n",
      "23/12/14 21:10:24 WARN DAGScheduler: Broadcasting large task binary with size 3.6 MiB\n",
      "23/12/14 21:10:24 WARN DAGScheduler: Broadcasting large task binary with size 3.6 MiB\n",
      "23/12/14 21:10:26 WARN DAGScheduler: Broadcasting large task binary with size 3.6 MiB\n",
      "23/12/14 21:10:26 WARN DAGScheduler: Broadcasting large task binary with size 3.6 MiB\n",
      "23/12/14 21:10:28 WARN DAGScheduler: Broadcasting large task binary with size 3.6 MiB\n",
      "23/12/14 21:10:28 WARN DAGScheduler: Broadcasting large task binary with size 3.6 MiB\n",
      "23/12/14 21:10:29 WARN DAGScheduler: Broadcasting large task binary with size 3.6 MiB\n",
      "23/12/14 21:10:30 WARN DAGScheduler: Broadcasting large task binary with size 3.6 MiB\n",
      "23/12/14 21:10:31 WARN DAGScheduler: Broadcasting large task binary with size 3.6 MiB\n",
      "23/12/14 21:10:31 WARN DAGScheduler: Broadcasting large task binary with size 3.6 MiB\n",
      "23/12/14 21:10:33 WARN DAGScheduler: Broadcasting large task binary with size 3.6 MiB\n",
      "23/12/14 21:10:33 WARN DAGScheduler: Broadcasting large task binary with size 3.6 MiB\n",
      "23/12/14 21:10:35 WARN DAGScheduler: Broadcasting large task binary with size 3.6 MiB\n",
      "23/12/14 21:10:35 WARN DAGScheduler: Broadcasting large task binary with size 3.6 MiB\n",
      "23/12/14 21:10:37 WARN DAGScheduler: Broadcasting large task binary with size 3.6 MiB\n",
      "23/12/14 21:10:37 WARN DAGScheduler: Broadcasting large task binary with size 3.6 MiB\n",
      "23/12/14 21:10:38 WARN DAGScheduler: Broadcasting large task binary with size 3.6 MiB\n",
      "23/12/14 21:10:39 WARN DAGScheduler: Broadcasting large task binary with size 3.6 MiB\n",
      "23/12/14 21:10:40 WARN DAGScheduler: Broadcasting large task binary with size 3.6 MiB\n",
      "23/12/14 21:10:40 WARN DAGScheduler: Broadcasting large task binary with size 3.6 MiB\n",
      "23/12/14 21:10:42 WARN DAGScheduler: Broadcasting large task binary with size 3.6 MiB\n",
      "23/12/14 21:10:42 WARN DAGScheduler: Broadcasting large task binary with size 3.6 MiB\n",
      "23/12/14 21:10:44 WARN DAGScheduler: Broadcasting large task binary with size 3.6 MiB\n",
      "23/12/14 21:10:44 WARN DAGScheduler: Broadcasting large task binary with size 3.6 MiB\n",
      "23/12/14 21:10:46 WARN DAGScheduler: Broadcasting large task binary with size 3.6 MiB\n",
      "23/12/14 21:10:46 WARN DAGScheduler: Broadcasting large task binary with size 3.6 MiB\n",
      "23/12/14 21:10:47 WARN DAGScheduler: Broadcasting large task binary with size 3.6 MiB\n",
      "23/12/14 21:10:48 WARN DAGScheduler: Broadcasting large task binary with size 3.6 MiB\n",
      "23/12/14 21:10:49 WARN DAGScheduler: Broadcasting large task binary with size 3.6 MiB\n",
      "23/12/14 21:10:49 WARN DAGScheduler: Broadcasting large task binary with size 3.6 MiB\n",
      "23/12/14 21:10:51 WARN DAGScheduler: Broadcasting large task binary with size 3.6 MiB\n",
      "23/12/14 21:10:51 WARN DAGScheduler: Broadcasting large task binary with size 3.6 MiB\n",
      "23/12/14 21:10:53 WARN DAGScheduler: Broadcasting large task binary with size 3.6 MiB\n",
      "23/12/14 21:10:53 WARN DAGScheduler: Broadcasting large task binary with size 3.6 MiB\n",
      "23/12/14 21:10:54 WARN DAGScheduler: Broadcasting large task binary with size 3.6 MiB\n",
      "23/12/14 21:10:55 WARN DAGScheduler: Broadcasting large task binary with size 3.6 MiB\n",
      "23/12/14 21:10:56 WARN DAGScheduler: Broadcasting large task binary with size 3.6 MiB\n",
      "23/12/14 21:10:56 WARN DAGScheduler: Broadcasting large task binary with size 3.6 MiB\n",
      "23/12/14 21:10:58 WARN DAGScheduler: Broadcasting large task binary with size 3.6 MiB\n",
      "23/12/14 21:10:58 WARN DAGScheduler: Broadcasting large task binary with size 3.6 MiB\n",
      "23/12/14 21:11:00 WARN DAGScheduler: Broadcasting large task binary with size 3.6 MiB\n",
      "23/12/14 21:11:00 WARN DAGScheduler: Broadcasting large task binary with size 3.6 MiB\n",
      "23/12/14 21:11:01 WARN DAGScheduler: Broadcasting large task binary with size 3.6 MiB\n",
      "23/12/14 21:11:02 WARN DAGScheduler: Broadcasting large task binary with size 3.6 MiB\n",
      "23/12/14 21:11:03 WARN DAGScheduler: Broadcasting large task binary with size 3.6 MiB\n",
      "23/12/14 21:11:03 WARN DAGScheduler: Broadcasting large task binary with size 3.6 MiB\n",
      "23/12/14 21:11:05 WARN DAGScheduler: Broadcasting large task binary with size 3.6 MiB\n",
      "23/12/14 21:11:05 WARN DAGScheduler: Broadcasting large task binary with size 3.6 MiB\n",
      "23/12/14 21:11:07 WARN DAGScheduler: Broadcasting large task binary with size 3.6 MiB\n",
      "23/12/14 21:11:07 WARN DAGScheduler: Broadcasting large task binary with size 3.6 MiB\n",
      "23/12/14 21:11:09 WARN DAGScheduler: Broadcasting large task binary with size 3.6 MiB\n",
      "23/12/14 21:11:09 WARN DAGScheduler: Broadcasting large task binary with size 3.6 MiB\n",
      "23/12/14 21:11:11 WARN DAGScheduler: Broadcasting large task binary with size 3.6 MiB\n",
      "23/12/14 21:11:11 WARN DAGScheduler: Broadcasting large task binary with size 3.6 MiB\n",
      "23/12/14 21:11:12 WARN DAGScheduler: Broadcasting large task binary with size 3.6 MiB\n",
      "23/12/14 21:11:12 WARN DAGScheduler: Broadcasting large task binary with size 3.6 MiB\n",
      "23/12/14 21:11:14 WARN DAGScheduler: Broadcasting large task binary with size 3.6 MiB\n",
      "23/12/14 21:11:14 WARN DAGScheduler: Broadcasting large task binary with size 3.6 MiB\n",
      "23/12/14 21:11:16 WARN DAGScheduler: Broadcasting large task binary with size 3.6 MiB\n",
      "23/12/14 21:11:16 WARN DAGScheduler: Broadcasting large task binary with size 3.6 MiB\n",
      "23/12/14 21:11:18 WARN DAGScheduler: Broadcasting large task binary with size 3.6 MiB\n",
      "23/12/14 21:11:18 WARN DAGScheduler: Broadcasting large task binary with size 3.6 MiB\n",
      "23/12/14 21:11:20 WARN DAGScheduler: Broadcasting large task binary with size 3.6 MiB\n",
      "23/12/14 21:11:20 WARN DAGScheduler: Broadcasting large task binary with size 3.6 MiB\n",
      "23/12/14 21:11:22 WARN DAGScheduler: Broadcasting large task binary with size 3.6 MiB\n",
      "23/12/14 21:11:22 WARN DAGScheduler: Broadcasting large task binary with size 3.6 MiB\n",
      "23/12/14 21:11:23 WARN DAGScheduler: Broadcasting large task binary with size 3.6 MiB\n",
      "23/12/14 21:11:24 WARN DAGScheduler: Broadcasting large task binary with size 3.6 MiB\n",
      "23/12/14 21:11:25 WARN DAGScheduler: Broadcasting large task binary with size 3.6 MiB\n",
      "23/12/14 21:11:25 WARN DAGScheduler: Broadcasting large task binary with size 3.6 MiB\n",
      "23/12/14 21:11:27 WARN DAGScheduler: Broadcasting large task binary with size 3.6 MiB\n",
      "23/12/14 21:11:27 WARN DAGScheduler: Broadcasting large task binary with size 3.6 MiB\n",
      "23/12/14 21:11:29 WARN DAGScheduler: Broadcasting large task binary with size 3.6 MiB\n",
      "23/12/14 21:11:29 WARN DAGScheduler: Broadcasting large task binary with size 3.6 MiB\n",
      "23/12/14 21:11:30 WARN DAGScheduler: Broadcasting large task binary with size 3.6 MiB\n",
      "23/12/14 21:11:31 WARN DAGScheduler: Broadcasting large task binary with size 3.6 MiB\n",
      "23/12/14 21:11:32 WARN DAGScheduler: Broadcasting large task binary with size 3.6 MiB\n",
      "23/12/14 21:11:33 WARN DAGScheduler: Broadcasting large task binary with size 3.6 MiB\n",
      "23/12/14 21:11:34 WARN DAGScheduler: Broadcasting large task binary with size 3.6 MiB\n",
      "23/12/14 21:11:34 WARN DAGScheduler: Broadcasting large task binary with size 3.6 MiB\n",
      "23/12/14 21:11:36 WARN DAGScheduler: Broadcasting large task binary with size 3.6 MiB\n",
      "23/12/14 21:11:36 WARN DAGScheduler: Broadcasting large task binary with size 3.6 MiB\n",
      "23/12/14 21:11:38 WARN DAGScheduler: Broadcasting large task binary with size 3.6 MiB\n",
      "23/12/14 21:11:38 WARN DAGScheduler: Broadcasting large task binary with size 3.6 MiB\n",
      "23/12/14 21:11:40 WARN DAGScheduler: Broadcasting large task binary with size 3.6 MiB\n",
      "23/12/14 21:11:40 WARN DAGScheduler: Broadcasting large task binary with size 3.6 MiB\n",
      "23/12/14 21:11:41 WARN DAGScheduler: Broadcasting large task binary with size 3.6 MiB\n",
      "23/12/14 21:11:41 WARN DAGScheduler: Broadcasting large task binary with size 3.6 MiB\n",
      "23/12/14 21:11:43 WARN DAGScheduler: Broadcasting large task binary with size 3.6 MiB\n",
      "23/12/14 21:11:43 WARN DAGScheduler: Broadcasting large task binary with size 3.6 MiB\n",
      "23/12/14 21:11:45 WARN DAGScheduler: Broadcasting large task binary with size 3.6 MiB\n",
      "23/12/14 21:11:45 WARN DAGScheduler: Broadcasting large task binary with size 3.6 MiB\n",
      "23/12/14 21:11:47 WARN DAGScheduler: Broadcasting large task binary with size 3.6 MiB\n",
      "23/12/14 21:11:47 WARN DAGScheduler: Broadcasting large task binary with size 3.6 MiB\n",
      "23/12/14 21:11:49 WARN DAGScheduler: Broadcasting large task binary with size 3.6 MiB\n",
      "23/12/14 21:11:49 WARN DAGScheduler: Broadcasting large task binary with size 3.6 MiB\n",
      "23/12/14 21:11:50 WARN DAGScheduler: Broadcasting large task binary with size 3.6 MiB\n",
      "23/12/14 21:11:51 WARN DAGScheduler: Broadcasting large task binary with size 3.6 MiB\n",
      "23/12/14 21:11:52 WARN DAGScheduler: Broadcasting large task binary with size 3.6 MiB\n",
      "23/12/14 21:11:52 WARN DAGScheduler: Broadcasting large task binary with size 3.6 MiB\n",
      "23/12/14 21:11:54 WARN DAGScheduler: Broadcasting large task binary with size 3.6 MiB\n",
      "23/12/14 21:11:54 WARN DAGScheduler: Broadcasting large task binary with size 3.6 MiB\n",
      "23/12/14 21:11:56 WARN DAGScheduler: Broadcasting large task binary with size 3.6 MiB\n",
      "23/12/14 21:11:56 WARN DAGScheduler: Broadcasting large task binary with size 3.6 MiB\n",
      "23/12/14 21:11:58 WARN DAGScheduler: Broadcasting large task binary with size 3.6 MiB\n",
      "23/12/14 21:11:58 WARN DAGScheduler: Broadcasting large task binary with size 3.6 MiB\n",
      "23/12/14 21:11:59 WARN DAGScheduler: Broadcasting large task binary with size 3.6 MiB\n",
      "23/12/14 21:11:59 WARN DAGScheduler: Broadcasting large task binary with size 3.6 MiB\n",
      "23/12/14 21:12:01 WARN DAGScheduler: Broadcasting large task binary with size 3.6 MiB\n",
      "23/12/14 21:12:01 WARN DAGScheduler: Broadcasting large task binary with size 3.6 MiB\n",
      "23/12/14 21:12:03 WARN DAGScheduler: Broadcasting large task binary with size 3.6 MiB\n",
      "23/12/14 21:12:03 WARN DAGScheduler: Broadcasting large task binary with size 3.6 MiB\n",
      "23/12/14 21:12:05 WARN DAGScheduler: Broadcasting large task binary with size 3.6 MiB\n",
      "23/12/14 21:12:05 WARN DAGScheduler: Broadcasting large task binary with size 3.6 MiB\n",
      "23/12/14 21:12:06 WARN DAGScheduler: Broadcasting large task binary with size 3.6 MiB\n",
      "23/12/14 21:12:07 WARN DAGScheduler: Broadcasting large task binary with size 3.6 MiB\n",
      "23/12/14 21:12:08 WARN DAGScheduler: Broadcasting large task binary with size 3.6 MiB\n",
      "23/12/14 21:12:08 WARN DAGScheduler: Broadcasting large task binary with size 3.6 MiB\n",
      "23/12/14 21:12:10 WARN DAGScheduler: Broadcasting large task binary with size 3.6 MiB\n",
      "23/12/14 21:12:10 WARN DAGScheduler: Broadcasting large task binary with size 3.6 MiB\n",
      "23/12/14 21:12:12 WARN DAGScheduler: Broadcasting large task binary with size 3.6 MiB\n",
      "23/12/14 21:12:12 WARN DAGScheduler: Broadcasting large task binary with size 3.6 MiB\n",
      "23/12/14 21:12:14 WARN DAGScheduler: Broadcasting large task binary with size 3.6 MiB\n",
      "23/12/14 21:12:14 WARN DAGScheduler: Broadcasting large task binary with size 3.6 MiB\n",
      "23/12/14 21:12:15 WARN DAGScheduler: Broadcasting large task binary with size 3.6 MiB\n",
      "23/12/14 21:12:16 WARN DAGScheduler: Broadcasting large task binary with size 3.6 MiB\n",
      "23/12/14 21:12:17 WARN DAGScheduler: Broadcasting large task binary with size 3.6 MiB\n",
      "23/12/14 21:12:18 WARN DAGScheduler: Broadcasting large task binary with size 3.6 MiB\n",
      "23/12/14 21:12:19 WARN DAGScheduler: Broadcasting large task binary with size 3.6 MiB\n",
      "23/12/14 21:12:19 WARN DAGScheduler: Broadcasting large task binary with size 3.6 MiB\n",
      "23/12/14 21:12:21 WARN DAGScheduler: Broadcasting large task binary with size 3.6 MiB\n",
      "23/12/14 21:12:21 WARN DAGScheduler: Broadcasting large task binary with size 3.6 MiB\n",
      "23/12/14 21:12:23 WARN DAGScheduler: Broadcasting large task binary with size 3.6 MiB\n",
      "23/12/14 21:12:23 WARN DAGScheduler: Broadcasting large task binary with size 3.6 MiB\n",
      "23/12/14 21:12:25 WARN DAGScheduler: Broadcasting large task binary with size 3.6 MiB\n",
      "23/12/14 21:12:25 WARN DAGScheduler: Broadcasting large task binary with size 3.6 MiB\n",
      "23/12/14 21:12:26 WARN DAGScheduler: Broadcasting large task binary with size 3.6 MiB\n",
      "23/12/14 21:12:27 WARN DAGScheduler: Broadcasting large task binary with size 3.6 MiB\n",
      "23/12/14 21:12:28 WARN DAGScheduler: Broadcasting large task binary with size 3.6 MiB\n",
      "23/12/14 21:12:28 WARN DAGScheduler: Broadcasting large task binary with size 3.6 MiB\n",
      "23/12/14 21:12:30 WARN DAGScheduler: Broadcasting large task binary with size 3.6 MiB\n",
      "23/12/14 21:12:30 WARN DAGScheduler: Broadcasting large task binary with size 3.6 MiB\n",
      "23/12/14 21:12:32 WARN DAGScheduler: Broadcasting large task binary with size 3.6 MiB\n",
      "23/12/14 21:12:32 WARN DAGScheduler: Broadcasting large task binary with size 3.6 MiB\n",
      "23/12/14 21:12:34 WARN DAGScheduler: Broadcasting large task binary with size 3.6 MiB\n",
      "23/12/14 21:12:34 WARN DAGScheduler: Broadcasting large task binary with size 3.6 MiB\n",
      "23/12/14 21:12:36 WARN DAGScheduler: Broadcasting large task binary with size 3.6 MiB\n",
      "23/12/14 21:12:36 WARN DAGScheduler: Broadcasting large task binary with size 3.6 MiB\n",
      "23/12/14 21:12:37 WARN DAGScheduler: Broadcasting large task binary with size 3.6 MiB\n",
      "23/12/14 21:12:38 WARN DAGScheduler: Broadcasting large task binary with size 3.6 MiB\n",
      "23/12/14 21:12:39 WARN DAGScheduler: Broadcasting large task binary with size 3.6 MiB\n",
      "23/12/14 21:12:39 WARN DAGScheduler: Broadcasting large task binary with size 3.6 MiB\n",
      "23/12/14 21:12:41 WARN DAGScheduler: Broadcasting large task binary with size 3.6 MiB\n",
      "23/12/14 21:12:41 WARN DAGScheduler: Broadcasting large task binary with size 3.6 MiB\n",
      "23/12/14 21:12:43 WARN DAGScheduler: Broadcasting large task binary with size 3.6 MiB\n",
      "23/12/14 21:12:43 WARN DAGScheduler: Broadcasting large task binary with size 3.6 MiB\n",
      "23/12/14 21:12:45 WARN DAGScheduler: Broadcasting large task binary with size 3.6 MiB\n",
      "23/12/14 21:12:45 WARN DAGScheduler: Broadcasting large task binary with size 3.6 MiB\n",
      "23/12/14 21:12:47 WARN DAGScheduler: Broadcasting large task binary with size 3.6 MiB\n",
      "23/12/14 21:12:47 WARN DAGScheduler: Broadcasting large task binary with size 3.6 MiB\n",
      "23/12/14 21:12:48 WARN DAGScheduler: Broadcasting large task binary with size 3.6 MiB\n",
      "23/12/14 21:12:49 WARN DAGScheduler: Broadcasting large task binary with size 3.6 MiB\n",
      "23/12/14 21:12:50 WARN DAGScheduler: Broadcasting large task binary with size 3.6 MiB\n",
      "23/12/14 21:12:50 WARN DAGScheduler: Broadcasting large task binary with size 3.6 MiB\n",
      "23/12/14 21:12:52 WARN DAGScheduler: Broadcasting large task binary with size 3.6 MiB\n",
      "23/12/14 21:12:52 WARN DAGScheduler: Broadcasting large task binary with size 3.6 MiB\n",
      "23/12/14 21:12:54 WARN DAGScheduler: Broadcasting large task binary with size 3.6 MiB\n",
      "23/12/14 21:12:54 WARN DAGScheduler: Broadcasting large task binary with size 3.6 MiB\n",
      "23/12/14 21:12:55 WARN DAGScheduler: Broadcasting large task binary with size 3.6 MiB\n",
      "23/12/14 21:12:56 WARN DAGScheduler: Broadcasting large task binary with size 3.6 MiB\n",
      "23/12/14 21:12:57 WARN DAGScheduler: Broadcasting large task binary with size 3.6 MiB\n",
      "23/12/14 21:12:57 WARN DAGScheduler: Broadcasting large task binary with size 3.6 MiB\n",
      "23/12/14 21:12:59 WARN DAGScheduler: Broadcasting large task binary with size 3.6 MiB\n",
      "23/12/14 21:12:59 WARN DAGScheduler: Broadcasting large task binary with size 3.6 MiB\n",
      "23/12/14 21:13:01 WARN DAGScheduler: Broadcasting large task binary with size 3.6 MiB\n",
      "23/12/14 21:13:01 WARN DAGScheduler: Broadcasting large task binary with size 3.6 MiB\n",
      "23/12/14 21:13:03 WARN DAGScheduler: Broadcasting large task binary with size 3.6 MiB\n",
      "23/12/14 21:13:03 WARN DAGScheduler: Broadcasting large task binary with size 3.6 MiB\n",
      "23/12/14 21:13:04 WARN DAGScheduler: Broadcasting large task binary with size 3.6 MiB\n",
      "23/12/14 21:13:05 WARN DAGScheduler: Broadcasting large task binary with size 3.6 MiB\n",
      "23/12/14 21:13:06 WARN DAGScheduler: Broadcasting large task binary with size 3.6 MiB\n",
      "23/12/14 21:13:06 WARN DAGScheduler: Broadcasting large task binary with size 3.6 MiB\n",
      "23/12/14 21:13:08 WARN DAGScheduler: Broadcasting large task binary with size 3.6 MiB\n",
      "23/12/14 21:13:08 WARN DAGScheduler: Broadcasting large task binary with size 3.6 MiB\n",
      "23/12/14 21:13:10 WARN DAGScheduler: Broadcasting large task binary with size 3.6 MiB\n",
      "23/12/14 21:13:10 WARN DAGScheduler: Broadcasting large task binary with size 3.6 MiB\n",
      "23/12/14 21:13:12 WARN DAGScheduler: Broadcasting large task binary with size 3.6 MiB\n",
      "23/12/14 21:13:12 WARN DAGScheduler: Broadcasting large task binary with size 3.6 MiB\n",
      "23/12/14 21:13:14 WARN DAGScheduler: Broadcasting large task binary with size 3.6 MiB\n",
      "23/12/14 21:13:14 WARN DAGScheduler: Broadcasting large task binary with size 3.6 MiB\n",
      "23/12/14 21:13:16 WARN DAGScheduler: Broadcasting large task binary with size 3.6 MiB\n",
      "23/12/14 21:13:16 WARN DAGScheduler: Broadcasting large task binary with size 3.6 MiB\n",
      "23/12/14 21:13:18 WARN DAGScheduler: Broadcasting large task binary with size 3.6 MiB\n",
      "23/12/14 21:13:18 WARN DAGScheduler: Broadcasting large task binary with size 3.6 MiB\n",
      "23/12/14 21:13:20 WARN DAGScheduler: Broadcasting large task binary with size 3.6 MiB\n",
      "23/12/14 21:13:20 WARN DAGScheduler: Broadcasting large task binary with size 3.6 MiB\n",
      "23/12/14 21:13:21 WARN DAGScheduler: Broadcasting large task binary with size 3.6 MiB\n",
      "23/12/14 21:13:22 WARN DAGScheduler: Broadcasting large task binary with size 3.6 MiB\n",
      "23/12/14 21:13:23 WARN DAGScheduler: Broadcasting large task binary with size 3.6 MiB\n",
      "23/12/14 21:13:23 WARN DAGScheduler: Broadcasting large task binary with size 3.6 MiB\n",
      "23/12/14 21:13:25 WARN DAGScheduler: Broadcasting large task binary with size 3.6 MiB\n",
      "23/12/14 21:13:25 WARN DAGScheduler: Broadcasting large task binary with size 3.6 MiB\n",
      "23/12/14 21:13:27 WARN DAGScheduler: Broadcasting large task binary with size 3.6 MiB\n",
      "23/12/14 21:13:27 WARN DAGScheduler: Broadcasting large task binary with size 3.6 MiB\n",
      "23/12/14 21:13:29 WARN DAGScheduler: Broadcasting large task binary with size 3.6 MiB\n",
      "23/12/14 21:13:29 WARN DAGScheduler: Broadcasting large task binary with size 3.6 MiB\n",
      "23/12/14 21:13:31 WARN DAGScheduler: Broadcasting large task binary with size 3.6 MiB\n",
      "23/12/14 21:13:31 WARN DAGScheduler: Broadcasting large task binary with size 3.6 MiB\n",
      "23/12/14 21:13:33 WARN DAGScheduler: Broadcasting large task binary with size 3.6 MiB\n",
      "23/12/14 21:13:33 WARN DAGScheduler: Broadcasting large task binary with size 3.6 MiB\n",
      "23/12/14 21:13:35 WARN DAGScheduler: Broadcasting large task binary with size 3.6 MiB\n",
      "23/12/14 21:13:35 WARN DAGScheduler: Broadcasting large task binary with size 3.6 MiB\n",
      "23/12/14 21:13:36 WARN DAGScheduler: Broadcasting large task binary with size 3.6 MiB\n",
      "23/12/14 21:13:37 WARN DAGScheduler: Broadcasting large task binary with size 3.6 MiB\n",
      "23/12/14 21:13:38 WARN DAGScheduler: Broadcasting large task binary with size 3.6 MiB\n",
      "23/12/14 21:13:38 WARN DAGScheduler: Broadcasting large task binary with size 3.6 MiB\n",
      "23/12/14 21:13:40 WARN DAGScheduler: Broadcasting large task binary with size 3.6 MiB\n",
      "23/12/14 21:13:40 WARN DAGScheduler: Broadcasting large task binary with size 3.6 MiB\n",
      "23/12/14 21:13:42 WARN DAGScheduler: Broadcasting large task binary with size 3.6 MiB\n",
      "23/12/14 21:13:42 WARN DAGScheduler: Broadcasting large task binary with size 3.6 MiB\n",
      "23/12/14 21:13:44 WARN DAGScheduler: Broadcasting large task binary with size 3.6 MiB\n",
      "23/12/14 21:13:44 WARN DAGScheduler: Broadcasting large task binary with size 3.6 MiB\n",
      "23/12/14 21:13:46 WARN DAGScheduler: Broadcasting large task binary with size 3.6 MiB\n",
      "23/12/14 21:13:46 WARN DAGScheduler: Broadcasting large task binary with size 3.6 MiB\n",
      "23/12/14 21:13:48 WARN DAGScheduler: Broadcasting large task binary with size 3.6 MiB\n",
      "23/12/14 21:13:48 WARN DAGScheduler: Broadcasting large task binary with size 3.6 MiB\n",
      "23/12/14 21:13:50 WARN DAGScheduler: Broadcasting large task binary with size 3.6 MiB\n",
      "23/12/14 21:13:50 WARN DAGScheduler: Broadcasting large task binary with size 3.6 MiB\n",
      "23/12/14 21:13:51 WARN DAGScheduler: Broadcasting large task binary with size 3.6 MiB\n",
      "23/12/14 21:13:52 WARN DAGScheduler: Broadcasting large task binary with size 3.6 MiB\n",
      "23/12/14 21:13:53 WARN DAGScheduler: Broadcasting large task binary with size 3.6 MiB\n",
      "23/12/14 21:13:53 WARN DAGScheduler: Broadcasting large task binary with size 3.6 MiB\n",
      "23/12/14 21:13:55 WARN DAGScheduler: Broadcasting large task binary with size 3.6 MiB\n",
      "23/12/14 21:13:55 WARN DAGScheduler: Broadcasting large task binary with size 3.6 MiB\n",
      "23/12/14 21:13:57 WARN DAGScheduler: Broadcasting large task binary with size 3.6 MiB\n",
      "23/12/14 21:13:57 WARN DAGScheduler: Broadcasting large task binary with size 3.6 MiB\n",
      "23/12/14 21:13:59 WARN DAGScheduler: Broadcasting large task binary with size 3.6 MiB\n",
      "23/12/14 21:13:59 WARN DAGScheduler: Broadcasting large task binary with size 3.6 MiB\n",
      "23/12/14 21:14:01 WARN DAGScheduler: Broadcasting large task binary with size 3.6 MiB\n",
      "23/12/14 21:14:01 WARN DAGScheduler: Broadcasting large task binary with size 3.6 MiB\n",
      "23/12/14 21:14:03 WARN DAGScheduler: Broadcasting large task binary with size 3.6 MiB\n",
      "23/12/14 21:14:03 WARN DAGScheduler: Broadcasting large task binary with size 3.6 MiB\n",
      "23/12/14 21:14:04 WARN DAGScheduler: Broadcasting large task binary with size 3.6 MiB\n",
      "23/12/14 21:14:05 WARN DAGScheduler: Broadcasting large task binary with size 3.6 MiB\n",
      "23/12/14 21:14:06 WARN DAGScheduler: Broadcasting large task binary with size 3.6 MiB\n",
      "23/12/14 21:14:06 WARN DAGScheduler: Broadcasting large task binary with size 3.6 MiB\n",
      "23/12/14 21:14:08 WARN DAGScheduler: Broadcasting large task binary with size 3.6 MiB\n",
      "23/12/14 21:14:08 WARN DAGScheduler: Broadcasting large task binary with size 3.6 MiB\n",
      "23/12/14 21:14:10 WARN DAGScheduler: Broadcasting large task binary with size 3.6 MiB\n",
      "23/12/14 21:14:10 WARN DAGScheduler: Broadcasting large task binary with size 3.6 MiB\n",
      "23/12/14 21:14:12 WARN DAGScheduler: Broadcasting large task binary with size 3.6 MiB\n",
      "23/12/14 21:14:12 WARN DAGScheduler: Broadcasting large task binary with size 3.6 MiB\n",
      "23/12/14 21:14:14 WARN DAGScheduler: Broadcasting large task binary with size 3.6 MiB\n",
      "23/12/14 21:14:14 WARN DAGScheduler: Broadcasting large task binary with size 3.6 MiB\n",
      "23/12/14 21:14:16 WARN DAGScheduler: Broadcasting large task binary with size 3.6 MiB\n",
      "23/12/14 21:14:16 WARN DAGScheduler: Broadcasting large task binary with size 3.6 MiB\n",
      "23/12/14 21:14:17 WARN DAGScheduler: Broadcasting large task binary with size 3.6 MiB\n",
      "23/12/14 21:14:17 WARN DAGScheduler: Broadcasting large task binary with size 3.6 MiB\n",
      "23/12/14 21:14:19 WARN DAGScheduler: Broadcasting large task binary with size 3.6 MiB\n",
      "23/12/14 21:14:19 WARN DAGScheduler: Broadcasting large task binary with size 3.6 MiB\n",
      "23/12/14 21:14:21 WARN DAGScheduler: Broadcasting large task binary with size 3.6 MiB\n",
      "23/12/14 21:14:21 WARN DAGScheduler: Broadcasting large task binary with size 3.6 MiB\n",
      "23/12/14 21:14:23 WARN DAGScheduler: Broadcasting large task binary with size 3.6 MiB\n",
      "23/12/14 21:14:23 WARN DAGScheduler: Broadcasting large task binary with size 3.6 MiB\n",
      "23/12/14 21:14:25 WARN DAGScheduler: Broadcasting large task binary with size 3.6 MiB\n",
      "23/12/14 21:14:25 WARN DAGScheduler: Broadcasting large task binary with size 3.6 MiB\n",
      "23/12/14 21:14:26 WARN DAGScheduler: Broadcasting large task binary with size 3.6 MiB\n",
      "23/12/14 21:14:27 WARN DAGScheduler: Broadcasting large task binary with size 3.6 MiB\n",
      "23/12/14 21:14:28 WARN DAGScheduler: Broadcasting large task binary with size 3.6 MiB\n",
      "23/12/14 21:14:28 WARN DAGScheduler: Broadcasting large task binary with size 3.6 MiB\n",
      "23/12/14 21:14:30 WARN DAGScheduler: Broadcasting large task binary with size 3.6 MiB\n",
      "23/12/14 21:14:30 WARN DAGScheduler: Broadcasting large task binary with size 3.6 MiB\n",
      "23/12/14 21:14:32 WARN DAGScheduler: Broadcasting large task binary with size 3.6 MiB\n",
      "23/12/14 21:14:32 WARN DAGScheduler: Broadcasting large task binary with size 3.6 MiB\n",
      "23/12/14 21:14:34 WARN DAGScheduler: Broadcasting large task binary with size 3.6 MiB\n",
      "23/12/14 21:14:34 WARN DAGScheduler: Broadcasting large task binary with size 3.6 MiB\n",
      "23/12/14 21:14:36 WARN DAGScheduler: Broadcasting large task binary with size 3.6 MiB\n",
      "23/12/14 21:14:36 WARN DAGScheduler: Broadcasting large task binary with size 3.6 MiB\n",
      "23/12/14 21:14:37 WARN DAGScheduler: Broadcasting large task binary with size 3.6 MiB\n",
      "23/12/14 21:14:38 WARN DAGScheduler: Broadcasting large task binary with size 3.6 MiB\n",
      "23/12/14 21:14:39 WARN DAGScheduler: Broadcasting large task binary with size 3.6 MiB\n",
      "23/12/14 21:14:39 WARN DAGScheduler: Broadcasting large task binary with size 3.6 MiB\n",
      "23/12/14 21:14:41 WARN DAGScheduler: Broadcasting large task binary with size 3.6 MiB\n",
      "23/12/14 21:14:41 WARN DAGScheduler: Broadcasting large task binary with size 3.6 MiB\n",
      "23/12/14 21:14:43 WARN DAGScheduler: Broadcasting large task binary with size 3.6 MiB\n",
      "23/12/14 21:14:43 WARN DAGScheduler: Broadcasting large task binary with size 3.6 MiB\n",
      "23/12/14 21:14:45 WARN DAGScheduler: Broadcasting large task binary with size 3.6 MiB\n",
      "23/12/14 21:14:45 WARN DAGScheduler: Broadcasting large task binary with size 3.6 MiB\n",
      "23/12/14 21:14:47 WARN DAGScheduler: Broadcasting large task binary with size 3.6 MiB\n",
      "23/12/14 21:14:47 WARN DAGScheduler: Broadcasting large task binary with size 3.6 MiB\n",
      "23/12/14 21:14:49 WARN DAGScheduler: Broadcasting large task binary with size 3.6 MiB\n",
      "23/12/14 21:14:49 WARN DAGScheduler: Broadcasting large task binary with size 3.6 MiB\n",
      "23/12/14 21:14:50 WARN DAGScheduler: Broadcasting large task binary with size 3.6 MiB\n",
      "23/12/14 21:14:50 WARN DAGScheduler: Broadcasting large task binary with size 3.6 MiB\n",
      "23/12/14 21:14:52 WARN DAGScheduler: Broadcasting large task binary with size 3.6 MiB\n",
      "23/12/14 21:14:52 WARN DAGScheduler: Broadcasting large task binary with size 3.6 MiB\n",
      "23/12/14 21:14:54 WARN DAGScheduler: Broadcasting large task binary with size 3.6 MiB\n",
      "23/12/14 21:14:54 WARN DAGScheduler: Broadcasting large task binary with size 3.6 MiB\n",
      "23/12/14 21:14:56 WARN DAGScheduler: Broadcasting large task binary with size 3.6 MiB\n",
      "23/12/14 21:14:56 WARN DAGScheduler: Broadcasting large task binary with size 3.6 MiB\n",
      "23/12/14 21:14:58 WARN DAGScheduler: Broadcasting large task binary with size 3.6 MiB\n",
      "23/12/14 21:14:58 WARN DAGScheduler: Broadcasting large task binary with size 3.6 MiB\n",
      "23/12/14 21:15:00 WARN DAGScheduler: Broadcasting large task binary with size 3.6 MiB\n",
      "23/12/14 21:15:00 WARN DAGScheduler: Broadcasting large task binary with size 3.6 MiB\n",
      "23/12/14 21:15:02 WARN DAGScheduler: Broadcasting large task binary with size 3.6 MiB\n",
      "23/12/14 21:15:02 WARN DAGScheduler: Broadcasting large task binary with size 3.6 MiB\n",
      "23/12/14 21:15:03 WARN DAGScheduler: Broadcasting large task binary with size 3.6 MiB\n",
      "23/12/14 21:15:04 WARN DAGScheduler: Broadcasting large task binary with size 3.6 MiB\n",
      "23/12/14 21:15:05 WARN DAGScheduler: Broadcasting large task binary with size 3.6 MiB\n",
      "23/12/14 21:15:06 WARN DAGScheduler: Broadcasting large task binary with size 3.6 MiB\n",
      "23/12/14 21:15:07 WARN DAGScheduler: Broadcasting large task binary with size 3.6 MiB\n",
      "23/12/14 21:15:07 WARN DAGScheduler: Broadcasting large task binary with size 3.6 MiB\n",
      "23/12/14 21:15:09 WARN DAGScheduler: Broadcasting large task binary with size 3.6 MiB\n",
      "23/12/14 21:15:09 WARN DAGScheduler: Broadcasting large task binary with size 3.6 MiB\n",
      "23/12/14 21:15:11 WARN DAGScheduler: Broadcasting large task binary with size 3.6 MiB\n",
      "23/12/14 21:15:11 WARN DAGScheduler: Broadcasting large task binary with size 3.6 MiB\n",
      "23/12/14 21:15:13 WARN DAGScheduler: Broadcasting large task binary with size 3.6 MiB\n",
      "23/12/14 21:15:13 WARN DAGScheduler: Broadcasting large task binary with size 3.6 MiB\n",
      "23/12/14 21:15:14 WARN DAGScheduler: Broadcasting large task binary with size 3.6 MiB\n",
      "23/12/14 21:15:15 WARN DAGScheduler: Broadcasting large task binary with size 3.6 MiB\n",
      "23/12/14 21:15:16 WARN DAGScheduler: Broadcasting large task binary with size 3.6 MiB\n",
      "23/12/14 21:15:16 WARN DAGScheduler: Broadcasting large task binary with size 3.6 MiB\n",
      "23/12/14 21:15:18 WARN DAGScheduler: Broadcasting large task binary with size 3.6 MiB\n",
      "23/12/14 21:15:18 WARN DAGScheduler: Broadcasting large task binary with size 3.6 MiB\n",
      "23/12/14 21:15:20 WARN DAGScheduler: Broadcasting large task binary with size 3.6 MiB\n",
      "23/12/14 21:15:20 WARN DAGScheduler: Broadcasting large task binary with size 3.6 MiB\n",
      "23/12/14 21:15:22 WARN DAGScheduler: Broadcasting large task binary with size 3.6 MiB\n",
      "23/12/14 21:15:22 WARN DAGScheduler: Broadcasting large task binary with size 3.6 MiB\n",
      "23/12/14 21:15:24 WARN DAGScheduler: Broadcasting large task binary with size 3.6 MiB\n",
      "23/12/14 21:15:24 WARN DAGScheduler: Broadcasting large task binary with size 3.6 MiB\n",
      "23/12/14 21:15:25 WARN DAGScheduler: Broadcasting large task binary with size 3.6 MiB\n",
      "23/12/14 21:15:26 WARN DAGScheduler: Broadcasting large task binary with size 3.6 MiB\n",
      "23/12/14 21:15:27 WARN DAGScheduler: Broadcasting large task binary with size 3.6 MiB\n",
      "23/12/14 21:15:27 WARN DAGScheduler: Broadcasting large task binary with size 3.6 MiB\n",
      "23/12/14 21:15:29 WARN DAGScheduler: Broadcasting large task binary with size 3.6 MiB\n",
      "23/12/14 21:15:29 WARN DAGScheduler: Broadcasting large task binary with size 3.6 MiB\n",
      "23/12/14 21:15:31 WARN DAGScheduler: Broadcasting large task binary with size 3.6 MiB\n",
      "23/12/14 21:15:31 WARN DAGScheduler: Broadcasting large task binary with size 3.6 MiB\n",
      "23/12/14 21:15:33 WARN DAGScheduler: Broadcasting large task binary with size 3.6 MiB\n",
      "23/12/14 21:15:33 WARN DAGScheduler: Broadcasting large task binary with size 3.6 MiB\n",
      "23/12/14 21:15:35 WARN DAGScheduler: Broadcasting large task binary with size 3.6 MiB\n",
      "23/12/14 21:15:35 WARN DAGScheduler: Broadcasting large task binary with size 3.6 MiB\n",
      "23/12/14 21:15:37 WARN DAGScheduler: Broadcasting large task binary with size 3.6 MiB\n",
      "23/12/14 21:15:37 WARN DAGScheduler: Broadcasting large task binary with size 3.6 MiB\n",
      "23/12/14 21:15:38 WARN DAGScheduler: Broadcasting large task binary with size 3.6 MiB\n",
      "23/12/14 21:15:39 WARN DAGScheduler: Broadcasting large task binary with size 3.6 MiB\n",
      "23/12/14 21:15:40 WARN DAGScheduler: Broadcasting large task binary with size 3.6 MiB\n",
      "23/12/14 21:15:40 WARN DAGScheduler: Broadcasting large task binary with size 3.6 MiB\n",
      "23/12/14 21:15:42 WARN DAGScheduler: Broadcasting large task binary with size 3.6 MiB\n",
      "23/12/14 21:15:42 WARN DAGScheduler: Broadcasting large task binary with size 3.6 MiB\n",
      "23/12/14 21:15:44 WARN DAGScheduler: Broadcasting large task binary with size 3.6 MiB\n",
      "23/12/14 21:15:44 WARN DAGScheduler: Broadcasting large task binary with size 3.6 MiB\n",
      "23/12/14 21:15:46 WARN DAGScheduler: Broadcasting large task binary with size 3.6 MiB\n",
      "23/12/14 21:15:46 WARN DAGScheduler: Broadcasting large task binary with size 3.6 MiB\n",
      "23/12/14 21:15:48 WARN DAGScheduler: Broadcasting large task binary with size 3.6 MiB\n",
      "23/12/14 21:15:48 WARN DAGScheduler: Broadcasting large task binary with size 3.6 MiB\n",
      "23/12/14 21:15:50 WARN DAGScheduler: Broadcasting large task binary with size 3.6 MiB\n",
      "23/12/14 21:15:50 WARN DAGScheduler: Broadcasting large task binary with size 3.6 MiB\n",
      "23/12/14 21:15:52 WARN DAGScheduler: Broadcasting large task binary with size 3.6 MiB\n",
      "23/12/14 21:15:52 WARN DAGScheduler: Broadcasting large task binary with size 3.6 MiB\n",
      "23/12/14 21:15:53 WARN DAGScheduler: Broadcasting large task binary with size 3.6 MiB\n",
      "23/12/14 21:15:54 WARN DAGScheduler: Broadcasting large task binary with size 3.6 MiB\n",
      "23/12/14 21:15:56 WARN DAGScheduler: Broadcasting large task binary with size 3.6 MiB\n",
      "23/12/14 21:15:56 WARN DAGScheduler: Broadcasting large task binary with size 3.6 MiB\n",
      "23/12/14 21:15:58 WARN DAGScheduler: Broadcasting large task binary with size 3.6 MiB\n",
      "23/12/14 21:15:58 WARN DAGScheduler: Broadcasting large task binary with size 3.6 MiB\n",
      "23/12/14 21:16:00 WARN DAGScheduler: Broadcasting large task binary with size 3.6 MiB\n",
      "23/12/14 21:16:00 WARN DAGScheduler: Broadcasting large task binary with size 3.6 MiB\n",
      "23/12/14 21:16:02 WARN DAGScheduler: Broadcasting large task binary with size 3.6 MiB\n",
      "23/12/14 21:16:02 WARN DAGScheduler: Broadcasting large task binary with size 3.6 MiB\n",
      "23/12/14 21:16:03 WARN DAGScheduler: Broadcasting large task binary with size 3.6 MiB\n",
      "23/12/14 21:16:04 WARN DAGScheduler: Broadcasting large task binary with size 3.6 MiB\n",
      "23/12/14 21:16:05 WARN DAGScheduler: Broadcasting large task binary with size 3.6 MiB\n",
      "23/12/14 21:16:06 WARN DAGScheduler: Broadcasting large task binary with size 3.6 MiB\n",
      "23/12/14 21:16:07 WARN DAGScheduler: Broadcasting large task binary with size 3.6 MiB\n",
      "23/12/14 21:16:07 WARN DAGScheduler: Broadcasting large task binary with size 3.6 MiB\n",
      "23/12/14 21:16:09 WARN DAGScheduler: Broadcasting large task binary with size 3.6 MiB\n",
      "23/12/14 21:16:09 WARN DAGScheduler: Broadcasting large task binary with size 3.6 MiB\n",
      "23/12/14 21:16:11 WARN DAGScheduler: Broadcasting large task binary with size 3.6 MiB\n",
      "23/12/14 21:16:11 WARN DAGScheduler: Broadcasting large task binary with size 3.6 MiB\n",
      "23/12/14 21:16:13 WARN DAGScheduler: Broadcasting large task binary with size 3.6 MiB\n",
      "23/12/14 21:16:13 WARN DAGScheduler: Broadcasting large task binary with size 3.6 MiB\n",
      "23/12/14 21:16:15 WARN DAGScheduler: Broadcasting large task binary with size 3.6 MiB\n",
      "23/12/14 21:16:15 WARN DAGScheduler: Broadcasting large task binary with size 3.6 MiB\n",
      "23/12/14 21:16:17 WARN DAGScheduler: Broadcasting large task binary with size 3.6 MiB\n",
      "23/12/14 21:16:17 WARN DAGScheduler: Broadcasting large task binary with size 3.6 MiB\n",
      "23/12/14 21:16:19 WARN DAGScheduler: Broadcasting large task binary with size 3.6 MiB\n",
      "23/12/14 21:16:19 WARN DAGScheduler: Broadcasting large task binary with size 3.6 MiB\n",
      "23/12/14 21:16:21 WARN DAGScheduler: Broadcasting large task binary with size 3.6 MiB\n",
      "23/12/14 21:16:21 WARN DAGScheduler: Broadcasting large task binary with size 3.6 MiB\n",
      "23/12/14 21:16:22 WARN DAGScheduler: Broadcasting large task binary with size 3.6 MiB\n",
      "23/12/14 21:16:23 WARN DAGScheduler: Broadcasting large task binary with size 3.6 MiB\n",
      "23/12/14 21:16:24 WARN DAGScheduler: Broadcasting large task binary with size 3.6 MiB\n",
      "23/12/14 21:16:25 WARN DAGScheduler: Broadcasting large task binary with size 3.6 MiB\n",
      "23/12/14 21:16:26 WARN DAGScheduler: Broadcasting large task binary with size 3.6 MiB\n",
      "23/12/14 21:16:26 WARN DAGScheduler: Broadcasting large task binary with size 3.6 MiB\n",
      "23/12/14 21:16:28 WARN DAGScheduler: Broadcasting large task binary with size 3.6 MiB\n",
      "23/12/14 21:16:28 WARN DAGScheduler: Broadcasting large task binary with size 3.6 MiB\n",
      "23/12/14 21:16:30 WARN DAGScheduler: Broadcasting large task binary with size 3.6 MiB\n",
      "23/12/14 21:16:30 WARN DAGScheduler: Broadcasting large task binary with size 3.6 MiB\n",
      "23/12/14 21:16:32 WARN DAGScheduler: Broadcasting large task binary with size 3.6 MiB\n",
      "23/12/14 21:16:32 WARN DAGScheduler: Broadcasting large task binary with size 3.6 MiB\n",
      "23/12/14 21:16:34 WARN DAGScheduler: Broadcasting large task binary with size 3.6 MiB\n",
      "23/12/14 21:16:34 WARN DAGScheduler: Broadcasting large task binary with size 3.6 MiB\n",
      "23/12/14 21:16:35 WARN DAGScheduler: Broadcasting large task binary with size 3.6 MiB\n",
      "23/12/14 21:16:36 WARN DAGScheduler: Broadcasting large task binary with size 3.6 MiB\n",
      "23/12/14 21:16:37 WARN DAGScheduler: Broadcasting large task binary with size 3.6 MiB\n",
      "23/12/14 21:16:38 WARN DAGScheduler: Broadcasting large task binary with size 3.6 MiB\n",
      "23/12/14 21:16:39 WARN DAGScheduler: Broadcasting large task binary with size 3.6 MiB\n",
      "23/12/14 21:16:39 WARN DAGScheduler: Broadcasting large task binary with size 3.6 MiB\n",
      "23/12/14 21:16:41 WARN DAGScheduler: Broadcasting large task binary with size 3.6 MiB\n",
      "23/12/14 21:16:41 WARN DAGScheduler: Broadcasting large task binary with size 3.6 MiB\n",
      "23/12/14 21:16:43 WARN DAGScheduler: Broadcasting large task binary with size 3.6 MiB\n",
      "23/12/14 21:16:43 WARN DAGScheduler: Broadcasting large task binary with size 3.6 MiB\n",
      "23/12/14 21:16:45 WARN DAGScheduler: Broadcasting large task binary with size 3.6 MiB\n",
      "23/12/14 21:16:45 WARN DAGScheduler: Broadcasting large task binary with size 3.6 MiB\n",
      "23/12/14 21:16:47 WARN DAGScheduler: Broadcasting large task binary with size 3.6 MiB\n",
      "23/12/14 21:16:47 WARN DAGScheduler: Broadcasting large task binary with size 3.6 MiB\n",
      "23/12/14 21:16:49 WARN DAGScheduler: Broadcasting large task binary with size 3.6 MiB\n",
      "23/12/14 21:16:49 WARN DAGScheduler: Broadcasting large task binary with size 3.6 MiB\n",
      "23/12/14 21:16:51 WARN DAGScheduler: Broadcasting large task binary with size 3.6 MiB\n",
      "23/12/14 21:16:51 WARN DAGScheduler: Broadcasting large task binary with size 3.6 MiB\n",
      "23/12/14 21:16:52 WARN DAGScheduler: Broadcasting large task binary with size 3.6 MiB\n",
      "23/12/14 21:16:53 WARN DAGScheduler: Broadcasting large task binary with size 3.6 MiB\n",
      "23/12/14 21:16:54 WARN DAGScheduler: Broadcasting large task binary with size 3.6 MiB\n",
      "23/12/14 21:16:54 WARN DAGScheduler: Broadcasting large task binary with size 3.6 MiB\n",
      "23/12/14 21:16:56 WARN DAGScheduler: Broadcasting large task binary with size 3.6 MiB\n",
      "23/12/14 21:16:56 WARN DAGScheduler: Broadcasting large task binary with size 3.6 MiB\n",
      "23/12/14 21:16:58 WARN DAGScheduler: Broadcasting large task binary with size 3.6 MiB\n",
      "23/12/14 21:16:58 WARN DAGScheduler: Broadcasting large task binary with size 3.6 MiB\n",
      "23/12/14 21:17:00 WARN DAGScheduler: Broadcasting large task binary with size 3.6 MiB\n",
      "23/12/14 21:17:00 WARN DAGScheduler: Broadcasting large task binary with size 3.6 MiB\n",
      "23/12/14 21:17:02 WARN DAGScheduler: Broadcasting large task binary with size 3.6 MiB\n",
      "23/12/14 21:17:02 WARN DAGScheduler: Broadcasting large task binary with size 3.6 MiB\n",
      "23/12/14 21:17:04 WARN DAGScheduler: Broadcasting large task binary with size 3.6 MiB\n",
      "23/12/14 21:17:04 WARN DAGScheduler: Broadcasting large task binary with size 3.6 MiB\n",
      "23/12/14 21:17:06 WARN DAGScheduler: Broadcasting large task binary with size 3.6 MiB\n",
      "23/12/14 21:17:06 WARN DAGScheduler: Broadcasting large task binary with size 3.6 MiB\n",
      "23/12/14 21:17:08 WARN DAGScheduler: Broadcasting large task binary with size 3.6 MiB\n",
      "23/12/14 21:17:08 WARN DAGScheduler: Broadcasting large task binary with size 3.6 MiB\n",
      "23/12/14 21:17:10 WARN DAGScheduler: Broadcasting large task binary with size 3.6 MiB\n",
      "23/12/14 21:17:10 WARN DAGScheduler: Broadcasting large task binary with size 3.6 MiB\n",
      "23/12/14 21:17:11 WARN DAGScheduler: Broadcasting large task binary with size 3.6 MiB\n",
      "23/12/14 21:17:11 WARN DAGScheduler: Broadcasting large task binary with size 3.6 MiB\n",
      "23/12/14 21:17:13 WARN DAGScheduler: Broadcasting large task binary with size 3.6 MiB\n",
      "23/12/14 21:17:13 WARN DAGScheduler: Broadcasting large task binary with size 3.6 MiB\n",
      "23/12/14 21:17:15 WARN DAGScheduler: Broadcasting large task binary with size 3.6 MiB\n",
      "23/12/14 21:17:15 WARN DAGScheduler: Broadcasting large task binary with size 3.6 MiB\n",
      "23/12/14 21:17:17 WARN DAGScheduler: Broadcasting large task binary with size 3.6 MiB\n",
      "23/12/14 21:17:17 WARN DAGScheduler: Broadcasting large task binary with size 3.6 MiB\n",
      "23/12/14 21:17:19 WARN DAGScheduler: Broadcasting large task binary with size 3.6 MiB\n",
      "23/12/14 21:17:19 WARN DAGScheduler: Broadcasting large task binary with size 3.6 MiB\n",
      "23/12/14 21:17:21 WARN DAGScheduler: Broadcasting large task binary with size 3.6 MiB\n",
      "23/12/14 21:17:21 WARN DAGScheduler: Broadcasting large task binary with size 3.6 MiB\n",
      "23/12/14 21:17:23 WARN DAGScheduler: Broadcasting large task binary with size 3.6 MiB\n",
      "23/12/14 21:17:23 WARN DAGScheduler: Broadcasting large task binary with size 3.6 MiB\n",
      "23/12/14 21:17:24 WARN DAGScheduler: Broadcasting large task binary with size 3.6 MiB\n",
      "23/12/14 21:17:25 WARN DAGScheduler: Broadcasting large task binary with size 3.6 MiB\n",
      "23/12/14 21:17:26 WARN DAGScheduler: Broadcasting large task binary with size 3.6 MiB\n",
      "23/12/14 21:17:27 WARN DAGScheduler: Broadcasting large task binary with size 3.6 MiB\n",
      "23/12/14 21:17:28 WARN DAGScheduler: Broadcasting large task binary with size 3.6 MiB\n",
      "23/12/14 21:17:28 WARN DAGScheduler: Broadcasting large task binary with size 3.6 MiB\n",
      "23/12/14 21:17:30 WARN DAGScheduler: Broadcasting large task binary with size 3.6 MiB\n",
      "23/12/14 21:17:31 WARN DAGScheduler: Broadcasting large task binary with size 3.6 MiB\n",
      "23/12/14 21:17:33 WARN DAGScheduler: Broadcasting large task binary with size 3.6 MiB\n",
      "23/12/14 21:17:33 WARN DAGScheduler: Broadcasting large task binary with size 3.6 MiB\n",
      "23/12/14 21:17:34 WARN DAGScheduler: Broadcasting large task binary with size 3.6 MiB\n",
      "23/12/14 21:17:35 WARN DAGScheduler: Broadcasting large task binary with size 3.6 MiB\n",
      "23/12/14 21:17:36 WARN DAGScheduler: Broadcasting large task binary with size 3.6 MiB\n",
      "23/12/14 21:17:36 WARN DAGScheduler: Broadcasting large task binary with size 3.6 MiB\n",
      "23/12/14 21:17:38 WARN DAGScheduler: Broadcasting large task binary with size 3.6 MiB\n",
      "23/12/14 21:17:38 WARN DAGScheduler: Broadcasting large task binary with size 3.6 MiB\n",
      "23/12/14 21:17:40 WARN DAGScheduler: Broadcasting large task binary with size 3.6 MiB\n",
      "23/12/14 21:17:40 WARN DAGScheduler: Broadcasting large task binary with size 3.6 MiB\n",
      "23/12/14 21:17:42 WARN DAGScheduler: Broadcasting large task binary with size 3.6 MiB\n",
      "23/12/14 21:17:42 WARN DAGScheduler: Broadcasting large task binary with size 3.6 MiB\n",
      "23/12/14 21:17:43 WARN DAGScheduler: Broadcasting large task binary with size 3.6 MiB\n",
      "23/12/14 21:17:44 WARN DAGScheduler: Broadcasting large task binary with size 3.6 MiB\n",
      "23/12/14 21:17:45 WARN DAGScheduler: Broadcasting large task binary with size 3.6 MiB\n",
      "23/12/14 21:17:46 WARN DAGScheduler: Broadcasting large task binary with size 3.6 MiB\n",
      "23/12/14 21:17:47 WARN DAGScheduler: Broadcasting large task binary with size 3.6 MiB\n",
      "23/12/14 21:17:47 WARN DAGScheduler: Broadcasting large task binary with size 3.6 MiB\n",
      "23/12/14 21:17:49 WARN DAGScheduler: Broadcasting large task binary with size 3.6 MiB\n",
      "23/12/14 21:17:49 WARN DAGScheduler: Broadcasting large task binary with size 3.6 MiB\n",
      "23/12/14 21:17:51 WARN DAGScheduler: Broadcasting large task binary with size 3.6 MiB\n",
      "23/12/14 21:17:51 WARN DAGScheduler: Broadcasting large task binary with size 3.6 MiB\n",
      "23/12/14 21:17:53 WARN DAGScheduler: Broadcasting large task binary with size 3.6 MiB\n",
      "23/12/14 21:17:53 WARN DAGScheduler: Broadcasting large task binary with size 3.6 MiB\n",
      "23/12/14 21:17:55 WARN DAGScheduler: Broadcasting large task binary with size 3.6 MiB\n",
      "23/12/14 21:17:55 WARN DAGScheduler: Broadcasting large task binary with size 3.6 MiB\n",
      "23/12/14 21:17:57 WARN DAGScheduler: Broadcasting large task binary with size 3.6 MiB\n",
      "23/12/14 21:17:57 WARN DAGScheduler: Broadcasting large task binary with size 3.6 MiB\n",
      "23/12/14 21:17:58 WARN DAGScheduler: Broadcasting large task binary with size 3.6 MiB\n",
      "23/12/14 21:17:59 WARN DAGScheduler: Broadcasting large task binary with size 3.6 MiB\n",
      "23/12/14 21:18:00 WARN DAGScheduler: Broadcasting large task binary with size 3.6 MiB\n",
      "23/12/14 21:18:01 WARN DAGScheduler: Broadcasting large task binary with size 3.6 MiB\n",
      "23/12/14 21:18:02 WARN DAGScheduler: Broadcasting large task binary with size 3.6 MiB\n",
      "23/12/14 21:18:02 WARN DAGScheduler: Broadcasting large task binary with size 3.6 MiB\n",
      "23/12/14 21:18:04 WARN DAGScheduler: Broadcasting large task binary with size 3.6 MiB\n",
      "23/12/14 21:18:04 WARN DAGScheduler: Broadcasting large task binary with size 3.6 MiB\n",
      "23/12/14 21:18:06 WARN DAGScheduler: Broadcasting large task binary with size 3.6 MiB\n",
      "23/12/14 21:18:06 WARN DAGScheduler: Broadcasting large task binary with size 3.6 MiB\n",
      "23/12/14 21:18:08 WARN DAGScheduler: Broadcasting large task binary with size 3.6 MiB\n",
      "23/12/14 21:18:08 WARN DAGScheduler: Broadcasting large task binary with size 3.6 MiB\n",
      "23/12/14 21:18:10 WARN DAGScheduler: Broadcasting large task binary with size 3.6 MiB\n",
      "23/12/14 21:18:10 WARN DAGScheduler: Broadcasting large task binary with size 3.6 MiB\n",
      "23/12/14 21:18:12 WARN DAGScheduler: Broadcasting large task binary with size 3.6 MiB\n",
      "23/12/14 21:18:12 WARN DAGScheduler: Broadcasting large task binary with size 3.6 MiB\n",
      "23/12/14 21:18:14 WARN DAGScheduler: Broadcasting large task binary with size 3.6 MiB\n",
      "23/12/14 21:18:14 WARN DAGScheduler: Broadcasting large task binary with size 3.6 MiB\n",
      "23/12/14 21:18:16 WARN DAGScheduler: Broadcasting large task binary with size 3.6 MiB\n",
      "23/12/14 21:18:16 WARN DAGScheduler: Broadcasting large task binary with size 3.6 MiB\n",
      "23/12/14 21:18:18 WARN DAGScheduler: Broadcasting large task binary with size 3.6 MiB\n",
      "23/12/14 21:18:18 WARN DAGScheduler: Broadcasting large task binary with size 3.6 MiB\n",
      "23/12/14 21:18:20 WARN DAGScheduler: Broadcasting large task binary with size 3.6 MiB\n",
      "23/12/14 21:18:20 WARN DAGScheduler: Broadcasting large task binary with size 3.6 MiB\n",
      "23/12/14 21:18:22 WARN DAGScheduler: Broadcasting large task binary with size 3.6 MiB\n",
      "23/12/14 21:18:22 WARN DAGScheduler: Broadcasting large task binary with size 3.6 MiB\n",
      "23/12/14 21:18:24 WARN DAGScheduler: Broadcasting large task binary with size 3.6 MiB\n",
      "23/12/14 21:18:24 WARN DAGScheduler: Broadcasting large task binary with size 3.6 MiB\n",
      "23/12/14 21:18:26 WARN DAGScheduler: Broadcasting large task binary with size 3.6 MiB\n",
      "23/12/14 21:18:26 WARN DAGScheduler: Broadcasting large task binary with size 3.6 MiB\n",
      "23/12/14 21:18:28 WARN DAGScheduler: Broadcasting large task binary with size 3.6 MiB\n",
      "23/12/14 21:18:28 WARN DAGScheduler: Broadcasting large task binary with size 3.6 MiB\n",
      "23/12/14 21:18:29 WARN DAGScheduler: Broadcasting large task binary with size 3.6 MiB\n",
      "23/12/14 21:18:30 WARN DAGScheduler: Broadcasting large task binary with size 3.6 MiB\n",
      "23/12/14 21:18:31 WARN DAGScheduler: Broadcasting large task binary with size 3.6 MiB\n",
      "23/12/14 21:18:31 WARN DAGScheduler: Broadcasting large task binary with size 3.6 MiB\n",
      "23/12/14 21:18:33 WARN DAGScheduler: Broadcasting large task binary with size 3.6 MiB\n",
      "23/12/14 21:18:34 WARN DAGScheduler: Broadcasting large task binary with size 3.6 MiB\n",
      "23/12/14 21:18:35 WARN DAGScheduler: Broadcasting large task binary with size 3.6 MiB\n",
      "23/12/14 21:18:35 WARN DAGScheduler: Broadcasting large task binary with size 3.6 MiB\n",
      "23/12/14 21:18:37 WARN DAGScheduler: Broadcasting large task binary with size 3.6 MiB\n",
      "23/12/14 21:18:37 WARN DAGScheduler: Broadcasting large task binary with size 3.6 MiB\n",
      "23/12/14 21:18:39 WARN DAGScheduler: Broadcasting large task binary with size 3.6 MiB\n",
      "23/12/14 21:18:39 WARN DAGScheduler: Broadcasting large task binary with size 3.6 MiB\n",
      "23/12/14 21:18:41 WARN DAGScheduler: Broadcasting large task binary with size 3.6 MiB\n",
      "23/12/14 21:18:41 WARN DAGScheduler: Broadcasting large task binary with size 3.6 MiB\n",
      "23/12/14 21:18:43 WARN DAGScheduler: Broadcasting large task binary with size 3.6 MiB\n",
      "23/12/14 21:18:43 WARN DAGScheduler: Broadcasting large task binary with size 3.6 MiB\n",
      "23/12/14 21:18:45 WARN DAGScheduler: Broadcasting large task binary with size 3.6 MiB\n",
      "23/12/14 21:18:45 WARN DAGScheduler: Broadcasting large task binary with size 3.6 MiB\n",
      "23/12/14 21:18:47 WARN DAGScheduler: Broadcasting large task binary with size 3.6 MiB\n",
      "23/12/14 21:18:47 WARN DAGScheduler: Broadcasting large task binary with size 3.6 MiB\n",
      "23/12/14 21:18:48 WARN DAGScheduler: Broadcasting large task binary with size 3.6 MiB\n",
      "23/12/14 21:18:49 WARN DAGScheduler: Broadcasting large task binary with size 3.6 MiB\n",
      "23/12/14 21:18:50 WARN DAGScheduler: Broadcasting large task binary with size 3.6 MiB\n",
      "23/12/14 21:18:51 WARN DAGScheduler: Broadcasting large task binary with size 3.6 MiB\n",
      "23/12/14 21:18:52 WARN DAGScheduler: Broadcasting large task binary with size 3.6 MiB\n",
      "23/12/14 21:18:52 WARN DAGScheduler: Broadcasting large task binary with size 3.6 MiB\n",
      "23/12/14 21:18:54 WARN DAGScheduler: Broadcasting large task binary with size 3.6 MiB\n",
      "23/12/14 21:18:54 WARN DAGScheduler: Broadcasting large task binary with size 3.6 MiB\n",
      "23/12/14 21:18:56 WARN DAGScheduler: Broadcasting large task binary with size 3.6 MiB\n",
      "23/12/14 21:18:56 WARN DAGScheduler: Broadcasting large task binary with size 3.6 MiB\n",
      "23/12/14 21:18:58 WARN DAGScheduler: Broadcasting large task binary with size 3.6 MiB\n",
      "23/12/14 21:18:58 WARN DAGScheduler: Broadcasting large task binary with size 3.6 MiB\n",
      "23/12/14 21:19:00 WARN DAGScheduler: Broadcasting large task binary with size 3.6 MiB\n",
      "23/12/14 21:19:00 WARN DAGScheduler: Broadcasting large task binary with size 3.6 MiB\n",
      "23/12/14 21:19:02 WARN DAGScheduler: Broadcasting large task binary with size 3.6 MiB\n",
      "23/12/14 21:19:02 WARN DAGScheduler: Broadcasting large task binary with size 3.6 MiB\n",
      "23/12/14 21:19:04 WARN DAGScheduler: Broadcasting large task binary with size 3.6 MiB\n",
      "23/12/14 21:19:04 WARN DAGScheduler: Broadcasting large task binary with size 3.6 MiB\n",
      "23/12/14 21:19:05 WARN DAGScheduler: Broadcasting large task binary with size 3.6 MiB\n",
      "23/12/14 21:19:06 WARN DAGScheduler: Broadcasting large task binary with size 3.6 MiB\n",
      "23/12/14 21:19:07 WARN DAGScheduler: Broadcasting large task binary with size 3.6 MiB\n",
      "23/12/14 21:19:08 WARN DAGScheduler: Broadcasting large task binary with size 3.6 MiB\n",
      "23/12/14 21:19:09 WARN DAGScheduler: Broadcasting large task binary with size 3.6 MiB\n",
      "23/12/14 21:19:09 WARN DAGScheduler: Broadcasting large task binary with size 3.6 MiB\n",
      "23/12/14 21:19:11 WARN DAGScheduler: Broadcasting large task binary with size 3.6 MiB\n",
      "23/12/14 21:19:11 WARN DAGScheduler: Broadcasting large task binary with size 3.6 MiB\n",
      "23/12/14 21:19:13 WARN DAGScheduler: Broadcasting large task binary with size 3.6 MiB\n",
      "23/12/14 21:19:13 WARN DAGScheduler: Broadcasting large task binary with size 3.6 MiB\n",
      "23/12/14 21:19:15 WARN DAGScheduler: Broadcasting large task binary with size 3.6 MiB\n",
      "23/12/14 21:19:15 WARN DAGScheduler: Broadcasting large task binary with size 3.6 MiB\n",
      "23/12/14 21:19:17 WARN DAGScheduler: Broadcasting large task binary with size 3.6 MiB\n",
      "23/12/14 21:19:17 WARN DAGScheduler: Broadcasting large task binary with size 3.6 MiB\n",
      "23/12/14 21:19:19 WARN DAGScheduler: Broadcasting large task binary with size 3.6 MiB\n",
      "23/12/14 21:19:19 WARN DAGScheduler: Broadcasting large task binary with size 3.6 MiB\n",
      "23/12/14 21:19:21 WARN DAGScheduler: Broadcasting large task binary with size 3.6 MiB\n",
      "23/12/14 21:19:21 WARN DAGScheduler: Broadcasting large task binary with size 3.6 MiB\n",
      "23/12/14 21:19:22 WARN DAGScheduler: Broadcasting large task binary with size 3.6 MiB\n",
      "23/12/14 21:19:23 WARN DAGScheduler: Broadcasting large task binary with size 3.6 MiB\n",
      "23/12/14 21:19:24 WARN DAGScheduler: Broadcasting large task binary with size 3.6 MiB\n",
      "23/12/14 21:19:24 WARN DAGScheduler: Broadcasting large task binary with size 3.6 MiB\n",
      "23/12/14 21:19:26 WARN DAGScheduler: Broadcasting large task binary with size 3.6 MiB\n",
      "23/12/14 21:19:26 WARN DAGScheduler: Broadcasting large task binary with size 3.6 MiB\n",
      "23/12/14 21:19:28 WARN DAGScheduler: Broadcasting large task binary with size 3.6 MiB\n",
      "23/12/14 21:19:28 WARN DAGScheduler: Broadcasting large task binary with size 3.6 MiB\n",
      "23/12/14 21:19:30 WARN DAGScheduler: Broadcasting large task binary with size 3.6 MiB\n",
      "23/12/14 21:19:30 WARN DAGScheduler: Broadcasting large task binary with size 3.6 MiB\n",
      "23/12/14 21:19:32 WARN DAGScheduler: Broadcasting large task binary with size 3.6 MiB\n",
      "23/12/14 21:19:32 WARN DAGScheduler: Broadcasting large task binary with size 3.6 MiB\n",
      "23/12/14 21:19:34 WARN DAGScheduler: Broadcasting large task binary with size 3.6 MiB\n",
      "23/12/14 21:19:34 WARN DAGScheduler: Broadcasting large task binary with size 3.6 MiB\n",
      "23/12/14 21:19:36 WARN DAGScheduler: Broadcasting large task binary with size 3.6 MiB\n",
      "23/12/14 21:19:36 WARN DAGScheduler: Broadcasting large task binary with size 3.6 MiB\n",
      "23/12/14 21:19:38 WARN DAGScheduler: Broadcasting large task binary with size 3.6 MiB\n",
      "23/12/14 21:19:38 WARN DAGScheduler: Broadcasting large task binary with size 3.6 MiB\n",
      "23/12/14 21:19:40 WARN DAGScheduler: Broadcasting large task binary with size 3.6 MiB\n",
      "23/12/14 21:19:40 WARN DAGScheduler: Broadcasting large task binary with size 3.6 MiB\n",
      "23/12/14 21:19:42 WARN DAGScheduler: Broadcasting large task binary with size 3.6 MiB\n",
      "23/12/14 21:19:42 WARN DAGScheduler: Broadcasting large task binary with size 3.6 MiB\n",
      "23/12/14 21:19:44 WARN DAGScheduler: Broadcasting large task binary with size 3.6 MiB\n",
      "23/12/14 21:19:44 WARN DAGScheduler: Broadcasting large task binary with size 3.6 MiB\n",
      "23/12/14 21:19:45 WARN DAGScheduler: Broadcasting large task binary with size 3.6 MiB\n",
      "23/12/14 21:19:46 WARN DAGScheduler: Broadcasting large task binary with size 3.6 MiB\n",
      "23/12/14 21:19:47 WARN DAGScheduler: Broadcasting large task binary with size 3.6 MiB\n",
      "23/12/14 21:19:48 WARN DAGScheduler: Broadcasting large task binary with size 3.6 MiB\n",
      "23/12/14 21:19:49 WARN DAGScheduler: Broadcasting large task binary with size 3.6 MiB\n",
      "23/12/14 21:19:49 WARN DAGScheduler: Broadcasting large task binary with size 3.6 MiB\n",
      "23/12/14 21:19:51 WARN DAGScheduler: Broadcasting large task binary with size 3.6 MiB\n",
      "23/12/14 21:19:51 WARN DAGScheduler: Broadcasting large task binary with size 3.6 MiB\n",
      "23/12/14 21:19:53 WARN DAGScheduler: Broadcasting large task binary with size 3.6 MiB\n",
      "23/12/14 21:19:53 WARN DAGScheduler: Broadcasting large task binary with size 3.6 MiB\n",
      "23/12/14 21:19:55 WARN DAGScheduler: Broadcasting large task binary with size 3.6 MiB\n",
      "23/12/14 21:19:55 WARN DAGScheduler: Broadcasting large task binary with size 3.6 MiB\n",
      "23/12/14 21:19:57 WARN DAGScheduler: Broadcasting large task binary with size 3.6 MiB\n",
      "23/12/14 21:19:57 WARN DAGScheduler: Broadcasting large task binary with size 3.6 MiB\n",
      "23/12/14 21:19:59 WARN DAGScheduler: Broadcasting large task binary with size 3.6 MiB\n",
      "23/12/14 21:19:59 WARN DAGScheduler: Broadcasting large task binary with size 3.6 MiB\n",
      "23/12/14 21:20:01 WARN DAGScheduler: Broadcasting large task binary with size 3.6 MiB\n",
      "23/12/14 21:20:01 WARN DAGScheduler: Broadcasting large task binary with size 3.6 MiB\n",
      "23/12/14 21:20:02 WARN DAGScheduler: Broadcasting large task binary with size 3.6 MiB\n",
      "23/12/14 21:20:03 WARN DAGScheduler: Broadcasting large task binary with size 3.6 MiB\n",
      "23/12/14 21:20:05 WARN DAGScheduler: Broadcasting large task binary with size 3.6 MiB\n",
      "23/12/14 21:20:05 WARN DAGScheduler: Broadcasting large task binary with size 3.6 MiB\n",
      "23/12/14 21:20:06 WARN DAGScheduler: Broadcasting large task binary with size 3.6 MiB\n",
      "23/12/14 21:20:07 WARN DAGScheduler: Broadcasting large task binary with size 3.6 MiB\n",
      "23/12/14 21:20:08 WARN DAGScheduler: Broadcasting large task binary with size 3.6 MiB\n",
      "23/12/14 21:20:08 WARN DAGScheduler: Broadcasting large task binary with size 3.6 MiB\n",
      "23/12/14 21:20:10 WARN DAGScheduler: Broadcasting large task binary with size 3.6 MiB\n",
      "23/12/14 21:20:10 WARN DAGScheduler: Broadcasting large task binary with size 3.6 MiB\n",
      "23/12/14 21:20:12 WARN DAGScheduler: Broadcasting large task binary with size 3.6 MiB\n",
      "23/12/14 21:20:12 WARN DAGScheduler: Broadcasting large task binary with size 3.6 MiB\n",
      "23/12/14 21:20:14 WARN DAGScheduler: Broadcasting large task binary with size 3.6 MiB\n",
      "23/12/14 21:20:14 WARN DAGScheduler: Broadcasting large task binary with size 3.6 MiB\n",
      "23/12/14 21:20:16 WARN DAGScheduler: Broadcasting large task binary with size 3.6 MiB\n",
      "23/12/14 21:20:16 WARN DAGScheduler: Broadcasting large task binary with size 3.6 MiB\n",
      "23/12/14 21:20:18 WARN DAGScheduler: Broadcasting large task binary with size 3.6 MiB\n",
      "23/12/14 21:20:18 WARN DAGScheduler: Broadcasting large task binary with size 3.6 MiB\n",
      "23/12/14 21:20:19 WARN DAGScheduler: Broadcasting large task binary with size 3.6 MiB\n",
      "23/12/14 21:20:20 WARN DAGScheduler: Broadcasting large task binary with size 3.6 MiB\n",
      "23/12/14 21:20:22 WARN DAGScheduler: Broadcasting large task binary with size 3.6 MiB\n",
      "23/12/14 21:20:22 WARN DAGScheduler: Broadcasting large task binary with size 3.6 MiB\n",
      "23/12/14 21:20:23 WARN DAGScheduler: Broadcasting large task binary with size 3.6 MiB\n",
      "23/12/14 21:20:24 WARN DAGScheduler: Broadcasting large task binary with size 3.6 MiB\n",
      "23/12/14 21:20:25 WARN DAGScheduler: Broadcasting large task binary with size 3.6 MiB\n",
      "23/12/14 21:20:25 WARN DAGScheduler: Broadcasting large task binary with size 3.6 MiB\n",
      "23/12/14 21:20:27 WARN DAGScheduler: Broadcasting large task binary with size 3.6 MiB\n",
      "23/12/14 21:20:27 WARN DAGScheduler: Broadcasting large task binary with size 3.6 MiB\n",
      "23/12/14 21:20:29 WARN DAGScheduler: Broadcasting large task binary with size 3.6 MiB\n",
      "23/12/14 21:20:29 WARN DAGScheduler: Broadcasting large task binary with size 3.6 MiB\n",
      "23/12/14 21:20:31 WARN DAGScheduler: Broadcasting large task binary with size 3.6 MiB\n",
      "23/12/14 21:20:31 WARN DAGScheduler: Broadcasting large task binary with size 3.6 MiB\n",
      "23/12/14 21:20:33 WARN DAGScheduler: Broadcasting large task binary with size 3.6 MiB\n",
      "23/12/14 21:20:33 WARN DAGScheduler: Broadcasting large task binary with size 3.6 MiB\n",
      "23/12/14 21:20:35 WARN DAGScheduler: Broadcasting large task binary with size 3.6 MiB\n",
      "23/12/14 21:20:35 WARN DAGScheduler: Broadcasting large task binary with size 3.6 MiB\n",
      "23/12/14 21:20:37 WARN DAGScheduler: Broadcasting large task binary with size 3.6 MiB\n",
      "23/12/14 21:20:37 WARN DAGScheduler: Broadcasting large task binary with size 3.6 MiB\n",
      "23/12/14 21:20:39 WARN DAGScheduler: Broadcasting large task binary with size 3.6 MiB\n",
      "23/12/14 21:20:39 WARN DAGScheduler: Broadcasting large task binary with size 3.6 MiB\n",
      "23/12/14 21:20:40 WARN DAGScheduler: Broadcasting large task binary with size 3.6 MiB\n",
      "23/12/14 21:20:41 WARN DAGScheduler: Broadcasting large task binary with size 3.6 MiB\n",
      "23/12/14 21:20:43 WARN DAGScheduler: Broadcasting large task binary with size 3.6 MiB\n",
      "23/12/14 21:20:43 WARN DAGScheduler: Broadcasting large task binary with size 3.6 MiB\n",
      "23/12/14 21:20:44 WARN DAGScheduler: Broadcasting large task binary with size 3.6 MiB\n",
      "23/12/14 21:20:44 WARN DAGScheduler: Broadcasting large task binary with size 3.6 MiB\n",
      "23/12/14 21:20:46 WARN DAGScheduler: Broadcasting large task binary with size 3.6 MiB\n",
      "23/12/14 21:20:46 WARN DAGScheduler: Broadcasting large task binary with size 3.6 MiB\n",
      "23/12/14 21:20:48 WARN DAGScheduler: Broadcasting large task binary with size 3.6 MiB\n",
      "23/12/14 21:20:48 WARN DAGScheduler: Broadcasting large task binary with size 3.6 MiB\n",
      "23/12/14 21:20:50 WARN DAGScheduler: Broadcasting large task binary with size 3.6 MiB\n",
      "23/12/14 21:20:50 WARN DAGScheduler: Broadcasting large task binary with size 3.6 MiB\n",
      "23/12/14 21:20:52 WARN DAGScheduler: Broadcasting large task binary with size 3.6 MiB\n",
      "23/12/14 21:20:52 WARN DAGScheduler: Broadcasting large task binary with size 3.6 MiB\n",
      "23/12/14 21:20:54 WARN DAGScheduler: Broadcasting large task binary with size 3.6 MiB\n",
      "23/12/14 21:20:54 WARN DAGScheduler: Broadcasting large task binary with size 3.6 MiB\n",
      "23/12/14 21:20:56 WARN DAGScheduler: Broadcasting large task binary with size 3.6 MiB\n",
      "23/12/14 21:20:56 WARN DAGScheduler: Broadcasting large task binary with size 3.6 MiB\n",
      "23/12/14 21:20:58 WARN DAGScheduler: Broadcasting large task binary with size 3.6 MiB\n",
      "23/12/14 21:20:58 WARN DAGScheduler: Broadcasting large task binary with size 3.6 MiB\n",
      "23/12/14 21:21:00 WARN DAGScheduler: Broadcasting large task binary with size 3.6 MiB\n",
      "23/12/14 21:21:00 WARN DAGScheduler: Broadcasting large task binary with size 3.6 MiB\n",
      "23/12/14 21:21:02 WARN DAGScheduler: Broadcasting large task binary with size 3.6 MiB\n",
      "23/12/14 21:21:02 WARN DAGScheduler: Broadcasting large task binary with size 3.6 MiB\n",
      "23/12/14 21:21:04 WARN DAGScheduler: Broadcasting large task binary with size 3.6 MiB\n",
      "23/12/14 21:21:04 WARN DAGScheduler: Broadcasting large task binary with size 3.6 MiB\n",
      "23/12/14 21:21:06 WARN DAGScheduler: Broadcasting large task binary with size 3.6 MiB\n",
      "23/12/14 21:21:06 WARN DAGScheduler: Broadcasting large task binary with size 3.6 MiB\n",
      "23/12/14 21:21:08 WARN DAGScheduler: Broadcasting large task binary with size 3.6 MiB\n",
      "23/12/14 21:21:08 WARN DAGScheduler: Broadcasting large task binary with size 3.6 MiB\n",
      "23/12/14 21:21:09 WARN DAGScheduler: Broadcasting large task binary with size 3.6 MiB\n",
      "23/12/14 21:21:09 WARN DAGScheduler: Broadcasting large task binary with size 3.6 MiB\n",
      "23/12/14 21:21:11 WARN DAGScheduler: Broadcasting large task binary with size 3.6 MiB\n",
      "23/12/14 21:21:11 WARN DAGScheduler: Broadcasting large task binary with size 3.6 MiB\n",
      "23/12/14 21:21:13 WARN DAGScheduler: Broadcasting large task binary with size 3.6 MiB\n",
      "23/12/14 21:21:13 WARN DAGScheduler: Broadcasting large task binary with size 3.6 MiB\n",
      "23/12/14 21:21:15 WARN DAGScheduler: Broadcasting large task binary with size 3.6 MiB\n",
      "23/12/14 21:21:15 WARN DAGScheduler: Broadcasting large task binary with size 3.6 MiB\n",
      "23/12/14 21:21:17 WARN DAGScheduler: Broadcasting large task binary with size 3.6 MiB\n",
      "23/12/14 21:21:17 WARN DAGScheduler: Broadcasting large task binary with size 3.6 MiB\n",
      "23/12/14 21:21:19 WARN DAGScheduler: Broadcasting large task binary with size 3.6 MiB\n",
      "23/12/14 21:21:19 WARN DAGScheduler: Broadcasting large task binary with size 3.6 MiB\n",
      "23/12/14 21:21:21 WARN DAGScheduler: Broadcasting large task binary with size 3.6 MiB\n",
      "23/12/14 21:21:21 WARN DAGScheduler: Broadcasting large task binary with size 3.6 MiB\n",
      "23/12/14 21:21:23 WARN DAGScheduler: Broadcasting large task binary with size 3.6 MiB\n",
      "23/12/14 21:21:23 WARN DAGScheduler: Broadcasting large task binary with size 3.6 MiB\n",
      "23/12/14 21:21:24 WARN DAGScheduler: Broadcasting large task binary with size 3.6 MiB\n",
      "23/12/14 21:21:25 WARN DAGScheduler: Broadcasting large task binary with size 3.6 MiB\n",
      "23/12/14 21:21:26 WARN DAGScheduler: Broadcasting large task binary with size 3.6 MiB\n",
      "23/12/14 21:21:26 WARN DAGScheduler: Broadcasting large task binary with size 3.6 MiB\n",
      "23/12/14 21:21:28 WARN DAGScheduler: Broadcasting large task binary with size 3.6 MiB\n",
      "23/12/14 21:21:28 WARN DAGScheduler: Broadcasting large task binary with size 3.6 MiB\n",
      "23/12/14 21:21:30 WARN DAGScheduler: Broadcasting large task binary with size 3.6 MiB\n",
      "23/12/14 21:21:30 WARN DAGScheduler: Broadcasting large task binary with size 3.6 MiB\n",
      "23/12/14 21:21:32 WARN DAGScheduler: Broadcasting large task binary with size 3.6 MiB\n",
      "23/12/14 21:21:32 WARN DAGScheduler: Broadcasting large task binary with size 3.6 MiB\n",
      "23/12/14 21:21:34 WARN DAGScheduler: Broadcasting large task binary with size 3.6 MiB\n",
      "23/12/14 21:21:34 WARN DAGScheduler: Broadcasting large task binary with size 3.6 MiB\n",
      "23/12/14 21:21:36 WARN DAGScheduler: Broadcasting large task binary with size 3.6 MiB\n",
      "23/12/14 21:21:36 WARN DAGScheduler: Broadcasting large task binary with size 3.6 MiB\n",
      "23/12/14 21:21:38 WARN DAGScheduler: Broadcasting large task binary with size 3.6 MiB\n",
      "23/12/14 21:21:38 WARN DAGScheduler: Broadcasting large task binary with size 3.6 MiB\n",
      "23/12/14 21:21:40 WARN DAGScheduler: Broadcasting large task binary with size 3.6 MiB\n",
      "23/12/14 21:21:40 WARN DAGScheduler: Broadcasting large task binary with size 3.6 MiB\n",
      "23/12/14 21:21:42 WARN DAGScheduler: Broadcasting large task binary with size 3.6 MiB\n",
      "23/12/14 21:21:42 WARN DAGScheduler: Broadcasting large task binary with size 3.6 MiB\n",
      "23/12/14 21:21:44 WARN DAGScheduler: Broadcasting large task binary with size 3.6 MiB\n",
      "23/12/14 21:21:44 WARN DAGScheduler: Broadcasting large task binary with size 3.6 MiB\n",
      "23/12/14 21:21:45 WARN DAGScheduler: Broadcasting large task binary with size 3.6 MiB\n",
      "23/12/14 21:21:46 WARN DAGScheduler: Broadcasting large task binary with size 3.6 MiB\n",
      "23/12/14 21:21:47 WARN DAGScheduler: Broadcasting large task binary with size 3.6 MiB\n",
      "23/12/14 21:21:48 WARN DAGScheduler: Broadcasting large task binary with size 3.6 MiB\n",
      "23/12/14 21:21:49 WARN DAGScheduler: Broadcasting large task binary with size 3.6 MiB\n",
      "23/12/14 21:21:50 WARN DAGScheduler: Broadcasting large task binary with size 3.6 MiB\n",
      "23/12/14 21:21:51 WARN DAGScheduler: Broadcasting large task binary with size 3.6 MiB\n",
      "23/12/14 21:21:51 WARN DAGScheduler: Broadcasting large task binary with size 3.6 MiB\n",
      "23/12/14 21:21:53 WARN DAGScheduler: Broadcasting large task binary with size 3.6 MiB\n",
      "23/12/14 21:21:53 WARN DAGScheduler: Broadcasting large task binary with size 3.6 MiB\n",
      "23/12/14 21:21:55 WARN DAGScheduler: Broadcasting large task binary with size 3.6 MiB\n",
      "23/12/14 21:21:55 WARN DAGScheduler: Broadcasting large task binary with size 3.6 MiB\n",
      "23/12/14 21:21:57 WARN DAGScheduler: Broadcasting large task binary with size 3.6 MiB\n",
      "23/12/14 21:21:57 WARN DAGScheduler: Broadcasting large task binary with size 3.6 MiB\n",
      "23/12/14 21:21:59 WARN DAGScheduler: Broadcasting large task binary with size 3.6 MiB\n",
      "23/12/14 21:21:59 WARN DAGScheduler: Broadcasting large task binary with size 3.6 MiB\n",
      "23/12/14 21:22:01 WARN DAGScheduler: Broadcasting large task binary with size 3.6 MiB\n",
      "23/12/14 21:22:01 WARN DAGScheduler: Broadcasting large task binary with size 3.6 MiB\n",
      "23/12/14 21:22:03 WARN DAGScheduler: Broadcasting large task binary with size 3.6 MiB\n",
      "23/12/14 21:22:03 WARN DAGScheduler: Broadcasting large task binary with size 3.6 MiB\n",
      "23/12/14 21:22:05 WARN DAGScheduler: Broadcasting large task binary with size 3.6 MiB\n",
      "23/12/14 21:22:05 WARN DAGScheduler: Broadcasting large task binary with size 3.6 MiB\n",
      "23/12/14 21:22:07 WARN DAGScheduler: Broadcasting large task binary with size 3.6 MiB\n",
      "23/12/14 21:22:07 WARN DAGScheduler: Broadcasting large task binary with size 3.6 MiB\n",
      "23/12/14 21:22:09 WARN DAGScheduler: Broadcasting large task binary with size 3.6 MiB\n",
      "23/12/14 21:22:09 WARN DAGScheduler: Broadcasting large task binary with size 3.6 MiB\n",
      "23/12/14 21:22:10 WARN DAGScheduler: Broadcasting large task binary with size 3.6 MiB\n",
      "23/12/14 21:22:11 WARN DAGScheduler: Broadcasting large task binary with size 3.6 MiB\n",
      "23/12/14 21:22:12 WARN DAGScheduler: Broadcasting large task binary with size 3.6 MiB\n",
      "23/12/14 21:22:13 WARN DAGScheduler: Broadcasting large task binary with size 3.6 MiB\n",
      "23/12/14 21:22:14 WARN DAGScheduler: Broadcasting large task binary with size 3.6 MiB\n",
      "23/12/14 21:22:14 WARN DAGScheduler: Broadcasting large task binary with size 3.6 MiB\n",
      "23/12/14 21:22:16 WARN DAGScheduler: Broadcasting large task binary with size 3.6 MiB\n",
      "23/12/14 21:22:16 WARN DAGScheduler: Broadcasting large task binary with size 3.6 MiB\n",
      "23/12/14 21:22:18 WARN DAGScheduler: Broadcasting large task binary with size 3.6 MiB\n",
      "23/12/14 21:22:18 WARN DAGScheduler: Broadcasting large task binary with size 3.6 MiB\n",
      "23/12/14 21:22:20 WARN DAGScheduler: Broadcasting large task binary with size 3.6 MiB\n",
      "23/12/14 21:22:20 WARN DAGScheduler: Broadcasting large task binary with size 3.6 MiB\n",
      "23/12/14 21:22:22 WARN DAGScheduler: Broadcasting large task binary with size 3.6 MiB\n",
      "23/12/14 21:22:22 WARN DAGScheduler: Broadcasting large task binary with size 3.6 MiB\n",
      "23/12/14 21:22:24 WARN DAGScheduler: Broadcasting large task binary with size 3.6 MiB\n",
      "23/12/14 21:22:24 WARN DAGScheduler: Broadcasting large task binary with size 3.6 MiB\n",
      "23/12/14 21:22:26 WARN DAGScheduler: Broadcasting large task binary with size 3.6 MiB\n",
      "23/12/14 21:22:26 WARN DAGScheduler: Broadcasting large task binary with size 3.6 MiB\n",
      "23/12/14 21:22:28 WARN DAGScheduler: Broadcasting large task binary with size 3.6 MiB\n",
      "23/12/14 21:22:28 WARN DAGScheduler: Broadcasting large task binary with size 3.6 MiB\n",
      "23/12/14 21:22:29 WARN DAGScheduler: Broadcasting large task binary with size 3.6 MiB\n",
      "23/12/14 21:22:30 WARN DAGScheduler: Broadcasting large task binary with size 3.6 MiB\n",
      "23/12/14 21:22:31 WARN DAGScheduler: Broadcasting large task binary with size 3.6 MiB\n",
      "23/12/14 21:22:32 WARN DAGScheduler: Broadcasting large task binary with size 3.6 MiB\n",
      "23/12/14 21:22:33 WARN DAGScheduler: Broadcasting large task binary with size 3.6 MiB\n",
      "23/12/14 21:22:34 WARN DAGScheduler: Broadcasting large task binary with size 3.6 MiB\n",
      "23/12/14 21:22:35 WARN DAGScheduler: Broadcasting large task binary with size 3.6 MiB\n",
      "23/12/14 21:22:35 WARN DAGScheduler: Broadcasting large task binary with size 3.6 MiB\n",
      "23/12/14 21:22:37 WARN DAGScheduler: Broadcasting large task binary with size 3.6 MiB\n",
      "23/12/14 21:22:37 WARN DAGScheduler: Broadcasting large task binary with size 3.6 MiB\n",
      "23/12/14 21:22:39 WARN DAGScheduler: Broadcasting large task binary with size 3.6 MiB\n",
      "23/12/14 21:22:39 WARN DAGScheduler: Broadcasting large task binary with size 3.6 MiB\n",
      "23/12/14 21:22:41 WARN DAGScheduler: Broadcasting large task binary with size 3.6 MiB\n",
      "23/12/14 21:22:41 WARN DAGScheduler: Broadcasting large task binary with size 3.6 MiB\n",
      "23/12/14 21:22:43 WARN DAGScheduler: Broadcasting large task binary with size 3.6 MiB\n",
      "23/12/14 21:22:43 WARN DAGScheduler: Broadcasting large task binary with size 3.6 MiB\n",
      "23/12/14 21:22:45 WARN DAGScheduler: Broadcasting large task binary with size 3.6 MiB\n",
      "23/12/14 21:22:45 WARN DAGScheduler: Broadcasting large task binary with size 3.6 MiB\n",
      "23/12/14 21:22:47 WARN DAGScheduler: Broadcasting large task binary with size 3.6 MiB\n",
      "23/12/14 21:22:47 WARN DAGScheduler: Broadcasting large task binary with size 3.6 MiB\n",
      "23/12/14 21:22:48 WARN DAGScheduler: Broadcasting large task binary with size 3.6 MiB\n",
      "23/12/14 21:22:49 WARN DAGScheduler: Broadcasting large task binary with size 3.6 MiB\n",
      "23/12/14 21:22:50 WARN DAGScheduler: Broadcasting large task binary with size 3.6 MiB\n",
      "23/12/14 21:22:50 WARN DAGScheduler: Broadcasting large task binary with size 3.6 MiB\n",
      "23/12/14 21:22:52 WARN DAGScheduler: Broadcasting large task binary with size 3.6 MiB\n",
      "23/12/14 21:22:53 WARN DAGScheduler: Broadcasting large task binary with size 3.6 MiB\n",
      "23/12/14 21:22:54 WARN DAGScheduler: Broadcasting large task binary with size 3.6 MiB\n",
      "23/12/14 21:22:54 WARN DAGScheduler: Broadcasting large task binary with size 3.6 MiB\n",
      "23/12/14 21:22:56 WARN DAGScheduler: Broadcasting large task binary with size 3.6 MiB\n",
      "23/12/14 21:22:56 WARN DAGScheduler: Broadcasting large task binary with size 3.6 MiB\n",
      "23/12/14 21:22:58 WARN DAGScheduler: Broadcasting large task binary with size 3.6 MiB\n",
      "23/12/14 21:22:58 WARN DAGScheduler: Broadcasting large task binary with size 3.6 MiB\n",
      "23/12/14 21:23:00 WARN DAGScheduler: Broadcasting large task binary with size 3.6 MiB\n",
      "23/12/14 21:23:00 WARN DAGScheduler: Broadcasting large task binary with size 3.6 MiB\n",
      "23/12/14 21:23:02 WARN DAGScheduler: Broadcasting large task binary with size 3.6 MiB\n",
      "23/12/14 21:23:02 WARN DAGScheduler: Broadcasting large task binary with size 3.6 MiB\n",
      "23/12/14 21:23:04 WARN DAGScheduler: Broadcasting large task binary with size 3.6 MiB\n",
      "23/12/14 21:23:04 WARN DAGScheduler: Broadcasting large task binary with size 3.6 MiB\n",
      "23/12/14 21:23:06 WARN DAGScheduler: Broadcasting large task binary with size 3.6 MiB\n",
      "23/12/14 21:23:06 WARN DAGScheduler: Broadcasting large task binary with size 3.6 MiB\n",
      "23/12/14 21:23:08 WARN DAGScheduler: Broadcasting large task binary with size 3.6 MiB\n",
      "23/12/14 21:23:08 WARN DAGScheduler: Broadcasting large task binary with size 3.6 MiB\n",
      "23/12/14 21:23:10 WARN DAGScheduler: Broadcasting large task binary with size 3.6 MiB\n",
      "23/12/14 21:23:10 WARN DAGScheduler: Broadcasting large task binary with size 3.6 MiB\n",
      "23/12/14 21:23:11 WARN DAGScheduler: Broadcasting large task binary with size 3.6 MiB\n",
      "23/12/14 21:23:12 WARN DAGScheduler: Broadcasting large task binary with size 3.6 MiB\n",
      "23/12/14 21:23:13 WARN DAGScheduler: Broadcasting large task binary with size 3.6 MiB\n",
      "23/12/14 21:23:14 WARN DAGScheduler: Broadcasting large task binary with size 3.6 MiB\n",
      "23/12/14 21:23:15 WARN DAGScheduler: Broadcasting large task binary with size 3.6 MiB\n",
      "23/12/14 21:23:16 WARN DAGScheduler: Broadcasting large task binary with size 3.6 MiB\n",
      "23/12/14 21:23:17 WARN DAGScheduler: Broadcasting large task binary with size 3.6 MiB\n",
      "23/12/14 21:23:17 WARN DAGScheduler: Broadcasting large task binary with size 3.6 MiB\n",
      "23/12/14 21:23:19 WARN DAGScheduler: Broadcasting large task binary with size 3.6 MiB\n",
      "23/12/14 21:23:19 WARN DAGScheduler: Broadcasting large task binary with size 3.6 MiB\n",
      "23/12/14 21:23:21 WARN DAGScheduler: Broadcasting large task binary with size 3.6 MiB\n",
      "23/12/14 21:23:21 WARN DAGScheduler: Broadcasting large task binary with size 3.6 MiB\n",
      "23/12/14 21:23:23 WARN DAGScheduler: Broadcasting large task binary with size 3.6 MiB\n",
      "23/12/14 21:23:23 WARN DAGScheduler: Broadcasting large task binary with size 3.6 MiB\n",
      "23/12/14 21:23:25 WARN DAGScheduler: Broadcasting large task binary with size 3.6 MiB\n",
      "23/12/14 21:23:25 WARN DAGScheduler: Broadcasting large task binary with size 3.6 MiB\n",
      "23/12/14 21:23:27 WARN DAGScheduler: Broadcasting large task binary with size 3.6 MiB\n",
      "23/12/14 21:23:27 WARN DAGScheduler: Broadcasting large task binary with size 3.6 MiB\n",
      "23/12/14 21:23:29 WARN DAGScheduler: Broadcasting large task binary with size 3.6 MiB\n",
      "23/12/14 21:23:29 WARN DAGScheduler: Broadcasting large task binary with size 3.6 MiB\n",
      "23/12/14 21:23:31 WARN DAGScheduler: Broadcasting large task binary with size 3.6 MiB\n",
      "23/12/14 21:23:31 WARN DAGScheduler: Broadcasting large task binary with size 3.6 MiB\n",
      "23/12/14 21:23:33 WARN DAGScheduler: Broadcasting large task binary with size 3.6 MiB\n",
      "23/12/14 21:23:33 WARN DAGScheduler: Broadcasting large task binary with size 3.6 MiB\n",
      "23/12/14 21:23:35 WARN DAGScheduler: Broadcasting large task binary with size 3.6 MiB\n",
      "23/12/14 21:23:35 WARN DAGScheduler: Broadcasting large task binary with size 3.6 MiB\n",
      "23/12/14 21:23:37 WARN DAGScheduler: Broadcasting large task binary with size 3.6 MiB\n",
      "23/12/14 21:23:37 WARN DAGScheduler: Broadcasting large task binary with size 3.6 MiB\n",
      "23/12/14 21:23:39 WARN DAGScheduler: Broadcasting large task binary with size 3.6 MiB\n",
      "23/12/14 21:23:39 WARN DAGScheduler: Broadcasting large task binary with size 3.6 MiB\n",
      "23/12/14 21:23:41 WARN DAGScheduler: Broadcasting large task binary with size 3.6 MiB\n",
      "23/12/14 21:23:41 WARN DAGScheduler: Broadcasting large task binary with size 3.6 MiB\n",
      "23/12/14 21:23:43 WARN DAGScheduler: Broadcasting large task binary with size 3.6 MiB\n",
      "23/12/14 21:23:43 WARN DAGScheduler: Broadcasting large task binary with size 3.6 MiB\n",
      "23/12/14 21:23:45 WARN DAGScheduler: Broadcasting large task binary with size 3.6 MiB\n",
      "23/12/14 21:23:45 WARN DAGScheduler: Broadcasting large task binary with size 3.6 MiB\n",
      "23/12/14 21:23:47 WARN DAGScheduler: Broadcasting large task binary with size 3.6 MiB\n",
      "23/12/14 21:23:47 WARN DAGScheduler: Broadcasting large task binary with size 3.6 MiB\n",
      "23/12/14 21:23:49 WARN DAGScheduler: Broadcasting large task binary with size 3.6 MiB\n",
      "23/12/14 21:23:49 WARN DAGScheduler: Broadcasting large task binary with size 3.6 MiB\n",
      "23/12/14 21:23:51 WARN DAGScheduler: Broadcasting large task binary with size 3.6 MiB\n",
      "23/12/14 21:23:51 WARN DAGScheduler: Broadcasting large task binary with size 3.6 MiB\n",
      "23/12/14 21:23:52 WARN DAGScheduler: Broadcasting large task binary with size 3.6 MiB\n",
      "23/12/14 21:23:53 WARN DAGScheduler: Broadcasting large task binary with size 3.6 MiB\n",
      "23/12/14 21:23:54 WARN DAGScheduler: Broadcasting large task binary with size 3.6 MiB\n",
      "23/12/14 21:23:55 WARN DAGScheduler: Broadcasting large task binary with size 3.6 MiB\n",
      "23/12/14 21:23:56 WARN DAGScheduler: Broadcasting large task binary with size 3.6 MiB\n",
      "23/12/14 21:23:57 WARN DAGScheduler: Broadcasting large task binary with size 3.6 MiB\n",
      "23/12/14 21:23:58 WARN DAGScheduler: Broadcasting large task binary with size 3.6 MiB\n",
      "23/12/14 21:23:58 WARN DAGScheduler: Broadcasting large task binary with size 3.6 MiB\n",
      "23/12/14 21:24:00 WARN DAGScheduler: Broadcasting large task binary with size 3.6 MiB\n",
      "23/12/14 21:24:00 WARN DAGScheduler: Broadcasting large task binary with size 3.6 MiB\n",
      "23/12/14 21:24:02 WARN DAGScheduler: Broadcasting large task binary with size 3.6 MiB\n",
      "23/12/14 21:24:02 WARN DAGScheduler: Broadcasting large task binary with size 3.6 MiB\n",
      "23/12/14 21:24:04 WARN DAGScheduler: Broadcasting large task binary with size 3.6 MiB\n",
      "23/12/14 21:24:04 WARN DAGScheduler: Broadcasting large task binary with size 3.6 MiB\n",
      "23/12/14 21:24:06 WARN DAGScheduler: Broadcasting large task binary with size 3.6 MiB\n",
      "23/12/14 21:24:06 WARN DAGScheduler: Broadcasting large task binary with size 3.6 MiB\n",
      "23/12/14 21:24:08 WARN DAGScheduler: Broadcasting large task binary with size 3.6 MiB\n",
      "23/12/14 21:24:08 WARN DAGScheduler: Broadcasting large task binary with size 3.6 MiB\n",
      "23/12/14 21:24:10 WARN DAGScheduler: Broadcasting large task binary with size 3.6 MiB\n",
      "23/12/14 21:24:10 WARN DAGScheduler: Broadcasting large task binary with size 3.6 MiB\n",
      "23/12/14 21:24:12 WARN DAGScheduler: Broadcasting large task binary with size 3.6 MiB\n",
      "23/12/14 21:24:12 WARN DAGScheduler: Broadcasting large task binary with size 3.6 MiB\n",
      "23/12/14 21:24:13 WARN DAGScheduler: Broadcasting large task binary with size 3.6 MiB\n",
      "23/12/14 21:24:14 WARN DAGScheduler: Broadcasting large task binary with size 3.6 MiB\n",
      "23/12/14 21:24:16 WARN DAGScheduler: Broadcasting large task binary with size 3.6 MiB\n",
      "23/12/14 21:24:16 WARN DAGScheduler: Broadcasting large task binary with size 3.6 MiB\n",
      "23/12/14 21:24:17 WARN DAGScheduler: Broadcasting large task binary with size 3.6 MiB\n",
      "23/12/14 21:24:18 WARN DAGScheduler: Broadcasting large task binary with size 3.6 MiB\n",
      "23/12/14 21:24:19 WARN DAGScheduler: Broadcasting large task binary with size 3.6 MiB\n",
      "23/12/14 21:24:20 WARN DAGScheduler: Broadcasting large task binary with size 3.6 MiB\n",
      "23/12/14 21:24:21 WARN DAGScheduler: Broadcasting large task binary with size 3.6 MiB\n",
      "23/12/14 21:24:22 WARN DAGScheduler: Broadcasting large task binary with size 3.6 MiB\n",
      "23/12/14 21:24:23 WARN DAGScheduler: Broadcasting large task binary with size 3.6 MiB\n",
      "23/12/14 21:24:23 WARN DAGScheduler: Broadcasting large task binary with size 3.6 MiB\n",
      "23/12/14 21:24:25 WARN DAGScheduler: Broadcasting large task binary with size 3.6 MiB\n",
      "23/12/14 21:24:25 WARN DAGScheduler: Broadcasting large task binary with size 3.6 MiB\n",
      "23/12/14 21:24:27 WARN DAGScheduler: Broadcasting large task binary with size 3.6 MiB\n",
      "23/12/14 21:24:27 WARN DAGScheduler: Broadcasting large task binary with size 3.6 MiB\n",
      "23/12/14 21:24:29 WARN DAGScheduler: Broadcasting large task binary with size 3.6 MiB\n",
      "23/12/14 21:24:29 WARN DAGScheduler: Broadcasting large task binary with size 3.6 MiB\n",
      "23/12/14 21:24:31 WARN DAGScheduler: Broadcasting large task binary with size 3.6 MiB\n",
      "23/12/14 21:24:31 WARN DAGScheduler: Broadcasting large task binary with size 3.6 MiB\n",
      "23/12/14 21:24:33 WARN DAGScheduler: Broadcasting large task binary with size 3.6 MiB\n",
      "23/12/14 21:24:33 WARN DAGScheduler: Broadcasting large task binary with size 3.6 MiB\n",
      "23/12/14 21:24:35 WARN DAGScheduler: Broadcasting large task binary with size 3.6 MiB\n",
      "23/12/14 21:24:35 WARN DAGScheduler: Broadcasting large task binary with size 3.6 MiB\n",
      "23/12/14 21:24:37 WARN DAGScheduler: Broadcasting large task binary with size 3.6 MiB\n",
      "23/12/14 21:24:37 WARN DAGScheduler: Broadcasting large task binary with size 3.6 MiB\n",
      "23/12/14 21:24:39 WARN DAGScheduler: Broadcasting large task binary with size 3.6 MiB\n",
      "23/12/14 21:24:39 WARN DAGScheduler: Broadcasting large task binary with size 3.6 MiB\n",
      "23/12/14 21:24:40 WARN DAGScheduler: Broadcasting large task binary with size 3.6 MiB\n",
      "23/12/14 21:24:41 WARN DAGScheduler: Broadcasting large task binary with size 3.6 MiB\n",
      "23/12/14 21:24:42 WARN DAGScheduler: Broadcasting large task binary with size 3.6 MiB\n",
      "23/12/14 21:24:43 WARN DAGScheduler: Broadcasting large task binary with size 3.6 MiB\n",
      "23/12/14 21:24:44 WARN DAGScheduler: Broadcasting large task binary with size 3.6 MiB\n",
      "23/12/14 21:24:44 WARN DAGScheduler: Broadcasting large task binary with size 3.6 MiB\n",
      "23/12/14 21:24:46 WARN DAGScheduler: Broadcasting large task binary with size 3.6 MiB\n",
      "23/12/14 21:24:46 WARN DAGScheduler: Broadcasting large task binary with size 3.6 MiB\n",
      "23/12/14 21:24:48 WARN DAGScheduler: Broadcasting large task binary with size 3.6 MiB\n",
      "23/12/14 21:24:48 WARN DAGScheduler: Broadcasting large task binary with size 3.6 MiB\n",
      "23/12/14 21:24:50 WARN DAGScheduler: Broadcasting large task binary with size 3.6 MiB\n",
      "23/12/14 21:24:50 WARN DAGScheduler: Broadcasting large task binary with size 3.6 MiB\n",
      "23/12/14 21:24:52 WARN DAGScheduler: Broadcasting large task binary with size 3.6 MiB\n",
      "23/12/14 21:24:52 WARN DAGScheduler: Broadcasting large task binary with size 3.6 MiB\n",
      "23/12/14 21:24:54 WARN DAGScheduler: Broadcasting large task binary with size 3.6 MiB\n",
      "23/12/14 21:24:54 WARN DAGScheduler: Broadcasting large task binary with size 3.6 MiB\n",
      "23/12/14 21:24:56 WARN DAGScheduler: Broadcasting large task binary with size 3.6 MiB\n",
      "23/12/14 21:24:56 WARN DAGScheduler: Broadcasting large task binary with size 3.6 MiB\n",
      "23/12/14 21:24:58 WARN DAGScheduler: Broadcasting large task binary with size 3.6 MiB\n",
      "23/12/14 21:24:58 WARN DAGScheduler: Broadcasting large task binary with size 3.6 MiB\n",
      "23/12/14 21:25:00 WARN DAGScheduler: Broadcasting large task binary with size 3.6 MiB\n",
      "23/12/14 21:25:00 WARN DAGScheduler: Broadcasting large task binary with size 3.6 MiB\n",
      "23/12/14 21:25:02 WARN DAGScheduler: Broadcasting large task binary with size 3.6 MiB\n",
      "23/12/14 21:25:02 WARN DAGScheduler: Broadcasting large task binary with size 3.6 MiB\n",
      "23/12/14 21:25:03 WARN DAGScheduler: Broadcasting large task binary with size 3.6 MiB\n",
      "23/12/14 21:25:04 WARN DAGScheduler: Broadcasting large task binary with size 3.6 MiB\n",
      "23/12/14 21:25:05 WARN DAGScheduler: Broadcasting large task binary with size 3.6 MiB\n",
      "23/12/14 21:25:06 WARN DAGScheduler: Broadcasting large task binary with size 3.6 MiB\n",
      "23/12/14 21:25:07 WARN DAGScheduler: Broadcasting large task binary with size 3.6 MiB\n",
      "23/12/14 21:25:07 WARN DAGScheduler: Broadcasting large task binary with size 3.6 MiB\n",
      "23/12/14 21:25:09 WARN DAGScheduler: Broadcasting large task binary with size 3.6 MiB\n",
      "                                                                                \r"
     ]
    },
    {
     "name": "stdout",
     "output_type": "stream",
     "text": [
      "Accuracy:0.469507302198684\n",
      "\n",
      "Test Error = 0.530493\n"
     ]
    },
    {
     "name": "stderr",
     "output_type": "stream",
     "text": [
      "/opt/anaconda3/lib/python3.9/site-packages/pyspark/sql/context.py:158: FutureWarning: Deprecated in 3.0.0. Use SparkSession.builder.getOrCreate() instead.\n",
      "  warnings.warn(\n",
      "                                                                                \r"
     ]
    },
    {
     "name": "stdout",
     "output_type": "stream",
     "text": [
      "DenseMatrix([[3.9400e+02, 4.0000e+00, 2.3000e+01, 2.7000e+01],\n",
      "             [1.6170e+03, 1.0626e+04, 4.3240e+03, 6.6540e+03],\n",
      "             [9.4000e+01, 2.6000e+01, 4.1000e+02, 8.6000e+01],\n",
      "             [7.2000e+01, 1.4200e+02, 1.5300e+02, 2.7200e+02]])\n"
     ]
    }
   ],
   "source": [
    "# MLP Layers  -> output layer must have the same number of units of the Severity classes\n",
    "layers = [len(num_col),4]\n",
    "\n",
    "# Create the Multilayer Perceptron Classifier and set its parameters\n",
    "trainer = MultilayerPerceptronClassifier(\n",
    "    layers=layers,\n",
    "    labelCol=\"Severity\",\n",
    "    featuresCol=\"features\",\n",
    "    maxIter=500,  \n",
    "    tol=1e-6,\n",
    "    seed=None,\n",
    "    blockSize=32,\n",
    "    stepSize=0.03,  \n",
    "    solver=\"l-bfgs\",\n",
    "    initialWeights=None,\n",
    "    probabilityCol=\"probability\",\n",
    "    rawPredictionCol=\"rawPrediction\"\n",
    ")\n",
    "\n",
    "# Train the model\n",
    "model = trainer.fit(train_und_over)\n",
    "\n",
    "# Make predictions on the test set\n",
    "predictions= model.transform(testData)\n",
    "\n",
    "# Compute Test Error = 1-Accuracy\n",
    "evaluator = MulticlassClassificationEvaluator(labelCol=\"Severity\"\n",
    "                                              , predictionCol=\"prediction\"\n",
    "                                              , metricName=\"accuracy\")\n",
    "\n",
    "accuracy = evaluator.evaluate(predictions)\n",
    "print(f'Accuracy:{accuracy}\\n')\n",
    "print(\"Test Error = %g\" % (1.0 - accuracy))\n",
    "\n",
    "#Computing confusion matrix\n",
    "preds_and_labels = predictions.select(['prediction','Severity']).withColumn('label', F.col('Severity').cast(FloatType())).orderBy('prediction')\n",
    "preds_and_labels = preds_and_labels.select(['prediction','label'])\n",
    "metrics = MulticlassMetrics(preds_and_labels.rdd.map(tuple))\n",
    "print(metrics.confusionMatrix())"
   ]
  },
  {
   "cell_type": "code",
   "execution_count": 15,
   "id": "ec456aa4-e89b-415b-a123-d27daa65c92c",
   "metadata": {
    "tags": []
   },
   "outputs": [
    {
     "name": "stdout",
     "output_type": "stream",
     "text": [
      "Precision for class  0 : 18.10%\n",
      "Recall for class  0 : 87.95%\n",
      "avg_F1-Score for class  0 : 30.02%\n",
      "----------------------------\n",
      "Precision for class  1 : 98.41%\n",
      "Recall for class  1 : 45.76%\n",
      "avg_F1-Score for class  1 : 62.47%\n",
      "----------------------------\n",
      "Precision for class  2 : 8.35%\n",
      "Recall for class  2 : 66.56%\n",
      "avg_F1-Score for class  2 : 14.84%\n",
      "----------------------------\n",
      "Precision for class  3 : 3.86%\n",
      "Recall for class  3 : 42.57%\n",
      "avg_F1-Score for class  3 : 7.09%\n",
      "----------------------------\n",
      "[0.30019047619047623, 0.6247097210382434, 0.1483894317770539, 0.07085178431883303]\n",
      "----------------------\n",
      "avg_F1-Score: 28.60%\n"
     ]
    },
    {
     "data": {
      "text/plain": [
       "<AxesSubplot:>"
      ]
     },
     "execution_count": 15,
     "metadata": {},
     "output_type": "execute_result"
    },
    {
     "data": {
      "image/png": "[encoded data removed]",
      "text/plain": [
       "<Figure size 700x700 with 1 Axes>"
      ]
     },
     "metadata": {},
     "output_type": "display_data"
    }
   ],
   "source": [
    "predictionAndLabels = predictions.select(\"prediction\", \"Severity\").rdd.map(lambda x: (float(x[0]), float(x[1])))\n",
    "metrics = MulticlassMetrics(predictionAndLabels)\n",
    "\n",
    "list_avg=[]\n",
    "for i in range(4):\n",
    "    precision = metrics.precision(label=float(i))  \n",
    "    recall = metrics.recall(label=float(i))\n",
    "    f1Score= metrics.fMeasure(label=float(i)) # need .0\n",
    "    print(\"Precision for class \",i,\": {:.2%}\".format(precision))\n",
    "    print(\"Recall for class \",i,\": {:.2%}\".format(recall))\n",
    "    print(\"avg_F1-Score for class \",i,\": {:.2%}\".format(f1Score))\n",
    "    list_avg.append(f1Score)\n",
    "    print('----------------------------')\n",
    "sum_=0\n",
    "print(list_avg)\n",
    "for elem in list_avg:\n",
    "    sum_+=elem\n",
    "\n",
    "avg_f1=sum_/4\n",
    "print('----------------------')\n",
    "\n",
    "print(\"avg_F1-Score: {:.2%}\".format(avg_f1))\n",
    "\n",
    "labels = [\"0\", \"1\", \"2\", \"3\"]\n",
    "_ = plt.figure(figsize=(7, 7))\n",
    "sns.heatmap(metrics.confusionMatrix().toArray(),\n",
    "            cmap='viridis',\n",
    "            annot=True,fmt='0',\n",
    "            cbar=False, \n",
    "            xticklabels=labels, \n",
    "            yticklabels=labels)"
   ]
  },
  {
   "cell_type": "markdown",
   "id": "f595a69e-1eb7-4f6f-a5d9-b842859651c6",
   "metadata": {},
   "source": [
    "MLP with Working_Weekend target"
   ]
  },
  {
   "cell_type": "code",
   "execution_count": 13,
   "metadata": {},
   "outputs": [],
   "source": [
    "num_col_ww = [item[0] for item in df_cols_onehot.dtypes if not item[1].startswith('string')]\n",
    "num_col_ww.remove(\"Working_Weekend\")"
   ]
  },
  {
   "cell_type": "code",
   "execution_count": 14,
   "id": "75bc5e1e-d7bf-4307-a536-308adff266e9",
   "metadata": {
    "tags": []
   },
   "outputs": [
    {
     "name": "stdout",
     "output_type": "stream",
     "text": [
      "+---------------+-----+\n",
      "|Working_Weekend|count|\n",
      "+---------------+-----+\n",
      "|              1|16454|\n",
      "|              0|66813|\n",
      "+---------------+-----+\n",
      "\n"
     ]
    }
   ],
   "source": [
    "ww_counts = df_MLP_binary.groupBy(\"Working_Weekend\").count()\n",
    "ww_counts.show()"
   ]
  },
  {
   "cell_type": "code",
   "execution_count": 15,
   "id": "76a51113-f4b2-4046-9225-4de301ae5e29",
   "metadata": {
    "tags": []
   },
   "outputs": [
    {
     "name": "stdout",
     "output_type": "stream",
     "text": [
      "+------------------------------------------------------------------------------------------------------------------------------------+---------------+\n",
      "|features                                                                                                                            |Working_Weekend|\n",
      "+------------------------------------------------------------------------------------------------------------------------------------+---------------+\n",
      "|(28,[0,1,2,4,5,6,7,20,21,24],[2.0,41.877678,-86.088089,30.0,64.0,10.0,13.0,2.0,15.0,1.0])                                           |0              |\n",
      "|(28,[0,1,2,3,4,5,6,7,20,21,24],[1.0,41.883412599363886,-86.07864260632476,0.647,30.0,64.0,10.0,13.0,2.0,15.0,1.0])                  |0              |\n",
      "|(28,[0,1,2,3,4,5,6,7,20,21,24],[1.0,41.883422,-86.07864599999998,0.927,30.0,64.0,10.0,10.0,2.0,16.0,1.0])                           |0              |\n",
      "|(28,[0,1,2,3,4,5,6,7,20,21,24],[1.0,41.883412599363886,-86.07864260632476,0.647,30.0,64.0,10.0,10.0,2.0,16.0,1.0])                  |0              |\n",
      "|(28,[0,1,2,4,5,6,7,20,21,23],[2.0,42.291237,-84.203728,16.0,71.0,10.0,12.0,2.0,9.0,1.0])                                            |0              |\n",
      "|(28,[0,1,2,4,5,6,7,20,21,23],[2.0,42.291237,-84.203728,16.0,74.0,10.0,9.0,2.0,8.0,1.0])                                             |0              |\n",
      "|(28,[0,1,2,3,4,5,6,7,12,20,21,23],[1.0,42.29078650454383,-84.20128941495798,0.363,16.0,74.0,10.0,9.0,1.0,2.0,8.0,1.0])              |0              |\n",
      "|(28,[0,1,2,3,4,5,6,7,12,20,21,23],[1.0,42.29078650454383,-84.20128941495798,0.363,16.0,74.0,10.0,9.0,1.0,2.0,8.0,1.0])              |0              |\n",
      "|(28,[0,1,2,4,5,6,7,20,21,24],[2.0,42.291218,-84.205589,18.0,74.0,10.0,9.0,2.0,18.0,1.0])                                            |1              |\n",
      "|(28,[0,1,2,3,4,5,6,7,12,20,21,24],[1.0,42.29158043841223,-84.20787692029853,0.468,18.0,74.0,10.0,9.0,1.0,2.0,18.0,1.0])             |1              |\n",
      "|(28,[0,1,2,3,4,5,6,7,12,20,21,24],[1.0,42.29158043841223,-84.20787692029853,0.468,18.0,74.0,10.0,9.0,1.0,2.0,19.0,1.0])             |1              |\n",
      "|(28,[0,1,2,3,4,5,6,7,12,20,21,24],[1.0,42.29158043841223,-84.20787692029853,0.468,18.0,74.0,10.0,9.0,1.0,2.0,18.0,1.0])             |1              |\n",
      "|(28,[0,1,2,3,4,5,6,7,8,20,21,25],[1.0,42.29175209978917,-84.24894690473437,2.0980000000000003,25.0,92.0,0.5,12.0,0.02,2.0,17.0,1.0])|0              |\n",
      "|(28,[0,1,2,4,5,6,7,8,20,21,25],[2.0,42.291508,-84.261375,27.0,86.0,0.25,10.0,0.03,2.0,15.0,1.0])                                    |0              |\n",
      "|(28,[0,1,2,4,5,6,7,20,21,25],[2.0,42.291508,-84.261375,28.0,88.0,1.0,10.0,2.0,15.0,1.0])                                            |0              |\n",
      "|(28,[0,1,2,3,4,5,6,7,20,21,25],[1.0,42.291914,-84.256819,17.21,28.0,88.0,1.0,10.0,2.0,15.0,1.0])                                    |0              |\n",
      "|(28,[0,1,2,4,5,6,7,8,20,21,25],[2.0,42.291508,-84.261375,32.0,100.0,0.5,7.0,0.03,2.0,8.0,1.0])                                      |0              |\n",
      "|(28,[0,1,2,3,4,5,6,7,8,20,21,25],[1.0,42.28931,-84.273064,0.687,32.0,100.0,0.5,7.0,0.03,2.0,8.0,1.0])                               |0              |\n",
      "|(28,[0,1,2,3,4,5,6,7,20,21,22,25],[1.0,42.271773,-84.40369100000002,2.69,22.0,75.0,3.0,22.0,2.0,3.0,1.0,1.0])                       |1              |\n",
      "|(28,[0,1,2,3,4,5,6,7,20,21,22,25],[1.0,42.272562,-84.415959,2.07,22.0,75.0,3.0,22.0,2.0,3.0,1.0,1.0])                               |1              |\n",
      "+------------------------------------------------------------------------------------------------------------------------------------+---------------+\n",
      "only showing top 20 rows\n",
      "\n"
     ]
    }
   ],
   "source": [
    "assembler = VectorAssembler(inputCols=num_col_ww, outputCol=\"features\")\n",
    "\n",
    "output_dataset = assembler.transform(df_MLP_binary)\n",
    "\n",
    "classificationData = output_dataset.select(\"features\", \"Working_Weekend\")\n",
    "\n",
    "classificationData.show(truncate=False)\n",
    "(trainingData, testData) = classificationData.randomSplit([0.7, 0.3],seed=0)"
   ]
  },
  {
   "cell_type": "code",
   "execution_count": 16,
   "id": "d76ac2b8-af52-4716-8c0e-1a0860bc39d4",
   "metadata": {
    "tags": []
   },
   "outputs": [
    {
     "name": "stdout",
     "output_type": "stream",
     "text": [
      "+---------------+-----+\n",
      "|Working_Weekend|count|\n",
      "+---------------+-----+\n",
      "|              1|11534|\n",
      "|              0|46809|\n",
      "+---------------+-----+\n",
      "\n"
     ]
    }
   ],
   "source": [
    "ww_counts_train= trainingData.groupBy(\"Working_Weekend\").count()\n",
    "ww_counts_train.show()"
   ]
  },
  {
   "cell_type": "code",
   "execution_count": 17,
   "id": "b8af4e55-4724-4d07-9540-91c02f6dab23",
   "metadata": {
    "tags": []
   },
   "outputs": [
    {
     "name": "stdout",
     "output_type": "stream",
     "text": [
      "+---------------+-----+\n",
      "|Working_Weekend|count|\n",
      "+---------------+-----+\n",
      "|              1| 4920|\n",
      "|              0|20004|\n",
      "+---------------+-----+\n",
      "\n"
     ]
    }
   ],
   "source": [
    "ww_counts_test= testData.groupBy(\"Working_Weekend\").count()\n",
    "ww_counts_test.show()"
   ]
  },
  {
   "cell_type": "code",
   "execution_count": 18,
   "id": "2457339f-c241-4055-9a8e-d920af18ba52",
   "metadata": {
    "tags": []
   },
   "outputs": [
    {
     "name": "stdout",
     "output_type": "stream",
     "text": [
      "Accuracy:0.8032017332691381\n",
      "\n",
      "Test Error = 0.196798\n",
      "DenseMatrix([[19884.,   120.],\n",
      "             [ 4785.,   135.]])\n"
     ]
    },
    {
     "name": "stderr",
     "output_type": "stream",
     "text": [
      "/opt/anaconda3/lib/python3.9/site-packages/pyspark/sql/context.py:158: FutureWarning: Deprecated in 3.0.0. Use SparkSession.builder.getOrCreate() instead.\n",
      "  warnings.warn(\n"
     ]
    }
   ],
   "source": [
    "# MLP Layers  -> output layer must have the same number of units of the Working_Weekend classes\n",
    "layers = [len(num_col_ww),16,8,4,2]\n",
    "\n",
    "# Create the Multilayer Perceptron Classifier and set its parameters\n",
    "trainer = MultilayerPerceptronClassifier(\n",
    "    layers=layers,\n",
    "    labelCol=\"Working_Weekend\",\n",
    "    featuresCol=\"features\",\n",
    "    maxIter=500,  \n",
    "    tol=1e-6,\n",
    "    seed=None,\n",
    "    blockSize=32,\n",
    "    stepSize=0.03,  \n",
    "    solver=\"l-bfgs\",\n",
    "    initialWeights=None,\n",
    "    probabilityCol=\"probability\",\n",
    "    rawPredictionCol=\"rawPrediction\"\n",
    ")\n",
    "\n",
    "# Train the model\n",
    "model = trainer.fit(trainingData)\n",
    "\n",
    "# Make predictions on the test set\n",
    "predictions= model.transform(testData)\n",
    "\n",
    "# Compute Test Error = 1-Accuracy\n",
    "evaluator = MulticlassClassificationEvaluator(labelCol=\"Working_Weekend\"\n",
    "                                              , predictionCol=\"prediction\"\n",
    "                                              , metricName=\"accuracy\")\n",
    "\n",
    "accuracy = evaluator.evaluate(predictions)\n",
    "print(f'Accuracy:{accuracy}\\n')\n",
    "print(\"Test Error = %g\" % (1.0 - accuracy))\n",
    "\n",
    "\n",
    "\n",
    "#Computing confusion matrix\n",
    "preds_and_labels = predictions.select(['prediction','Working_Weekend']).withColumn('label', F.col('Working_Weekend').cast(FloatType())).orderBy('prediction')\n",
    "preds_and_labels = preds_and_labels.select(['prediction','label'])\n",
    "metrics = MulticlassMetrics(preds_and_labels.rdd.map(tuple))\n",
    "print(metrics.confusionMatrix())"
   ]
  },
  {
   "cell_type": "code",
   "execution_count": 19,
   "id": "c6b97cad-9ba6-40f4-8e7e-fb7be65033fe",
   "metadata": {
    "tags": []
   },
   "outputs": [
    {
     "name": "stdout",
     "output_type": "stream",
     "text": [
      "Precision for class  0 : 80.60%\n",
      "Recall for class  0 : 99.40%\n",
      "avg_F1-Score for class  0 : 89.02%\n",
      "----------------------------\n",
      "Precision for class  1 : 52.94%\n",
      "Recall for class  1 : 2.74%\n",
      "avg_F1-Score for class  1 : 5.22%\n",
      "----------------------------\n",
      "[0.8902021355180981, 0.05217391304347826]\n",
      "----------------------\n",
      "avg_F1-Score: 47.12%\n"
     ]
    },
    {
     "data": {
      "text/plain": [
       "<AxesSubplot:>"
      ]
     },
     "execution_count": 19,
     "metadata": {},
     "output_type": "execute_result"
    },
    {
     "data": {
      "image/png": "[encoded data removed]",
      "text/plain": [
       "<Figure size 700x700 with 1 Axes>"
      ]
     },
     "metadata": {},
     "output_type": "display_data"
    }
   ],
   "source": [
    "# Calcolare precision, recall e F1-score\n",
    "predictionAndLabels = predictions.select(\"prediction\", \"Working_Weekend\").rdd.map(lambda x: (float(x[0]), float(x[1])))\n",
    "metrics = MulticlassMetrics(predictionAndLabels)\n",
    "\n",
    "list_avg=[]\n",
    "for i in range(2):\n",
    "    precision = metrics.precision(label=float(i))  \n",
    "    recall = metrics.recall(label=float(i))\n",
    "    f1Score= metrics.fMeasure(label=float(i)) # need .0\n",
    "    print(\"Precision for class \",i,\": {:.2%}\".format(precision))\n",
    "    print(\"Recall for class \",i,\": {:.2%}\".format(recall))\n",
    "    print(\"avg_F1-Score for class \",i,\": {:.2%}\".format(f1Score))\n",
    "    list_avg.append(f1Score)\n",
    "    print('----------------------------')\n",
    "sum_=0\n",
    "print(list_avg)\n",
    "for elem in list_avg:\n",
    "    sum_+=elem\n",
    "\n",
    "avg_f1=sum_/2\n",
    "print('----------------------')\n",
    "\n",
    "print(\"avg_F1-Score: {:.2%}\".format(avg_f1))\n",
    "\n",
    "labels = [\"0\", \"1\"]\n",
    "_ = plt.figure(figsize=(7, 7))\n",
    "sns.heatmap(metrics.confusionMatrix().toArray(),\n",
    "            cmap='viridis',\n",
    "            annot=True,fmt='0',\n",
    "            cbar=False, \n",
    "            xticklabels=labels, \n",
    "            yticklabels=labels)"
   ]
  }
 ],
 "metadata": {
  "kernelspec": {
   "display_name": "Python 3 (ipykernel)",
   "language": "python",
   "name": "python3"
  },
  "language_info": {
   "codemirror_mode": {
    "name": "ipython",
    "version": 3
   },
   "file_extension": ".py",
   "mimetype": "text/x-python",
   "name": "python",
   "nbconvert_exporter": "python",
   "pygments_lexer": "ipython3",
   "version": "3.9.13"
  }
 },
 "nbformat": 4,
 "nbformat_minor": 5
}
