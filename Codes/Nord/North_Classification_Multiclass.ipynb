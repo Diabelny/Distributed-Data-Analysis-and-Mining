{
 "cells": [
  {
   "cell_type": "code",
   "execution_count": 1,
   "id": "543fbca0-dc7e-4f81-ac47-637810f2da05",
   "metadata": {
    "tags": []
   },
   "outputs": [
    {
     "name": "stderr",
     "output_type": "stream",
     "text": [
      "Setting default log level to \"WARN\".\n",
      "To adjust logging level use sc.setLogLevel(newLevel). For SparkR, use setLogLevel(newLevel).\n",
      "23/12/14 20:47:22 WARN NativeCodeLoader: Unable to load native-hadoop library for your platform... using builtin-java classes where applicable\n"
     ]
    }
   ],
   "source": [
    "import matplotlib.pyplot as plt\n",
    "import seaborn as sns\n",
    "from pyspark.ml.feature import StringIndexer,OneHotEncoder\n",
    "from pyspark.sql import SQLContext, SparkSession, Row\n",
    "from pyspark.mllib.stat import Statistics\n",
    "from pyspark.ml import Pipeline\n",
    "from pyspark.ml.feature import VectorAssembler, MinMaxScaler, StandardScaler\n",
    "from pyspark.sql.functions import col\n",
    "\n",
    "from pyspark.mllib.regression import LabeledPoint\n",
    "from pyspark.ml.linalg import Vectors\n",
    "\n",
    "spark = SparkSession.Builder().appName('DDAM_Project_north').getOrCreate()"
   ]
  },
  {
   "cell_type": "code",
   "execution_count": 2,
   "id": "a5c022a5-0f6d-467f-a187-f6ad7dde1a99",
   "metadata": {
    "tags": []
   },
   "outputs": [
    {
     "name": "stderr",
     "output_type": "stream",
     "text": [
      "                                                                                \r"
     ]
    }
   ],
   "source": [
    "df = spark.read.options(inferSchema = True, delimiter = ',', header = True).csv('../../Datasets/North_Incidents_Cleaned.csv')"
   ]
  },
  {
   "cell_type": "code",
   "execution_count": 3,
   "id": "a466f69c-02e9-4828-bc33-df4deef9e3e1",
   "metadata": {
    "tags": []
   },
   "outputs": [
    {
     "data": {
      "text/plain": [
       "83267"
      ]
     },
     "execution_count": 3,
     "metadata": {},
     "output_type": "execute_result"
    }
   ],
   "source": [
    "df.count()"
   ]
  },
  {
   "cell_type": "code",
   "execution_count": 4,
   "id": "0851ac29-2fff-47ef-8cb6-72e05932573b",
   "metadata": {
    "tags": []
   },
   "outputs": [
    {
     "name": "stderr",
     "output_type": "stream",
     "text": [
      "23/12/14 20:47:46 WARN SparkStringUtils: Truncated the string representation of a plan since it was too large. This behavior can be adjusted by setting 'spark.sql.debug.maxToStringFields'.\n",
      "                                                                                \r"
     ]
    },
    {
     "data": {
      "text/html": [
       "<div>\n",
       "<style scoped>\n",
       "    .dataframe tbody tr th:only-of-type {\n",
       "        vertical-align: middle;\n",
       "    }\n",
       "\n",
       "    .dataframe tbody tr th {\n",
       "        vertical-align: top;\n",
       "    }\n",
       "\n",
       "    .dataframe thead th {\n",
       "        text-align: right;\n",
       "    }\n",
       "</style>\n",
       "<table border=\"1\" class=\"dataframe\">\n",
       "  <thead>\n",
       "    <tr style=\"text-align: right;\">\n",
       "      <th></th>\n",
       "      <th>0</th>\n",
       "    </tr>\n",
       "  </thead>\n",
       "  <tbody>\n",
       "    <tr>\n",
       "      <th>Severity</th>\n",
       "      <td>0</td>\n",
       "    </tr>\n",
       "    <tr>\n",
       "      <th>Start_Time</th>\n",
       "      <td>0</td>\n",
       "    </tr>\n",
       "    <tr>\n",
       "      <th>Start_Lat</th>\n",
       "      <td>0</td>\n",
       "    </tr>\n",
       "    <tr>\n",
       "      <th>Start_Lng</th>\n",
       "      <td>0</td>\n",
       "    </tr>\n",
       "    <tr>\n",
       "      <th>Distance_mi</th>\n",
       "      <td>0</td>\n",
       "    </tr>\n",
       "    <tr>\n",
       "      <th>City</th>\n",
       "      <td>0</td>\n",
       "    </tr>\n",
       "    <tr>\n",
       "      <th>County</th>\n",
       "      <td>0</td>\n",
       "    </tr>\n",
       "    <tr>\n",
       "      <th>State</th>\n",
       "      <td>0</td>\n",
       "    </tr>\n",
       "    <tr>\n",
       "      <th>Temperature_F</th>\n",
       "      <td>0</td>\n",
       "    </tr>\n",
       "    <tr>\n",
       "      <th>Wind_Chill_F</th>\n",
       "      <td>0</td>\n",
       "    </tr>\n",
       "    <tr>\n",
       "      <th>Humidity_perc</th>\n",
       "      <td>0</td>\n",
       "    </tr>\n",
       "    <tr>\n",
       "      <th>Visibility_mi</th>\n",
       "      <td>0</td>\n",
       "    </tr>\n",
       "    <tr>\n",
       "      <th>Wind_Direction</th>\n",
       "      <td>0</td>\n",
       "    </tr>\n",
       "    <tr>\n",
       "      <th>Wind_Speed_mph</th>\n",
       "      <td>0</td>\n",
       "    </tr>\n",
       "    <tr>\n",
       "      <th>Precipitation_in</th>\n",
       "      <td>0</td>\n",
       "    </tr>\n",
       "    <tr>\n",
       "      <th>Amenity</th>\n",
       "      <td>0</td>\n",
       "    </tr>\n",
       "    <tr>\n",
       "      <th>Crossing</th>\n",
       "      <td>0</td>\n",
       "    </tr>\n",
       "    <tr>\n",
       "      <th>Give_Way</th>\n",
       "      <td>0</td>\n",
       "    </tr>\n",
       "    <tr>\n",
       "      <th>Junction</th>\n",
       "      <td>0</td>\n",
       "    </tr>\n",
       "    <tr>\n",
       "      <th>No_Exit</th>\n",
       "      <td>0</td>\n",
       "    </tr>\n",
       "    <tr>\n",
       "      <th>Railway</th>\n",
       "      <td>0</td>\n",
       "    </tr>\n",
       "    <tr>\n",
       "      <th>Roundabout</th>\n",
       "      <td>0</td>\n",
       "    </tr>\n",
       "    <tr>\n",
       "      <th>Station</th>\n",
       "      <td>0</td>\n",
       "    </tr>\n",
       "    <tr>\n",
       "      <th>Stop</th>\n",
       "      <td>0</td>\n",
       "    </tr>\n",
       "    <tr>\n",
       "      <th>Traffic_Calming</th>\n",
       "      <td>0</td>\n",
       "    </tr>\n",
       "    <tr>\n",
       "      <th>Traffic_Signal</th>\n",
       "      <td>0</td>\n",
       "    </tr>\n",
       "    <tr>\n",
       "      <th>month</th>\n",
       "      <td>0</td>\n",
       "    </tr>\n",
       "    <tr>\n",
       "      <th>day_of_the_week</th>\n",
       "      <td>0</td>\n",
       "    </tr>\n",
       "    <tr>\n",
       "      <th>hour</th>\n",
       "      <td>0</td>\n",
       "    </tr>\n",
       "    <tr>\n",
       "      <th>season</th>\n",
       "      <td>0</td>\n",
       "    </tr>\n",
       "    <tr>\n",
       "      <th>Working_Weekend</th>\n",
       "      <td>0</td>\n",
       "    </tr>\n",
       "    <tr>\n",
       "      <th>Astronomical_Twilight</th>\n",
       "      <td>0</td>\n",
       "    </tr>\n",
       "    <tr>\n",
       "      <th>Weather_Condition</th>\n",
       "      <td>0</td>\n",
       "    </tr>\n",
       "  </tbody>\n",
       "</table>\n",
       "</div>"
      ],
      "text/plain": [
       "                       0\n",
       "Severity               0\n",
       "Start_Time             0\n",
       "Start_Lat              0\n",
       "Start_Lng              0\n",
       "Distance_mi            0\n",
       "City                   0\n",
       "County                 0\n",
       "State                  0\n",
       "Temperature_F          0\n",
       "Wind_Chill_F           0\n",
       "Humidity_perc          0\n",
       "Visibility_mi          0\n",
       "Wind_Direction         0\n",
       "Wind_Speed_mph         0\n",
       "Precipitation_in       0\n",
       "Amenity                0\n",
       "Crossing               0\n",
       "Give_Way               0\n",
       "Junction               0\n",
       "No_Exit                0\n",
       "Railway                0\n",
       "Roundabout             0\n",
       "Station                0\n",
       "Stop                   0\n",
       "Traffic_Calming        0\n",
       "Traffic_Signal         0\n",
       "month                  0\n",
       "day_of_the_week        0\n",
       "hour                   0\n",
       "season                 0\n",
       "Working_Weekend        0\n",
       "Astronomical_Twilight  0\n",
       "Weather_Condition      0"
      ]
     },
     "execution_count": 4,
     "metadata": {},
     "output_type": "execute_result"
    }
   ],
   "source": [
    "#Checking missing values\n",
    "from pyspark.sql.functions import when, count, isnull\n",
    "missing = df.select([count(when(isnull(c), c)).alias(c) for c in df.columns])\n",
    "missing.toPandas().T"
   ]
  },
  {
   "cell_type": "code",
   "execution_count": 5,
   "id": "d222d619-90fe-4823-942c-710edff11deb",
   "metadata": {
    "tags": []
   },
   "outputs": [],
   "source": [
    "df=df.drop('Wind_Chill_F')"
   ]
  },
  {
   "cell_type": "markdown",
   "id": "660acdf5-b2da-46a5-9105-7decde02113a",
   "metadata": {},
   "source": [
    "Preparing data"
   ]
  },
  {
   "cell_type": "code",
   "execution_count": 6,
   "id": "2e587e28-dd2e-4e26-bddb-013262971f2a",
   "metadata": {
    "tags": []
   },
   "outputs": [
    {
     "name": "stdout",
     "output_type": "stream",
     "text": [
      "+--------+------------------+------------------+------------------+-------------+-------------+-------------+--------------+----------------+-------+--------+--------+--------+-------+-------+----------+-------+-----+---------------+--------------+-----+----+---------------+---------------------+-----------------+\n",
      "|Severity|         Start_Lat|         Start_Lng|       Distance_mi|Temperature_F|Humidity_perc|Visibility_mi|Wind_Speed_mph|Precipitation_in|Amenity|Crossing|Give_Way|Junction|No_Exit|Railway|Roundabout|Station| Stop|Traffic_Calming|Traffic_Signal|month|hour|Working_Weekend|Astronomical_Twilight|Weather_Condition|\n",
      "+--------+------------------+------------------+------------------+-------------+-------------+-------------+--------------+----------------+-------+--------+--------+--------+-------+-------+----------+-------+-----+---------------+--------------+-----+----+---------------+---------------------+-----------------+\n",
      "|       3|         41.877678|        -86.088089|               0.0|         30.0|         64.0|         10.0|          13.0|             0.0|  false|   false|   false|   false|  false|  false|     false|  false|false|          false|         false|    2|  15|     WorkingDay|                  Day|           Normal|\n",
      "|       2|41.883412599363886|-86.07864260632476|             0.647|         30.0|         64.0|         10.0|          13.0|             0.0|  false|   false|   false|   false|  false|  false|     false|  false|false|          false|         false|    2|  15|     WorkingDay|                  Day|           Normal|\n",
      "|       2|         41.883422|-86.07864599999998|             0.927|         30.0|         64.0|         10.0|          10.0|             0.0|  false|   false|   false|   false|  false|  false|     false|  false|false|          false|         false|    2|  16|     WorkingDay|                  Day|           Normal|\n",
      "|       2|41.883412599363886|-86.07864260632476|             0.647|         30.0|         64.0|         10.0|          10.0|             0.0|  false|   false|   false|   false|  false|  false|     false|  false|false|          false|         false|    2|  16|     WorkingDay|                  Day|           Normal|\n",
      "|       3|         42.291237|        -84.203728|               0.0|         16.0|         71.0|         10.0|          12.0|             0.0|  false|   false|   false|   false|  false|  false|     false|  false|false|          false|         false|    2|   9|     WorkingDay|                  Day|           Cloudy|\n",
      "|       3|         42.291237|        -84.203728|               0.0|         16.0|         74.0|         10.0|           9.0|             0.0|  false|   false|   false|   false|  false|  false|     false|  false|false|          false|         false|    2|   8|     WorkingDay|                  Day|           Cloudy|\n",
      "|       2| 42.29078650454383|-84.20128941495798|             0.363|         16.0|         74.0|         10.0|           9.0|             0.0|  false|   false|   false|    true|  false|  false|     false|  false|false|          false|         false|    2|   8|     WorkingDay|                  Day|           Cloudy|\n",
      "|       2| 42.29078650454383|-84.20128941495798|             0.363|         16.0|         74.0|         10.0|           9.0|             0.0|  false|   false|   false|    true|  false|  false|     false|  false|false|          false|         false|    2|   8|     WorkingDay|                  Day|           Cloudy|\n",
      "|       3|         42.291218|        -84.205589|               0.0|         18.0|         74.0|         10.0|           9.0|             0.0|  false|   false|   false|   false|  false|  false|     false|  false|false|          false|         false|    2|  18|        Weekend|                  Day|           Normal|\n",
      "|       2| 42.29158043841223|-84.20787692029853|             0.468|         18.0|         74.0|         10.0|           9.0|             0.0|  false|   false|   false|    true|  false|  false|     false|  false|false|          false|         false|    2|  18|        Weekend|                  Day|           Normal|\n",
      "|       2| 42.29158043841223|-84.20787692029853|             0.468|         18.0|         74.0|         10.0|           9.0|             0.0|  false|   false|   false|    true|  false|  false|     false|  false|false|          false|         false|    2|  19|        Weekend|                  Day|           Normal|\n",
      "|       2| 42.29158043841223|-84.20787692029853|             0.468|         18.0|         74.0|         10.0|           9.0|             0.0|  false|   false|   false|    true|  false|  false|     false|  false|false|          false|         false|    2|  18|        Weekend|                  Day|           Normal|\n",
      "|       2| 42.29175209978917|-84.24894690473437|2.0980000000000003|         25.0|         92.0|          0.5|          12.0|            0.02|  false|   false|   false|   false|  false|  false|     false|  false|false|          false|         false|    2|  17|     WorkingDay|                  Day|             Snow|\n",
      "|       3|         42.291508|        -84.261375|               0.0|         27.0|         86.0|         0.25|          10.0|            0.03|  false|   false|   false|   false|  false|  false|     false|  false|false|          false|         false|    2|  15|     WorkingDay|                  Day|             Snow|\n",
      "|       3|         42.291508|        -84.261375|               0.0|         28.0|         88.0|          1.0|          10.0|             0.0|  false|   false|   false|   false|  false|  false|     false|  false|false|          false|         false|    2|  15|     WorkingDay|                  Day|             Snow|\n",
      "|       2|         42.291914|        -84.256819|             17.21|         28.0|         88.0|          1.0|          10.0|             0.0|  false|   false|   false|   false|  false|  false|     false|  false|false|          false|         false|    2|  15|     WorkingDay|                  Day|             Snow|\n",
      "|       3|         42.291508|        -84.261375|               0.0|         32.0|        100.0|          0.5|           7.0|            0.03|  false|   false|   false|   false|  false|  false|     false|  false|false|          false|         false|    2|   8|     WorkingDay|                  Day|             Snow|\n",
      "|       2|          42.28931|        -84.273064|             0.687|         32.0|        100.0|          0.5|           7.0|            0.03|  false|   false|   false|   false|  false|  false|     false|  false|false|          false|         false|    2|   8|     WorkingDay|                  Day|             Snow|\n",
      "|       2|         42.271773|-84.40369100000002|              2.69|         22.0|         75.0|          3.0|          22.0|             0.0|  false|   false|   false|   false|  false|  false|     false|  false|false|          false|         false|    2|   3|        Weekend|                Night|             Snow|\n",
      "|       2|         42.272562|        -84.415959|              2.07|         22.0|         75.0|          3.0|          22.0|             0.0|  false|   false|   false|   false|  false|  false|     false|  false|false|          false|         false|    2|   3|        Weekend|                Night|             Snow|\n",
      "+--------+------------------+------------------+------------------+-------------+-------------+-------------+--------------+----------------+-------+--------+--------+--------+-------+-------+----------+-------+-----+---------------+--------------+-----+----+---------------+---------------------+-----------------+\n",
      "only showing top 20 rows\n",
      "\n"
     ]
    }
   ],
   "source": [
    "to_drop=['Start_Time','City','County','State','Wind_Direction','day_of_the_week','season']\n",
    "df_class=df.drop(*to_drop)\n",
    "df_class.show()"
   ]
  },
  {
   "cell_type": "code",
   "execution_count": 7,
   "id": "43e53602-ea33-4036-813b-59d0321edc52",
   "metadata": {
    "tags": []
   },
   "outputs": [
    {
     "name": "stdout",
     "output_type": "stream",
     "text": [
      "+--------+------------------+------------------+------------------+-------------+-------------+-------------+--------------+----------------+-------+--------+--------+--------+-------+-------+----------+-------+----+---------------+--------------+-----+----+---------------+---------------------+-----------------+\n",
      "|Severity|         Start_Lat|         Start_Lng|       Distance_mi|Temperature_F|Humidity_perc|Visibility_mi|Wind_Speed_mph|Precipitation_in|Amenity|Crossing|Give_Way|Junction|No_Exit|Railway|Roundabout|Station|Stop|Traffic_Calming|Traffic_Signal|month|hour|Working_Weekend|Astronomical_Twilight|Weather_Condition|\n",
      "+--------+------------------+------------------+------------------+-------------+-------------+-------------+--------------+----------------+-------+--------+--------+--------+-------+-------+----------+-------+----+---------------+--------------+-----+----+---------------+---------------------+-----------------+\n",
      "|       3|         41.877678|        -86.088089|               0.0|         30.0|         64.0|         10.0|          13.0|             0.0|      0|       0|       0|       0|      0|      0|         0|      0|   0|              0|             0|    2|  15|     WorkingDay|                  Day|           Normal|\n",
      "|       2|41.883412599363886|-86.07864260632476|             0.647|         30.0|         64.0|         10.0|          13.0|             0.0|      0|       0|       0|       0|      0|      0|         0|      0|   0|              0|             0|    2|  15|     WorkingDay|                  Day|           Normal|\n",
      "|       2|         41.883422|-86.07864599999998|             0.927|         30.0|         64.0|         10.0|          10.0|             0.0|      0|       0|       0|       0|      0|      0|         0|      0|   0|              0|             0|    2|  16|     WorkingDay|                  Day|           Normal|\n",
      "|       2|41.883412599363886|-86.07864260632476|             0.647|         30.0|         64.0|         10.0|          10.0|             0.0|      0|       0|       0|       0|      0|      0|         0|      0|   0|              0|             0|    2|  16|     WorkingDay|                  Day|           Normal|\n",
      "|       3|         42.291237|        -84.203728|               0.0|         16.0|         71.0|         10.0|          12.0|             0.0|      0|       0|       0|       0|      0|      0|         0|      0|   0|              0|             0|    2|   9|     WorkingDay|                  Day|           Cloudy|\n",
      "|       3|         42.291237|        -84.203728|               0.0|         16.0|         74.0|         10.0|           9.0|             0.0|      0|       0|       0|       0|      0|      0|         0|      0|   0|              0|             0|    2|   8|     WorkingDay|                  Day|           Cloudy|\n",
      "|       2| 42.29078650454383|-84.20128941495798|             0.363|         16.0|         74.0|         10.0|           9.0|             0.0|      0|       0|       0|       1|      0|      0|         0|      0|   0|              0|             0|    2|   8|     WorkingDay|                  Day|           Cloudy|\n",
      "|       2| 42.29078650454383|-84.20128941495798|             0.363|         16.0|         74.0|         10.0|           9.0|             0.0|      0|       0|       0|       1|      0|      0|         0|      0|   0|              0|             0|    2|   8|     WorkingDay|                  Day|           Cloudy|\n",
      "|       3|         42.291218|        -84.205589|               0.0|         18.0|         74.0|         10.0|           9.0|             0.0|      0|       0|       0|       0|      0|      0|         0|      0|   0|              0|             0|    2|  18|        Weekend|                  Day|           Normal|\n",
      "|       2| 42.29158043841223|-84.20787692029853|             0.468|         18.0|         74.0|         10.0|           9.0|             0.0|      0|       0|       0|       1|      0|      0|         0|      0|   0|              0|             0|    2|  18|        Weekend|                  Day|           Normal|\n",
      "|       2| 42.29158043841223|-84.20787692029853|             0.468|         18.0|         74.0|         10.0|           9.0|             0.0|      0|       0|       0|       1|      0|      0|         0|      0|   0|              0|             0|    2|  19|        Weekend|                  Day|           Normal|\n",
      "|       2| 42.29158043841223|-84.20787692029853|             0.468|         18.0|         74.0|         10.0|           9.0|             0.0|      0|       0|       0|       1|      0|      0|         0|      0|   0|              0|             0|    2|  18|        Weekend|                  Day|           Normal|\n",
      "|       2| 42.29175209978917|-84.24894690473437|2.0980000000000003|         25.0|         92.0|          0.5|          12.0|            0.02|      0|       0|       0|       0|      0|      0|         0|      0|   0|              0|             0|    2|  17|     WorkingDay|                  Day|             Snow|\n",
      "|       3|         42.291508|        -84.261375|               0.0|         27.0|         86.0|         0.25|          10.0|            0.03|      0|       0|       0|       0|      0|      0|         0|      0|   0|              0|             0|    2|  15|     WorkingDay|                  Day|             Snow|\n",
      "|       3|         42.291508|        -84.261375|               0.0|         28.0|         88.0|          1.0|          10.0|             0.0|      0|       0|       0|       0|      0|      0|         0|      0|   0|              0|             0|    2|  15|     WorkingDay|                  Day|             Snow|\n",
      "|       2|         42.291914|        -84.256819|             17.21|         28.0|         88.0|          1.0|          10.0|             0.0|      0|       0|       0|       0|      0|      0|         0|      0|   0|              0|             0|    2|  15|     WorkingDay|                  Day|             Snow|\n",
      "|       3|         42.291508|        -84.261375|               0.0|         32.0|        100.0|          0.5|           7.0|            0.03|      0|       0|       0|       0|      0|      0|         0|      0|   0|              0|             0|    2|   8|     WorkingDay|                  Day|             Snow|\n",
      "|       2|          42.28931|        -84.273064|             0.687|         32.0|        100.0|          0.5|           7.0|            0.03|      0|       0|       0|       0|      0|      0|         0|      0|   0|              0|             0|    2|   8|     WorkingDay|                  Day|             Snow|\n",
      "|       2|         42.271773|-84.40369100000002|              2.69|         22.0|         75.0|          3.0|          22.0|             0.0|      0|       0|       0|       0|      0|      0|         0|      0|   0|              0|             0|    2|   3|        Weekend|                Night|             Snow|\n",
      "|       2|         42.272562|        -84.415959|              2.07|         22.0|         75.0|          3.0|          22.0|             0.0|      0|       0|       0|       0|      0|      0|         0|      0|   0|              0|             0|    2|   3|        Weekend|                Night|             Snow|\n",
      "+--------+------------------+------------------+------------------+-------------+-------------+-------------+--------------+----------------+-------+--------+--------+--------+-------+-------+----------+-------+----+---------------+--------------+-----+----+---------------+---------------------+-----------------+\n",
      "only showing top 20 rows\n",
      "\n"
     ]
    }
   ],
   "source": [
    "colonne_booleane = ['Amenity', 'Crossing', 'Give_Way', 'Junction', 'No_Exit', 'Railway', 'Roundabout', 'Station', 'Stop', 'Traffic_Calming', 'Traffic_Signal']\n",
    "\n",
    "# Converti le colonne booleane in numeriche\n",
    "for col_name in colonne_booleane:\n",
    "    df_class = df_class.withColumn(col_name, col(col_name).cast(\"int\"))\n",
    "\n",
    "df_class.show()"
   ]
  },
  {
   "cell_type": "code",
   "execution_count": 8,
   "id": "16a54659-4b85-4267-a5c2-c4401170e3d3",
   "metadata": {
    "tags": []
   },
   "outputs": [
    {
     "name": "stdout",
     "output_type": "stream",
     "text": [
      "+--------+------------------+------------------+------------------+-------------+-------------+-------------+--------------+----------------+-------+--------+--------+--------+-------+-------+----------+-------+----+---------------+--------------+-----+----+---------------+---------------------+-----------------+\n",
      "|Severity|         Start_Lat|         Start_Lng|       Distance_mi|Temperature_F|Humidity_perc|Visibility_mi|Wind_Speed_mph|Precipitation_in|Amenity|Crossing|Give_Way|Junction|No_Exit|Railway|Roundabout|Station|Stop|Traffic_Calming|Traffic_Signal|month|hour|Working_Weekend|Astronomical_Twilight|Weather_Condition|\n",
      "+--------+------------------+------------------+------------------+-------------+-------------+-------------+--------------+----------------+-------+--------+--------+--------+-------+-------+----------+-------+----+---------------+--------------+-----+----+---------------+---------------------+-----------------+\n",
      "|       3|         41.877678|        -86.088089|               0.0|         30.0|         64.0|         10.0|          13.0|             0.0|      0|       0|       0|       0|      0|      0|         0|      0|   0|              0|             0|    2|  15|              0|                    0|           Normal|\n",
      "|       2|41.883412599363886|-86.07864260632476|             0.647|         30.0|         64.0|         10.0|          13.0|             0.0|      0|       0|       0|       0|      0|      0|         0|      0|   0|              0|             0|    2|  15|              0|                    0|           Normal|\n",
      "|       2|         41.883422|-86.07864599999998|             0.927|         30.0|         64.0|         10.0|          10.0|             0.0|      0|       0|       0|       0|      0|      0|         0|      0|   0|              0|             0|    2|  16|              0|                    0|           Normal|\n",
      "|       2|41.883412599363886|-86.07864260632476|             0.647|         30.0|         64.0|         10.0|          10.0|             0.0|      0|       0|       0|       0|      0|      0|         0|      0|   0|              0|             0|    2|  16|              0|                    0|           Normal|\n",
      "|       3|         42.291237|        -84.203728|               0.0|         16.0|         71.0|         10.0|          12.0|             0.0|      0|       0|       0|       0|      0|      0|         0|      0|   0|              0|             0|    2|   9|              0|                    0|           Cloudy|\n",
      "|       3|         42.291237|        -84.203728|               0.0|         16.0|         74.0|         10.0|           9.0|             0.0|      0|       0|       0|       0|      0|      0|         0|      0|   0|              0|             0|    2|   8|              0|                    0|           Cloudy|\n",
      "|       2| 42.29078650454383|-84.20128941495798|             0.363|         16.0|         74.0|         10.0|           9.0|             0.0|      0|       0|       0|       1|      0|      0|         0|      0|   0|              0|             0|    2|   8|              0|                    0|           Cloudy|\n",
      "|       2| 42.29078650454383|-84.20128941495798|             0.363|         16.0|         74.0|         10.0|           9.0|             0.0|      0|       0|       0|       1|      0|      0|         0|      0|   0|              0|             0|    2|   8|              0|                    0|           Cloudy|\n",
      "|       3|         42.291218|        -84.205589|               0.0|         18.0|         74.0|         10.0|           9.0|             0.0|      0|       0|       0|       0|      0|      0|         0|      0|   0|              0|             0|    2|  18|              1|                    0|           Normal|\n",
      "|       2| 42.29158043841223|-84.20787692029853|             0.468|         18.0|         74.0|         10.0|           9.0|             0.0|      0|       0|       0|       1|      0|      0|         0|      0|   0|              0|             0|    2|  18|              1|                    0|           Normal|\n",
      "|       2| 42.29158043841223|-84.20787692029853|             0.468|         18.0|         74.0|         10.0|           9.0|             0.0|      0|       0|       0|       1|      0|      0|         0|      0|   0|              0|             0|    2|  19|              1|                    0|           Normal|\n",
      "|       2| 42.29158043841223|-84.20787692029853|             0.468|         18.0|         74.0|         10.0|           9.0|             0.0|      0|       0|       0|       1|      0|      0|         0|      0|   0|              0|             0|    2|  18|              1|                    0|           Normal|\n",
      "|       2| 42.29175209978917|-84.24894690473437|2.0980000000000003|         25.0|         92.0|          0.5|          12.0|            0.02|      0|       0|       0|       0|      0|      0|         0|      0|   0|              0|             0|    2|  17|              0|                    0|             Snow|\n",
      "|       3|         42.291508|        -84.261375|               0.0|         27.0|         86.0|         0.25|          10.0|            0.03|      0|       0|       0|       0|      0|      0|         0|      0|   0|              0|             0|    2|  15|              0|                    0|             Snow|\n",
      "|       3|         42.291508|        -84.261375|               0.0|         28.0|         88.0|          1.0|          10.0|             0.0|      0|       0|       0|       0|      0|      0|         0|      0|   0|              0|             0|    2|  15|              0|                    0|             Snow|\n",
      "|       2|         42.291914|        -84.256819|             17.21|         28.0|         88.0|          1.0|          10.0|             0.0|      0|       0|       0|       0|      0|      0|         0|      0|   0|              0|             0|    2|  15|              0|                    0|             Snow|\n",
      "|       3|         42.291508|        -84.261375|               0.0|         32.0|        100.0|          0.5|           7.0|            0.03|      0|       0|       0|       0|      0|      0|         0|      0|   0|              0|             0|    2|   8|              0|                    0|             Snow|\n",
      "|       2|          42.28931|        -84.273064|             0.687|         32.0|        100.0|          0.5|           7.0|            0.03|      0|       0|       0|       0|      0|      0|         0|      0|   0|              0|             0|    2|   8|              0|                    0|             Snow|\n",
      "|       2|         42.271773|-84.40369100000002|              2.69|         22.0|         75.0|          3.0|          22.0|             0.0|      0|       0|       0|       0|      0|      0|         0|      0|   0|              0|             0|    2|   3|              1|                    1|             Snow|\n",
      "|       2|         42.272562|        -84.415959|              2.07|         22.0|         75.0|          3.0|          22.0|             0.0|      0|       0|       0|       0|      0|      0|         0|      0|   0|              0|             0|    2|   3|              1|                    1|             Snow|\n",
      "+--------+------------------+------------------+------------------+-------------+-------------+-------------+--------------+----------------+-------+--------+--------+--------+-------+-------+----------+-------+----+---------------+--------------+-----+----+---------------+---------------------+-----------------+\n",
      "only showing top 20 rows\n",
      "\n"
     ]
    }
   ],
   "source": [
    "from pyspark.sql.functions import when, count, isnull\n",
    "\n",
    "\n",
    "\n",
    "df_class = df_class.withColumn(\"Astronomical_Twilight\", when(df_class[\"Astronomical_Twilight\"] == 'Day', 0).otherwise(1))\n",
    "df_class = df_class.withColumn(\"Working_Weekend\", when(df_class[\"Working_Weekend\"] == 'WorkingDay', 0).otherwise(1))\n",
    "\n",
    "\n",
    "df_class.show()"
   ]
  },
  {
   "cell_type": "code",
   "execution_count": 9,
   "id": "f951d8e3-59b3-484b-878e-ecad08f350e3",
   "metadata": {
    "tags": []
   },
   "outputs": [
    {
     "name": "stderr",
     "output_type": "stream",
     "text": [
      "                                                                                \r"
     ]
    },
    {
     "name": "stdout",
     "output_type": "stream",
     "text": [
      "+--------+------------------+------------------+------------------+-------------+-------------+-------------+--------------+----------------+-------+--------+--------+--------+-------+-------+----------+-------+----+---------------+--------------+-----+----+---------------+---------------------+----------------------+\n",
      "|Severity|         Start_Lat|         Start_Lng|       Distance_mi|Temperature_F|Humidity_perc|Visibility_mi|Wind_Speed_mph|Precipitation_in|Amenity|Crossing|Give_Way|Junction|No_Exit|Railway|Roundabout|Station|Stop|Traffic_Calming|Traffic_Signal|month|hour|Working_Weekend|Astronomical_Twilight|Weather_Condition_1hot|\n",
      "+--------+------------------+------------------+------------------+-------------+-------------+-------------+--------------+----------------+-------+--------+--------+--------+-------+-------+----------+-------+----+---------------+--------------+-----+----+---------------+---------------------+----------------------+\n",
      "|       2|         41.877678|        -86.088089|               0.0|         30.0|         64.0|         10.0|          13.0|             0.0|      0|       0|       0|       0|      0|      0|         0|      0|   0|              0|             0|    2|  15|              0|                    0|         (4,[1],[1.0])|\n",
      "|       1|41.883412599363886|-86.07864260632476|             0.647|         30.0|         64.0|         10.0|          13.0|             0.0|      0|       0|       0|       0|      0|      0|         0|      0|   0|              0|             0|    2|  15|              0|                    0|         (4,[1],[1.0])|\n",
      "|       1|         41.883422|-86.07864599999998|             0.927|         30.0|         64.0|         10.0|          10.0|             0.0|      0|       0|       0|       0|      0|      0|         0|      0|   0|              0|             0|    2|  16|              0|                    0|         (4,[1],[1.0])|\n",
      "|       1|41.883412599363886|-86.07864260632476|             0.647|         30.0|         64.0|         10.0|          10.0|             0.0|      0|       0|       0|       0|      0|      0|         0|      0|   0|              0|             0|    2|  16|              0|                    0|         (4,[1],[1.0])|\n",
      "|       2|         42.291237|        -84.203728|               0.0|         16.0|         71.0|         10.0|          12.0|             0.0|      0|       0|       0|       0|      0|      0|         0|      0|   0|              0|             0|    2|   9|              0|                    0|         (4,[0],[1.0])|\n",
      "|       2|         42.291237|        -84.203728|               0.0|         16.0|         74.0|         10.0|           9.0|             0.0|      0|       0|       0|       0|      0|      0|         0|      0|   0|              0|             0|    2|   8|              0|                    0|         (4,[0],[1.0])|\n",
      "|       1| 42.29078650454383|-84.20128941495798|             0.363|         16.0|         74.0|         10.0|           9.0|             0.0|      0|       0|       0|       1|      0|      0|         0|      0|   0|              0|             0|    2|   8|              0|                    0|         (4,[0],[1.0])|\n",
      "|       1| 42.29078650454383|-84.20128941495798|             0.363|         16.0|         74.0|         10.0|           9.0|             0.0|      0|       0|       0|       1|      0|      0|         0|      0|   0|              0|             0|    2|   8|              0|                    0|         (4,[0],[1.0])|\n",
      "|       2|         42.291218|        -84.205589|               0.0|         18.0|         74.0|         10.0|           9.0|             0.0|      0|       0|       0|       0|      0|      0|         0|      0|   0|              0|             0|    2|  18|              1|                    0|         (4,[1],[1.0])|\n",
      "|       1| 42.29158043841223|-84.20787692029853|             0.468|         18.0|         74.0|         10.0|           9.0|             0.0|      0|       0|       0|       1|      0|      0|         0|      0|   0|              0|             0|    2|  18|              1|                    0|         (4,[1],[1.0])|\n",
      "|       1| 42.29158043841223|-84.20787692029853|             0.468|         18.0|         74.0|         10.0|           9.0|             0.0|      0|       0|       0|       1|      0|      0|         0|      0|   0|              0|             0|    2|  19|              1|                    0|         (4,[1],[1.0])|\n",
      "|       1| 42.29158043841223|-84.20787692029853|             0.468|         18.0|         74.0|         10.0|           9.0|             0.0|      0|       0|       0|       1|      0|      0|         0|      0|   0|              0|             0|    2|  18|              1|                    0|         (4,[1],[1.0])|\n",
      "|       1| 42.29175209978917|-84.24894690473437|2.0980000000000003|         25.0|         92.0|          0.5|          12.0|            0.02|      0|       0|       0|       0|      0|      0|         0|      0|   0|              0|             0|    2|  17|              0|                    0|         (4,[2],[1.0])|\n",
      "|       2|         42.291508|        -84.261375|               0.0|         27.0|         86.0|         0.25|          10.0|            0.03|      0|       0|       0|       0|      0|      0|         0|      0|   0|              0|             0|    2|  15|              0|                    0|         (4,[2],[1.0])|\n",
      "|       2|         42.291508|        -84.261375|               0.0|         28.0|         88.0|          1.0|          10.0|             0.0|      0|       0|       0|       0|      0|      0|         0|      0|   0|              0|             0|    2|  15|              0|                    0|         (4,[2],[1.0])|\n",
      "|       1|         42.291914|        -84.256819|             17.21|         28.0|         88.0|          1.0|          10.0|             0.0|      0|       0|       0|       0|      0|      0|         0|      0|   0|              0|             0|    2|  15|              0|                    0|         (4,[2],[1.0])|\n",
      "|       2|         42.291508|        -84.261375|               0.0|         32.0|        100.0|          0.5|           7.0|            0.03|      0|       0|       0|       0|      0|      0|         0|      0|   0|              0|             0|    2|   8|              0|                    0|         (4,[2],[1.0])|\n",
      "|       1|          42.28931|        -84.273064|             0.687|         32.0|        100.0|          0.5|           7.0|            0.03|      0|       0|       0|       0|      0|      0|         0|      0|   0|              0|             0|    2|   8|              0|                    0|         (4,[2],[1.0])|\n",
      "|       1|         42.271773|-84.40369100000002|              2.69|         22.0|         75.0|          3.0|          22.0|             0.0|      0|       0|       0|       0|      0|      0|         0|      0|   0|              0|             0|    2|   3|              1|                    1|         (4,[2],[1.0])|\n",
      "|       1|         42.272562|        -84.415959|              2.07|         22.0|         75.0|          3.0|          22.0|             0.0|      0|       0|       0|       0|      0|      0|         0|      0|   0|              0|             0|    2|   3|              1|                    1|         (4,[2],[1.0])|\n",
      "+--------+------------------+------------------+------------------+-------------+-------------+-------------+--------------+----------------+-------+--------+--------+--------+-------+-------+----------+-------+----+---------------+--------------+-----+----+---------------+---------------------+----------------------+\n",
      "only showing top 20 rows\n",
      "\n"
     ]
    }
   ],
   "source": [
    "indexer = StringIndexer(inputCol=\"Weather_Condition\", outputCol=\"Weather_Condition_Indexed\")\n",
    "df_class = indexer.fit(df_class).transform(df_class)\n",
    "\n",
    "from pyspark.ml.feature import OneHotEncoder\n",
    "onehotencoder_vector = OneHotEncoder(inputCol=\"Weather_Condition_Indexed\", outputCol=\"Weather_Condition_1hot\")\n",
    "df_class = onehotencoder_vector.fit(df_class).transform(df_class)\n",
    "\n",
    "df_class=df_class.drop('Weather_Condition')\n",
    "#df_class.show()\n",
    "df_class=df_class.drop('Weather_Condition_Indexed')\n",
    "num_col = [item[0] for item in df_class.dtypes if not item[1].startswith('string')]\n",
    "num_col.remove(\"Severity\")\n",
    "\n",
    "df_rf= df_class.withColumn(\"Severity\", col(\"Severity\") - 1)\n",
    "df_rf.show()"
   ]
  },
  {
   "cell_type": "code",
   "execution_count": 10,
   "id": "a1d8c2c6-661a-4185-9fbd-0b00dd1bbbd0",
   "metadata": {
    "tags": []
   },
   "outputs": [
    {
     "name": "stdout",
     "output_type": "stream",
     "text": [
      "+------------------------------------------------------------------------------------------------------------------------------+--------+\n",
      "|features                                                                                                                      |Severity|\n",
      "+------------------------------------------------------------------------------------------------------------------------------+--------+\n",
      "|(27,[0,1,3,4,5,6,19,20,24],[41.877678,-86.088089,30.0,64.0,10.0,13.0,2.0,15.0,1.0])                                           |2       |\n",
      "|(27,[0,1,2,3,4,5,6,19,20,24],[41.883412599363886,-86.07864260632476,0.647,30.0,64.0,10.0,13.0,2.0,15.0,1.0])                  |1       |\n",
      "|(27,[0,1,2,3,4,5,6,19,20,24],[41.883422,-86.07864599999998,0.927,30.0,64.0,10.0,10.0,2.0,16.0,1.0])                           |1       |\n",
      "|(27,[0,1,2,3,4,5,6,19,20,24],[41.883412599363886,-86.07864260632476,0.647,30.0,64.0,10.0,10.0,2.0,16.0,1.0])                  |1       |\n",
      "|(27,[0,1,3,4,5,6,19,20,23],[42.291237,-84.203728,16.0,71.0,10.0,12.0,2.0,9.0,1.0])                                            |2       |\n",
      "|(27,[0,1,3,4,5,6,19,20,23],[42.291237,-84.203728,16.0,74.0,10.0,9.0,2.0,8.0,1.0])                                             |2       |\n",
      "|(27,[0,1,2,3,4,5,6,11,19,20,23],[42.29078650454383,-84.20128941495798,0.363,16.0,74.0,10.0,9.0,1.0,2.0,8.0,1.0])              |1       |\n",
      "|(27,[0,1,2,3,4,5,6,11,19,20,23],[42.29078650454383,-84.20128941495798,0.363,16.0,74.0,10.0,9.0,1.0,2.0,8.0,1.0])              |1       |\n",
      "|(27,[0,1,3,4,5,6,19,20,21,24],[42.291218,-84.205589,18.0,74.0,10.0,9.0,2.0,18.0,1.0,1.0])                                     |2       |\n",
      "|(27,[0,1,2,3,4,5,6,11,19,20,21,24],[42.29158043841223,-84.20787692029853,0.468,18.0,74.0,10.0,9.0,1.0,2.0,18.0,1.0,1.0])      |1       |\n",
      "|(27,[0,1,2,3,4,5,6,11,19,20,21,24],[42.29158043841223,-84.20787692029853,0.468,18.0,74.0,10.0,9.0,1.0,2.0,19.0,1.0,1.0])      |1       |\n",
      "|(27,[0,1,2,3,4,5,6,11,19,20,21,24],[42.29158043841223,-84.20787692029853,0.468,18.0,74.0,10.0,9.0,1.0,2.0,18.0,1.0,1.0])      |1       |\n",
      "|(27,[0,1,2,3,4,5,6,7,19,20,25],[42.29175209978917,-84.24894690473437,2.0980000000000003,25.0,92.0,0.5,12.0,0.02,2.0,17.0,1.0])|1       |\n",
      "|(27,[0,1,3,4,5,6,7,19,20,25],[42.291508,-84.261375,27.0,86.0,0.25,10.0,0.03,2.0,15.0,1.0])                                    |2       |\n",
      "|(27,[0,1,3,4,5,6,19,20,25],[42.291508,-84.261375,28.0,88.0,1.0,10.0,2.0,15.0,1.0])                                            |2       |\n",
      "|(27,[0,1,2,3,4,5,6,19,20,25],[42.291914,-84.256819,17.21,28.0,88.0,1.0,10.0,2.0,15.0,1.0])                                    |1       |\n",
      "|(27,[0,1,3,4,5,6,7,19,20,25],[42.291508,-84.261375,32.0,100.0,0.5,7.0,0.03,2.0,8.0,1.0])                                      |2       |\n",
      "|(27,[0,1,2,3,4,5,6,7,19,20,25],[42.28931,-84.273064,0.687,32.0,100.0,0.5,7.0,0.03,2.0,8.0,1.0])                               |1       |\n",
      "|(27,[0,1,2,3,4,5,6,19,20,21,22,25],[42.271773,-84.40369100000002,2.69,22.0,75.0,3.0,22.0,2.0,3.0,1.0,1.0,1.0])                |1       |\n",
      "|(27,[0,1,2,3,4,5,6,19,20,21,22,25],[42.272562,-84.415959,2.07,22.0,75.0,3.0,22.0,2.0,3.0,1.0,1.0,1.0])                        |1       |\n",
      "+------------------------------------------------------------------------------------------------------------------------------+--------+\n",
      "only showing top 20 rows\n",
      "\n"
     ]
    }
   ],
   "source": [
    "assembler = VectorAssembler(inputCols=num_col, outputCol=\"features\")\n",
    "\n",
    "output_dataset = assembler.transform(df_rf)\n",
    "\n",
    "classificationData = output_dataset.select(\"features\", \"Severity\")\n",
    "\n",
    "classificationData.show(truncate=False)"
   ]
  },
  {
   "cell_type": "code",
   "execution_count": 11,
   "id": "9610464d-228b-42cc-bf84-a5e1b2116cba",
   "metadata": {
    "tags": []
   },
   "outputs": [],
   "source": [
    "(trainingData, testData) = classificationData.randomSplit([0.7, 0.3],seed=0)"
   ]
  },
  {
   "cell_type": "code",
   "execution_count": 12,
   "id": "e501f24b-aca3-4d96-a28a-72c3ee5423ac",
   "metadata": {
    "tags": []
   },
   "outputs": [
    {
     "name": "stderr",
     "output_type": "stream",
     "text": [
      "                                                                                \r"
     ]
    },
    {
     "name": "stdout",
     "output_type": "stream",
     "text": [
      "0.940178141550313\n",
      "Test Error = 0.0598219\n"
     ]
    },
    {
     "name": "stderr",
     "output_type": "stream",
     "text": [
      "/opt/conda/lib/python3.10/site-packages/pyspark/sql/context.py:158: FutureWarning: Deprecated in 3.0.0. Use SparkSession.builder.getOrCreate() instead.\n",
      "  warnings.warn(\n",
      "                                                                                \r"
     ]
    },
    {
     "name": "stdout",
     "output_type": "stream",
     "text": [
      "Max Depth :  5\n"
     ]
    },
    {
     "name": "stderr",
     "output_type": "stream",
     "text": [
      "                                                                                \r"
     ]
    },
    {
     "name": "stdout",
     "output_type": "stream",
     "text": [
      "Precision for class  0 : 74.57%\n",
      "Recall for class  0 : 47.07%\n",
      "avg_F1-Score for class  0 : 57.71%\n",
      "----------------------------\n",
      "Precision for class  1 : 94.72%\n",
      "Recall for class  1 : 99.36%\n",
      "avg_F1-Score for class  1 : 96.99%\n",
      "----------------------------\n",
      "Precision for class  2 : 56.11%\n",
      "Recall for class  2 : 27.82%\n",
      "avg_F1-Score for class  2 : 37.20%\n",
      "----------------------------\n",
      "Precision for class  3 : 0.00%\n",
      "Recall for class  3 : 0.00%\n",
      "avg_F1-Score for class  3 : 0.00%\n",
      "----------------------------\n",
      "[0.5771276595744681, 0.9698678562410571, 0.37199124726477023, 0.0]\n",
      "----------------------\n",
      "avg_F1-Score: 47.97%\n"
     ]
    },
    {
     "name": "stderr",
     "output_type": "stream",
     "text": [
      "                                                                                \r"
     ]
    },
    {
     "name": "stdout",
     "output_type": "stream",
     "text": [
      "0.9473599743219387\n",
      "Test Error = 0.05264\n"
     ]
    },
    {
     "name": "stderr",
     "output_type": "stream",
     "text": [
      "                                                                                \r"
     ]
    },
    {
     "name": "stdout",
     "output_type": "stream",
     "text": [
      "Max Depth :  10\n"
     ]
    },
    {
     "name": "stderr",
     "output_type": "stream",
     "text": [
      "                                                                                \r"
     ]
    },
    {
     "name": "stdout",
     "output_type": "stream",
     "text": [
      "Precision for class  0 : 74.61%\n",
      "Recall for class  0 : 61.82%\n",
      "avg_F1-Score for class  0 : 67.62%\n",
      "----------------------------\n",
      "Precision for class  1 : 95.73%\n",
      "Recall for class  1 : 98.98%\n",
      "avg_F1-Score for class  1 : 97.33%\n",
      "----------------------------\n",
      "Precision for class  2 : 66.25%\n",
      "Recall for class  2 : 60.39%\n",
      "avg_F1-Score for class  2 : 63.18%\n",
      "----------------------------\n",
      "Precision for class  3 : 0.00%\n",
      "Recall for class  3 : 0.00%\n",
      "avg_F1-Score for class  3 : 0.00%\n",
      "----------------------------\n",
      "[0.6761565836298932, 0.9732915041546549, 0.6318493150684932, 0.0]\n",
      "----------------------\n",
      "avg_F1-Score: 57.03%\n"
     ]
    },
    {
     "name": "stderr",
     "output_type": "stream",
     "text": [
      "23/12/14 20:49:11 WARN DAGScheduler: Broadcasting large task binary with size 1217.1 KiB\n",
      "23/12/14 20:49:12 WARN DAGScheduler: Broadcasting large task binary with size 1608.5 KiB\n",
      "23/12/14 20:49:13 WARN DAGScheduler: Broadcasting large task binary with size 2032.7 KiB\n",
      "23/12/14 20:49:14 WARN DAGScheduler: Broadcasting large task binary with size 2.4 MiB\n",
      "23/12/14 20:49:15 WARN DAGScheduler: Broadcasting large task binary with size 1341.2 KiB\n",
      "                                                                                \r"
     ]
    },
    {
     "name": "stdout",
     "output_type": "stream",
     "text": [
      "0.9443508265125983\n",
      "Test Error = 0.0556492\n"
     ]
    },
    {
     "name": "stderr",
     "output_type": "stream",
     "text": [
      "23/12/14 20:49:17 WARN DAGScheduler: Broadcasting large task binary with size 1329.6 KiB\n"
     ]
    },
    {
     "name": "stdout",
     "output_type": "stream",
     "text": [
      "Max Depth :  15\n"
     ]
    },
    {
     "name": "stderr",
     "output_type": "stream",
     "text": [
      "23/12/14 20:49:17 WARN DAGScheduler: Broadcasting large task binary with size 1341.2 KiB\n",
      "                                                                                \r"
     ]
    },
    {
     "name": "stdout",
     "output_type": "stream",
     "text": [
      "Precision for class  0 : 73.15%\n",
      "Recall for class  0 : 68.55%\n",
      "avg_F1-Score for class  0 : 70.77%\n",
      "----------------------------\n",
      "Precision for class  1 : 95.83%\n",
      "Recall for class  1 : 98.56%\n",
      "avg_F1-Score for class  1 : 97.17%\n",
      "----------------------------\n",
      "Precision for class  2 : 67.30%\n",
      "Recall for class  2 : 58.27%\n",
      "avg_F1-Score for class  2 : 62.46%\n",
      "----------------------------\n",
      "Precision for class  3 : 5.50%\n",
      "Recall for class  3 : 0.91%\n",
      "avg_F1-Score for class  3 : 1.56%\n",
      "----------------------------\n",
      "[0.7077267637178052, 0.9717309981295698, 0.6245614035087719, 0.01564537157757497]\n",
      "----------------------\n",
      "avg_F1-Score: 57.99%\n"
     ]
    },
    {
     "name": "stderr",
     "output_type": "stream",
     "text": [
      "23/12/14 20:49:30 WARN DAGScheduler: Broadcasting large task binary with size 1217.1 KiB\n",
      "23/12/14 20:49:31 WARN DAGScheduler: Broadcasting large task binary with size 1608.5 KiB\n",
      "23/12/14 20:49:31 WARN DAGScheduler: Broadcasting large task binary with size 2032.7 KiB\n",
      "23/12/14 20:49:32 WARN DAGScheduler: Broadcasting large task binary with size 2.4 MiB\n",
      "23/12/14 20:49:33 WARN DAGScheduler: Broadcasting large task binary with size 2.8 MiB\n",
      "23/12/14 20:49:34 WARN DAGScheduler: Broadcasting large task binary with size 3.2 MiB\n",
      "23/12/14 20:49:35 WARN DAGScheduler: Broadcasting large task binary with size 3.6 MiB\n",
      "23/12/14 20:49:37 WARN DAGScheduler: Broadcasting large task binary with size 3.9 MiB\n",
      "23/12/14 20:49:38 WARN DAGScheduler: Broadcasting large task binary with size 4.2 MiB\n",
      "23/12/14 20:49:40 WARN DAGScheduler: Broadcasting large task binary with size 2.2 MiB\n",
      "                                                                                \r"
     ]
    },
    {
     "name": "stdout",
     "output_type": "stream",
     "text": [
      "0.938613384689456\n",
      "Test Error = 0.0613866\n"
     ]
    },
    {
     "name": "stderr",
     "output_type": "stream",
     "text": [
      "23/12/14 20:49:43 WARN DAGScheduler: Broadcasting large task binary with size 2.2 MiB\n"
     ]
    },
    {
     "name": "stdout",
     "output_type": "stream",
     "text": [
      "Max Depth :  20\n"
     ]
    },
    {
     "name": "stderr",
     "output_type": "stream",
     "text": [
      "23/12/14 20:49:44 WARN DAGScheduler: Broadcasting large task binary with size 2.2 MiB\n",
      "[Stage 162:===========>                                             (1 + 4) / 5]\r"
     ]
    },
    {
     "name": "stdout",
     "output_type": "stream",
     "text": [
      "Precision for class  0 : 71.63%\n",
      "Recall for class  0 : 66.81%\n",
      "avg_F1-Score for class  0 : 69.14%\n",
      "----------------------------\n",
      "Precision for class  1 : 95.83%\n",
      "Recall for class  1 : 97.92%\n",
      "avg_F1-Score for class  1 : 96.86%\n",
      "----------------------------\n",
      "Precision for class  2 : 65.31%\n",
      "Recall for class  2 : 57.94%\n",
      "avg_F1-Score for class  2 : 61.41%\n",
      "----------------------------\n",
      "Precision for class  3 : 7.97%\n",
      "Recall for class  3 : 3.04%\n",
      "avg_F1-Score for class  3 : 4.40%\n",
      "----------------------------\n",
      "[0.691358024691358, 0.9686320503251946, 0.614050303555941, 0.044004400440044]\n",
      "----------------------\n",
      "avg_F1-Score: 57.95%\n"
     ]
    },
    {
     "name": "stderr",
     "output_type": "stream",
     "text": [
      "                                                                                \r"
     ]
    }
   ],
   "source": [
    "from pyspark.ml import Pipeline\n",
    "from pyspark.ml.classification import RandomForestClassifier\n",
    "from pyspark.ml.feature import IndexToString, StringIndexer, VectorIndexer\n",
    "from pyspark.ml.evaluation import MulticlassClassificationEvaluator\n",
    "from pyspark.mllib.evaluation import MulticlassMetrics\n",
    " \n",
    " \n",
    "# Train a RandomForest model.\n",
    "for max_depth in range (5,21,5):\n",
    "    rf = RandomForestClassifier(labelCol=\"Severity\", featuresCol=\"features\", numTrees=5,maxDepth=max_depth)\n",
    "    \n",
    "    \n",
    "    # Train model.  This also runs the indexers.\n",
    "    model = rf.fit(trainingData)\n",
    "    \n",
    "    \n",
    "    # Make predictions.\n",
    "    predictions = model.transform(testData)\n",
    "    \n",
    "    evaluator = MulticlassClassificationEvaluator(labelCol=\"Severity\"\n",
    "                                                , predictionCol=\"prediction\"\n",
    "                                                , metricName=\"accuracy\")\n",
    "    \n",
    "    accuracy = evaluator.evaluate(predictions)\n",
    "    print(accuracy)\n",
    "    print(\"Test Error = %g\" % (1.0 - accuracy))\n",
    "    from pyspark.mllib.evaluation import MulticlassMetrics\n",
    "    # Calcolare precision, recall e F1-score\n",
    "    predictionAndLabels = predictions.select(\"prediction\", \"Severity\").rdd.map(lambda x: (float(x[0]), float(x[1])))\n",
    "    metrics = MulticlassMetrics(predictionAndLabels)\n",
    "    print(\"Max Depth : \",max_depth)\n",
    "    list_avg=[]\n",
    "    for i in range(4):\n",
    "        precision = metrics.precision(label=float(i))  \n",
    "        recall = metrics.recall(label=float(i))\n",
    "        f1Score= metrics.fMeasure(label=float(i)) # need .0\n",
    "        print(\"Precision for class \",i,\": {:.2%}\".format(precision))\n",
    "        print(\"Recall for class \",i,\": {:.2%}\".format(recall))\n",
    "        print(\"avg_F1-Score for class \",i,\": {:.2%}\".format(f1Score))\n",
    "        list_avg.append(f1Score)\n",
    "        print('----------------------------')\n",
    "    sum_=0\n",
    "    print(list_avg)\n",
    "    for elem in list_avg:\n",
    "        sum_+=elem\n",
    "    \n",
    "    avg_f1=sum_/4\n",
    "    print('----------------------')\n",
    "    \n",
    "    print(\"avg_F1-Score: {:.2%}\".format(avg_f1))"
   ]
  },
  {
   "cell_type": "code",
   "execution_count": 13,
   "id": "fba4016a-9451-4853-9c13-457808440646",
   "metadata": {
    "tags": []
   },
   "outputs": [
    {
     "data": {
      "text/plain": [
       "<Axes: >"
      ]
     },
     "execution_count": 13,
     "metadata": {},
     "output_type": "execute_result"
    },
    {
     "data": {
      "image/png": "[encoded data removed]",
      "text/plain": [
       "<Figure size 700x700 with 1 Axes>"
      ]
     },
     "metadata": {},
     "output_type": "display_data"
    }
   ],
   "source": [
    "import seaborn as sns\n",
    "import matplotlib.pyplot as plt\n",
    "\n",
    "labels = [\"0\", \"1\", \"2\", \"3\"]\n",
    "_ = plt.figure(figsize=(7, 7))\n",
    "sns.heatmap(metrics.confusionMatrix().toArray(),\n",
    "            cmap='viridis',\n",
    "            annot=True,fmt='0',\n",
    "            cbar=False, \n",
    "            xticklabels=labels, \n",
    "            yticklabels=labels)"
   ]
  },
  {
   "cell_type": "code",
   "execution_count": 14,
   "id": "3f2e770f-cb41-4884-8986-7462707d762e",
   "metadata": {
    "tags": []
   },
   "outputs": [
    {
     "data": {
      "text/plain": [
       "SparseVector(27, {0: 0.1074, 1: 0.1009, 2: 0.312, 3: 0.0882, 4: 0.0622, 5: 0.0175, 6: 0.0562, 7: 0.0116, 8: 0.0009, 9: 0.0083, 10: 0.0018, 11: 0.0091, 12: 0.0005, 13: 0.0004, 15: 0.0038, 16: 0.0024, 17: 0.0003, 18: 0.0194, 19: 0.0627, 20: 0.0804, 21: 0.0191, 22: 0.0069, 23: 0.0107, 24: 0.0102, 25: 0.0039, 26: 0.0033})"
      ]
     },
     "execution_count": 14,
     "metadata": {},
     "output_type": "execute_result"
    }
   ],
   "source": [
    "model.featureImportances"
   ]
  },
  {
   "cell_type": "code",
   "execution_count": 15,
   "id": "0548d1e3-3108-40fd-887c-6c0628d938d9",
   "metadata": {
    "tags": []
   },
   "outputs": [
    {
     "name": "stderr",
     "output_type": "stream",
     "text": [
      "23/12/14 20:49:47 WARN DAGScheduler: Broadcasting large task binary with size 2.2 MiB\n",
      "23/12/14 20:49:52 WARN DAGScheduler: Broadcasting large task binary with size 2.2 MiB\n",
      "                                                                                \r"
     ]
    },
    {
     "data": {
      "text/plain": [
       "[Row(prediction=0.0),\n",
       " Row(prediction=1.0),\n",
       " Row(prediction=3.0),\n",
       " Row(prediction=2.0)]"
      ]
     },
     "execution_count": 15,
     "metadata": {},
     "output_type": "execute_result"
    }
   ],
   "source": [
    "predictions.select('prediction').distinct().collect()"
   ]
  },
  {
   "cell_type": "code",
   "execution_count": 16,
   "id": "931471fd-b312-4a82-8ab4-a1aff21aa4d0",
   "metadata": {
    "tags": []
   },
   "outputs": [
    {
     "name": "stdout",
     "output_type": "stream",
     "text": [
      "Counts of predictions in the test set:\n"
     ]
    },
    {
     "name": "stderr",
     "output_type": "stream",
     "text": [
      "23/12/14 20:49:52 WARN DAGScheduler: Broadcasting large task binary with size 2.2 MiB\n",
      "[Stage 167:======================>                                  (2 + 3) / 5]\r"
     ]
    },
    {
     "name": "stdout",
     "output_type": "stream",
     "text": [
      "+----------+-----+\n",
      "|prediction|count|\n",
      "+----------+-----+\n",
      "|       0.0|  430|\n",
      "|       1.0|23701|\n",
      "|       3.0|  251|\n",
      "|       2.0|  542|\n",
      "+----------+-----+\n",
      "\n"
     ]
    },
    {
     "name": "stderr",
     "output_type": "stream",
     "text": [
      "23/12/14 20:49:55 WARN DAGScheduler: Broadcasting large task binary with size 2.2 MiB\n",
      "                                                                                \r"
     ]
    }
   ],
   "source": [
    "prediction_counts = predictions.groupBy(\"prediction\").count()\n",
    "\n",
    "# Stampare i risultati\n",
    "print(\"Counts of predictions in the test set:\")\n",
    "prediction_counts.show()"
   ]
  },
  {
   "cell_type": "code",
   "execution_count": 17,
   "id": "f415c115-11d1-4d9c-a6c6-40847fd599f7",
   "metadata": {
    "tags": []
   },
   "outputs": [
    {
     "name": "stderr",
     "output_type": "stream",
     "text": [
      "[Stage 170:===========>                                             (1 + 4) / 5]\r"
     ]
    },
    {
     "name": "stdout",
     "output_type": "stream",
     "text": [
      "+--------+-----+\n",
      "|Severity|count|\n",
      "+--------+-----+\n",
      "|       1|23194|\n",
      "|       3|  658|\n",
      "|       2|  611|\n",
      "|       0|  461|\n",
      "+--------+-----+\n",
      "\n"
     ]
    },
    {
     "name": "stderr",
     "output_type": "stream",
     "text": [
      "                                                                                \r"
     ]
    }
   ],
   "source": [
    "prediction_counts = predictions.groupBy(\"Severity\").count()\n",
    "\n",
    "# Stampare i risultati\n",
    "prediction_counts.show()"
   ]
  },
  {
   "cell_type": "code",
   "execution_count": 18,
   "id": "cbacc1a8-25d1-49dc-895b-b6662d0c5223",
   "metadata": {
    "tags": []
   },
   "outputs": [
    {
     "name": "stderr",
     "output_type": "stream",
     "text": [
      "[Stage 173:===========>                                             (1 + 4) / 5]\r"
     ]
    },
    {
     "name": "stdout",
     "output_type": "stream",
     "text": [
      "+--------+-----+\n",
      "|Severity|count|\n",
      "+--------+-----+\n",
      "|       1|54316|\n",
      "|       3| 1513|\n",
      "|       2| 1517|\n",
      "|       0|  997|\n",
      "+--------+-----+\n",
      "\n"
     ]
    },
    {
     "name": "stderr",
     "output_type": "stream",
     "text": [
      "                                                                                \r"
     ]
    }
   ],
   "source": [
    "severity_counts_train= trainingData.groupBy(\"Severity\").count()\n",
    "\n",
    "# Mostra il risultato\n",
    "severity_counts_train.show()"
   ]
  },
  {
   "cell_type": "code",
   "execution_count": 19,
   "id": "88f3ea56-8c34-49f3-b79e-61458413ab12",
   "metadata": {
    "tags": []
   },
   "outputs": [
    {
     "name": "stderr",
     "output_type": "stream",
     "text": [
      "[Stage 176:===========>                                             (1 + 4) / 5]\r"
     ]
    },
    {
     "name": "stdout",
     "output_type": "stream",
     "text": [
      "+--------+-----+\n",
      "|Severity|count|\n",
      "+--------+-----+\n",
      "|       1|23194|\n",
      "|       3|  658|\n",
      "|       2|  611|\n",
      "|       0|  461|\n",
      "+--------+-----+\n",
      "\n"
     ]
    },
    {
     "name": "stderr",
     "output_type": "stream",
     "text": [
      "                                                                                \r"
     ]
    }
   ],
   "source": [
    "severity_counts_test= testData.groupBy(\"Severity\").count()\n",
    "\n",
    "# Mostra il risultato\n",
    "severity_counts_test.show()"
   ]
  },
  {
   "cell_type": "code",
   "execution_count": 20,
   "id": "81e56542-3e4f-44c9-a7c0-e5ae0308f685",
   "metadata": {
    "tags": []
   },
   "outputs": [
    {
     "name": "stderr",
     "output_type": "stream",
     "text": [
      "23/12/14 20:50:03 WARN DAGScheduler: Broadcasting large task binary with size 2.2 MiB\n",
      "23/12/14 20:50:06 WARN DAGScheduler: Broadcasting large task binary with size 2.2 MiB\n",
      "/opt/conda/lib/python3.10/site-packages/pyspark/sql/context.py:158: FutureWarning: Deprecated in 3.0.0. Use SparkSession.builder.getOrCreate() instead.\n",
      "  warnings.warn(\n",
      "23/12/14 20:50:08 WARN DAGScheduler: Broadcasting large task binary with size 2.2 MiB\n",
      "23/12/14 20:50:08 WARN DAGScheduler: Broadcasting large task binary with size 2.2 MiB\n"
     ]
    },
    {
     "name": "stdout",
     "output_type": "stream",
     "text": [
      "DenseMatrix([[3.0800e+02, 1.2600e+02, 2.6000e+01, 1.0000e+00],\n",
      "             [9.7000e+01, 2.2712e+04, 1.5700e+02, 2.2800e+02],\n",
      "             [2.5000e+01, 2.3000e+02, 3.5400e+02, 2.0000e+00],\n",
      "             [0.0000e+00, 6.3300e+02, 5.0000e+00, 2.0000e+01]])\n"
     ]
    }
   ],
   "source": [
    "from pyspark.sql.types import FloatType\n",
    "from pyspark.mllib.evaluation import MulticlassMetrics\n",
    "\n",
    "from pyspark.sql import functions as F\n",
    "\n",
    "#important: need to cast to float type, and order by prediction, else it won't work\n",
    "preds_and_labels = predictions.select(['prediction','Severity']).withColumn('label', F.col('Severity').cast(FloatType())).orderBy('prediction')\n",
    "\n",
    "#select only prediction and label columns\n",
    "preds_and_labels = preds_and_labels.select(['prediction','label'])\n",
    "\n",
    "metrics = MulticlassMetrics(preds_and_labels.rdd.map(tuple))\n",
    "\n",
    "print(metrics.confusionMatrix())"
   ]
  },
  {
   "cell_type": "markdown",
   "id": "8f2243d2-fe9e-45ee-a50f-7ab9bd76e26f",
   "metadata": {},
   "source": [
    "# UNDERSAMPLING\n",
    "Performing Undersampling(Severity=1) on trainingData\n",
    "\n",
    "Undersampling -> Faccio una media delle occorrenze delle altre tre classi e riduco la classe di maggioranza a quel numero"
   ]
  },
  {
   "cell_type": "code",
   "execution_count": 21,
   "id": "1f9434a1-c9bd-4916-9a14-952eec3b3e61",
   "metadata": {
    "tags": []
   },
   "outputs": [
    {
     "name": "stderr",
     "output_type": "stream",
     "text": [
      "                                                                                \r"
     ]
    }
   ],
   "source": [
    "g=trainingData.groupBy('Severity').agg(F.count('Severity').alias('Count'))\n",
    "g=g.sort('Severity')\n",
    "g_p=g.toPandas()\n",
    "n_0=g_p.iloc[0,1]\n",
    "n_1=g_p.iloc[1,1]\n",
    "n_2=g_p.iloc[2,1]\n",
    "n_3=g_p.iloc[3,1]"
   ]
  },
  {
   "cell_type": "code",
   "execution_count": 22,
   "id": "1a48cfab-73b4-450f-9525-2a16e62a0e72",
   "metadata": {
    "tags": []
   },
   "outputs": [
    {
     "name": "stderr",
     "output_type": "stream",
     "text": [
      "[Stage 194:==================================>                      (3 + 2) / 5]\r"
     ]
    },
    {
     "name": "stdout",
     "output_type": "stream",
     "text": [
      "+--------+-----+\n",
      "|Severity|count|\n",
      "+--------+-----+\n",
      "|       1| 1277|\n",
      "|       3| 1513|\n",
      "|       2| 1517|\n",
      "|       0|  997|\n",
      "+--------+-----+\n",
      "\n"
     ]
    },
    {
     "name": "stderr",
     "output_type": "stream",
     "text": [
      "                                                                                \r"
     ]
    }
   ],
   "source": [
    "und=(n_0+n_2+n_3)/3\n",
    "train_und = trainingData.sampleBy('Severity', fractions={0:1.0 ,1: und/n_1 , 2:1.0, 3:1.0})\n",
    "result_counts=train_und.groupBy(\"Severity\").count()\n",
    "result_counts.show()"
   ]
  },
  {
   "cell_type": "markdown",
   "id": "c5c7d971-71bf-4710-ab65-fab707ae7ba7",
   "metadata": {},
   "source": [
    "Training & Testing random forest with training Data sampled"
   ]
  },
  {
   "cell_type": "code",
   "execution_count": 23,
   "id": "288679af-ac86-4f56-aae6-39d7db7df9e9",
   "metadata": {},
   "outputs": [
    {
     "name": "stderr",
     "output_type": "stream",
     "text": [
      "                                                                                \r"
     ]
    },
    {
     "name": "stdout",
     "output_type": "stream",
     "text": [
      "0.5897528486599262\n",
      "Test Error = 0.410247\n"
     ]
    },
    {
     "name": "stderr",
     "output_type": "stream",
     "text": [
      "/opt/conda/lib/python3.10/site-packages/pyspark/sql/context.py:158: FutureWarning: Deprecated in 3.0.0. Use SparkSession.builder.getOrCreate() instead.\n",
      "  warnings.warn(\n",
      "                                                                                \r"
     ]
    },
    {
     "name": "stdout",
     "output_type": "stream",
     "text": [
      "Max Depth :  5\n"
     ]
    },
    {
     "name": "stderr",
     "output_type": "stream",
     "text": [
      "                                                                                \r"
     ]
    },
    {
     "name": "stdout",
     "output_type": "stream",
     "text": [
      "Precision for class  0 : 56.98%\n",
      "Recall for class  0 : 85.90%\n",
      "avg_F1-Score for class  0 : 68.51%\n",
      "----------------------------\n",
      "Precision for class  1 : 98.83%\n",
      "Recall for class  1 : 57.39%\n",
      "avg_F1-Score for class  1 : 72.61%\n",
      "----------------------------\n",
      "Precision for class  2 : 31.65%\n",
      "Recall for class  2 : 79.05%\n",
      "avg_F1-Score for class  2 : 45.20%\n",
      "----------------------------\n",
      "Precision for class  3 : 5.51%\n",
      "Recall for class  3 : 77.36%\n",
      "avg_F1-Score for class  3 : 10.29%\n",
      "----------------------------\n",
      "[0.685121107266436, 0.7261271581703624, 0.45203556387459054, 0.10291144359078044]\n",
      "----------------------\n",
      "avg_F1-Score: 49.15%\n"
     ]
    },
    {
     "name": "stderr",
     "output_type": "stream",
     "text": [
      "                                                                                \r"
     ]
    },
    {
     "name": "stdout",
     "output_type": "stream",
     "text": [
      "0.649534585138822\n",
      "Test Error = 0.350465\n",
      "Max Depth :  10\n"
     ]
    },
    {
     "name": "stderr",
     "output_type": "stream",
     "text": [
      "                                                                                \r"
     ]
    },
    {
     "name": "stdout",
     "output_type": "stream",
     "text": [
      "Precision for class  0 : 56.23%\n",
      "Recall for class  0 : 88.07%\n",
      "avg_F1-Score for class  0 : 68.64%\n",
      "----------------------------\n",
      "Precision for class  1 : 98.93%\n",
      "Recall for class  1 : 63.60%\n",
      "avg_F1-Score for class  1 : 77.43%\n",
      "----------------------------\n",
      "Precision for class  2 : 35.34%\n",
      "Recall for class  2 : 82.82%\n",
      "avg_F1-Score for class  2 : 49.53%\n",
      "----------------------------\n",
      "Precision for class  3 : 6.68%\n",
      "Recall for class  3 : 79.79%\n",
      "avg_F1-Score for class  3 : 12.33%\n",
      "----------------------------\n",
      "[0.6863905325443787, 0.7742612711908885, 0.49534997552618704, 0.12329732268670737]\n",
      "----------------------\n",
      "avg_F1-Score: 51.98%\n"
     ]
    },
    {
     "name": "stderr",
     "output_type": "stream",
     "text": [
      "23/12/14 20:51:01 WARN DAGScheduler: Broadcasting large task binary with size 1039.8 KiB\n",
      "23/12/14 20:51:02 WARN DAGScheduler: Broadcasting large task binary with size 1159.9 KiB\n",
      "                                                                                \r"
     ]
    },
    {
     "name": "stdout",
     "output_type": "stream",
     "text": [
      "0.6502567806130637\n",
      "Test Error = 0.349743\n",
      "Max Depth :  15\n"
     ]
    },
    {
     "name": "stderr",
     "output_type": "stream",
     "text": [
      "                                                                                \r"
     ]
    },
    {
     "name": "stdout",
     "output_type": "stream",
     "text": [
      "Precision for class  0 : 45.90%\n",
      "Recall for class  0 : 87.42%\n",
      "avg_F1-Score for class  0 : 60.19%\n",
      "----------------------------\n",
      "Precision for class  1 : 98.82%\n",
      "Recall for class  1 : 63.74%\n",
      "avg_F1-Score for class  1 : 77.49%\n",
      "----------------------------\n",
      "Precision for class  2 : 30.27%\n",
      "Recall for class  2 : 84.12%\n",
      "avg_F1-Score for class  2 : 44.52%\n",
      "----------------------------\n",
      "Precision for class  3 : 6.86%\n",
      "Recall for class  3 : 77.05%\n",
      "avg_F1-Score for class  3 : 12.60%\n",
      "----------------------------\n",
      "[0.6019417475728155, 0.7749121979346858, 0.4452143785188393, 0.12602535421327365]\n",
      "----------------------\n",
      "avg_F1-Score: 48.70%\n"
     ]
    },
    {
     "name": "stderr",
     "output_type": "stream",
     "text": [
      "23/12/14 20:51:15 WARN DAGScheduler: Broadcasting large task binary with size 1039.8 KiB\n",
      "23/12/14 20:51:15 WARN DAGScheduler: Broadcasting large task binary with size 1159.9 KiB\n",
      "23/12/14 20:51:16 WARN DAGScheduler: Broadcasting large task binary with size 1258.2 KiB\n",
      "23/12/14 20:51:16 WARN DAGScheduler: Broadcasting large task binary with size 1331.1 KiB\n",
      "23/12/14 20:51:16 WARN DAGScheduler: Broadcasting large task binary with size 1391.7 KiB\n",
      "23/12/14 20:51:17 WARN DAGScheduler: Broadcasting large task binary with size 1434.9 KiB\n",
      "23/12/14 20:51:18 WARN DAGScheduler: Broadcasting large task binary with size 1464.5 KiB\n",
      "                                                                                \r"
     ]
    },
    {
     "name": "stdout",
     "output_type": "stream",
     "text": [
      "0.6539078799550634\n",
      "Test Error = 0.346092\n",
      "Max Depth :  20\n"
     ]
    },
    {
     "name": "stderr",
     "output_type": "stream",
     "text": [
      "[Stage 343:===========>                                             (1 + 4) / 5]\r"
     ]
    },
    {
     "name": "stdout",
     "output_type": "stream",
     "text": [
      "Precision for class  0 : 40.65%\n",
      "Recall for class  0 : 86.77%\n",
      "avg_F1-Score for class  0 : 55.36%\n",
      "----------------------------\n",
      "Precision for class  1 : 98.77%\n",
      "Recall for class  1 : 64.16%\n",
      "avg_F1-Score for class  1 : 77.79%\n",
      "----------------------------\n",
      "Precision for class  2 : 29.16%\n",
      "Recall for class  2 : 84.62%\n",
      "avg_F1-Score for class  2 : 43.37%\n",
      "----------------------------\n",
      "Precision for class  3 : 7.03%\n",
      "Recall for class  3 : 75.84%\n",
      "avg_F1-Score for class  3 : 12.86%\n",
      "----------------------------\n",
      "[0.5536332179930796, 0.7779200752724706, 0.43372483221476515, 0.12864140242330496]\n",
      "----------------------\n",
      "avg_F1-Score: 47.35%\n"
     ]
    },
    {
     "name": "stderr",
     "output_type": "stream",
     "text": [
      "                                                                                \r"
     ]
    }
   ],
   "source": [
    "from pyspark.ml import Pipeline\n",
    "from pyspark.ml.classification import RandomForestClassifier\n",
    "from pyspark.ml.feature import IndexToString, StringIndexer, VectorIndexer\n",
    "from pyspark.ml.evaluation import MulticlassClassificationEvaluator\n",
    "from pyspark.mllib.evaluation import MulticlassMetrics\n",
    " \n",
    " \n",
    "# Train a RandomForest model.\n",
    "for max_depth in range (5,21,5):\n",
    "    rf = RandomForestClassifier(labelCol=\"Severity\", featuresCol=\"features\", numTrees=5,maxDepth=max_depth)\n",
    "    \n",
    "    \n",
    "    # Train model.  This also runs the indexers.\n",
    "    model = rf.fit(train_und)\n",
    "    \n",
    "    \n",
    "    # Make predictions.\n",
    "    predictions = model.transform(testData)\n",
    "    \n",
    "    evaluator = MulticlassClassificationEvaluator(labelCol=\"Severity\"\n",
    "                                                , predictionCol=\"prediction\"\n",
    "                                                , metricName=\"accuracy\")\n",
    "    \n",
    "    accuracy = evaluator.evaluate(predictions)\n",
    "    print(accuracy)\n",
    "    print(\"Test Error = %g\" % (1.0 - accuracy))\n",
    "    from pyspark.mllib.evaluation import MulticlassMetrics\n",
    "    # Calcolare precision, recall e F1-score\n",
    "    predictionAndLabels = predictions.select(\"prediction\", \"Severity\").rdd.map(lambda x: (float(x[0]), float(x[1])))\n",
    "    metrics = MulticlassMetrics(predictionAndLabels)\n",
    "    print(\"Max Depth : \",max_depth)\n",
    "    list_avg=[]\n",
    "    for i in range(4):\n",
    "        precision = metrics.precision(label=float(i))  \n",
    "        recall = metrics.recall(label=float(i))\n",
    "        f1Score= metrics.fMeasure(label=float(i)) # need .0\n",
    "        print(\"Precision for class \",i,\": {:.2%}\".format(precision))\n",
    "        print(\"Recall for class \",i,\": {:.2%}\".format(recall))\n",
    "        print(\"avg_F1-Score for class \",i,\": {:.2%}\".format(f1Score))\n",
    "        list_avg.append(f1Score)\n",
    "        print('----------------------------')\n",
    "    sum_=0\n",
    "    print(list_avg)\n",
    "    for elem in list_avg:\n",
    "        sum_+=elem\n",
    "    \n",
    "    avg_f1=sum_/4\n",
    "    print('----------------------')\n",
    "    \n",
    "    print(\"avg_F1-Score: {:.2%}\".format(avg_f1))"
   ]
  },
  {
   "cell_type": "code",
   "execution_count": 24,
   "id": "492b3ef1-a398-4852-8483-b90368b17bf7",
   "metadata": {
    "tags": []
   },
   "outputs": [
    {
     "data": {
      "text/plain": [
       "<Axes: >"
      ]
     },
     "execution_count": 24,
     "metadata": {},
     "output_type": "execute_result"
    },
    {
     "data": {
      "image/png": "[encoded data removed]",
      "text/plain": [
       "<Figure size 700x700 with 1 Axes>"
      ]
     },
     "metadata": {},
     "output_type": "display_data"
    }
   ],
   "source": [
    "import seaborn as sns\n",
    "import matplotlib.pyplot as plt\n",
    "\n",
    "labels = [\"0\", \"1\", \"2\", \"3\"]\n",
    "_ = plt.figure(figsize=(7, 7))\n",
    "sns.heatmap(metrics.confusionMatrix().toArray(),\n",
    "            cmap='viridis',\n",
    "            annot=True,fmt='0',\n",
    "            cbar=False, \n",
    "            xticklabels=labels, \n",
    "            yticklabels=labels)\n"
   ]
  },
  {
   "cell_type": "code",
   "execution_count": 25,
   "id": "d789bae1-7243-4426-bb4f-ef6b9a0bff42",
   "metadata": {
    "tags": []
   },
   "outputs": [
    {
     "data": {
      "text/plain": [
       "SparseVector(27, {0: 0.1133, 1: 0.141, 2: 0.3164, 3: 0.1048, 4: 0.0494, 5: 0.0141, 6: 0.043, 7: 0.0063, 8: 0.0004, 9: 0.0087, 10: 0.0011, 11: 0.0064, 12: 0.0006, 13: 0.0004, 15: 0.0023, 16: 0.0023, 18: 0.014, 19: 0.0692, 20: 0.0605, 21: 0.0149, 22: 0.008, 23: 0.0076, 24: 0.0074, 25: 0.0042, 26: 0.0036})"
      ]
     },
     "execution_count": 25,
     "metadata": {},
     "output_type": "execute_result"
    }
   ],
   "source": [
    "model.featureImportances"
   ]
  },
  {
   "cell_type": "code",
   "execution_count": 26,
   "id": "2cb438e1-5d25-4452-99c7-636fe2a67072",
   "metadata": {
    "tags": []
   },
   "outputs": [
    {
     "name": "stdout",
     "output_type": "stream",
     "text": [
      "Counts of predictions in the test set:\n"
     ]
    },
    {
     "name": "stderr",
     "output_type": "stream",
     "text": [
      "[Stage 345:==================================>                      (3 + 2) / 5]\r"
     ]
    },
    {
     "name": "stdout",
     "output_type": "stream",
     "text": [
      "+----------+-----+\n",
      "|prediction|count|\n",
      "+----------+-----+\n",
      "|       0.0|  984|\n",
      "|       1.0|15067|\n",
      "|       3.0| 7100|\n",
      "|       2.0| 1773|\n",
      "+----------+-----+\n",
      "\n"
     ]
    },
    {
     "name": "stderr",
     "output_type": "stream",
     "text": [
      "                                                                                \r"
     ]
    }
   ],
   "source": [
    "prediction_counts = predictions.groupBy(\"prediction\").count()\n",
    "\n",
    "# Stampare i risultati\n",
    "print(\"Counts of predictions in the test set:\")\n",
    "prediction_counts.show()"
   ]
  },
  {
   "cell_type": "code",
   "execution_count": 27,
   "id": "97c2f15e-936b-4ed7-9747-d24f0b213b20",
   "metadata": {
    "tags": []
   },
   "outputs": [
    {
     "name": "stderr",
     "output_type": "stream",
     "text": [
      "[Stage 348:==================================>                      (3 + 2) / 5]\r"
     ]
    },
    {
     "name": "stdout",
     "output_type": "stream",
     "text": [
      "+--------+-----+\n",
      "|Severity|count|\n",
      "+--------+-----+\n",
      "|       1|23194|\n",
      "|       3|  658|\n",
      "|       2|  611|\n",
      "|       0|  461|\n",
      "+--------+-----+\n",
      "\n"
     ]
    },
    {
     "name": "stderr",
     "output_type": "stream",
     "text": [
      "                                                                                \r"
     ]
    }
   ],
   "source": [
    "prediction_counts = predictions.groupBy(\"Severity\").count()\n",
    "\n",
    "# Stampare i risultati\n",
    "prediction_counts.show()"
   ]
  },
  {
   "cell_type": "markdown",
   "id": "65940916-379f-44e2-920d-f503a6369f56",
   "metadata": {},
   "source": [
    "Performing Undersampling(Severity=1) & Oversampling(Severity=0,2,3)"
   ]
  },
  {
   "cell_type": "code",
   "execution_count": 28,
   "id": "75902fcc-31fe-420c-b385-3d48a030085e",
   "metadata": {
    "tags": []
   },
   "outputs": [],
   "source": [
    "under_1=trainingData.filter(col('Severity') == 1)\n",
    "under_1 = trainingData.sample(True, 0.3, seed=42)"
   ]
  },
  {
   "cell_type": "code",
   "execution_count": 29,
   "id": "472ed9f1-6bb3-4b13-9eb1-b4eaf1e0edfd",
   "metadata": {
    "tags": []
   },
   "outputs": [
    {
     "name": "stdout",
     "output_type": "stream",
     "text": [
      "14.344032096288867\n",
      "13.344032096288867\n",
      "12.344032096288867\n",
      "11.344032096288867\n",
      "10.344032096288867\n",
      "9.344032096288867\n",
      "8.344032096288867\n",
      "7.344032096288867\n",
      "6.344032096288867\n",
      "5.344032096288867\n",
      "4.344032096288867\n",
      "3.344032096288867\n",
      "2.344032096288867\n",
      "1.344032096288867\n",
      "0.344032096288867\n"
     ]
    }
   ],
   "source": [
    "oversample_0=trainingData.filter(col('Severity') == 0)\n",
    "num_campioni_da_generare = round(n_1*0.3)\n",
    "num_campioni_da_generare=(num_campioni_da_generare-n_0)/n_0 \n",
    "full_0=oversample_0\n",
    "\n",
    "while num_campioni_da_generare>1:\n",
    "    oversample_0 = oversample_0.unionAll(full_0)\n",
    "    num_campioni_da_generare=num_campioni_da_generare-1.0\n",
    "    print(num_campioni_da_generare)\n",
    "    \n",
    "df_minority_oversampled = full_0.sample(True, num_campioni_da_generare, seed=42)\n",
    "\n",
    "oversample_0 = oversample_0.unionAll(df_minority_oversampled)"
   ]
  },
  {
   "cell_type": "code",
   "execution_count": 30,
   "id": "03d188a0-8ae0-45a7-b390-19a4ce17e60a",
   "metadata": {
    "tags": []
   },
   "outputs": [
    {
     "name": "stdout",
     "output_type": "stream",
     "text": [
      "8.741595253790376\n",
      "7.741595253790376\n",
      "6.741595253790376\n",
      "5.741595253790376\n",
      "4.741595253790376\n",
      "3.7415952537903756\n",
      "2.7415952537903756\n",
      "1.7415952537903756\n",
      "0.7415952537903756\n"
     ]
    }
   ],
   "source": [
    "oversample_2=trainingData.filter(col('Severity') == 2)\n",
    "num_campioni_da_generare = round(n_1*0.3)\n",
    "num_campioni_da_generare=(num_campioni_da_generare-n_2)/n_2\n",
    "full_2=oversample_2\n",
    "\n",
    "while num_campioni_da_generare>1:\n",
    "    oversample_2 = oversample_2.unionAll(full_2)\n",
    "    num_campioni_da_generare=num_campioni_da_generare-1.0\n",
    "    print(num_campioni_da_generare)\n",
    "    \n",
    "df_minority_oversampled = full_2.sample(True, num_campioni_da_generare, seed=42)\n",
    "\n",
    "oversample_2 = oversample_2.unionAll(df_minority_oversampled)"
   ]
  },
  {
   "cell_type": "code",
   "execution_count": 31,
   "id": "86f5f59c-9415-4431-8cd3-f9fce6195042",
   "metadata": {
    "tags": []
   },
   "outputs": [
    {
     "name": "stdout",
     "output_type": "stream",
     "text": [
      "8.769993390614673\n",
      "7.7699933906146725\n",
      "6.7699933906146725\n",
      "5.7699933906146725\n",
      "4.7699933906146725\n",
      "3.7699933906146725\n",
      "2.7699933906146725\n",
      "1.7699933906146725\n",
      "0.7699933906146725\n"
     ]
    }
   ],
   "source": [
    "oversample_3=trainingData.filter(col('Severity') == 3)\n",
    "num_campioni_da_generare = round(n_1*0.3)\n",
    "num_campioni_da_generare=(num_campioni_da_generare-n_3)/n_3  \n",
    "full_3=oversample_3\n",
    "\n",
    "while num_campioni_da_generare>1:\n",
    "    oversample_3 = oversample_3.unionAll(full_3)\n",
    "    num_campioni_da_generare=num_campioni_da_generare-1.0\n",
    "    print(num_campioni_da_generare)\n",
    "    \n",
    "df_minority_oversampled = full_3.sample(True, num_campioni_da_generare, seed=42)\n",
    "\n",
    "oversample_3 = oversample_3.unionAll(df_minority_oversampled)"
   ]
  },
  {
   "cell_type": "code",
   "execution_count": 32,
   "id": "b7fcc074-d79d-4279-bcc5-8d9bbc8ac693",
   "metadata": {
    "tags": []
   },
   "outputs": [
    {
     "name": "stderr",
     "output_type": "stream",
     "text": [
      "[Stage 360:===========>                                             (1 + 4) / 5]\r"
     ]
    },
    {
     "name": "stdout",
     "output_type": "stream",
     "text": [
      "Class 0: 16322\n",
      "Class 1: 17673\n",
      "Class 2: 16313\n",
      "Class 3: 16299\n"
     ]
    },
    {
     "name": "stderr",
     "output_type": "stream",
     "text": [
      "                                                                                \r"
     ]
    }
   ],
   "source": [
    "class0_counts=oversample_0.count()\n",
    "class2_counts=oversample_2.count()\n",
    "class3_counts=oversample_3.count()\n",
    "class1_counts=under_1.count()\n",
    "print(f'Class 0: {class0_counts}\\nClass 1: {class1_counts}\\nClass 2: {class2_counts}\\nClass 3: {class3_counts}')"
   ]
  },
  {
   "cell_type": "code",
   "execution_count": 33,
   "id": "268aeb4d-9ab8-4c17-882b-3c5a106b2751",
   "metadata": {
    "tags": []
   },
   "outputs": [],
   "source": [
    "train_und_over=oversample_0.unionAll(oversample_2).unionAll(oversample_3).unionAll(under_1)"
   ]
  },
  {
   "cell_type": "code",
   "execution_count": 34,
   "id": "863e79e3-5c54-46e3-9a67-a6a6b159b0ba",
   "metadata": {
    "tags": []
   },
   "outputs": [
    {
     "name": "stderr",
     "output_type": "stream",
     "text": [
      "23/12/14 20:52:58 WARN DAGScheduler: Broadcasting large task binary with size 2045.4 KiB\n",
      "[Stage 363:====================================================>(199 + 1) / 200]\r"
     ]
    },
    {
     "name": "stdout",
     "output_type": "stream",
     "text": [
      "+--------+-----+\n",
      "|Severity|Count|\n",
      "+--------+-----+\n",
      "|       0|16629|\n",
      "|       1|16454|\n",
      "|       2|16796|\n",
      "|       3|16728|\n",
      "+--------+-----+\n",
      "\n"
     ]
    },
    {
     "name": "stderr",
     "output_type": "stream",
     "text": [
      "                                                                                \r"
     ]
    }
   ],
   "source": [
    "g=train_und_over.groupBy('Severity').agg(F.count('Severity').alias('Count'))\n",
    "g=g.sort('Severity')\n",
    "g.show()"
   ]
  },
  {
   "cell_type": "code",
   "execution_count": 35,
   "id": "5ab9c49e-5f83-469b-bd6e-963395b01722",
   "metadata": {},
   "outputs": [
    {
     "name": "stderr",
     "output_type": "stream",
     "text": [
      "23/12/14 20:54:57 WARN DAGScheduler: Broadcasting large task binary with size 2.0 MiB\n",
      "23/12/14 20:56:46 WARN DAGScheduler: Broadcasting large task binary with size 3.0 MiB\n",
      "23/12/14 20:56:47 WARN DAGScheduler: Broadcasting large task binary with size 3.0 MiB\n",
      "23/12/14 20:58:36 WARN DAGScheduler: Broadcasting large task binary with size 3.0 MiB\n",
      "23/12/14 21:00:24 WARN DAGScheduler: Broadcasting large task binary with size 3.0 MiB\n",
      "23/12/14 21:01:48 WARN DAGScheduler: Broadcasting large task binary with size 3.0 MiB\n",
      "23/12/14 21:02:37 WARN DAGScheduler: Broadcasting large task binary with size 3.0 MiB\n",
      "23/12/14 21:03:14 WARN DAGScheduler: Broadcasting large task binary with size 3.0 MiB\n",
      "23/12/14 21:03:57 WARN DAGScheduler: Broadcasting large task binary with size 3.0 MiB\n",
      "/opt/conda/lib/python3.10/site-packages/pyspark/sql/context.py:158: FutureWarning: Deprecated in 3.0.0. Use SparkSession.builder.getOrCreate() instead.\n",
      "  warnings.warn(\n"
     ]
    },
    {
     "name": "stdout",
     "output_type": "stream",
     "text": [
      "0.5274033060503932\n",
      "Test Error = 0.472597\n"
     ]
    },
    {
     "name": "stderr",
     "output_type": "stream",
     "text": [
      "                                                                                \r"
     ]
    },
    {
     "name": "stdout",
     "output_type": "stream",
     "text": [
      "Max Depth :  5\n"
     ]
    },
    {
     "name": "stderr",
     "output_type": "stream",
     "text": [
      "                                                                                \r"
     ]
    },
    {
     "name": "stdout",
     "output_type": "stream",
     "text": [
      "Precision for class  0 : 44.51%\n",
      "Recall for class  0 : 87.85%\n",
      "avg_F1-Score for class  0 : 59.08%\n",
      "----------------------------\n",
      "Precision for class  1 : 98.76%\n",
      "Recall for class  1 : 50.62%\n",
      "avg_F1-Score for class  1 : 66.93%\n",
      "----------------------------\n",
      "Precision for class  2 : 39.18%\n",
      "Recall for class  2 : 75.29%\n",
      "avg_F1-Score for class  2 : 51.54%\n",
      "----------------------------\n",
      "Precision for class  3 : 4.92%\n",
      "Recall for class  3 : 81.91%\n",
      "avg_F1-Score for class  3 : 9.29%\n",
      "----------------------------\n",
      "[0.5908096280087527, 0.6693270244847932, 0.515406162464986, 0.09285898871565165]\n",
      "----------------------\n",
      "avg_F1-Score: 46.71%\n"
     ]
    },
    {
     "name": "stderr",
     "output_type": "stream",
     "text": [
      "23/12/14 21:05:01 WARN DAGScheduler: Broadcasting large task binary with size 2.0 MiB\n",
      "23/12/14 21:07:21 WARN DAGScheduler: Broadcasting large task binary with size 3.0 MiB\n",
      "23/12/14 21:07:22 WARN DAGScheduler: Broadcasting large task binary with size 3.0 MiB\n",
      "23/12/14 21:09:18 WARN DAGScheduler: Broadcasting large task binary with size 3.0 MiB\n",
      "23/12/14 21:11:05 WARN DAGScheduler: Broadcasting large task binary with size 3.0 MiB\n",
      "23/12/14 21:12:41 WARN DAGScheduler: Broadcasting large task binary with size 3.0 MiB\n",
      "23/12/14 21:13:20 WARN DAGScheduler: Broadcasting large task binary with size 3.0 MiB\n",
      "23/12/14 21:13:51 WARN DAGScheduler: Broadcasting large task binary with size 3.0 MiB\n",
      "23/12/14 21:14:22 WARN DAGScheduler: Broadcasting large task binary with size 3.0 MiB\n",
      "23/12/14 21:14:55 WARN DAGScheduler: Broadcasting large task binary with size 3.0 MiB\n",
      "23/12/14 21:15:31 WARN DAGScheduler: Broadcasting large task binary with size 3.1 MiB\n",
      "23/12/14 21:16:11 WARN DAGScheduler: Broadcasting large task binary with size 3.2 MiB\n",
      "23/12/14 21:16:56 WARN DAGScheduler: Broadcasting large task binary with size 3.3 MiB\n",
      "23/12/14 21:17:53 WARN DAGScheduler: Broadcasting large task binary with size 3.4 MiB\n",
      "                                                                                \r"
     ]
    },
    {
     "name": "stdout",
     "output_type": "stream",
     "text": [
      "0.7509228053281978\n",
      "Test Error = 0.249077\n",
      "Max Depth :  10\n"
     ]
    },
    {
     "name": "stderr",
     "output_type": "stream",
     "text": [
      "                                                                                \r"
     ]
    },
    {
     "name": "stdout",
     "output_type": "stream",
     "text": [
      "Precision for class  0 : 57.10%\n",
      "Recall for class  0 : 87.20%\n",
      "avg_F1-Score for class  0 : 69.01%\n",
      "----------------------------\n",
      "Precision for class  1 : 98.65%\n",
      "Recall for class  1 : 74.78%\n",
      "avg_F1-Score for class  1 : 85.07%\n",
      "----------------------------\n",
      "Precision for class  2 : 41.47%\n",
      "Recall for class  2 : 82.32%\n",
      "avg_F1-Score for class  2 : 55.15%\n",
      "----------------------------\n",
      "Precision for class  3 : 8.61%\n",
      "Recall for class  3 : 70.97%\n",
      "avg_F1-Score for class  3 : 15.35%\n",
      "----------------------------\n",
      "[0.6901287553648069, 0.8506964881302727, 0.5515350877192983, 0.1535426598717738]\n",
      "----------------------\n",
      "avg_F1-Score: 56.15%\n"
     ]
    },
    {
     "name": "stderr",
     "output_type": "stream",
     "text": [
      "23/12/14 21:19:05 WARN DAGScheduler: Broadcasting large task binary with size 2.0 MiB\n",
      "23/12/14 21:20:52 WARN DAGScheduler: Broadcasting large task binary with size 3.0 MiB\n",
      "23/12/14 21:20:53 WARN DAGScheduler: Broadcasting large task binary with size 3.0 MiB\n",
      "23/12/14 21:22:56 WARN DAGScheduler: Broadcasting large task binary with size 3.0 MiB\n",
      "23/12/14 21:24:58 WARN DAGScheduler: Broadcasting large task binary with size 3.0 MiB\n",
      "23/12/14 21:26:43 WARN DAGScheduler: Broadcasting large task binary with size 3.0 MiB\n",
      "23/12/14 21:27:17 WARN DAGScheduler: Broadcasting large task binary with size 3.0 MiB\n",
      "23/12/14 21:27:45 WARN DAGScheduler: Broadcasting large task binary with size 3.0 MiB\n",
      "23/12/14 21:28:20 WARN DAGScheduler: Broadcasting large task binary with size 3.0 MiB\n",
      "23/12/14 21:28:58 WARN DAGScheduler: Broadcasting large task binary with size 3.0 MiB\n",
      "23/12/14 21:29:41 WARN DAGScheduler: Broadcasting large task binary with size 3.1 MiB\n",
      "23/12/14 21:30:33 WARN DAGScheduler: Broadcasting large task binary with size 3.2 MiB\n",
      "23/12/14 21:31:22 WARN DAGScheduler: Broadcasting large task binary with size 3.3 MiB\n",
      "23/12/14 21:32:10 WARN DAGScheduler: Broadcasting large task binary with size 3.4 MiB\n",
      "23/12/14 21:33:06 WARN DAGScheduler: Broadcasting large task binary with size 3.7 MiB\n",
      "23/12/14 21:34:04 WARN DAGScheduler: Broadcasting large task binary with size 3.9 MiB\n",
      "23/12/14 21:35:17 WARN DAGScheduler: Broadcasting large task binary with size 4.3 MiB\n",
      "23/12/14 21:36:36 WARN DAGScheduler: Broadcasting large task binary with size 4.7 MiB\n",
      "23/12/14 21:38:10 WARN DAGScheduler: Broadcasting large task binary with size 5.1 MiB\n",
      "23/12/14 21:39:47 WARN DAGScheduler: Broadcasting large task binary with size 1514.7 KiB\n",
      "                                                                                \r"
     ]
    },
    {
     "name": "stdout",
     "output_type": "stream",
     "text": [
      "0.8461322420157278\n",
      "Test Error = 0.153868\n"
     ]
    },
    {
     "name": "stderr",
     "output_type": "stream",
     "text": [
      "23/12/14 21:39:50 WARN DAGScheduler: Broadcasting large task binary with size 1503.0 KiB\n",
      "23/12/14 21:39:50 WARN DAGScheduler: Broadcasting large task binary with size 1514.6 KiB\n"
     ]
    },
    {
     "name": "stdout",
     "output_type": "stream",
     "text": [
      "Max Depth :  15\n"
     ]
    },
    {
     "name": "stderr",
     "output_type": "stream",
     "text": [
      "                                                                                \r"
     ]
    },
    {
     "name": "stdout",
     "output_type": "stream",
     "text": [
      "Precision for class  0 : 57.95%\n",
      "Recall for class  0 : 84.60%\n",
      "avg_F1-Score for class  0 : 68.78%\n",
      "----------------------------\n",
      "Precision for class  1 : 98.17%\n",
      "Recall for class  1 : 85.50%\n",
      "avg_F1-Score for class  1 : 91.40%\n",
      "----------------------------\n",
      "Precision for class  2 : 45.09%\n",
      "Recall for class  2 : 82.65%\n",
      "avg_F1-Score for class  2 : 58.35%\n",
      "----------------------------\n",
      "Precision for class  3 : 12.41%\n",
      "Recall for class  3 : 55.32%\n",
      "avg_F1-Score for class  3 : 20.28%\n",
      "----------------------------\n",
      "[0.6878306878306878, 0.9139722996796719, 0.5834777585210861, 0.20278551532033426]\n",
      "----------------------\n",
      "avg_F1-Score: 59.70%\n"
     ]
    },
    {
     "name": "stderr",
     "output_type": "stream",
     "text": [
      "23/12/14 21:40:01 WARN DAGScheduler: Broadcasting large task binary with size 2.0 MiB\n",
      "23/12/14 21:41:43 WARN DAGScheduler: Broadcasting large task binary with size 3.0 MiB\n",
      "23/12/14 21:41:44 WARN DAGScheduler: Broadcasting large task binary with size 3.0 MiB\n",
      "23/12/14 21:43:31 WARN DAGScheduler: Broadcasting large task binary with size 3.0 MiB\n",
      "23/12/14 21:45:05 WARN DAGScheduler: Broadcasting large task binary with size 3.0 MiB\n",
      "23/12/14 21:46:37 WARN DAGScheduler: Broadcasting large task binary with size 3.0 MiB\n",
      "23/12/14 21:47:10 WARN DAGScheduler: Broadcasting large task binary with size 3.0 MiB\n",
      "23/12/14 21:47:41 WARN DAGScheduler: Broadcasting large task binary with size 3.0 MiB\n",
      "23/12/14 21:48:12 WARN DAGScheduler: Broadcasting large task binary with size 3.0 MiB\n",
      "23/12/14 21:48:45 WARN DAGScheduler: Broadcasting large task binary with size 3.0 MiB\n",
      "23/12/14 21:49:24 WARN DAGScheduler: Broadcasting large task binary with size 3.1 MiB\n",
      "23/12/14 21:50:12 WARN DAGScheduler: Broadcasting large task binary with size 3.2 MiB\n",
      "23/12/14 21:51:00 WARN DAGScheduler: Broadcasting large task binary with size 3.3 MiB\n",
      "23/12/14 21:51:46 WARN DAGScheduler: Broadcasting large task binary with size 3.4 MiB\n",
      "23/12/14 21:52:36 WARN DAGScheduler: Broadcasting large task binary with size 3.7 MiB\n",
      "23/12/14 21:53:20 WARN DAGScheduler: Broadcasting large task binary with size 3.9 MiB\n",
      "23/12/14 21:54:17 WARN DAGScheduler: Broadcasting large task binary with size 4.3 MiB\n",
      "23/12/14 21:55:34 WARN DAGScheduler: Broadcasting large task binary with size 4.7 MiB\n",
      "23/12/14 21:56:51 WARN DAGScheduler: Broadcasting large task binary with size 5.1 MiB\n",
      "23/12/14 21:57:58 WARN DAGScheduler: Broadcasting large task binary with size 5.5 MiB\n",
      "23/12/14 21:59:21 WARN DAGScheduler: Broadcasting large task binary with size 5.8 MiB\n",
      "23/12/14 22:00:52 WARN DAGScheduler: Broadcasting large task binary with size 6.2 MiB\n",
      "23/12/14 22:02:30 WARN DAGScheduler: Broadcasting large task binary with size 6.4 MiB\n",
      "23/12/14 22:04:17 WARN DAGScheduler: Broadcasting large task binary with size 6.7 MiB\n",
      "23/12/14 22:05:56 WARN DAGScheduler: Broadcasting large task binary with size 2.3 MiB\n",
      "                                                                                \r"
     ]
    },
    {
     "name": "stdout",
     "output_type": "stream",
     "text": [
      "0.8839271385010432\n",
      "Test Error = 0.116073\n"
     ]
    },
    {
     "name": "stderr",
     "output_type": "stream",
     "text": [
      "23/12/14 22:05:59 WARN DAGScheduler: Broadcasting large task binary with size 2.3 MiB\n",
      "                                                                                \r"
     ]
    },
    {
     "name": "stdout",
     "output_type": "stream",
     "text": [
      "Max Depth :  20\n"
     ]
    },
    {
     "name": "stderr",
     "output_type": "stream",
     "text": [
      "23/12/14 22:06:00 WARN DAGScheduler: Broadcasting large task binary with size 2.3 MiB\n",
      "[Stage 512:===========>                                             (1 + 4) / 5]\r"
     ]
    },
    {
     "name": "stdout",
     "output_type": "stream",
     "text": [
      "Precision for class  0 : 61.27%\n",
      "Recall for class  0 : 83.73%\n",
      "avg_F1-Score for class  0 : 70.76%\n",
      "----------------------------\n",
      "Precision for class  1 : 97.81%\n",
      "Recall for class  1 : 89.91%\n",
      "avg_F1-Score for class  1 : 93.69%\n",
      "----------------------------\n",
      "Precision for class  2 : 47.77%\n",
      "Recall for class  2 : 80.52%\n",
      "avg_F1-Score for class  2 : 59.96%\n",
      "----------------------------\n",
      "Precision for class  3 : 15.42%\n",
      "Recall for class  3 : 45.59%\n",
      "avg_F1-Score for class  3 : 23.05%\n",
      "----------------------------\n",
      "[0.7076076993583869, 0.9369397704041516, 0.5996343692870202, 0.2305032654629274]\n",
      "----------------------\n",
      "avg_F1-Score: 61.87%\n"
     ]
    },
    {
     "name": "stderr",
     "output_type": "stream",
     "text": [
      "                                                                                \r"
     ]
    }
   ],
   "source": [
    "from pyspark.ml import Pipeline\n",
    "from pyspark.ml.classification import RandomForestClassifier\n",
    "from pyspark.ml.feature import IndexToString, StringIndexer, VectorIndexer\n",
    "from pyspark.ml.evaluation import MulticlassClassificationEvaluator\n",
    "from pyspark.mllib.evaluation import MulticlassMetrics\n",
    " \n",
    " \n",
    "\n",
    "for max_depth in range (5,21,5):\n",
    "    rf = RandomForestClassifier(labelCol=\"Severity\", featuresCol=\"features\", numTrees=5,maxDepth=max_depth)\n",
    "    \n",
    "    \n",
    "    # Train model.  This also runs the indexers.\n",
    "    model = rf.fit(train_und_over)\n",
    "    \n",
    "    \n",
    "    # Make predictions.\n",
    "    predictions = model.transform(testData)\n",
    "    \n",
    "    evaluator = MulticlassClassificationEvaluator(labelCol=\"Severity\"\n",
    "                                                , predictionCol=\"prediction\"\n",
    "                                                , metricName=\"accuracy\")\n",
    "    \n",
    "    accuracy = evaluator.evaluate(predictions)\n",
    "    print(accuracy)\n",
    "    print(\"Test Error = %g\" % (1.0 - accuracy))\n",
    "    from pyspark.mllib.evaluation import MulticlassMetrics\n",
    "    # Calcolare precision, recall e F1-score\n",
    "    predictionAndLabels = predictions.select(\"prediction\", \"Severity\").rdd.map(lambda x: (float(x[0]), float(x[1])))\n",
    "    metrics = MulticlassMetrics(predictionAndLabels)\n",
    "    print(\"Max Depth : \",max_depth)\n",
    "    list_avg=[]\n",
    "    for i in range(4):\n",
    "        precision = metrics.precision(label=float(i))  \n",
    "        recall = metrics.recall(label=float(i))\n",
    "        f1Score= metrics.fMeasure(label=float(i)) # need .0\n",
    "        print(\"Precision for class \",i,\": {:.2%}\".format(precision))\n",
    "        print(\"Recall for class \",i,\": {:.2%}\".format(recall))\n",
    "        print(\"avg_F1-Score for class \",i,\": {:.2%}\".format(f1Score))\n",
    "        list_avg.append(f1Score)\n",
    "        print('----------------------------')\n",
    "    sum_=0\n",
    "    print(list_avg)\n",
    "    for elem in list_avg:\n",
    "        sum_+=elem\n",
    "    \n",
    "    avg_f1=sum_/4\n",
    "    print('----------------------')\n",
    "    \n",
    "    print(\"avg_F1-Score: {:.2%}\".format(avg_f1))"
   ]
  },
  {
   "cell_type": "code",
   "execution_count": 58,
   "id": "1b0a0fc9-b79e-4ff3-8abb-efb8ccc2babb",
   "metadata": {
    "tags": []
   },
   "outputs": [
    {
     "data": {
      "text/plain": [
       "<Axes: >"
      ]
     },
     "execution_count": 58,
     "metadata": {},
     "output_type": "execute_result"
    },
    {
     "data": {
      "image/png": "[encoded data removed]",
      "text/plain": [
       "<Figure size 700x700 with 1 Axes>"
      ]
     },
     "metadata": {},
     "output_type": "display_data"
    }
   ],
   "source": [
    "import seaborn as sns\n",
    "import matplotlib.pyplot as plt\n",
    "\n",
    "labels = [\"0\", \"1\", \"2\", \"3\"]\n",
    "_ = plt.figure(figsize=(7, 7))\n",
    "sns.heatmap(metrics.confusionMatrix().toArray(),\n",
    "            cmap='viridis',\n",
    "            annot=True,fmt='0',\n",
    "            cbar=False, \n",
    "            xticklabels=labels, \n",
    "            yticklabels=labels)"
   ]
  },
  {
   "cell_type": "code",
   "execution_count": 59,
   "id": "b6959d2e-960c-43ef-973a-3ee8c39f538c",
   "metadata": {
    "tags": []
   },
   "outputs": [
    {
     "data": {
      "text/plain": [
       "SparseVector(27, {0: 0.1074, 1: 0.1009, 2: 0.312, 3: 0.0882, 4: 0.0622, 5: 0.0175, 6: 0.0562, 7: 0.0116, 8: 0.0009, 9: 0.0083, 10: 0.0018, 11: 0.0091, 12: 0.0005, 13: 0.0004, 15: 0.0038, 16: 0.0024, 17: 0.0003, 18: 0.0194, 19: 0.0627, 20: 0.0804, 21: 0.0191, 22: 0.0069, 23: 0.0107, 24: 0.0102, 25: 0.0039, 26: 0.0033})"
      ]
     },
     "execution_count": 59,
     "metadata": {},
     "output_type": "execute_result"
    }
   ],
   "source": [
    "model.featureImportances"
   ]
  },
  {
   "cell_type": "code",
   "execution_count": 60,
   "id": "080b040e-c5b7-4d1b-b5af-1b6a7e0568dc",
   "metadata": {
    "tags": []
   },
   "outputs": [
    {
     "name": "stdout",
     "output_type": "stream",
     "text": [
      "Counts of predictions in the test set:\n"
     ]
    },
    {
     "name": "stderr",
     "output_type": "stream",
     "text": [
      "[Stage 768:===========>                                             (1 + 4) / 5]\r"
     ]
    },
    {
     "name": "stdout",
     "output_type": "stream",
     "text": [
      "+----------+-----+\n",
      "|prediction|count|\n",
      "+----------+-----+\n",
      "|       0.0|  747|\n",
      "|       1.0|15335|\n",
      "|       3.0| 7635|\n",
      "|       2.0| 1207|\n",
      "+----------+-----+\n",
      "\n"
     ]
    },
    {
     "name": "stderr",
     "output_type": "stream",
     "text": [
      "                                                                                \r"
     ]
    }
   ],
   "source": [
    "prediction_counts = predictions.groupBy(\"prediction\").count()\n",
    "\n",
    "# Stampare i risultati\n",
    "print(\"Counts of predictions in the test set:\")\n",
    "prediction_counts.show()"
   ]
  },
  {
   "cell_type": "code",
   "execution_count": 61,
   "id": "d7d333d6-dc96-42f2-b568-8c03180f2e59",
   "metadata": {
    "tags": []
   },
   "outputs": [
    {
     "name": "stderr",
     "output_type": "stream",
     "text": [
      "[Stage 771:===========>                                             (1 + 4) / 5]\r"
     ]
    },
    {
     "name": "stdout",
     "output_type": "stream",
     "text": [
      "+--------+-----+\n",
      "|Severity|count|\n",
      "+--------+-----+\n",
      "|       1|23194|\n",
      "|       3|  658|\n",
      "|       2|  611|\n",
      "|       0|  461|\n",
      "+--------+-----+\n",
      "\n"
     ]
    },
    {
     "name": "stderr",
     "output_type": "stream",
     "text": [
      "                                                                                \r"
     ]
    }
   ],
   "source": [
    "prediction_counts = predictions.groupBy(\"Severity\").count()\n",
    "\n",
    "# Stampare i risultati\n",
    "prediction_counts.show()"
   ]
  },
  {
   "cell_type": "code",
   "execution_count": 62,
   "id": "a5930344-7c7d-4075-8e96-40bf1d53f50e",
   "metadata": {},
   "outputs": [
    {
     "name": "stderr",
     "output_type": "stream",
     "text": [
      "                                                                                \r"
     ]
    },
    {
     "name": "stdout",
     "output_type": "stream",
     "text": [
      "0.940178141550313\n",
      "Test Error = 0.0598219\n"
     ]
    },
    {
     "name": "stderr",
     "output_type": "stream",
     "text": [
      "/opt/conda/lib/python3.10/site-packages/pyspark/sql/context.py:158: FutureWarning: Deprecated in 3.0.0. Use SparkSession.builder.getOrCreate() instead.\n",
      "  warnings.warn(\n"
     ]
    },
    {
     "name": "stdout",
     "output_type": "stream",
     "text": [
      "Max Depth :  5\n"
     ]
    },
    {
     "name": "stderr",
     "output_type": "stream",
     "text": [
      "                                                                                \r"
     ]
    },
    {
     "name": "stdout",
     "output_type": "stream",
     "text": [
      "Precision for class  0 : 74.57%\n",
      "Recall for class  0 : 47.07%\n",
      "avg_F1-Score for class  0 : 57.71%\n",
      "----------------------------\n",
      "Precision for class  1 : 94.72%\n",
      "Recall for class  1 : 99.36%\n",
      "avg_F1-Score for class  1 : 96.99%\n",
      "----------------------------\n",
      "Precision for class  2 : 56.11%\n",
      "Recall for class  2 : 27.82%\n",
      "avg_F1-Score for class  2 : 37.20%\n",
      "----------------------------\n",
      "Precision for class  3 : 0.00%\n",
      "Recall for class  3 : 0.00%\n",
      "avg_F1-Score for class  3 : 0.00%\n",
      "----------------------------\n",
      "[0.5771276595744681, 0.9698678562410571, 0.37199124726477023, 0.0]\n",
      "----------------------\n",
      "avg_F1-Score: 47.97%\n"
     ]
    },
    {
     "name": "stderr",
     "output_type": "stream",
     "text": [
      "                                                                                \r"
     ]
    },
    {
     "name": "stdout",
     "output_type": "stream",
     "text": [
      "0.9473599743219387\n",
      "Test Error = 0.05264\n",
      "Max Depth :  10\n"
     ]
    },
    {
     "name": "stderr",
     "output_type": "stream",
     "text": [
      "                                                                                \r"
     ]
    },
    {
     "name": "stdout",
     "output_type": "stream",
     "text": [
      "Precision for class  0 : 74.61%\n",
      "Recall for class  0 : 61.82%\n",
      "avg_F1-Score for class  0 : 67.62%\n",
      "----------------------------\n",
      "Precision for class  1 : 95.73%\n",
      "Recall for class  1 : 98.98%\n",
      "avg_F1-Score for class  1 : 97.33%\n",
      "----------------------------\n",
      "Precision for class  2 : 66.25%\n",
      "Recall for class  2 : 60.39%\n",
      "avg_F1-Score for class  2 : 63.18%\n",
      "----------------------------\n",
      "Precision for class  3 : 0.00%\n",
      "Recall for class  3 : 0.00%\n",
      "avg_F1-Score for class  3 : 0.00%\n",
      "----------------------------\n",
      "[0.6761565836298932, 0.9732915041546549, 0.6318493150684932, 0.0]\n",
      "----------------------\n",
      "avg_F1-Score: 57.03%\n"
     ]
    },
    {
     "name": "stderr",
     "output_type": "stream",
     "text": [
      "23/12/14 22:19:35 WARN DAGScheduler: Broadcasting large task binary with size 1217.1 KiB\n",
      "23/12/14 22:19:36 WARN DAGScheduler: Broadcasting large task binary with size 1608.5 KiB\n",
      "23/12/14 22:19:37 WARN DAGScheduler: Broadcasting large task binary with size 2032.7 KiB\n",
      "23/12/14 22:19:39 WARN DAGScheduler: Broadcasting large task binary with size 2.4 MiB\n",
      "23/12/14 22:19:40 WARN DAGScheduler: Broadcasting large task binary with size 1341.2 KiB\n",
      "23/12/14 22:19:42 WARN DAGScheduler: Broadcasting large task binary with size 1329.6 KiB\n"
     ]
    },
    {
     "name": "stdout",
     "output_type": "stream",
     "text": [
      "0.9443508265125983\n",
      "Test Error = 0.0556492\n"
     ]
    },
    {
     "name": "stderr",
     "output_type": "stream",
     "text": [
      "                                                                                \r"
     ]
    },
    {
     "name": "stdout",
     "output_type": "stream",
     "text": [
      "Max Depth :  15\n"
     ]
    },
    {
     "name": "stderr",
     "output_type": "stream",
     "text": [
      "23/12/14 22:19:43 WARN DAGScheduler: Broadcasting large task binary with size 1341.2 KiB\n",
      "                                                                                \r"
     ]
    },
    {
     "name": "stdout",
     "output_type": "stream",
     "text": [
      "Precision for class  0 : 73.15%\n",
      "Recall for class  0 : 68.55%\n",
      "avg_F1-Score for class  0 : 70.77%\n",
      "----------------------------\n",
      "Precision for class  1 : 95.83%\n",
      "Recall for class  1 : 98.56%\n",
      "avg_F1-Score for class  1 : 97.17%\n",
      "----------------------------\n",
      "Precision for class  2 : 67.30%\n",
      "Recall for class  2 : 58.27%\n",
      "avg_F1-Score for class  2 : 62.46%\n",
      "----------------------------\n",
      "Precision for class  3 : 5.50%\n",
      "Recall for class  3 : 0.91%\n",
      "avg_F1-Score for class  3 : 1.56%\n",
      "----------------------------\n",
      "[0.7077267637178052, 0.9717309981295698, 0.6245614035087719, 0.01564537157757497]\n",
      "----------------------\n",
      "avg_F1-Score: 57.99%\n"
     ]
    },
    {
     "name": "stderr",
     "output_type": "stream",
     "text": [
      "23/12/14 22:19:58 WARN DAGScheduler: Broadcasting large task binary with size 1217.1 KiB\n",
      "23/12/14 22:19:59 WARN DAGScheduler: Broadcasting large task binary with size 1608.5 KiB\n",
      "23/12/14 22:20:00 WARN DAGScheduler: Broadcasting large task binary with size 2032.7 KiB\n",
      "23/12/14 22:20:01 WARN DAGScheduler: Broadcasting large task binary with size 2.4 MiB\n",
      "23/12/14 22:20:01 WARN DAGScheduler: Broadcasting large task binary with size 2.8 MiB\n",
      "23/12/14 22:20:02 WARN DAGScheduler: Broadcasting large task binary with size 3.2 MiB\n",
      "23/12/14 22:20:03 WARN DAGScheduler: Broadcasting large task binary with size 3.6 MiB\n",
      "23/12/14 22:20:04 WARN DAGScheduler: Broadcasting large task binary with size 3.9 MiB\n",
      "23/12/14 22:20:06 WARN DAGScheduler: Broadcasting large task binary with size 4.2 MiB\n",
      "23/12/14 22:20:07 WARN DAGScheduler: Broadcasting large task binary with size 2.2 MiB\n",
      "                                                                                \r"
     ]
    },
    {
     "name": "stdout",
     "output_type": "stream",
     "text": [
      "0.938613384689456\n",
      "Test Error = 0.0613866\n"
     ]
    },
    {
     "name": "stderr",
     "output_type": "stream",
     "text": [
      "23/12/14 22:20:10 WARN DAGScheduler: Broadcasting large task binary with size 2.2 MiB\n"
     ]
    },
    {
     "name": "stdout",
     "output_type": "stream",
     "text": [
      "Max Depth :  20\n"
     ]
    },
    {
     "name": "stderr",
     "output_type": "stream",
     "text": [
      "23/12/14 22:20:11 WARN DAGScheduler: Broadcasting large task binary with size 2.2 MiB\n",
      "[Stage 920:===========>                                             (1 + 4) / 5]\r"
     ]
    },
    {
     "name": "stdout",
     "output_type": "stream",
     "text": [
      "Precision for class  0 : 71.63%\n",
      "Recall for class  0 : 66.81%\n",
      "avg_F1-Score for class  0 : 69.14%\n",
      "----------------------------\n",
      "Precision for class  1 : 95.83%\n",
      "Recall for class  1 : 97.92%\n",
      "avg_F1-Score for class  1 : 96.86%\n",
      "----------------------------\n",
      "Precision for class  2 : 65.31%\n",
      "Recall for class  2 : 57.94%\n",
      "avg_F1-Score for class  2 : 61.41%\n",
      "----------------------------\n",
      "Precision for class  3 : 7.97%\n",
      "Recall for class  3 : 3.04%\n",
      "avg_F1-Score for class  3 : 4.40%\n",
      "----------------------------\n",
      "[0.691358024691358, 0.9686320503251946, 0.614050303555941, 0.044004400440044]\n",
      "----------------------\n",
      "avg_F1-Score: 57.95%\n"
     ]
    },
    {
     "name": "stderr",
     "output_type": "stream",
     "text": [
      "                                                                                \r"
     ]
    }
   ],
   "source": [
    "\n",
    "# Train a RandomForest model.\n",
    "for max_depth in range (5,21,5):\n",
    "    rf = RandomForestClassifier(labelCol=\"Severity\", featuresCol=\"features\", numTrees=5,maxDepth=max_depth)\n",
    "    \n",
    "    \n",
    "    # Train model.  This also runs the indexers.\n",
    "    model = rf.fit(trainingData)\n",
    "    \n",
    "    \n",
    "    # Make predictions.\n",
    "    predictions = model.transform(testData)\n",
    "    \n",
    "    evaluator = MulticlassClassificationEvaluator(labelCol=\"Severity\"\n",
    "                                                , predictionCol=\"prediction\"\n",
    "                                                , metricName=\"accuracy\")\n",
    "    \n",
    "    accuracy = evaluator.evaluate(predictions)\n",
    "    print(accuracy)\n",
    "    print(\"Test Error = %g\" % (1.0 - accuracy))\n",
    "    from pyspark.mllib.evaluation import MulticlassMetrics\n",
    "    # Calcolare precision, recall e F1-score\n",
    "    predictionAndLabels = predictions.select(\"prediction\", \"Severity\").rdd.map(lambda x: (float(x[0]), float(x[1])))\n",
    "    metrics = MulticlassMetrics(predictionAndLabels)\n",
    "    print(\"Max Depth : \",max_depth)\n",
    "    list_avg=[]\n",
    "    for i in range(4):\n",
    "        precision = metrics.precision(label=float(i))  \n",
    "        recall = metrics.recall(label=float(i))\n",
    "        f1Score= metrics.fMeasure(label=float(i)) # need .0\n",
    "        print(\"Precision for class \",i,\": {:.2%}\".format(precision))\n",
    "        print(\"Recall for class \",i,\": {:.2%}\".format(recall))\n",
    "        print(\"avg_F1-Score for class \",i,\": {:.2%}\".format(f1Score))\n",
    "        list_avg.append(f1Score)\n",
    "        print('----------------------------')\n",
    "    sum_=0\n",
    "    print(list_avg)\n",
    "    for elem in list_avg:\n",
    "        sum_+=elem\n",
    "    \n",
    "    avg_f1=sum_/4\n",
    "    print('----------------------')\n",
    "    \n",
    "    print(\"avg_F1-Score: {:.2%}\".format(avg_f1))"
   ]
  },
  {
   "cell_type": "markdown",
   "id": "ad7c46df-2dcb-4342-b7a7-a32ef95252a4",
   "metadata": {},
   "source": [
    "# Decision Tree con iperparametri di default"
   ]
  },
  {
   "cell_type": "code",
   "execution_count": 63,
   "id": "2f8a2bdb-fb33-48d3-a517-466bf7c8e3ad",
   "metadata": {},
   "outputs": [
    {
     "name": "stderr",
     "output_type": "stream",
     "text": [
      "[Stage 922:===========>                                             (1 + 4) / 5]\r"
     ]
    },
    {
     "name": "stdout",
     "output_type": "stream",
     "text": [
      "+--------+-----+\n",
      "|Severity|Count|\n",
      "+--------+-----+\n",
      "|       0|  997|\n",
      "|       1|54316|\n",
      "|       2| 1517|\n",
      "|       3| 1513|\n",
      "+--------+-----+\n",
      "\n"
     ]
    },
    {
     "name": "stderr",
     "output_type": "stream",
     "text": [
      "                                                                                \r"
     ]
    }
   ],
   "source": [
    "(trainingData, testData) = classificationData.randomSplit([0.7, 0.3],seed=0)\n",
    "g=trainingData.groupBy('Severity').agg(F.count('Severity').alias('Count'))\n",
    "g=g.sort('Severity')\n",
    "g.show()"
   ]
  },
  {
   "cell_type": "markdown",
   "id": "dac94ec4-b71a-4047-933a-ce20e2c57375",
   "metadata": {},
   "source": [
    "Train & Test a DT without Severity sampling"
   ]
  },
  {
   "cell_type": "code",
   "execution_count": 64,
   "id": "c27459e1-5c6a-4eb9-8688-d9b1659a9c97",
   "metadata": {},
   "outputs": [
    {
     "name": "stderr",
     "output_type": "stream",
     "text": [
      "                                                                                \r"
     ]
    }
   ],
   "source": [
    "from pyspark.ml.classification import DecisionTreeClassifier, RandomForestClassifier\n",
    "\n",
    "dt = DecisionTreeClassifier(labelCol=\"Severity\", featuresCol=\"features\")\n",
    "\n",
    "dt = dt.fit(trainingData)"
   ]
  },
  {
   "cell_type": "code",
   "execution_count": 65,
   "id": "2fad1b5f-e822-4f7f-848b-36f9e64a6a74",
   "metadata": {},
   "outputs": [
    {
     "data": {
      "text/plain": [
       "SparseVector(27, {0: 0.1506, 1: 0.0474, 2: 0.5923, 12: 0.0008, 18: 0.0093, 19: 0.1633, 20: 0.0314, 21: 0.0036, 22: 0.0013})"
      ]
     },
     "execution_count": 65,
     "metadata": {},
     "output_type": "execute_result"
    }
   ],
   "source": [
    "dt.featureImportances"
   ]
  },
  {
   "cell_type": "code",
   "execution_count": 66,
   "id": "b6048f28-bc4b-49f8-9a08-15cd0c95896f",
   "metadata": {},
   "outputs": [
    {
     "name": "stderr",
     "output_type": "stream",
     "text": [
      "                                                                                \r"
     ]
    },
    {
     "name": "stdout",
     "output_type": "stream",
     "text": [
      "0.9469186326432354\n",
      "Test Error = 0.0530814\n"
     ]
    },
    {
     "name": "stderr",
     "output_type": "stream",
     "text": [
      "                                                                                \r"
     ]
    },
    {
     "name": "stdout",
     "output_type": "stream",
     "text": [
      "DenseMatrix([[3.6600e+02, 6.6000e+01, 2.9000e+01, 0.0000e+00],\n",
      "             [1.3500e+02, 2.2849e+04, 2.1000e+02, 0.0000e+00],\n",
      "             [5.0000e+01, 1.7500e+02, 3.8600e+02, 0.0000e+00],\n",
      "             [0.0000e+00, 6.5500e+02, 3.0000e+00, 0.0000e+00]])\n"
     ]
    }
   ],
   "source": [
    "predictions = dt.transform(testData)\n",
    "evaluator = MulticlassClassificationEvaluator(labelCol=\"Severity\"\n",
    "                                              , predictionCol=\"prediction\"\n",
    "                                              , metricName=\"accuracy\")\n",
    "\n",
    "accuracy = evaluator.evaluate(predictions)\n",
    "print(accuracy)\n",
    "print(\"Test Error = %g\" % (1.0 - accuracy))\n",
    "preds_and_labels = predictions.select(['prediction','Severity']).withColumn('label', F.col('Severity').cast(FloatType())).orderBy('prediction')\n",
    "preds_and_labels = preds_and_labels.select(['prediction','label'])\n",
    "metrics = MulticlassMetrics(preds_and_labels.rdd.map(tuple))\n",
    "print(metrics.confusionMatrix())"
   ]
  },
  {
   "cell_type": "code",
   "execution_count": 67,
   "id": "42f3d6b4-7a9a-42ea-958f-51432f041029",
   "metadata": {},
   "outputs": [
    {
     "name": "stderr",
     "output_type": "stream",
     "text": [
      "[Stage 952:===========>                                             (1 + 4) / 5]\r"
     ]
    },
    {
     "name": "stdout",
     "output_type": "stream",
     "text": [
      "Precision for class  0 : 66.42%\n",
      "Recall for class  0 : 79.39%\n",
      "avg_F1-Score for class  0 : 72.33%\n",
      "----------------------------\n",
      "Precision for class  1 : 96.23%\n",
      "Recall for class  1 : 98.51%\n",
      "avg_F1-Score for class  1 : 97.36%\n",
      "----------------------------\n",
      "Precision for class  2 : 61.46%\n",
      "Recall for class  2 : 63.18%\n",
      "avg_F1-Score for class  2 : 62.31%\n",
      "----------------------------\n",
      "Precision for class  3 : 0.00%\n",
      "Recall for class  3 : 0.00%\n",
      "avg_F1-Score for class  3 : 0.00%\n",
      "----------------------------\n",
      "[0.7233201581027668, 0.973561430793157, 0.6230831315577079, 0.0]\n",
      "----------------------\n",
      "avg_F1-Score: 58.00%\n"
     ]
    },
    {
     "name": "stderr",
     "output_type": "stream",
     "text": [
      "                                                                                \r"
     ]
    },
    {
     "data": {
      "text/plain": [
       "<Axes: >"
      ]
     },
     "execution_count": 67,
     "metadata": {},
     "output_type": "execute_result"
    },
    {
     "data": {
      "image/png": "[encoded data removed]",
      "text/plain": [
       "<Figure size 700x700 with 1 Axes>"
      ]
     },
     "metadata": {},
     "output_type": "display_data"
    }
   ],
   "source": [
    "predictionAndLabels = predictions.select(\"prediction\", \"Severity\").rdd.map(lambda x: (float(x[0]), float(x[1])))\n",
    "metrics = MulticlassMetrics(predictionAndLabels)\n",
    "\n",
    "list_avg=[]\n",
    "for i in range(4):\n",
    "    precision = metrics.precision(label=float(i))  \n",
    "    recall = metrics.recall(label=float(i))\n",
    "    f1Score= metrics.fMeasure(label=float(i)) # need .0\n",
    "    print(\"Precision for class \",i,\": {:.2%}\".format(precision))\n",
    "    print(\"Recall for class \",i,\": {:.2%}\".format(recall))\n",
    "    print(\"avg_F1-Score for class \",i,\": {:.2%}\".format(f1Score))\n",
    "    list_avg.append(f1Score)\n",
    "    print('----------------------------')\n",
    "sum_=0\n",
    "print(list_avg)\n",
    "for elem in list_avg:\n",
    "    sum_+=elem\n",
    "\n",
    "avg_f1=sum_/4\n",
    "print('----------------------')\n",
    "\n",
    "print(\"avg_F1-Score: {:.2%}\".format(avg_f1))\n",
    "\n",
    "labels = [\"0\", \"1\", \"2\", \"3\"]\n",
    "_ = plt.figure(figsize=(7, 7))\n",
    "sns.heatmap(metrics.confusionMatrix().toArray(),\n",
    "            cmap='viridis',\n",
    "            annot=True,fmt='0',\n",
    "            cbar=False, \n",
    "            xticklabels=labels, \n",
    "            yticklabels=labels)"
   ]
  },
  {
   "cell_type": "markdown",
   "id": "450a743a-1959-4225-a9c0-e31db9f6bd73",
   "metadata": {},
   "source": [
    "Train & Test a tuned DT without Severity sampling"
   ]
  },
  {
   "cell_type": "code",
   "execution_count": 68,
   "id": "fec36804-f1df-4a32-b948-6f3105cd7f40",
   "metadata": {
    "tags": []
   },
   "outputs": [
    {
     "name": "stderr",
     "output_type": "stream",
     "text": [
      "                                                                                \r"
     ]
    }
   ],
   "source": [
    "n=trainingData.count()\n",
    "max_depth=[5,15,25]\n",
    "max_bins=[32,64]\n",
    "min_inst=[round(0.005*n),round(0.02*n)]\n",
    "impurity=['entropy', 'gini']"
   ]
  },
  {
   "cell_type": "code",
   "execution_count": 69,
   "id": "4b9b501a-5d74-4c99-94a9-2bf6b3558466",
   "metadata": {
    "tags": []
   },
   "outputs": [
    {
     "name": "stderr",
     "output_type": "stream",
     "text": [
      "/opt/conda/lib/python3.10/site-packages/pyspark/sql/context.py:158: FutureWarning: Deprecated in 3.0.0. Use SparkSession.builder.getOrCreate() instead.\n",
      "  warnings.warn(\n"
     ]
    },
    {
     "name": "stdout",
     "output_type": "stream",
     "text": [
      "0.9449125341036752\n",
      "Test Error = 0.0550875\n"
     ]
    },
    {
     "name": "stderr",
     "output_type": "stream",
     "text": [
      "[Stage 987:===========>                                             (1 + 4) / 5]\r"
     ]
    },
    {
     "name": "stdout",
     "output_type": "stream",
     "text": [
      "Precision for class  0 : 76.20%\n",
      "Recall for class  0 : 54.88%\n",
      "avg_F1-Score for class  0 : 63.81%\n",
      "----------------------------\n",
      "Precision for class  1 : 95.60%\n",
      "Recall for class  1 : 98.88%\n",
      "avg_F1-Score for class  1 : 97.21%\n",
      "----------------------------\n",
      "Precision for class  2 : 60.36%\n",
      "Recall for class  2 : 59.57%\n",
      "avg_F1-Score for class  2 : 59.97%\n",
      "----------------------------\n",
      "Precision for class  3 : 0.00%\n",
      "Recall for class  3 : 0.00%\n",
      "avg_F1-Score for class  3 : 0.00%\n",
      "----------------------------\n",
      "[0.6380832282471626, 0.9721297925100143, 0.599670510708402, 0.0]\n",
      "----------------------\n",
      "avg_F1-Score: 55.25%\n"
     ]
    },
    {
     "name": "stderr",
     "output_type": "stream",
     "text": [
      "                                                                                \r"
     ]
    },
    {
     "data": {
      "text/plain": [
       "<Axes: >"
      ]
     },
     "execution_count": 69,
     "metadata": {},
     "output_type": "execute_result"
    },
    {
     "data": {
      "image/png": "[encoded data removed]",
      "text/plain": [
       "<Figure size 700x700 with 1 Axes>"
      ]
     },
     "metadata": {},
     "output_type": "display_data"
    }
   ],
   "source": [
    "dt = DecisionTreeClassifier(labelCol=\"Severity\", featuresCol=\"features\", maxDepth=10, maxBins=64, \n",
    "                            minInstancesPerNode=round(0.005*n), impurity='entropy')\n",
    "dt = dt.fit(trainingData)\n",
    "predictions = dt.transform(testData)\n",
    "# Select (prediction, true label) and compute test error\n",
    "evaluator = MulticlassClassificationEvaluator(labelCol=\"Severity\"\n",
    "                                              , predictionCol=\"prediction\"\n",
    "                                              , metricName=\"accuracy\")\n",
    "\n",
    "accuracy = evaluator.evaluate(predictions)\n",
    "print(accuracy)\n",
    "print(\"Test Error = %g\" % (1.0 - accuracy))\n",
    "\n",
    "# Calcolare precision, recall e F1-score\n",
    "predictionAndLabels = predictions.select(\"prediction\", \"Severity\").rdd.map(lambda x: (float(x[0]), float(x[1])))\n",
    "metrics = MulticlassMetrics(predictionAndLabels)\n",
    "\n",
    "list_avg=[]\n",
    "for i in range(4):\n",
    "    precision = metrics.precision(label=float(i))  \n",
    "    recall = metrics.recall(label=float(i))\n",
    "    f1Score= metrics.fMeasure(label=float(i)) # need .0\n",
    "    print(\"Precision for class \",i,\": {:.2%}\".format(precision))\n",
    "    print(\"Recall for class \",i,\": {:.2%}\".format(recall))\n",
    "    print(\"avg_F1-Score for class \",i,\": {:.2%}\".format(f1Score))\n",
    "    list_avg.append(f1Score)\n",
    "    print('----------------------------')\n",
    "sum_=0\n",
    "print(list_avg)\n",
    "for elem in list_avg:\n",
    "    sum_+=elem\n",
    "\n",
    "avg_f1=sum_/4\n",
    "print('----------------------')\n",
    "\n",
    "print(\"avg_F1-Score: {:.2%}\".format(avg_f1))\n",
    "\n",
    "labels = [\"0\", \"1\", \"2\", \"3\"]\n",
    "_ = plt.figure(figsize=(7, 7))\n",
    "sns.heatmap(metrics.confusionMatrix().toArray(),\n",
    "            cmap='viridis',\n",
    "            annot=True,fmt='0',\n",
    "            cbar=False, \n",
    "            xticklabels=labels, \n",
    "            yticklabels=labels)"
   ]
  },
  {
   "cell_type": "markdown",
   "id": "d0f40a75-d855-4b07-bc15-b837ae0f0bbd",
   "metadata": {},
   "source": [
    "Undersampling Severity target"
   ]
  },
  {
   "cell_type": "code",
   "execution_count": 70,
   "id": "a6191d9f-a36f-471b-81f7-6915a6c6715f",
   "metadata": {},
   "outputs": [
    {
     "name": "stderr",
     "output_type": "stream",
     "text": [
      "                                                                                \r"
     ]
    }
   ],
   "source": [
    "g_p=g.toPandas()\n",
    "n_0=g_p.iloc[0,1]\n",
    "n_1=g_p.iloc[1,1]\n",
    "n_2=g_p.iloc[2,1]\n",
    "n_3=g_p.iloc[3,1]"
   ]
  },
  {
   "cell_type": "code",
   "execution_count": 71,
   "id": "a9145059-7453-448c-ae03-41f9c22e3b2a",
   "metadata": {},
   "outputs": [
    {
     "name": "stderr",
     "output_type": "stream",
     "text": [
      "[Stage 997:===========>                                             (1 + 4) / 5]\r"
     ]
    },
    {
     "name": "stdout",
     "output_type": "stream",
     "text": [
      "+--------+-----+\n",
      "|Severity|count|\n",
      "+--------+-----+\n",
      "|       1| 1365|\n",
      "|       3| 1513|\n",
      "|       2| 1517|\n",
      "|       0|  997|\n",
      "+--------+-----+\n",
      "\n"
     ]
    },
    {
     "name": "stderr",
     "output_type": "stream",
     "text": [
      "                                                                                \r"
     ]
    }
   ],
   "source": [
    "und=(n_0+n_2+n_3)/3\n",
    "train_und = trainingData.sampleBy('Severity', fractions={0:1.0 ,1: und/n_1 , 2:1.0, 3:1.0})\n",
    "result_counts=train_und.groupBy(\"Severity\").count()\n",
    "result_counts.show()"
   ]
  },
  {
   "cell_type": "markdown",
   "id": "9ff0cd9d-47ab-4764-a50e-91dd58b7b19e",
   "metadata": {},
   "source": [
    "Training & Test a DT"
   ]
  },
  {
   "cell_type": "code",
   "execution_count": 72,
   "id": "12a83a75-997d-4a98-a6db-7d6b90012a12",
   "metadata": {},
   "outputs": [
    {
     "name": "stderr",
     "output_type": "stream",
     "text": [
      "                                                                                \r"
     ]
    },
    {
     "data": {
      "text/plain": [
       "SparseVector(27, {0: 0.1773, 1: 0.1444, 2: 0.5207, 3: 0.0069, 4: 0.0011, 7: 0.001, 9: 0.016, 15: 0.0031, 18: 0.0048, 19: 0.1054, 20: 0.0194})"
      ]
     },
     "execution_count": 72,
     "metadata": {},
     "output_type": "execute_result"
    }
   ],
   "source": [
    "from pyspark.ml.classification import DecisionTreeClassifier, RandomForestClassifier\n",
    "\n",
    "dt = DecisionTreeClassifier(labelCol=\"Severity\", featuresCol=\"features\")\n",
    "\n",
    "dt = dt.fit(train_und)\n",
    "                                                                                \n",
    "dt.featureImportances"
   ]
  },
  {
   "cell_type": "code",
   "execution_count": 73,
   "id": "ec69d4ef-6554-49b2-8c32-17de1e31d568",
   "metadata": {},
   "outputs": [
    {
     "name": "stderr",
     "output_type": "stream",
     "text": [
      "[Stage 1017:===========>                                            (1 + 4) / 5]\r"
     ]
    },
    {
     "name": "stdout",
     "output_type": "stream",
     "text": [
      "0.5605039319531375\n",
      "Test Error = 0.439496\n"
     ]
    },
    {
     "name": "stderr",
     "output_type": "stream",
     "text": [
      "                                                                                \r"
     ]
    }
   ],
   "source": [
    "predictions = dt.transform(testData)\n",
    "evaluator = MulticlassClassificationEvaluator(labelCol=\"Severity\"\n",
    "                                              , predictionCol=\"prediction\"\n",
    "                                              , metricName=\"accuracy\")\n",
    "\n",
    "accuracy = evaluator.evaluate(predictions)\n",
    "print(accuracy)\n",
    "print(\"Test Error = %g\" % (1.0 - accuracy))"
   ]
  },
  {
   "cell_type": "code",
   "execution_count": 74,
   "id": "7298174f-f4d5-451f-b412-ea1ad8a63c67",
   "metadata": {},
   "outputs": [
    {
     "name": "stderr",
     "output_type": "stream",
     "text": [
      "/opt/conda/lib/python3.10/site-packages/pyspark/sql/context.py:158: FutureWarning: Deprecated in 3.0.0. Use SparkSession.builder.getOrCreate() instead.\n",
      "  warnings.warn(\n",
      "[Stage 1020:===========>                                            (1 + 4) / 5]\r"
     ]
    },
    {
     "name": "stdout",
     "output_type": "stream",
     "text": [
      "Precision for class  0 : 63.30%\n",
      "Recall for class  0 : 84.16%\n",
      "avg_F1-Score for class  0 : 72.25%\n",
      "----------------------------\n",
      "Precision for class  1 : 99.10%\n",
      "Recall for class  1 : 53.91%\n",
      "avg_F1-Score for class  1 : 69.84%\n",
      "----------------------------\n",
      "Precision for class  2 : 38.59%\n",
      "Recall for class  2 : 81.67%\n",
      "avg_F1-Score for class  2 : 52.42%\n",
      "----------------------------\n",
      "Precision for class  3 : 5.56%\n",
      "Recall for class  3 : 87.84%\n",
      "avg_F1-Score for class  3 : 10.45%\n",
      "----------------------------\n",
      "[0.7225325884543761, 0.6983692616999889, 0.5241596638655462, 0.10453969976487612]\n",
      "----------------------\n",
      "avg_F1-Score: 51.24%\n"
     ]
    },
    {
     "name": "stderr",
     "output_type": "stream",
     "text": [
      "                                                                                \r"
     ]
    },
    {
     "data": {
      "text/plain": [
       "<Axes: >"
      ]
     },
     "execution_count": 74,
     "metadata": {},
     "output_type": "execute_result"
    },
    {
     "data": {
      "image/png": "[encoded data removed]",
      "text/plain": [
       "<Figure size 700x700 with 1 Axes>"
      ]
     },
     "metadata": {},
     "output_type": "display_data"
    }
   ],
   "source": [
    "predictionAndLabels = predictions.select(\"prediction\", \"Severity\").rdd.map(lambda x: (float(x[0]), float(x[1])))\n",
    "metrics = MulticlassMetrics(predictionAndLabels)\n",
    "\n",
    "list_avg=[]\n",
    "for i in range(4):\n",
    "    precision = metrics.precision(label=float(i))  \n",
    "    recall = metrics.recall(label=float(i))\n",
    "    f1Score= metrics.fMeasure(label=float(i)) # need .0\n",
    "    print(\"Precision for class \",i,\": {:.2%}\".format(precision))\n",
    "    print(\"Recall for class \",i,\": {:.2%}\".format(recall))\n",
    "    print(\"avg_F1-Score for class \",i,\": {:.2%}\".format(f1Score))\n",
    "    list_avg.append(f1Score)\n",
    "    print('----------------------------')\n",
    "sum_=0\n",
    "print(list_avg)\n",
    "for elem in list_avg:\n",
    "    sum_+=elem\n",
    "\n",
    "avg_f1=sum_/4\n",
    "print('----------------------')\n",
    "\n",
    "print(\"avg_F1-Score: {:.2%}\".format(avg_f1))\n",
    "\n",
    "labels = [\"0\", \"1\", \"2\", \"3\"]\n",
    "_ = plt.figure(figsize=(7, 7))\n",
    "sns.heatmap(metrics.confusionMatrix().toArray(),\n",
    "            cmap='viridis',\n",
    "            annot=True,fmt='0',\n",
    "            cbar=False, \n",
    "            xticklabels=labels, \n",
    "            yticklabels=labels)"
   ]
  },
  {
   "cell_type": "code",
   "execution_count": 75,
   "id": "7b0b3f13-6426-41d7-86e8-9947e16141c4",
   "metadata": {},
   "outputs": [
    {
     "name": "stderr",
     "output_type": "stream",
     "text": [
      "[Stage 1022:===========>                                            (1 + 4) / 5]\r"
     ]
    },
    {
     "name": "stdout",
     "output_type": "stream",
     "text": [
      "+--------+-----+\n",
      "|Severity|count|\n",
      "+--------+-----+\n",
      "|       1|23194|\n",
      "|       3|  658|\n",
      "|       2|  611|\n",
      "|       0|  461|\n",
      "+--------+-----+\n",
      "\n"
     ]
    },
    {
     "name": "stderr",
     "output_type": "stream",
     "text": [
      "                                                                                \r"
     ]
    }
   ],
   "source": [
    "prediction_counts = predictions.groupBy(\"Severity\").count()\n",
    "prediction_counts.show()"
   ]
  },
  {
   "cell_type": "code",
   "execution_count": 76,
   "id": "50a41a99-79f9-4035-9078-b7b699077c42",
   "metadata": {},
   "outputs": [
    {
     "name": "stdout",
     "output_type": "stream",
     "text": [
      "Counts of predictions in the test set:\n"
     ]
    },
    {
     "name": "stderr",
     "output_type": "stream",
     "text": [
      "[Stage 1025:===========>                                            (1 + 4) / 5]\r"
     ]
    },
    {
     "name": "stdout",
     "output_type": "stream",
     "text": [
      "+----------+-----+\n",
      "|prediction|count|\n",
      "+----------+-----+\n",
      "|       0.0|  613|\n",
      "|       1.0|12618|\n",
      "|       3.0|10400|\n",
      "|       2.0| 1293|\n",
      "+----------+-----+\n",
      "\n"
     ]
    },
    {
     "name": "stderr",
     "output_type": "stream",
     "text": [
      "                                                                                \r"
     ]
    }
   ],
   "source": [
    "prediction_counts = predictions.groupBy(\"prediction\").count()\n",
    "print(\"Counts of predictions in the test set:\")\n",
    "prediction_counts.show()"
   ]
  },
  {
   "cell_type": "code",
   "execution_count": 77,
   "id": "54a07bf9-5fbc-4c1e-8a69-c7e74c491aeb",
   "metadata": {},
   "outputs": [
    {
     "name": "stderr",
     "output_type": "stream",
     "text": [
      "/opt/conda/lib/python3.10/site-packages/pyspark/sql/context.py:158: FutureWarning: Deprecated in 3.0.0. Use SparkSession.builder.getOrCreate() instead.\n",
      "  warnings.warn(\n",
      "                                                                                \r"
     ]
    },
    {
     "name": "stdout",
     "output_type": "stream",
     "text": [
      "DenseMatrix([[3.8800e+02, 1.5000e+01, 4.9000e+01, 9.0000e+00],\n",
      "             [1.7400e+02, 1.2505e+04, 7.3900e+02, 9.7760e+03],\n",
      "             [5.1000e+01, 2.4000e+01, 4.9900e+02, 3.7000e+01],\n",
      "             [0.0000e+00, 7.4000e+01, 6.0000e+00, 5.7800e+02]])\n"
     ]
    }
   ],
   "source": [
    "preds_and_labels = predictions.select(['prediction','Severity']).withColumn('label', F.col('Severity').cast(FloatType())).orderBy('prediction')\n",
    "preds_and_labels = preds_and_labels.select(['prediction','label'])\n",
    "metrics = MulticlassMetrics(preds_and_labels.rdd.map(tuple))\n",
    "print(metrics.confusionMatrix())"
   ]
  },
  {
   "cell_type": "markdown",
   "id": "89bf190b-44f3-4e74-b19f-0572c30ae514",
   "metadata": {},
   "source": [
    "Train & Test a tuned DT with Severity Undersampling"
   ]
  },
  {
   "cell_type": "code",
   "execution_count": 78,
   "id": "cd81511f-91c4-4b1a-aa07-328124405d82",
   "metadata": {
    "tags": []
   },
   "outputs": [
    {
     "name": "stderr",
     "output_type": "stream",
     "text": [
      "                                                                                \r"
     ]
    }
   ],
   "source": [
    "n=train_und.count()\n",
    "max_depth=[5,15,10,25]\n",
    "max_bins=[32,64]\n",
    "min_inst=[round(0.005*n),round(0.02*n)]\n",
    "impurity=['entropy', 'gini']"
   ]
  },
  {
   "cell_type": "code",
   "execution_count": 79,
   "id": "1a9e659d-2962-4d04-b8a8-edb1a2c32fef",
   "metadata": {
    "tags": []
   },
   "outputs": [
    {
     "name": "stderr",
     "output_type": "stream",
     "text": [
      "                                                                                \r"
     ]
    },
    {
     "name": "stdout",
     "output_type": "stream",
     "text": [
      "0.7105199807414541\n",
      "Test Error = 0.28948\n"
     ]
    },
    {
     "name": "stderr",
     "output_type": "stream",
     "text": [
      "                                                                                \r"
     ]
    },
    {
     "name": "stdout",
     "output_type": "stream",
     "text": [
      "Precision for class  0 : 54.70%\n",
      "Recall for class  0 : 84.60%\n",
      "avg_F1-Score for class  0 : 66.44%\n",
      "----------------------------\n",
      "Precision for class  1 : 98.80%\n",
      "Recall for class  1 : 70.29%\n",
      "avg_F1-Score for class  1 : 82.14%\n",
      "----------------------------\n",
      "Precision for class  2 : 37.67%\n",
      "Recall for class  2 : 84.78%\n",
      "avg_F1-Score for class  2 : 52.17%\n",
      "----------------------------\n",
      "Precision for class  3 : 7.86%\n",
      "Recall for class  3 : 75.68%\n",
      "avg_F1-Score for class  3 : 14.24%\n",
      "----------------------------\n",
      "[0.6643952299829643, 0.8214132762312635, 0.5216515609264853, 0.14242814242814242]\n",
      "----------------------\n",
      "avg_F1-Score: 53.75%\n"
     ]
    },
    {
     "data": {
      "text/plain": [
       "<Axes: >"
      ]
     },
     "execution_count": 79,
     "metadata": {},
     "output_type": "execute_result"
    },
    {
     "data": {
      "image/png": "[encoded data removed]",
      "text/plain": [
       "<Figure size 700x700 with 1 Axes>"
      ]
     },
     "metadata": {},
     "output_type": "display_data"
    }
   ],
   "source": [
    "dt = DecisionTreeClassifier(labelCol=\"Severity\", featuresCol=\"features\", maxDepth=15, maxBins=64, \n",
    "                            minInstancesPerNode=round(0.005*n), impurity='entropy')\n",
    "dt = dt.fit(train_und)\n",
    "predictions = dt.transform(testData)\n",
    "# Select (prediction, true label) and compute test error\n",
    "evaluator = MulticlassClassificationEvaluator(labelCol=\"Severity\"\n",
    "                                              , predictionCol=\"prediction\"\n",
    "                                              , metricName=\"accuracy\")\n",
    "\n",
    "accuracy = evaluator.evaluate(predictions)\n",
    "print(accuracy)\n",
    "print(\"Test Error = %g\" % (1.0 - accuracy))\n",
    "\n",
    "# Calcolare precision, recall e F1-score\n",
    "predictionAndLabels = predictions.select(\"prediction\", \"Severity\").rdd.map(lambda x: (float(x[0]), float(x[1])))\n",
    "metrics = MulticlassMetrics(predictionAndLabels)\n",
    "\n",
    "list_avg=[]\n",
    "for i in range(4):\n",
    "    precision = metrics.precision(label=float(i))  \n",
    "    recall = metrics.recall(label=float(i))\n",
    "    f1Score= metrics.fMeasure(label=float(i)) # need .0\n",
    "    print(\"Precision for class \",i,\": {:.2%}\".format(precision))\n",
    "    print(\"Recall for class \",i,\": {:.2%}\".format(recall))\n",
    "    print(\"avg_F1-Score for class \",i,\": {:.2%}\".format(f1Score))\n",
    "    list_avg.append(f1Score)\n",
    "    print('----------------------------')\n",
    "sum_=0\n",
    "print(list_avg)\n",
    "for elem in list_avg:\n",
    "    sum_+=elem\n",
    "\n",
    "avg_f1=sum_/4\n",
    "print('----------------------')\n",
    "\n",
    "print(\"avg_F1-Score: {:.2%}\".format(avg_f1))\n",
    "\n",
    "labels = [\"0\", \"1\", \"2\", \"3\"]\n",
    "_ = plt.figure(figsize=(7, 7))\n",
    "sns.heatmap(metrics.confusionMatrix().toArray(),\n",
    "            cmap='viridis',\n",
    "            annot=True,fmt='0',\n",
    "            cbar=False, \n",
    "            xticklabels=labels, \n",
    "            yticklabels=labels)"
   ]
  },
  {
   "cell_type": "markdown",
   "id": "5bdd00a3-16f0-4f46-8fe5-36912408cc55",
   "metadata": {},
   "source": [
    "Performing Undersampling(Severity=1) & Oversampling(Severity=0,2,3)"
   ]
  },
  {
   "cell_type": "code",
   "execution_count": 80,
   "id": "05254679-1ead-48f1-a4ae-e7ac64b235a5",
   "metadata": {},
   "outputs": [
    {
     "name": "stderr",
     "output_type": "stream",
     "text": [
      "23/12/14 22:21:36 WARN DAGScheduler: Broadcasting large task binary with size 2.0 MiB\n",
      "23/12/14 22:23:32 WARN DAGScheduler: Broadcasting large task binary with size 3.0 MiB\n",
      "23/12/14 22:23:33 WARN DAGScheduler: Broadcasting large task binary with size 3.0 MiB\n",
      "23/12/14 22:25:36 WARN DAGScheduler: Broadcasting large task binary with size 3.0 MiB\n",
      "23/12/14 22:27:22 WARN DAGScheduler: Broadcasting large task binary with size 3.0 MiB\n",
      "23/12/14 22:29:05 WARN DAGScheduler: Broadcasting large task binary with size 3.0 MiB\n",
      "23/12/14 22:29:30 WARN DAGScheduler: Broadcasting large task binary with size 3.0 MiB\n",
      "23/12/14 22:30:06 WARN DAGScheduler: Broadcasting large task binary with size 3.0 MiB\n",
      "23/12/14 22:30:43 WARN DAGScheduler: Broadcasting large task binary with size 3.0 MiB\n",
      "                                                                                \r"
     ]
    }
   ],
   "source": [
    "from pyspark.ml.classification import DecisionTreeClassifier, RandomForestClassifier\n",
    "\n",
    "dt = DecisionTreeClassifier(labelCol=\"Severity\", featuresCol=\"features\")\n",
    "\n",
    "dt = dt.fit(train_und_over)"
   ]
  },
  {
   "cell_type": "code",
   "execution_count": 81,
   "id": "c591dd23-9baf-4932-b4ab-eb428cedfd0e",
   "metadata": {},
   "outputs": [
    {
     "data": {
      "text/plain": [
       "SparseVector(27, {0: 0.2122, 1: 0.114, 2: 0.5022, 3: 0.0084, 4: 0.0028, 9: 0.0221, 18: 0.0074, 19: 0.1163, 21: 0.0146})"
      ]
     },
     "execution_count": 81,
     "metadata": {},
     "output_type": "execute_result"
    }
   ],
   "source": [
    "dt.featureImportances"
   ]
  },
  {
   "cell_type": "code",
   "execution_count": 82,
   "id": "0e98392f-927c-4b4c-9de3-db8339bc69d2",
   "metadata": {},
   "outputs": [
    {
     "name": "stderr",
     "output_type": "stream",
     "text": [
      "/opt/conda/lib/python3.10/site-packages/pyspark/sql/context.py:158: FutureWarning: Deprecated in 3.0.0. Use SparkSession.builder.getOrCreate() instead.\n",
      "  warnings.warn(\n"
     ]
    },
    {
     "name": "stdout",
     "output_type": "stream",
     "text": [
      "0.6626945915583373\n",
      "Test Error = 0.337305\n"
     ]
    },
    {
     "name": "stderr",
     "output_type": "stream",
     "text": [
      "[Stage 1094:===========>                                            (1 + 4) / 5]\r"
     ]
    },
    {
     "name": "stdout",
     "output_type": "stream",
     "text": [
      "Precision for class  0 : 54.08%\n",
      "Recall for class  0 : 87.64%\n",
      "avg_F1-Score for class  0 : 66.89%\n",
      "----------------------------\n",
      "Precision for class  1 : 98.70%\n",
      "Recall for class  1 : 65.25%\n",
      "avg_F1-Score for class  1 : 78.56%\n",
      "----------------------------\n",
      "Precision for class  2 : 39.27%\n",
      "Recall for class  2 : 77.58%\n",
      "avg_F1-Score for class  2 : 52.15%\n",
      "----------------------------\n",
      "Precision for class  3 : 6.60%\n",
      "Recall for class  3 : 76.60%\n",
      "avg_F1-Score for class  3 : 12.15%\n",
      "----------------------------\n",
      "[0.6688741721854304, 0.785641983960134, 0.5214521452145215, 0.12154829374170986]\n",
      "----------------------\n",
      "avg_F1-Score: 52.44%\n"
     ]
    },
    {
     "name": "stderr",
     "output_type": "stream",
     "text": [
      "                                                                                \r"
     ]
    }
   ],
   "source": [
    "predictions = dt.transform(testData)\n",
    "evaluator = MulticlassClassificationEvaluator(labelCol=\"Severity\"\n",
    "                                              , predictionCol=\"prediction\"\n",
    "                                              , metricName=\"accuracy\")\n",
    "\n",
    "accuracy = evaluator.evaluate(predictions)\n",
    "print(accuracy)\n",
    "print(\"Test Error = %g\" % (1.0 - accuracy))\n",
    "from pyspark.mllib.evaluation import MulticlassMetrics\n",
    "# Calcolare precision, recall e F1-score\n",
    "predictionAndLabels = predictions.select(\"prediction\", \"Severity\").rdd.map(lambda x: (float(x[0]), float(x[1])))\n",
    "metrics = MulticlassMetrics(predictionAndLabels)\n",
    "\n",
    "list_avg=[]\n",
    "for i in range(4):\n",
    "    precision = metrics.precision(label=float(i))  \n",
    "    recall = metrics.recall(label=float(i))\n",
    "    f1Score= metrics.fMeasure(label=float(i)) # need .0\n",
    "    print(\"Precision for class \",i,\": {:.2%}\".format(precision))\n",
    "    print(\"Recall for class \",i,\": {:.2%}\".format(recall))\n",
    "    print(\"avg_F1-Score for class \",i,\": {:.2%}\".format(f1Score))\n",
    "    list_avg.append(f1Score)\n",
    "    print('----------------------------')\n",
    "sum_=0\n",
    "print(list_avg)\n",
    "for elem in list_avg:\n",
    "    sum_+=elem\n",
    "    \n",
    "avg_f1=sum_/4\n",
    "print('----------------------')\n",
    "    \n",
    "print(\"avg_F1-Score: {:.2%}\".format(avg_f1))\n",
    "    "
   ]
  },
  {
   "cell_type": "code",
   "execution_count": 83,
   "id": "6c4abcbb-ebc7-49a5-8588-9cd2cc0e5b09",
   "metadata": {},
   "outputs": [
    {
     "data": {
      "text/plain": [
       "<Axes: >"
      ]
     },
     "execution_count": 83,
     "metadata": {},
     "output_type": "execute_result"
    },
    {
     "data": {
      "image/png": "[encoded data removed]",
      "text/plain": [
       "<Figure size 700x700 with 1 Axes>"
      ]
     },
     "metadata": {},
     "output_type": "display_data"
    }
   ],
   "source": [
    "import seaborn as sns\n",
    "import matplotlib.pyplot as plt\n",
    "\n",
    "labels = [\"0\", \"1\", \"2\", \"3\"]\n",
    "_ = plt.figure(figsize=(7, 7))\n",
    "sns.heatmap(metrics.confusionMatrix().toArray(),\n",
    "            cmap='viridis',\n",
    "            annot=True,fmt='0',\n",
    "            cbar=False, \n",
    "            xticklabels=labels, \n",
    "            yticklabels=labels)"
   ]
  },
  {
   "cell_type": "markdown",
   "id": "f23ccfbc-1cce-4de5-9331-1376b7f16451",
   "metadata": {},
   "source": [
    "Train & Test a tuned DT with Severity Undersampling + Oversampling"
   ]
  },
  {
   "cell_type": "code",
   "execution_count": 84,
   "id": "045a250c-b1b6-4cc9-a717-d6992f2f9ff6",
   "metadata": {
    "tags": []
   },
   "outputs": [
    {
     "name": "stderr",
     "output_type": "stream",
     "text": [
      "23/12/14 22:31:21 WARN DAGScheduler: Broadcasting large task binary with size 2035.3 KiB\n",
      "                                                                                \r"
     ]
    }
   ],
   "source": [
    "n=train_und_over.count()\n",
    "max_depth=[5,15,10,25]\n",
    "max_bins=[32,64]\n",
    "min_inst=[round(0.005*n),round(0.02*n)]\n",
    "impurity=['entropy', 'gini']"
   ]
  },
  {
   "cell_type": "code",
   "execution_count": 85,
   "id": "4b29fdea-d84c-4bb8-9a7e-a1a41aa1a290",
   "metadata": {
    "tags": []
   },
   "outputs": [
    {
     "name": "stderr",
     "output_type": "stream",
     "text": [
      "23/12/14 22:33:11 WARN DAGScheduler: Broadcasting large task binary with size 2.0 MiB\n",
      "23/12/14 22:34:59 WARN DAGScheduler: Broadcasting large task binary with size 3.0 MiB\n",
      "23/12/14 22:34:59 WARN DAGScheduler: Broadcasting large task binary with size 3.0 MiB\n",
      "23/12/14 22:36:38 WARN DAGScheduler: Broadcasting large task binary with size 3.0 MiB\n",
      "23/12/14 22:38:44 WARN DAGScheduler: Broadcasting large task binary with size 3.0 MiB\n",
      "23/12/14 22:41:57 WARN DAGScheduler: Broadcasting large task binary with size 3.0 MiB\n",
      "23/12/14 22:42:36 WARN DAGScheduler: Broadcasting large task binary with size 3.0 MiB\n",
      "23/12/14 22:43:11 WARN DAGScheduler: Broadcasting large task binary with size 3.0 MiB\n",
      "23/12/14 22:43:50 WARN DAGScheduler: Broadcasting large task binary with size 3.0 MiB\n",
      "23/12/14 22:44:29 WARN DAGScheduler: Broadcasting large task binary with size 3.0 MiB\n",
      "23/12/14 22:45:08 WARN DAGScheduler: Broadcasting large task binary with size 3.0 MiB\n",
      "23/12/14 22:45:51 WARN DAGScheduler: Broadcasting large task binary with size 3.0 MiB\n",
      "23/12/14 22:46:44 WARN DAGScheduler: Broadcasting large task binary with size 3.0 MiB\n",
      "23/12/14 22:47:30 WARN DAGScheduler: Broadcasting large task binary with size 3.0 MiB\n",
      "23/12/14 22:48:06 WARN DAGScheduler: Broadcasting large task binary with size 3.0 MiB\n",
      "23/12/14 22:48:42 WARN DAGScheduler: Broadcasting large task binary with size 3.0 MiB\n",
      "                                                                                \r"
     ]
    },
    {
     "name": "stdout",
     "output_type": "stream",
     "text": [
      "0.7334296260632323\n",
      "Test Error = 0.26657\n"
     ]
    },
    {
     "name": "stderr",
     "output_type": "stream",
     "text": [
      "/opt/conda/lib/python3.10/site-packages/pyspark/sql/context.py:158: FutureWarning: Deprecated in 3.0.0. Use SparkSession.builder.getOrCreate() instead.\n",
      "  warnings.warn(\n",
      "[Stage 1133:===========>                                            (1 + 4) / 5]\r"
     ]
    },
    {
     "name": "stdout",
     "output_type": "stream",
     "text": [
      "Precision for class  0 : 45.83%\n",
      "Recall for class  0 : 85.90%\n",
      "avg_F1-Score for class  0 : 59.77%\n",
      "----------------------------\n",
      "Precision for class  1 : 98.74%\n",
      "Recall for class  1 : 72.89%\n",
      "avg_F1-Score for class  1 : 83.86%\n",
      "----------------------------\n",
      "Precision for class  2 : 35.82%\n",
      "Recall for class  2 : 84.12%\n",
      "avg_F1-Score for class  2 : 50.24%\n",
      "----------------------------\n",
      "Precision for class  3 : 8.45%\n",
      "Recall for class  3 : 70.67%\n",
      "avg_F1-Score for class  3 : 15.09%\n",
      "----------------------------\n",
      "[0.5977358490566037, 0.8386456653850924, 0.5024437927663734, 0.15092502434274585]\n",
      "----------------------\n",
      "avg_F1-Score: 52.24%\n"
     ]
    },
    {
     "name": "stderr",
     "output_type": "stream",
     "text": [
      "                                                                                \r"
     ]
    },
    {
     "data": {
      "text/plain": [
       "<Axes: >"
      ]
     },
     "execution_count": 85,
     "metadata": {},
     "output_type": "execute_result"
    },
    {
     "data": {
      "image/png": "[encoded data removed]",
      "text/plain": [
       "<Figure size 700x700 with 1 Axes>"
      ]
     },
     "metadata": {},
     "output_type": "display_data"
    }
   ],
   "source": [
    "dt = DecisionTreeClassifier(labelCol=\"Severity\", featuresCol=\"features\", maxDepth=15, maxBins=64, \n",
    "                            minInstancesPerNode=round(0.005*n), impurity='entropy')\n",
    "dt = dt.fit(train_und_over)\n",
    "predictions = dt.transform(testData)\n",
    "# Select (prediction, true label) and compute test error\n",
    "evaluator = MulticlassClassificationEvaluator(labelCol=\"Severity\"\n",
    "                                              , predictionCol=\"prediction\"\n",
    "                                              , metricName=\"accuracy\")\n",
    "\n",
    "accuracy = evaluator.evaluate(predictions)\n",
    "print(accuracy)\n",
    "print(\"Test Error = %g\" % (1.0 - accuracy))\n",
    "\n",
    "# Calcolare precision, recall e F1-score\n",
    "predictionAndLabels = predictions.select(\"prediction\", \"Severity\").rdd.map(lambda x: (float(x[0]), float(x[1])))\n",
    "metrics = MulticlassMetrics(predictionAndLabels)\n",
    "\n",
    "list_avg=[]\n",
    "for i in range(4):\n",
    "    precision = metrics.precision(label=float(i))  \n",
    "    recall = metrics.recall(label=float(i))\n",
    "    f1Score= metrics.fMeasure(label=float(i)) # need .0\n",
    "    print(\"Precision for class \",i,\": {:.2%}\".format(precision))\n",
    "    print(\"Recall for class \",i,\": {:.2%}\".format(recall))\n",
    "    print(\"avg_F1-Score for class \",i,\": {:.2%}\".format(f1Score))\n",
    "    list_avg.append(f1Score)\n",
    "    print('----------------------------')\n",
    "sum_=0\n",
    "print(list_avg)\n",
    "for elem in list_avg:\n",
    "    sum_+=elem\n",
    "\n",
    "avg_f1=sum_/4\n",
    "print('----------------------')\n",
    "\n",
    "print(\"avg_F1-Score: {:.2%}\".format(avg_f1))\n",
    "\n",
    "labels = [\"0\", \"1\", \"2\", \"3\"]\n",
    "_ = plt.figure(figsize=(7, 7))\n",
    "sns.heatmap(metrics.confusionMatrix().toArray(),\n",
    "            cmap='viridis',\n",
    "            annot=True,fmt='0',\n",
    "            cbar=False,              xticklabels=labels, \n",
    "            yticklabels=labels)"
   ]
  }
 ],
 "metadata": {
  "kernelspec": {
   "display_name": "Python 3 (ipykernel)",
   "language": "python",
   "name": "python3"
  },
  "language_info": {
   "codemirror_mode": {
    "name": "ipython",
    "version": 3
   },
   "file_extension": ".py",
   "mimetype": "text/x-python",
   "name": "python",
   "nbconvert_exporter": "python",
   "pygments_lexer": "ipython3",
   "version": "3.9.13"
  }
 },
 "nbformat": 4,
 "nbformat_minor": 5
}
