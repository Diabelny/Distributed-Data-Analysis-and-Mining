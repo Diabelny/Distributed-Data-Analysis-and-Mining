{
 "cells": [
  {
   "cell_type": "code",
   "execution_count": 4,
   "id": "9f539ec8-e9a0-4074-8592-211ef2767a9c",
   "metadata": {
    "tags": []
   },
   "outputs": [
    {
     "name": "stderr",
     "output_type": "stream",
     "text": [
      "Setting default log level to \"WARN\".\n",
      "To adjust logging level use sc.setLogLevel(newLevel). For SparkR, use setLogLevel(newLevel).\n",
      "23/12/12 09:38:53 WARN NativeCodeLoader: Unable to load native-hadoop library for your platform... using builtin-java classes where applicable\n",
      "23/12/12 09:38:55 WARN Utils: Service 'SparkUI' could not bind on port 4040. Attempting port 4041.\n",
      "/opt/conda/lib/python3.10/site-packages/pyspark/sql/context.py:113: FutureWarning: Deprecated in 3.0.0. Use SparkSession.builder.getOrCreate() instead.\n",
      "  warnings.warn(\n"
     ]
    }
   ],
   "source": [
    "import pandas as pd\n",
    "import matplotlib.pyplot as plt\n",
    "import seaborn as sns\n",
    "from pyspark.ml.feature import StringIndexer\n",
    "from pyspark.sql import SQLContext, SparkSession\n",
    "from pyspark.sql.functions import *\n",
    "from pyspark.mllib.stat import Statistics\n",
    "from pyspark.sql.types import IntegerType, DoubleType, BooleanType, StringType, TimestampType\n",
    "\n",
    "\n",
    "from pyspark.ml.feature import VectorAssembler,StandardScaler\n",
    "#from pyspark.mllib.feature import StandardScaler \n",
    "\n",
    "spark = SparkSession.Builder().appName('DDAM_Project_north').getOrCreate()\n",
    "sqlCtx = SQLContext(spark)"
   ]
  },
  {
   "cell_type": "code",
   "execution_count": 5,
   "id": "159c1cf6-de6e-42cb-91f2-398242266617",
   "metadata": {
    "tags": []
   },
   "outputs": [
    {
     "name": "stderr",
     "output_type": "stream",
     "text": [
      "                                                                                \r"
     ]
    }
   ],
   "source": [
    "df = spark.read.options(inferSchema = True, delimiter = ',', header = True).csv('../../Datasets/North_Incidents_Cleaned.csv')"
   ]
  },
  {
   "cell_type": "code",
   "execution_count": 6,
   "id": "52139f21-3fc1-47b6-ba2c-06b2b5258e99",
   "metadata": {
    "tags": []
   },
   "outputs": [
    {
     "name": "stdout",
     "output_type": "stream",
     "text": [
      "Processing /home/jovyan\n",
      "  Preparing metadata (setup.py) ... \u001b[?25ldone\n",
      "\u001b[?25hRequirement already satisfied: numpy in /opt/conda/lib/python3.10/site-packages (from pyspark-kmodes==0.1.0) (1.24.3)\n",
      "Requirement already satisfied: scipy in /opt/conda/lib/python3.10/site-packages (from pyspark-kmodes==0.1.0) (1.10.1)\n",
      "Requirement already satisfied: scikit-learn>=0.16 in /opt/conda/lib/python3.10/site-packages (from pyspark-kmodes==0.1.0) (1.2.2)\n",
      "Requirement already satisfied: joblib>=1.1.1 in /opt/conda/lib/python3.10/site-packages (from scikit-learn>=0.16->pyspark-kmodes==0.1.0) (1.2.0)\n",
      "Requirement already satisfied: threadpoolctl>=2.0.0 in /opt/conda/lib/python3.10/site-packages (from scikit-learn>=0.16->pyspark-kmodes==0.1.0) (3.1.0)\n",
      "Building wheels for collected packages: pyspark-kmodes\n",
      "  Building wheel for pyspark-kmodes (setup.py) ... \u001b[?25ldone\n",
      "\u001b[?25h  Created wheel for pyspark-kmodes: filename=pyspark_kmodes-0.1.0-py3-none-any.whl size=11861 sha256=bac5a52b0822f0c0c439da7d564bcb3a76730dfec1b23bae6db6e1c72a03d6d4\n",
      "  Stored in directory: /tmp/pip-ephem-wheel-cache-3qb1r18c/wheels/bc/01/de/a88c3880a4c27c802b27f000f770a2fe391bdc11e738d133f7\n",
      "Successfully built pyspark-kmodes\n",
      "Installing collected packages: pyspark-kmodes\n",
      "  Attempting uninstall: pyspark-kmodes\n",
      "    Found existing installation: pyspark-kmodes 0.1.0\n",
      "    Uninstalling pyspark-kmodes-0.1.0:\n",
      "      Successfully uninstalled pyspark-kmodes-0.1.0\n",
      "Successfully installed pyspark-kmodes-0.1.0\n",
      "Note: you may need to restart the kernel to use updated packages.\n"
     ]
    }
   ],
   "source": [
    "pip install ."
   ]
  },
  {
   "cell_type": "code",
   "execution_count": 7,
   "id": "03db7b2b-a24f-4eb7-99a0-5d1d3d5301cb",
   "metadata": {
    "tags": []
   },
   "outputs": [],
   "source": [
    "from pyspark_kmodes import *"
   ]
  },
  {
   "cell_type": "code",
   "execution_count": 8,
   "id": "3c55cc91-f639-44f3-87c4-6649e6378eb8",
   "metadata": {
    "tags": []
   },
   "outputs": [],
   "source": [
    "from pyspark.sql.functions import monotonically_increasing_id"
   ]
  },
  {
   "cell_type": "code",
   "execution_count": 9,
   "id": "62351970-6c4a-4a8f-8e04-18b09c3211fc",
   "metadata": {
    "tags": []
   },
   "outputs": [],
   "source": [
    "df_with_row_id = df.withColumn(\"row_id\", monotonically_increasing_id())"
   ]
  },
  {
   "cell_type": "code",
   "execution_count": 11,
   "id": "5343eee8-7a88-44c7-ad87-d3f585ded678",
   "metadata": {
    "tags": []
   },
   "outputs": [],
   "source": [
    "df_kmodes_id= df_with_row_id.select('row_id','City','County','Wind_Direction','Amenity','Crossing','Give_Way','Junction','No_Exit','Railway','Roundabout',\n",
    "                     'Station','Stop','Traffic_Calming','Traffic_Signal','hour','month','season','Weather_Condition','Astronomical_Twilight','Severity', 'Working_Weekend')\n",
    "df_kmodes= df.select('City','County','Wind_Direction','Amenity','Crossing','Give_Way','Junction','No_Exit','Railway','Roundabout',\n",
    "                     'Station','Stop','Traffic_Calming','Traffic_Signal','hour','month','season','Weather_Condition','Astronomical_Twilight',\n",
    "                     'Severity')"
   ]
  },
  {
   "cell_type": "markdown",
   "id": "35689dee-7ab7-4037-aa5c-ef59f9adf396",
   "metadata": {},
   "source": [
    "SEVERITY"
   ]
  },
  {
   "cell_type": "code",
   "execution_count": 12,
   "id": "8e45a5a0-854c-4bd8-ab2a-eaf639a3bacb",
   "metadata": {
    "tags": []
   },
   "outputs": [
    {
     "name": "stderr",
     "output_type": "stream",
     "text": [
      "                                                                                \r"
     ]
    },
    {
     "name": "stdout",
     "output_type": "stream",
     "text": [
      "Iteration  0\n"
     ]
    },
    {
     "name": "stderr",
     "output_type": "stream",
     "text": [
      "                                                                                \r"
     ]
    },
    {
     "name": "stdout",
     "output_type": "stream",
     "text": [
      "Iteration  1\n"
     ]
    },
    {
     "name": "stderr",
     "output_type": "stream",
     "text": [
      "                                                                                \r"
     ]
    },
    {
     "name": "stdout",
     "output_type": "stream",
     "text": [
      "Iteration  2\n"
     ]
    },
    {
     "name": "stderr",
     "output_type": "stream",
     "text": [
      "                                                                                \r"
     ]
    },
    {
     "name": "stdout",
     "output_type": "stream",
     "text": [
      "Iteration  3\n"
     ]
    },
    {
     "name": "stderr",
     "output_type": "stream",
     "text": [
      "                                                                                \r"
     ]
    },
    {
     "name": "stdout",
     "output_type": "stream",
     "text": [
      "Iteration  4\n"
     ]
    },
    {
     "name": "stderr",
     "output_type": "stream",
     "text": [
      "                                                                                \r"
     ]
    },
    {
     "name": "stdout",
     "output_type": "stream",
     "text": [
      "Init: initializing centroids\n",
      "Init: initializing clusters\n",
      "Starting iterations...\n",
      "Run 1, iteration: 1/100, moves: 3, cost: 161.0\n",
      "Run 1, iteration: 2/100, moves: 0, cost: 161.0\n",
      "Avg cost/partition: 3.22\n",
      "Final centroids:\n",
      "['Detroit' 'Wayne' 4.0 False False False False False False False False\n",
      " False False False 7 2 'Winter' 'Cloudy' 'Day']\n",
      "['Minneapolis' 'Hennepin' 70.0 False False False False False False False\n",
      " False False False False 15 9 'Autumn' 'Normal' 'Day']\n",
      "['Bozeman' 'Gallatin' 25.0 False False False False False False False False\n",
      " False False False 8 3 'Spring' 'Cloudy' 'Day']\n",
      "['Saint Paul' 'Ramsey' 20.0 False False False False False False False\n",
      " False False False False 23 11 'Autumn' 'Cloudy' 'Night']\n",
      "['Saint Paul' 'Ramsey' 23.0 False False False False False False False\n",
      " False False False False 9 12 'Winter' 'Snow' 'Day']\n",
      "['Grand Rapids' 'Kent' 50.0 False False False False False False False\n",
      " False False False False 15 5 'Spring' 'Cloudy' 'Day']\n",
      "['Detroit' 'Wayne' 79.0 False False False False False False False False\n",
      " False False False 16 6 'Summer' 'Normal' 'Day']\n",
      "['Fargo' 'Cass' -24.0 False False False False False False False False\n",
      " False False False 17 1 'Winter' 'Snow' 'Day']\n",
      "['Detroit' 'Wayne' 81.0 False False False False False False False False\n",
      " False False False 17 8 'Summer' 'Normal' 'Day']\n",
      "['Missoula' 'Missoula' 19.0 False False False False False False False\n",
      " False False False False 0 3 'Spring' 'Cloudy' 'Night']\n"
     ]
    },
    {
     "name": "stderr",
     "output_type": "stream",
     "text": [
      "                                                                                \r"
     ]
    }
   ],
   "source": [
    "df_kmodes_severity=df_kmodes.drop('Severity')\n",
    "df_kmodes_rdd=df_kmodes_severity.rdd\n",
    "n_clusters = 10\n",
    "max_iter = 10\n",
    "\n",
    "method = EnsembleKModes(n_clusters, max_iter)\n",
    "model = method.fit(df_kmodes_rdd)"
   ]
  },
  {
   "cell_type": "code",
   "execution_count": 14,
   "id": "bcb83f44-5471-4924-9951-f9163925c824",
   "metadata": {
    "tags": []
   },
   "outputs": [],
   "source": [
    "lista_costi=[]\n",
    "lista_costi.append(method.mean_cost)"
   ]
  },
  {
   "cell_type": "code",
   "execution_count": 15,
   "id": "9b18fba1-fa00-45b5-9db9-a29c626b2781",
   "metadata": {
    "tags": []
   },
   "outputs": [
    {
     "name": "stderr",
     "output_type": "stream",
     "text": [
      "                                                                                \r"
     ]
    },
    {
     "name": "stdout",
     "output_type": "stream",
     "text": [
      "Iteration  0\n"
     ]
    },
    {
     "name": "stderr",
     "output_type": "stream",
     "text": [
      "                                                                                \r"
     ]
    },
    {
     "name": "stdout",
     "output_type": "stream",
     "text": [
      "Iteration  1\n"
     ]
    },
    {
     "name": "stderr",
     "output_type": "stream",
     "text": [
      "                                                                                \r"
     ]
    },
    {
     "name": "stdout",
     "output_type": "stream",
     "text": [
      "Iteration  2\n"
     ]
    },
    {
     "name": "stderr",
     "output_type": "stream",
     "text": [
      "                                                                                \r"
     ]
    },
    {
     "name": "stdout",
     "output_type": "stream",
     "text": [
      "Iteration  3\n"
     ]
    },
    {
     "name": "stderr",
     "output_type": "stream",
     "text": [
      "                                                                                \r"
     ]
    },
    {
     "name": "stdout",
     "output_type": "stream",
     "text": [
      "Init: initializing centroids\n",
      "Init: initializing clusters\n",
      "Starting iterations...\n",
      "Run 1, iteration: 1/100, moves: 0, cost: 33.0\n",
      "Avg cost/partition: 3.3\n",
      "Final centroids:\n",
      "['Minneapolis' 'Hennepin' 63.0 False False False False False False False\n",
      " False False False False 7 12 'Spring' 'Cloudy' 'Day']\n",
      "['Detroit' 'Wayne' 19.0 False False False False False False False False\n",
      " False False False 7 2 'Winter' 'Normal' 'Day']\n"
     ]
    },
    {
     "name": "stderr",
     "output_type": "stream",
     "text": [
      "                                                                                \r"
     ]
    },
    {
     "name": "stdout",
     "output_type": "stream",
     "text": [
      "Iteration  0\n"
     ]
    },
    {
     "name": "stderr",
     "output_type": "stream",
     "text": [
      "                                                                                \r"
     ]
    },
    {
     "name": "stdout",
     "output_type": "stream",
     "text": [
      "Iteration  1\n"
     ]
    },
    {
     "name": "stderr",
     "output_type": "stream",
     "text": [
      "                                                                                \r"
     ]
    },
    {
     "name": "stdout",
     "output_type": "stream",
     "text": [
      "Iteration  2\n"
     ]
    },
    {
     "name": "stderr",
     "output_type": "stream",
     "text": [
      "                                                                                \r"
     ]
    },
    {
     "name": "stdout",
     "output_type": "stream",
     "text": [
      "Iteration  3\n"
     ]
    },
    {
     "name": "stderr",
     "output_type": "stream",
     "text": [
      "                                                                                \r"
     ]
    },
    {
     "name": "stdout",
     "output_type": "stream",
     "text": [
      "Iteration  4\n"
     ]
    },
    {
     "name": "stderr",
     "output_type": "stream",
     "text": [
      "                                                                                \r"
     ]
    },
    {
     "name": "stdout",
     "output_type": "stream",
     "text": [
      "Init: initializing centroids\n",
      "Init: initializing clusters\n",
      "Starting iterations...\n",
      "Run 1, iteration: 1/100, moves: 1, cost: 52.0\n",
      "Run 1, iteration: 2/100, moves: 0, cost: 52.0\n",
      "Avg cost/partition: 3.466666666666667\n",
      "Final centroids:\n",
      "['Minneapolis' 'Hennepin' 63.0 False False False False False False False\n",
      " False False False False 15 12 'Winter' 'Cloudy' 'Day']\n",
      "['Grand Rapids' 'Kent' 23.0 False False False False False False False\n",
      " False False False False 8 2 'Winter' 'Snow' 'Day']\n",
      "['Milwaukee' 'Milwaukee' 79.0 False False False False False False False\n",
      " False False False False 16 8 'Summer' 'Normal' 'Day']\n"
     ]
    },
    {
     "name": "stderr",
     "output_type": "stream",
     "text": [
      "                                                                                \r"
     ]
    },
    {
     "name": "stdout",
     "output_type": "stream",
     "text": [
      "Iteration  0\n"
     ]
    },
    {
     "name": "stderr",
     "output_type": "stream",
     "text": [
      "                                                                                \r"
     ]
    },
    {
     "name": "stdout",
     "output_type": "stream",
     "text": [
      "Iteration  1\n"
     ]
    },
    {
     "name": "stderr",
     "output_type": "stream",
     "text": [
      "                                                                                \r"
     ]
    },
    {
     "name": "stdout",
     "output_type": "stream",
     "text": [
      "Iteration  2\n"
     ]
    },
    {
     "name": "stderr",
     "output_type": "stream",
     "text": [
      "                                                                                \r"
     ]
    },
    {
     "name": "stdout",
     "output_type": "stream",
     "text": [
      "Iteration  3\n"
     ]
    },
    {
     "name": "stderr",
     "output_type": "stream",
     "text": [
      "                                                                                \r"
     ]
    },
    {
     "name": "stdout",
     "output_type": "stream",
     "text": [
      "Init: initializing centroids\n",
      "Init: initializing clusters\n",
      "Starting iterations...\n",
      "Run 1, iteration: 1/100, moves: 2, cost: 70.0\n",
      "Run 1, iteration: 2/100, moves: 0, cost: 70.0\n",
      "Avg cost/partition: 3.5\n",
      "Final centroids:\n",
      "['Minneapolis' 'Hennepin' 18.0 False False False False False False False\n",
      " False False False False 15 12 'Winter' 'Cloudy' 'Day']\n",
      "['Saint Paul' 'Ramsey' 7.0 False False False False False False False False\n",
      " False False False 20 12 'Winter' 'Snow' 'Night']\n",
      "['Detroit' 'Wayne' 70.0 False False False False False False False False\n",
      " False False False 16 5 'Spring' 'Normal' 'Day']\n",
      "['Grand Rapids' 'Kent' 52.0 False False False False False False False\n",
      " False False False False 7 4 'Spring' 'Cloudy' 'Day']\n"
     ]
    },
    {
     "name": "stderr",
     "output_type": "stream",
     "text": [
      "                                                                                \r"
     ]
    },
    {
     "name": "stdout",
     "output_type": "stream",
     "text": [
      "Iteration  0\n"
     ]
    },
    {
     "name": "stderr",
     "output_type": "stream",
     "text": [
      "                                                                                \r"
     ]
    },
    {
     "name": "stdout",
     "output_type": "stream",
     "text": [
      "Iteration  1\n"
     ]
    },
    {
     "name": "stderr",
     "output_type": "stream",
     "text": [
      "                                                                                \r"
     ]
    },
    {
     "name": "stdout",
     "output_type": "stream",
     "text": [
      "Iteration  2\n"
     ]
    },
    {
     "name": "stderr",
     "output_type": "stream",
     "text": [
      "                                                                                \r"
     ]
    },
    {
     "name": "stdout",
     "output_type": "stream",
     "text": [
      "Iteration  3\n"
     ]
    },
    {
     "name": "stderr",
     "output_type": "stream",
     "text": [
      "                                                                                \r"
     ]
    },
    {
     "name": "stdout",
     "output_type": "stream",
     "text": [
      "Iteration  4\n"
     ]
    },
    {
     "name": "stderr",
     "output_type": "stream",
     "text": [
      "                                                                                \r"
     ]
    },
    {
     "name": "stdout",
     "output_type": "stream",
     "text": [
      "Init: initializing centroids\n",
      "Init: initializing clusters\n",
      "Starting iterations...\n",
      "Run 1, iteration: 1/100, moves: 2, cost: 86.0\n",
      "Run 1, iteration: 2/100, moves: 0, cost: 86.0\n",
      "Avg cost/partition: 3.44\n",
      "Final centroids:\n",
      "['Minneapolis' 'Hennepin' 70.0 False False False False False False False\n",
      " False False False False 15 4 'Spring' 'Cloudy' 'Day']\n",
      "['Grand Rapids' 'Kent' 19.0 False False False False False False False\n",
      " False False False False 7 12 'Winter' 'Cloudy' 'Day']\n",
      "['Detroit' 'Wayne' 10.0 False False False False False False False False\n",
      " False False False 16 6 'Summer' 'Cloudy' 'Day']\n",
      "['Bozeman' 'Gallatin' 27.0 False False False False False False False False\n",
      " False False False 20 3 'Spring' 'Snow' 'Night']\n",
      "['Minneapolis' 'Hennepin' -9.0 False False False False False False False\n",
      " False False False False 8 2 'Winter' 'Normal' 'Day']\n"
     ]
    },
    {
     "name": "stderr",
     "output_type": "stream",
     "text": [
      "                                                                                \r"
     ]
    },
    {
     "name": "stdout",
     "output_type": "stream",
     "text": [
      "Iteration  0\n"
     ]
    },
    {
     "name": "stderr",
     "output_type": "stream",
     "text": [
      "                                                                                \r"
     ]
    },
    {
     "name": "stdout",
     "output_type": "stream",
     "text": [
      "Iteration  1\n"
     ]
    },
    {
     "name": "stderr",
     "output_type": "stream",
     "text": [
      "                                                                                \r"
     ]
    },
    {
     "name": "stdout",
     "output_type": "stream",
     "text": [
      "Iteration  2\n"
     ]
    },
    {
     "name": "stderr",
     "output_type": "stream",
     "text": [
      "                                                                                \r"
     ]
    },
    {
     "name": "stdout",
     "output_type": "stream",
     "text": [
      "Iteration  3\n"
     ]
    },
    {
     "name": "stderr",
     "output_type": "stream",
     "text": [
      "                                                                                \r"
     ]
    },
    {
     "name": "stdout",
     "output_type": "stream",
     "text": [
      "Iteration  4\n"
     ]
    },
    {
     "name": "stderr",
     "output_type": "stream",
     "text": [
      "                                                                                \r"
     ]
    },
    {
     "name": "stdout",
     "output_type": "stream",
     "text": [
      "Init: initializing centroids\n",
      "Init: initializing clusters\n",
      "Starting iterations...\n",
      "Run 1, iteration: 1/100, moves: 0, cost: 102.0\n",
      "Avg cost/partition: 3.4\n",
      "Final centroids:\n",
      "['Detroit' 'Wayne' 17.0 False False False False False False False False\n",
      " False False False 20 2 'Winter' 'Cloudy' 'Day']\n",
      "['Grand Rapids' 'Kent' 19.0 False False False False False False False\n",
      " False False False False 17 11 'Autumn' 'Normal' 'Day']\n",
      "['Grand Rapids' 'Kent' 11.0 False True False False False False False False\n",
      " False False True 16 1 'Winter' 'Cloudy' 'Day']\n",
      "['Minneapolis' 'Hennepin' 52.0 False False False False False False False\n",
      " False False False False 15 5 'Winter' 'Normal' 'Day']\n",
      "['Grand Rapids' 'Kent' 34.0 False False False False False False False\n",
      " False False False False 7 3 'Spring' 'Cloudy' 'Day']\n",
      "['Milwaukee' 'Milwaukee' 79.0 False False False False False False False\n",
      " False False False False 16 7 'Summer' 'Cloudy' 'Day']\n"
     ]
    },
    {
     "name": "stderr",
     "output_type": "stream",
     "text": [
      "                                                                                \r"
     ]
    },
    {
     "name": "stdout",
     "output_type": "stream",
     "text": [
      "Iteration  0\n"
     ]
    },
    {
     "name": "stderr",
     "output_type": "stream",
     "text": [
      "                                                                                \r"
     ]
    },
    {
     "name": "stdout",
     "output_type": "stream",
     "text": [
      "Iteration  1\n"
     ]
    },
    {
     "name": "stderr",
     "output_type": "stream",
     "text": [
      "                                                                                \r"
     ]
    },
    {
     "name": "stdout",
     "output_type": "stream",
     "text": [
      "Iteration  2\n"
     ]
    },
    {
     "name": "stderr",
     "output_type": "stream",
     "text": [
      "                                                                                \r"
     ]
    },
    {
     "name": "stdout",
     "output_type": "stream",
     "text": [
      "Iteration  3\n"
     ]
    },
    {
     "name": "stderr",
     "output_type": "stream",
     "text": [
      "                                                                                \r"
     ]
    },
    {
     "name": "stdout",
     "output_type": "stream",
     "text": [
      "Iteration  4\n"
     ]
    },
    {
     "name": "stderr",
     "output_type": "stream",
     "text": [
      "                                                                                \r"
     ]
    },
    {
     "name": "stdout",
     "output_type": "stream",
     "text": [
      "Init: initializing centroids\n",
      "Init: initializing clusters\n",
      "Starting iterations...\n",
      "Run 1, iteration: 1/100, moves: 2, cost: 114.0\n",
      "Run 1, iteration: 2/100, moves: 0, cost: 114.0\n",
      "Avg cost/partition: 3.257142857142857\n",
      "Final centroids:\n",
      "['Minneapolis' 'Hennepin' 18.0 False False False False False False False\n",
      " False False False False 15 2 'Winter' 'Normal' 'Day']\n",
      "['Kalispell' 'Flathead' 70.0 False False False False False False False\n",
      " False False False False 23 6 'Summer' 'Normal' 'Night']\n",
      "['Grand Rapids' 'Kent' 6.0 False False False False False False False False\n",
      " False False False 7 3 'Spring' 'Cloudy' 'Day']\n",
      "['Saint Paul' 'Ramsey' 66.0 False False False False False False False\n",
      " False False False False 17 9 'Autumn' 'Normal' 'Day']\n",
      "['Milwaukee' 'Milwaukee' 10.0 False False False False False False False\n",
      " False False False False 16 12 'Winter' 'Cloudy' 'Day']\n",
      "['Madison' 'Dane' 81.0 False False False False False False False False\n",
      " False False False 15 6 'Summer' 'Cloudy' 'Day']\n",
      "['Detroit' 'Wayne' 73.0 False False False False False False False False\n",
      " False False False 14 7 'Summer' 'Normal' 'Day']\n"
     ]
    },
    {
     "name": "stderr",
     "output_type": "stream",
     "text": [
      "                                                                                \r"
     ]
    },
    {
     "name": "stdout",
     "output_type": "stream",
     "text": [
      "Iteration  0\n"
     ]
    },
    {
     "name": "stderr",
     "output_type": "stream",
     "text": [
      "                                                                                \r"
     ]
    },
    {
     "name": "stdout",
     "output_type": "stream",
     "text": [
      "Iteration  1\n"
     ]
    },
    {
     "name": "stderr",
     "output_type": "stream",
     "text": [
      "                                                                                \r"
     ]
    },
    {
     "name": "stdout",
     "output_type": "stream",
     "text": [
      "Iteration  2\n"
     ]
    },
    {
     "name": "stderr",
     "output_type": "stream",
     "text": [
      "                                                                                \r"
     ]
    },
    {
     "name": "stdout",
     "output_type": "stream",
     "text": [
      "Iteration  3\n"
     ]
    },
    {
     "name": "stderr",
     "output_type": "stream",
     "text": [
      "                                                                                \r"
     ]
    },
    {
     "name": "stdout",
     "output_type": "stream",
     "text": [
      "Iteration  4\n"
     ]
    },
    {
     "name": "stderr",
     "output_type": "stream",
     "text": [
      "                                                                                \r"
     ]
    },
    {
     "name": "stdout",
     "output_type": "stream",
     "text": [
      "Iteration  5\n"
     ]
    },
    {
     "name": "stderr",
     "output_type": "stream",
     "text": [
      "                                                                                \r"
     ]
    },
    {
     "name": "stdout",
     "output_type": "stream",
     "text": [
      "Iteration  6\n"
     ]
    },
    {
     "name": "stderr",
     "output_type": "stream",
     "text": [
      "                                                                                \r"
     ]
    },
    {
     "name": "stdout",
     "output_type": "stream",
     "text": [
      "Init: initializing centroids\n",
      "Init: initializing clusters\n",
      "Starting iterations...\n",
      "Run 1, iteration: 1/100, moves: 1, cost: 130.0\n",
      "Run 1, iteration: 2/100, moves: 0, cost: 130.0\n",
      "Avg cost/partition: 3.25\n",
      "Final centroids:\n",
      "['Detroit' 'Wayne' 16.0 False False False False False False False False\n",
      " False False False 16 2 'Winter' 'Cloudy' 'Day']\n",
      "['Minneapolis' 'Hennepin' 79.0 False False False False False False False\n",
      " False False False False 14 8 'Summer' 'Normal' 'Day']\n",
      "['Saint Paul' 'Ramsey' 61.0 False False False False False False False\n",
      " False False False False 15 9 'Autumn' 'Normal' 'Night']\n",
      "['Bozeman' 'Gallatin' 18.0 False False False False False False False False\n",
      " False False False 19 12 'Winter' 'Snow' 'Night']\n",
      "['Grand Rapids' 'Kent' 6.0 False False False False False False False False\n",
      " False False False 7 3 'Spring' 'Cloudy' 'Day']\n",
      "['Clinton' 'Missoula' 30.0 False False False False False False False False\n",
      " False False False 10 1 'Winter' 'Snow' 'Day']\n",
      "['Minneapolis' 'Hennepin' 51.0 False False False False False False False\n",
      " False False False False 15 4 'Spring' 'Cloudy' 'Day']\n",
      "['Detroit' 'Wayne' 19.0 False False False False False False False False\n",
      " False False False 15 11 'Autumn' 'Normal' 'Day']\n"
     ]
    },
    {
     "name": "stderr",
     "output_type": "stream",
     "text": [
      "                                                                                \r"
     ]
    },
    {
     "name": "stdout",
     "output_type": "stream",
     "text": [
      "Iteration  0\n"
     ]
    },
    {
     "name": "stderr",
     "output_type": "stream",
     "text": [
      "                                                                                \r"
     ]
    },
    {
     "name": "stdout",
     "output_type": "stream",
     "text": [
      "Iteration  1\n"
     ]
    },
    {
     "name": "stderr",
     "output_type": "stream",
     "text": [
      "                                                                                \r"
     ]
    },
    {
     "name": "stdout",
     "output_type": "stream",
     "text": [
      "Iteration  2\n"
     ]
    },
    {
     "name": "stderr",
     "output_type": "stream",
     "text": [
      "                                                                                \r"
     ]
    },
    {
     "name": "stdout",
     "output_type": "stream",
     "text": [
      "Iteration  3\n"
     ]
    },
    {
     "name": "stderr",
     "output_type": "stream",
     "text": [
      "                                                                                \r"
     ]
    },
    {
     "name": "stdout",
     "output_type": "stream",
     "text": [
      "Iteration  4\n"
     ]
    },
    {
     "name": "stderr",
     "output_type": "stream",
     "text": [
      "                                                                                \r"
     ]
    },
    {
     "name": "stdout",
     "output_type": "stream",
     "text": [
      "Init: initializing centroids\n",
      "Init: initializing clusters\n",
      "Starting iterations...\n",
      "Run 1, iteration: 1/100, moves: 6, cost: 142.0\n",
      "Run 1, iteration: 2/100, moves: 0, cost: 142.0\n",
      "Avg cost/partition: 3.1555555555555554\n",
      "Final centroids:\n",
      "['Detroit' 'Wayne' 18.0 False False False False False False False False\n",
      " False False False 15 12 'Winter' 'Cloudy' 'Day']\n",
      "['Detroit' 'Wayne' 70.0 False False False False False False False False\n",
      " False False False 16 6 'Summer' 'Normal' 'Day']\n",
      "['Minneapolis' 'Hennepin' 24.0 False False False False False False False\n",
      " False False False False 7 4 'Spring' 'Cloudy' 'Day']\n",
      "['Grand Rapids' 'Kent' 19.0 False False False False False False False\n",
      " False False False False 17 11 'Autumn' 'Snow' 'Day']\n",
      "['Milwaukee' 'Milwaukee' 51.0 False False False False False False False\n",
      " False False False False 16 5 'Spring' 'Cloudy' 'Day']\n",
      "['Saint Paul' 'Ramsey' -10.0 False False False False False False False\n",
      " False False False False 6 2 'Winter' 'Normal' 'Day']\n",
      "['Madison' 'Dane' 79.0 False False False False False False False False\n",
      " False False False 15 8 'Summer' 'Normal' 'Day']\n",
      "['Detroit' 'Wayne' 54.0 False False False False False False False False\n",
      " False False False 14 10 'Autumn' 'Normal' 'Day']\n",
      "['Saint Cloud' 'Stearns' 24.0 False False False False False False False\n",
      " False False False False 21 1 'Winter' 'Cloudy' 'Night']\n"
     ]
    },
    {
     "name": "stderr",
     "output_type": "stream",
     "text": [
      "                                                                                \r"
     ]
    },
    {
     "name": "stdout",
     "output_type": "stream",
     "text": [
      "Iteration  0\n"
     ]
    },
    {
     "name": "stderr",
     "output_type": "stream",
     "text": [
      "                                                                                \r"
     ]
    },
    {
     "name": "stdout",
     "output_type": "stream",
     "text": [
      "Iteration  1\n"
     ]
    },
    {
     "name": "stderr",
     "output_type": "stream",
     "text": [
      "                                                                                \r"
     ]
    },
    {
     "name": "stdout",
     "output_type": "stream",
     "text": [
      "Iteration  2\n"
     ]
    },
    {
     "name": "stderr",
     "output_type": "stream",
     "text": [
      "                                                                                \r"
     ]
    },
    {
     "name": "stdout",
     "output_type": "stream",
     "text": [
      "Iteration  3\n"
     ]
    },
    {
     "name": "stderr",
     "output_type": "stream",
     "text": [
      "                                                                                \r"
     ]
    },
    {
     "name": "stdout",
     "output_type": "stream",
     "text": [
      "Iteration  4\n"
     ]
    },
    {
     "name": "stderr",
     "output_type": "stream",
     "text": [
      "                                                                                \r"
     ]
    },
    {
     "name": "stdout",
     "output_type": "stream",
     "text": [
      "Init: initializing centroids\n",
      "Init: initializing clusters\n",
      "Starting iterations...\n",
      "Run 1, iteration: 1/100, moves: 2, cost: 158.0\n",
      "Run 1, iteration: 2/100, moves: 0, cost: 158.0\n",
      "Avg cost/partition: 3.16\n",
      "Final centroids:\n",
      "['Minneapolis' 'Hennepin' 18.0 False False False False False False False\n",
      " False False False False 15 12 'Winter' 'Cloudy' 'Day']\n",
      "['Saint Paul' 'Ramsey' 24.0 False False False False False False False\n",
      " False False False False 22 11 'Autumn' 'Normal' 'Night']\n",
      "['Detroit' 'Wayne' 60.0 False False False False False False False False\n",
      " False False False 16 6 'Summer' 'Normal' 'Day']\n",
      "['Flint' 'Genesee' 50.0 False False False False False False False False\n",
      " False False False 19 2 'Winter' 'Normal' 'Day']\n",
      "['Grand Rapids' 'Kent' 33.0 False False False False False False False\n",
      " False False False False 7 3 'Spring' 'Cloudy' 'Day']\n",
      "['Saint Paul' 'Dakota' 61.0 False False False False False False False\n",
      " False False False False 17 9 'Autumn' 'Normal' 'Day']\n",
      "['Fargo' 'Cass' -24.0 False False False False False False False False\n",
      " False False False 13 1 'Winter' 'Snow' 'Day']\n",
      "['Saint Regis' 'Mineral' 21.0 False False False False False False False\n",
      " False False False False 21 2 'Winter' 'Cloudy' 'Night']\n",
      "['Saint Paul' 'Ramsey' 79.0 False False False False False False False\n",
      " False False False False 15 3 'Spring' 'Normal' 'Day']\n",
      "['Detroit' 'Wayne' 10.0 False False False False False False False False\n",
      " False False False 8 2 'Winter' 'Cloudy' 'Day']\n"
     ]
    },
    {
     "name": "stderr",
     "output_type": "stream",
     "text": [
      "                                                                                \r"
     ]
    }
   ],
   "source": [
    "\n",
    "for k in range(2,11):\n",
    "    n_clusters = k\n",
    "    max_iter = 10\n",
    "    method = EnsembleKModes(n_clusters, max_iter)\n",
    "    model = method.fit(df_kmodes_rdd)\n",
    "    lista_costi.append(method.mean_cost)"
   ]
  },
  {
   "cell_type": "code",
   "execution_count": 16,
   "id": "d1822a5b-56ac-4e19-87bf-0c85140aced4",
   "metadata": {
    "tags": []
   },
   "outputs": [
    {
     "data": {
      "text/plain": [
       "10"
      ]
     },
     "execution_count": 16,
     "metadata": {},
     "output_type": "execute_result"
    }
   ],
   "source": [
    "len(lista_costi)"
   ]
  },
  {
   "cell_type": "code",
   "execution_count": 18,
   "id": "204010f1-0ced-461f-8b35-7040102a9f6d",
   "metadata": {
    "tags": []
   },
   "outputs": [
    {
     "data": {
      "text/plain": [
       "9"
      ]
     },
     "execution_count": 18,
     "metadata": {},
     "output_type": "execute_result"
    }
   ],
   "source": [
    "lista_costi1 =lista_costi[:9]\n",
    "len(lista_costi1)"
   ]
  },
  {
   "cell_type": "code",
   "execution_count": 19,
   "id": "896c8064-67bc-45e5-8ab7-b880778c87e8",
   "metadata": {
    "tags": []
   },
   "outputs": [
    {
     "name": "stdout",
     "output_type": "stream",
     "text": [
      "Requirement already satisfied: kneed in /opt/conda/lib/python3.10/site-packages (0.8.5)\n",
      "Requirement already satisfied: numpy>=1.14.2 in /opt/conda/lib/python3.10/site-packages (from kneed) (1.24.3)\n",
      "Requirement already satisfied: scipy>=1.0.0 in /opt/conda/lib/python3.10/site-packages (from kneed) (1.10.1)\n"
     ]
    }
   ],
   "source": [
    "!pip install kneed"
   ]
  },
  {
   "cell_type": "code",
   "execution_count": 20,
   "id": "fa574d83-6e71-40bf-a872-5fcca44e2f29",
   "metadata": {
    "tags": []
   },
   "outputs": [
    {
     "data": {
      "image/png": "[encoded data removed]",
      "text/plain": [
       "<Figure size 640x480 with 1 Axes>"
      ]
     },
     "metadata": {},
     "output_type": "display_data"
    },
    {
     "name": "stdout",
     "output_type": "stream",
     "text": [
      "Elbow detected at K = 2\n"
     ]
    }
   ],
   "source": [
    "from kneed import KneeLocator\n",
    "plt.figure()\n",
    "plt.plot(range(2, 11), lista_costi1, marker='o')\n",
    "plt.xlabel(\"K\")\n",
    "plt.ylabel(\"SSE\")\n",
    "plt.title(\"Elbow Method for Optimal K\")\n",
    "plt.show()\n",
    "\n",
    "# Trova l'elbow con KneeLocator\n",
    "kl = KneeLocator(range(2, 11), lista_costi1, curve=\"convex\", direction=\"decreasing\")\n",
    "print(f\"Elbow detected at K = {kl.elbow}\")"
   ]
  },
  {
   "cell_type": "markdown",
   "id": "926dbe45-7d5f-40fc-9540-7132902635a6",
   "metadata": {},
   "source": [
    "PROVO K=5"
   ]
  },
  {
   "cell_type": "code",
   "execution_count": 21,
   "id": "37269a2a-7ec3-4f98-81dc-ed7eb6250901",
   "metadata": {
    "tags": []
   },
   "outputs": [
    {
     "name": "stderr",
     "output_type": "stream",
     "text": [
      "                                                                                \r"
     ]
    },
    {
     "name": "stdout",
     "output_type": "stream",
     "text": [
      "Iteration  0\n"
     ]
    },
    {
     "name": "stderr",
     "output_type": "stream",
     "text": [
      "                                                                                \r"
     ]
    },
    {
     "name": "stdout",
     "output_type": "stream",
     "text": [
      "Iteration  1\n"
     ]
    },
    {
     "name": "stderr",
     "output_type": "stream",
     "text": [
      "                                                                                \r"
     ]
    },
    {
     "name": "stdout",
     "output_type": "stream",
     "text": [
      "Iteration  2\n"
     ]
    },
    {
     "name": "stderr",
     "output_type": "stream",
     "text": [
      "                                                                                \r"
     ]
    },
    {
     "name": "stdout",
     "output_type": "stream",
     "text": [
      "Iteration  3\n"
     ]
    },
    {
     "name": "stderr",
     "output_type": "stream",
     "text": [
      "                                                                                \r"
     ]
    },
    {
     "name": "stdout",
     "output_type": "stream",
     "text": [
      "Init: initializing centroids\n",
      "Init: initializing clusters\n",
      "Starting iterations...\n",
      "Run 1, iteration: 1/100, moves: 1, cost: 77.0\n",
      "Run 1, iteration: 2/100, moves: 0, cost: 77.0\n",
      "Avg cost/partition: 3.08\n",
      "Final centroids:\n",
      "['Minneapolis' 'Hennepin' 70.0 False False False False False False False\n",
      " False False False False 7 5 'Spring' 'Cloudy' 'Day']\n",
      "['Saint Paul' 'Ramsey' 18.0 False False False False False False False\n",
      " False False False False 10 12 'Winter' 'Snow' 'Day']\n",
      "['Saint Paul' 'Wayne' 68.0 False False False False False False False False\n",
      " False False False 16 9 'Autumn' 'Normal' 'Day']\n",
      "['Detroit' 'Wayne' 10.0 False False False False False False False False\n",
      " False False False 17 1 'Winter' 'Cloudy' 'Day']\n",
      "['Grand Rapids' 'Kent' 19.0 False False False False False False False\n",
      " False False False False 15 11 'Autumn' 'Snow' 'Day']\n"
     ]
    },
    {
     "name": "stderr",
     "output_type": "stream",
     "text": [
      "                                                                                \r"
     ]
    }
   ],
   "source": [
    "n_clusters = 5\n",
    "max_iter = 10\n",
    "\n",
    "method = EnsembleKModes(n_clusters, max_iter)\n",
    "model = method.fit(df_kmodes_rdd)"
   ]
  },
  {
   "cell_type": "code",
   "execution_count": 22,
   "id": "409e10cf-2417-4205-ac0a-4e3a691d4a3b",
   "metadata": {
    "tags": []
   },
   "outputs": [],
   "source": [
    "predictions=model.predict(df_kmodes_rdd)"
   ]
  },
  {
   "cell_type": "code",
   "execution_count": 23,
   "id": "209a7b7a-6de6-4a69-838a-63e7c5923887",
   "metadata": {
    "tags": []
   },
   "outputs": [
    {
     "name": "stdout",
     "output_type": "stream",
     "text": [
      "+-----------+\n",
      "|predictions|\n",
      "+-----------+\n",
      "|          1|\n",
      "|          1|\n",
      "|          2|\n",
      "|          2|\n",
      "|          3|\n",
      "|          3|\n",
      "|          3|\n",
      "|          3|\n",
      "|          1|\n",
      "|          1|\n",
      "|          1|\n",
      "|          1|\n",
      "|          1|\n",
      "|          1|\n",
      "|          4|\n",
      "|          4|\n",
      "|          1|\n",
      "|          1|\n",
      "|          1|\n",
      "|          1|\n",
      "+-----------+\n",
      "only showing top 20 rows\n",
      "\n"
     ]
    },
    {
     "name": "stderr",
     "output_type": "stream",
     "text": [
      "                                                                                \r"
     ]
    }
   ],
   "source": [
    "from pyspark.sql.types import StructType, StructField, IntegerType, StringType\n",
    "schema = StructType([\n",
    "    StructField(\"predictions\", IntegerType(), True)])\n",
    "df_predictions = spark.createDataFrame(predictions.map(lambda x: (int(x),)), schema)\n",
    "df_predictions.show()"
   ]
  },
  {
   "cell_type": "code",
   "execution_count": 24,
   "id": "0d45a9ec-2771-48dd-ba97-deaebc4a065d",
   "metadata": {
    "tags": []
   },
   "outputs": [],
   "source": [
    "df_predictions_id = df_predictions.withColumn(\"row_id\", monotonically_increasing_id())\n",
    "joint=df_kmodes_id.join(df_predictions_id, 'row_id')"
   ]
  },
  {
   "cell_type": "code",
   "execution_count": 25,
   "id": "587bec42-e91c-4d87-bddb-754673876222",
   "metadata": {
    "tags": []
   },
   "outputs": [
    {
     "name": "stderr",
     "output_type": "stream",
     "text": [
      "                                                                                \r"
     ]
    },
    {
     "name": "stdout",
     "output_type": "stream",
     "text": [
      "Contingency Table:\n",
      "Severity       1      2    3    4\n",
      "predictions                      \n",
      "0            845  27137  709  784\n",
      "1             37  19788  264  354\n",
      "2            390  15072  454  713\n",
      "3             41   8657  666  156\n",
      "4            145   6856   35  164\n"
     ]
    },
    {
     "data": {
      "image/png": "[encoded data removed]",
      "text/plain": [
       "<Figure size 640x480 with 1 Axes>"
      ]
     },
     "metadata": {},
     "output_type": "display_data"
    }
   ],
   "source": [
    "contingency_table = joint.groupBy('predictions', 'Severity').count().toPandas()\n",
    "pivot_table = contingency_table.pivot(index='predictions', columns='Severity', values='count')\n",
    "\n",
    "\n",
    "print(\"Contingency Table:\")\n",
    "print(pivot_table)\n",
    "\n",
    "\n",
    "pivot_table.plot(kind='bar', stacked=True, title='Severity Distribution in Clusters')\n",
    "plt.xlabel('Cluster')\n",
    "plt.ylabel('Count')\n",
    "plt.show()"
   ]
  },
  {
   "cell_type": "markdown",
   "id": "e2e7d475-9fd3-4dd3-a65e-d9f2455250be",
   "metadata": {},
   "source": [
    "PROVO K = 4"
   ]
  },
  {
   "cell_type": "code",
   "execution_count": 26,
   "id": "189fe34b-9fa0-40bc-afd6-1d2208dbab3e",
   "metadata": {
    "tags": []
   },
   "outputs": [
    {
     "name": "stderr",
     "output_type": "stream",
     "text": [
      "                                                                                \r"
     ]
    },
    {
     "name": "stdout",
     "output_type": "stream",
     "text": [
      "Iteration  0\n"
     ]
    },
    {
     "name": "stderr",
     "output_type": "stream",
     "text": [
      "                                                                                \r"
     ]
    },
    {
     "name": "stdout",
     "output_type": "stream",
     "text": [
      "Iteration  1\n"
     ]
    },
    {
     "name": "stderr",
     "output_type": "stream",
     "text": [
      "                                                                                \r"
     ]
    },
    {
     "name": "stdout",
     "output_type": "stream",
     "text": [
      "Iteration  2\n"
     ]
    },
    {
     "name": "stderr",
     "output_type": "stream",
     "text": [
      "                                                                                \r"
     ]
    },
    {
     "name": "stdout",
     "output_type": "stream",
     "text": [
      "Iteration  3\n"
     ]
    },
    {
     "name": "stderr",
     "output_type": "stream",
     "text": [
      "                                                                                \r"
     ]
    },
    {
     "name": "stdout",
     "output_type": "stream",
     "text": [
      "Iteration  4\n"
     ]
    },
    {
     "name": "stderr",
     "output_type": "stream",
     "text": [
      "                                                                                \r"
     ]
    },
    {
     "name": "stdout",
     "output_type": "stream",
     "text": [
      "Init: initializing centroids\n",
      "Init: initializing clusters\n",
      "Starting iterations...\n",
      "Run 1, iteration: 1/100, moves: 0, cost: 69.0\n",
      "Avg cost/partition: 3.45\n",
      "Final centroids:\n",
      "['Minneapolis' 'Hennepin' 18.0 False False False False False False False\n",
      " False False False False 16 12 'Winter' 'Cloudy' 'Day']\n",
      "['Detroit' 'Wayne' 73.0 False False False False False False False False\n",
      " False False False 16 6 'Summer' 'Normal' 'Day']\n",
      "['Bozeman' 'Gallatin' 27.0 False False False False False False False False\n",
      " False False False 8 3 'Spring' 'Snow' 'Day']\n",
      "['Grand Rapids' 'Kent' 50.0 False False False False False False False\n",
      " False False False False 7 3 'Spring' 'Cloudy' 'Day']\n"
     ]
    },
    {
     "name": "stderr",
     "output_type": "stream",
     "text": [
      "                                                                                \r"
     ]
    }
   ],
   "source": [
    "n_clusters = 4\n",
    "max_iter = 10\n",
    "\n",
    "method = EnsembleKModes(n_clusters, max_iter)\n",
    "model = method.fit(df_kmodes_rdd)"
   ]
  },
  {
   "cell_type": "code",
   "execution_count": 27,
   "id": "38f21a7f-d450-483b-ab45-57bd0e7bbfb5",
   "metadata": {
    "tags": []
   },
   "outputs": [],
   "source": [
    "predictions=model.predict(df_kmodes_rdd)\n",
    "#predictions.collect()\n",
    "from pyspark.sql.types import StructType, StructField, IntegerType, StringType\n",
    "schema = StructType([\n",
    "    StructField(\"predictions\", IntegerType(), True)\n",
    "])"
   ]
  },
  {
   "cell_type": "code",
   "execution_count": 28,
   "id": "94b5003e-2dcb-4720-b502-e61c30e6f187",
   "metadata": {
    "tags": []
   },
   "outputs": [],
   "source": [
    "df_predictions = spark.createDataFrame(predictions.map(lambda x: (int(x),)), schema)\n",
    "df_predictions_id = df_predictions.withColumn(\"row_id\", monotonically_increasing_id())\n",
    "joint=df_kmodes_id.join(df_predictions_id, 'row_id')"
   ]
  },
  {
   "cell_type": "code",
   "execution_count": 29,
   "id": "6c18b13d-5a0b-4974-9e57-b9ba4b67def1",
   "metadata": {
    "tags": []
   },
   "outputs": [
    {
     "name": "stderr",
     "output_type": "stream",
     "text": [
      "                                                                                \r"
     ]
    },
    {
     "name": "stdout",
     "output_type": "stream",
     "text": [
      "Contingency Table:\n",
      "Severity       1      2    3    4\n",
      "predictions                      \n",
      "0            200  40785  886  803\n",
      "1            773  20063  852  956\n",
      "2             46   7449  138  187\n",
      "3            439   9213  252  225\n"
     ]
    },
    {
     "data": {
      "image/png": "[encoded data removed]",
      "text/plain": [
       "<Figure size 640x480 with 1 Axes>"
      ]
     },
     "metadata": {},
     "output_type": "display_data"
    }
   ],
   "source": [
    "contingency_table = joint.groupBy('predictions', 'Severity').count().toPandas()\n",
    "pivot_table = contingency_table.pivot(index='predictions', columns='Severity', values='count')\n",
    "\n",
    "\n",
    "print(\"Contingency Table:\")\n",
    "print(pivot_table)\n",
    "\n",
    "\n",
    "pivot_table.plot(kind='bar', stacked=True, title='Severity Distribution in Clusters')\n",
    "plt.xlabel('Cluster')\n",
    "plt.ylabel('Count')\n",
    "plt.show()"
   ]
  },
  {
   "cell_type": "markdown",
   "id": "83eb8a6c-e4b4-4ae1-9bd7-078c4d8f22f3",
   "metadata": {},
   "source": [
    "SEASON"
   ]
  },
  {
   "cell_type": "code",
   "execution_count": 30,
   "id": "526fcdc8-2fe9-4ea1-b515-5302af3e597a",
   "metadata": {
    "tags": []
   },
   "outputs": [],
   "source": [
    "df_kmodes_season=df_kmodes.drop('season')\n",
    "df_kmodes_rdd=df_kmodes_season.rdd"
   ]
  },
  {
   "cell_type": "code",
   "execution_count": 31,
   "id": "ccea3862-2691-484f-88e5-642c3a117aad",
   "metadata": {
    "tags": []
   },
   "outputs": [
    {
     "name": "stderr",
     "output_type": "stream",
     "text": [
      "                                                                                \r"
     ]
    },
    {
     "name": "stdout",
     "output_type": "stream",
     "text": [
      "Iteration  0\n"
     ]
    },
    {
     "name": "stderr",
     "output_type": "stream",
     "text": [
      "                                                                                \r"
     ]
    },
    {
     "name": "stdout",
     "output_type": "stream",
     "text": [
      "Iteration  1\n"
     ]
    },
    {
     "name": "stderr",
     "output_type": "stream",
     "text": [
      "                                                                                \r"
     ]
    },
    {
     "name": "stdout",
     "output_type": "stream",
     "text": [
      "Iteration  2\n"
     ]
    },
    {
     "name": "stderr",
     "output_type": "stream",
     "text": [
      "                                                                                \r"
     ]
    },
    {
     "name": "stdout",
     "output_type": "stream",
     "text": [
      "Iteration  3\n"
     ]
    },
    {
     "name": "stderr",
     "output_type": "stream",
     "text": [
      "                                                                                \r"
     ]
    },
    {
     "name": "stdout",
     "output_type": "stream",
     "text": [
      "Init: initializing centroids\n",
      "Init: initializing clusters\n",
      "Starting iterations...\n",
      "Run 1, iteration: 1/100, moves: 0, cost: 37.0\n",
      "Avg cost/partition: 3.7\n",
      "Final centroids:\n",
      "['Minneapolis' 'Wayne' 70.0 False False False False False False False\n",
      " False False False False 15 2 'Normal' 'Day' 2]\n",
      "['Cardwell' 'Jefferson' 61.0 False False False False False False False\n",
      " False False False False 20 6 'Normal' 'Night' 2]\n"
     ]
    },
    {
     "name": "stderr",
     "output_type": "stream",
     "text": [
      "                                                                                \r"
     ]
    },
    {
     "name": "stdout",
     "output_type": "stream",
     "text": [
      "Iteration  0\n"
     ]
    },
    {
     "name": "stderr",
     "output_type": "stream",
     "text": [
      "                                                                                \r"
     ]
    },
    {
     "name": "stdout",
     "output_type": "stream",
     "text": [
      "Iteration  1\n"
     ]
    },
    {
     "name": "stderr",
     "output_type": "stream",
     "text": [
      "                                                                                \r"
     ]
    },
    {
     "name": "stdout",
     "output_type": "stream",
     "text": [
      "Iteration  2\n"
     ]
    },
    {
     "name": "stderr",
     "output_type": "stream",
     "text": [
      "                                                                                \r"
     ]
    },
    {
     "name": "stdout",
     "output_type": "stream",
     "text": [
      "Iteration  3\n"
     ]
    },
    {
     "name": "stderr",
     "output_type": "stream",
     "text": [
      "                                                                                \r"
     ]
    },
    {
     "name": "stdout",
     "output_type": "stream",
     "text": [
      "Init: initializing centroids\n",
      "Init: initializing clusters\n",
      "Starting iterations...\n",
      "Run 1, iteration: 1/100, moves: 1, cost: 48.0\n",
      "Run 1, iteration: 2/100, moves: 0, cost: 48.0\n",
      "Avg cost/partition: 3.2\n",
      "Final centroids:\n",
      "['Minneapolis' 'Hennepin' 19.0 False False False False False False False\n",
      " False False False False 7 5 'Cloudy' 'Day' 2]\n",
      "['Kalispell' 'Flathead' 27.0 False False False False False False False\n",
      " False False False False 20 3 'Normal' 'Night' 2]\n",
      "['Saint Paul' 'Ramsey' 18.0 False False False False False False False\n",
      " False False False False 9 12 'Snow' 'Day' 2]\n"
     ]
    },
    {
     "name": "stderr",
     "output_type": "stream",
     "text": [
      "                                                                                \r"
     ]
    },
    {
     "name": "stdout",
     "output_type": "stream",
     "text": [
      "Iteration  0\n"
     ]
    },
    {
     "name": "stderr",
     "output_type": "stream",
     "text": [
      "                                                                                \r"
     ]
    },
    {
     "name": "stdout",
     "output_type": "stream",
     "text": [
      "Iteration  1\n"
     ]
    },
    {
     "name": "stderr",
     "output_type": "stream",
     "text": [
      "                                                                                \r"
     ]
    },
    {
     "name": "stdout",
     "output_type": "stream",
     "text": [
      "Iteration  2\n"
     ]
    },
    {
     "name": "stderr",
     "output_type": "stream",
     "text": [
      "                                                                                \r"
     ]
    },
    {
     "name": "stdout",
     "output_type": "stream",
     "text": [
      "Iteration  3\n"
     ]
    },
    {
     "name": "stderr",
     "output_type": "stream",
     "text": [
      "                                                                                \r"
     ]
    },
    {
     "name": "stdout",
     "output_type": "stream",
     "text": [
      "Iteration  4\n"
     ]
    },
    {
     "name": "stderr",
     "output_type": "stream",
     "text": [
      "                                                                                \r"
     ]
    },
    {
     "name": "stdout",
     "output_type": "stream",
     "text": [
      "Init: initializing centroids\n",
      "Init: initializing clusters\n",
      "Starting iterations...\n",
      "Run 1, iteration: 1/100, moves: 2, cost: 62.0\n",
      "Run 1, iteration: 2/100, moves: 0, cost: 62.0\n",
      "Avg cost/partition: 3.1\n",
      "Final centroids:\n",
      "['Grand Rapids' 'Kent' 79.0 False False False False False False False\n",
      " False False False False 15 12 'Cloudy' 'Day' 2]\n",
      "['Milwaukee' 'Milwaukee' 70.0 False False False False False False False\n",
      " False False False False 16 6 'Normal' 'Day' 2]\n",
      "['Minneapolis' 'Hennepin' 63.0 False False False False False False False\n",
      " False False False False 7 5 'Cloudy' 'Day' 2]\n",
      "['Flint' 'Genesee' 15.0 False False False False False False False False\n",
      " False False False 18 4 'Snow' 'Day' 2]\n"
     ]
    },
    {
     "name": "stderr",
     "output_type": "stream",
     "text": [
      "                                                                                \r"
     ]
    },
    {
     "name": "stdout",
     "output_type": "stream",
     "text": [
      "Iteration  0\n"
     ]
    },
    {
     "name": "stderr",
     "output_type": "stream",
     "text": [
      "                                                                                \r"
     ]
    },
    {
     "name": "stdout",
     "output_type": "stream",
     "text": [
      "Iteration  1\n"
     ]
    },
    {
     "name": "stderr",
     "output_type": "stream",
     "text": [
      "                                                                                \r"
     ]
    },
    {
     "name": "stdout",
     "output_type": "stream",
     "text": [
      "Iteration  2\n"
     ]
    },
    {
     "name": "stderr",
     "output_type": "stream",
     "text": [
      "                                                                                \r"
     ]
    },
    {
     "name": "stdout",
     "output_type": "stream",
     "text": [
      "Iteration  3\n"
     ]
    },
    {
     "name": "stderr",
     "output_type": "stream",
     "text": [
      "                                                                                \r"
     ]
    },
    {
     "name": "stdout",
     "output_type": "stream",
     "text": [
      "Init: initializing centroids\n",
      "Init: initializing clusters\n",
      "Starting iterations...\n",
      "Run 1, iteration: 1/100, moves: 0, cost: 75.0\n",
      "Avg cost/partition: 3.0\n",
      "Final centroids:\n",
      "['Detroit' 'Wayne' 70.0 False False False False False False False False\n",
      " False False False 15 2 'Normal' 'Day' 2]\n",
      "['Saint Paul' 'Ramsey' 24.0 False False False False False False False\n",
      " False False False False 20 12 'Cloudy' 'Night' 2]\n",
      "['Grand Rapids' 'Kent' 16.0 False False False False False False False\n",
      " False False False False 7 3 'Cloudy' 'Day' 2]\n",
      "['Bozeman' 'Gallatin' 18.0 False False False False False False False False\n",
      " False False False 8 12 'Snow' 'Day' 2]\n",
      "['Minneapolis' 'Hennepin' 23.0 False False False False False False False\n",
      " False False False False 15 4 'Cloudy' 'Day' 2]\n"
     ]
    },
    {
     "name": "stderr",
     "output_type": "stream",
     "text": [
      "                                                                                \r"
     ]
    },
    {
     "name": "stdout",
     "output_type": "stream",
     "text": [
      "Iteration  0\n"
     ]
    },
    {
     "name": "stderr",
     "output_type": "stream",
     "text": [
      "                                                                                \r"
     ]
    },
    {
     "name": "stdout",
     "output_type": "stream",
     "text": [
      "Iteration  1\n"
     ]
    },
    {
     "name": "stderr",
     "output_type": "stream",
     "text": [
      "                                                                                \r"
     ]
    },
    {
     "name": "stdout",
     "output_type": "stream",
     "text": [
      "Iteration  2\n"
     ]
    },
    {
     "name": "stderr",
     "output_type": "stream",
     "text": [
      "                                                                                \r"
     ]
    },
    {
     "name": "stdout",
     "output_type": "stream",
     "text": [
      "Iteration  3\n"
     ]
    },
    {
     "name": "stderr",
     "output_type": "stream",
     "text": [
      "                                                                                \r"
     ]
    },
    {
     "name": "stdout",
     "output_type": "stream",
     "text": [
      "Init: initializing centroids\n",
      "Init: initializing clusters\n",
      "Starting iterations...\n",
      "Run 1, iteration: 1/100, moves: 2, cost: 93.0\n",
      "Run 1, iteration: 2/100, moves: 0, cost: 93.0\n",
      "Avg cost/partition: 3.1\n",
      "Final centroids:\n",
      "['Minneapolis' 'Hennepin' 18.0 False False False False False False False\n",
      " False False False False 8 12 'Cloudy' 'Day' 2]\n",
      "['Grand Rapids' 'Kent' 10.0 False False False False False False False\n",
      " False False False False 4 2 'Snow' 'Day' 2]\n",
      "['Milwaukee' 'Milwaukee' 18.0 False False False False False False False\n",
      " False False False False 7 2 'Normal' 'Day' 2]\n",
      "['Flint' 'Genesee' 19.0 False False False False False False False False\n",
      " False False False 18 4 'Snow' 'Day' 2]\n",
      "['Kalispell' 'Flathead' 64.0 False False False False False False False\n",
      " False False False False 20 6 'Normal' 'Night' 2]\n",
      "['Detroit' 'Wayne' 17.0 False False False False False False False False\n",
      " False False False 7 3 'Cloudy' 'Day' 2]\n"
     ]
    },
    {
     "name": "stderr",
     "output_type": "stream",
     "text": [
      "                                                                                \r"
     ]
    },
    {
     "name": "stdout",
     "output_type": "stream",
     "text": [
      "Iteration  0\n"
     ]
    },
    {
     "name": "stderr",
     "output_type": "stream",
     "text": [
      "                                                                                \r"
     ]
    },
    {
     "name": "stdout",
     "output_type": "stream",
     "text": [
      "Iteration  1\n"
     ]
    },
    {
     "name": "stderr",
     "output_type": "stream",
     "text": [
      "                                                                                \r"
     ]
    },
    {
     "name": "stdout",
     "output_type": "stream",
     "text": [
      "Iteration  2\n"
     ]
    },
    {
     "name": "stderr",
     "output_type": "stream",
     "text": [
      "                                                                                \r"
     ]
    },
    {
     "name": "stdout",
     "output_type": "stream",
     "text": [
      "Iteration  3\n"
     ]
    },
    {
     "name": "stderr",
     "output_type": "stream",
     "text": [
      "                                                                                \r"
     ]
    },
    {
     "name": "stdout",
     "output_type": "stream",
     "text": [
      "Init: initializing centroids\n",
      "Init: initializing clusters\n",
      "Starting iterations...\n",
      "Run 1, iteration: 1/100, moves: 1, cost: 110.0\n",
      "Run 1, iteration: 2/100, moves: 0, cost: 110.0\n",
      "Avg cost/partition: 3.142857142857143\n",
      "Final centroids:\n",
      "['Minneapolis' 'Hennepin' 65.0 False False False False False False False\n",
      " False False False False 7 12 'Cloudy' 'Day' 2]\n",
      "['Grand Rapids' 'Kent' 10.0 False False False False False False False\n",
      " False False False False 4 2 'Snow' 'Night' 2]\n",
      "['Saint Paul' 'Ramsey' 50.0 False False False False False False False\n",
      " False False False False 15 5 'Normal' 'Day' 2]\n",
      "['Bozeman' 'Gallatin' 19.0 False False False False False False False False\n",
      " False False False 8 11 'Snow' 'Day' 2]\n",
      "['Livingston' 'Park' 18.0 False False False False False False False False\n",
      " False False False 20 12 'Normal' 'Night' 2]\n",
      "['Milwaukee' 'Milwaukee' 72.0 False False False False False False False\n",
      " False False False False 16 6 'Normal' 'Day' 2]\n",
      "['Detroit' 'Wayne' 17.0 False False False False False False False False\n",
      " False False False 17 4 'Cloudy' 'Day' 2]\n"
     ]
    },
    {
     "name": "stderr",
     "output_type": "stream",
     "text": [
      "                                                                                \r"
     ]
    },
    {
     "name": "stdout",
     "output_type": "stream",
     "text": [
      "Iteration  0\n"
     ]
    },
    {
     "name": "stderr",
     "output_type": "stream",
     "text": [
      "                                                                                \r"
     ]
    },
    {
     "name": "stdout",
     "output_type": "stream",
     "text": [
      "Iteration  1\n"
     ]
    },
    {
     "name": "stderr",
     "output_type": "stream",
     "text": [
      "                                                                                \r"
     ]
    },
    {
     "name": "stdout",
     "output_type": "stream",
     "text": [
      "Iteration  2\n"
     ]
    },
    {
     "name": "stderr",
     "output_type": "stream",
     "text": [
      "                                                                                \r"
     ]
    },
    {
     "name": "stdout",
     "output_type": "stream",
     "text": [
      "Iteration  3\n"
     ]
    },
    {
     "name": "stderr",
     "output_type": "stream",
     "text": [
      "                                                                                \r"
     ]
    },
    {
     "name": "stdout",
     "output_type": "stream",
     "text": [
      "Iteration  4\n"
     ]
    },
    {
     "name": "stderr",
     "output_type": "stream",
     "text": [
      "                                                                                \r"
     ]
    },
    {
     "name": "stdout",
     "output_type": "stream",
     "text": [
      "Init: initializing centroids\n",
      "Init: initializing clusters\n",
      "Starting iterations...\n",
      "Run 1, iteration: 1/100, moves: 1, cost: 127.0\n",
      "Run 1, iteration: 2/100, moves: 1, cost: 127.0\n",
      "Avg cost/partition: 3.175\n",
      "Final centroids:\n",
      "['Detroit' 'Wayne' 9.0 False False False False False False False False\n",
      " False False False 16 6 'Cloudy' 'Day' 2]\n",
      "['Grand Rapids' 'Kent' 50.0 False True False False False False False False\n",
      " False False True 6 5 'Cloudy' 'Day' 2]\n",
      "['Flint' 'Genesee' 17.0 False False False False False False False False\n",
      " False False False 19 12 'Snow' 'Night' 2]\n",
      "['Minneapolis' 'Hennepin' 75.0 False False False False False False False\n",
      " False False False False 8 2 'Normal' 'Day' 2]\n",
      "['Grand Rapids' 'Kent' 52.0 False False False False False False False\n",
      " False False False False 7 11 'Cloudy' 'Day' 2]\n",
      "['Milwaukee' 'Milwaukee' 33.0 False False False False False False False\n",
      " False False False False 6 6 'Cloudy' 'Day' 2]\n",
      "['Milwaukee' 'Milwaukee' 73.0 False True False False False False False\n",
      " False False False True 16 11 'Cloudy' 'Day' 2]\n",
      "['Flint' 'Genesee' 4.0 False False False False False False False False\n",
      " False False False 7 1 'Cloudy' 'Day' 2]\n"
     ]
    },
    {
     "name": "stderr",
     "output_type": "stream",
     "text": [
      "                                                                                \r"
     ]
    },
    {
     "name": "stdout",
     "output_type": "stream",
     "text": [
      "Iteration  0\n"
     ]
    },
    {
     "name": "stderr",
     "output_type": "stream",
     "text": [
      "                                                                                \r"
     ]
    },
    {
     "name": "stdout",
     "output_type": "stream",
     "text": [
      "Iteration  1\n"
     ]
    },
    {
     "name": "stderr",
     "output_type": "stream",
     "text": [
      "                                                                                \r"
     ]
    },
    {
     "name": "stdout",
     "output_type": "stream",
     "text": [
      "Iteration  2\n"
     ]
    },
    {
     "name": "stderr",
     "output_type": "stream",
     "text": [
      "                                                                                \r"
     ]
    },
    {
     "name": "stdout",
     "output_type": "stream",
     "text": [
      "Iteration  3\n"
     ]
    },
    {
     "name": "stderr",
     "output_type": "stream",
     "text": [
      "                                                                                \r"
     ]
    },
    {
     "name": "stdout",
     "output_type": "stream",
     "text": [
      "Iteration  4\n"
     ]
    },
    {
     "name": "stderr",
     "output_type": "stream",
     "text": [
      "                                                                                \r"
     ]
    },
    {
     "name": "stdout",
     "output_type": "stream",
     "text": [
      "Init: initializing centroids\n",
      "Init: initializing clusters\n",
      "Starting iterations...\n",
      "Run 1, iteration: 1/100, moves: 1, cost: 137.0\n",
      "Run 1, iteration: 2/100, moves: 0, cost: 137.0\n",
      "Avg cost/partition: 3.0444444444444443\n",
      "Final centroids:\n",
      "['Minneapolis' 'Hennepin' 19.0 False False False False False False False\n",
      " False False False False 15 4 'Cloudy' 'Day' 2]\n",
      "['Bozeman' 'Gallatin' 10.0 False False False False False False False False\n",
      " False False False 4 2 'Snow' 'Night' 2]\n",
      "['Grand Rapids' 'Kent' 50.0 False True False False False False False False\n",
      " False False True 7 5 'Cloudy' 'Day' 2]\n",
      "['Detroit' 'Wayne' 3.0 False False False False False False False False\n",
      " False False False 7 6 'Normal' 'Day' 2]\n",
      "['Duluth' 'St. Louis' 30.0 False False False False False False False False\n",
      " False False False 8 12 'Snow' 'Day' 2]\n",
      "['Flint' 'Genesee' 24.0 False False False False False False False False\n",
      " False False False 23 12 'Cloudy' 'Night' 2]\n",
      "['Saint Paul' 'Ramsey' -2.0 False False False True False False False False\n",
      " False False False 7 2 'Snow' 'Day' 2]\n",
      "['Grand Rapids' 'Kent' 72.0 False False False False False False False\n",
      " False False False False 13 8 'Cloudy' 'Day' 2]\n",
      "['Saint Paul' 'Ramsey' 63.0 False False False False False False False\n",
      " False False False False 16 12 'Cloudy' 'Day' 2]\n"
     ]
    },
    {
     "name": "stderr",
     "output_type": "stream",
     "text": [
      "                                                                                \r"
     ]
    },
    {
     "name": "stdout",
     "output_type": "stream",
     "text": [
      "Iteration  0\n"
     ]
    },
    {
     "name": "stderr",
     "output_type": "stream",
     "text": [
      "                                                                                \r"
     ]
    },
    {
     "name": "stdout",
     "output_type": "stream",
     "text": [
      "Iteration  1\n"
     ]
    },
    {
     "name": "stderr",
     "output_type": "stream",
     "text": [
      "                                                                                \r"
     ]
    },
    {
     "name": "stdout",
     "output_type": "stream",
     "text": [
      "Iteration  2\n"
     ]
    },
    {
     "name": "stderr",
     "output_type": "stream",
     "text": [
      "                                                                                \r"
     ]
    },
    {
     "name": "stdout",
     "output_type": "stream",
     "text": [
      "Iteration  3\n"
     ]
    },
    {
     "name": "stderr",
     "output_type": "stream",
     "text": [
      "                                                                                \r"
     ]
    },
    {
     "name": "stdout",
     "output_type": "stream",
     "text": [
      "Iteration  4\n"
     ]
    },
    {
     "name": "stderr",
     "output_type": "stream",
     "text": [
      "                                                                                \r"
     ]
    },
    {
     "name": "stdout",
     "output_type": "stream",
     "text": [
      "Init: initializing centroids\n",
      "Init: initializing clusters\n",
      "Starting iterations...\n",
      "Run 1, iteration: 1/100, moves: 2, cost: 150.0\n",
      "Run 1, iteration: 2/100, moves: 0, cost: 150.0\n",
      "Avg cost/partition: 3.0\n",
      "Final centroids:\n",
      "['Minneapolis' 'Hennepin' 70.0 False False False False False False False\n",
      " False False False False 15 12 'Cloudy' 'Day' 2]\n",
      "['Detroit' 'Wayne' 19.0 False False False False False False False False\n",
      " False False False 23 1 'Normal' 'Night' 2]\n",
      "['Saint Paul' 'Ramsey' 54.0 False False False False False False False\n",
      " False False False False 7 2 'Normal' 'Day' 2]\n",
      "['Grand Rapids' 'Kent' 16.0 False False False False False False False\n",
      " False False False False 8 3 'Snow' 'Day' 2]\n",
      "['Livingston' 'Park' 18.0 False False False False False False False False\n",
      " False False False 19 12 'Snow' 'Night' 2]\n",
      "['Detroit' 'Wayne' 50.0 False False False False False False False False\n",
      " False False False 16 3 'Cloudy' 'Day' 2]\n",
      "['Flint' 'Genesee' 30.0 False False False False False False False False\n",
      " False False False 7 1 'Cloudy' 'Day' 2]\n",
      "['Bozeman' 'Gallatin' 26.0 False False False False False False False False\n",
      " False False False 19 2 'Cloudy' 'Day' 2]\n",
      "['Milwaukee' 'Milwaukee' 19.0 False False False False False False False\n",
      " False False False False 16 11 'Cloudy' 'Day' 2]\n",
      "['Kalispell' 'Flathead' 16.0 False False False False False False False\n",
      " False False False False 12 3 'Cloudy' 'Day' 2]\n"
     ]
    },
    {
     "name": "stderr",
     "output_type": "stream",
     "text": [
      "                                                                                \r"
     ]
    }
   ],
   "source": [
    "lista_costi=[]\n",
    "for k in range(2,11):\n",
    "    n_clusters = k\n",
    "    max_iter = 10\n",
    "    method = EnsembleKModes(n_clusters, max_iter)\n",
    "    model = method.fit(df_kmodes_rdd)\n",
    "    lista_costi.append(method.mean_cost)"
   ]
  },
  {
   "cell_type": "code",
   "execution_count": 32,
   "id": "d9ea1ddf-f9aa-4f4d-be58-296fa3eb2ee0",
   "metadata": {
    "tags": []
   },
   "outputs": [
    {
     "data": {
      "image/png": "[encoded data removed]",
      "text/plain": [
       "<Figure size 640x480 with 1 Axes>"
      ]
     },
     "metadata": {},
     "output_type": "display_data"
    },
    {
     "name": "stdout",
     "output_type": "stream",
     "text": [
      "Elbow detected at K = 5\n"
     ]
    }
   ],
   "source": [
    "from kneed import KneeLocator\n",
    "plt.figure()\n",
    "plt.plot(range(2, 11), lista_costi, marker='o')\n",
    "plt.xlabel(\"K\")\n",
    "plt.ylabel(\"SSE\")\n",
    "plt.title(\"Elbow Method for Optimal K\")\n",
    "plt.show()\n",
    "\n",
    "# Trova l'elbow con KneeLocator\n",
    "kl = KneeLocator(range(2, 11), lista_costi, curve=\"convex\", direction=\"decreasing\")\n",
    "print(f\"Elbow detected at K = {kl.elbow}\")"
   ]
  },
  {
   "cell_type": "markdown",
   "id": "418abd61-29b9-47c1-bdaf-03730b41b6b4",
   "metadata": {},
   "source": [
    "PROVO K=6"
   ]
  },
  {
   "cell_type": "code",
   "execution_count": 33,
   "id": "4125902d-76fc-4983-a6e1-d8c12229b149",
   "metadata": {
    "tags": []
   },
   "outputs": [
    {
     "name": "stderr",
     "output_type": "stream",
     "text": [
      "                                                                                \r"
     ]
    },
    {
     "name": "stdout",
     "output_type": "stream",
     "text": [
      "Iteration  0\n"
     ]
    },
    {
     "name": "stderr",
     "output_type": "stream",
     "text": [
      "                                                                                \r"
     ]
    },
    {
     "name": "stdout",
     "output_type": "stream",
     "text": [
      "Iteration  1\n"
     ]
    },
    {
     "name": "stderr",
     "output_type": "stream",
     "text": [
      "                                                                                \r"
     ]
    },
    {
     "name": "stdout",
     "output_type": "stream",
     "text": [
      "Iteration  2\n"
     ]
    },
    {
     "name": "stderr",
     "output_type": "stream",
     "text": [
      "                                                                                \r"
     ]
    },
    {
     "name": "stdout",
     "output_type": "stream",
     "text": [
      "Iteration  3\n"
     ]
    },
    {
     "name": "stderr",
     "output_type": "stream",
     "text": [
      "                                                                                \r"
     ]
    },
    {
     "name": "stdout",
     "output_type": "stream",
     "text": [
      "Init: initializing centroids\n",
      "Init: initializing clusters\n",
      "Starting iterations...\n",
      "Run 1, iteration: 1/100, moves: 2, cost: 93.0\n",
      "Run 1, iteration: 2/100, moves: 0, cost: 93.0\n",
      "Avg cost/partition: 3.1\n",
      "Final centroids:\n",
      "['Minneapolis' 'Hennepin' 17.0 False False False False False False False\n",
      " False False False False 15 4 'Cloudy' 'Day' 2]\n",
      "['Livingston' 'Wayne' 18.0 False False False False False False False False\n",
      " False False False 4 2 'Snow' 'Night' 2]\n",
      "['Detroit' 'Wayne' 9.0 False False False False False False False False\n",
      " False False False 16 6 'Normal' 'Day' 2]\n",
      "['Cardwell' 'Jefferson' 14.0 False False False False False False False\n",
      " False False False False 22 3 'Cloudy' 'Night' 2]\n",
      "['Bozeman' 'Gallatin' 1.0 False False False False False False False False\n",
      " False False False 12 2 'Snow' 'Day' 2]\n",
      "['Grand Rapids' 'Kent' 52.0 False False False False False False False\n",
      " False False False False 7 5 'Cloudy' 'Day' 2]\n"
     ]
    },
    {
     "name": "stderr",
     "output_type": "stream",
     "text": [
      "                                                                                \r"
     ]
    }
   ],
   "source": [
    "n_clusters = 6\n",
    "max_iter = 10\n",
    "\n",
    "method = EnsembleKModes(n_clusters, max_iter)\n",
    "model = method.fit(df_kmodes_rdd)"
   ]
  },
  {
   "cell_type": "code",
   "execution_count": 34,
   "id": "f259a228-f913-4add-ae11-e182030480f9",
   "metadata": {
    "tags": []
   },
   "outputs": [],
   "source": [
    "predictions=model.predict(df_kmodes_rdd)"
   ]
  },
  {
   "cell_type": "code",
   "execution_count": 35,
   "id": "97178d4c-93d6-4cbf-8916-1683cf0a72df",
   "metadata": {
    "tags": []
   },
   "outputs": [],
   "source": [
    "from pyspark.sql.types import StructType, StructField, IntegerType, StringType\n",
    "schema = StructType([\n",
    "    StructField(\"predictions\", IntegerType(), True)\n",
    "])\n",
    "df_predictions = spark.createDataFrame(predictions.map(lambda x: (int(x),)), schema)\n",
    "df_predictions_id = df_predictions.withColumn(\"row_id\", monotonically_increasing_id())\n",
    "joint=df_kmodes_id.join(df_predictions_id, 'row_id')"
   ]
  },
  {
   "cell_type": "code",
   "execution_count": 36,
   "id": "a9944803-ad9e-415b-8540-c5f5dd0d4e89",
   "metadata": {
    "tags": []
   },
   "outputs": [
    {
     "name": "stderr",
     "output_type": "stream",
     "text": [
      "                                                                                \r"
     ]
    },
    {
     "name": "stdout",
     "output_type": "stream",
     "text": [
      "Contingency Table:\n",
      "season       Autumn  Spring  Summer  Winter\n",
      "predictions                                \n",
      "0              6221    9361    7024   10383\n",
      "1              1801     959     719    5676\n",
      "2              4524    3081    8153    5109\n",
      "3              1152     909     418    1863\n",
      "4              1347     628     112    5941\n",
      "5              1551    3439    1445    1451\n"
     ]
    },
    {
     "data": {
      "image/png": "[encoded data removed]",
      "text/plain": [
       "<Figure size 640x480 with 1 Axes>"
      ]
     },
     "metadata": {},
     "output_type": "display_data"
    }
   ],
   "source": [
    "contingency_table = joint.groupBy('predictions', 'season').count().toPandas()\n",
    "pivot_table = contingency_table.pivot(index='predictions', columns='season', values='count')\n",
    "\n",
    "\n",
    "print(\"Contingency Table:\")\n",
    "print(pivot_table)\n",
    "\n",
    "\n",
    "pivot_table.plot(kind='bar', stacked=True, title='Season Distribution in Clusters')\n",
    "plt.xlabel('Cluster')\n",
    "plt.ylabel('Count')\n",
    "plt.show()"
   ]
  },
  {
   "cell_type": "markdown",
   "id": "af4e6117-d6ab-4951-b725-317fe5770a46",
   "metadata": {},
   "source": [
    "WORKING_WEEKEND"
   ]
  },
  {
   "cell_type": "code",
   "execution_count": 37,
   "id": "250c65c6-5d45-4ac1-bd1c-6d0d301d4e39",
   "metadata": {
    "tags": []
   },
   "outputs": [],
   "source": [
    "df_kmodes_rdd=df_kmodes.rdd"
   ]
  },
  {
   "cell_type": "code",
   "execution_count": 38,
   "id": "8d7d715b-a9e9-4d9b-832e-aa62c95230d0",
   "metadata": {
    "tags": []
   },
   "outputs": [],
   "source": [
    "n_clusters = 10\n",
    "max_iter = 10\n",
    "\n",
    "method = EnsembleKModes(n_clusters, max_iter)"
   ]
  },
  {
   "cell_type": "code",
   "execution_count": 39,
   "id": "d0d7e100-4ebc-49b6-aafc-efa08f663b95",
   "metadata": {
    "tags": []
   },
   "outputs": [
    {
     "name": "stderr",
     "output_type": "stream",
     "text": [
      "                                                                                \r"
     ]
    },
    {
     "name": "stdout",
     "output_type": "stream",
     "text": [
      "Iteration  0\n"
     ]
    },
    {
     "name": "stderr",
     "output_type": "stream",
     "text": [
      "                                                                                \r"
     ]
    },
    {
     "name": "stdout",
     "output_type": "stream",
     "text": [
      "Iteration  1\n"
     ]
    },
    {
     "name": "stderr",
     "output_type": "stream",
     "text": [
      "                                                                                \r"
     ]
    },
    {
     "name": "stdout",
     "output_type": "stream",
     "text": [
      "Iteration  2\n"
     ]
    },
    {
     "name": "stderr",
     "output_type": "stream",
     "text": [
      "                                                                                \r"
     ]
    },
    {
     "name": "stdout",
     "output_type": "stream",
     "text": [
      "Iteration  3\n"
     ]
    },
    {
     "name": "stderr",
     "output_type": "stream",
     "text": [
      "                                                                                \r"
     ]
    },
    {
     "name": "stdout",
     "output_type": "stream",
     "text": [
      "Init: initializing centroids\n",
      "Init: initializing clusters\n",
      "Starting iterations...\n",
      "Run 1, iteration: 1/100, moves: 6, cost: 158.0\n",
      "Run 1, iteration: 2/100, moves: 1, cost: 158.0\n",
      "Avg cost/partition: 3.16\n",
      "Final centroids:\n",
      "['Minneapolis' 'Hennepin' 11.0 False False False False False False False\n",
      " False False False False 15 2 'Winter' 'Cloudy' 'Day' 2]\n",
      "['Milwaukee' 'Milwaukee' 34.0 False False False False False False False\n",
      " False False False False 7 4 'Spring' 'Normal' 'Day' 2]\n",
      "['Grand Rapids' 'Kent' 19.0 False False False False False False False\n",
      " False False False False 15 11 'Autumn' 'Cloudy' 'Day' 2]\n",
      "['Grand Rapids' 'Kent' 16.0 False False False False False False False\n",
      " False False False False 13 12 'Winter' 'Snow' 'Day' 2]\n",
      "['Detroit' 'Wayne' 54.0 False False False False False False False False\n",
      " False False False 15 10 'Autumn' 'Normal' 'Day' 2]\n",
      "['Billings' 'Yellowstone' 66.0 False False False False False False False\n",
      " False False False False 16 6 'Summer' 'Cloudy' 'Day' 2]\n",
      "['Saint Paul' 'Wayne' 10.0 False False False False False False False False\n",
      " False False False 20 12 'Winter' 'Cloudy' 'Night' 2]\n",
      "['Bozeman' 'Gallatin' 30.0 False False False False False False False False\n",
      " False False False 17 12 'Winter' 'Cloudy' 'Day' 2]\n",
      "['Saint Paul' 'Ramsey' 73.0 False False False False False False False\n",
      " False False False False 16 7 'Summer' 'Normal' 'Day' 2]\n",
      "['Flint' 'Genesee' 52.0 False False False False False False False False\n",
      " False False False 17 11 'Autumn' 'Normal' 'Day' 2]\n"
     ]
    },
    {
     "name": "stderr",
     "output_type": "stream",
     "text": [
      "                                                                                \r"
     ]
    }
   ],
   "source": [
    "model = method.fit(df_kmodes_rdd)"
   ]
  },
  {
   "cell_type": "code",
   "execution_count": 40,
   "id": "1a8c1fc4-8a66-4ba9-a92a-29c785478f0f",
   "metadata": {
    "tags": []
   },
   "outputs": [
    {
     "name": "stderr",
     "output_type": "stream",
     "text": [
      "                                                                                \r"
     ]
    },
    {
     "name": "stdout",
     "output_type": "stream",
     "text": [
      "Iteration  0\n"
     ]
    },
    {
     "name": "stderr",
     "output_type": "stream",
     "text": [
      "                                                                                \r"
     ]
    },
    {
     "name": "stdout",
     "output_type": "stream",
     "text": [
      "Iteration  1\n"
     ]
    },
    {
     "name": "stderr",
     "output_type": "stream",
     "text": [
      "                                                                                \r"
     ]
    },
    {
     "name": "stdout",
     "output_type": "stream",
     "text": [
      "Iteration  2\n"
     ]
    },
    {
     "name": "stderr",
     "output_type": "stream",
     "text": [
      "                                                                                \r"
     ]
    },
    {
     "name": "stdout",
     "output_type": "stream",
     "text": [
      "Iteration  3\n"
     ]
    },
    {
     "name": "stderr",
     "output_type": "stream",
     "text": [
      "                                                                                \r"
     ]
    },
    {
     "name": "stdout",
     "output_type": "stream",
     "text": [
      "Init: initializing centroids\n",
      "Init: initializing clusters\n",
      "Starting iterations...\n",
      "Run 1, iteration: 1/100, moves: 1, cost: 37.0\n",
      "Run 1, iteration: 2/100, moves: 0, cost: 37.0\n",
      "Avg cost/partition: 3.7\n",
      "Final centroids:\n",
      "['Minneapolis' 'Hennepin' 19.0 False False False False False False False\n",
      " False False False False 7 2 'Winter' 'Cloudy' 'Day' 2]\n",
      "['Milwaukee' 'Milwaukee' 79.0 False False False False False False False\n",
      " False False False False 16 8 'Summer' 'Normal' 'Day' 2]\n"
     ]
    },
    {
     "name": "stderr",
     "output_type": "stream",
     "text": [
      "                                                                                \r"
     ]
    },
    {
     "name": "stdout",
     "output_type": "stream",
     "text": [
      "Iteration  0\n"
     ]
    },
    {
     "name": "stderr",
     "output_type": "stream",
     "text": [
      "                                                                                \r"
     ]
    },
    {
     "name": "stdout",
     "output_type": "stream",
     "text": [
      "Iteration  1\n"
     ]
    },
    {
     "name": "stderr",
     "output_type": "stream",
     "text": [
      "                                                                                \r"
     ]
    },
    {
     "name": "stdout",
     "output_type": "stream",
     "text": [
      "Iteration  2\n"
     ]
    },
    {
     "name": "stderr",
     "output_type": "stream",
     "text": [
      "                                                                                \r"
     ]
    },
    {
     "name": "stdout",
     "output_type": "stream",
     "text": [
      "Iteration  3\n"
     ]
    },
    {
     "name": "stderr",
     "output_type": "stream",
     "text": [
      "                                                                                \r"
     ]
    },
    {
     "name": "stdout",
     "output_type": "stream",
     "text": [
      "Init: initializing centroids\n",
      "Init: initializing clusters\n",
      "Starting iterations...\n",
      "Run 1, iteration: 1/100, moves: 2, cost: 45.0\n",
      "Run 1, iteration: 2/100, moves: 0, cost: 45.0\n",
      "Avg cost/partition: 3.0\n",
      "Final centroids:\n",
      "['Minneapolis' 'Hennepin' 72.0 False False False False False False False\n",
      " False False False False 15 6 'Summer' 'Normal' 'Day' 2]\n",
      "['Grand Rapids' 'Kent' 19.0 False False False False False False False\n",
      " False False False False 8 12 'Winter' 'Cloudy' 'Day' 2]\n",
      "['Grand Rapids' 'Kent' 36.0 False False False False False False False\n",
      " False False False False 7 3 'Spring' 'Cloudy' 'Day' 2]\n"
     ]
    },
    {
     "name": "stderr",
     "output_type": "stream",
     "text": [
      "                                                                                \r"
     ]
    },
    {
     "name": "stdout",
     "output_type": "stream",
     "text": [
      "Iteration  0\n"
     ]
    },
    {
     "name": "stderr",
     "output_type": "stream",
     "text": [
      "                                                                                \r"
     ]
    },
    {
     "name": "stdout",
     "output_type": "stream",
     "text": [
      "Iteration  1\n"
     ]
    },
    {
     "name": "stderr",
     "output_type": "stream",
     "text": [
      "                                                                                \r"
     ]
    },
    {
     "name": "stdout",
     "output_type": "stream",
     "text": [
      "Iteration  2\n"
     ]
    },
    {
     "name": "stderr",
     "output_type": "stream",
     "text": [
      "                                                                                \r"
     ]
    },
    {
     "name": "stdout",
     "output_type": "stream",
     "text": [
      "Iteration  3\n"
     ]
    },
    {
     "name": "stderr",
     "output_type": "stream",
     "text": [
      "                                                                                \r"
     ]
    },
    {
     "name": "stdout",
     "output_type": "stream",
     "text": [
      "Init: initializing centroids\n",
      "Init: initializing clusters\n",
      "Starting iterations...\n",
      "Run 1, iteration: 1/100, moves: 0, cost: 68.0\n",
      "Avg cost/partition: 3.4\n",
      "Final centroids:\n",
      "['Detroit' 'Wayne' 70.0 False False False False False False False False\n",
      " False False False 16 2 'Winter' 'Cloudy' 'Day' 2]\n",
      "['Milwaukee' 'Milwaukee' 20.0 False False False False False False False\n",
      " False False False False 20 11 'Autumn' 'Normal' 'Night' 2]\n",
      "['Minneapolis' 'Hennepin' 63.0 False False False False False False False\n",
      " False False False False 8 1 'Winter' 'Snow' 'Day' 2]\n",
      "['Grand Rapids' 'Kent' 33.0 False False False False False False False\n",
      " False False False False 7 4 'Spring' 'Cloudy' 'Day' 2]\n"
     ]
    },
    {
     "name": "stderr",
     "output_type": "stream",
     "text": [
      "                                                                                \r"
     ]
    },
    {
     "name": "stdout",
     "output_type": "stream",
     "text": [
      "Iteration  0\n"
     ]
    },
    {
     "name": "stderr",
     "output_type": "stream",
     "text": [
      "                                                                                \r"
     ]
    },
    {
     "name": "stdout",
     "output_type": "stream",
     "text": [
      "Iteration  1\n"
     ]
    },
    {
     "name": "stderr",
     "output_type": "stream",
     "text": [
      "                                                                                \r"
     ]
    },
    {
     "name": "stdout",
     "output_type": "stream",
     "text": [
      "Iteration  2\n"
     ]
    },
    {
     "name": "stderr",
     "output_type": "stream",
     "text": [
      "                                                                                \r"
     ]
    },
    {
     "name": "stdout",
     "output_type": "stream",
     "text": [
      "Iteration  3\n"
     ]
    },
    {
     "name": "stderr",
     "output_type": "stream",
     "text": [
      "                                                                                \r"
     ]
    },
    {
     "name": "stdout",
     "output_type": "stream",
     "text": [
      "Init: initializing centroids\n",
      "Init: initializing clusters\n",
      "Starting iterations...\n",
      "Run 1, iteration: 1/100, moves: 1, cost: 85.0\n",
      "Run 1, iteration: 2/100, moves: 0, cost: 85.0\n",
      "Avg cost/partition: 3.4\n",
      "Final centroids:\n",
      "['Minneapolis' 'Hennepin' 19.0 False False False False False False False\n",
      " False False False False 15 2 'Winter' 'Normal' 'Day' 2]\n",
      "['Grand Rapids' 'Kent' 29.0 False False False False False False False\n",
      " False False False False 15 11 'Summer' 'Cloudy' 'Day' 2]\n",
      "['Detroit' 'Wayne' 17.0 False False False False False False False False\n",
      " False False False 16 12 'Winter' 'Cloudy' 'Day' 2]\n",
      "['Bozeman' 'Gallatin' 18.0 False False False False False False False False\n",
      " False False False 7 3 'Spring' 'Cloudy' 'Day' 2]\n",
      "['Detroit' 'Wayne' 68.0 False False False False False False False False\n",
      " False False False 15 9 'Autumn' 'Normal' 'Day' 2]\n"
     ]
    },
    {
     "name": "stderr",
     "output_type": "stream",
     "text": [
      "                                                                                \r"
     ]
    },
    {
     "name": "stdout",
     "output_type": "stream",
     "text": [
      "Iteration  0\n"
     ]
    },
    {
     "name": "stderr",
     "output_type": "stream",
     "text": [
      "                                                                                \r"
     ]
    },
    {
     "name": "stdout",
     "output_type": "stream",
     "text": [
      "Iteration  1\n"
     ]
    },
    {
     "name": "stderr",
     "output_type": "stream",
     "text": [
      "                                                                                \r"
     ]
    },
    {
     "name": "stdout",
     "output_type": "stream",
     "text": [
      "Iteration  2\n"
     ]
    },
    {
     "name": "stderr",
     "output_type": "stream",
     "text": [
      "                                                                                \r"
     ]
    },
    {
     "name": "stdout",
     "output_type": "stream",
     "text": [
      "Iteration  3\n"
     ]
    },
    {
     "name": "stderr",
     "output_type": "stream",
     "text": [
      "                                                                                \r"
     ]
    },
    {
     "name": "stdout",
     "output_type": "stream",
     "text": [
      "Iteration  4\n"
     ]
    },
    {
     "name": "stderr",
     "output_type": "stream",
     "text": [
      "                                                                                \r"
     ]
    },
    {
     "name": "stdout",
     "output_type": "stream",
     "text": [
      "Init: initializing centroids\n",
      "Init: initializing clusters\n",
      "Starting iterations...\n",
      "Run 1, iteration: 1/100, moves: 3, cost: 100.0\n",
      "Run 1, iteration: 2/100, moves: 1, cost: 100.0\n",
      "Avg cost/partition: 3.3333333333333335\n",
      "Final centroids:\n",
      "['Minneapolis' 'Hennepin' 1.0 False False False False False False False\n",
      " False False False False 15 2 'Winter' 'Normal' 'Day' 2]\n",
      "['Grand Rapids' 'Kent' 33.0 False False False False False False False\n",
      " False False False False 16 12 'Winter' 'Cloudy' 'Day' 2]\n",
      "['Flint' 'Genesee' 25.0 False False False False False False False False\n",
      " False False False 18 4 'Spring' 'Snow' 'Day' 2]\n",
      "['Bozeman' 'Gallatin' 18.0 False False False False False False False False\n",
      " False False False 20 12 'Winter' 'Cloudy' 'Night' 2]\n",
      "['Detroit' 'Wayne' 73.0 False False False False False False False False\n",
      " False False False 16 6 'Summer' 'Normal' 'Day' 2]\n",
      "['Detroit' 'Wayne' 10.0 False False False False False False False False\n",
      " False False False 7 3 'Spring' 'Cloudy' 'Day' 2]\n"
     ]
    },
    {
     "name": "stderr",
     "output_type": "stream",
     "text": [
      "                                                                                \r"
     ]
    },
    {
     "name": "stdout",
     "output_type": "stream",
     "text": [
      "Iteration  0\n"
     ]
    },
    {
     "name": "stderr",
     "output_type": "stream",
     "text": [
      "                                                                                \r"
     ]
    },
    {
     "name": "stdout",
     "output_type": "stream",
     "text": [
      "Iteration  1\n"
     ]
    },
    {
     "name": "stderr",
     "output_type": "stream",
     "text": [
      "                                                                                \r"
     ]
    },
    {
     "name": "stdout",
     "output_type": "stream",
     "text": [
      "Iteration  2\n"
     ]
    },
    {
     "name": "stderr",
     "output_type": "stream",
     "text": [
      "                                                                                \r"
     ]
    },
    {
     "name": "stdout",
     "output_type": "stream",
     "text": [
      "Iteration  3\n"
     ]
    },
    {
     "name": "stderr",
     "output_type": "stream",
     "text": [
      "                                                                                \r"
     ]
    },
    {
     "name": "stdout",
     "output_type": "stream",
     "text": [
      "Iteration  4\n"
     ]
    },
    {
     "name": "stderr",
     "output_type": "stream",
     "text": [
      "                                                                                \r"
     ]
    },
    {
     "name": "stdout",
     "output_type": "stream",
     "text": [
      "Init: initializing centroids\n",
      "Init: initializing clusters\n",
      "Starting iterations...\n",
      "Run 1, iteration: 1/100, moves: 3, cost: 117.0\n",
      "Run 1, iteration: 2/100, moves: 1, cost: 117.0\n",
      "Avg cost/partition: 3.342857142857143\n",
      "Final centroids:\n",
      "['Detroit' 'Wayne' 19.0 False False False False False False False False\n",
      " False False False 15 2 'Winter' 'Cloudy' 'Day' 2]\n",
      "['Kalispell' 'Flathead' 80.0 False False False False False False False\n",
      " False False False False 23 6 'Summer' 'Normal' 'Night' 2]\n",
      "['Grand Rapids' 'Kent' 19.0 False False False False False False False\n",
      " False False False False 16 11 'Autumn' 'Normal' 'Day' 2]\n",
      "['Saint Paul' 'Hennepin' -24.0 False False False False False False False\n",
      " False False False False 20 12 'Winter' 'Snow' 'Day' 2]\n",
      "['Minneapolis' 'Hennepin' 50.0 False False False False False False False\n",
      " False False False False 15 5 'Spring' 'Normal' 'Day' 2]\n",
      "['Grand Rapids' 'Kent' 34.0 False False False False False False False\n",
      " False False False False 7 3 'Spring' 'Cloudy' 'Day' 2]\n",
      "['Livingston' 'Park' 21.0 False False False False False False False False\n",
      " False False False 4 4 'Spring' 'Snow' 'Night' 2]\n"
     ]
    },
    {
     "name": "stderr",
     "output_type": "stream",
     "text": [
      "                                                                                \r"
     ]
    },
    {
     "name": "stdout",
     "output_type": "stream",
     "text": [
      "Iteration  0\n"
     ]
    },
    {
     "name": "stderr",
     "output_type": "stream",
     "text": [
      "                                                                                \r"
     ]
    },
    {
     "name": "stdout",
     "output_type": "stream",
     "text": [
      "Iteration  1\n"
     ]
    },
    {
     "name": "stderr",
     "output_type": "stream",
     "text": [
      "                                                                                \r"
     ]
    },
    {
     "name": "stdout",
     "output_type": "stream",
     "text": [
      "Iteration  2\n"
     ]
    },
    {
     "name": "stderr",
     "output_type": "stream",
     "text": [
      "                                                                                \r"
     ]
    },
    {
     "name": "stdout",
     "output_type": "stream",
     "text": [
      "Iteration  3\n"
     ]
    },
    {
     "name": "stderr",
     "output_type": "stream",
     "text": [
      "                                                                                \r"
     ]
    },
    {
     "name": "stdout",
     "output_type": "stream",
     "text": [
      "Init: initializing centroids\n",
      "Init: initializing clusters\n",
      "Starting iterations...\n",
      "Run 1, iteration: 1/100, moves: 1, cost: 129.0\n",
      "Run 1, iteration: 2/100, moves: 0, cost: 129.0\n",
      "Avg cost/partition: 3.225\n",
      "Final centroids:\n",
      "['Minneapolis' 'Hennepin' 52.0 False False False False False False False\n",
      " False False False False 14 12 'Winter' 'Cloudy' 'Day' 2]\n",
      "['Minneapolis' 'Hennepin' 17.0 False False False False False False False\n",
      " False False False False 20 4 'Spring' 'Snow' 'Night' 2]\n",
      "['Saint Paul' 'Ramsey' 79.0 False False False False False False False\n",
      " False False False False 17 11 'Autumn' 'Normal' 'Day' 2]\n",
      "['Kalispell' 'Flathead' 51.0 False False False False False False False\n",
      " False False False False 23 6 'Summer' 'Normal' 'Night' 2]\n",
      "['Grand Rapids' 'Kent' 17.0 False False False False False False False\n",
      " False False False False 7 2 'Winter' 'Snow' 'Day' 2]\n",
      "['Detroit' 'Wayne' 70.0 False False False False False False False False\n",
      " False False False 16 6 'Summer' 'Normal' 'Day' 2]\n",
      "['Milwaukee' 'Milwaukee' 54.0 False False False False False False False\n",
      " False False False False 7 5 'Spring' 'Cloudy' 'Day' 2]\n",
      "['Detroit' 'Wayne' 10.0 False False False False False False False False\n",
      " False False False 16 1 'Winter' 'Cloudy' 'Day' 2]\n"
     ]
    },
    {
     "name": "stderr",
     "output_type": "stream",
     "text": [
      "                                                                                \r"
     ]
    },
    {
     "name": "stdout",
     "output_type": "stream",
     "text": [
      "Iteration  0\n"
     ]
    },
    {
     "name": "stderr",
     "output_type": "stream",
     "text": [
      "                                                                                \r"
     ]
    },
    {
     "name": "stdout",
     "output_type": "stream",
     "text": [
      "Iteration  1\n"
     ]
    },
    {
     "name": "stderr",
     "output_type": "stream",
     "text": [
      "                                                                                \r"
     ]
    },
    {
     "name": "stdout",
     "output_type": "stream",
     "text": [
      "Iteration  2\n"
     ]
    },
    {
     "name": "stderr",
     "output_type": "stream",
     "text": [
      "                                                                                \r"
     ]
    },
    {
     "name": "stdout",
     "output_type": "stream",
     "text": [
      "Iteration  3\n"
     ]
    },
    {
     "name": "stderr",
     "output_type": "stream",
     "text": [
      "                                                                                \r"
     ]
    },
    {
     "name": "stdout",
     "output_type": "stream",
     "text": [
      "Iteration  4\n"
     ]
    },
    {
     "name": "stderr",
     "output_type": "stream",
     "text": [
      "                                                                                \r"
     ]
    },
    {
     "name": "stdout",
     "output_type": "stream",
     "text": [
      "Init: initializing centroids\n",
      "Init: initializing clusters\n",
      "Starting iterations...\n",
      "Run 1, iteration: 1/100, moves: 3, cost: 138.0\n",
      "Run 1, iteration: 2/100, moves: 1, cost: 138.0\n",
      "Avg cost/partition: 3.066666666666667\n",
      "Final centroids:\n",
      "['Minneapolis' 'Hennepin' 11.0 False False False False False False False\n",
      " False False False False 15 2 'Winter' 'Normal' 'Day' 2]\n",
      "['Bozeman' 'Gallatin' 17.0 False False False False False False False False\n",
      " False False False 7 3 'Spring' 'Snow' 'Day' 2]\n",
      "['Grand Rapids' 'Kent' 34.0 False False False False False False False\n",
      " False False False False 17 4 'Spring' 'Cloudy' 'Day' 2]\n",
      "['Saint Cloud' 'Stearns' 24.0 False False False False False False False\n",
      " False False False False 20 1 'Winter' 'Cloudy' 'Night' 2]\n",
      "['Detroit' 'Wayne' 63.0 False False False False False False False False\n",
      " False False False 23 6 'Summer' 'Normal' 'Night' 2]\n",
      "['Saint Paul' 'Ramsey' 19.0 False False False False False False False\n",
      " False False False False 18 12 'Winter' 'Cloudy' 'Day' 2]\n",
      "['Milwaukee' 'Milwaukee' 68.0 False False False False False False False\n",
      " False False False False 16 9 'Autumn' 'Normal' 'Day' 2]\n",
      "['Minneapolis' 'Hennepin' 1.0 False False False False False False False\n",
      " False False False False 10 1 'Winter' 'Snow' 'Day' 2]\n",
      "['Flint' 'Genesee' 10.0 False False False False False False False False\n",
      " False False False 4 2 'Winter' 'Snow' 'Night' 2]\n"
     ]
    },
    {
     "name": "stderr",
     "output_type": "stream",
     "text": [
      "                                                                                \r"
     ]
    },
    {
     "name": "stdout",
     "output_type": "stream",
     "text": [
      "Iteration  0\n"
     ]
    },
    {
     "name": "stderr",
     "output_type": "stream",
     "text": [
      "                                                                                \r"
     ]
    },
    {
     "name": "stdout",
     "output_type": "stream",
     "text": [
      "Iteration  1\n"
     ]
    },
    {
     "name": "stderr",
     "output_type": "stream",
     "text": [
      "                                                                                \r"
     ]
    },
    {
     "name": "stdout",
     "output_type": "stream",
     "text": [
      "Iteration  2\n"
     ]
    },
    {
     "name": "stderr",
     "output_type": "stream",
     "text": [
      "                                                                                \r"
     ]
    },
    {
     "name": "stdout",
     "output_type": "stream",
     "text": [
      "Iteration  3\n"
     ]
    },
    {
     "name": "stderr",
     "output_type": "stream",
     "text": [
      "                                                                                \r"
     ]
    },
    {
     "name": "stdout",
     "output_type": "stream",
     "text": [
      "Iteration  4\n"
     ]
    },
    {
     "name": "stderr",
     "output_type": "stream",
     "text": [
      "                                                                                \r"
     ]
    },
    {
     "name": "stdout",
     "output_type": "stream",
     "text": [
      "Init: initializing centroids\n",
      "Init: initializing clusters\n",
      "Starting iterations...\n",
      "Run 1, iteration: 1/100, moves: 5, cost: 163.0\n",
      "Run 1, iteration: 2/100, moves: 2, cost: 163.0\n",
      "Avg cost/partition: 3.26\n",
      "Final centroids:\n",
      "['Detroit' 'Wayne' 9.0 False False False False False False False False\n",
      " False False False 16 2 'Winter' 'Normal' 'Day' 2]\n",
      "['Milwaukee' 'Wayne' 63.0 False False False False False False False False\n",
      " False False False 22 6 'Summer' 'Normal' 'Night' 2]\n",
      "['Minneapolis' 'Hennepin' 71.0 False False False False False False False\n",
      " False False False False 15 9 'Spring' 'Cloudy' 'Day' 2]\n",
      "['Saint Paul' 'Ramsey' 17.0 False False False False False False False\n",
      " False False False False 19 12 'Winter' 'Snow' 'Night' 2]\n",
      "['Grand Rapids' 'Kent' 24.0 False True False False False False False False\n",
      " False False True 7 1 'Winter' 'Cloudy' 'Day' 2]\n",
      "['Flint' 'Genesee' 19.0 False False False False False False False False\n",
      " False False False 17 8 'Winter' 'Normal' 'Day' 2]\n",
      "['Grand Rapids' 'Kent' 34.0 False False False False False False False\n",
      " False False False False 14 4 'Winter' 'Cloudy' 'Day' 2]\n",
      "['Saint Paul' 'Ramsey' 19.0 False False False False False False False\n",
      " False False False False 17 12 'Winter' 'Cloudy' 'Day' 2]\n",
      "['Saint Paul' 'Wayne' 50.0 False False False False False False False False\n",
      " False False False 15 5 'Spring' 'Normal' 'Day' 2]\n",
      "['Grand Rapids' 'Kent' 36.0 False False False False False False False\n",
      " False False False False 7 3 'Spring' 'Cloudy' 'Day' 2]\n"
     ]
    },
    {
     "name": "stderr",
     "output_type": "stream",
     "text": [
      "                                                                                \r"
     ]
    }
   ],
   "source": [
    "lista_costi=[]\n",
    "for k in range(2,11):\n",
    "    n_clusters = k\n",
    "    max_iter = 10\n",
    "    method = EnsembleKModes(n_clusters, max_iter)\n",
    "    model = method.fit(df_kmodes_rdd)\n",
    "    lista_costi.append(method.mean_cost)"
   ]
  },
  {
   "cell_type": "code",
   "execution_count": 41,
   "id": "53d6c679-6ce8-4b73-bbc0-d68aaff8db4b",
   "metadata": {
    "tags": []
   },
   "outputs": [
    {
     "name": "stdout",
     "output_type": "stream",
     "text": [
      "Requirement already satisfied: kneed in /opt/conda/lib/python3.10/site-packages (0.8.5)\n",
      "Requirement already satisfied: numpy>=1.14.2 in /opt/conda/lib/python3.10/site-packages (from kneed) (1.24.3)\n",
      "Requirement already satisfied: scipy>=1.0.0 in /opt/conda/lib/python3.10/site-packages (from kneed) (1.10.1)\n"
     ]
    }
   ],
   "source": [
    "!pip install kneed"
   ]
  },
  {
   "cell_type": "code",
   "execution_count": 42,
   "id": "edcf00f2-f0ee-400d-909c-4d83b702baf7",
   "metadata": {
    "tags": []
   },
   "outputs": [
    {
     "data": {
      "image/png": "[encoded data removed]",
      "text/plain": [
       "<Figure size 640x480 with 1 Axes>"
      ]
     },
     "metadata": {},
     "output_type": "display_data"
    },
    {
     "name": "stdout",
     "output_type": "stream",
     "text": [
      "Elbow detected at K = 8\n"
     ]
    }
   ],
   "source": [
    "from kneed import KneeLocator\n",
    "plt.figure()\n",
    "plt.plot(range(2, 11), lista_costi, marker='o')\n",
    "plt.xlabel(\"K\")\n",
    "plt.ylabel(\"SSE\")\n",
    "plt.title(\"Elbow Method for Optimal K\")\n",
    "plt.show()\n",
    "\n",
    "# Trova l'elbow con KneeLocator\n",
    "kl = KneeLocator(range(2, 11), lista_costi, curve=\"convex\", direction=\"decreasing\")\n",
    "print(f\"Elbow detected at K = {kl.elbow}\")"
   ]
  },
  {
   "cell_type": "markdown",
   "id": "e50d6479-372a-4189-b1f5-6533bf05670b",
   "metadata": {},
   "source": [
    "PROVO K=5"
   ]
  },
  {
   "cell_type": "code",
   "execution_count": 43,
   "id": "48c63572-4d6c-4506-92ea-8044d053e949",
   "metadata": {
    "tags": []
   },
   "outputs": [],
   "source": [
    "n_clusters = 5\n",
    "max_iter = 10\n",
    "\n",
    "method = EnsembleKModes(n_clusters, max_iter)"
   ]
  },
  {
   "cell_type": "code",
   "execution_count": 44,
   "id": "3655249c-f03b-494e-961d-137b90931273",
   "metadata": {
    "tags": []
   },
   "outputs": [
    {
     "name": "stderr",
     "output_type": "stream",
     "text": [
      "                                                                                \r"
     ]
    },
    {
     "name": "stdout",
     "output_type": "stream",
     "text": [
      "Iteration  0\n"
     ]
    },
    {
     "name": "stderr",
     "output_type": "stream",
     "text": [
      "                                                                                \r"
     ]
    },
    {
     "name": "stdout",
     "output_type": "stream",
     "text": [
      "Iteration  1\n"
     ]
    },
    {
     "name": "stderr",
     "output_type": "stream",
     "text": [
      "                                                                                \r"
     ]
    },
    {
     "name": "stdout",
     "output_type": "stream",
     "text": [
      "Iteration  2\n"
     ]
    },
    {
     "name": "stderr",
     "output_type": "stream",
     "text": [
      "                                                                                \r"
     ]
    },
    {
     "name": "stdout",
     "output_type": "stream",
     "text": [
      "Iteration  3\n"
     ]
    },
    {
     "name": "stderr",
     "output_type": "stream",
     "text": [
      "                                                                                \r"
     ]
    },
    {
     "name": "stdout",
     "output_type": "stream",
     "text": [
      "Iteration  4\n"
     ]
    },
    {
     "name": "stderr",
     "output_type": "stream",
     "text": [
      "                                                                                \r"
     ]
    },
    {
     "name": "stdout",
     "output_type": "stream",
     "text": [
      "Init: initializing centroids\n",
      "Init: initializing clusters\n",
      "Starting iterations...\n",
      "Run 1, iteration: 1/100, moves: 0, cost: 81.0\n",
      "Avg cost/partition: 3.24\n",
      "Final centroids:\n",
      "['Detroit' 'Wayne' 19.0 False False False False False False False False\n",
      " False False False 16 2 'Winter' 'Cloudy' 'Day' 2]\n",
      "['Cardwell' 'Jefferson' 27.0 False False False False False False False\n",
      " False False False False 1 3 'Spring' 'Snow' 'Night' 2]\n",
      "['Milwaukee' 'Milwaukee' 19.0 False False False False False False False\n",
      " False False False False 15 11 'Autumn' 'Normal' 'Day' 2]\n",
      "['Minneapolis' 'Hennepin' 63.0 False False False False False False False\n",
      " False False False False 15 5 'Spring' 'Normal' 'Day' 2]\n",
      "['Grand Rapids' 'Kent' 50.0 False False False False False False False\n",
      " False False False False 7 3 'Spring' 'Cloudy' 'Day' 2]\n"
     ]
    },
    {
     "name": "stderr",
     "output_type": "stream",
     "text": [
      "                                                                                \r"
     ]
    }
   ],
   "source": [
    "model = method.fit(df_kmodes_rdd)"
   ]
  },
  {
   "cell_type": "code",
   "execution_count": 45,
   "id": "b115ff3c-0e0e-4481-886e-fd73bdd42956",
   "metadata": {
    "tags": []
   },
   "outputs": [],
   "source": [
    "predictions=model.predict(df_kmodes_rdd)"
   ]
  },
  {
   "cell_type": "code",
   "execution_count": 46,
   "id": "0e452e71-6cab-4fc1-abe7-29cfda4586ff",
   "metadata": {
    "tags": []
   },
   "outputs": [],
   "source": [
    "from pyspark.sql.types import StructType, StructField, IntegerType, StringType\n",
    "schema = StructType([\n",
    "    StructField(\"predictions\", IntegerType(), True)\n",
    "])"
   ]
  },
  {
   "cell_type": "code",
   "execution_count": 47,
   "id": "3367dda6-0a3e-4085-a9c5-cc34e4a5567a",
   "metadata": {
    "tags": []
   },
   "outputs": [],
   "source": [
    "df_predictions = spark.createDataFrame(predictions.map(lambda x: (int(x),)), schema)\n",
    "df_predictions_id = df_predictions.withColumn(\"row_id\", monotonically_increasing_id())\n",
    "joint=df_kmodes_id.join(df_predictions_id, 'row_id')"
   ]
  },
  {
   "cell_type": "code",
   "execution_count": 48,
   "id": "0c1ecffd-6546-4dc6-a3f3-6947d629d70a",
   "metadata": {
    "tags": []
   },
   "outputs": [
    {
     "name": "stderr",
     "output_type": "stream",
     "text": [
      "                                                                                \r"
     ]
    },
    {
     "name": "stdout",
     "output_type": "stream",
     "text": [
      "Contingency Table:\n",
      "Working_Weekend  Weekend  WorkingDay\n",
      "predictions                         \n",
      "0                   7482       28964\n",
      "1                   1921        5536\n",
      "2                   3256       15185\n",
      "3                   2198       10641\n",
      "4                   1597        6487\n"
     ]
    },
    {
     "data": {
      "image/png": "[encoded data removed]",
      "text/plain": [
       "<Figure size 640x480 with 1 Axes>"
      ]
     },
     "metadata": {},
     "output_type": "display_data"
    }
   ],
   "source": [
    "contingency_table = joint.groupBy('predictions', 'Working_Weekend').count().toPandas()\n",
    "pivot_table = contingency_table.pivot(index='predictions', columns='Working_Weekend', values='count')\n",
    "\n",
    "\n",
    "print(\"Contingency Table:\")\n",
    "print(pivot_table)\n",
    "\n",
    "\n",
    "pivot_table.plot(kind='bar', stacked=True, title='Working_Weekend Distribution in Clusters')\n",
    "plt.xlabel('Cluster')\n",
    "plt.ylabel('Count')\n",
    "plt.show()"
   ]
  }
 ],
 "metadata": {
  "kernelspec": {
   "display_name": "Python 3 (ipykernel)",
   "language": "python",
   "name": "python3"
  },
  "language_info": {
   "codemirror_mode": {
    "name": "ipython",
    "version": 3
   },
   "file_extension": ".py",
   "mimetype": "text/x-python",
   "name": "python",
   "nbconvert_exporter": "python",
   "pygments_lexer": "ipython3",
   "version": "3.9.13"
  }
 },
 "nbformat": 4,
 "nbformat_minor": 5
}
