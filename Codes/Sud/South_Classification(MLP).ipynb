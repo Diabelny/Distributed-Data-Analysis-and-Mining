{
    "cells": [
        {
            "cell_type": "code",
            "execution_count": 1,
            "metadata": {
                "tags": []
            },
            "outputs": [
                {
                    "name": "stderr",
                    "output_type": "stream",
                    "text": [
                        "Setting default log level to \"WARN\".\n",
                        "To adjust logging level use sc.setLogLevel(newLevel). For SparkR, use setLogLevel(newLevel).\n",
                        "23/12/13 22:01:08 WARN NativeCodeLoader: Unable to load native-hadoop library for your platform... using builtin-java classes where applicable\n"
                    ]
                }
            ],
            "source": [
                "import pandas as pd\n",
                "import matplotlib.pyplot as plt\n",
                "import seaborn as sns\n",
                "from pyspark.ml.feature import StringIndexer,OneHotEncoder\n",
                "from pyspark.sql import SQLContext, SparkSession, Row\n",
                "from pyspark.mllib.stat import Statistics\n",
                "from pyspark.ml import Pipeline\n",
                "from pyspark.ml.feature import VectorAssembler, MinMaxScaler, StandardScaler\n",
                "from pyspark.sql.functions import col\n",
                "import pyspark.sql.functions as F\n",
                "from pyspark.sql.functions import when, count, isnull\n",
                "from pyspark.mllib.regression import LabeledPoint\n",
                "from pyspark.ml.linalg import Vectors\n",
                "from pyspark.sql.types import FloatType\n",
                "\n",
                "from pyspark.sql.functions import udf\n",
                "from pyspark.sql.types import IntegerType\n",
                "\n",
                "from pyspark.ml.classification import MultilayerPerceptronClassifier\n",
                "from pyspark.ml.evaluation import MulticlassClassificationEvaluator\n",
                "from pyspark.ml.tuning import ParamGridBuilder, CrossValidator\n",
                "from pyspark.mllib.evaluation import MulticlassMetrics\n",
                "\n",
                "from pyspark.ml.functions import vector_to_array\n",
                "\n",
                "import pyspark.sql.functions as F\n",
                "\n",
                "spark = SparkSession.Builder().appName('DDAM_Project_south').getOrCreate()"
            ]
        },
        {
            "cell_type": "code",
            "execution_count": 3,
            "metadata": {
                "tags": []
            },
            "outputs": [
                {
                    "name": "stderr",
                    "output_type": "stream",
                    "text": [
                        "                                                                                \r"
                    ]
                }
            ],
            "source": [
                "df = spark.read.options(inferSchema = True, delimiter = ',', header = True).csv('../../Datasets/South_Incidents_Cleaned.csv')\n",
                "#df.show()"
            ]
        },
        {
            "cell_type": "markdown",
            "metadata": {},
            "source": [
                "Preparing data for MLP classification"
            ]
        },
        {
            "cell_type": "code",
            "execution_count": 6,
            "metadata": {
                "tags": []
            },
            "outputs": [
                {
                    "name": "stderr",
                    "output_type": "stream",
                    "text": [
                        "23/12/13 22:01:23 WARN SparkStringUtils: Truncated the string representation of a plan since it was too large. This behavior can be adjusted by setting 'spark.sql.debug.maxToStringFields'.\n",
                        "                                                                                \r"
                    ]
                },
                {
                    "name": "stdout",
                    "output_type": "stream",
                    "text": [
                        "+--------+------------------+-------------------+------------------+-------------+-------------+-------------+--------------+----------------+-------+----+--------+--------+--------+-------+-------+----------+-------+----+---------------+--------------+-----+----+---------------+---------------------+------+------+----+-----+----+\n",
                        "|Severity|         Start_Lat|          Start_Lng|       Distance_mi|Temperature_F|Humidity_perc|Visibility_mi|Wind_Speed_mph|Precipitation_in|Amenity|Bump|Crossing|Give_Way|Junction|No_Exit|Railway|Roundabout|Station|Stop|Traffic_Calming|Traffic_Signal|month|hour|Working_Weekend|Astronomical_Twilight|Normal|Cloudy|Rain|Foggy|Snow|\n",
                        "+--------+------------------+-------------------+------------------+-------------+-------------+-------------+--------------+----------------+-------+----+--------+--------+--------+-------+-------+----------+-------+----+---------------+--------------+-----+----+---------------+---------------------+------+------+----+-----+----+\n",
                        "|       1| 33.28583836539609|-110.35937190003224|             2.735|         56.0|         12.0|         10.0|          10.0|             0.0|      0|   0|       0|       0|       0|      0|      0|         0|      0|   0|              0|             0|    4|   3|              0|                    1|   1.0|   0.0| 0.0|  0.0| 0.0|\n",
                        "|       1|32.603849172436696|-109.68630909867436|1.5659999999999998|         75.0|         27.0|         10.0|           9.0|             0.0|      0|   0|       0|       0|       0|      0|      0|         0|      0|   0|              0|             0|    4|  22|              0|                    1|   1.0|   0.0| 0.0|  0.0| 0.0|\n",
                        "|       1|         32.816642|        -109.671375|             0.083|         73.0|         11.0|         10.0|          10.0|             0.0|      0|   0|       0|       0|       0|      0|      0|         0|      0|   0|              0|             0|    4|  23|              0|                    1|   1.0|   0.0| 0.0|  0.0| 0.0|\n",
                        "|       1|         32.573706|        -109.833815|             0.995|         67.0|         15.0|         10.0|          20.0|             0.0|      0|   0|       0|       0|       0|      0|      0|         0|      0|   0|              0|             0|    3|  16|              0|                    0|   1.0|   0.0| 0.0|  0.0| 0.0|\n",
                        "|       1|         32.573706|        -109.833815|             0.995|         67.0|         15.0|         10.0|          20.0|             0.0|      0|   0|       0|       0|       0|      0|      0|         0|      0|   0|              0|             0|    3|  16|              0|                    0|   1.0|   0.0| 0.0|  0.0| 0.0|\n",
                        "|       1|         32.571001|        -109.817033|             2.023|         73.0|         10.0|         10.0|          17.0|             0.0|      0|   0|       0|       0|       0|      0|      0|         0|      0|   0|              0|             0|    3|  13|              0|                    0|   1.0|   0.0| 0.0|  0.0| 0.0|\n",
                        "|       1|         32.571001|        -109.817033|             2.023|         73.0|         10.0|         10.0|          17.0|             0.0|      0|   0|       0|       0|       0|      0|      0|         0|      0|   0|              0|             0|    3|  13|              0|                    0|   1.0|   0.0| 0.0|  0.0| 0.0|\n",
                        "|       1|33.219791650613686|-110.21974682755364|             4.971|         43.0|         21.0|         10.0|           5.0|             0.0|      0|   0|       0|       0|       0|      0|      0|         0|      0|   0|              0|             0|    4|   6|              0|                    0|   1.0|   0.0| 0.0|  0.0| 0.0|\n",
                        "|       1|33.219791650613686|-110.21974682755364|             4.971|         43.0|         21.0|         10.0|           5.0|             0.0|      0|   0|       0|       0|       0|      0|      0|         0|      0|   0|              0|             0|    4|   6|              0|                    0|   1.0|   0.0| 0.0|  0.0| 0.0|\n",
                        "|       1| 32.46525406821983|-109.66993689484757|             2.181|         85.0|          9.0|         10.0|          22.0|             0.0|      0|   0|       0|       0|       0|      0|      0|         0|      0|   1|              0|             0|    4|  14|              0|                    0|   1.0|   0.0| 0.0|  0.0| 0.0|\n",
                        "|       1| 32.46525406821983|-109.66993689484757|             2.181|         85.0|          9.0|         10.0|          22.0|             0.0|      0|   0|       0|       0|       0|      0|      0|         0|      0|   1|              0|             0|    4|  14|              0|                    0|   1.0|   0.0| 0.0|  0.0| 0.0|\n",
                        "|       1| 32.49516606315377|-109.67347741074715|             1.914|         49.0|         15.0|         10.0|           6.0|             0.0|      0|   0|       0|       0|       0|      0|      0|         0|      0|   1|              0|             0|    4|   8|              0|                    0|   1.0|   0.0| 0.0|  0.0| 0.0|\n",
                        "|       1| 32.49516606315377|-109.67347741074715|             1.914|         49.0|         15.0|         10.0|           6.0|             0.0|      0|   0|       0|       0|       0|      0|      0|         0|      0|   1|              0|             0|    4|   8|              0|                    0|   1.0|   0.0| 0.0|  0.0| 0.0|\n",
                        "|       1|         32.805264|        -109.707705|             0.091|         64.0|         17.0|         10.0|           6.0|             0.0|      0|   0|       0|       0|       0|      0|      0|         0|      0|   0|              0|             0|    4|   9|              0|                    0|   1.0|   0.0| 0.0|  0.0| 0.0|\n",
                        "|       1|         32.805734|        -109.707707|             0.032|         64.0|         17.0|         10.0|           6.0|             0.0|      0|   0|       0|       0|       0|      0|      0|         0|      0|   1|              0|             0|    4|   9|              0|                    0|   1.0|   0.0| 0.0|  0.0| 0.0|\n",
                        "|       1|          32.81282|        -109.609451|               0.0|         68.0|          4.0|         10.0|          18.0|             0.0|      0|   0|       0|       0|       0|      0|      0|         0|      0|   0|              0|             0|    4|  19|              0|                    0|   1.0|   0.0| 0.0|  0.0| 0.0|\n",
                        "|       1|         32.812781|        -109.605301|             0.099|         71.0|          4.0|         10.0|          17.0|             0.0|      0|   0|       0|       0|       0|      0|      0|         0|      0|   0|              0|             0|    4|  18|              0|                    0|   1.0|   0.0| 0.0|  0.0| 0.0|\n",
                        "|       1|         32.812781|        -109.605301|              0.09|         71.0|          4.0|         10.0|          17.0|             0.0|      0|   0|       0|       0|       0|      0|      0|         0|      0|   0|              0|             0|    4|  18|              0|                    0|   1.0|   0.0| 0.0|  0.0| 0.0|\n",
                        "|       1|         32.812781|        -109.605301|             0.099|         71.0|          4.0|         10.0|          17.0|             0.0|      0|   0|       0|       0|       0|      0|      0|         0|      0|   0|              0|             0|    4|  18|              0|                    0|   1.0|   0.0| 0.0|  0.0| 0.0|\n",
                        "|       1|         32.822027|        -109.687658|             0.086|         95.0|          7.0|         10.0|          16.0|             0.0|      0|   0|       0|       0|       0|      0|      0|         0|      0|   0|              0|             0|    5|  18|              0|                    0|   1.0|   0.0| 0.0|  0.0| 0.0|\n",
                        "+--------+------------------+-------------------+------------------+-------------+-------------+-------------+--------------+----------------+-------+----+--------+--------+--------+-------+-------+----------+-------+----+---------------+--------------+-----+----+---------------+---------------------+------+------+----+-----+----+\n",
                        "only showing top 20 rows\n",
                        "\n"
                    ]
                }
            ],
            "source": [
                "to_drop=['Start_Time','City','County','State','Wind_Direction','day_of_the_week','season']\n",
                "df_class=df.drop(*to_drop)\n",
                "colonne_booleane = ['Amenity', 'Bump', 'Crossing', 'Give_Way', 'Junction', 'No_Exit', 'Railway', 'Roundabout', 'Station', 'Stop', 'Traffic_Calming', 'Traffic_Signal']\n",
                "\n",
                "# Converti le colonne booleane in numeriche\n",
                "for col_name in colonne_booleane:\n",
                "    df_class = df_class.withColumn(col_name, col(col_name).cast(\"int\"))\n",
                "\n",
                "\n",
                "df_class = df_class.withColumn(\"Astronomical_Twilight\", when(df_class[\"Astronomical_Twilight\"] == 'Day', 0).otherwise(1))\n",
                "df_class = df_class.withColumn(\"Working_Weekend\", when(df_class[\"Working_Weekend\"] == 'WorkingDay', 0).otherwise(1))\n",
                "\n",
                "\n",
                "\n",
                "\n",
                "indexer = StringIndexer(inputCol='Weather_Condition', outputCol='class_numeric')\n",
                "indexer_fitted = indexer.fit(df_class)\n",
                "df_indexed = indexer_fitted.transform(df_class)\n",
                "\n",
                "\n",
                "encoder = OneHotEncoder(inputCols=['class_numeric'], outputCols=['class_onehot'],dropLast=False)\n",
                "df_onehot = encoder.fit(df_indexed).transform(df_indexed)\n",
                "\n",
                "\n",
                "df_col_onehot = df_onehot.select('*', vector_to_array('class_onehot').alias('col_onehot'))\n",
                "\n",
                "num_categories = len(df_col_onehot.first()['col_onehot'])   # 3\n",
                "cols_expanded = [(F.col('col_onehot')[i].alias(f'{indexer_fitted.labels[i]}')) for i in range(num_categories)]\n",
                "df_cols_onehot = df_col_onehot.select('Severity',\n",
                " 'Start_Lat',\n",
                " 'Start_Lng',\n",
                " 'Distance_mi',\n",
                " 'Temperature_F',\n",
                " 'Humidity_perc',\n",
                " 'Visibility_mi',\n",
                " 'Wind_Speed_mph',\n",
                " 'Precipitation_in',\n",
                " 'Amenity',\n",
                " 'Bump',\n",
                " 'Crossing',\n",
                " 'Give_Way',\n",
                " 'Junction',\n",
                " 'No_Exit',\n",
                " 'Railway',\n",
                " 'Roundabout',\n",
                " 'Station',\n",
                " 'Stop',\n",
                " 'Traffic_Calming',\n",
                " 'Traffic_Signal',\n",
                " 'month',\n",
                " 'hour',\n",
                " 'Working_Weekend',\n",
                " 'Astronomical_Twilight', *cols_expanded)\n",
                "\n",
                "\n",
                "num_col = [item[0] for item in df_cols_onehot.dtypes if not item[1].startswith('string')]\n",
                "num_col.remove(\"Severity\")\n",
                "\n",
                "df_MLP= df_cols_onehot.withColumn(\"Severity\", col(\"Severity\") - 1)\n",
                "df_MLP.show()"
            ]
        },
        {
            "cell_type": "code",
            "execution_count": 7,
            "metadata": {
                "tags": []
            },
            "outputs": [],
            "source": [
                "df_MLP_binary=df_MLP"
            ]
        },
        {
            "cell_type": "markdown",
            "metadata": {},
            "source": [
                "Discovering Severity distribution before train e test split"
            ]
        },
        {
            "cell_type": "code",
            "execution_count": 8,
            "metadata": {
                "tags": []
            },
            "outputs": [
                {
                    "name": "stderr",
                    "output_type": "stream",
                    "text": [
                        "[Stage 8:====================================================>      (8 + 1) / 9]\r"
                    ]
                },
                {
                    "name": "stdout",
                    "output_type": "stream",
                    "text": [
                        "+--------+------+\n",
                        "|Severity| count|\n",
                        "+--------+------+\n",
                        "|       1|153857|\n",
                        "|       3|  2803|\n",
                        "|       2| 11752|\n",
                        "|       0|  5186|\n",
                        "+--------+------+\n",
                        "\n"
                    ]
                },
                {
                    "name": "stderr",
                    "output_type": "stream",
                    "text": [
                        "                                                                                \r"
                    ]
                }
            ],
            "source": [
                "severity_counts = df_MLP.groupBy(\"Severity\").count()\n",
                "severity_counts.show()"
            ]
        },
        {
            "cell_type": "markdown",
            "metadata": {},
            "source": [
                "Vectorizing data with respect to Severity"
            ]
        },
        {
            "cell_type": "code",
            "execution_count": 8,
            "metadata": {
                "tags": []
            },
            "outputs": [
                {
                    "name": "stdout",
                    "output_type": "stream",
                    "text": [
                        "+--------------------------------------------------------------------------------------------------------------------------------+--------+\n",
                        "|features                                                                                                                        |Severity|\n",
                        "+--------------------------------------------------------------------------------------------------------------------------------+--------+\n",
                        "|(29,[0,1,2,3,4,5,6,20,21,23,24],[33.28583836539609,-110.35937190003224,2.735,56.0,12.0,10.0,10.0,4.0,3.0,1.0,1.0])              |1       |\n",
                        "|(29,[0,1,2,3,4,5,6,20,21,23,24],[32.603849172436696,-109.68630909867436,1.5659999999999998,75.0,27.0,10.0,9.0,4.0,22.0,1.0,1.0])|1       |\n",
                        "|(29,[0,1,2,3,4,5,6,20,21,23,24],[32.816642,-109.671375,0.083,73.0,11.0,10.0,10.0,4.0,23.0,1.0,1.0])                             |1       |\n",
                        "|(29,[0,1,2,3,4,5,6,20,21,24],[32.573706,-109.833815,0.995,67.0,15.0,10.0,20.0,3.0,16.0,1.0])                                    |1       |\n",
                        "|(29,[0,1,2,3,4,5,6,20,21,24],[32.573706,-109.833815,0.995,67.0,15.0,10.0,20.0,3.0,16.0,1.0])                                    |1       |\n",
                        "|(29,[0,1,2,3,4,5,6,20,21,24],[32.571001,-109.817033,2.023,73.0,10.0,10.0,17.0,3.0,13.0,1.0])                                    |1       |\n",
                        "|(29,[0,1,2,3,4,5,6,20,21,24],[32.571001,-109.817033,2.023,73.0,10.0,10.0,17.0,3.0,13.0,1.0])                                    |1       |\n",
                        "|(29,[0,1,2,3,4,5,6,20,21,24],[33.219791650613686,-110.21974682755364,4.971,43.0,21.0,10.0,5.0,4.0,6.0,1.0])                     |1       |\n",
                        "|(29,[0,1,2,3,4,5,6,20,21,24],[33.219791650613686,-110.21974682755364,4.971,43.0,21.0,10.0,5.0,4.0,6.0,1.0])                     |1       |\n",
                        "|(29,[0,1,2,3,4,5,6,17,20,21,24],[32.46525406821983,-109.66993689484757,2.181,85.0,9.0,10.0,22.0,1.0,4.0,14.0,1.0])              |1       |\n",
                        "|(29,[0,1,2,3,4,5,6,17,20,21,24],[32.46525406821983,-109.66993689484757,2.181,85.0,9.0,10.0,22.0,1.0,4.0,14.0,1.0])              |1       |\n",
                        "|(29,[0,1,2,3,4,5,6,17,20,21,24],[32.49516606315377,-109.67347741074715,1.914,49.0,15.0,10.0,6.0,1.0,4.0,8.0,1.0])               |1       |\n",
                        "|(29,[0,1,2,3,4,5,6,17,20,21,24],[32.49516606315377,-109.67347741074715,1.914,49.0,15.0,10.0,6.0,1.0,4.0,8.0,1.0])               |1       |\n",
                        "|(29,[0,1,2,3,4,5,6,20,21,24],[32.805264,-109.707705,0.091,64.0,17.0,10.0,6.0,4.0,9.0,1.0])                                      |1       |\n",
                        "|(29,[0,1,2,3,4,5,6,17,20,21,24],[32.805734,-109.707707,0.032,64.0,17.0,10.0,6.0,1.0,4.0,9.0,1.0])                               |1       |\n",
                        "|(29,[0,1,3,4,5,6,20,21,24],[32.81282,-109.609451,68.0,4.0,10.0,18.0,4.0,19.0,1.0])                                              |1       |\n",
                        "|(29,[0,1,2,3,4,5,6,20,21,24],[32.812781,-109.605301,0.099,71.0,4.0,10.0,17.0,4.0,18.0,1.0])                                     |1       |\n",
                        "|(29,[0,1,2,3,4,5,6,20,21,24],[32.812781,-109.605301,0.09,71.0,4.0,10.0,17.0,4.0,18.0,1.0])                                      |1       |\n",
                        "|(29,[0,1,2,3,4,5,6,20,21,24],[32.812781,-109.605301,0.099,71.0,4.0,10.0,17.0,4.0,18.0,1.0])                                     |1       |\n",
                        "|(29,[0,1,2,3,4,5,6,20,21,24],[32.822027,-109.687658,0.086,95.0,7.0,10.0,16.0,5.0,18.0,1.0])                                     |1       |\n",
                        "+--------------------------------------------------------------------------------------------------------------------------------+--------+\n",
                        "only showing top 20 rows\n",
                        "\n"
                    ]
                }
            ],
            "source": [
                "assembler = VectorAssembler(inputCols=num_col, outputCol=\"features\")\n",
                "\n",
                "output_dataset = assembler.transform(df_MLP)\n",
                "\n",
                "classificationData = output_dataset.select(\"features\", \"Severity\")\n",
                "\n",
                "classificationData.show(truncate=False)\n",
                "(trainingData, testData) = classificationData.randomSplit([0.7, 0.3],seed=0)"
            ]
        },
        {
            "cell_type": "markdown",
            "metadata": {},
            "source": [
                "Discovering Severity trainingData e testData distribution"
            ]
        },
        {
            "cell_type": "code",
            "execution_count": 10,
            "metadata": {
                "tags": []
            },
            "outputs": [
                {
                    "name": "stderr",
                    "output_type": "stream",
                    "text": [
                        "[Stage 12:============>                                             (2 + 7) / 9]\r"
                    ]
                },
                {
                    "name": "stdout",
                    "output_type": "stream",
                    "text": [
                        "+--------+------+\n",
                        "|Severity| count|\n",
                        "+--------+------+\n",
                        "|       1|108010|\n",
                        "|       3|  1940|\n",
                        "|       2|  8198|\n",
                        "|       0|  3676|\n",
                        "+--------+------+\n",
                        "\n"
                    ]
                },
                {
                    "name": "stderr",
                    "output_type": "stream",
                    "text": [
                        "                                                                                \r"
                    ]
                }
            ],
            "source": [
                "severity_counts_train= trainingData.groupBy(\"Severity\").count()\n",
                "severity_counts_train.show()"
            ]
        },
        {
            "cell_type": "code",
            "execution_count": 11,
            "metadata": {
                "tags": []
            },
            "outputs": [
                {
                    "name": "stderr",
                    "output_type": "stream",
                    "text": [
                        "[Stage 15:===================>                                      (3 + 6) / 9]\r"
                    ]
                },
                {
                    "name": "stdout",
                    "output_type": "stream",
                    "text": [
                        "+--------+-----+\n",
                        "|Severity|count|\n",
                        "+--------+-----+\n",
                        "|       1|45847|\n",
                        "|       3|  863|\n",
                        "|       2| 3554|\n",
                        "|       0| 1510|\n",
                        "+--------+-----+\n",
                        "\n"
                    ]
                },
                {
                    "name": "stderr",
                    "output_type": "stream",
                    "text": [
                        "                                                                                \r"
                    ]
                }
            ],
            "source": [
                "severity_counts_test= testData.groupBy(\"Severity\").count()\n",
                "\n",
                "# Mostra il risultato\n",
                "severity_counts_test.show()"
            ]
        },
        {
            "cell_type": "markdown",
            "metadata": {},
            "source": [
                "### Training & Testing a non tuned MLP with trainingData  not yet sampled"
            ]
        },
        {
            "cell_type": "code",
            "execution_count": 23,
            "metadata": {
                "tags": []
            },
            "outputs": [
                {
                    "name": "stderr",
                    "output_type": "stream",
                    "text": [
                        "23/12/13 10:59:53 ERROR StrongWolfeLineSearch: Encountered bad values in function evaluation. Decreasing step size to 0.5\n",
                        "23/12/13 10:59:53 ERROR StrongWolfeLineSearch: Encountered bad values in function evaluation. Decreasing step size to 0.25\n",
                        "23/12/13 10:59:54 ERROR StrongWolfeLineSearch: Encountered bad values in function evaluation. Decreasing step size to 0.5\n",
                        "23/12/13 10:59:55 ERROR StrongWolfeLineSearch: Encountered bad values in function evaluation. Decreasing step size to 0.25\n",
                        "23/12/13 10:59:55 ERROR StrongWolfeLineSearch: Encountered bad values in function evaluation. Decreasing step size to 0.125\n",
                        "23/12/13 10:59:55 ERROR StrongWolfeLineSearch: Encountered bad values in function evaluation. Decreasing step size to 0.09375\n",
                        "23/12/13 10:59:59 ERROR LBFGS: Failure! Resetting history: breeze.optimize.FirstOrderException: Line search zoom failed\n",
                        "23/12/13 11:00:01 ERROR StrongWolfeLineSearch: Encountered bad values in function evaluation. Decreasing step size to 0.5\n",
                        "23/12/13 11:00:01 ERROR StrongWolfeLineSearch: Encountered bad values in function evaluation. Decreasing step size to 0.25\n",
                        "23/12/13 11:00:18 ERROR StrongWolfeLineSearch: Encountered bad values in function evaluation. Decreasing step size to 0.5\n",
                        "23/12/13 11:00:19 ERROR StrongWolfeLineSearch: Encountered bad values in function evaluation. Decreasing step size to 0.25\n",
                        "23/12/13 11:00:19 ERROR StrongWolfeLineSearch: Encountered bad values in function evaluation. Decreasing step size to 0.125\n",
                        "23/12/13 11:00:19 ERROR StrongWolfeLineSearch: Encountered bad values in function evaluation. Decreasing step size to 0.0625\n",
                        "23/12/13 11:00:19 ERROR StrongWolfeLineSearch: Encountered bad values in function evaluation. Decreasing step size to 0.5\n",
                        "23/12/13 11:00:20 ERROR StrongWolfeLineSearch: Encountered bad values in function evaluation. Decreasing step size to 0.25\n",
                        "23/12/13 11:00:20 ERROR StrongWolfeLineSearch: Encountered bad values in function evaluation. Decreasing step size to 0.125\n",
                        "23/12/13 11:00:20 ERROR StrongWolfeLineSearch: Encountered bad values in function evaluation. Decreasing step size to 0.0625\n",
                        "23/12/13 11:00:20 ERROR StrongWolfeLineSearch: Encountered bad values in function evaluation. Decreasing step size to 0.03125\n",
                        "23/12/13 11:00:21 ERROR StrongWolfeLineSearch: Encountered bad values in function evaluation. Decreasing step size to 0.0234375\n",
                        "23/12/13 11:00:22 ERROR LBFGS: Failure! Resetting history: breeze.optimize.FirstOrderException: Line search zoom failed\n",
                        "23/12/13 11:00:25 ERROR StrongWolfeLineSearch: Encountered bad values in function evaluation. Decreasing step size to 0.5\n",
                        "23/12/13 11:00:25 ERROR StrongWolfeLineSearch: Encountered bad values in function evaluation. Decreasing step size to 0.25\n",
                        "23/12/13 11:00:26 ERROR StrongWolfeLineSearch: Encountered bad values in function evaluation. Decreasing step size to 0.125\n",
                        "23/12/13 11:00:26 ERROR StrongWolfeLineSearch: Encountered bad values in function evaluation. Decreasing step size to 0.0625\n",
                        "23/12/13 11:00:26 ERROR StrongWolfeLineSearch: Encountered bad values in function evaluation. Decreasing step size to 0.03125\n",
                        "23/12/13 11:00:26 ERROR StrongWolfeLineSearch: Encountered bad values in function evaluation. Decreasing step size to 0.015625\n",
                        "23/12/13 11:00:27 ERROR StrongWolfeLineSearch: Encountered bad values in function evaluation. Decreasing step size to 0.0078125\n",
                        "23/12/13 11:00:27 ERROR StrongWolfeLineSearch: Encountered bad values in function evaluation. Decreasing step size to 0.00390625\n",
                        "23/12/13 11:00:27 ERROR StrongWolfeLineSearch: Encountered bad values in function evaluation. Decreasing step size to 0.0029296875\n",
                        "23/12/13 11:00:27 ERROR LBFGS: Failure! Resetting history: breeze.optimize.FirstOrderException: Line search failed\n",
                        "23/12/13 11:00:28 ERROR StrongWolfeLineSearch: Encountered bad values in function evaluation. Decreasing step size to 0.5\n",
                        "23/12/13 11:00:28 ERROR StrongWolfeLineSearch: Encountered bad values in function evaluation. Decreasing step size to 0.25\n",
                        "23/12/13 11:00:28 ERROR StrongWolfeLineSearch: Encountered bad values in function evaluation. Decreasing step size to 0.125\n",
                        "23/12/13 11:00:28 ERROR StrongWolfeLineSearch: Encountered bad values in function evaluation. Decreasing step size to 0.0625\n",
                        "23/12/13 11:00:29 ERROR StrongWolfeLineSearch: Encountered bad values in function evaluation. Decreasing step size to 0.03125\n",
                        "23/12/13 11:00:29 ERROR StrongWolfeLineSearch: Encountered bad values in function evaluation. Decreasing step size to 0.015625\n",
                        "23/12/13 11:00:29 ERROR StrongWolfeLineSearch: Encountered bad values in function evaluation. Decreasing step size to 0.0078125\n",
                        "23/12/13 11:00:29 ERROR StrongWolfeLineSearch: Encountered bad values in function evaluation. Decreasing step size to 0.00390625\n",
                        "23/12/13 11:00:29 ERROR StrongWolfeLineSearch: Encountered bad values in function evaluation. Decreasing step size to 0.001953125\n",
                        "23/12/13 11:00:29 ERROR StrongWolfeLineSearch: Encountered bad values in function evaluation. Decreasing step size to 9.765625E-4\n",
                        "23/12/13 11:00:29 ERROR LBFGS: Failure again! Giving up and returning. Maybe the objective is just poorly behaved?\n",
                        "[Stage 2403:===============================>                        (5 + 4) / 9]\r"
                    ]
                },
                {
                    "name": "stdout",
                    "output_type": "stream",
                    "text": [
                        "Accuracy:0.8863329084096264\n",
                        "\n",
                        "Test Error = 0.113667\n"
                    ]
                },
                {
                    "name": "stderr",
                    "output_type": "stream",
                    "text": [
                        "                                                                                \r"
                    ]
                }
            ],
            "source": [
                "# MLP Layers  -> output layer must have the same number of units of the Severity classes\n",
                "layers = [len(num_col),4]\n",
                "\n",
                "# Create the Multilayer Perceptron Classifier and set its parameters\n",
                "trainer = MultilayerPerceptronClassifier(\n",
                "    layers=layers,\n",
                "    labelCol=\"Severity\",\n",
                "    featuresCol=\"features\",\n",
                "    maxIter=500,  \n",
                "    tol=1e-6,\n",
                "    seed=None,\n",
                "    blockSize=32,\n",
                "    stepSize=0.03,  \n",
                "    solver=\"l-bfgs\",\n",
                "    initialWeights=None,\n",
                "    probabilityCol=\"probability\",\n",
                "    rawPredictionCol=\"rawPrediction\"\n",
                ")\n",
                "\n",
                "# Train the model\n",
                "model = trainer.fit(trainingData)\n",
                "\n",
                "# Make predictions on the test set\n",
                "predictions= model.transform(testData)\n",
                "\n",
                "# Compute Test Error = 1-Accuracy\n",
                "evaluator = MulticlassClassificationEvaluator(labelCol=\"Severity\"\n",
                "                                              , predictionCol=\"prediction\"\n",
                "                                              , metricName=\"accuracy\")\n",
                "\n",
                "accuracy = evaluator.evaluate(predictions)\n",
                "print(f'Accuracy:{accuracy}\n",
                "')\n",
                "print(\"Test Error = %g\" % (1.0 - accuracy))\n"
            ]
        },
        {
            "cell_type": "code",
            "execution_count": 24,
            "metadata": {
                "tags": []
            },
            "outputs": [
                {
                    "name": "stderr",
                    "output_type": "stream",
                    "text": [
                        "/opt/conda/lib/python3.10/site-packages/pyspark/sql/context.py:158: FutureWarning: Deprecated in 3.0.0. Use SparkSession.builder.getOrCreate() instead.\n",
                        "  warnings.warn(\n",
                        "                                                                                \r"
                    ]
                },
                {
                    "name": "stdout",
                    "output_type": "stream",
                    "text": [
                        "Precision for class  0 : 53.41%\n",
                        "Recall for class  0 : 9.87%\n",
                        "avg_F1-Score for class  0 : 16.66%\n",
                        "----------------------------\n",
                        "Precision for class  1 : 88.82%\n",
                        "Recall for class  1 : 99.77%\n",
                        "avg_F1-Score for class  1 : 93.98%\n",
                        "----------------------------\n",
                        "Precision for class  2 : 0.00%\n",
                        "Recall for class  2 : 0.00%\n",
                        "avg_F1-Score for class  2 : 0.00%\n",
                        "----------------------------\n",
                        "Precision for class  3 : 0.00%\n",
                        "Recall for class  3 : 0.00%\n",
                        "avg_F1-Score for class  3 : 0.00%\n",
                        "----------------------------\n",
                        "[0.16657350475125768, 0.9397793347167719, 0.0, 0.0]\n",
                        "----------------------\n",
                        "avg_F1-Score: 27.66%\n"
                    ]
                },
                {
                    "data": {
                        "text/plain": [
                            "<Axes: >"
                        ]
                    },
                    "execution_count": 24,
                    "metadata": {},
                    "output_type": "execute_result"
                },
                {
                    "data": {
                        "image/png": "[encoded data removed]",
                        "text/plain": [
                            "<Figure size 700x700 with 1 Axes>"
                        ]
                    },
                    "metadata": {},
                    "output_type": "display_data"
                }
            ],
            "source": [
                "# Calcolare precision, recall e F1-score\n",
                "predictionAndLabels = predictions.select(\"prediction\", \"Severity\").rdd.map(lambda x: (float(x[0]), float(x[1])))\n",
                "metrics = MulticlassMetrics(predictionAndLabels)\n",
                "\n",
                "list_avg=[]\n",
                "for i in range(4):\n",
                "    precision = metrics.precision(label=float(i))  \n",
                "    recall = metrics.recall(label=float(i))\n",
                "    f1Score= metrics.fMeasure(label=float(i)) # need .0\n",
                "    print(\"Precision for class \",i,\": {:.2%}\".format(precision))\n",
                "    print(\"Recall for class \",i,\": {:.2%}\".format(recall))\n",
                "    print(\"avg_F1-Score for class \",i,\": {:.2%}\".format(f1Score))\n",
                "    list_avg.append(f1Score)\n",
                "    print('----------------------------')\n",
                "sum_=0\n",
                "print(list_avg)\n",
                "for elem in list_avg:\n",
                "    sum_+=elem\n",
                "\n",
                "avg_f1=sum_/4\n",
                "print('----------------------')\n",
                "\n",
                "print(\"avg_F1-Score: {:.2%}\".format(avg_f1))\n",
                "\n",
                "labels = [\"0\", \"1\", \"2\", \"3\"]\n",
                "_ = plt.figure(figsize=(7, 7))\n",
                "sns.heatmap(metrics.confusionMatrix().toArray(),\n",
                "            cmap='viridis',\n",
                "            annot=True,fmt='0',\n",
                "            cbar=False, \n",
                "            xticklabels=labels, \n",
                "            yticklabels=labels)"
            ]
        },
        {
            "cell_type": "markdown",
            "metadata": {},
            "source": [
                "Performing Undersampling(Severity=1) on trainingData"
            ]
        },
        {
            "cell_type": "markdown",
            "metadata": {},
            "source": [
                "Undersampling -> Faccio una media delle occorrenze delle altre tre classi e riduco la classe di maggioranza a quel numero"
            ]
        },
        {
            "cell_type": "code",
            "execution_count": 9,
            "metadata": {
                "tags": []
            },
            "outputs": [
                {
                    "name": "stderr",
                    "output_type": "stream",
                    "text": [
                        "                                                                                \r"
                    ]
                }
            ],
            "source": [
                "g=trainingData.groupBy('Severity').agg(F.count('Severity').alias('Count'))\n",
                "g=g.sort('Severity')\n",
                "g_p=g.toPandas()\n",
                "n_0=g_p.iloc[0,1]\n",
                "n_1=g_p.iloc[1,1]\n",
                "n_2=g_p.iloc[2,1]\n",
                "n_3=g_p.iloc[3,1]"
            ]
        },
        {
            "cell_type": "code",
            "execution_count": 10,
            "metadata": {
                "tags": []
            },
            "outputs": [
                {
                    "name": "stdout",
                    "output_type": "stream",
                    "text": [
                        "+--------+-----+\n",
                        "|Severity|count|\n",
                        "+--------+-----+\n",
                        "|       1| 4601|\n",
                        "|       3| 1990|\n",
                        "|       2| 8228|\n",
                        "|       0| 3683|\n",
                        "+--------+-----+\n",
                        "\n"
                    ]
                },
                {
                    "name": "stderr",
                    "output_type": "stream",
                    "text": [
                        "                                                                                \r"
                    ]
                }
            ],
            "source": [
                "und=(n_0+n_2+n_3)/3\n",
                "train_und = trainingData.sampleBy('Severity', fractions={0:1.0 ,1: und/n_1 , 2:1.0, 3:1.0})\n",
                "result_counts=train_und.groupBy(\"Severity\").count()\n",
                "result_counts.show()"
            ]
        },
        {
            "cell_type": "markdown",
            "metadata": {},
            "source": [
                "Training & Testing a non tuned MLP with trainingData sampled"
            ]
        },
        {
            "cell_type": "code",
            "execution_count": 10,
            "metadata": {},
            "outputs": [],
            "source": [
                "from pyspark.ml.evaluation import MulticlassClassificationEvaluator\n",
                "from pyspark.ml.tuning import ParamGridBuilder, CrossValidator\n",
                "from pyspark.mllib.evaluation import MulticlassMetrics\n",
                "from pyspark.ml.evaluation import MulticlassClassificationEvaluator\n",
                "from pyspark.mllib.evaluation import MulticlassMetrics\n",
                "import seaborn as sns\n",
                "import matplotlib.pyplot as plt"
            ]
        },
        {
            "cell_type": "code",
            "execution_count": 14,
            "metadata": {
                "tags": []
            },
            "outputs": [
                {
                    "name": "stderr",
                    "output_type": "stream",
                    "text": [
                        "23/12/13 08:33:14 ERROR StrongWolfeLineSearch: Encountered bad values in function evaluation. Decreasing step size to 0.5\n",
                        "23/12/13 08:33:14 ERROR StrongWolfeLineSearch: Encountered bad values in function evaluation. Decreasing step size to 0.25\n",
                        "23/12/13 08:33:15 ERROR StrongWolfeLineSearch: Encountered bad values in function evaluation. Decreasing step size to 0.5\n",
                        "23/12/13 08:33:15 ERROR StrongWolfeLineSearch: Encountered bad values in function evaluation. Decreasing step size to 0.25\n",
                        "23/12/13 08:33:15 ERROR StrongWolfeLineSearch: Encountered bad values in function evaluation. Decreasing step size to 0.125\n",
                        "23/12/13 08:33:15 ERROR StrongWolfeLineSearch: Encountered bad values in function evaluation. Decreasing step size to 0.0625\n",
                        "23/12/13 08:33:16 ERROR StrongWolfeLineSearch: Encountered bad values in function evaluation. Decreasing step size to 0.046875\n",
                        "23/12/13 08:33:17 ERROR LBFGS: Failure! Resetting history: breeze.optimize.FirstOrderException: Line search zoom failed\n",
                        "23/12/13 08:33:18 ERROR StrongWolfeLineSearch: Encountered bad values in function evaluation. Decreasing step size to 0.5\n",
                        "23/12/13 08:33:18 ERROR StrongWolfeLineSearch: Encountered bad values in function evaluation. Decreasing step size to 0.25\n",
                        "23/12/13 08:33:18 ERROR StrongWolfeLineSearch: Encountered bad values in function evaluation. Decreasing step size to 0.125\n",
                        "23/12/13 08:33:25 ERROR StrongWolfeLineSearch: Encountered bad values in function evaluation. Decreasing step size to 0.5\n",
                        "23/12/13 08:33:25 ERROR StrongWolfeLineSearch: Encountered bad values in function evaluation. Decreasing step size to 0.25\n",
                        "23/12/13 08:33:25 ERROR StrongWolfeLineSearch: Encountered bad values in function evaluation. Decreasing step size to 0.5\n",
                        "23/12/13 08:33:25 ERROR StrongWolfeLineSearch: Encountered bad values in function evaluation. Decreasing step size to 0.25\n",
                        "23/12/13 08:33:25 ERROR StrongWolfeLineSearch: Encountered bad values in function evaluation. Decreasing step size to 0.125\n",
                        "23/12/13 08:33:25 ERROR StrongWolfeLineSearch: Encountered bad values in function evaluation. Decreasing step size to 0.0625\n",
                        "23/12/13 08:33:26 ERROR StrongWolfeLineSearch: Encountered bad values in function evaluation. Decreasing step size to 0.046875\n",
                        "23/12/13 08:33:27 ERROR LBFGS: Failure! Resetting history: breeze.optimize.FirstOrderException: Line search zoom failed\n",
                        "23/12/13 08:33:28 ERROR StrongWolfeLineSearch: Encountered bad values in function evaluation. Decreasing step size to 0.5\n",
                        "23/12/13 08:33:28 ERROR StrongWolfeLineSearch: Encountered bad values in function evaluation. Decreasing step size to 0.25\n",
                        "23/12/13 08:33:28 ERROR StrongWolfeLineSearch: Encountered bad values in function evaluation. Decreasing step size to 0.125\n",
                        "23/12/13 08:33:29 ERROR StrongWolfeLineSearch: Encountered bad values in function evaluation. Decreasing step size to 0.0625\n",
                        "23/12/13 08:33:29 ERROR StrongWolfeLineSearch: Encountered bad values in function evaluation. Decreasing step size to 0.03125\n",
                        "23/12/13 08:33:29 ERROR StrongWolfeLineSearch: Encountered bad values in function evaluation. Decreasing step size to 0.015625\n",
                        "23/12/13 08:33:29 ERROR StrongWolfeLineSearch: Encountered bad values in function evaluation. Decreasing step size to 0.0078125\n",
                        "23/12/13 08:33:30 ERROR StrongWolfeLineSearch: Encountered bad values in function evaluation. Decreasing step size to 0.00390625\n",
                        "23/12/13 08:33:30 ERROR StrongWolfeLineSearch: Encountered bad values in function evaluation. Decreasing step size to 0.001953125\n",
                        "23/12/13 08:33:30 ERROR StrongWolfeLineSearch: Encountered bad values in function evaluation. Decreasing step size to 9.765625E-4\n",
                        "23/12/13 08:33:30 ERROR LBFGS: Failure again! Giving up and returning. Maybe the objective is just poorly behaved?\n",
                        "                                                                                \r"
                    ]
                },
                {
                    "name": "stdout",
                    "output_type": "stream",
                    "text": [
                        "Accuracy:0.44124464016687914\n",
                        "\n",
                        "Test Error = 0.558755\n"
                    ]
                },
                {
                    "name": "stderr",
                    "output_type": "stream",
                    "text": [
                        "/opt/conda/lib/python3.10/site-packages/pyspark/sql/context.py:158: FutureWarning: Deprecated in 3.0.0. Use SparkSession.builder.getOrCreate() instead.\n",
                        "  warnings.warn(\n",
                        "                                                                                \r"
                    ]
                },
                {
                    "name": "stdout",
                    "output_type": "stream",
                    "text": [
                        "Precision for class  0 : 21.78%\n",
                        "Recall for class  0 : 70.40%\n",
                        "avg_F1-Score for class  0 : 33.27%\n",
                        "----------------------------\n",
                        "Precision for class  1 : 96.68%\n",
                        "Recall for class  1 : 40.85%\n",
                        "avg_F1-Score for class  1 : 57.43%\n",
                        "----------------------------\n",
                        "Precision for class  2 : 11.47%\n",
                        "Recall for class  2 : 84.41%\n",
                        "avg_F1-Score for class  2 : 20.20%\n",
                        "----------------------------\n",
                        "Precision for class  3 : 3.92%\n",
                        "Recall for class  3 : 6.26%\n",
                        "avg_F1-Score for class  3 : 4.82%\n",
                        "----------------------------\n",
                        "[0.33270735524256656, 0.5743111669912142, 0.20202700427623824, 0.04821428571428571]\n",
                        "----------------------\n",
                        "avg_F1-Score: 28.93%\n"
                    ]
                },
                {
                    "data": {
                        "text/plain": [
                            "<Axes: >"
                        ]
                    },
                    "execution_count": 14,
                    "metadata": {},
                    "output_type": "execute_result"
                },
                {
                    "data": {
                        "image/png": "[encoded data removed]",
                        "text/plain": [
                            "<Figure size 700x700 with 1 Axes>"
                        ]
                    },
                    "metadata": {},
                    "output_type": "display_data"
                }
            ],
            "source": [
                "# MLP Layers  -> output layer must have the same number of units of the Severity classes\n",
                "layers = [len(num_col),4]\n",
                "\n",
                "# Create the Multilayer Perceptron Classifier and set its parameters\n",
                "trainer = MultilayerPerceptronClassifier(\n",
                "    layers=layers,\n",
                "    labelCol=\"Severity\",\n",
                "    featuresCol=\"features\",\n",
                "    maxIter=500,  \n",
                "    tol=1e-6,\n",
                "    seed=None,\n",
                "    blockSize=32,\n",
                "    stepSize=0.03,  \n",
                "    solver=\"l-bfgs\",\n",
                "    initialWeights=None,\n",
                "    probabilityCol=\"probability\",\n",
                "    rawPredictionCol=\"rawPrediction\"\n",
                ")\n",
                "\n",
                "# Train the model\n",
                "model = trainer.fit(train_und)\n",
                "\n",
                "# Make predictions on the test set\n",
                "predictions= model.transform(testData)\n",
                "\n",
                "# Compute Test Error = 1-Accuracy\n",
                "evaluator = MulticlassClassificationEvaluator(labelCol=\"Severity\"\n",
                "                                              , predictionCol=\"prediction\"\n",
                "                                              , metricName=\"accuracy\")\n",
                "\n",
                "accuracy = evaluator.evaluate(predictions)\n",
                "print(f'Accuracy:{accuracy}\n",
                "')\n",
                "print(\"Test Error = %g\" % (1.0 - accuracy))\n",
                "\n",
                "# Calcolare precision, recall e F1-score\n",
                "predictionAndLabels = predictions.select(\"prediction\", \"Severity\").rdd.map(lambda x: (float(x[0]), float(x[1])))\n",
                "metrics = MulticlassMetrics(predictionAndLabels)\n",
                "\n",
                "list_avg=[]\n",
                "for i in range(4):\n",
                "    precision = metrics.precision(label=float(i))  \n",
                "    recall = metrics.recall(label=float(i))\n",
                "    f1Score= metrics.fMeasure(label=float(i)) # need .0\n",
                "    print(\"Precision for class \",i,\": {:.2%}\".format(precision))\n",
                "    print(\"Recall for class \",i,\": {:.2%}\".format(recall))\n",
                "    print(\"avg_F1-Score for class \",i,\": {:.2%}\".format(f1Score))\n",
                "    list_avg.append(f1Score)\n",
                "    print('----------------------------')\n",
                "sum_=0\n",
                "print(list_avg)\n",
                "for elem in list_avg:\n",
                "    sum_+=elem\n",
                "\n",
                "avg_f1=sum_/4\n",
                "print('----------------------')\n",
                "\n",
                "print(\"avg_F1-Score: {:.2%}\".format(avg_f1))\n",
                "\n",
                "labels = [\"0\", \"1\", \"2\", \"3\"]\n",
                "_ = plt.figure(figsize=(7, 7))\n",
                "sns.heatmap(metrics.confusionMatrix().toArray(),\n",
                "            cmap='viridis',\n",
                "            annot=True,fmt='0',\n",
                "            cbar=False, \n",
                "            xticklabels=labels, \n",
                "            yticklabels=labels)"
            ]
        },
        {
            "cell_type": "markdown",
            "metadata": {},
            "source": [
                "Performing Undersampling(Severity=1) & Oversampling(Severity=0,2,3) "
            ]
        },
        {
            "cell_type": "code",
            "execution_count": 11,
            "metadata": {
                "tags": []
            },
            "outputs": [],
            "source": [
                "under_1=trainingData.filter(col('Severity') == 1)\n",
                "under_1 = trainingData.sample(True, 0.3, seed=42)"
            ]
        },
        {
            "cell_type": "code",
            "execution_count": 12,
            "metadata": {
                "tags": []
            },
            "outputs": [
                {
                    "name": "stdout",
                    "output_type": "stream",
                    "text": [
                        "6.7846863969590006\n",
                        "5.7846863969590006\n",
                        "4.7846863969590006\n",
                        "3.7846863969590006\n",
                        "2.7846863969590006\n",
                        "1.7846863969590006\n",
                        "0.7846863969590006\n"
                    ]
                }
            ],
            "source": [
                "oversample_0=trainingData.filter(col('Severity') == 0)\n",
                "num_campioni_da_generare = round(n_1*0.3)\n",
                "num_campioni_da_generare=(num_campioni_da_generare-n_0)/n_0 \n",
                "full_0=oversample_0\n",
                "\n",
                "while num_campioni_da_generare>1:\n",
                "    oversample_0 = oversample_0.unionAll(full_0)\n",
                "    num_campioni_da_generare=num_campioni_da_generare-1.0\n",
                "    print(num_campioni_da_generare)\n",
                "    \n",
                "df_minority_oversampled = full_0.sample(True, num_campioni_da_generare, seed=42)\n",
                "\n",
                "oversample_0 = oversample_0.unionAll(df_minority_oversampled)"
            ]
        },
        {
            "cell_type": "code",
            "execution_count": 13,
            "metadata": {
                "tags": []
            },
            "outputs": [
                {
                    "name": "stdout",
                    "output_type": "stream",
                    "text": [
                        "1.9321827904715607\n",
                        "0.9321827904715607\n"
                    ]
                }
            ],
            "source": [
                "oversample_2=trainingData.filter(col('Severity') == 2)\n",
                "num_campioni_da_generare = round(n_1*0.3)\n",
                "num_campioni_da_generare=(num_campioni_da_generare-n_2)/n_2\n",
                "full_2=oversample_2\n",
                "\n",
                "while num_campioni_da_generare>1:\n",
                "    oversample_2 = oversample_2.unionAll(full_2)\n",
                "    num_campioni_da_generare=num_campioni_da_generare-1.0\n",
                "    print(num_campioni_da_generare)\n",
                "    \n",
                "df_minority_oversampled = full_2.sample(True, num_campioni_da_generare, seed=42)\n",
                "\n",
                "oversample_2 = oversample_2.unionAll(df_minority_oversampled)"
            ]
        },
        {
            "cell_type": "code",
            "execution_count": 14,
            "metadata": {
                "tags": []
            },
            "outputs": [
                {
                    "name": "stdout",
                    "output_type": "stream",
                    "text": [
                        "14.258291457286433\n",
                        "13.258291457286433\n",
                        "12.258291457286433\n",
                        "11.258291457286433\n",
                        "10.258291457286433\n",
                        "9.258291457286433\n",
                        "8.258291457286433\n",
                        "7.2582914572864325\n",
                        "6.2582914572864325\n",
                        "5.2582914572864325\n",
                        "4.2582914572864325\n",
                        "3.2582914572864325\n",
                        "2.2582914572864325\n",
                        "1.2582914572864325\n",
                        "0.25829145728643255\n"
                    ]
                }
            ],
            "source": [
                "oversample_3=trainingData.filter(col('Severity') == 3)\n",
                "num_campioni_da_generare = round(n_1*0.3)\n",
                "num_campioni_da_generare=(num_campioni_da_generare-n_3)/n_3  \n",
                "full_3=oversample_3\n",
                "\n",
                "while num_campioni_da_generare>1:\n",
                "    oversample_3 = oversample_3.unionAll(full_3)\n",
                "    num_campioni_da_generare=num_campioni_da_generare-1.0\n",
                "    print(num_campioni_da_generare)\n",
                "    \n",
                "df_minority_oversampled = full_3.sample(True, num_campioni_da_generare, seed=42)\n",
                "\n",
                "oversample_3 = oversample_3.unionAll(df_minority_oversampled)"
            ]
        },
        {
            "cell_type": "code",
            "execution_count": 15,
            "metadata": {
                "tags": []
            },
            "outputs": [
                {
                    "name": "stderr",
                    "output_type": "stream",
                    "text": [
                        "Java HotSpot(TM) 64-Bit Server VM warning: CodeCache is full. Compiler has been disabled.\n",
                        "Java HotSpot(TM) 64-Bit Server VM warning: Try increasing the code cache size using -XX:ReservedCodeCacheSize=\n"
                    ]
                },
                {
                    "name": "stdout",
                    "output_type": "stream",
                    "text": [
                        "CodeCache: size=131072Kb used=57276Kb max_used=57738Kb free=73795Kb\n",
                        " bounds [0x00000001089d8000, 0x000000010c298000, 0x00000001109d8000]\n",
                        " total_blobs=17720 nmethods=16694 adapters=937\n",
                        " compilation: disabled (not enough contiguous free space left)\n"
                    ]
                },
                {
                    "name": "stderr",
                    "output_type": "stream",
                    "text": [
                        "23/12/13 21:41:54 WARN DAGScheduler: Broadcasting large task binary with size 1040.9 KiB\n",
                        "                                                                                \r"
                    ]
                },
                {
                    "name": "stdout",
                    "output_type": "stream",
                    "text": [
                        "Class 0: 32359\n",
                        "Class 1: 36700\n",
                        "Class 2: 32367\n",
                        "Class 3: 32390\n"
                    ]
                }
            ],
            "source": [
                "class0_counts=oversample_0.count()\n",
                "class2_counts=oversample_2.count()\n",
                "class3_counts=oversample_3.count()\n",
                "class1_counts=under_1.count()\n",
                "print(f'Class 0: {class0_counts}\n",
                "Class 1: {class1_counts}\n",
                "Class 2: {class2_counts}\n",
                "Class 3: {class3_counts}')"
            ]
        },
        {
            "cell_type": "code",
            "execution_count": 16,
            "metadata": {
                "tags": []
            },
            "outputs": [],
            "source": [
                "train_und_over=oversample_0.unionAll(oversample_2).unionAll(oversample_3).unionAll(under_1)"
            ]
        },
        {
            "cell_type": "code",
            "execution_count": 17,
            "metadata": {
                "tags": []
            },
            "outputs": [
                {
                    "name": "stderr",
                    "output_type": "stream",
                    "text": [
                        "23/12/13 21:42:09 WARN DAGScheduler: Broadcasting large task binary with size 1864.7 KiB\n",
                        "[Stage 31:====================================================> (240 + 8) / 248]\r"
                    ]
                },
                {
                    "name": "stdout",
                    "output_type": "stream",
                    "text": [
                        "+--------+-----+\n",
                        "|Severity|Count|\n",
                        "+--------+-----+\n",
                        "|       0|33487|\n",
                        "|       1|32564|\n",
                        "|       2|34761|\n",
                        "|       3|33004|\n",
                        "+--------+-----+\n",
                        "\n"
                    ]
                },
                {
                    "name": "stderr",
                    "output_type": "stream",
                    "text": [
                        "                                                                                \r"
                    ]
                }
            ],
            "source": [
                "g=train_und_over.groupBy('Severity').agg(F.count('Severity').alias('Count'))\n",
                "g=g.sort('Severity')\n",
                "g.show()"
            ]
        },
        {
            "cell_type": "markdown",
            "metadata": {},
            "source": [
                "Training a tuned MLP with trainingData sampled"
            ]
        },
        {
            "cell_type": "code",
            "execution_count": 22,
            "metadata": {
                "tags": []
            },
            "outputs": [
                {
                    "name": "stderr",
                    "output_type": "stream",
                    "text": [
                        "23/12/13 08:48:28 WARN DAGScheduler: Broadcasting large task binary with size 2.8 MiB\n",
                        "23/12/13 08:55:07 WARN DAGScheduler: Broadcasting large task binary with size 2.8 MiB\n",
                        "23/12/13 08:55:53 WARN DAGScheduler: Broadcasting large task binary with size 2.8 MiB\n",
                        "23/12/13 08:55:54 WARN DAGScheduler: Broadcasting large task binary with size 2.8 MiB\n",
                        "23/12/13 08:56:26 WARN DAGScheduler: Broadcasting large task binary with size 2.8 MiB\n",
                        "23/12/13 08:56:28 WARN DAGScheduler: Broadcasting large task binary with size 2.8 MiB\n",
                        "23/12/13 08:57:03 WARN DAGScheduler: Broadcasting large task binary with size 2.8 MiB\n",
                        "23/12/13 08:57:05 WARN DAGScheduler: Broadcasting large task binary with size 2.8 MiB\n",
                        "23/12/13 08:57:45 WARN DAGScheduler: Broadcasting large task binary with size 2.8 MiB\n",
                        "23/12/13 08:57:48 WARN DAGScheduler: Broadcasting large task binary with size 2.8 MiB\n",
                        "23/12/13 08:58:32 WARN DAGScheduler: Broadcasting large task binary with size 2.8 MiB\n",
                        "23/12/13 08:58:35 WARN DAGScheduler: Broadcasting large task binary with size 2.8 MiB\n",
                        "23/12/13 08:59:23 WARN DAGScheduler: Broadcasting large task binary with size 2.8 MiB\n",
                        "23/12/13 08:59:25 WARN DAGScheduler: Broadcasting large task binary with size 2.8 MiB\n",
                        "23/12/13 09:00:16 WARN DAGScheduler: Broadcasting large task binary with size 2.8 MiB\n",
                        "23/12/13 09:00:17 WARN DAGScheduler: Broadcasting large task binary with size 2.8 MiB\n",
                        "23/12/13 09:00:45 WARN DAGScheduler: Broadcasting large task binary with size 2.8 MiB\n",
                        "23/12/13 09:00:47 WARN DAGScheduler: Broadcasting large task binary with size 2.8 MiB\n",
                        "23/12/13 09:01:34 WARN DAGScheduler: Broadcasting large task binary with size 2.8 MiB\n",
                        "23/12/13 09:01:36 WARN DAGScheduler: Broadcasting large task binary with size 2.8 MiB\n",
                        "23/12/13 09:02:32 WARN DAGScheduler: Broadcasting large task binary with size 2.8 MiB\n",
                        "23/12/13 09:02:34 WARN DAGScheduler: Broadcasting large task binary with size 2.8 MiB\n",
                        "23/12/13 09:03:21 WARN DAGScheduler: Broadcasting large task binary with size 2.8 MiB\n",
                        "23/12/13 09:03:23 WARN DAGScheduler: Broadcasting large task binary with size 2.8 MiB\n",
                        "23/12/13 09:04:13 WARN DAGScheduler: Broadcasting large task binary with size 2.8 MiB\n",
                        "23/12/13 09:04:18 WARN DAGScheduler: Broadcasting large task binary with size 2.8 MiB\n",
                        "23/12/13 09:05:02 WARN DAGScheduler: Broadcasting large task binary with size 2.8 MiB\n",
                        "23/12/13 09:05:04 WARN DAGScheduler: Broadcasting large task binary with size 2.8 MiB\n",
                        "23/12/13 09:05:52 WARN DAGScheduler: Broadcasting large task binary with size 2.8 MiB\n",
                        "23/12/13 09:05:54 WARN DAGScheduler: Broadcasting large task binary with size 2.8 MiB\n",
                        "23/12/13 09:06:47 WARN DAGScheduler: Broadcasting large task binary with size 2.8 MiB\n",
                        "23/12/13 09:06:50 WARN DAGScheduler: Broadcasting large task binary with size 2.8 MiB\n",
                        "23/12/13 09:07:52 WARN DAGScheduler: Broadcasting large task binary with size 2.8 MiB\n",
                        "23/12/13 09:07:54 WARN DAGScheduler: Broadcasting large task binary with size 2.8 MiB\n",
                        "23/12/13 09:08:46 WARN DAGScheduler: Broadcasting large task binary with size 2.8 MiB\n",
                        "23/12/13 09:08:50 WARN DAGScheduler: Broadcasting large task binary with size 2.8 MiB\n",
                        "23/12/13 09:09:18 WARN DAGScheduler: Broadcasting large task binary with size 2.8 MiB\n",
                        "23/12/13 09:09:20 WARN DAGScheduler: Broadcasting large task binary with size 2.8 MiB\n",
                        "23/12/13 09:09:53 WARN DAGScheduler: Broadcasting large task binary with size 2.8 MiB\n",
                        "23/12/13 09:09:54 WARN DAGScheduler: Broadcasting large task binary with size 2.8 MiB\n",
                        "23/12/13 09:10:24 WARN DAGScheduler: Broadcasting large task binary with size 2.8 MiB\n",
                        "23/12/13 09:10:25 WARN DAGScheduler: Broadcasting large task binary with size 2.8 MiB\n",
                        "23/12/13 09:10:54 WARN DAGScheduler: Broadcasting large task binary with size 2.8 MiB\n",
                        "23/12/13 09:10:57 WARN DAGScheduler: Broadcasting large task binary with size 2.8 MiB\n",
                        "23/12/13 09:11:26 WARN DAGScheduler: Broadcasting large task binary with size 2.8 MiB\n",
                        "23/12/13 09:11:27 WARN DAGScheduler: Broadcasting large task binary with size 2.8 MiB\n",
                        "23/12/13 09:12:06 WARN DAGScheduler: Broadcasting large task binary with size 2.8 MiB\n",
                        "23/12/13 09:12:10 WARN DAGScheduler: Broadcasting large task binary with size 2.8 MiB\n",
                        "23/12/13 09:13:04 WARN DAGScheduler: Broadcasting large task binary with size 2.8 MiB\n",
                        "23/12/13 09:13:07 WARN DAGScheduler: Broadcasting large task binary with size 2.8 MiB\n",
                        "23/12/13 09:13:43 WARN DAGScheduler: Broadcasting large task binary with size 2.8 MiB\n",
                        "23/12/13 09:13:44 WARN DAGScheduler: Broadcasting large task binary with size 2.8 MiB\n",
                        "23/12/13 09:14:22 WARN DAGScheduler: Broadcasting large task binary with size 2.8 MiB\n",
                        "23/12/13 09:14:24 WARN DAGScheduler: Broadcasting large task binary with size 2.8 MiB\n",
                        "23/12/13 09:15:00 WARN DAGScheduler: Broadcasting large task binary with size 2.8 MiB\n",
                        "23/12/13 09:15:03 WARN DAGScheduler: Broadcasting large task binary with size 2.8 MiB\n",
                        "23/12/13 09:15:41 WARN DAGScheduler: Broadcasting large task binary with size 2.8 MiB\n",
                        "23/12/13 09:15:43 WARN DAGScheduler: Broadcasting large task binary with size 2.8 MiB\n",
                        "23/12/13 09:16:18 WARN DAGScheduler: Broadcasting large task binary with size 2.8 MiB\n",
                        "23/12/13 09:16:21 WARN DAGScheduler: Broadcasting large task binary with size 2.8 MiB\n",
                        "23/12/13 09:16:54 WARN DAGScheduler: Broadcasting large task binary with size 2.8 MiB\n",
                        "23/12/13 09:16:55 WARN DAGScheduler: Broadcasting large task binary with size 2.8 MiB\n",
                        "23/12/13 09:17:27 WARN DAGScheduler: Broadcasting large task binary with size 2.8 MiB\n",
                        "23/12/13 09:17:28 WARN DAGScheduler: Broadcasting large task binary with size 2.8 MiB\n",
                        "23/12/13 09:18:16 WARN DAGScheduler: Broadcasting large task binary with size 2.8 MiB\n",
                        "23/12/13 09:18:20 WARN DAGScheduler: Broadcasting large task binary with size 2.8 MiB\n",
                        "23/12/13 09:19:10 WARN DAGScheduler: Broadcasting large task binary with size 2.8 MiB\n",
                        "23/12/13 09:19:11 WARN DAGScheduler: Broadcasting large task binary with size 2.8 MiB\n",
                        "23/12/13 09:19:51 WARN DAGScheduler: Broadcasting large task binary with size 2.8 MiB\n",
                        "23/12/13 09:19:54 WARN DAGScheduler: Broadcasting large task binary with size 2.8 MiB\n",
                        "23/12/13 09:20:35 WARN DAGScheduler: Broadcasting large task binary with size 2.8 MiB\n",
                        "23/12/13 09:20:37 WARN DAGScheduler: Broadcasting large task binary with size 2.8 MiB\n",
                        "23/12/13 09:21:20 WARN DAGScheduler: Broadcasting large task binary with size 2.8 MiB\n",
                        "23/12/13 09:21:24 WARN DAGScheduler: Broadcasting large task binary with size 2.8 MiB\n",
                        "23/12/13 09:22:12 WARN DAGScheduler: Broadcasting large task binary with size 2.8 MiB\n",
                        "23/12/13 09:22:14 WARN DAGScheduler: Broadcasting large task binary with size 2.8 MiB\n",
                        "23/12/13 09:23:03 WARN DAGScheduler: Broadcasting large task binary with size 2.8 MiB\n",
                        "23/12/13 09:23:05 WARN DAGScheduler: Broadcasting large task binary with size 2.8 MiB\n",
                        "23/12/13 09:23:53 WARN DAGScheduler: Broadcasting large task binary with size 2.8 MiB\n",
                        "23/12/13 09:23:54 WARN DAGScheduler: Broadcasting large task binary with size 2.8 MiB\n",
                        "23/12/13 09:24:51 WARN DAGScheduler: Broadcasting large task binary with size 2.8 MiB\n",
                        "23/12/13 09:24:54 WARN DAGScheduler: Broadcasting large task binary with size 2.8 MiB\n",
                        "23/12/13 09:25:45 WARN DAGScheduler: Broadcasting large task binary with size 2.8 MiB\n",
                        "23/12/13 09:25:46 WARN DAGScheduler: Broadcasting large task binary with size 2.8 MiB\n",
                        "23/12/13 09:26:27 WARN DAGScheduler: Broadcasting large task binary with size 2.8 MiB\n",
                        "23/12/13 09:26:29 WARN DAGScheduler: Broadcasting large task binary with size 2.8 MiB\n",
                        "23/12/13 09:27:08 WARN DAGScheduler: Broadcasting large task binary with size 2.8 MiB\n",
                        "23/12/13 09:27:10 WARN DAGScheduler: Broadcasting large task binary with size 2.8 MiB\n",
                        "23/12/13 09:27:50 WARN DAGScheduler: Broadcasting large task binary with size 2.8 MiB\n",
                        "23/12/13 09:27:52 WARN DAGScheduler: Broadcasting large task binary with size 2.8 MiB\n",
                        "23/12/13 09:28:27 WARN DAGScheduler: Broadcasting large task binary with size 2.8 MiB\n",
                        "23/12/13 09:28:28 WARN DAGScheduler: Broadcasting large task binary with size 2.8 MiB\n",
                        "23/12/13 09:28:58 WARN DAGScheduler: Broadcasting large task binary with size 2.8 MiB\n",
                        "23/12/13 09:28:59 WARN DAGScheduler: Broadcasting large task binary with size 2.8 MiB\n",
                        "23/12/13 09:29:28 WARN DAGScheduler: Broadcasting large task binary with size 2.8 MiB\n",
                        "23/12/13 09:29:30 WARN DAGScheduler: Broadcasting large task binary with size 2.8 MiB\n",
                        "23/12/13 09:30:06 WARN DAGScheduler: Broadcasting large task binary with size 2.8 MiB\n",
                        "23/12/13 09:30:08 WARN DAGScheduler: Broadcasting large task binary with size 2.8 MiB\n",
                        "23/12/13 09:30:37 WARN DAGScheduler: Broadcasting large task binary with size 2.8 MiB\n",
                        "23/12/13 09:30:39 WARN DAGScheduler: Broadcasting large task binary with size 2.8 MiB\n",
                        "23/12/13 09:31:10 WARN DAGScheduler: Broadcasting large task binary with size 2.8 MiB\n",
                        "23/12/13 09:31:12 WARN DAGScheduler: Broadcasting large task binary with size 2.8 MiB\n",
                        "23/12/13 09:31:49 WARN DAGScheduler: Broadcasting large task binary with size 2.8 MiB\n",
                        "23/12/13 09:31:51 WARN DAGScheduler: Broadcasting large task binary with size 2.8 MiB\n",
                        "23/12/13 09:32:31 WARN DAGScheduler: Broadcasting large task binary with size 2.8 MiB\n",
                        "23/12/13 09:32:32 WARN DAGScheduler: Broadcasting large task binary with size 2.8 MiB\n",
                        "23/12/13 09:33:14 WARN DAGScheduler: Broadcasting large task binary with size 2.8 MiB\n",
                        "23/12/13 09:33:17 WARN DAGScheduler: Broadcasting large task binary with size 2.8 MiB\n",
                        "23/12/13 09:34:01 WARN DAGScheduler: Broadcasting large task binary with size 2.8 MiB\n",
                        "23/12/13 09:34:03 WARN DAGScheduler: Broadcasting large task binary with size 2.8 MiB\n",
                        "23/12/13 09:34:46 WARN DAGScheduler: Broadcasting large task binary with size 2.8 MiB\n",
                        "23/12/13 09:34:48 WARN DAGScheduler: Broadcasting large task binary with size 2.8 MiB\n",
                        "23/12/13 09:35:37 WARN DAGScheduler: Broadcasting large task binary with size 2.8 MiB\n",
                        "23/12/13 09:35:38 WARN DAGScheduler: Broadcasting large task binary with size 2.8 MiB\n",
                        "23/12/13 09:36:14 WARN DAGScheduler: Broadcasting large task binary with size 2.8 MiB\n",
                        "23/12/13 09:36:15 WARN DAGScheduler: Broadcasting large task binary with size 2.8 MiB\n",
                        "23/12/13 09:36:48 WARN DAGScheduler: Broadcasting large task binary with size 2.8 MiB\n",
                        "23/12/13 09:36:50 WARN DAGScheduler: Broadcasting large task binary with size 2.8 MiB\n",
                        "23/12/13 09:37:26 WARN DAGScheduler: Broadcasting large task binary with size 2.8 MiB\n",
                        "23/12/13 09:37:27 WARN DAGScheduler: Broadcasting large task binary with size 2.8 MiB\n",
                        "23/12/13 09:38:12 WARN DAGScheduler: Broadcasting large task binary with size 2.8 MiB\n",
                        "23/12/13 09:38:14 WARN DAGScheduler: Broadcasting large task binary with size 2.8 MiB\n",
                        "23/12/13 09:38:58 WARN DAGScheduler: Broadcasting large task binary with size 2.8 MiB\n",
                        "23/12/13 09:39:01 WARN DAGScheduler: Broadcasting large task binary with size 2.8 MiB\n",
                        "23/12/13 09:39:52 WARN DAGScheduler: Broadcasting large task binary with size 2.8 MiB\n",
                        "23/12/13 09:39:54 WARN DAGScheduler: Broadcasting large task binary with size 2.8 MiB\n",
                        "23/12/13 09:40:37 WARN DAGScheduler: Broadcasting large task binary with size 2.8 MiB\n",
                        "23/12/13 09:40:39 WARN DAGScheduler: Broadcasting large task binary with size 2.8 MiB\n",
                        "23/12/13 09:41:21 WARN DAGScheduler: Broadcasting large task binary with size 2.8 MiB\n",
                        "23/12/13 09:41:22 WARN DAGScheduler: Broadcasting large task binary with size 2.8 MiB\n",
                        "23/12/13 09:42:04 WARN DAGScheduler: Broadcasting large task binary with size 2.8 MiB\n",
                        "23/12/13 09:42:06 WARN DAGScheduler: Broadcasting large task binary with size 2.8 MiB\n",
                        "23/12/13 09:42:47 WARN DAGScheduler: Broadcasting large task binary with size 2.8 MiB\n",
                        "23/12/13 09:42:50 WARN DAGScheduler: Broadcasting large task binary with size 2.8 MiB\n",
                        "23/12/13 09:43:36 WARN DAGScheduler: Broadcasting large task binary with size 2.8 MiB\n",
                        "23/12/13 09:43:37 WARN DAGScheduler: Broadcasting large task binary with size 2.8 MiB\n",
                        "23/12/13 09:44:20 WARN DAGScheduler: Broadcasting large task binary with size 2.8 MiB\n",
                        "23/12/13 09:44:22 WARN DAGScheduler: Broadcasting large task binary with size 2.8 MiB\n",
                        "23/12/13 09:44:50 WARN DAGScheduler: Broadcasting large task binary with size 2.8 MiB\n",
                        "23/12/13 09:44:51 WARN DAGScheduler: Broadcasting large task binary with size 2.8 MiB\n",
                        "23/12/13 09:45:22 WARN DAGScheduler: Broadcasting large task binary with size 2.8 MiB\n",
                        "23/12/13 09:45:24 WARN DAGScheduler: Broadcasting large task binary with size 2.8 MiB\n",
                        "23/12/13 09:45:53 WARN DAGScheduler: Broadcasting large task binary with size 2.8 MiB\n",
                        "23/12/13 09:45:55 WARN DAGScheduler: Broadcasting large task binary with size 2.8 MiB\n",
                        "23/12/13 09:46:23 WARN DAGScheduler: Broadcasting large task binary with size 2.8 MiB\n",
                        "23/12/13 09:46:24 WARN DAGScheduler: Broadcasting large task binary with size 2.8 MiB\n",
                        "23/12/13 09:46:57 WARN DAGScheduler: Broadcasting large task binary with size 2.8 MiB\n",
                        "23/12/13 09:47:00 WARN DAGScheduler: Broadcasting large task binary with size 2.8 MiB\n",
                        "23/12/13 09:47:39 WARN DAGScheduler: Broadcasting large task binary with size 2.8 MiB\n",
                        "23/12/13 09:47:40 WARN DAGScheduler: Broadcasting large task binary with size 2.8 MiB\n",
                        "23/12/13 09:48:31 WARN DAGScheduler: Broadcasting large task binary with size 2.8 MiB\n",
                        "23/12/13 09:48:33 WARN DAGScheduler: Broadcasting large task binary with size 2.8 MiB\n",
                        "23/12/13 09:49:19 WARN DAGScheduler: Broadcasting large task binary with size 2.8 MiB\n",
                        "23/12/13 09:49:21 WARN DAGScheduler: Broadcasting large task binary with size 2.8 MiB\n",
                        "23/12/13 09:50:01 WARN DAGScheduler: Broadcasting large task binary with size 2.8 MiB\n",
                        "23/12/13 09:50:06 WARN DAGScheduler: Broadcasting large task binary with size 2.8 MiB\n",
                        "23/12/13 09:50:51 WARN DAGScheduler: Broadcasting large task binary with size 2.8 MiB\n",
                        "23/12/13 09:50:53 WARN DAGScheduler: Broadcasting large task binary with size 2.8 MiB\n",
                        "23/12/13 09:51:38 WARN DAGScheduler: Broadcasting large task binary with size 2.8 MiB\n",
                        "23/12/13 09:51:40 WARN DAGScheduler: Broadcasting large task binary with size 2.8 MiB\n",
                        "23/12/13 09:52:30 WARN DAGScheduler: Broadcasting large task binary with size 2.8 MiB\n",
                        "23/12/13 09:52:32 WARN DAGScheduler: Broadcasting large task binary with size 2.8 MiB\n",
                        "23/12/13 09:53:17 WARN DAGScheduler: Broadcasting large task binary with size 2.8 MiB\n",
                        "23/12/13 09:53:21 WARN DAGScheduler: Broadcasting large task binary with size 2.8 MiB\n",
                        "23/12/13 09:54:06 WARN DAGScheduler: Broadcasting large task binary with size 2.8 MiB\n",
                        "23/12/13 09:54:11 WARN DAGScheduler: Broadcasting large task binary with size 2.8 MiB\n",
                        "23/12/13 09:54:56 WARN DAGScheduler: Broadcasting large task binary with size 2.8 MiB\n",
                        "23/12/13 09:54:57 WARN DAGScheduler: Broadcasting large task binary with size 2.8 MiB\n",
                        "23/12/13 09:55:42 WARN DAGScheduler: Broadcasting large task binary with size 2.8 MiB\n",
                        "23/12/13 09:55:45 WARN DAGScheduler: Broadcasting large task binary with size 2.8 MiB\n",
                        "23/12/13 09:56:32 WARN DAGScheduler: Broadcasting large task binary with size 2.8 MiB\n",
                        "23/12/13 09:56:34 WARN DAGScheduler: Broadcasting large task binary with size 2.8 MiB\n",
                        "23/12/13 09:57:25 WARN DAGScheduler: Broadcasting large task binary with size 2.8 MiB\n",
                        "23/12/13 09:57:27 WARN DAGScheduler: Broadcasting large task binary with size 2.8 MiB\n",
                        "23/12/13 10:08:15 WARN DAGScheduler: Broadcasting large task binary with size 2.8 MiB\n",
                        "23/12/13 10:08:18 WARN DAGScheduler: Broadcasting large task binary with size 2.8 MiB\n",
                        "23/12/13 10:09:28 WARN DAGScheduler: Broadcasting large task binary with size 2.8 MiB\n",
                        "23/12/13 10:09:31 WARN DAGScheduler: Broadcasting large task binary with size 2.8 MiB\n",
                        "23/12/13 10:11:20 WARN DAGScheduler: Broadcasting large task binary with size 2.8 MiB\n",
                        "23/12/13 10:11:26 WARN DAGScheduler: Broadcasting large task binary with size 2.8 MiB\n",
                        "23/12/13 10:13:16 WARN DAGScheduler: Broadcasting large task binary with size 2.8 MiB\n",
                        "23/12/13 10:13:20 WARN DAGScheduler: Broadcasting large task binary with size 2.8 MiB\n",
                        "23/12/13 10:15:01 WARN DAGScheduler: Broadcasting large task binary with size 2.8 MiB\n",
                        "23/12/13 10:15:07 WARN DAGScheduler: Broadcasting large task binary with size 2.8 MiB\n",
                        "23/12/13 10:16:38 WARN DAGScheduler: Broadcasting large task binary with size 2.8 MiB\n",
                        "23/12/13 10:16:46 WARN DAGScheduler: Broadcasting large task binary with size 2.8 MiB\n",
                        "23/12/13 10:18:27 WARN DAGScheduler: Broadcasting large task binary with size 2.8 MiB\n",
                        "23/12/13 10:18:30 WARN DAGScheduler: Broadcasting large task binary with size 2.8 MiB\n",
                        "23/12/13 10:20:33 WARN DAGScheduler: Broadcasting large task binary with size 2.8 MiB\n",
                        "23/12/13 10:20:41 WARN DAGScheduler: Broadcasting large task binary with size 2.8 MiB\n",
                        "23/12/13 10:22:15 WARN DAGScheduler: Broadcasting large task binary with size 2.8 MiB\n",
                        "23/12/13 10:22:23 WARN DAGScheduler: Broadcasting large task binary with size 2.8 MiB\n",
                        "23/12/13 10:23:57 WARN DAGScheduler: Broadcasting large task binary with size 2.8 MiB\n",
                        "23/12/13 10:23:59 WARN DAGScheduler: Broadcasting large task binary with size 2.8 MiB\n",
                        "23/12/13 10:25:27 WARN DAGScheduler: Broadcasting large task binary with size 2.8 MiB\n",
                        "23/12/13 10:25:32 WARN DAGScheduler: Broadcasting large task binary with size 2.8 MiB\n",
                        "23/12/13 10:27:01 WARN DAGScheduler: Broadcasting large task binary with size 2.8 MiB\n",
                        "23/12/13 10:27:03 WARN DAGScheduler: Broadcasting large task binary with size 2.8 MiB\n",
                        "23/12/13 10:28:24 WARN DAGScheduler: Broadcasting large task binary with size 2.8 MiB\n",
                        "23/12/13 10:28:27 WARN DAGScheduler: Broadcasting large task binary with size 2.8 MiB\n",
                        "23/12/13 10:29:57 WARN DAGScheduler: Broadcasting large task binary with size 2.8 MiB\n",
                        "23/12/13 10:29:58 WARN DAGScheduler: Broadcasting large task binary with size 2.8 MiB\n",
                        "23/12/13 10:30:25 WARN DAGScheduler: Broadcasting large task binary with size 2.8 MiB\n",
                        "23/12/13 10:30:27 WARN DAGScheduler: Broadcasting large task binary with size 2.8 MiB\n",
                        "23/12/13 10:30:55 WARN DAGScheduler: Broadcasting large task binary with size 2.8 MiB\n",
                        "23/12/13 10:30:56 WARN DAGScheduler: Broadcasting large task binary with size 2.8 MiB\n",
                        "23/12/13 10:31:26 WARN DAGScheduler: Broadcasting large task binary with size 2.8 MiB\n",
                        "23/12/13 10:31:27 WARN DAGScheduler: Broadcasting large task binary with size 2.8 MiB\n",
                        "23/12/13 10:31:55 WARN DAGScheduler: Broadcasting large task binary with size 2.8 MiB\n",
                        "23/12/13 10:31:57 WARN DAGScheduler: Broadcasting large task binary with size 2.8 MiB\n",
                        "23/12/13 10:32:29 WARN DAGScheduler: Broadcasting large task binary with size 2.8 MiB\n",
                        "23/12/13 10:32:31 WARN DAGScheduler: Broadcasting large task binary with size 2.8 MiB\n",
                        "23/12/13 10:32:57 WARN DAGScheduler: Broadcasting large task binary with size 2.8 MiB\n",
                        "23/12/13 10:32:59 WARN DAGScheduler: Broadcasting large task binary with size 2.8 MiB\n",
                        "23/12/13 10:33:25 WARN DAGScheduler: Broadcasting large task binary with size 2.8 MiB\n",
                        "23/12/13 10:33:26 WARN DAGScheduler: Broadcasting large task binary with size 2.8 MiB\n",
                        "23/12/13 10:33:53 WARN DAGScheduler: Broadcasting large task binary with size 2.8 MiB\n",
                        "23/12/13 10:33:54 WARN DAGScheduler: Broadcasting large task binary with size 2.8 MiB\n",
                        "23/12/13 10:34:23 WARN DAGScheduler: Broadcasting large task binary with size 2.8 MiB\n",
                        "23/12/13 10:34:24 WARN DAGScheduler: Broadcasting large task binary with size 2.8 MiB\n",
                        "23/12/13 10:34:51 WARN DAGScheduler: Broadcasting large task binary with size 2.8 MiB\n",
                        "23/12/13 10:34:52 WARN DAGScheduler: Broadcasting large task binary with size 2.8 MiB\n",
                        "23/12/13 10:35:18 WARN DAGScheduler: Broadcasting large task binary with size 2.8 MiB\n",
                        "23/12/13 10:35:19 WARN DAGScheduler: Broadcasting large task binary with size 2.8 MiB\n",
                        "23/12/13 10:35:46 WARN DAGScheduler: Broadcasting large task binary with size 2.8 MiB\n",
                        "23/12/13 10:35:47 WARN DAGScheduler: Broadcasting large task binary with size 2.8 MiB\n",
                        "23/12/13 10:36:17 WARN DAGScheduler: Broadcasting large task binary with size 2.8 MiB\n",
                        "23/12/13 10:36:19 WARN DAGScheduler: Broadcasting large task binary with size 2.8 MiB\n",
                        "23/12/13 10:36:53 WARN DAGScheduler: Broadcasting large task binary with size 2.8 MiB\n",
                        "23/12/13 10:36:54 WARN DAGScheduler: Broadcasting large task binary with size 2.8 MiB\n",
                        "23/12/13 10:38:10 WARN DAGScheduler: Broadcasting large task binary with size 2.8 MiB\n",
                        "23/12/13 10:38:12 WARN DAGScheduler: Broadcasting large task binary with size 2.8 MiB\n",
                        "23/12/13 10:38:55 WARN DAGScheduler: Broadcasting large task binary with size 2.8 MiB\n",
                        "23/12/13 10:38:59 WARN DAGScheduler: Broadcasting large task binary with size 2.8 MiB\n",
                        "23/12/13 10:39:54 WARN DAGScheduler: Broadcasting large task binary with size 2.8 MiB\n",
                        "23/12/13 10:40:02 WARN DAGScheduler: Broadcasting large task binary with size 2.8 MiB\n",
                        "23/12/13 10:41:27 WARN DAGScheduler: Broadcasting large task binary with size 2.8 MiB\n",
                        "23/12/13 10:41:29 WARN DAGScheduler: Broadcasting large task binary with size 2.8 MiB\n",
                        "23/12/13 10:42:35 WARN DAGScheduler: Broadcasting large task binary with size 2.8 MiB\n",
                        "23/12/13 10:42:41 WARN DAGScheduler: Broadcasting large task binary with size 2.8 MiB\n",
                        "23/12/13 10:44:09 WARN DAGScheduler: Broadcasting large task binary with size 2.8 MiB\n",
                        "23/12/13 10:44:13 WARN DAGScheduler: Broadcasting large task binary with size 2.8 MiB\n",
                        "23/12/13 10:45:25 WARN DAGScheduler: Broadcasting large task binary with size 2.8 MiB\n",
                        "23/12/13 10:45:28 WARN DAGScheduler: Broadcasting large task binary with size 2.8 MiB\n",
                        "23/12/13 10:46:56 WARN DAGScheduler: Broadcasting large task binary with size 2.8 MiB\n",
                        "23/12/13 10:47:03 WARN DAGScheduler: Broadcasting large task binary with size 2.8 MiB\n",
                        "23/12/13 10:48:32 WARN DAGScheduler: Broadcasting large task binary with size 2.8 MiB\n",
                        "                                                                                \r"
                    ]
                },
                {
                    "name": "stdout",
                    "output_type": "stream",
                    "text": [
                        "Accuracy:{accuracy}\n",
                        "\n",
                        "Test Error = 0.941554\n"
                    ]
                },
                {
                    "name": "stderr",
                    "output_type": "stream",
                    "text": [
                        "/opt/conda/lib/python3.10/site-packages/pyspark/sql/context.py:158: FutureWarning: Deprecated in 3.0.0. Use SparkSession.builder.getOrCreate() instead.\n",
                        "  warnings.warn(\n",
                        "                                                                                \r"
                    ]
                },
                {
                    "name": "stdout",
                    "output_type": "stream",
                    "text": [
                        "Precision for class  0 : 11.35%\n",
                        "Recall for class  0 : 90.73%\n",
                        "avg_F1-Score for class  0 : 20.17%\n",
                        "----------------------------\n",
                        "Precision for class  1 : 0.00%\n",
                        "Recall for class  1 : 0.00%\n",
                        "avg_F1-Score for class  1 : 0.00%\n",
                        "----------------------------\n",
                        "Precision for class  2 : 15.33%\n",
                        "Recall for class  2 : 25.69%\n",
                        "avg_F1-Score for class  2 : 19.20%\n",
                        "----------------------------\n",
                        "Precision for class  3 : 2.20%\n",
                        "Recall for class  3 : 86.10%\n",
                        "avg_F1-Score for class  3 : 4.29%\n",
                        "----------------------------\n",
                        "[0.20172274166237206, 0.0, 0.19204880100967608, 0.04293556775498412]\n",
                        "----------------------\n",
                        "avg_F1-Score: 10.92%\n"
                    ]
                },
                {
                    "data": {
                        "text/plain": [
                            "<Axes: >"
                        ]
                    },
                    "execution_count": 22,
                    "metadata": {},
                    "output_type": "execute_result"
                },
                {
                    "data": {
                        "image/png": "[encoded data removed]",
                        "text/plain": [
                            "<Figure size 700x700 with 1 Axes>"
                        ]
                    },
                    "metadata": {},
                    "output_type": "display_data"
                }
            ],
            "source": [
                "# MLP Layers  -> output layer must have the same number of units of the Severity classes\n",
                "layers = [len(num_col),16,32,16,8,4]\n",
                "\n",
                "# Create the Multilayer Perceptron Classifier and set its parameters\n",
                "trainer = MultilayerPerceptronClassifier(\n",
                "    layers=layers,\n",
                "    blockSize=128,\n",
                "    labelCol=\"Severity\",\n",
                "    featuresCol=\"features\",\n",
                "    maxIter=100\n",
                ")\n",
                "\n",
                "# Train the model\n",
                "model = trainer.fit(train_und_over)\n",
                "\n",
                "# Make predictions on the test set\n",
                "predictions= model.transform(testData)\n",
                "\n",
                "# Compute Test Error = 1-Accuracy\n",
                "evaluator = MulticlassClassificationEvaluator(labelCol=\"Severity\"\n",
                "                                              , predictionCol=\"prediction\"\n",
                "                                              , metricName=\"accuracy\")\n",
                "\n",
                "accuracy = evaluator.evaluate(predictions)\n",
                "print('Accuracy:{accuracy}\n",
                "')\n",
                "print(\"Test Error = %g\" % (1.0 - accuracy))\n",
                "\n",
                "# Calcolare precision, recall e F1-score\n",
                "predictionAndLabels = predictions.select(\"prediction\", \"Severity\").rdd.map(lambda x: (float(x[0]), float(x[1])))\n",
                "metrics = MulticlassMetrics(predictionAndLabels)\n",
                "\n",
                "list_avg=[]\n",
                "for i in range(4):\n",
                "    precision = metrics.precision(label=float(i))  \n",
                "    recall = metrics.recall(label=float(i))\n",
                "    f1Score= metrics.fMeasure(label=float(i)) # need .0\n",
                "    print(\"Precision for class \",i,\": {:.2%}\".format(precision))\n",
                "    print(\"Recall for class \",i,\": {:.2%}\".format(recall))\n",
                "    print(\"avg_F1-Score for class \",i,\": {:.2%}\".format(f1Score))\n",
                "    list_avg.append(f1Score)\n",
                "    print('----------------------------')\n",
                "sum_=0\n",
                "print(list_avg)\n",
                "for elem in list_avg:\n",
                "    sum_+=elem\n",
                "\n",
                "avg_f1=sum_/4\n",
                "print('----------------------')\n",
                "\n",
                "print(\"avg_F1-Score: {:.2%}\".format(avg_f1))\n",
                "\n",
                "labels = [\"0\", \"1\", \"2\", \"3\"]\n",
                "_ = plt.figure(figsize=(7, 7))\n",
                "sns.heatmap(metrics.confusionMatrix().toArray(),\n",
                "            cmap='viridis',\n",
                "            annot=True,fmt='0',\n",
                "            cbar=False, \n",
                "            xticklabels=labels, \n",
                "            yticklabels=labels)"
            ]
        },
        {
            "cell_type": "code",
            "execution_count": 18,
            "metadata": {
                "tags": []
            },
            "outputs": [
                {
                    "name": "stderr",
                    "output_type": "stream",
                    "text": [
                        "23/12/13 21:43:10 WARN DAGScheduler: Broadcasting large task binary with size 2.8 MiB\n",
                        "23/12/13 21:43:26 WARN DAGScheduler: Broadcasting large task binary with size 2.8 MiB\n",
                        "23/12/13 21:43:26 WARN InstanceBuilder: Failed to load implementation from:dev.ludovic.netlib.blas.JNIBLAS\n",
                        "23/12/13 21:43:27 WARN DAGScheduler: Broadcasting large task binary with size 2.8 MiB\n",
                        "23/12/13 21:43:28 WARN DAGScheduler: Broadcasting large task binary with size 2.8 MiB\n",
                        "23/12/13 21:43:33 WARN DAGScheduler: Broadcasting large task binary with size 2.8 MiB\n",
                        "23/12/13 21:43:34 WARN DAGScheduler: Broadcasting large task binary with size 2.8 MiB\n",
                        "23/12/13 21:43:35 WARN DAGScheduler: Broadcasting large task binary with size 2.8 MiB\n",
                        "23/12/13 21:43:35 WARN DAGScheduler: Broadcasting large task binary with size 2.8 MiB\n",
                        "23/12/13 21:43:37 WARN DAGScheduler: Broadcasting large task binary with size 2.8 MiB\n",
                        "23/12/13 21:43:37 WARN DAGScheduler: Broadcasting large task binary with size 2.8 MiB\n",
                        "23/12/13 21:43:38 WARN DAGScheduler: Broadcasting large task binary with size 2.8 MiB\n",
                        "23/12/13 21:43:38 WARN DAGScheduler: Broadcasting large task binary with size 2.8 MiB\n",
                        "23/12/13 21:43:40 WARN DAGScheduler: Broadcasting large task binary with size 2.8 MiB\n",
                        "23/12/13 21:43:40 WARN DAGScheduler: Broadcasting large task binary with size 2.8 MiB\n",
                        "23/12/13 21:43:41 WARN DAGScheduler: Broadcasting large task binary with size 2.8 MiB\n",
                        "23/12/13 21:43:41 WARN DAGScheduler: Broadcasting large task binary with size 2.8 MiB\n",
                        "23/12/13 21:43:43 WARN DAGScheduler: Broadcasting large task binary with size 2.8 MiB\n",
                        "23/12/13 21:43:43 WARN DAGScheduler: Broadcasting large task binary with size 2.8 MiB\n",
                        "23/12/13 21:43:44 WARN DAGScheduler: Broadcasting large task binary with size 2.8 MiB\n",
                        "23/12/13 21:43:44 WARN DAGScheduler: Broadcasting large task binary with size 2.8 MiB\n",
                        "23/12/13 21:43:46 WARN DAGScheduler: Broadcasting large task binary with size 2.8 MiB\n",
                        "23/12/13 21:43:46 WARN DAGScheduler: Broadcasting large task binary with size 2.8 MiB\n",
                        "23/12/13 21:43:47 WARN DAGScheduler: Broadcasting large task binary with size 2.8 MiB\n",
                        "23/12/13 21:43:47 WARN DAGScheduler: Broadcasting large task binary with size 2.8 MiB\n",
                        "23/12/13 21:43:49 WARN DAGScheduler: Broadcasting large task binary with size 2.8 MiB\n",
                        "23/12/13 21:43:49 WARN DAGScheduler: Broadcasting large task binary with size 2.8 MiB\n",
                        "23/12/13 21:43:50 WARN DAGScheduler: Broadcasting large task binary with size 2.8 MiB\n",
                        "23/12/13 21:43:50 WARN DAGScheduler: Broadcasting large task binary with size 2.8 MiB\n",
                        "23/12/13 21:43:51 WARN DAGScheduler: Broadcasting large task binary with size 2.8 MiB\n",
                        "23/12/13 21:43:52 WARN DAGScheduler: Broadcasting large task binary with size 2.8 MiB\n",
                        "23/12/13 21:43:53 WARN DAGScheduler: Broadcasting large task binary with size 2.8 MiB\n",
                        "23/12/13 21:43:53 WARN DAGScheduler: Broadcasting large task binary with size 2.8 MiB\n",
                        "23/12/13 21:43:55 WARN DAGScheduler: Broadcasting large task binary with size 2.8 MiB\n",
                        "23/12/13 21:43:55 WARN DAGScheduler: Broadcasting large task binary with size 2.8 MiB\n",
                        "23/12/13 21:43:56 WARN DAGScheduler: Broadcasting large task binary with size 2.8 MiB\n",
                        "23/12/13 21:43:56 WARN DAGScheduler: Broadcasting large task binary with size 2.8 MiB\n",
                        "23/12/13 21:43:58 WARN DAGScheduler: Broadcasting large task binary with size 2.8 MiB\n",
                        "23/12/13 21:43:58 WARN DAGScheduler: Broadcasting large task binary with size 2.8 MiB\n",
                        "23/12/13 21:43:59 WARN DAGScheduler: Broadcasting large task binary with size 2.8 MiB\n",
                        "23/12/13 21:43:59 WARN DAGScheduler: Broadcasting large task binary with size 2.8 MiB\n",
                        "23/12/13 21:44:01 WARN DAGScheduler: Broadcasting large task binary with size 2.8 MiB\n",
                        "23/12/13 21:44:01 WARN DAGScheduler: Broadcasting large task binary with size 2.8 MiB\n",
                        "23/12/13 21:44:02 WARN DAGScheduler: Broadcasting large task binary with size 2.8 MiB\n",
                        "23/12/13 21:44:02 WARN DAGScheduler: Broadcasting large task binary with size 2.8 MiB\n",
                        "23/12/13 21:44:04 WARN DAGScheduler: Broadcasting large task binary with size 2.8 MiB\n",
                        "23/12/13 21:44:04 WARN DAGScheduler: Broadcasting large task binary with size 2.8 MiB\n",
                        "23/12/13 21:44:06 WARN DAGScheduler: Broadcasting large task binary with size 2.8 MiB\n",
                        "23/12/13 21:44:06 WARN DAGScheduler: Broadcasting large task binary with size 2.8 MiB\n",
                        "23/12/13 21:44:07 WARN DAGScheduler: Broadcasting large task binary with size 2.8 MiB\n",
                        "23/12/13 21:44:07 WARN DAGScheduler: Broadcasting large task binary with size 2.8 MiB\n",
                        "23/12/13 21:44:08 WARN DAGScheduler: Broadcasting large task binary with size 2.8 MiB\n",
                        "23/12/13 21:44:09 WARN DAGScheduler: Broadcasting large task binary with size 2.8 MiB\n",
                        "23/12/13 21:44:10 WARN DAGScheduler: Broadcasting large task binary with size 2.8 MiB\n",
                        "23/12/13 21:44:10 WARN DAGScheduler: Broadcasting large task binary with size 2.8 MiB\n",
                        "23/12/13 21:44:11 WARN DAGScheduler: Broadcasting large task binary with size 2.8 MiB\n",
                        "23/12/13 21:44:12 WARN DAGScheduler: Broadcasting large task binary with size 2.8 MiB\n",
                        "23/12/13 21:44:13 WARN DAGScheduler: Broadcasting large task binary with size 2.8 MiB\n",
                        "23/12/13 21:44:13 WARN DAGScheduler: Broadcasting large task binary with size 2.8 MiB\n",
                        "23/12/13 21:44:14 WARN DAGScheduler: Broadcasting large task binary with size 2.8 MiB\n",
                        "23/12/13 21:44:14 WARN DAGScheduler: Broadcasting large task binary with size 2.8 MiB\n",
                        "23/12/13 21:44:16 WARN DAGScheduler: Broadcasting large task binary with size 2.8 MiB\n",
                        "23/12/13 21:44:16 WARN DAGScheduler: Broadcasting large task binary with size 2.8 MiB\n",
                        "23/12/13 21:44:18 WARN DAGScheduler: Broadcasting large task binary with size 2.8 MiB\n",
                        "23/12/13 21:44:18 WARN DAGScheduler: Broadcasting large task binary with size 2.8 MiB\n",
                        "23/12/13 21:44:19 WARN DAGScheduler: Broadcasting large task binary with size 2.8 MiB\n",
                        "23/12/13 21:44:19 WARN DAGScheduler: Broadcasting large task binary with size 2.8 MiB\n",
                        "23/12/13 21:44:21 WARN DAGScheduler: Broadcasting large task binary with size 2.8 MiB\n",
                        "23/12/13 21:44:21 WARN DAGScheduler: Broadcasting large task binary with size 2.8 MiB\n",
                        "23/12/13 21:44:22 WARN DAGScheduler: Broadcasting large task binary with size 2.8 MiB\n",
                        "23/12/13 21:44:22 WARN DAGScheduler: Broadcasting large task binary with size 2.8 MiB\n",
                        "23/12/13 21:44:24 WARN DAGScheduler: Broadcasting large task binary with size 2.8 MiB\n",
                        "23/12/13 21:44:24 WARN DAGScheduler: Broadcasting large task binary with size 2.8 MiB\n",
                        "23/12/13 21:44:25 WARN DAGScheduler: Broadcasting large task binary with size 2.8 MiB\n",
                        "23/12/13 21:44:25 WARN DAGScheduler: Broadcasting large task binary with size 2.8 MiB\n",
                        "23/12/13 21:44:27 WARN DAGScheduler: Broadcasting large task binary with size 2.8 MiB\n",
                        "23/12/13 21:44:27 WARN DAGScheduler: Broadcasting large task binary with size 2.8 MiB\n",
                        "23/12/13 21:44:28 WARN DAGScheduler: Broadcasting large task binary with size 2.8 MiB\n",
                        "23/12/13 21:44:28 WARN DAGScheduler: Broadcasting large task binary with size 2.8 MiB\n",
                        "23/12/13 21:44:30 WARN DAGScheduler: Broadcasting large task binary with size 2.8 MiB\n",
                        "23/12/13 21:44:30 WARN DAGScheduler: Broadcasting large task binary with size 2.8 MiB\n",
                        "23/12/13 21:44:31 WARN DAGScheduler: Broadcasting large task binary with size 2.8 MiB\n",
                        "23/12/13 21:44:31 WARN DAGScheduler: Broadcasting large task binary with size 2.8 MiB\n",
                        "23/12/13 21:44:33 WARN DAGScheduler: Broadcasting large task binary with size 2.8 MiB\n",
                        "23/12/13 21:44:33 WARN DAGScheduler: Broadcasting large task binary with size 2.8 MiB\n",
                        "23/12/13 21:44:34 WARN DAGScheduler: Broadcasting large task binary with size 2.8 MiB\n",
                        "23/12/13 21:44:35 WARN DAGScheduler: Broadcasting large task binary with size 2.8 MiB\n",
                        "23/12/13 21:44:36 WARN DAGScheduler: Broadcasting large task binary with size 2.8 MiB\n",
                        "23/12/13 21:44:36 WARN DAGScheduler: Broadcasting large task binary with size 2.8 MiB\n",
                        "23/12/13 21:44:37 WARN DAGScheduler: Broadcasting large task binary with size 2.8 MiB\n",
                        "23/12/13 21:44:37 WARN DAGScheduler: Broadcasting large task binary with size 2.8 MiB\n",
                        "23/12/13 21:44:39 WARN DAGScheduler: Broadcasting large task binary with size 2.8 MiB\n",
                        "23/12/13 21:44:39 WARN DAGScheduler: Broadcasting large task binary with size 2.8 MiB\n",
                        "23/12/13 21:44:40 WARN DAGScheduler: Broadcasting large task binary with size 2.8 MiB\n",
                        "23/12/13 21:44:41 WARN DAGScheduler: Broadcasting large task binary with size 2.8 MiB\n",
                        "23/12/13 21:44:42 WARN DAGScheduler: Broadcasting large task binary with size 2.8 MiB\n",
                        "23/12/13 21:44:42 WARN DAGScheduler: Broadcasting large task binary with size 2.8 MiB\n",
                        "23/12/13 21:44:44 WARN DAGScheduler: Broadcasting large task binary with size 2.8 MiB\n",
                        "23/12/13 21:44:44 WARN DAGScheduler: Broadcasting large task binary with size 2.8 MiB\n",
                        "23/12/13 21:44:45 WARN DAGScheduler: Broadcasting large task binary with size 2.8 MiB\n",
                        "23/12/13 21:44:45 WARN DAGScheduler: Broadcasting large task binary with size 2.8 MiB\n",
                        "23/12/13 21:44:47 WARN DAGScheduler: Broadcasting large task binary with size 2.8 MiB\n",
                        "23/12/13 21:44:47 WARN DAGScheduler: Broadcasting large task binary with size 2.8 MiB\n",
                        "23/12/13 21:44:48 WARN DAGScheduler: Broadcasting large task binary with size 2.8 MiB\n",
                        "23/12/13 21:44:48 WARN DAGScheduler: Broadcasting large task binary with size 2.8 MiB\n",
                        "23/12/13 21:44:50 WARN DAGScheduler: Broadcasting large task binary with size 2.8 MiB\n",
                        "23/12/13 21:44:50 WARN DAGScheduler: Broadcasting large task binary with size 2.8 MiB\n",
                        "23/12/13 21:44:51 WARN DAGScheduler: Broadcasting large task binary with size 2.8 MiB\n",
                        "23/12/13 21:44:51 WARN DAGScheduler: Broadcasting large task binary with size 2.8 MiB\n",
                        "23/12/13 21:44:53 WARN DAGScheduler: Broadcasting large task binary with size 2.8 MiB\n",
                        "23/12/13 21:44:53 WARN DAGScheduler: Broadcasting large task binary with size 2.8 MiB\n",
                        "23/12/13 21:44:54 WARN DAGScheduler: Broadcasting large task binary with size 2.8 MiB\n",
                        "23/12/13 21:44:54 WARN DAGScheduler: Broadcasting large task binary with size 2.8 MiB\n",
                        "23/12/13 21:44:56 WARN DAGScheduler: Broadcasting large task binary with size 2.8 MiB\n",
                        "23/12/13 21:44:56 WARN DAGScheduler: Broadcasting large task binary with size 2.8 MiB\n",
                        "23/12/13 21:44:57 WARN DAGScheduler: Broadcasting large task binary with size 2.8 MiB\n",
                        "23/12/13 21:44:58 WARN DAGScheduler: Broadcasting large task binary with size 2.8 MiB\n",
                        "23/12/13 21:44:59 WARN DAGScheduler: Broadcasting large task binary with size 2.8 MiB\n",
                        "23/12/13 21:44:59 WARN DAGScheduler: Broadcasting large task binary with size 2.8 MiB\n",
                        "23/12/13 21:45:00 WARN DAGScheduler: Broadcasting large task binary with size 2.8 MiB\n",
                        "23/12/13 21:45:01 WARN DAGScheduler: Broadcasting large task binary with size 2.8 MiB\n",
                        "23/12/13 21:45:02 WARN DAGScheduler: Broadcasting large task binary with size 2.8 MiB\n",
                        "23/12/13 21:45:02 WARN DAGScheduler: Broadcasting large task binary with size 2.8 MiB\n",
                        "23/12/13 21:45:03 WARN DAGScheduler: Broadcasting large task binary with size 2.8 MiB\n",
                        "23/12/13 21:45:03 WARN DAGScheduler: Broadcasting large task binary with size 2.8 MiB\n",
                        "23/12/13 21:45:05 WARN DAGScheduler: Broadcasting large task binary with size 2.8 MiB\n",
                        "23/12/13 21:45:05 WARN DAGScheduler: Broadcasting large task binary with size 2.8 MiB\n",
                        "23/12/13 21:45:06 WARN DAGScheduler: Broadcasting large task binary with size 2.8 MiB\n",
                        "23/12/13 21:45:07 WARN DAGScheduler: Broadcasting large task binary with size 2.8 MiB\n",
                        "23/12/13 21:45:08 WARN DAGScheduler: Broadcasting large task binary with size 2.8 MiB\n",
                        "23/12/13 21:45:08 WARN DAGScheduler: Broadcasting large task binary with size 2.8 MiB\n",
                        "23/12/13 21:45:09 WARN DAGScheduler: Broadcasting large task binary with size 2.8 MiB\n",
                        "23/12/13 21:45:10 WARN DAGScheduler: Broadcasting large task binary with size 2.8 MiB\n",
                        "23/12/13 21:45:11 WARN DAGScheduler: Broadcasting large task binary with size 2.8 MiB\n",
                        "23/12/13 21:45:11 WARN DAGScheduler: Broadcasting large task binary with size 2.8 MiB\n",
                        "23/12/13 21:45:12 WARN DAGScheduler: Broadcasting large task binary with size 2.8 MiB\n",
                        "23/12/13 21:45:12 WARN DAGScheduler: Broadcasting large task binary with size 2.8 MiB\n",
                        "23/12/13 21:45:14 WARN DAGScheduler: Broadcasting large task binary with size 2.8 MiB\n",
                        "23/12/13 21:45:14 WARN DAGScheduler: Broadcasting large task binary with size 2.8 MiB\n",
                        "23/12/13 21:45:15 WARN DAGScheduler: Broadcasting large task binary with size 2.8 MiB\n",
                        "23/12/13 21:45:15 WARN DAGScheduler: Broadcasting large task binary with size 2.8 MiB\n",
                        "23/12/13 21:45:17 WARN DAGScheduler: Broadcasting large task binary with size 2.8 MiB\n",
                        "23/12/13 21:45:17 WARN DAGScheduler: Broadcasting large task binary with size 2.8 MiB\n",
                        "23/12/13 21:45:18 WARN DAGScheduler: Broadcasting large task binary with size 2.8 MiB\n",
                        "23/12/13 21:45:19 WARN DAGScheduler: Broadcasting large task binary with size 2.8 MiB\n",
                        "23/12/13 21:45:20 WARN DAGScheduler: Broadcasting large task binary with size 2.8 MiB\n",
                        "23/12/13 21:45:20 WARN DAGScheduler: Broadcasting large task binary with size 2.8 MiB\n",
                        "23/12/13 21:45:22 WARN DAGScheduler: Broadcasting large task binary with size 2.8 MiB\n",
                        "23/12/13 21:45:22 WARN DAGScheduler: Broadcasting large task binary with size 2.8 MiB\n",
                        "23/12/13 21:45:23 WARN DAGScheduler: Broadcasting large task binary with size 2.8 MiB\n",
                        "23/12/13 21:45:23 WARN DAGScheduler: Broadcasting large task binary with size 2.8 MiB\n",
                        "23/12/13 21:45:25 WARN DAGScheduler: Broadcasting large task binary with size 2.8 MiB\n",
                        "23/12/13 21:45:25 WARN DAGScheduler: Broadcasting large task binary with size 2.8 MiB\n",
                        "23/12/13 21:45:26 WARN DAGScheduler: Broadcasting large task binary with size 2.8 MiB\n",
                        "23/12/13 21:45:26 WARN DAGScheduler: Broadcasting large task binary with size 2.8 MiB\n",
                        "23/12/13 21:45:28 WARN DAGScheduler: Broadcasting large task binary with size 2.8 MiB\n",
                        "23/12/13 21:45:28 WARN DAGScheduler: Broadcasting large task binary with size 2.8 MiB\n",
                        "23/12/13 21:45:30 WARN DAGScheduler: Broadcasting large task binary with size 2.8 MiB\n",
                        "23/12/13 21:45:30 WARN DAGScheduler: Broadcasting large task binary with size 2.8 MiB\n",
                        "23/12/13 21:45:31 WARN DAGScheduler: Broadcasting large task binary with size 2.8 MiB\n",
                        "23/12/13 21:45:31 WARN DAGScheduler: Broadcasting large task binary with size 2.8 MiB\n",
                        "23/12/13 21:45:33 WARN DAGScheduler: Broadcasting large task binary with size 2.8 MiB\n",
                        "23/12/13 21:45:33 WARN DAGScheduler: Broadcasting large task binary with size 2.8 MiB\n",
                        "23/12/13 21:45:34 WARN DAGScheduler: Broadcasting large task binary with size 2.8 MiB\n",
                        "23/12/13 21:45:34 WARN DAGScheduler: Broadcasting large task binary with size 2.8 MiB\n",
                        "23/12/13 21:45:36 WARN DAGScheduler: Broadcasting large task binary with size 2.8 MiB\n",
                        "23/12/13 21:45:36 WARN DAGScheduler: Broadcasting large task binary with size 2.8 MiB\n",
                        "23/12/13 21:45:37 WARN DAGScheduler: Broadcasting large task binary with size 2.8 MiB\n",
                        "23/12/13 21:45:37 WARN DAGScheduler: Broadcasting large task binary with size 2.8 MiB\n",
                        "23/12/13 21:45:39 WARN DAGScheduler: Broadcasting large task binary with size 2.8 MiB\n",
                        "23/12/13 21:45:39 WARN DAGScheduler: Broadcasting large task binary with size 2.8 MiB\n",
                        "23/12/13 21:45:40 WARN DAGScheduler: Broadcasting large task binary with size 2.8 MiB\n",
                        "23/12/13 21:45:40 WARN DAGScheduler: Broadcasting large task binary with size 2.8 MiB\n",
                        "23/12/13 21:45:42 WARN DAGScheduler: Broadcasting large task binary with size 2.8 MiB\n",
                        "23/12/13 21:45:42 WARN DAGScheduler: Broadcasting large task binary with size 2.8 MiB\n",
                        "23/12/13 21:45:43 WARN DAGScheduler: Broadcasting large task binary with size 2.8 MiB\n",
                        "23/12/13 21:45:43 WARN DAGScheduler: Broadcasting large task binary with size 2.8 MiB\n",
                        "23/12/13 21:45:45 WARN DAGScheduler: Broadcasting large task binary with size 2.8 MiB\n",
                        "23/12/13 21:45:45 WARN DAGScheduler: Broadcasting large task binary with size 2.8 MiB\n",
                        "23/12/13 21:45:46 WARN DAGScheduler: Broadcasting large task binary with size 2.8 MiB\n",
                        "23/12/13 21:45:47 WARN DAGScheduler: Broadcasting large task binary with size 2.8 MiB\n",
                        "23/12/13 21:45:48 WARN DAGScheduler: Broadcasting large task binary with size 2.8 MiB\n",
                        "23/12/13 21:45:48 WARN DAGScheduler: Broadcasting large task binary with size 2.8 MiB\n",
                        "23/12/13 21:45:49 WARN DAGScheduler: Broadcasting large task binary with size 2.8 MiB\n",
                        "23/12/13 21:45:50 WARN DAGScheduler: Broadcasting large task binary with size 2.8 MiB\n",
                        "23/12/13 21:45:51 WARN DAGScheduler: Broadcasting large task binary with size 2.8 MiB\n",
                        "23/12/13 21:45:51 WARN DAGScheduler: Broadcasting large task binary with size 2.8 MiB\n",
                        "23/12/13 21:45:53 WARN DAGScheduler: Broadcasting large task binary with size 2.8 MiB\n",
                        "23/12/13 21:45:53 WARN DAGScheduler: Broadcasting large task binary with size 2.8 MiB\n",
                        "23/12/13 21:45:54 WARN DAGScheduler: Broadcasting large task binary with size 2.8 MiB\n",
                        "23/12/13 21:45:54 WARN DAGScheduler: Broadcasting large task binary with size 2.8 MiB\n",
                        "23/12/13 21:45:56 WARN DAGScheduler: Broadcasting large task binary with size 2.8 MiB\n",
                        "23/12/13 21:45:56 WARN DAGScheduler: Broadcasting large task binary with size 2.8 MiB\n",
                        "23/12/13 21:45:57 WARN DAGScheduler: Broadcasting large task binary with size 2.8 MiB\n",
                        "23/12/13 21:45:57 WARN DAGScheduler: Broadcasting large task binary with size 2.8 MiB\n",
                        "23/12/13 21:45:59 WARN DAGScheduler: Broadcasting large task binary with size 2.8 MiB\n",
                        "23/12/13 21:45:59 WARN DAGScheduler: Broadcasting large task binary with size 2.8 MiB\n",
                        "23/12/13 21:46:00 WARN DAGScheduler: Broadcasting large task binary with size 2.8 MiB\n",
                        "23/12/13 21:46:00 WARN DAGScheduler: Broadcasting large task binary with size 2.8 MiB\n",
                        "23/12/13 21:46:02 WARN DAGScheduler: Broadcasting large task binary with size 2.8 MiB\n",
                        "23/12/13 21:46:02 WARN DAGScheduler: Broadcasting large task binary with size 2.8 MiB\n",
                        "23/12/13 21:46:03 WARN DAGScheduler: Broadcasting large task binary with size 2.8 MiB\n",
                        "23/12/13 21:46:03 WARN DAGScheduler: Broadcasting large task binary with size 2.8 MiB\n",
                        "23/12/13 21:46:05 WARN DAGScheduler: Broadcasting large task binary with size 2.8 MiB\n",
                        "23/12/13 21:46:05 WARN DAGScheduler: Broadcasting large task binary with size 2.8 MiB\n",
                        "23/12/13 21:46:06 WARN DAGScheduler: Broadcasting large task binary with size 2.8 MiB\n",
                        "23/12/13 21:46:07 WARN DAGScheduler: Broadcasting large task binary with size 2.8 MiB\n",
                        "23/12/13 21:46:08 WARN DAGScheduler: Broadcasting large task binary with size 2.8 MiB\n",
                        "23/12/13 21:46:08 WARN DAGScheduler: Broadcasting large task binary with size 2.8 MiB\n",
                        "23/12/13 21:46:09 WARN DAGScheduler: Broadcasting large task binary with size 2.8 MiB\n",
                        "23/12/13 21:46:10 WARN DAGScheduler: Broadcasting large task binary with size 2.8 MiB\n",
                        "23/12/13 21:46:11 WARN DAGScheduler: Broadcasting large task binary with size 2.8 MiB\n",
                        "23/12/13 21:46:11 WARN DAGScheduler: Broadcasting large task binary with size 2.8 MiB\n",
                        "23/12/13 21:46:12 WARN DAGScheduler: Broadcasting large task binary with size 2.8 MiB\n",
                        "23/12/13 21:46:13 WARN DAGScheduler: Broadcasting large task binary with size 2.8 MiB\n",
                        "23/12/13 21:46:14 WARN DAGScheduler: Broadcasting large task binary with size 2.8 MiB\n",
                        "23/12/13 21:46:14 WARN DAGScheduler: Broadcasting large task binary with size 2.8 MiB\n",
                        "23/12/13 21:46:15 WARN DAGScheduler: Broadcasting large task binary with size 2.8 MiB\n",
                        "23/12/13 21:46:16 WARN DAGScheduler: Broadcasting large task binary with size 2.8 MiB\n",
                        "23/12/13 21:46:17 WARN DAGScheduler: Broadcasting large task binary with size 2.8 MiB\n",
                        "23/12/13 21:46:17 WARN DAGScheduler: Broadcasting large task binary with size 2.8 MiB\n",
                        "23/12/13 21:46:18 WARN DAGScheduler: Broadcasting large task binary with size 2.8 MiB\n",
                        "23/12/13 21:46:19 WARN DAGScheduler: Broadcasting large task binary with size 2.8 MiB\n",
                        "23/12/13 21:46:20 WARN DAGScheduler: Broadcasting large task binary with size 2.8 MiB\n",
                        "23/12/13 21:46:20 WARN DAGScheduler: Broadcasting large task binary with size 2.8 MiB\n",
                        "23/12/13 21:46:21 WARN DAGScheduler: Broadcasting large task binary with size 2.8 MiB\n",
                        "23/12/13 21:46:22 WARN DAGScheduler: Broadcasting large task binary with size 2.8 MiB\n",
                        "23/12/13 21:46:23 WARN DAGScheduler: Broadcasting large task binary with size 2.8 MiB\n",
                        "23/12/13 21:46:23 WARN DAGScheduler: Broadcasting large task binary with size 2.8 MiB\n",
                        "23/12/13 21:46:24 WARN DAGScheduler: Broadcasting large task binary with size 2.8 MiB\n",
                        "23/12/13 21:46:25 WARN DAGScheduler: Broadcasting large task binary with size 2.8 MiB\n",
                        "23/12/13 21:46:26 WARN DAGScheduler: Broadcasting large task binary with size 2.8 MiB\n",
                        "23/12/13 21:46:26 WARN DAGScheduler: Broadcasting large task binary with size 2.8 MiB\n",
                        "23/12/13 21:46:28 WARN DAGScheduler: Broadcasting large task binary with size 2.8 MiB\n",
                        "23/12/13 21:46:28 WARN DAGScheduler: Broadcasting large task binary with size 2.8 MiB\n",
                        "23/12/13 21:46:29 WARN DAGScheduler: Broadcasting large task binary with size 2.8 MiB\n",
                        "23/12/13 21:46:29 WARN DAGScheduler: Broadcasting large task binary with size 2.8 MiB\n",
                        "23/12/13 21:46:31 WARN DAGScheduler: Broadcasting large task binary with size 2.8 MiB\n",
                        "23/12/13 21:46:31 WARN DAGScheduler: Broadcasting large task binary with size 2.8 MiB\n",
                        "23/12/13 21:46:32 WARN DAGScheduler: Broadcasting large task binary with size 2.8 MiB\n",
                        "23/12/13 21:46:32 WARN DAGScheduler: Broadcasting large task binary with size 2.8 MiB\n",
                        "23/12/13 21:46:34 WARN DAGScheduler: Broadcasting large task binary with size 2.8 MiB\n",
                        "23/12/13 21:46:34 WARN DAGScheduler: Broadcasting large task binary with size 2.8 MiB\n",
                        "23/12/13 21:46:35 WARN DAGScheduler: Broadcasting large task binary with size 2.8 MiB\n",
                        "23/12/13 21:46:36 WARN DAGScheduler: Broadcasting large task binary with size 2.8 MiB\n",
                        "23/12/13 21:46:37 WARN DAGScheduler: Broadcasting large task binary with size 2.8 MiB\n",
                        "23/12/13 21:46:37 WARN DAGScheduler: Broadcasting large task binary with size 2.8 MiB\n",
                        "23/12/13 21:46:39 WARN DAGScheduler: Broadcasting large task binary with size 2.8 MiB\n",
                        "23/12/13 21:46:39 WARN DAGScheduler: Broadcasting large task binary with size 2.8 MiB\n",
                        "23/12/13 21:46:40 WARN DAGScheduler: Broadcasting large task binary with size 2.8 MiB\n",
                        "23/12/13 21:46:40 WARN DAGScheduler: Broadcasting large task binary with size 2.8 MiB\n",
                        "23/12/13 21:46:42 WARN DAGScheduler: Broadcasting large task binary with size 2.8 MiB\n",
                        "23/12/13 21:46:42 WARN DAGScheduler: Broadcasting large task binary with size 2.8 MiB\n",
                        "23/12/13 21:46:43 WARN DAGScheduler: Broadcasting large task binary with size 2.8 MiB\n",
                        "23/12/13 21:46:43 WARN DAGScheduler: Broadcasting large task binary with size 2.8 MiB\n",
                        "23/12/13 21:46:45 WARN DAGScheduler: Broadcasting large task binary with size 2.8 MiB\n",
                        "23/12/13 21:46:45 WARN DAGScheduler: Broadcasting large task binary with size 2.8 MiB\n",
                        "23/12/13 21:46:46 WARN DAGScheduler: Broadcasting large task binary with size 2.8 MiB\n",
                        "23/12/13 21:46:46 WARN DAGScheduler: Broadcasting large task binary with size 2.8 MiB\n",
                        "23/12/13 21:46:48 WARN DAGScheduler: Broadcasting large task binary with size 2.8 MiB\n",
                        "23/12/13 21:46:48 WARN DAGScheduler: Broadcasting large task binary with size 2.8 MiB\n",
                        "23/12/13 21:46:49 WARN DAGScheduler: Broadcasting large task binary with size 2.8 MiB\n",
                        "23/12/13 21:46:49 WARN DAGScheduler: Broadcasting large task binary with size 2.8 MiB\n",
                        "23/12/13 21:46:51 WARN DAGScheduler: Broadcasting large task binary with size 2.8 MiB\n",
                        "23/12/13 21:46:51 WARN DAGScheduler: Broadcasting large task binary with size 2.8 MiB\n",
                        "23/12/13 21:46:52 WARN DAGScheduler: Broadcasting large task binary with size 2.8 MiB\n",
                        "23/12/13 21:46:52 WARN DAGScheduler: Broadcasting large task binary with size 2.8 MiB\n",
                        "23/12/13 21:46:54 WARN DAGScheduler: Broadcasting large task binary with size 2.8 MiB\n",
                        "23/12/13 21:46:54 WARN DAGScheduler: Broadcasting large task binary with size 2.8 MiB\n",
                        "23/12/13 21:46:55 WARN DAGScheduler: Broadcasting large task binary with size 2.8 MiB\n",
                        "23/12/13 21:46:56 WARN DAGScheduler: Broadcasting large task binary with size 2.8 MiB\n",
                        "23/12/13 21:46:57 WARN DAGScheduler: Broadcasting large task binary with size 2.8 MiB\n",
                        "23/12/13 21:46:57 WARN DAGScheduler: Broadcasting large task binary with size 2.8 MiB\n",
                        "23/12/13 21:46:59 WARN DAGScheduler: Broadcasting large task binary with size 2.8 MiB\n",
                        "23/12/13 21:46:59 WARN DAGScheduler: Broadcasting large task binary with size 2.8 MiB\n",
                        "23/12/13 21:47:00 WARN DAGScheduler: Broadcasting large task binary with size 2.8 MiB\n",
                        "23/12/13 21:47:00 WARN DAGScheduler: Broadcasting large task binary with size 2.8 MiB\n",
                        "23/12/13 21:47:02 WARN DAGScheduler: Broadcasting large task binary with size 2.8 MiB\n",
                        "23/12/13 21:47:02 WARN DAGScheduler: Broadcasting large task binary with size 2.8 MiB\n",
                        "23/12/13 21:47:03 WARN DAGScheduler: Broadcasting large task binary with size 2.8 MiB\n",
                        "23/12/13 21:47:03 WARN DAGScheduler: Broadcasting large task binary with size 2.8 MiB\n",
                        "23/12/13 21:47:05 WARN DAGScheduler: Broadcasting large task binary with size 2.8 MiB\n",
                        "23/12/13 21:47:05 WARN DAGScheduler: Broadcasting large task binary with size 2.8 MiB\n",
                        "23/12/13 21:47:06 WARN DAGScheduler: Broadcasting large task binary with size 2.8 MiB\n",
                        "23/12/13 21:47:07 WARN DAGScheduler: Broadcasting large task binary with size 2.8 MiB\n",
                        "23/12/13 21:47:08 WARN DAGScheduler: Broadcasting large task binary with size 2.8 MiB\n",
                        "23/12/13 21:47:08 WARN DAGScheduler: Broadcasting large task binary with size 2.8 MiB\n",
                        "23/12/13 21:47:09 WARN DAGScheduler: Broadcasting large task binary with size 2.8 MiB\n",
                        "23/12/13 21:47:10 WARN DAGScheduler: Broadcasting large task binary with size 2.8 MiB\n",
                        "23/12/13 21:47:11 WARN DAGScheduler: Broadcasting large task binary with size 2.8 MiB\n",
                        "23/12/13 21:47:11 WARN DAGScheduler: Broadcasting large task binary with size 2.8 MiB\n",
                        "23/12/13 21:47:13 WARN DAGScheduler: Broadcasting large task binary with size 2.8 MiB\n",
                        "23/12/13 21:47:13 WARN DAGScheduler: Broadcasting large task binary with size 2.8 MiB\n",
                        "23/12/13 21:47:14 WARN DAGScheduler: Broadcasting large task binary with size 2.8 MiB\n",
                        "23/12/13 21:47:14 WARN DAGScheduler: Broadcasting large task binary with size 2.8 MiB\n",
                        "23/12/13 21:47:16 WARN DAGScheduler: Broadcasting large task binary with size 2.8 MiB\n",
                        "23/12/13 21:47:16 WARN DAGScheduler: Broadcasting large task binary with size 2.8 MiB\n",
                        "23/12/13 21:47:17 WARN DAGScheduler: Broadcasting large task binary with size 2.8 MiB\n",
                        "23/12/13 21:47:18 WARN DAGScheduler: Broadcasting large task binary with size 2.8 MiB\n",
                        "23/12/13 21:47:19 WARN DAGScheduler: Broadcasting large task binary with size 2.8 MiB\n",
                        "23/12/13 21:47:19 WARN DAGScheduler: Broadcasting large task binary with size 2.8 MiB\n",
                        "23/12/13 21:47:20 WARN DAGScheduler: Broadcasting large task binary with size 2.8 MiB\n",
                        "23/12/13 21:47:21 WARN DAGScheduler: Broadcasting large task binary with size 2.8 MiB\n",
                        "23/12/13 21:47:22 WARN DAGScheduler: Broadcasting large task binary with size 2.8 MiB\n",
                        "23/12/13 21:47:22 WARN DAGScheduler: Broadcasting large task binary with size 2.8 MiB\n",
                        "23/12/13 21:47:23 WARN DAGScheduler: Broadcasting large task binary with size 2.8 MiB\n",
                        "23/12/13 21:47:24 WARN DAGScheduler: Broadcasting large task binary with size 2.8 MiB\n",
                        "23/12/13 21:47:25 WARN DAGScheduler: Broadcasting large task binary with size 2.8 MiB\n",
                        "23/12/13 21:47:25 WARN DAGScheduler: Broadcasting large task binary with size 2.8 MiB\n",
                        "23/12/13 21:47:27 WARN DAGScheduler: Broadcasting large task binary with size 2.8 MiB\n",
                        "23/12/13 21:47:27 WARN DAGScheduler: Broadcasting large task binary with size 2.8 MiB\n",
                        "23/12/13 21:47:28 WARN DAGScheduler: Broadcasting large task binary with size 2.8 MiB\n",
                        "23/12/13 21:47:28 WARN DAGScheduler: Broadcasting large task binary with size 2.8 MiB\n",
                        "23/12/13 21:47:30 WARN DAGScheduler: Broadcasting large task binary with size 2.8 MiB\n",
                        "23/12/13 21:47:30 WARN DAGScheduler: Broadcasting large task binary with size 2.8 MiB\n",
                        "23/12/13 21:47:31 WARN DAGScheduler: Broadcasting large task binary with size 2.8 MiB\n",
                        "23/12/13 21:47:31 WARN DAGScheduler: Broadcasting large task binary with size 2.8 MiB\n",
                        "23/12/13 21:47:33 WARN DAGScheduler: Broadcasting large task binary with size 2.8 MiB\n",
                        "23/12/13 21:47:33 WARN DAGScheduler: Broadcasting large task binary with size 2.8 MiB\n",
                        "23/12/13 21:47:34 WARN DAGScheduler: Broadcasting large task binary with size 2.8 MiB\n",
                        "23/12/13 21:47:34 WARN DAGScheduler: Broadcasting large task binary with size 2.8 MiB\n",
                        "23/12/13 21:47:36 WARN DAGScheduler: Broadcasting large task binary with size 2.8 MiB\n",
                        "23/12/13 21:47:36 WARN DAGScheduler: Broadcasting large task binary with size 2.8 MiB\n",
                        "23/12/13 21:47:37 WARN DAGScheduler: Broadcasting large task binary with size 2.8 MiB\n",
                        "23/12/13 21:47:38 WARN DAGScheduler: Broadcasting large task binary with size 2.8 MiB\n",
                        "23/12/13 21:47:39 WARN DAGScheduler: Broadcasting large task binary with size 2.8 MiB\n",
                        "23/12/13 21:47:39 WARN DAGScheduler: Broadcasting large task binary with size 2.8 MiB\n",
                        "23/12/13 21:47:40 WARN DAGScheduler: Broadcasting large task binary with size 2.8 MiB\n",
                        "23/12/13 21:47:41 WARN DAGScheduler: Broadcasting large task binary with size 2.8 MiB\n",
                        "23/12/13 21:47:42 WARN DAGScheduler: Broadcasting large task binary with size 2.8 MiB\n",
                        "23/12/13 21:47:42 WARN DAGScheduler: Broadcasting large task binary with size 2.8 MiB\n",
                        "23/12/13 21:47:43 WARN DAGScheduler: Broadcasting large task binary with size 2.8 MiB\n",
                        "23/12/13 21:47:44 WARN DAGScheduler: Broadcasting large task binary with size 2.8 MiB\n",
                        "23/12/13 21:47:45 WARN DAGScheduler: Broadcasting large task binary with size 2.8 MiB\n",
                        "23/12/13 21:47:45 WARN DAGScheduler: Broadcasting large task binary with size 2.8 MiB\n",
                        "23/12/13 21:47:47 WARN DAGScheduler: Broadcasting large task binary with size 2.8 MiB\n",
                        "23/12/13 21:47:47 WARN DAGScheduler: Broadcasting large task binary with size 2.8 MiB\n",
                        "23/12/13 21:47:48 WARN DAGScheduler: Broadcasting large task binary with size 2.8 MiB\n",
                        "23/12/13 21:47:48 WARN DAGScheduler: Broadcasting large task binary with size 2.8 MiB\n",
                        "23/12/13 21:47:50 WARN DAGScheduler: Broadcasting large task binary with size 2.8 MiB\n",
                        "23/12/13 21:47:50 WARN DAGScheduler: Broadcasting large task binary with size 2.8 MiB\n",
                        "23/12/13 21:47:51 WARN DAGScheduler: Broadcasting large task binary with size 2.8 MiB\n",
                        "23/12/13 21:47:51 WARN DAGScheduler: Broadcasting large task binary with size 2.8 MiB\n",
                        "23/12/13 21:47:53 WARN DAGScheduler: Broadcasting large task binary with size 2.8 MiB\n",
                        "23/12/13 21:47:53 WARN DAGScheduler: Broadcasting large task binary with size 2.8 MiB\n",
                        "23/12/13 21:47:54 WARN DAGScheduler: Broadcasting large task binary with size 2.8 MiB\n",
                        "23/12/13 21:47:55 WARN DAGScheduler: Broadcasting large task binary with size 2.8 MiB\n",
                        "23/12/13 21:47:56 WARN DAGScheduler: Broadcasting large task binary with size 2.8 MiB\n",
                        "23/12/13 21:47:56 WARN DAGScheduler: Broadcasting large task binary with size 2.8 MiB\n",
                        "23/12/13 21:47:57 WARN DAGScheduler: Broadcasting large task binary with size 2.8 MiB\n",
                        "23/12/13 21:47:58 WARN DAGScheduler: Broadcasting large task binary with size 2.8 MiB\n",
                        "23/12/13 21:47:59 WARN DAGScheduler: Broadcasting large task binary with size 2.8 MiB\n",
                        "23/12/13 21:47:59 WARN DAGScheduler: Broadcasting large task binary with size 2.8 MiB\n",
                        "23/12/13 21:48:01 WARN DAGScheduler: Broadcasting large task binary with size 2.8 MiB\n",
                        "23/12/13 21:48:01 WARN DAGScheduler: Broadcasting large task binary with size 2.8 MiB\n",
                        "23/12/13 21:48:02 WARN DAGScheduler: Broadcasting large task binary with size 2.8 MiB\n",
                        "23/12/13 21:48:02 WARN DAGScheduler: Broadcasting large task binary with size 2.8 MiB\n",
                        "23/12/13 21:48:04 WARN DAGScheduler: Broadcasting large task binary with size 2.8 MiB\n",
                        "23/12/13 21:48:04 WARN DAGScheduler: Broadcasting large task binary with size 2.8 MiB\n",
                        "23/12/13 21:48:05 WARN DAGScheduler: Broadcasting large task binary with size 2.8 MiB\n",
                        "23/12/13 21:48:05 WARN DAGScheduler: Broadcasting large task binary with size 2.8 MiB\n",
                        "23/12/13 21:48:07 WARN DAGScheduler: Broadcasting large task binary with size 2.8 MiB\n",
                        "23/12/13 21:48:07 WARN DAGScheduler: Broadcasting large task binary with size 2.8 MiB\n",
                        "23/12/13 21:48:08 WARN DAGScheduler: Broadcasting large task binary with size 2.8 MiB\n",
                        "23/12/13 21:48:08 WARN DAGScheduler: Broadcasting large task binary with size 2.8 MiB\n",
                        "23/12/13 21:48:10 WARN DAGScheduler: Broadcasting large task binary with size 2.8 MiB\n",
                        "23/12/13 21:48:10 WARN DAGScheduler: Broadcasting large task binary with size 2.8 MiB\n",
                        "23/12/13 21:48:11 WARN DAGScheduler: Broadcasting large task binary with size 2.8 MiB\n",
                        "23/12/13 21:48:11 WARN DAGScheduler: Broadcasting large task binary with size 2.8 MiB\n",
                        "23/12/13 21:48:13 WARN DAGScheduler: Broadcasting large task binary with size 2.8 MiB\n",
                        "23/12/13 21:48:13 WARN DAGScheduler: Broadcasting large task binary with size 2.8 MiB\n",
                        "23/12/13 21:48:15 WARN DAGScheduler: Broadcasting large task binary with size 2.8 MiB\n",
                        "23/12/13 21:48:15 WARN DAGScheduler: Broadcasting large task binary with size 2.8 MiB\n",
                        "23/12/13 21:48:16 WARN DAGScheduler: Broadcasting large task binary with size 2.8 MiB\n",
                        "23/12/13 21:48:16 WARN DAGScheduler: Broadcasting large task binary with size 2.8 MiB\n",
                        "23/12/13 21:48:18 WARN DAGScheduler: Broadcasting large task binary with size 2.8 MiB\n",
                        "23/12/13 21:48:18 WARN DAGScheduler: Broadcasting large task binary with size 2.8 MiB\n",
                        "23/12/13 21:48:19 WARN DAGScheduler: Broadcasting large task binary with size 2.8 MiB\n",
                        "23/12/13 21:48:19 WARN DAGScheduler: Broadcasting large task binary with size 2.8 MiB\n",
                        "23/12/13 21:48:21 WARN DAGScheduler: Broadcasting large task binary with size 2.8 MiB\n",
                        "23/12/13 21:48:21 WARN DAGScheduler: Broadcasting large task binary with size 2.8 MiB\n",
                        "23/12/13 21:48:22 WARN DAGScheduler: Broadcasting large task binary with size 2.8 MiB\n",
                        "23/12/13 21:48:22 WARN DAGScheduler: Broadcasting large task binary with size 2.8 MiB\n",
                        "23/12/13 21:48:24 WARN DAGScheduler: Broadcasting large task binary with size 2.8 MiB\n",
                        "23/12/13 21:48:24 WARN DAGScheduler: Broadcasting large task binary with size 2.8 MiB\n",
                        "23/12/13 21:48:26 WARN DAGScheduler: Broadcasting large task binary with size 2.8 MiB\n",
                        "23/12/13 21:48:26 WARN DAGScheduler: Broadcasting large task binary with size 2.8 MiB\n",
                        "23/12/13 21:48:27 WARN DAGScheduler: Broadcasting large task binary with size 2.8 MiB\n",
                        "23/12/13 21:48:27 WARN DAGScheduler: Broadcasting large task binary with size 2.8 MiB\n",
                        "23/12/13 21:48:29 WARN DAGScheduler: Broadcasting large task binary with size 2.8 MiB\n",
                        "23/12/13 21:48:29 WARN DAGScheduler: Broadcasting large task binary with size 2.8 MiB\n",
                        "23/12/13 21:48:30 WARN DAGScheduler: Broadcasting large task binary with size 2.8 MiB\n",
                        "23/12/13 21:48:30 WARN DAGScheduler: Broadcasting large task binary with size 2.8 MiB\n",
                        "23/12/13 21:48:32 WARN DAGScheduler: Broadcasting large task binary with size 2.8 MiB\n",
                        "23/12/13 21:48:32 WARN DAGScheduler: Broadcasting large task binary with size 2.8 MiB\n",
                        "23/12/13 21:48:33 WARN DAGScheduler: Broadcasting large task binary with size 2.8 MiB\n",
                        "23/12/13 21:48:33 WARN DAGScheduler: Broadcasting large task binary with size 2.8 MiB\n",
                        "23/12/13 21:48:35 WARN DAGScheduler: Broadcasting large task binary with size 2.8 MiB\n",
                        "23/12/13 21:48:35 WARN DAGScheduler: Broadcasting large task binary with size 2.8 MiB\n",
                        "23/12/13 21:48:36 WARN DAGScheduler: Broadcasting large task binary with size 2.8 MiB\n",
                        "23/12/13 21:48:36 WARN DAGScheduler: Broadcasting large task binary with size 2.8 MiB\n",
                        "23/12/13 21:48:38 WARN DAGScheduler: Broadcasting large task binary with size 2.8 MiB\n",
                        "23/12/13 21:48:38 WARN DAGScheduler: Broadcasting large task binary with size 2.8 MiB\n",
                        "23/12/13 21:48:40 WARN DAGScheduler: Broadcasting large task binary with size 2.8 MiB\n",
                        "23/12/13 21:48:40 WARN DAGScheduler: Broadcasting large task binary with size 2.8 MiB\n",
                        "23/12/13 21:48:41 WARN DAGScheduler: Broadcasting large task binary with size 2.8 MiB\n",
                        "23/12/13 21:48:41 WARN DAGScheduler: Broadcasting large task binary with size 2.8 MiB\n",
                        "23/12/13 21:48:43 WARN DAGScheduler: Broadcasting large task binary with size 2.8 MiB\n",
                        "23/12/13 21:48:43 WARN DAGScheduler: Broadcasting large task binary with size 2.8 MiB\n",
                        "23/12/13 21:48:45 WARN DAGScheduler: Broadcasting large task binary with size 2.8 MiB\n",
                        "23/12/13 21:48:45 WARN DAGScheduler: Broadcasting large task binary with size 2.8 MiB\n",
                        "23/12/13 21:48:46 WARN DAGScheduler: Broadcasting large task binary with size 2.8 MiB\n",
                        "23/12/13 21:48:46 WARN DAGScheduler: Broadcasting large task binary with size 2.8 MiB\n",
                        "23/12/13 21:48:48 WARN DAGScheduler: Broadcasting large task binary with size 2.8 MiB\n",
                        "23/12/13 21:48:48 WARN DAGScheduler: Broadcasting large task binary with size 2.8 MiB\n",
                        "23/12/13 21:48:49 WARN DAGScheduler: Broadcasting large task binary with size 2.8 MiB\n",
                        "23/12/13 21:48:50 WARN DAGScheduler: Broadcasting large task binary with size 2.8 MiB\n",
                        "23/12/13 21:48:51 WARN DAGScheduler: Broadcasting large task binary with size 2.8 MiB\n",
                        "23/12/13 21:48:51 WARN DAGScheduler: Broadcasting large task binary with size 2.8 MiB\n",
                        "23/12/13 21:48:53 WARN DAGScheduler: Broadcasting large task binary with size 2.8 MiB\n",
                        "23/12/13 21:48:53 WARN DAGScheduler: Broadcasting large task binary with size 2.8 MiB\n",
                        "23/12/13 21:48:54 WARN DAGScheduler: Broadcasting large task binary with size 2.8 MiB\n",
                        "23/12/13 21:48:54 WARN DAGScheduler: Broadcasting large task binary with size 2.8 MiB\n",
                        "23/12/13 21:48:56 WARN DAGScheduler: Broadcasting large task binary with size 2.8 MiB\n",
                        "23/12/13 21:48:56 WARN DAGScheduler: Broadcasting large task binary with size 2.8 MiB\n",
                        "23/12/13 21:48:57 WARN DAGScheduler: Broadcasting large task binary with size 2.8 MiB\n",
                        "23/12/13 21:48:57 WARN DAGScheduler: Broadcasting large task binary with size 2.8 MiB\n",
                        "23/12/13 21:48:59 WARN DAGScheduler: Broadcasting large task binary with size 2.8 MiB\n",
                        "23/12/13 21:48:59 WARN DAGScheduler: Broadcasting large task binary with size 2.8 MiB\n",
                        "23/12/13 21:49:00 WARN DAGScheduler: Broadcasting large task binary with size 2.8 MiB\n",
                        "23/12/13 21:49:00 WARN DAGScheduler: Broadcasting large task binary with size 2.8 MiB\n",
                        "23/12/13 21:49:02 WARN DAGScheduler: Broadcasting large task binary with size 2.8 MiB\n",
                        "23/12/13 21:49:02 WARN DAGScheduler: Broadcasting large task binary with size 2.8 MiB\n",
                        "23/12/13 21:49:03 WARN DAGScheduler: Broadcasting large task binary with size 2.8 MiB\n",
                        "23/12/13 21:49:04 WARN DAGScheduler: Broadcasting large task binary with size 2.8 MiB\n",
                        "23/12/13 21:49:05 WARN DAGScheduler: Broadcasting large task binary with size 2.8 MiB\n",
                        "23/12/13 21:49:05 WARN DAGScheduler: Broadcasting large task binary with size 2.8 MiB\n",
                        "23/12/13 21:49:07 WARN DAGScheduler: Broadcasting large task binary with size 2.8 MiB\n",
                        "23/12/13 21:49:07 WARN DAGScheduler: Broadcasting large task binary with size 2.8 MiB\n",
                        "23/12/13 21:49:08 WARN DAGScheduler: Broadcasting large task binary with size 2.8 MiB\n",
                        "23/12/13 21:49:08 WARN DAGScheduler: Broadcasting large task binary with size 2.8 MiB\n",
                        "23/12/13 21:49:10 WARN DAGScheduler: Broadcasting large task binary with size 2.8 MiB\n",
                        "23/12/13 21:49:10 WARN DAGScheduler: Broadcasting large task binary with size 2.8 MiB\n",
                        "23/12/13 21:49:11 WARN DAGScheduler: Broadcasting large task binary with size 2.8 MiB\n",
                        "23/12/13 21:49:11 WARN DAGScheduler: Broadcasting large task binary with size 2.8 MiB\n",
                        "23/12/13 21:49:13 WARN DAGScheduler: Broadcasting large task binary with size 2.8 MiB\n",
                        "23/12/13 21:49:13 WARN DAGScheduler: Broadcasting large task binary with size 2.8 MiB\n",
                        "23/12/13 21:49:15 WARN DAGScheduler: Broadcasting large task binary with size 2.8 MiB\n",
                        "23/12/13 21:49:15 WARN DAGScheduler: Broadcasting large task binary with size 2.8 MiB\n",
                        "23/12/13 21:49:16 WARN DAGScheduler: Broadcasting large task binary with size 2.8 MiB\n",
                        "23/12/13 21:49:16 WARN DAGScheduler: Broadcasting large task binary with size 2.8 MiB\n",
                        "23/12/13 21:49:18 WARN DAGScheduler: Broadcasting large task binary with size 2.8 MiB\n",
                        "23/12/13 21:49:18 WARN DAGScheduler: Broadcasting large task binary with size 2.8 MiB\n",
                        "23/12/13 21:49:19 WARN DAGScheduler: Broadcasting large task binary with size 2.8 MiB\n",
                        "23/12/13 21:49:19 WARN DAGScheduler: Broadcasting large task binary with size 2.8 MiB\n",
                        "23/12/13 21:49:21 WARN DAGScheduler: Broadcasting large task binary with size 2.8 MiB\n",
                        "23/12/13 21:49:21 WARN DAGScheduler: Broadcasting large task binary with size 2.8 MiB\n",
                        "23/12/13 21:49:22 WARN DAGScheduler: Broadcasting large task binary with size 2.8 MiB\n",
                        "23/12/13 21:49:22 WARN DAGScheduler: Broadcasting large task binary with size 2.8 MiB\n",
                        "23/12/13 21:49:24 WARN DAGScheduler: Broadcasting large task binary with size 2.8 MiB\n",
                        "23/12/13 21:49:24 WARN DAGScheduler: Broadcasting large task binary with size 2.8 MiB\n",
                        "23/12/13 21:49:26 WARN DAGScheduler: Broadcasting large task binary with size 2.8 MiB\n",
                        "23/12/13 21:49:26 WARN DAGScheduler: Broadcasting large task binary with size 2.8 MiB\n",
                        "23/12/13 21:49:27 WARN DAGScheduler: Broadcasting large task binary with size 2.8 MiB\n",
                        "23/12/13 21:49:27 WARN DAGScheduler: Broadcasting large task binary with size 2.8 MiB\n",
                        "23/12/13 21:49:29 WARN DAGScheduler: Broadcasting large task binary with size 2.8 MiB\n",
                        "23/12/13 21:49:29 WARN DAGScheduler: Broadcasting large task binary with size 2.8 MiB\n",
                        "23/12/13 21:49:30 WARN DAGScheduler: Broadcasting large task binary with size 2.8 MiB\n",
                        "23/12/13 21:49:30 WARN DAGScheduler: Broadcasting large task binary with size 2.8 MiB\n",
                        "23/12/13 21:49:32 WARN DAGScheduler: Broadcasting large task binary with size 2.8 MiB\n",
                        "23/12/13 21:49:32 WARN DAGScheduler: Broadcasting large task binary with size 2.8 MiB\n",
                        "23/12/13 21:49:33 WARN DAGScheduler: Broadcasting large task binary with size 2.8 MiB\n",
                        "23/12/13 21:49:34 WARN DAGScheduler: Broadcasting large task binary with size 2.8 MiB\n",
                        "23/12/13 21:49:35 WARN DAGScheduler: Broadcasting large task binary with size 2.8 MiB\n",
                        "23/12/13 21:49:35 WARN DAGScheduler: Broadcasting large task binary with size 2.8 MiB\n",
                        "23/12/13 21:49:37 WARN DAGScheduler: Broadcasting large task binary with size 2.8 MiB\n",
                        "23/12/13 21:49:37 WARN DAGScheduler: Broadcasting large task binary with size 2.8 MiB\n",
                        "23/12/13 21:49:38 WARN DAGScheduler: Broadcasting large task binary with size 2.8 MiB\n",
                        "23/12/13 21:49:39 WARN DAGScheduler: Broadcasting large task binary with size 2.8 MiB\n",
                        "23/12/13 21:49:40 WARN DAGScheduler: Broadcasting large task binary with size 2.8 MiB\n",
                        "23/12/13 21:49:40 WARN DAGScheduler: Broadcasting large task binary with size 2.8 MiB\n",
                        "23/12/13 21:49:41 WARN DAGScheduler: Broadcasting large task binary with size 2.8 MiB\n",
                        "23/12/13 21:49:42 WARN DAGScheduler: Broadcasting large task binary with size 2.8 MiB\n",
                        "23/12/13 21:49:43 WARN DAGScheduler: Broadcasting large task binary with size 2.8 MiB\n",
                        "23/12/13 21:49:43 WARN DAGScheduler: Broadcasting large task binary with size 2.8 MiB\n",
                        "23/12/13 21:49:45 WARN DAGScheduler: Broadcasting large task binary with size 2.8 MiB\n",
                        "23/12/13 21:49:45 WARN DAGScheduler: Broadcasting large task binary with size 2.8 MiB\n",
                        "23/12/13 21:49:46 WARN DAGScheduler: Broadcasting large task binary with size 2.8 MiB\n",
                        "23/12/13 21:49:46 WARN DAGScheduler: Broadcasting large task binary with size 2.8 MiB\n",
                        "23/12/13 21:49:48 WARN DAGScheduler: Broadcasting large task binary with size 2.8 MiB\n",
                        "23/12/13 21:49:48 WARN DAGScheduler: Broadcasting large task binary with size 2.8 MiB\n",
                        "23/12/13 21:49:49 WARN DAGScheduler: Broadcasting large task binary with size 2.8 MiB\n",
                        "23/12/13 21:49:50 WARN DAGScheduler: Broadcasting large task binary with size 2.8 MiB\n",
                        "23/12/13 21:49:51 WARN DAGScheduler: Broadcasting large task binary with size 2.8 MiB\n",
                        "23/12/13 21:49:51 WARN DAGScheduler: Broadcasting large task binary with size 2.8 MiB\n",
                        "23/12/13 21:49:53 WARN DAGScheduler: Broadcasting large task binary with size 2.8 MiB\n",
                        "23/12/13 21:49:53 WARN DAGScheduler: Broadcasting large task binary with size 2.8 MiB\n",
                        "23/12/13 21:49:54 WARN DAGScheduler: Broadcasting large task binary with size 2.8 MiB\n",
                        "23/12/13 21:49:54 WARN DAGScheduler: Broadcasting large task binary with size 2.8 MiB\n",
                        "23/12/13 21:49:56 WARN DAGScheduler: Broadcasting large task binary with size 2.8 MiB\n",
                        "23/12/13 21:49:56 WARN DAGScheduler: Broadcasting large task binary with size 2.8 MiB\n",
                        "23/12/13 21:49:57 WARN DAGScheduler: Broadcasting large task binary with size 2.8 MiB\n",
                        "23/12/13 21:49:57 WARN DAGScheduler: Broadcasting large task binary with size 2.8 MiB\n",
                        "23/12/13 21:49:59 WARN DAGScheduler: Broadcasting large task binary with size 2.8 MiB\n",
                        "23/12/13 21:49:59 WARN DAGScheduler: Broadcasting large task binary with size 2.8 MiB\n",
                        "23/12/13 21:50:00 WARN DAGScheduler: Broadcasting large task binary with size 2.8 MiB\n",
                        "23/12/13 21:50:01 WARN DAGScheduler: Broadcasting large task binary with size 2.8 MiB\n",
                        "23/12/13 21:50:02 WARN DAGScheduler: Broadcasting large task binary with size 2.8 MiB\n",
                        "23/12/13 21:50:02 WARN DAGScheduler: Broadcasting large task binary with size 2.8 MiB\n",
                        "23/12/13 21:50:04 WARN DAGScheduler: Broadcasting large task binary with size 2.8 MiB\n",
                        "23/12/13 21:50:04 WARN DAGScheduler: Broadcasting large task binary with size 2.8 MiB\n",
                        "23/12/13 21:50:05 WARN DAGScheduler: Broadcasting large task binary with size 2.8 MiB\n",
                        "23/12/13 21:50:05 WARN DAGScheduler: Broadcasting large task binary with size 2.8 MiB\n",
                        "23/12/13 21:50:07 WARN DAGScheduler: Broadcasting large task binary with size 2.8 MiB\n",
                        "23/12/13 21:50:07 WARN DAGScheduler: Broadcasting large task binary with size 2.8 MiB\n",
                        "23/12/13 21:50:09 WARN DAGScheduler: Broadcasting large task binary with size 2.8 MiB\n",
                        "23/12/13 21:50:09 WARN DAGScheduler: Broadcasting large task binary with size 2.8 MiB\n",
                        "23/12/13 21:50:10 WARN DAGScheduler: Broadcasting large task binary with size 2.8 MiB\n",
                        "23/12/13 21:50:10 WARN DAGScheduler: Broadcasting large task binary with size 2.8 MiB\n",
                        "23/12/13 21:50:12 WARN DAGScheduler: Broadcasting large task binary with size 2.8 MiB\n",
                        "23/12/13 21:50:12 WARN DAGScheduler: Broadcasting large task binary with size 2.8 MiB\n",
                        "23/12/13 21:50:13 WARN DAGScheduler: Broadcasting large task binary with size 2.8 MiB\n",
                        "23/12/13 21:50:13 WARN DAGScheduler: Broadcasting large task binary with size 2.8 MiB\n",
                        "23/12/13 21:50:15 WARN DAGScheduler: Broadcasting large task binary with size 2.8 MiB\n",
                        "23/12/13 21:50:15 WARN DAGScheduler: Broadcasting large task binary with size 2.8 MiB\n",
                        "23/12/13 21:50:17 WARN DAGScheduler: Broadcasting large task binary with size 2.8 MiB\n",
                        "23/12/13 21:50:17 WARN DAGScheduler: Broadcasting large task binary with size 2.8 MiB\n",
                        "23/12/13 21:50:18 WARN DAGScheduler: Broadcasting large task binary with size 2.8 MiB\n",
                        "23/12/13 21:50:18 WARN DAGScheduler: Broadcasting large task binary with size 2.8 MiB\n",
                        "23/12/13 21:50:20 WARN DAGScheduler: Broadcasting large task binary with size 2.8 MiB\n",
                        "23/12/13 21:50:20 WARN DAGScheduler: Broadcasting large task binary with size 2.8 MiB\n",
                        "23/12/13 21:50:21 WARN DAGScheduler: Broadcasting large task binary with size 2.8 MiB\n",
                        "23/12/13 21:50:21 WARN DAGScheduler: Broadcasting large task binary with size 2.8 MiB\n",
                        "23/12/13 21:50:23 WARN DAGScheduler: Broadcasting large task binary with size 2.8 MiB\n",
                        "23/12/13 21:50:23 WARN DAGScheduler: Broadcasting large task binary with size 2.8 MiB\n",
                        "23/12/13 21:50:24 WARN DAGScheduler: Broadcasting large task binary with size 2.8 MiB\n",
                        "23/12/13 21:50:24 WARN DAGScheduler: Broadcasting large task binary with size 2.8 MiB\n",
                        "23/12/13 21:50:26 WARN DAGScheduler: Broadcasting large task binary with size 2.8 MiB\n",
                        "23/12/13 21:50:26 WARN DAGScheduler: Broadcasting large task binary with size 2.8 MiB\n",
                        "23/12/13 21:50:27 WARN DAGScheduler: Broadcasting large task binary with size 2.8 MiB\n",
                        "23/12/13 21:50:27 WARN DAGScheduler: Broadcasting large task binary with size 2.8 MiB\n",
                        "23/12/13 21:50:29 WARN DAGScheduler: Broadcasting large task binary with size 2.8 MiB\n",
                        "23/12/13 21:50:29 WARN DAGScheduler: Broadcasting large task binary with size 2.8 MiB\n",
                        "23/12/13 21:50:31 WARN DAGScheduler: Broadcasting large task binary with size 2.8 MiB\n",
                        "23/12/13 21:50:31 WARN DAGScheduler: Broadcasting large task binary with size 2.8 MiB\n",
                        "23/12/13 21:50:32 WARN DAGScheduler: Broadcasting large task binary with size 2.8 MiB\n",
                        "23/12/13 21:50:32 WARN DAGScheduler: Broadcasting large task binary with size 2.8 MiB\n",
                        "23/12/13 21:50:34 WARN DAGScheduler: Broadcasting large task binary with size 2.8 MiB\n",
                        "23/12/13 21:50:34 WARN DAGScheduler: Broadcasting large task binary with size 2.8 MiB\n",
                        "23/12/13 21:50:36 WARN DAGScheduler: Broadcasting large task binary with size 2.8 MiB\n",
                        "23/12/13 21:50:36 WARN DAGScheduler: Broadcasting large task binary with size 2.8 MiB\n",
                        "23/12/13 21:50:37 WARN DAGScheduler: Broadcasting large task binary with size 2.8 MiB\n",
                        "23/12/13 21:50:37 WARN DAGScheduler: Broadcasting large task binary with size 2.8 MiB\n",
                        "23/12/13 21:50:39 WARN DAGScheduler: Broadcasting large task binary with size 2.8 MiB\n",
                        "23/12/13 21:50:39 WARN DAGScheduler: Broadcasting large task binary with size 2.8 MiB\n",
                        "23/12/13 21:50:40 WARN DAGScheduler: Broadcasting large task binary with size 2.8 MiB\n",
                        "23/12/13 21:50:40 WARN DAGScheduler: Broadcasting large task binary with size 2.8 MiB\n",
                        "23/12/13 21:50:42 WARN DAGScheduler: Broadcasting large task binary with size 2.8 MiB\n",
                        "23/12/13 21:50:42 WARN DAGScheduler: Broadcasting large task binary with size 2.8 MiB\n",
                        "23/12/13 21:50:43 WARN DAGScheduler: Broadcasting large task binary with size 2.8 MiB\n",
                        "23/12/13 21:50:43 WARN DAGScheduler: Broadcasting large task binary with size 2.8 MiB\n",
                        "23/12/13 21:50:45 WARN DAGScheduler: Broadcasting large task binary with size 2.8 MiB\n",
                        "23/12/13 21:50:45 WARN DAGScheduler: Broadcasting large task binary with size 2.8 MiB\n",
                        "23/12/13 21:50:47 WARN DAGScheduler: Broadcasting large task binary with size 2.8 MiB\n",
                        "23/12/13 21:50:47 WARN DAGScheduler: Broadcasting large task binary with size 2.8 MiB\n",
                        "23/12/13 21:50:48 WARN DAGScheduler: Broadcasting large task binary with size 2.8 MiB\n",
                        "23/12/13 21:50:48 WARN DAGScheduler: Broadcasting large task binary with size 2.8 MiB\n",
                        "23/12/13 21:50:50 WARN DAGScheduler: Broadcasting large task binary with size 2.8 MiB\n",
                        "23/12/13 21:50:50 WARN DAGScheduler: Broadcasting large task binary with size 2.8 MiB\n",
                        "23/12/13 21:50:52 WARN DAGScheduler: Broadcasting large task binary with size 2.8 MiB\n",
                        "23/12/13 21:50:52 WARN DAGScheduler: Broadcasting large task binary with size 2.8 MiB\n",
                        "23/12/13 21:50:53 WARN DAGScheduler: Broadcasting large task binary with size 2.8 MiB\n",
                        "23/12/13 21:50:53 WARN DAGScheduler: Broadcasting large task binary with size 2.8 MiB\n",
                        "23/12/13 21:50:55 WARN DAGScheduler: Broadcasting large task binary with size 2.8 MiB\n",
                        "23/12/13 21:50:55 WARN DAGScheduler: Broadcasting large task binary with size 2.8 MiB\n",
                        "23/12/13 21:50:56 WARN DAGScheduler: Broadcasting large task binary with size 2.8 MiB\n",
                        "23/12/13 21:50:56 WARN DAGScheduler: Broadcasting large task binary with size 2.8 MiB\n",
                        "23/12/13 21:50:58 WARN DAGScheduler: Broadcasting large task binary with size 2.8 MiB\n",
                        "23/12/13 21:50:58 WARN DAGScheduler: Broadcasting large task binary with size 2.8 MiB\n",
                        "23/12/13 21:50:59 WARN DAGScheduler: Broadcasting large task binary with size 2.8 MiB\n",
                        "23/12/13 21:50:59 WARN DAGScheduler: Broadcasting large task binary with size 2.8 MiB\n",
                        "23/12/13 21:51:01 WARN DAGScheduler: Broadcasting large task binary with size 2.8 MiB\n",
                        "23/12/13 21:51:01 WARN DAGScheduler: Broadcasting large task binary with size 2.8 MiB\n",
                        "23/12/13 21:51:03 WARN DAGScheduler: Broadcasting large task binary with size 2.8 MiB\n",
                        "23/12/13 21:51:03 WARN DAGScheduler: Broadcasting large task binary with size 2.8 MiB\n",
                        "23/12/13 21:51:04 WARN DAGScheduler: Broadcasting large task binary with size 2.8 MiB\n",
                        "23/12/13 21:51:04 WARN DAGScheduler: Broadcasting large task binary with size 2.8 MiB\n",
                        "23/12/13 21:51:06 WARN DAGScheduler: Broadcasting large task binary with size 2.8 MiB\n",
                        "23/12/13 21:51:06 WARN DAGScheduler: Broadcasting large task binary with size 2.8 MiB\n",
                        "23/12/13 21:51:07 WARN DAGScheduler: Broadcasting large task binary with size 2.8 MiB\n",
                        "23/12/13 21:51:08 WARN DAGScheduler: Broadcasting large task binary with size 2.8 MiB\n",
                        "23/12/13 21:51:09 WARN DAGScheduler: Broadcasting large task binary with size 2.8 MiB\n",
                        "23/12/13 21:51:09 WARN DAGScheduler: Broadcasting large task binary with size 2.8 MiB\n",
                        "23/12/13 21:51:10 WARN DAGScheduler: Broadcasting large task binary with size 2.8 MiB\n",
                        "23/12/13 21:51:11 WARN DAGScheduler: Broadcasting large task binary with size 2.8 MiB\n",
                        "23/12/13 21:51:12 WARN DAGScheduler: Broadcasting large task binary with size 2.8 MiB\n",
                        "23/12/13 21:51:12 WARN DAGScheduler: Broadcasting large task binary with size 2.8 MiB\n",
                        "23/12/13 21:51:14 WARN DAGScheduler: Broadcasting large task binary with size 2.8 MiB\n",
                        "23/12/13 21:51:14 WARN DAGScheduler: Broadcasting large task binary with size 2.8 MiB\n",
                        "23/12/13 21:51:15 WARN DAGScheduler: Broadcasting large task binary with size 2.8 MiB\n",
                        "23/12/13 21:51:15 WARN DAGScheduler: Broadcasting large task binary with size 2.8 MiB\n",
                        "23/12/13 21:51:17 WARN DAGScheduler: Broadcasting large task binary with size 2.8 MiB\n",
                        "23/12/13 21:51:17 WARN DAGScheduler: Broadcasting large task binary with size 2.8 MiB\n",
                        "23/12/13 21:51:18 WARN DAGScheduler: Broadcasting large task binary with size 2.8 MiB\n",
                        "23/12/13 21:51:19 WARN DAGScheduler: Broadcasting large task binary with size 2.8 MiB\n",
                        "23/12/13 21:51:20 WARN DAGScheduler: Broadcasting large task binary with size 2.8 MiB\n",
                        "23/12/13 21:51:20 WARN DAGScheduler: Broadcasting large task binary with size 2.8 MiB\n",
                        "23/12/13 21:51:22 WARN DAGScheduler: Broadcasting large task binary with size 2.8 MiB\n",
                        "23/12/13 21:51:22 WARN DAGScheduler: Broadcasting large task binary with size 2.8 MiB\n",
                        "23/12/13 21:51:23 WARN DAGScheduler: Broadcasting large task binary with size 2.8 MiB\n",
                        "23/12/13 21:51:24 WARN DAGScheduler: Broadcasting large task binary with size 2.8 MiB\n",
                        "23/12/13 21:51:25 WARN DAGScheduler: Broadcasting large task binary with size 2.8 MiB\n",
                        "23/12/13 21:51:25 WARN DAGScheduler: Broadcasting large task binary with size 2.8 MiB\n",
                        "23/12/13 21:51:27 WARN DAGScheduler: Broadcasting large task binary with size 2.8 MiB\n",
                        "23/12/13 21:51:27 WARN DAGScheduler: Broadcasting large task binary with size 2.8 MiB\n",
                        "23/12/13 21:51:28 WARN DAGScheduler: Broadcasting large task binary with size 2.8 MiB\n",
                        "23/12/13 21:51:28 WARN DAGScheduler: Broadcasting large task binary with size 2.8 MiB\n",
                        "23/12/13 21:51:30 WARN DAGScheduler: Broadcasting large task binary with size 2.8 MiB\n",
                        "23/12/13 21:51:30 WARN DAGScheduler: Broadcasting large task binary with size 2.8 MiB\n",
                        "23/12/13 21:51:31 WARN DAGScheduler: Broadcasting large task binary with size 2.8 MiB\n",
                        "23/12/13 21:51:31 WARN DAGScheduler: Broadcasting large task binary with size 2.8 MiB\n",
                        "23/12/13 21:51:33 WARN DAGScheduler: Broadcasting large task binary with size 2.8 MiB\n",
                        "23/12/13 21:51:33 WARN DAGScheduler: Broadcasting large task binary with size 2.8 MiB\n",
                        "23/12/13 21:51:35 WARN DAGScheduler: Broadcasting large task binary with size 2.8 MiB\n",
                        "23/12/13 21:51:35 WARN DAGScheduler: Broadcasting large task binary with size 2.8 MiB\n",
                        "23/12/13 21:51:36 WARN DAGScheduler: Broadcasting large task binary with size 2.8 MiB\n",
                        "23/12/13 21:51:37 WARN DAGScheduler: Broadcasting large task binary with size 2.8 MiB\n",
                        "23/12/13 21:51:38 WARN DAGScheduler: Broadcasting large task binary with size 2.8 MiB\n",
                        "23/12/13 21:51:38 WARN DAGScheduler: Broadcasting large task binary with size 2.8 MiB\n",
                        "23/12/13 21:51:40 WARN DAGScheduler: Broadcasting large task binary with size 2.8 MiB\n",
                        "23/12/13 21:51:40 WARN DAGScheduler: Broadcasting large task binary with size 2.8 MiB\n",
                        "23/12/13 21:51:41 WARN DAGScheduler: Broadcasting large task binary with size 2.8 MiB\n",
                        "23/12/13 21:51:42 WARN DAGScheduler: Broadcasting large task binary with size 2.8 MiB\n",
                        "23/12/13 21:51:43 WARN DAGScheduler: Broadcasting large task binary with size 2.8 MiB\n",
                        "23/12/13 21:51:43 WARN DAGScheduler: Broadcasting large task binary with size 2.8 MiB\n",
                        "23/12/13 21:51:45 WARN DAGScheduler: Broadcasting large task binary with size 2.8 MiB\n",
                        "23/12/13 21:51:45 WARN DAGScheduler: Broadcasting large task binary with size 2.8 MiB\n",
                        "23/12/13 21:51:47 WARN DAGScheduler: Broadcasting large task binary with size 2.8 MiB\n",
                        "23/12/13 21:51:47 WARN DAGScheduler: Broadcasting large task binary with size 2.8 MiB\n",
                        "23/12/13 21:51:49 WARN DAGScheduler: Broadcasting large task binary with size 2.8 MiB\n",
                        "23/12/13 21:51:49 WARN DAGScheduler: Broadcasting large task binary with size 2.8 MiB\n",
                        "23/12/13 21:51:51 WARN DAGScheduler: Broadcasting large task binary with size 2.8 MiB\n",
                        "23/12/13 21:51:51 WARN DAGScheduler: Broadcasting large task binary with size 2.8 MiB\n",
                        "23/12/13 21:51:53 WARN DAGScheduler: Broadcasting large task binary with size 2.8 MiB\n",
                        "23/12/13 21:51:53 WARN DAGScheduler: Broadcasting large task binary with size 2.8 MiB\n",
                        "23/12/13 21:51:55 WARN DAGScheduler: Broadcasting large task binary with size 2.8 MiB\n",
                        "23/12/13 21:51:55 WARN DAGScheduler: Broadcasting large task binary with size 2.8 MiB\n",
                        "23/12/13 21:51:56 WARN DAGScheduler: Broadcasting large task binary with size 2.8 MiB\n",
                        "23/12/13 21:51:56 WARN DAGScheduler: Broadcasting large task binary with size 2.8 MiB\n",
                        "23/12/13 21:51:58 WARN DAGScheduler: Broadcasting large task binary with size 2.8 MiB\n",
                        "23/12/13 21:51:58 WARN DAGScheduler: Broadcasting large task binary with size 2.8 MiB\n",
                        "23/12/13 21:52:00 WARN DAGScheduler: Broadcasting large task binary with size 2.8 MiB\n",
                        "23/12/13 21:52:00 WARN DAGScheduler: Broadcasting large task binary with size 2.8 MiB\n",
                        "23/12/13 21:52:01 WARN DAGScheduler: Broadcasting large task binary with size 2.8 MiB\n",
                        "23/12/13 21:52:01 WARN DAGScheduler: Broadcasting large task binary with size 2.8 MiB\n",
                        "23/12/13 21:52:03 WARN DAGScheduler: Broadcasting large task binary with size 2.8 MiB\n",
                        "23/12/13 21:52:03 WARN DAGScheduler: Broadcasting large task binary with size 2.8 MiB\n",
                        "23/12/13 21:52:04 WARN DAGScheduler: Broadcasting large task binary with size 2.8 MiB\n",
                        "23/12/13 21:52:04 WARN DAGScheduler: Broadcasting large task binary with size 2.8 MiB\n",
                        "23/12/13 21:52:06 WARN DAGScheduler: Broadcasting large task binary with size 2.8 MiB\n",
                        "23/12/13 21:52:06 WARN DAGScheduler: Broadcasting large task binary with size 2.8 MiB\n",
                        "23/12/13 21:52:08 WARN DAGScheduler: Broadcasting large task binary with size 2.8 MiB\n",
                        "23/12/13 21:52:08 WARN DAGScheduler: Broadcasting large task binary with size 2.8 MiB\n",
                        "23/12/13 21:52:09 WARN DAGScheduler: Broadcasting large task binary with size 2.8 MiB\n",
                        "23/12/13 21:52:09 WARN DAGScheduler: Broadcasting large task binary with size 2.8 MiB\n",
                        "23/12/13 21:52:11 WARN DAGScheduler: Broadcasting large task binary with size 2.8 MiB\n",
                        "23/12/13 21:52:11 WARN DAGScheduler: Broadcasting large task binary with size 2.8 MiB\n",
                        "23/12/13 21:52:13 WARN DAGScheduler: Broadcasting large task binary with size 2.8 MiB\n",
                        "23/12/13 21:52:13 WARN DAGScheduler: Broadcasting large task binary with size 2.8 MiB\n",
                        "23/12/13 21:52:15 WARN DAGScheduler: Broadcasting large task binary with size 2.8 MiB\n",
                        "23/12/13 21:52:15 WARN DAGScheduler: Broadcasting large task binary with size 2.8 MiB\n",
                        "23/12/13 21:52:16 WARN DAGScheduler: Broadcasting large task binary with size 2.8 MiB\n",
                        "23/12/13 21:52:16 WARN DAGScheduler: Broadcasting large task binary with size 2.8 MiB\n",
                        "23/12/13 21:52:18 WARN DAGScheduler: Broadcasting large task binary with size 2.8 MiB\n",
                        "23/12/13 21:52:18 WARN DAGScheduler: Broadcasting large task binary with size 2.8 MiB\n",
                        "23/12/13 21:52:20 WARN DAGScheduler: Broadcasting large task binary with size 2.8 MiB\n",
                        "23/12/13 21:52:20 WARN DAGScheduler: Broadcasting large task binary with size 2.8 MiB\n",
                        "23/12/13 21:52:21 WARN DAGScheduler: Broadcasting large task binary with size 2.8 MiB\n",
                        "23/12/13 21:52:21 WARN DAGScheduler: Broadcasting large task binary with size 2.8 MiB\n",
                        "23/12/13 21:52:23 WARN DAGScheduler: Broadcasting large task binary with size 2.8 MiB\n",
                        "23/12/13 21:52:23 WARN DAGScheduler: Broadcasting large task binary with size 2.8 MiB\n",
                        "23/12/13 21:52:24 WARN DAGScheduler: Broadcasting large task binary with size 2.8 MiB\n",
                        "23/12/13 21:52:25 WARN DAGScheduler: Broadcasting large task binary with size 2.8 MiB\n",
                        "23/12/13 21:52:26 WARN DAGScheduler: Broadcasting large task binary with size 2.8 MiB\n",
                        "23/12/13 21:52:26 WARN DAGScheduler: Broadcasting large task binary with size 2.8 MiB\n",
                        "23/12/13 21:52:28 WARN DAGScheduler: Broadcasting large task binary with size 2.8 MiB\n",
                        "23/12/13 21:52:28 WARN DAGScheduler: Broadcasting large task binary with size 2.8 MiB\n",
                        "23/12/13 21:52:29 WARN DAGScheduler: Broadcasting large task binary with size 2.8 MiB\n",
                        "23/12/13 21:52:29 WARN DAGScheduler: Broadcasting large task binary with size 2.8 MiB\n",
                        "23/12/13 21:52:31 WARN DAGScheduler: Broadcasting large task binary with size 2.8 MiB\n",
                        "23/12/13 21:52:31 WARN DAGScheduler: Broadcasting large task binary with size 2.8 MiB\n",
                        "23/12/13 21:52:32 WARN DAGScheduler: Broadcasting large task binary with size 2.8 MiB\n",
                        "23/12/13 21:52:32 WARN DAGScheduler: Broadcasting large task binary with size 2.8 MiB\n",
                        "23/12/13 21:52:34 WARN DAGScheduler: Broadcasting large task binary with size 2.8 MiB\n",
                        "23/12/13 21:52:34 WARN DAGScheduler: Broadcasting large task binary with size 2.8 MiB\n",
                        "23/12/13 21:52:36 WARN DAGScheduler: Broadcasting large task binary with size 2.8 MiB\n",
                        "23/12/13 21:52:36 WARN DAGScheduler: Broadcasting large task binary with size 2.8 MiB\n",
                        "23/12/13 21:52:37 WARN DAGScheduler: Broadcasting large task binary with size 2.8 MiB\n",
                        "23/12/13 21:52:37 WARN DAGScheduler: Broadcasting large task binary with size 2.8 MiB\n",
                        "23/12/13 21:52:39 WARN DAGScheduler: Broadcasting large task binary with size 2.8 MiB\n",
                        "23/12/13 21:52:39 WARN DAGScheduler: Broadcasting large task binary with size 2.8 MiB\n",
                        "23/12/13 21:52:40 WARN DAGScheduler: Broadcasting large task binary with size 2.8 MiB\n",
                        "23/12/13 21:52:41 WARN DAGScheduler: Broadcasting large task binary with size 2.8 MiB\n",
                        "23/12/13 21:52:42 WARN DAGScheduler: Broadcasting large task binary with size 2.8 MiB\n",
                        "23/12/13 21:52:42 WARN DAGScheduler: Broadcasting large task binary with size 2.8 MiB\n",
                        "23/12/13 21:52:44 WARN DAGScheduler: Broadcasting large task binary with size 2.8 MiB\n",
                        "23/12/13 21:52:44 WARN DAGScheduler: Broadcasting large task binary with size 2.8 MiB\n",
                        "23/12/13 21:52:45 WARN DAGScheduler: Broadcasting large task binary with size 2.8 MiB\n",
                        "23/12/13 21:52:45 WARN DAGScheduler: Broadcasting large task binary with size 2.8 MiB\n",
                        "23/12/13 21:52:47 WARN DAGScheduler: Broadcasting large task binary with size 2.8 MiB\n",
                        "23/12/13 21:52:47 WARN DAGScheduler: Broadcasting large task binary with size 2.8 MiB\n",
                        "23/12/13 21:52:48 WARN DAGScheduler: Broadcasting large task binary with size 2.8 MiB\n",
                        "23/12/13 21:52:48 WARN DAGScheduler: Broadcasting large task binary with size 2.8 MiB\n",
                        "23/12/13 21:52:50 WARN DAGScheduler: Broadcasting large task binary with size 2.8 MiB\n",
                        "23/12/13 21:52:50 WARN DAGScheduler: Broadcasting large task binary with size 2.8 MiB\n",
                        "23/12/13 21:52:51 WARN DAGScheduler: Broadcasting large task binary with size 2.8 MiB\n",
                        "23/12/13 21:52:51 WARN DAGScheduler: Broadcasting large task binary with size 2.8 MiB\n",
                        "23/12/13 21:52:53 WARN DAGScheduler: Broadcasting large task binary with size 2.8 MiB\n",
                        "23/12/13 21:52:53 WARN DAGScheduler: Broadcasting large task binary with size 2.8 MiB\n",
                        "23/12/13 21:52:55 WARN DAGScheduler: Broadcasting large task binary with size 2.8 MiB\n",
                        "23/12/13 21:52:55 WARN DAGScheduler: Broadcasting large task binary with size 2.8 MiB\n",
                        "23/12/13 21:52:57 WARN DAGScheduler: Broadcasting large task binary with size 2.8 MiB\n",
                        "23/12/13 21:52:57 WARN DAGScheduler: Broadcasting large task binary with size 2.8 MiB\n",
                        "23/12/13 21:52:58 WARN DAGScheduler: Broadcasting large task binary with size 2.8 MiB\n",
                        "23/12/13 21:52:58 WARN DAGScheduler: Broadcasting large task binary with size 2.8 MiB\n",
                        "23/12/13 21:53:00 WARN DAGScheduler: Broadcasting large task binary with size 2.8 MiB\n",
                        "23/12/13 21:53:00 WARN DAGScheduler: Broadcasting large task binary with size 2.8 MiB\n",
                        "23/12/13 21:53:01 WARN DAGScheduler: Broadcasting large task binary with size 2.8 MiB\n",
                        "23/12/13 21:53:01 WARN DAGScheduler: Broadcasting large task binary with size 2.8 MiB\n",
                        "23/12/13 21:53:03 WARN DAGScheduler: Broadcasting large task binary with size 2.8 MiB\n",
                        "23/12/13 21:53:03 WARN DAGScheduler: Broadcasting large task binary with size 2.8 MiB\n",
                        "23/12/13 21:53:04 WARN DAGScheduler: Broadcasting large task binary with size 2.8 MiB\n",
                        "23/12/13 21:53:05 WARN DAGScheduler: Broadcasting large task binary with size 2.8 MiB\n",
                        "23/12/13 21:53:06 WARN DAGScheduler: Broadcasting large task binary with size 2.8 MiB\n",
                        "23/12/13 21:53:06 WARN DAGScheduler: Broadcasting large task binary with size 2.8 MiB\n",
                        "23/12/13 21:53:08 WARN DAGScheduler: Broadcasting large task binary with size 2.8 MiB\n",
                        "23/12/13 21:53:08 WARN DAGScheduler: Broadcasting large task binary with size 2.8 MiB\n",
                        "23/12/13 21:53:09 WARN DAGScheduler: Broadcasting large task binary with size 2.8 MiB\n",
                        "23/12/13 21:53:09 WARN DAGScheduler: Broadcasting large task binary with size 2.8 MiB\n",
                        "23/12/13 21:53:11 WARN DAGScheduler: Broadcasting large task binary with size 2.8 MiB\n",
                        "23/12/13 21:53:11 WARN DAGScheduler: Broadcasting large task binary with size 2.8 MiB\n",
                        "23/12/13 21:53:12 WARN DAGScheduler: Broadcasting large task binary with size 2.8 MiB\n",
                        "23/12/13 21:53:12 WARN DAGScheduler: Broadcasting large task binary with size 2.8 MiB\n",
                        "23/12/13 21:53:14 WARN DAGScheduler: Broadcasting large task binary with size 2.8 MiB\n",
                        "23/12/13 21:53:14 WARN DAGScheduler: Broadcasting large task binary with size 2.8 MiB\n",
                        "23/12/13 21:53:15 WARN DAGScheduler: Broadcasting large task binary with size 2.8 MiB\n",
                        "23/12/13 21:53:16 WARN DAGScheduler: Broadcasting large task binary with size 2.8 MiB\n",
                        "23/12/13 21:53:17 WARN DAGScheduler: Broadcasting large task binary with size 2.8 MiB\n",
                        "23/12/13 21:53:17 WARN DAGScheduler: Broadcasting large task binary with size 2.8 MiB\n",
                        "23/12/13 21:53:19 WARN DAGScheduler: Broadcasting large task binary with size 2.8 MiB\n",
                        "23/12/13 21:53:19 WARN DAGScheduler: Broadcasting large task binary with size 2.8 MiB\n",
                        "23/12/13 21:53:21 WARN DAGScheduler: Broadcasting large task binary with size 2.8 MiB\n",
                        "23/12/13 21:53:21 WARN DAGScheduler: Broadcasting large task binary with size 2.8 MiB\n",
                        "23/12/13 21:53:22 WARN DAGScheduler: Broadcasting large task binary with size 2.8 MiB\n",
                        "23/12/13 21:53:22 WARN DAGScheduler: Broadcasting large task binary with size 2.8 MiB\n",
                        "23/12/13 21:53:24 WARN DAGScheduler: Broadcasting large task binary with size 2.8 MiB\n",
                        "23/12/13 21:53:24 WARN DAGScheduler: Broadcasting large task binary with size 2.8 MiB\n",
                        "23/12/13 21:53:25 WARN DAGScheduler: Broadcasting large task binary with size 2.8 MiB\n",
                        "23/12/13 21:53:25 WARN DAGScheduler: Broadcasting large task binary with size 2.8 MiB\n",
                        "23/12/13 21:53:27 WARN DAGScheduler: Broadcasting large task binary with size 2.8 MiB\n",
                        "23/12/13 21:53:27 WARN DAGScheduler: Broadcasting large task binary with size 2.8 MiB\n",
                        "23/12/13 21:53:29 WARN DAGScheduler: Broadcasting large task binary with size 2.8 MiB\n",
                        "23/12/13 21:53:29 WARN DAGScheduler: Broadcasting large task binary with size 2.8 MiB\n",
                        "23/12/13 21:53:30 WARN DAGScheduler: Broadcasting large task binary with size 2.8 MiB\n",
                        "23/12/13 21:53:30 WARN DAGScheduler: Broadcasting large task binary with size 2.8 MiB\n",
                        "23/12/13 21:53:32 WARN DAGScheduler: Broadcasting large task binary with size 2.8 MiB\n",
                        "23/12/13 21:53:32 WARN DAGScheduler: Broadcasting large task binary with size 2.8 MiB\n",
                        "23/12/13 21:53:33 WARN DAGScheduler: Broadcasting large task binary with size 2.8 MiB\n",
                        "23/12/13 21:53:34 WARN DAGScheduler: Broadcasting large task binary with size 2.8 MiB\n",
                        "23/12/13 21:53:35 WARN DAGScheduler: Broadcasting large task binary with size 2.8 MiB\n",
                        "23/12/13 21:53:35 WARN DAGScheduler: Broadcasting large task binary with size 2.8 MiB\n",
                        "23/12/13 21:53:37 WARN DAGScheduler: Broadcasting large task binary with size 2.8 MiB\n",
                        "23/12/13 21:53:37 WARN DAGScheduler: Broadcasting large task binary with size 2.8 MiB\n",
                        "23/12/13 21:53:38 WARN DAGScheduler: Broadcasting large task binary with size 2.8 MiB\n",
                        "23/12/13 21:53:38 WARN DAGScheduler: Broadcasting large task binary with size 2.8 MiB\n",
                        "23/12/13 21:53:40 WARN DAGScheduler: Broadcasting large task binary with size 2.8 MiB\n",
                        "23/12/13 21:53:40 WARN DAGScheduler: Broadcasting large task binary with size 2.8 MiB\n",
                        "23/12/13 21:53:41 WARN DAGScheduler: Broadcasting large task binary with size 2.8 MiB\n",
                        "23/12/13 21:53:41 WARN DAGScheduler: Broadcasting large task binary with size 2.8 MiB\n",
                        "23/12/13 21:53:43 WARN DAGScheduler: Broadcasting large task binary with size 2.8 MiB\n",
                        "23/12/13 21:53:43 WARN DAGScheduler: Broadcasting large task binary with size 2.8 MiB\n",
                        "23/12/13 21:53:44 WARN DAGScheduler: Broadcasting large task binary with size 2.8 MiB\n",
                        "23/12/13 21:53:45 WARN DAGScheduler: Broadcasting large task binary with size 2.8 MiB\n",
                        "23/12/13 21:53:46 WARN DAGScheduler: Broadcasting large task binary with size 2.8 MiB\n",
                        "23/12/13 21:53:46 WARN DAGScheduler: Broadcasting large task binary with size 2.8 MiB\n",
                        "23/12/13 21:53:48 WARN DAGScheduler: Broadcasting large task binary with size 2.8 MiB\n",
                        "23/12/13 21:53:48 WARN DAGScheduler: Broadcasting large task binary with size 2.8 MiB\n",
                        "23/12/13 21:53:49 WARN DAGScheduler: Broadcasting large task binary with size 2.8 MiB\n",
                        "23/12/13 21:53:49 WARN DAGScheduler: Broadcasting large task binary with size 2.8 MiB\n",
                        "23/12/13 21:53:51 WARN DAGScheduler: Broadcasting large task binary with size 2.8 MiB\n",
                        "23/12/13 21:53:51 WARN DAGScheduler: Broadcasting large task binary with size 2.8 MiB\n",
                        "23/12/13 21:53:52 WARN DAGScheduler: Broadcasting large task binary with size 2.8 MiB\n",
                        "23/12/13 21:53:53 WARN DAGScheduler: Broadcasting large task binary with size 2.8 MiB\n",
                        "23/12/13 21:53:54 WARN DAGScheduler: Broadcasting large task binary with size 2.8 MiB\n",
                        "23/12/13 21:53:54 WARN DAGScheduler: Broadcasting large task binary with size 2.8 MiB\n",
                        "23/12/13 21:53:56 WARN DAGScheduler: Broadcasting large task binary with size 2.8 MiB\n",
                        "23/12/13 21:53:56 WARN DAGScheduler: Broadcasting large task binary with size 2.8 MiB\n",
                        "23/12/13 21:53:57 WARN DAGScheduler: Broadcasting large task binary with size 2.8 MiB\n",
                        "23/12/13 21:53:57 WARN DAGScheduler: Broadcasting large task binary with size 2.8 MiB\n",
                        "23/12/13 21:53:59 WARN DAGScheduler: Broadcasting large task binary with size 2.8 MiB\n",
                        "23/12/13 21:53:59 WARN DAGScheduler: Broadcasting large task binary with size 2.8 MiB\n",
                        "23/12/13 21:54:00 WARN DAGScheduler: Broadcasting large task binary with size 2.8 MiB\n",
                        "23/12/13 21:54:00 WARN DAGScheduler: Broadcasting large task binary with size 2.8 MiB\n",
                        "23/12/13 21:54:02 WARN DAGScheduler: Broadcasting large task binary with size 2.8 MiB\n",
                        "23/12/13 21:54:02 WARN DAGScheduler: Broadcasting large task binary with size 2.8 MiB\n",
                        "23/12/13 21:54:04 WARN DAGScheduler: Broadcasting large task binary with size 2.8 MiB\n",
                        "23/12/13 21:54:04 WARN DAGScheduler: Broadcasting large task binary with size 2.8 MiB\n",
                        "23/12/13 21:54:05 WARN DAGScheduler: Broadcasting large task binary with size 2.8 MiB\n",
                        "23/12/13 21:54:05 WARN DAGScheduler: Broadcasting large task binary with size 2.8 MiB\n",
                        "23/12/13 21:54:07 WARN DAGScheduler: Broadcasting large task binary with size 2.8 MiB\n",
                        "23/12/13 21:54:07 WARN DAGScheduler: Broadcasting large task binary with size 2.8 MiB\n",
                        "23/12/13 21:54:08 WARN DAGScheduler: Broadcasting large task binary with size 2.8 MiB\n",
                        "23/12/13 21:54:08 WARN DAGScheduler: Broadcasting large task binary with size 2.8 MiB\n",
                        "23/12/13 21:54:10 WARN DAGScheduler: Broadcasting large task binary with size 2.8 MiB\n",
                        "23/12/13 21:54:10 WARN DAGScheduler: Broadcasting large task binary with size 2.8 MiB\n",
                        "23/12/13 21:54:12 WARN DAGScheduler: Broadcasting large task binary with size 2.8 MiB\n",
                        "23/12/13 21:54:12 WARN DAGScheduler: Broadcasting large task binary with size 2.8 MiB\n",
                        "23/12/13 21:54:13 WARN DAGScheduler: Broadcasting large task binary with size 2.8 MiB\n",
                        "23/12/13 21:54:13 WARN DAGScheduler: Broadcasting large task binary with size 2.8 MiB\n",
                        "23/12/13 21:54:15 WARN DAGScheduler: Broadcasting large task binary with size 2.8 MiB\n",
                        "23/12/13 21:54:15 WARN DAGScheduler: Broadcasting large task binary with size 2.8 MiB\n",
                        "23/12/13 21:54:16 WARN DAGScheduler: Broadcasting large task binary with size 2.8 MiB\n",
                        "23/12/13 21:54:17 WARN DAGScheduler: Broadcasting large task binary with size 2.8 MiB\n",
                        "23/12/13 21:54:18 WARN DAGScheduler: Broadcasting large task binary with size 2.8 MiB\n",
                        "23/12/13 21:54:18 WARN DAGScheduler: Broadcasting large task binary with size 2.8 MiB\n",
                        "23/12/13 21:54:20 WARN DAGScheduler: Broadcasting large task binary with size 2.8 MiB\n",
                        "23/12/13 21:54:20 WARN DAGScheduler: Broadcasting large task binary with size 2.8 MiB\n",
                        "23/12/13 21:54:21 WARN DAGScheduler: Broadcasting large task binary with size 2.8 MiB\n",
                        "23/12/13 21:54:21 WARN DAGScheduler: Broadcasting large task binary with size 2.8 MiB\n",
                        "23/12/13 21:54:23 WARN DAGScheduler: Broadcasting large task binary with size 2.8 MiB\n",
                        "23/12/13 21:54:23 WARN DAGScheduler: Broadcasting large task binary with size 2.8 MiB\n",
                        "23/12/13 21:54:24 WARN DAGScheduler: Broadcasting large task binary with size 2.8 MiB\n",
                        "23/12/13 21:54:25 WARN DAGScheduler: Broadcasting large task binary with size 2.8 MiB\n",
                        "23/12/13 21:54:26 WARN DAGScheduler: Broadcasting large task binary with size 2.8 MiB\n",
                        "23/12/13 21:54:26 WARN DAGScheduler: Broadcasting large task binary with size 2.8 MiB\n",
                        "23/12/13 21:54:27 WARN DAGScheduler: Broadcasting large task binary with size 2.8 MiB\n",
                        "23/12/13 21:54:28 WARN DAGScheduler: Broadcasting large task binary with size 2.8 MiB\n",
                        "23/12/13 21:54:29 WARN DAGScheduler: Broadcasting large task binary with size 2.8 MiB\n",
                        "23/12/13 21:54:29 WARN DAGScheduler: Broadcasting large task binary with size 2.8 MiB\n",
                        "23/12/13 21:54:31 WARN DAGScheduler: Broadcasting large task binary with size 2.8 MiB\n",
                        "23/12/13 21:54:31 WARN DAGScheduler: Broadcasting large task binary with size 2.8 MiB\n",
                        "23/12/13 21:54:32 WARN DAGScheduler: Broadcasting large task binary with size 2.8 MiB\n",
                        "23/12/13 21:54:32 WARN DAGScheduler: Broadcasting large task binary with size 2.8 MiB\n",
                        "23/12/13 21:54:34 WARN DAGScheduler: Broadcasting large task binary with size 2.8 MiB\n",
                        "23/12/13 21:54:34 WARN DAGScheduler: Broadcasting large task binary with size 2.8 MiB\n",
                        "23/12/13 21:54:35 WARN DAGScheduler: Broadcasting large task binary with size 2.8 MiB\n",
                        "23/12/13 21:54:36 WARN DAGScheduler: Broadcasting large task binary with size 2.8 MiB\n",
                        "23/12/13 21:54:37 WARN DAGScheduler: Broadcasting large task binary with size 2.8 MiB\n",
                        "23/12/13 21:54:37 WARN DAGScheduler: Broadcasting large task binary with size 2.8 MiB\n",
                        "23/12/13 21:54:39 WARN DAGScheduler: Broadcasting large task binary with size 2.8 MiB\n",
                        "23/12/13 21:54:39 WARN DAGScheduler: Broadcasting large task binary with size 2.8 MiB\n",
                        "23/12/13 21:54:40 WARN DAGScheduler: Broadcasting large task binary with size 2.8 MiB\n",
                        "23/12/13 21:54:40 WARN DAGScheduler: Broadcasting large task binary with size 2.8 MiB\n",
                        "23/12/13 21:54:42 WARN DAGScheduler: Broadcasting large task binary with size 2.8 MiB\n",
                        "23/12/13 21:54:42 WARN DAGScheduler: Broadcasting large task binary with size 2.8 MiB\n",
                        "23/12/13 21:54:43 WARN DAGScheduler: Broadcasting large task binary with size 2.8 MiB\n",
                        "23/12/13 21:54:43 WARN DAGScheduler: Broadcasting large task binary with size 2.8 MiB\n",
                        "23/12/13 21:54:45 WARN DAGScheduler: Broadcasting large task binary with size 2.8 MiB\n",
                        "23/12/13 21:54:45 WARN DAGScheduler: Broadcasting large task binary with size 2.8 MiB\n",
                        "23/12/13 21:54:46 WARN DAGScheduler: Broadcasting large task binary with size 2.8 MiB\n",
                        "23/12/13 21:54:47 WARN DAGScheduler: Broadcasting large task binary with size 2.8 MiB\n",
                        "23/12/13 21:54:48 WARN DAGScheduler: Broadcasting large task binary with size 2.8 MiB\n",
                        "23/12/13 21:54:48 WARN DAGScheduler: Broadcasting large task binary with size 2.8 MiB\n",
                        "23/12/13 21:54:50 WARN DAGScheduler: Broadcasting large task binary with size 2.8 MiB\n",
                        "23/12/13 21:54:50 WARN DAGScheduler: Broadcasting large task binary with size 2.8 MiB\n",
                        "23/12/13 21:54:51 WARN DAGScheduler: Broadcasting large task binary with size 2.8 MiB\n",
                        "23/12/13 21:54:51 WARN DAGScheduler: Broadcasting large task binary with size 2.8 MiB\n",
                        "23/12/13 21:54:53 WARN DAGScheduler: Broadcasting large task binary with size 2.8 MiB\n",
                        "23/12/13 21:54:53 WARN DAGScheduler: Broadcasting large task binary with size 2.8 MiB\n",
                        "23/12/13 21:54:54 WARN DAGScheduler: Broadcasting large task binary with size 2.8 MiB\n",
                        "23/12/13 21:54:55 WARN DAGScheduler: Broadcasting large task binary with size 2.8 MiB\n",
                        "23/12/13 21:54:56 WARN DAGScheduler: Broadcasting large task binary with size 2.8 MiB\n",
                        "23/12/13 21:54:56 WARN DAGScheduler: Broadcasting large task binary with size 2.8 MiB\n",
                        "23/12/13 21:54:58 WARN DAGScheduler: Broadcasting large task binary with size 2.8 MiB\n",
                        "23/12/13 21:54:58 WARN DAGScheduler: Broadcasting large task binary with size 2.8 MiB\n",
                        "23/12/13 21:54:59 WARN DAGScheduler: Broadcasting large task binary with size 2.8 MiB\n",
                        "23/12/13 21:54:59 ERROR StrongWolfeLineSearch: Encountered bad values in function evaluation. Decreasing step size to 0.5\n",
                        "23/12/13 21:54:59 WARN DAGScheduler: Broadcasting large task binary with size 2.8 MiB\n",
                        "23/12/13 21:55:01 WARN DAGScheduler: Broadcasting large task binary with size 2.8 MiB\n",
                        "23/12/13 21:55:01 ERROR StrongWolfeLineSearch: Encountered bad values in function evaluation. Decreasing step size to 0.25\n",
                        "23/12/13 21:55:01 WARN DAGScheduler: Broadcasting large task binary with size 2.8 MiB\n",
                        "23/12/13 21:55:03 WARN DAGScheduler: Broadcasting large task binary with size 2.8 MiB\n",
                        "23/12/13 21:55:03 WARN DAGScheduler: Broadcasting large task binary with size 2.8 MiB\n",
                        "23/12/13 21:55:04 WARN DAGScheduler: Broadcasting large task binary with size 2.8 MiB\n",
                        "23/12/13 21:55:04 WARN DAGScheduler: Broadcasting large task binary with size 2.8 MiB\n",
                        "23/12/13 21:55:06 WARN DAGScheduler: Broadcasting large task binary with size 2.8 MiB\n",
                        "23/12/13 21:55:06 ERROR StrongWolfeLineSearch: Encountered bad values in function evaluation. Decreasing step size to 0.5\n",
                        "23/12/13 21:55:06 WARN DAGScheduler: Broadcasting large task binary with size 2.8 MiB\n",
                        "23/12/13 21:55:07 WARN DAGScheduler: Broadcasting large task binary with size 2.8 MiB\n",
                        "23/12/13 21:55:07 ERROR StrongWolfeLineSearch: Encountered bad values in function evaluation. Decreasing step size to 0.25\n",
                        "23/12/13 21:55:07 WARN DAGScheduler: Broadcasting large task binary with size 2.8 MiB\n",
                        "23/12/13 21:55:09 WARN DAGScheduler: Broadcasting large task binary with size 2.8 MiB\n",
                        "23/12/13 21:55:09 ERROR StrongWolfeLineSearch: Encountered bad values in function evaluation. Decreasing step size to 0.125\n",
                        "23/12/13 21:55:09 WARN DAGScheduler: Broadcasting large task binary with size 2.8 MiB\n",
                        "23/12/13 21:55:11 WARN DAGScheduler: Broadcasting large task binary with size 2.8 MiB\n",
                        "23/12/13 21:55:11 ERROR StrongWolfeLineSearch: Encountered bad values in function evaluation. Decreasing step size to 0.0625\n",
                        "23/12/13 21:55:11 WARN DAGScheduler: Broadcasting large task binary with size 2.8 MiB\n",
                        "23/12/13 21:55:12 WARN DAGScheduler: Broadcasting large task binary with size 2.8 MiB\n",
                        "23/12/13 21:55:12 ERROR StrongWolfeLineSearch: Encountered bad values in function evaluation. Decreasing step size to 0.03125\n",
                        "23/12/13 21:55:12 WARN DAGScheduler: Broadcasting large task binary with size 2.8 MiB\n",
                        "23/12/13 21:55:14 WARN DAGScheduler: Broadcasting large task binary with size 2.8 MiB\n",
                        "23/12/13 21:55:14 ERROR StrongWolfeLineSearch: Encountered bad values in function evaluation. Decreasing step size to 0.015625\n",
                        "23/12/13 21:55:14 WARN DAGScheduler: Broadcasting large task binary with size 2.8 MiB\n",
                        "23/12/13 21:55:15 WARN DAGScheduler: Broadcasting large task binary with size 2.8 MiB\n",
                        "23/12/13 21:55:15 ERROR StrongWolfeLineSearch: Encountered bad values in function evaluation. Decreasing step size to 0.0078125\n",
                        "23/12/13 21:55:15 WARN DAGScheduler: Broadcasting large task binary with size 2.8 MiB\n",
                        "23/12/13 21:55:17 WARN DAGScheduler: Broadcasting large task binary with size 2.8 MiB\n",
                        "23/12/13 21:55:17 ERROR StrongWolfeLineSearch: Encountered bad values in function evaluation. Decreasing step size to 0.00390625\n",
                        "23/12/13 21:55:17 WARN DAGScheduler: Broadcasting large task binary with size 2.8 MiB\n",
                        "23/12/13 21:55:18 WARN DAGScheduler: Broadcasting large task binary with size 2.8 MiB\n",
                        "23/12/13 21:55:18 WARN DAGScheduler: Broadcasting large task binary with size 2.8 MiB\n",
                        "23/12/13 21:55:20 WARN DAGScheduler: Broadcasting large task binary with size 2.8 MiB\n",
                        "23/12/13 21:55:20 ERROR LBFGS: Failure! Resetting history: breeze.optimize.FirstOrderException: Line search failed\n",
                        "23/12/13 21:55:20 WARN DAGScheduler: Broadcasting large task binary with size 2.8 MiB\n",
                        "23/12/13 21:55:22 WARN DAGScheduler: Broadcasting large task binary with size 2.8 MiB\n",
                        "23/12/13 21:55:22 WARN DAGScheduler: Broadcasting large task binary with size 2.8 MiB\n",
                        "23/12/13 21:55:23 WARN DAGScheduler: Broadcasting large task binary with size 2.8 MiB\n",
                        "23/12/13 21:55:23 ERROR StrongWolfeLineSearch: Encountered bad values in function evaluation. Decreasing step size to 0.5\n",
                        "23/12/13 21:55:23 WARN DAGScheduler: Broadcasting large task binary with size 2.8 MiB\n",
                        "23/12/13 21:55:25 WARN DAGScheduler: Broadcasting large task binary with size 2.8 MiB\n",
                        "23/12/13 21:55:25 ERROR StrongWolfeLineSearch: Encountered bad values in function evaluation. Decreasing step size to 0.25\n",
                        "23/12/13 21:55:25 WARN DAGScheduler: Broadcasting large task binary with size 2.8 MiB\n",
                        "23/12/13 21:55:26 WARN DAGScheduler: Broadcasting large task binary with size 2.8 MiB\n",
                        "23/12/13 21:55:26 ERROR StrongWolfeLineSearch: Encountered bad values in function evaluation. Decreasing step size to 0.125\n",
                        "23/12/13 21:55:27 WARN DAGScheduler: Broadcasting large task binary with size 2.8 MiB\n",
                        "23/12/13 21:55:28 WARN DAGScheduler: Broadcasting large task binary with size 2.8 MiB\n",
                        "23/12/13 21:55:28 ERROR StrongWolfeLineSearch: Encountered bad values in function evaluation. Decreasing step size to 0.0625\n",
                        "23/12/13 21:55:28 WARN DAGScheduler: Broadcasting large task binary with size 2.8 MiB\n",
                        "23/12/13 21:55:30 WARN DAGScheduler: Broadcasting large task binary with size 2.8 MiB\n",
                        "23/12/13 21:55:30 ERROR StrongWolfeLineSearch: Encountered bad values in function evaluation. Decreasing step size to 0.03125\n",
                        "23/12/13 21:55:30 WARN DAGScheduler: Broadcasting large task binary with size 2.8 MiB\n",
                        "23/12/13 21:55:31 WARN DAGScheduler: Broadcasting large task binary with size 2.8 MiB\n",
                        "23/12/13 21:55:31 ERROR StrongWolfeLineSearch: Encountered bad values in function evaluation. Decreasing step size to 0.015625\n",
                        "23/12/13 21:55:31 WARN DAGScheduler: Broadcasting large task binary with size 2.8 MiB\n",
                        "23/12/13 21:55:33 WARN DAGScheduler: Broadcasting large task binary with size 2.8 MiB\n",
                        "23/12/13 21:55:33 ERROR StrongWolfeLineSearch: Encountered bad values in function evaluation. Decreasing step size to 0.0078125\n",
                        "23/12/13 21:55:33 WARN DAGScheduler: Broadcasting large task binary with size 2.8 MiB\n",
                        "23/12/13 21:55:34 WARN DAGScheduler: Broadcasting large task binary with size 2.8 MiB\n",
                        "23/12/13 21:55:34 ERROR StrongWolfeLineSearch: Encountered bad values in function evaluation. Decreasing step size to 0.00390625\n",
                        "23/12/13 21:55:34 WARN DAGScheduler: Broadcasting large task binary with size 2.8 MiB\n",
                        "23/12/13 21:55:36 WARN DAGScheduler: Broadcasting large task binary with size 2.8 MiB\n",
                        "23/12/13 21:55:36 ERROR StrongWolfeLineSearch: Encountered bad values in function evaluation. Decreasing step size to 0.001953125\n",
                        "23/12/13 21:55:36 WARN DAGScheduler: Broadcasting large task binary with size 2.8 MiB\n",
                        "23/12/13 21:55:38 WARN DAGScheduler: Broadcasting large task binary with size 2.8 MiB\n",
                        "23/12/13 21:55:38 ERROR StrongWolfeLineSearch: Encountered bad values in function evaluation. Decreasing step size to 9.765625E-4\n",
                        "23/12/13 21:55:38 ERROR LBFGS: Failure again! Giving up and returning. Maybe the objective is just poorly behaved?\n",
                        "/opt/anaconda3/lib/python3.9/site-packages/pyspark/sql/context.py:158: FutureWarning: Deprecated in 3.0.0. Use SparkSession.builder.getOrCreate() instead.\n",
                        "  warnings.warn(\n"
                    ]
                },
                {
                    "name": "stdout",
                    "output_type": "stream",
                    "text": [
                        "Accuracy:0.27499083878184727\n",
                        "\n",
                        "Test Error = 0.725009\n"
                    ]
                },
                {
                    "name": "stderr",
                    "output_type": "stream",
                    "text": [
                        "                                                                                \r"
                    ]
                },
                {
                    "name": "stdout",
                    "output_type": "stream",
                    "text": [
                        "Precision for class  0 : 17.97%\n",
                        "Recall for class  0 : 86.63%\n",
                        "avg_F1-Score for class  0 : 29.76%\n",
                        "----------------------------\n",
                        "Precision for class  1 : 96.11%\n",
                        "Recall for class  1 : 21.88%\n",
                        "avg_F1-Score for class  1 : 35.65%\n",
                        "----------------------------\n",
                        "Precision for class  2 : 14.01%\n",
                        "Recall for class  2 : 67.99%\n",
                        "avg_F1-Score for class  2 : 23.23%\n",
                        "----------------------------\n",
                        "Precision for class  3 : 2.88%\n",
                        "Recall for class  3 : 60.39%\n",
                        "avg_F1-Score for class  3 : 5.51%\n",
                        "----------------------------\n",
                        "[0.29763401531603617, 0.35651942993715147, 0.2322830828889966, 0.055063362117304025]\n",
                        "----------------------\n",
                        "avg_F1-Score: 23.54%\n"
                    ]
                },
                {
                    "name": "stderr",
                    "output_type": "stream",
                    "text": [
                        "                                                                                \r"
                    ]
                },
                {
                    "data": {
                        "text/plain": [
                            "<AxesSubplot:>"
                        ]
                    },
                    "execution_count": 18,
                    "metadata": {},
                    "output_type": "execute_result"
                },
                {
                    "data": {
                        "image/png": "[encoded data removed]",
                        "text/plain": [
                            "<Figure size 700x700 with 1 Axes>"
                        ]
                    },
                    "metadata": {},
                    "output_type": "display_data"
                }
            ],
            "source": [
                "# MLP Layers  -> output layer must have the same number of units of the Severity classes\n",
                "layers = [len(num_col),4]\n",
                "\n",
                "# Create the Multilayer Perceptron Classifier and set its parameters\n",
                "trainer = MultilayerPerceptronClassifier(\n",
                "    layers=layers,\n",
                "    labelCol=\"Severity\",\n",
                "    featuresCol=\"features\",\n",
                "    maxIter=500,  \n",
                "    tol=1e-6,\n",
                "    seed=None,\n",
                "    blockSize=32,\n",
                "    stepSize=0.03,  \n",
                "    solver=\"l-bfgs\",\n",
                "    initialWeights=None,\n",
                "    probabilityCol=\"probability\",\n",
                "    rawPredictionCol=\"rawPrediction\"\n",
                ")\n",
                "\n",
                "# Train the model\n",
                "model = trainer.fit(train_und_over)\n",
                "\n",
                "# Make predictions on the test set\n",
                "predictions= model.transform(testData)\n",
                "\n",
                "# Compute Test Error = 1-Accuracy\n",
                "evaluator = MulticlassClassificationEvaluator(labelCol=\"Severity\"\n",
                "                                              , predictionCol=\"prediction\"\n",
                "                                              , metricName=\"accuracy\")\n",
                "\n",
                "accuracy = evaluator.evaluate(predictions)\n",
                "print(f'Accuracy:{accuracy}\n",
                "')\n",
                "print(\"Test Error = %g\" % (1.0 - accuracy))\n",
                "\n",
                "# Calcolare precision, recall e F1-score\n",
                "predictionAndLabels = predictions.select(\"prediction\", \"Severity\").rdd.map(lambda x: (float(x[0]), float(x[1])))\n",
                "metrics = MulticlassMetrics(predictionAndLabels)\n",
                "\n",
                "list_avg=[]\n",
                "for i in range(4):\n",
                "    precision = metrics.precision(label=float(i))  \n",
                "    recall = metrics.recall(label=float(i))\n",
                "    f1Score= metrics.fMeasure(label=float(i)) # need .0\n",
                "    print(\"Precision for class \",i,\": {:.2%}\".format(precision))\n",
                "    print(\"Recall for class \",i,\": {:.2%}\".format(recall))\n",
                "    print(\"avg_F1-Score for class \",i,\": {:.2%}\".format(f1Score))\n",
                "    list_avg.append(f1Score)\n",
                "    print('----------------------------')\n",
                "sum_=0\n",
                "print(list_avg)\n",
                "for elem in list_avg:\n",
                "    sum_+=elem\n",
                "\n",
                "avg_f1=sum_/4\n",
                "print('----------------------')\n",
                "\n",
                "print(\"avg_F1-Score: {:.2%}\".format(avg_f1))\n",
                "\n",
                "labels = [\"0\", \"1\", \"2\", \"3\"]\n",
                "_ = plt.figure(figsize=(7, 7))\n",
                "sns.heatmap(metrics.confusionMatrix().toArray(),\n",
                "            cmap='viridis',\n",
                "            annot=True,fmt='0',\n",
                "            cbar=False, \n",
                "            xticklabels=labels, \n",
                "            yticklabels=labels)"
            ]
        },
        {
            "cell_type": "markdown",
            "metadata": {},
            "source": [
                "MLP with Working_Weekend target"
            ]
        },
        {
            "cell_type": "code",
            "execution_count": 11,
            "metadata": {
                "tags": []
            },
            "outputs": [],
            "source": [
                "num_col = [item[0] for item in df_cols_onehot.dtypes if not item[1].startswith('string')]\n",
                "num_col.remove('Working_Weekend')"
            ]
        },
        {
            "cell_type": "code",
            "execution_count": 12,
            "metadata": {
                "tags": []
            },
            "outputs": [
                {
                    "name": "stdout",
                    "output_type": "stream",
                    "text": [
                        "+--------------------------------------------------------------------------------------------------------------------------------------+---------------+\n",
                        "|features                                                                                                                              |Working_Weekend|\n",
                        "+--------------------------------------------------------------------------------------------------------------------------------------+---------------+\n",
                        "|(29,[0,1,2,3,4,5,6,7,21,22,23,24],[1.0,33.28583836539609,-110.35937190003224,2.735,56.0,12.0,10.0,10.0,4.0,3.0,1.0,1.0])              |0              |\n",
                        "|(29,[0,1,2,3,4,5,6,7,21,22,23,24],[1.0,32.603849172436696,-109.68630909867436,1.5659999999999998,75.0,27.0,10.0,9.0,4.0,22.0,1.0,1.0])|0              |\n",
                        "|(29,[0,1,2,3,4,5,6,7,21,22,23,24],[1.0,32.816642,-109.671375,0.083,73.0,11.0,10.0,10.0,4.0,23.0,1.0,1.0])                             |0              |\n",
                        "|(29,[0,1,2,3,4,5,6,7,21,22,24],[1.0,32.573706,-109.833815,0.995,67.0,15.0,10.0,20.0,3.0,16.0,1.0])                                    |0              |\n",
                        "|(29,[0,1,2,3,4,5,6,7,21,22,24],[1.0,32.573706,-109.833815,0.995,67.0,15.0,10.0,20.0,3.0,16.0,1.0])                                    |0              |\n",
                        "|(29,[0,1,2,3,4,5,6,7,21,22,24],[1.0,32.571001,-109.817033,2.023,73.0,10.0,10.0,17.0,3.0,13.0,1.0])                                    |0              |\n",
                        "|(29,[0,1,2,3,4,5,6,7,21,22,24],[1.0,32.571001,-109.817033,2.023,73.0,10.0,10.0,17.0,3.0,13.0,1.0])                                    |0              |\n",
                        "|(29,[0,1,2,3,4,5,6,7,21,22,24],[1.0,33.219791650613686,-110.21974682755364,4.971,43.0,21.0,10.0,5.0,4.0,6.0,1.0])                     |0              |\n",
                        "|(29,[0,1,2,3,4,5,6,7,21,22,24],[1.0,33.219791650613686,-110.21974682755364,4.971,43.0,21.0,10.0,5.0,4.0,6.0,1.0])                     |0              |\n",
                        "|(29,[0,1,2,3,4,5,6,7,18,21,22,24],[1.0,32.46525406821983,-109.66993689484757,2.181,85.0,9.0,10.0,22.0,1.0,4.0,14.0,1.0])              |0              |\n",
                        "|(29,[0,1,2,3,4,5,6,7,18,21,22,24],[1.0,32.46525406821983,-109.66993689484757,2.181,85.0,9.0,10.0,22.0,1.0,4.0,14.0,1.0])              |0              |\n",
                        "|(29,[0,1,2,3,4,5,6,7,18,21,22,24],[1.0,32.49516606315377,-109.67347741074715,1.914,49.0,15.0,10.0,6.0,1.0,4.0,8.0,1.0])               |0              |\n",
                        "|(29,[0,1,2,3,4,5,6,7,18,21,22,24],[1.0,32.49516606315377,-109.67347741074715,1.914,49.0,15.0,10.0,6.0,1.0,4.0,8.0,1.0])               |0              |\n",
                        "|(29,[0,1,2,3,4,5,6,7,21,22,24],[1.0,32.805264,-109.707705,0.091,64.0,17.0,10.0,6.0,4.0,9.0,1.0])                                      |0              |\n",
                        "|(29,[0,1,2,3,4,5,6,7,18,21,22,24],[1.0,32.805734,-109.707707,0.032,64.0,17.0,10.0,6.0,1.0,4.0,9.0,1.0])                               |0              |\n",
                        "|(29,[0,1,2,4,5,6,7,21,22,24],[1.0,32.81282,-109.609451,68.0,4.0,10.0,18.0,4.0,19.0,1.0])                                              |0              |\n",
                        "|(29,[0,1,2,3,4,5,6,7,21,22,24],[1.0,32.812781,-109.605301,0.099,71.0,4.0,10.0,17.0,4.0,18.0,1.0])                                     |0              |\n",
                        "|(29,[0,1,2,3,4,5,6,7,21,22,24],[1.0,32.812781,-109.605301,0.09,71.0,4.0,10.0,17.0,4.0,18.0,1.0])                                      |0              |\n",
                        "|(29,[0,1,2,3,4,5,6,7,21,22,24],[1.0,32.812781,-109.605301,0.099,71.0,4.0,10.0,17.0,4.0,18.0,1.0])                                     |0              |\n",
                        "|(29,[0,1,2,3,4,5,6,7,21,22,24],[1.0,32.822027,-109.687658,0.086,95.0,7.0,10.0,16.0,5.0,18.0,1.0])                                     |0              |\n",
                        "+--------------------------------------------------------------------------------------------------------------------------------------+---------------+\n",
                        "only showing top 20 rows\n",
                        "\n"
                    ]
                }
            ],
            "source": [
                "assembler = VectorAssembler(inputCols=num_col, outputCol=\"features\")\n",
                "\n",
                "output_dataset = assembler.transform(df_MLP_binary)\n",
                "\n",
                "classificationData = output_dataset.select(\"features\", \"Working_Weekend\")\n",
                "\n",
                "classificationData.show(truncate=False)\n",
                "(trainingData, testData) = classificationData.randomSplit([0.7, 0.3],seed=0)"
            ]
        },
        {
            "cell_type": "code",
            "execution_count": 13,
            "metadata": {
                "tags": []
            },
            "outputs": [],
            "source": [
                "from pyspark.sql import functions as F\n",
                "g=trainingData.groupBy('Working_Weekend').agg(F.count('Working_Weekend').alias('Count'))\n",
                "g=g.sort('Working_Weekend')\n",
                "#g.show()\n",
                "g_p=g.toPandas()\n",
                "n_0=g_p.iloc[0,1]\n",
                "n_1=g_p.iloc[1,1]"
            ]
        },
        {
            "cell_type": "code",
            "execution_count": 26,
            "metadata": {
                "tags": []
            },
            "outputs": [
                {
                    "name": "stderr",
                    "output_type": "stream",
                    "text": [
                        "/opt/conda/lib/python3.10/site-packages/pyspark/sql/context.py:158: FutureWarning: Deprecated in 3.0.0. Use SparkSession.builder.getOrCreate() instead.\n",
                        "  warnings.warn(\n"
                    ]
                },
                {
                    "name": "stdout",
                    "output_type": "stream",
                    "text": [
                        "Accuracy:0.8118360567080002\n",
                        "\n",
                        "Test Error = 0.188164\n"
                    ]
                },
                {
                    "name": "stderr",
                    "output_type": "stream",
                    "text": [
                        "                                                                                \r"
                    ]
                },
                {
                    "name": "stdout",
                    "output_type": "stream",
                    "text": [
                        "Precision for class  0 : 81.18%\n",
                        "Recall for class  0 : 100.00%\n",
                        "avg_F1-Score for class  0 : 89.61%\n",
                        "----------------------------\n",
                        "Precision for class  1 : 0.00%\n",
                        "Recall for class  1 : 0.00%\n",
                        "avg_F1-Score for class  1 : 0.00%\n",
                        "----------------------------\n",
                        "[0.896147367972198, 0.0]\n",
                        "----------------------\n",
                        "avg_F1-Score: 44.81%\n"
                    ]
                },
                {
                    "data": {
                        "text/plain": [
                            "<Axes: >"
                        ]
                    },
                    "execution_count": 26,
                    "metadata": {},
                    "output_type": "execute_result"
                },
                {
                    "data": {
                        "image/png": "[encoded data removed]",
                        "text/plain": [
                            "<Figure size 700x700 with 1 Axes>"
                        ]
                    },
                    "metadata": {},
                    "output_type": "display_data"
                }
            ],
            "source": [
                "# MLP Layers  -> output layer must have the same number of units of the Working_Weekend classes\n",
                "layers = [len(num_col),16,8,4,2]\n",
                "\n",
                "# Create the Multilayer Perceptron Classifier and set its parameters\n",
                "trainer = MultilayerPerceptronClassifier(\n",
                "    layers=layers,\n",
                "    labelCol=\"Working_Weekend\",\n",
                "    featuresCol=\"features\",\n",
                "    maxIter=100,  \n",
                "    tol=1e-6,\n",
                "    seed=None,\n",
                "    blockSize=32,\n",
                "    stepSize=0.03,  \n",
                "    solver=\"l-bfgs\",\n",
                "    initialWeights=None,\n",
                "    probabilityCol=\"probability\",\n",
                "    rawPredictionCol=\"rawPrediction\"\n",
                ")\n",
                "\n",
                "# Train the model\n",
                "model = trainer.fit(trainingData)\n",
                "\n",
                "# Make predictions on the test set\n",
                "predictions= model.transform(testData)\n",
                "\n",
                "# Compute Test Error = 1-Accuracy\n",
                "evaluator = MulticlassClassificationEvaluator(labelCol=\"Working_Weekend\"\n",
                "                                              , predictionCol=\"prediction\"\n",
                "                                              , metricName=\"accuracy\")\n",
                "\n",
                "accuracy = evaluator.evaluate(predictions)\n",
                "print(f'Accuracy:{accuracy}\n",
                "')\n",
                "print(\"Test Error = %g\" % (1.0 - accuracy))\n",
                "\n",
                "\n",
                "\n",
                "# Calcolare precision, recall e F1-score\n",
                "predictionAndLabels = predictions.select(\"prediction\", \"Working_Weekend\").rdd.map(lambda x: (float(x[0]), float(x[1])))\n",
                "metrics = MulticlassMetrics(predictionAndLabels)\n",
                "\n",
                "list_avg=[]\n",
                "for i in range(2):\n",
                "    precision = metrics.precision(label=float(i))  \n",
                "    recall = metrics.recall(label=float(i))\n",
                "    f1Score= metrics.fMeasure(label=float(i)) # need .0\n",
                "    print(\"Precision for class \",i,\": {:.2%}\".format(precision))\n",
                "    print(\"Recall for class \",i,\": {:.2%}\".format(recall))\n",
                "    print(\"avg_F1-Score for class \",i,\": {:.2%}\".format(f1Score))\n",
                "    list_avg.append(f1Score)\n",
                "    print('----------------------------')\n",
                "sum_=0\n",
                "print(list_avg)\n",
                "for elem in list_avg:\n",
                "    sum_+=elem\n",
                "\n",
                "avg_f1=sum_/2\n",
                "print('----------------------')\n",
                "\n",
                "print(\"avg_F1-Score: {:.2%}\".format(avg_f1))\n",
                "\n",
                "labels = [\"0\", \"1\"]\n",
                "_ = plt.figure(figsize=(7, 7))\n",
                "sns.heatmap(metrics.confusionMatrix().toArray(),\n",
                "            cmap='viridis',\n",
                "            annot=True,fmt='0',\n",
                "            cbar=False, \n",
                "            xticklabels=labels, \n",
                "            yticklabels=labels)"
            ]
        },
        {
            "cell_type": "markdown",
            "metadata": {
                "tags": []
            },
            "source": [
                "### Undersampling"
            ]
        },
        {
            "cell_type": "code",
            "execution_count": 27,
            "metadata": {},
            "outputs": [],
            "source": [
                "train_und = trainingData.sampleBy('Working_Weekend', fractions={0:n_1/n_0 ,1: 1})"
            ]
        },
        {
            "cell_type": "code",
            "execution_count": 30,
            "metadata": {
                "tags": []
            },
            "outputs": [
                {
                    "name": "stderr",
                    "output_type": "stream",
                    "text": [
                        "                                                                                \r"
                    ]
                },
                {
                    "name": "stdout",
                    "output_type": "stream",
                    "text": [
                        "Accuracy:0.6601576080658246\n",
                        "\n",
                        "Test Error = 0.339842\n"
                    ]
                },
                {
                    "name": "stderr",
                    "output_type": "stream",
                    "text": [
                        "/opt/conda/lib/python3.10/site-packages/pyspark/sql/context.py:158: FutureWarning: Deprecated in 3.0.0. Use SparkSession.builder.getOrCreate() instead.\n",
                        "  warnings.warn(\n",
                        "[Stage 1296:==================>                                     (3 + 6) / 9]\r"
                    ]
                },
                {
                    "name": "stdout",
                    "output_type": "stream",
                    "text": [
                        "Precision for class  0 : 85.15%\n",
                        "Recall for class  0 : 70.42%\n",
                        "avg_F1-Score for class  0 : 77.09%\n",
                        "----------------------------\n",
                        "Precision for class  1 : 26.93%\n",
                        "Recall for class  1 : 47.03%\n",
                        "avg_F1-Score for class  1 : 34.25%\n",
                        "----------------------------\n",
                        "[0.7708656187735222, 0.34246421764639934]\n",
                        "----------------------\n",
                        "avg_F1-Score: 55.67%\n"
                    ]
                },
                {
                    "name": "stderr",
                    "output_type": "stream",
                    "text": [
                        "                                                                                \r"
                    ]
                },
                {
                    "data": {
                        "text/plain": [
                            "<Axes: >"
                        ]
                    },
                    "execution_count": 30,
                    "metadata": {},
                    "output_type": "execute_result"
                },
                {
                    "data": {
                        "image/png": "[encoded data removed]",
                        "text/plain": [
                            "<Figure size 700x700 with 1 Axes>"
                        ]
                    },
                    "metadata": {},
                    "output_type": "display_data"
                }
            ],
            "source": [
                "layers = [len(num_col),4]\n",
                "\n",
                "# Create the Multilayer Perceptron Classifier and set its parameters\n",
                "trainer = MultilayerPerceptronClassifier(\n",
                "    layers=layers,\n",
                "    labelCol=\"Working_Weekend\",\n",
                "    featuresCol=\"features\",\n",
                "    maxIter=500,  \n",
                "    tol=1e-6,\n",
                "    seed=None,\n",
                "    blockSize=32,\n",
                "    stepSize=0.03,  \n",
                "    solver=\"l-bfgs\",\n",
                "    initialWeights=None,\n",
                "    probabilityCol=\"probability\",\n",
                "    rawPredictionCol=\"rawPrediction\"\n",
                ")\n",
                "\n",
                "# Train the model\n",
                "model = trainer.fit(train_und)\n",
                "\n",
                "# Make predictions on the test set\n",
                "predictions= model.transform(testData)\n",
                "\n",
                "# Compute Test Error = 1-Accuracy\n",
                "evaluator = MulticlassClassificationEvaluator(labelCol=\"Working_Weekend\"\n",
                "                                              , predictionCol=\"prediction\"\n",
                "                                              , metricName=\"accuracy\")\n",
                "\n",
                "accuracy = evaluator.evaluate(predictions)\n",
                "print(f'Accuracy:{accuracy}\n",
                "')\n",
                "print(\"Test Error = %g\" % (1.0 - accuracy))\n",
                "\n",
                "# Calcolare precision, recall e F1-score\n",
                "predictionAndLabels = predictions.select(\"prediction\", \"Working_Weekend\").rdd.map(lambda x: (float(x[0]), float(x[1])))\n",
                "metrics = MulticlassMetrics(predictionAndLabels)\n",
                "\n",
                "list_avg=[]\n",
                "for i in range(2):\n",
                "    precision = metrics.precision(label=float(i))  \n",
                "    recall = metrics.recall(label=float(i))\n",
                "    f1Score= metrics.fMeasure(label=float(i)) # need .0\n",
                "    print(\"Precision for class \",i,\": {:.2%}\".format(precision))\n",
                "    print(\"Recall for class \",i,\": {:.2%}\".format(recall))\n",
                "    print(\"avg_F1-Score for class \",i,\": {:.2%}\".format(f1Score))\n",
                "    list_avg.append(f1Score)\n",
                "    print('----------------------------')\n",
                "sum_=0\n",
                "print(list_avg)\n",
                "for elem in list_avg:\n",
                "    sum_+=elem\n",
                "\n",
                "avg_f1=sum_/2\n",
                "print('----------------------')\n",
                "\n",
                "print(\"avg_F1-Score: {:.2%}\".format(avg_f1))\n",
                "\n",
                "labels = [\"0\", \"1\"]\n",
                "_ = plt.figure(figsize=(7, 7))\n",
                "sns.heatmap(metrics.confusionMatrix().toArray(),\n",
                "            cmap='viridis',\n",
                "            annot=True,fmt='0',\n",
                "            cbar=False, \n",
                "            xticklabels=labels, \n",
                "            yticklabels=labels)"
            ]
        },
        {
            "cell_type": "markdown",
            "metadata": {},
            "source": [
                "### Oversampling "
            ]
        },
        {
            "cell_type": "code",
            "execution_count": 14,
            "metadata": {
                "tags": []
            },
            "outputs": [],
            "source": [
                "under_1=trainingData.filter(col('Working_Weekend') == 1)\n",
                "under_1 = trainingData.sample(True, 0.3, seed=42)"
            ]
        },
        {
            "cell_type": "code",
            "execution_count": 15,
            "metadata": {
                "tags": []
            },
            "outputs": [
                {
                    "data": {
                        "text/plain": [
                            "36700"
                        ]
                    },
                    "execution_count": 15,
                    "metadata": {},
                    "output_type": "execute_result"
                }
            ],
            "source": [
                "under_1.count()"
            ]
        },
        {
            "cell_type": "code",
            "execution_count": 16,
            "metadata": {
                "tags": []
            },
            "outputs": [
                {
                    "name": "stdout",
                    "output_type": "stream",
                    "text": [
                        "2.347843275059299\n",
                        "1.347843275059299\n",
                        "0.347843275059299\n"
                    ]
                }
            ],
            "source": [
                "oversample_1=trainingData.filter(col('Working_Weekend') == 1)\n",
                "num_campioni_da_generare = n_0\n",
                "num_campioni_da_generare=(num_campioni_da_generare-n_1)/n_1 #percentuale \n",
                "#print(num_campioni_da_generare)\n",
                "full_1=oversample_1\n",
                "#print(full.count())\n",
                "while num_campioni_da_generare>1:\n",
                "    oversample_1= oversample_1.unionAll(full_1)\n",
                "    num_campioni_da_generare=num_campioni_da_generare-1.0\n",
                "    print(num_campioni_da_generare)\n",
                "df_minority_oversampled = full_1.sample(True, num_campioni_da_generare, seed=42)\n",
                "\n",
                "oversample_1 = oversample_1.unionAll(df_minority_oversampled)"
            ]
        },
        {
            "cell_type": "code",
            "execution_count": 17,
            "metadata": {
                "tags": []
            },
            "outputs": [],
            "source": [
                "df_over=oversample_1.unionAll(trainingData.filter(col('Working_Weekend') == 0))"
            ]
        },
        {
            "cell_type": "code",
            "execution_count": 18,
            "metadata": {
                "tags": []
            },
            "outputs": [
                {
                    "name": "stderr",
                    "output_type": "stream",
                    "text": [
                        "                                                                                \r"
                    ]
                },
                {
                    "data": {
                        "text/plain": [
                            "197969"
                        ]
                    },
                    "execution_count": 18,
                    "metadata": {},
                    "output_type": "execute_result"
                }
            ],
            "source": [
                "df_over.count()"
            ]
        },
        {
            "cell_type": "code",
            "execution_count": 19,
            "metadata": {
                "tags": []
            },
            "outputs": [
                {
                    "name": "stderr",
                    "output_type": "stream",
                    "text": [
                        "Java HotSpot(TM) 64-Bit Server VM warning: CodeCache is full. Compiler has been disabled.\n",
                        "Java HotSpot(TM) 64-Bit Server VM warning: Try increasing the code cache size using -XX:ReservedCodeCacheSize=\n"
                    ]
                },
                {
                    "name": "stdout",
                    "output_type": "stream",
                    "text": [
                        "CodeCache: size=131072Kb used=57038Kb max_used=57105Kb free=74033Kb\n",
                        " bounds [0x00000001089d8000, 0x000000010c238000, 0x00000001109d8000]\n",
                        " total_blobs=17093 nmethods=16067 adapters=937\n",
                        " compilation: disabled (not enough contiguous free space left)\n",
                        "+---------------+---------------+\n",
                        "|Working_Weekend|Working_Weekend|\n",
                        "+---------------+---------------+\n",
                        "|              0|          98983|\n",
                        "|              1|          98986|\n",
                        "+---------------+---------------+\n",
                        "\n"
                    ]
                },
                {
                    "name": "stderr",
                    "output_type": "stream",
                    "text": [
                        "                                                                                \r"
                    ]
                }
            ],
            "source": [
                "from pyspark.sql import functions as F\n",
                "g=df_over.groupBy('Working_Weekend').agg(F.count('Working_Weekend').alias('Working_Weekend'))\n",
                "g=g.sort('Working_Weekend')\n",
                "g.show()"
            ]
        },
        {
            "cell_type": "code",
            "execution_count": 20,
            "metadata": {
                "tags": []
            },
            "outputs": [],
            "source": [
                "train_over=df_over"
            ]
        },
        {
            "cell_type": "code",
            "execution_count": 21,
            "metadata": {
                "tags": []
            },
            "outputs": [
                {
                    "name": "stderr",
                    "output_type": "stream",
                    "text": [
                        "23/12/13 22:03:45 WARN InstanceBuilder: Failed to load implementation from:dev.ludovic.netlib.blas.JNIBLAS\n",
                        "/opt/anaconda3/lib/python3.9/site-packages/pyspark/sql/context.py:158: FutureWarning: Deprecated in 3.0.0. Use SparkSession.builder.getOrCreate() instead.\n",
                        "  warnings.warn(\n"
                    ]
                },
                {
                    "name": "stdout",
                    "output_type": "stream",
                    "text": [
                        "Accuracy:0.6583926401666378\n",
                        "\n",
                        "Test Error = 0.341607\n"
                    ]
                },
                {
                    "name": "stderr",
                    "output_type": "stream",
                    "text": [
                        "                                                                                \r"
                    ]
                },
                {
                    "name": "stdout",
                    "output_type": "stream",
                    "text": [
                        "Precision for class  0 : 85.47%\n",
                        "Recall for class  0 : 69.90%\n",
                        "avg_F1-Score for class  0 : 76.91%\n",
                        "----------------------------\n",
                        "Precision for class  1 : 26.78%\n",
                        "Recall for class  1 : 48.08%\n",
                        "avg_F1-Score for class  1 : 34.40%\n",
                        "----------------------------\n",
                        "[0.7690682938277399, 0.344]\n",
                        "----------------------\n",
                        "avg_F1-Score: 55.65%\n"
                    ]
                },
                {
                    "name": "stderr",
                    "output_type": "stream",
                    "text": [
                        "                                                                                \r"
                    ]
                },
                {
                    "data": {
                        "text/plain": [
                            "<AxesSubplot:>"
                        ]
                    },
                    "execution_count": 21,
                    "metadata": {},
                    "output_type": "execute_result"
                },
                {
                    "data": {
                        "image/png": "[encoded data removed]",
                        "text/plain": [
                            "<Figure size 700x700 with 1 Axes>"
                        ]
                    },
                    "metadata": {},
                    "output_type": "display_data"
                }
            ],
            "source": [
                "layers = [len(num_col),4]\n",
                "\n",
                "# Create the Multilayer Perceptron Classifier and set its parameters\n",
                "trainer = MultilayerPerceptronClassifier(\n",
                "    layers=layers,\n",
                "    labelCol=\"Working_Weekend\",\n",
                "    featuresCol=\"features\",\n",
                "    maxIter=500,  \n",
                "    tol=1e-6,\n",
                "    seed=None,\n",
                "    blockSize=32,\n",
                "    stepSize=0.03,  \n",
                "    solver=\"l-bfgs\",\n",
                "    initialWeights=None,\n",
                "    probabilityCol=\"probability\",\n",
                "    rawPredictionCol=\"rawPrediction\"\n",
                ")\n",
                "\n",
                "# Train the model\n",
                "model = trainer.fit(train_over)\n",
                "\n",
                "# Make predictions on the test set\n",
                "predictions= model.transform(testData)\n",
                "\n",
                "# Compute Test Error = 1-Accuracy\n",
                "evaluator = MulticlassClassificationEvaluator(labelCol=\"Working_Weekend\"\n",
                "                                              , predictionCol=\"prediction\"\n",
                "                                              , metricName=\"accuracy\")\n",
                "\n",
                "accuracy = evaluator.evaluate(predictions)\n",
                "print(f'Accuracy:{accuracy}\n",
                "')\n",
                "print(\"Test Error = %g\" % (1.0 - accuracy))\n",
                "\n",
                "# Calcolare precision, recall e F1-score\n",
                "predictionAndLabels = predictions.select(\"prediction\", \"Working_Weekend\").rdd.map(lambda x: (float(x[0]), float(x[1])))\n",
                "metrics = MulticlassMetrics(predictionAndLabels)\n",
                "\n",
                "list_avg=[]\n",
                "for i in range(2):\n",
                "    precision = metrics.precision(label=float(i))  \n",
                "    recall = metrics.recall(label=float(i))\n",
                "    f1Score= metrics.fMeasure(label=float(i)) # need .0\n",
                "    print(\"Precision for class \",i,\": {:.2%}\".format(precision))\n",
                "    print(\"Recall for class \",i,\": {:.2%}\".format(recall))\n",
                "    print(\"avg_F1-Score for class \",i,\": {:.2%}\".format(f1Score))\n",
                "    list_avg.append(f1Score)\n",
                "    print('----------------------------')\n",
                "sum_=0\n",
                "print(list_avg)\n",
                "for elem in list_avg:\n",
                "    sum_+=elem\n",
                "\n",
                "avg_f1=sum_/2\n",
                "print('----------------------')\n",
                "\n",
                "print(\"avg_F1-Score: {:.2%}\".format(avg_f1))\n",
                "\n",
                "labels = [\"0\", \"1\"]\n",
                "_ = plt.figure(figsize=(7, 7))\n",
                "sns.heatmap(metrics.confusionMatrix().toArray(),\n",
                "            cmap='viridis',\n",
                "            annot=True,fmt='0',\n",
                "            cbar=False, \n",
                "            xticklabels=labels, \n",
                "            yticklabels=labels)"
            ]
        },
        {
            "cell_type": "code",
            "execution_count": null,
            "metadata": {},
            "outputs": [],
            "source": []
        },
        {
            "cell_type": "code",
            "execution_count": null,
            "metadata": {},
            "outputs": [],
            "source": []
        },
        {
            "cell_type": "code",
            "execution_count": null,
            "metadata": {},
            "outputs": [],
            "source": []
        },
        {
            "cell_type": "code",
            "execution_count": null,
            "metadata": {},
            "outputs": [],
            "source": []
        }
    ],
    "metadata": {
        "kernelspec": {
            "display_name": "Python 3 (ipykernel)",
            "language": "python",
            "name": "python3"
        },
        "language_info": {
            "codemirror_mode": {
                "name": "ipython",
                "version": 3
            },
            "file_extension": ".py",
            "mimetype": "text/x-python",
            "name": "python",
            "nbconvert_exporter": "python",
            "pygments_lexer": "ipython3",
            "version": "3.9.13"
        }
    },
    "nbformat": 4,
    "nbformat_minor": 4
}
