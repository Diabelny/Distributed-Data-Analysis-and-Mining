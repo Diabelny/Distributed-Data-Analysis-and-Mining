{
 "cells": [
  {
   "cell_type": "code",
   "execution_count": 1,
   "id": "b8716d50-b478-4a91-897d-820a77bf7fcc",
   "metadata": {
    "tags": []
   },
   "outputs": [
    {
     "name": "stderr",
     "output_type": "stream",
     "text": [
      "Setting default log level to \"WARN\".\n",
      "To adjust logging level use sc.setLogLevel(newLevel). For SparkR, use setLogLevel(newLevel).\n",
      "23/12/16 18:03:15 WARN NativeCodeLoader: Unable to load native-hadoop library for your platform... using builtin-java classes where applicable\n",
      "23/12/16 18:03:40 WARN Utils: Service 'SparkUI' could not bind on port 4040. Attempting port 4041.\n"
     ]
    }
   ],
   "source": [
    "import pandas as pd\n",
    "import matplotlib.pyplot as plt\n",
    "import seaborn as sns\n",
    "from pyspark.ml.feature import StringIndexer,OneHotEncoder\n",
    "from pyspark.sql import SQLContext, SparkSession, Row\n",
    "from pyspark.mllib.stat import Statistics\n",
    "from pyspark.ml import Pipeline\n",
    "from pyspark.ml.feature import VectorAssembler, MinMaxScaler, StandardScaler\n",
    "from pyspark.sql.functions import col\n",
    "\n",
    "from pyspark.mllib.regression import LabeledPoint\n",
    "from pyspark.ml.linalg import Vectors\n",
    "\n",
    "spark = SparkSession.Builder().appName('DDAM_Project_south').getOrCreate()"
   ]
  },
  {
   "cell_type": "code",
   "execution_count": 2,
   "id": "e30b4d3b-df7a-4bee-a467-544f08278ae5",
   "metadata": {
    "tags": []
   },
   "outputs": [
    {
     "name": "stderr",
     "output_type": "stream",
     "text": [
      "                                                                                \r"
     ]
    }
   ],
   "source": [
    "df = spark.read.options(inferSchema = True, delimiter = ',', header = True).csv('../../Datasets/South_Incidents_Cleaned.csv')"
   ]
  },
  {
   "cell_type": "markdown",
   "id": "5ac6b24a-2be5-4b50-b7f5-d6f5e56abb43",
   "metadata": {},
   "source": [
    "Preparing data"
   ]
  },
  {
   "cell_type": "code",
   "execution_count": 3,
   "id": "702e7dce-ab7f-4442-86a3-93a40f4edabe",
   "metadata": {
    "tags": []
   },
   "outputs": [],
   "source": [
    "to_drop=['Start_Time','City','County','State','Wind_Direction','day_of_the_week','season']\n",
    "df_class=df.drop(*to_drop)\n",
    "#df_class.show()"
   ]
  },
  {
   "cell_type": "code",
   "execution_count": 4,
   "id": "966512f4-a4f4-46d7-9b21-afd873d725f6",
   "metadata": {
    "tags": []
   },
   "outputs": [],
   "source": [
    "colonne_booleane = ['Amenity', 'Bump', 'Crossing', 'Give_Way', 'Junction', 'No_Exit', 'Railway', 'Roundabout', 'Station', 'Stop', 'Traffic_Calming', 'Traffic_Signal']\n",
    "\n",
    "# Converti le colonne booleane in numeriche\n",
    "for col_name in colonne_booleane:\n",
    "    df_class = df_class.withColumn(col_name, col(col_name).cast(\"int\"))\n",
    "\n",
    "#df_class.show()\n"
   ]
  },
  {
   "cell_type": "code",
   "execution_count": 5,
   "id": "9f57bcb5-fd43-4b19-907b-48b7bf80c96a",
   "metadata": {
    "tags": []
   },
   "outputs": [],
   "source": [
    "from pyspark.sql.functions import when, count, isnull\n",
    "df_class = df_class.withColumn(\"Astronomical_Twilight\", when(df_class[\"Astronomical_Twilight\"] == 'Day', 0).otherwise(1))\n",
    "df_class = df_class.withColumn(\"Working_Weekend\", when(df_class[\"Working_Weekend\"] == 'WorkingDay', 0).otherwise(1))"
   ]
  },
  {
   "cell_type": "code",
   "execution_count": 6,
   "id": "2a35f8ff-3031-4c8d-8fae-4d23d57303d9",
   "metadata": {
    "tags": []
   },
   "outputs": [
    {
     "name": "stderr",
     "output_type": "stream",
     "text": [
      "                                                                                \r"
     ]
    }
   ],
   "source": [
    "indexer = StringIndexer(inputCol=\"Weather_Condition\", outputCol=\"Weather_Condition_Indexed\")\n",
    "df_class = indexer.fit(df_class).transform(df_class)"
   ]
  },
  {
   "cell_type": "code",
   "execution_count": 7,
   "id": "84c647bd-807e-4181-8607-d431fc9efb26",
   "metadata": {
    "tags": []
   },
   "outputs": [],
   "source": [
    "from pyspark.ml.feature import OneHotEncoder\n",
    "onehotencoder_vector = OneHotEncoder(inputCol=\"Weather_Condition_Indexed\", outputCol=\"Weather_Condition_1hot\")\n",
    "df_class = onehotencoder_vector.fit(df_class).transform(df_class)"
   ]
  },
  {
   "cell_type": "code",
   "execution_count": 11,
   "id": "0ad4079f-e565-43be-8885-b4f44a97baf3",
   "metadata": {
    "tags": []
   },
   "outputs": [
    {
     "name": "stdout",
     "output_type": "stream",
     "text": [
      "root\n",
      " |-- Severity: integer (nullable = true)\n",
      " |-- Start_Lat: double (nullable = true)\n",
      " |-- Start_Lng: double (nullable = true)\n",
      " |-- Distance_mi: double (nullable = true)\n",
      " |-- Temperature_F: double (nullable = true)\n",
      " |-- Humidity_perc: double (nullable = true)\n",
      " |-- Visibility_mi: double (nullable = true)\n",
      " |-- Wind_Speed_mph: double (nullable = true)\n",
      " |-- Precipitation_in: double (nullable = true)\n",
      " |-- Amenity: integer (nullable = true)\n",
      " |-- Bump: integer (nullable = true)\n",
      " |-- Crossing: integer (nullable = true)\n",
      " |-- Give_Way: integer (nullable = true)\n",
      " |-- Junction: integer (nullable = true)\n",
      " |-- No_Exit: integer (nullable = true)\n",
      " |-- Railway: integer (nullable = true)\n",
      " |-- Roundabout: integer (nullable = true)\n",
      " |-- Station: integer (nullable = true)\n",
      " |-- Stop: integer (nullable = true)\n",
      " |-- Traffic_Calming: integer (nullable = true)\n",
      " |-- Traffic_Signal: integer (nullable = true)\n",
      " |-- month: integer (nullable = true)\n",
      " |-- hour: integer (nullable = true)\n",
      " |-- Astronomical_Twilight: integer (nullable = false)\n",
      " |-- Weather_Condition: string (nullable = true)\n",
      " |-- Working_Weekend: integer (nullable = false)\n",
      " |-- Weather_Condition_Indexed: double (nullable = false)\n",
      " |-- Weather_Condition_1hot: vector (nullable = true)\n",
      "\n"
     ]
    }
   ],
   "source": [
    "df_class.printSchema()"
   ]
  },
  {
   "cell_type": "code",
   "execution_count": 8,
   "id": "e5a40165-12dc-47a3-be7e-ad3cc71e7508",
   "metadata": {
    "tags": []
   },
   "outputs": [],
   "source": [
    "df_class=df_class.drop('Weather_Condition')\n",
    "#df_class.show()\n"
   ]
  },
  {
   "cell_type": "code",
   "execution_count": 9,
   "id": "082598ba-47c6-4822-a601-9e5fb7e19f6a",
   "metadata": {
    "tags": []
   },
   "outputs": [],
   "source": [
    "df_class=df_class.drop('Weather_Condition_Indexed')"
   ]
  },
  {
   "cell_type": "code",
   "execution_count": 10,
   "id": "ad1c8e06-fc2b-41c8-baef-e23d46ea221b",
   "metadata": {
    "tags": []
   },
   "outputs": [
    {
     "name": "stdout",
     "output_type": "stream",
     "text": [
      "['Severity', 'Start_Lat', 'Start_Lng', 'Distance_mi', 'Temperature_F', 'Humidity_perc', 'Visibility_mi', 'Wind_Speed_mph', 'Precipitation_in', 'Amenity', 'Bump', 'Crossing', 'Give_Way', 'Junction', 'No_Exit', 'Railway', 'Roundabout', 'Station', 'Stop', 'Traffic_Calming', 'Traffic_Signal', 'month', 'hour', 'Astronomical_Twilight', 'Weather_Condition_1hot']\n"
     ]
    }
   ],
   "source": [
    "num_col = [item[0] for item in df_class.dtypes if not item[1].startswith('string')]\n",
    "num_col.remove(\"Working_Weekend\")\n",
    "print(num_col)"
   ]
  },
  {
   "cell_type": "code",
   "execution_count": 11,
   "id": "6abc26b3-ca47-4c19-be71-8e3e2b21c692",
   "metadata": {
    "tags": []
   },
   "outputs": [],
   "source": [
    "assembler = VectorAssembler(inputCols=num_col, outputCol=\"features\")\n",
    "\n",
    "output_dataset = assembler.transform(df_class)\n",
    "\n",
    "classificationData = output_dataset.select(\"features\", \"Working_Weekend\")\n",
    "\n",
    "#classificationData.show(truncate=False)"
   ]
  },
  {
   "cell_type": "code",
   "execution_count": 12,
   "id": "c27faf58-6217-4767-ae69-ef1c81d7ec2f",
   "metadata": {
    "tags": []
   },
   "outputs": [],
   "source": [
    "(trainingData, testData) = classificationData.randomSplit([0.7, 0.3],seed=0)"
   ]
  },
  {
   "cell_type": "code",
   "execution_count": 13,
   "id": "83fb88ae-dc8b-470e-95f0-422153693e04",
   "metadata": {
    "tags": []
   },
   "outputs": [
    {
     "name": "stderr",
     "output_type": "stream",
     "text": [
      "23/12/16 18:28:06 WARN SparkStringUtils: Truncated the string representation of a plan since it was too large. This behavior can be adjusted by setting 'spark.sql.debug.maxToStringFields'.\n",
      "[Stage 5:====================================================>      (8 + 1) / 9]\r"
     ]
    },
    {
     "name": "stdout",
     "output_type": "stream",
     "text": [
      "+---------------+-----+\n",
      "|Working_Weekend|Count|\n",
      "+---------------+-----+\n",
      "|              0|92154|\n",
      "|              1|21191|\n",
      "+---------------+-----+\n",
      "\n"
     ]
    },
    {
     "name": "stderr",
     "output_type": "stream",
     "text": [
      "                                                                                \r"
     ]
    }
   ],
   "source": [
    "from pyspark.sql import functions as F\n",
    "g=trainingData.groupBy('Working_Weekend').agg(F.count('Working_Weekend').alias('Count'))\n",
    "g=g.sort('Working_Weekend')\n",
    "g.show()"
   ]
  },
  {
   "cell_type": "code",
   "execution_count": 14,
   "id": "a90db763-0a66-4443-a276-568bfd100786",
   "metadata": {
    "tags": []
   },
   "outputs": [
    {
     "name": "stderr",
     "output_type": "stream",
     "text": [
      "                                                                                \r"
     ]
    }
   ],
   "source": [
    "g_p=g.toPandas()"
   ]
  },
  {
   "cell_type": "code",
   "execution_count": 38,
   "id": "2fc7b11f-4547-478c-9696-3bf12870f7cd",
   "metadata": {
    "tags": []
   },
   "outputs": [
    {
     "data": {
      "text/html": [
       "<div>\n",
       "<style scoped>\n",
       "    .dataframe tbody tr th:only-of-type {\n",
       "        vertical-align: middle;\n",
       "    }\n",
       "\n",
       "    .dataframe tbody tr th {\n",
       "        vertical-align: top;\n",
       "    }\n",
       "\n",
       "    .dataframe thead th {\n",
       "        text-align: right;\n",
       "    }\n",
       "</style>\n",
       "<table border=\"1\" class=\"dataframe\">\n",
       "  <thead>\n",
       "    <tr style=\"text-align: right;\">\n",
       "      <th></th>\n",
       "      <th>Working_Weekend</th>\n",
       "      <th>Count</th>\n",
       "    </tr>\n",
       "  </thead>\n",
       "  <tbody>\n",
       "    <tr>\n",
       "      <th>0</th>\n",
       "      <td>0</td>\n",
       "      <td>99125</td>\n",
       "    </tr>\n",
       "    <tr>\n",
       "      <th>1</th>\n",
       "      <td>1</td>\n",
       "      <td>22699</td>\n",
       "    </tr>\n",
       "  </tbody>\n",
       "</table>\n",
       "</div>"
      ],
      "text/plain": [
       "   Working_Weekend  Count\n",
       "0                0  99125\n",
       "1                1  22699"
      ]
     },
     "execution_count": 38,
     "metadata": {},
     "output_type": "execute_result"
    }
   ],
   "source": [
    "g_p"
   ]
  },
  {
   "cell_type": "code",
   "execution_count": 15,
   "id": "84d3a747-d795-4179-a58c-864c45d58b2e",
   "metadata": {},
   "outputs": [],
   "source": [
    "n_0=g_p.iloc[0,1]\n",
    "n_1=g_p.iloc[1,1]"
   ]
  },
  {
   "cell_type": "code",
   "execution_count": 19,
   "id": "f6954b70-bc3b-4ac4-8ada-55b287ece04b",
   "metadata": {
    "collapsed": true,
    "jupyter": {
     "outputs_hidden": true
    },
    "tags": []
   },
   "outputs": [
    {
     "name": "stderr",
     "output_type": "stream",
     "text": [
      "[Stage 17:>                                                         (0 + 1) / 1]\r"
     ]
    },
    {
     "name": "stdout",
     "output_type": "stream",
     "text": [
      "+--------------------+--------+\n",
      "|            features|Severity|\n",
      "+--------------------+--------+\n",
      "|(28,[0,1,2,3,4,5,...|       1|\n",
      "|(28,[0,1,2,3,4,5,...|       1|\n",
      "|(28,[0,1,2,3,4,5,...|       1|\n",
      "|(28,[0,1,2,3,4,5,...|       1|\n",
      "|(28,[0,1,2,3,4,5,...|       1|\n",
      "|(28,[0,1,2,3,4,5,...|       1|\n",
      "|(28,[0,1,2,3,4,5,...|       1|\n",
      "|(28,[0,1,2,3,4,5,...|       1|\n",
      "|(28,[0,1,2,3,4,5,...|       1|\n",
      "|(28,[0,1,2,3,4,5,...|       1|\n",
      "|(28,[0,1,2,3,4,5,...|       1|\n",
      "|(28,[0,1,2,3,4,5,...|       3|\n",
      "|(28,[0,1,2,3,4,5,...|       1|\n",
      "|(28,[0,1,2,3,4,5,...|       1|\n",
      "|(28,[0,1,2,3,4,5,...|       1|\n",
      "|(28,[0,1,2,3,4,5,...|       1|\n",
      "|(28,[0,1,2,3,4,5,...|       1|\n",
      "|(28,[0,1,2,3,4,5,...|       1|\n",
      "|(28,[0,1,2,3,4,5,...|       1|\n",
      "|(28,[0,1,2,3,4,5,...|       1|\n",
      "+--------------------+--------+\n",
      "only showing top 20 rows\n",
      "\n"
     ]
    },
    {
     "name": "stderr",
     "output_type": "stream",
     "text": [
      "                                                                                \r"
     ]
    }
   ],
   "source": [
    "trainingData.show()"
   ]
  },
  {
   "cell_type": "code",
   "execution_count": 18,
   "id": "4245c50d-c2fd-488f-9ced-38fb1f58a043",
   "metadata": {
    "collapsed": true,
    "jupyter": {
     "outputs_hidden": true
    },
    "tags": []
   },
   "outputs": [
    {
     "name": "stderr",
     "output_type": "stream",
     "text": [
      "[Stage 8:>                                                          (0 + 1) / 1]\r"
     ]
    },
    {
     "name": "stdout",
     "output_type": "stream",
     "text": [
      "+--------------------+--------+\n",
      "|            features|Severity|\n",
      "+--------------------+--------+\n",
      "|(28,[0,1,2,3,4,5,...|       2|\n",
      "|(28,[0,1,2,3,4,5,...|       2|\n",
      "|(28,[0,1,2,3,4,5,...|       2|\n",
      "|(28,[0,1,2,3,4,5,...|       2|\n",
      "|(28,[0,1,2,3,4,5,...|       2|\n",
      "|(28,[0,1,2,3,4,5,...|       2|\n",
      "|(28,[0,1,2,3,4,5,...|       2|\n",
      "|(28,[0,1,2,3,4,5,...|       2|\n",
      "|(28,[0,1,2,3,4,5,...|       2|\n",
      "|(28,[0,1,2,3,4,5,...|       2|\n",
      "|(28,[0,1,2,3,4,5,...|       2|\n",
      "|(28,[0,1,2,3,4,5,...|       2|\n",
      "|(28,[0,1,2,3,4,5,...|       2|\n",
      "|(28,[0,1,2,3,4,5,...|       2|\n",
      "|(28,[0,1,2,3,4,5,...|       2|\n",
      "|(28,[0,1,2,3,4,5,...|       2|\n",
      "|(28,[0,1,2,3,4,5,...|       2|\n",
      "|(28,[0,1,2,3,4,5,...|       2|\n",
      "|(28,[0,1,2,3,4,5,...|       2|\n",
      "|(28,[0,1,2,3,4,5,...|       2|\n",
      "+--------------------+--------+\n",
      "only showing top 20 rows\n",
      "\n"
     ]
    },
    {
     "name": "stderr",
     "output_type": "stream",
     "text": [
      "                                                                                \r"
     ]
    }
   ],
   "source": [
    "testData.show()"
   ]
  },
  {
   "cell_type": "markdown",
   "id": "2a8971ed-3197-4579-a9e4-98ebadfd648e",
   "metadata": {
    "tags": []
   },
   "source": [
    "### Decision Tree con iperparametri di default"
   ]
  },
  {
   "cell_type": "code",
   "execution_count": 16,
   "id": "1fb4beff-00ce-4c3c-b57f-45b63e56c0ea",
   "metadata": {
    "tags": []
   },
   "outputs": [],
   "source": [
    "from pyspark.ml.classification import DecisionTreeClassifier, RandomForestClassifier"
   ]
  },
  {
   "cell_type": "code",
   "execution_count": 17,
   "id": "11f20d63-46fb-4e37-bb3e-cfbfaf9ef5f5",
   "metadata": {
    "tags": []
   },
   "outputs": [
    {
     "name": "stderr",
     "output_type": "stream",
     "text": [
      "                                                                                \r"
     ]
    }
   ],
   "source": [
    "from pyspark.ml.classification import DecisionTreeClassifier, RandomForestClassifier\n",
    "\n",
    "dt = DecisionTreeClassifier(labelCol=\"Working_Weekend\", featuresCol=\"features\")\n",
    "\n",
    "dt = dt.fit(trainingData)"
   ]
  },
  {
   "cell_type": "code",
   "execution_count": 18,
   "id": "a093fb4a-18ea-4df0-9dfc-2da8d964a1d7",
   "metadata": {
    "tags": []
   },
   "outputs": [
    {
     "name": "stdout",
     "output_type": "stream",
     "text": [
      "Le features più importanti per la predizione sono :\n",
      "Astronomical_Twilight con un'importanza dello 0.6516322089424963\n",
      "Distance_mi con un'importanza dello 0.16180944969304478\n",
      "hour con un'importanza dello 0.14729992162759906\n",
      "month con un'importanza dello 0.023453752046478777\n",
      "Wind_Speed_mph con un'importanza dello 0.014413472179057226\n",
      "Start_Lat con un'importanza dello 0.000705199314751285\n",
      "Severity con un'importanza dello 0.0006859961965725239\n"
     ]
    }
   ],
   "source": [
    "feat_imp=dt.featureImportances\n",
    "from pyspark.ml.linalg import SparseVector\n",
    "non_zero_elements = [(index, value) for index, value in zip(feat_imp.indices, feat_imp.values) if value != 0]\n",
    "sorted_non_zero_elements = sorted(non_zero_elements, key=lambda x: x[1], reverse=True)\n",
    "print('Le features più importanti per la predizione sono :')\n",
    "for el in sorted_non_zero_elements:\n",
    "    if el[0]>=24:\n",
    "        print(num_col[len(num_col)-1], 'con un\\'importanza dello', el[1])\n",
    "    else:\n",
    "        print(num_col[el[0]], 'con un\\'importanza dello', el[1])"
   ]
  },
  {
   "cell_type": "code",
   "execution_count": 44,
   "id": "a7b35a31-c28e-4512-b349-5e928ad3cef2",
   "metadata": {
    "tags": []
   },
   "outputs": [
    {
     "name": "stderr",
     "output_type": "stream",
     "text": [
      "[Stage 70:>                                                         (0 + 1) / 1]\r"
     ]
    },
    {
     "name": "stdout",
     "output_type": "stream",
     "text": [
      "+--------------------+---------------+-----------------+--------------------+----------+\n",
      "|            features|Working_Weekend|    rawPrediction|         probability|prediction|\n",
      "+--------------------+---------------+-----------------+--------------------+----------+\n",
      "|(28,[0,1,2,3,4,5,...|              0|[58715.0,12616.0]|[0.82313440159257...|       0.0|\n",
      "|(28,[0,1,2,3,4,5,...|              1|  [8349.0,3805.0]|[0.68693434260325...|       0.0|\n",
      "|(28,[0,1,2,3,4,5,...|              0|[58715.0,12616.0]|[0.82313440159257...|       0.0|\n",
      "|(28,[0,1,2,3,4,5,...|              0|  [8349.0,3805.0]|[0.68693434260325...|       0.0|\n",
      "|(28,[0,1,2,3,4,5,...|              0|  [8349.0,3805.0]|[0.68693434260325...|       0.0|\n",
      "|(28,[0,1,2,3,4,5,...|              0|[58715.0,12616.0]|[0.82313440159257...|       0.0|\n",
      "|(28,[0,1,2,3,4,5,...|              0|[58715.0,12616.0]|[0.82313440159257...|       0.0|\n",
      "|(28,[0,1,2,3,4,5,...|              0|[58715.0,12616.0]|[0.82313440159257...|       0.0|\n",
      "|(28,[0,1,2,3,4,5,...|              1|[58715.0,12616.0]|[0.82313440159257...|       0.0|\n",
      "|(28,[0,1,2,3,4,5,...|              0|[58715.0,12616.0]|[0.82313440159257...|       0.0|\n",
      "|(28,[0,1,2,3,4,5,...|              0|[58715.0,12616.0]|[0.82313440159257...|       0.0|\n",
      "|(28,[0,1,2,3,4,5,...|              0|[58715.0,12616.0]|[0.82313440159257...|       0.0|\n",
      "|(28,[0,1,2,3,4,5,...|              0|[58715.0,12616.0]|[0.82313440159257...|       0.0|\n",
      "|(28,[0,1,2,3,4,5,...|              0|[58715.0,12616.0]|[0.82313440159257...|       0.0|\n",
      "|(28,[0,1,2,3,4,5,...|              0|[58715.0,12616.0]|[0.82313440159257...|       0.0|\n",
      "|(28,[0,1,2,3,4,5,...|              0|[58715.0,12616.0]|[0.82313440159257...|       0.0|\n",
      "|(28,[0,1,2,3,4,5,...|              0|[58715.0,12616.0]|[0.82313440159257...|       0.0|\n",
      "|(28,[0,1,2,3,4,5,...|              0|[58715.0,12616.0]|[0.82313440159257...|       0.0|\n",
      "|(28,[0,1,2,3,4,5,...|              0|[58715.0,12616.0]|[0.82313440159257...|       0.0|\n",
      "|(28,[0,1,2,3,4,5,...|              0|[58715.0,12616.0]|[0.82313440159257...|       0.0|\n",
      "+--------------------+---------------+-----------------+--------------------+----------+\n",
      "only showing top 20 rows\n",
      "\n"
     ]
    },
    {
     "name": "stderr",
     "output_type": "stream",
     "text": [
      "                                                                                \r"
     ]
    }
   ],
   "source": [
    "# Make predictions.\n",
    "predictions = dt.transform(testData)\n",
    "\n",
    "#predictions.show(20)"
   ]
  },
  {
   "cell_type": "code",
   "execution_count": 18,
   "id": "91b44cd8-7529-49a5-af00-380bdc786560",
   "metadata": {
    "tags": []
   },
   "outputs": [],
   "source": [
    "from pyspark.ml.evaluation import MulticlassClassificationEvaluator"
   ]
  },
  {
   "cell_type": "code",
   "execution_count": 45,
   "id": "7ce81b29-623d-4e09-8bbf-f521f7047cb0",
   "metadata": {
    "tags": []
   },
   "outputs": [
    {
     "name": "stderr",
     "output_type": "stream",
     "text": [
      "[Stage 71:===================>                                      (3 + 6) / 9]\r"
     ]
    },
    {
     "name": "stdout",
     "output_type": "stream",
     "text": [
      "0.8132653455402326\n",
      "Test Error = 0.186735\n"
     ]
    },
    {
     "name": "stderr",
     "output_type": "stream",
     "text": [
      "                                                                                \r"
     ]
    }
   ],
   "source": [
    "# Select (prediction, true label) and compute test error\n",
    "evaluator = MulticlassClassificationEvaluator(labelCol=\"Working_Weekend\"\n",
    "                                              , predictionCol=\"prediction\"\n",
    "                                              , metricName=\"accuracy\")\n",
    "\n",
    "accuracy = evaluator.evaluate(predictions)\n",
    "print(accuracy)\n",
    "print(\"Test Error = %g\" % (1.0 - accuracy))"
   ]
  },
  {
   "cell_type": "code",
   "execution_count": 47,
   "id": "2f220f02-68cc-4829-8399-88ac892c233b",
   "metadata": {
    "tags": []
   },
   "outputs": [
    {
     "name": "stderr",
     "output_type": "stream",
     "text": [
      "/opt/conda/lib/python3.10/site-packages/pyspark/sql/context.py:158: FutureWarning: Deprecated in 3.0.0. Use SparkSession.builder.getOrCreate() instead.\n",
      "  warnings.warn(\n",
      "[Stage 74:================================>                         (5 + 4) / 9]\r"
     ]
    },
    {
     "name": "stdout",
     "output_type": "stream",
     "text": [
      "Precision for class  0 : 81.41%\n",
      "Recall for class  0 : 99.80%\n",
      "avg_F1-Score for class  0 : 89.67%\n",
      "----------------------------\n",
      "Precision for class  1 : 62.67%\n",
      "Recall for class  1 : 1.45%\n",
      "avg_F1-Score for class  1 : 2.83%\n",
      "----------------------------\n",
      "[0.8967071945981752, 0.028341708542713565]\n",
      "----------------------\n",
      "avg_F1-Score: 46.25%\n"
     ]
    },
    {
     "name": "stderr",
     "output_type": "stream",
     "text": [
      "                                                                                \r"
     ]
    }
   ],
   "source": [
    "from pyspark.mllib.evaluation import MulticlassMetrics\n",
    "# Calcolare precision, recall e F1-score\n",
    "predictionAndLabels = predictions.select(\"prediction\", \"Working_Weekend\").rdd.map(lambda x: (float(x[0]), float(x[1])))\n",
    "metrics = MulticlassMetrics(predictionAndLabels)\n",
    "\n",
    "list_avg=[]\n",
    "for i in range(2):\n",
    "    precision = metrics.precision(label=float(i))  \n",
    "    recall = metrics.recall(label=float(i))\n",
    "    f1Score= metrics.fMeasure(label=float(i)) # need .0\n",
    "    print(\"Precision for class \",i,\": {:.2%}\".format(precision))\n",
    "    print(\"Recall for class \",i,\": {:.2%}\".format(recall))\n",
    "    print(\"avg_F1-Score for class \",i,\": {:.2%}\".format(f1Score))\n",
    "    list_avg.append(f1Score)\n",
    "    print('----------------------------')\n",
    "sum_=0\n",
    "print(list_avg)\n",
    "for elem in list_avg:\n",
    "    sum_+=elem\n",
    "\n",
    "avg_f1=sum_/2\n",
    "print('----------------------')\n",
    "\n",
    "print(\"avg_F1-Score: {:.2%}\".format(avg_f1))"
   ]
  },
  {
   "cell_type": "code",
   "execution_count": 48,
   "id": "46e59f24-30f9-4a54-acc5-f84a76db64e4",
   "metadata": {},
   "outputs": [
    {
     "data": {
      "text/plain": [
       "<Axes: >"
      ]
     },
     "execution_count": 48,
     "metadata": {},
     "output_type": "execute_result"
    },
    {
     "data": {
      "image/png": "[encoded data removed]",
      "text/plain": [
       "<Figure size 700x700 with 1 Axes>"
      ]
     },
     "metadata": {},
     "output_type": "display_data"
    }
   ],
   "source": [
    "import seaborn as sns\n",
    "import matplotlib.pyplot as plt\n",
    "\n",
    "labels = [\"0\", \"1\"]\n",
    "_ = plt.figure(figsize=(7, 7))\n",
    "sns.heatmap(metrics.confusionMatrix().toArray(),\n",
    "            cmap='viridis',\n",
    "            annot=True,fmt='0',\n",
    "            cbar=False, \n",
    "            xticklabels=labels, \n",
    "            yticklabels=labels)"
   ]
  },
  {
   "cell_type": "markdown",
   "id": "56e1d397-938b-4e7e-9d91-e78dd0a7622a",
   "metadata": {},
   "source": [
    "### Random Forest con iperparametri di default"
   ]
  },
  {
   "cell_type": "code",
   "execution_count": 19,
   "id": "ee8489e5-7794-4f03-af96-c83628ac1574",
   "metadata": {
    "tags": []
   },
   "outputs": [
    {
     "name": "stderr",
     "output_type": "stream",
     "text": [
      "[Stage 50:======================================>                   (6 + 3) / 9]\r"
     ]
    },
    {
     "name": "stdout",
     "output_type": "stream",
     "text": [
      "Test Accuracy = 0.808922\n"
     ]
    },
    {
     "name": "stderr",
     "output_type": "stream",
     "text": [
      "                                                                                \r"
     ]
    }
   ],
   "source": [
    "from pyspark.ml import Pipeline\n",
    "from pyspark.ml.classification import RandomForestClassifier\n",
    "from pyspark.ml.feature import IndexToString, StringIndexer, VectorIndexer\n",
    "from pyspark.ml.evaluation import MulticlassClassificationEvaluator\n",
    "from pyspark.mllib.evaluation import MulticlassMetrics\n",
    "\n",
    "# Train a RandomForest model.\n",
    "rf = RandomForestClassifier(labelCol=\"Working_Weekend\", featuresCol=\"features\", numTrees=10)\n",
    "\n",
    "\n",
    "# Train model.  This also runs the indexers.\n",
    "model = rf.fit(trainingData)\n",
    "\n",
    "# Make predictions.\n",
    "predictions = model.transform(testData)\n",
    "\n",
    "# Select example rows to display.\n",
    "#predictions.select(\"predictedLabel\", \"Severity\", \"features\").show(5)\n",
    "\n",
    "evaluator = MulticlassClassificationEvaluator(\n",
    "    labelCol=\"Working_Weekend\", predictionCol=\"prediction\", metricName=\"accuracy\")\n",
    "accuracy = evaluator.evaluate(predictions)\n",
    "print(\"Test Accuracy = %g\" % (accuracy))\n"
   ]
  },
  {
   "cell_type": "code",
   "execution_count": 20,
   "id": "45cc045e-1921-45c9-b6c1-84fcdc054ff2",
   "metadata": {
    "tags": []
   },
   "outputs": [
    {
     "name": "stdout",
     "output_type": "stream",
     "text": [
      "Le features più importanti per la predizione sono :\n",
      "Astronomical_Twilight con un'importanza dello 0.24696861750392327\n",
      "hour con un'importanza dello 0.24232734012243468\n",
      "Distance_mi con un'importanza dello 0.14087489066069997\n",
      "Severity con un'importanza dello 0.13704957310869798\n",
      "Temperature_F con un'importanza dello 0.043357837408349004\n",
      "month con un'importanza dello 0.041348681221712376\n",
      "Visibility_mi con un'importanza dello 0.04134299603194583\n",
      "Humidity_perc con un'importanza dello 0.027294771225511622\n",
      "Wind_Speed_mph con un'importanza dello 0.02433888251416505\n",
      "Start_Lat con un'importanza dello 0.023674940364242475\n",
      "Weather_Condition_1hot con un'importanza dello 0.010905742430964163\n",
      "Start_Lng con un'importanza dello 0.006455316272201579\n",
      "Precipitation_in con un'importanza dello 0.003974868890618247\n",
      "Railway con un'importanza dello 0.0034151520475359204\n",
      "Crossing con un'importanza dello 0.0027787799140622876\n",
      "Weather_Condition_1hot con un'importanza dello 0.002514243529732755\n",
      "Weather_Condition_1hot con un'importanza dello 0.0005911692694304492\n",
      "Traffic_Signal con un'importanza dello 0.00048360610307029446\n",
      "Weather_Condition_1hot con un'importanza dello 0.00015758556037542812\n",
      "Bump con un'importanza dello 0.00014500582032652825\n"
     ]
    }
   ],
   "source": [
    "feat_imp=model.featureImportances\n",
    "from pyspark.ml.linalg import SparseVector\n",
    "non_zero_elements = [(index, value) for index, value in zip(feat_imp.indices, feat_imp.values) if value != 0]\n",
    "sorted_non_zero_elements = sorted(non_zero_elements, key=lambda x: x[1], reverse=True)\n",
    "print('Le features più importanti per la predizione sono :')\n",
    "for el in sorted_non_zero_elements:\n",
    "    if el[0]>=24:\n",
    "        print(num_col[len(num_col)-1], 'con un\\'importanza dello', el[1])\n",
    "    else:\n",
    "        print(num_col[el[0]], 'con un\\'importanza dello', el[1])"
   ]
  },
  {
   "cell_type": "code",
   "execution_count": 77,
   "id": "0d9750a2-5098-4437-b03c-330f0d5940e7",
   "metadata": {
    "tags": []
   },
   "outputs": [
    {
     "name": "stderr",
     "output_type": "stream",
     "text": [
      "/opt/conda/lib/python3.10/site-packages/pyspark/sql/context.py:158: FutureWarning: Deprecated in 3.0.0. Use SparkSession.builder.getOrCreate() instead.\n",
      "  warnings.warn(\n",
      "[Stage 146:==================================================>      (8 + 1) / 9]\r"
     ]
    },
    {
     "name": "stdout",
     "output_type": "stream",
     "text": [
      "Precision for class  0 : 81.22%\n",
      "Recall for class  0 : 100.00%\n",
      "avg_F1-Score for class  0 : 89.64%\n",
      "----------------------------\n",
      "Precision for class  1 : 100.00%\n",
      "Recall for class  1 : 0.02%\n",
      "avg_F1-Score for class  1 : 0.04%\n",
      "----------------------------\n",
      "[0.8963664851152727, 0.0004112264829855043]\n",
      "----------------------\n",
      "avg_F1-Score: 44.84%\n"
     ]
    },
    {
     "name": "stderr",
     "output_type": "stream",
     "text": [
      "                                                                                \r"
     ]
    }
   ],
   "source": [
    "from pyspark.mllib.evaluation import MulticlassMetrics\n",
    "# Calcolare precision, recall e F1-score\n",
    "predictionAndLabels = predictions.select(\"prediction\", \"Working_Weekend\").rdd.map(lambda x: (float(x[0]), float(x[1])))\n",
    "metrics = MulticlassMetrics(predictionAndLabels)\n",
    "\n",
    "list_avg=[]\n",
    "for i in range(2):\n",
    "    precision = metrics.precision(label=float(i))  \n",
    "    recall = metrics.recall(label=float(i))\n",
    "    f1Score= metrics.fMeasure(label=float(i)) # need .0\n",
    "    print(\"Precision for class \",i,\": {:.2%}\".format(precision))\n",
    "    print(\"Recall for class \",i,\": {:.2%}\".format(recall))\n",
    "    print(\"avg_F1-Score for class \",i,\": {:.2%}\".format(f1Score))\n",
    "    list_avg.append(f1Score)\n",
    "    print('----------------------------')\n",
    "sum_=0\n",
    "print(list_avg)\n",
    "for elem in list_avg:\n",
    "    sum_+=elem\n",
    "\n",
    "avg_f1=sum_/2\n",
    "print('----------------------')\n",
    "\n",
    "print(\"avg_F1-Score: {:.2%}\".format(avg_f1))"
   ]
  },
  {
   "cell_type": "code",
   "execution_count": 78,
   "id": "79d09829-6e35-4cd0-a6a8-45923b94e75c",
   "metadata": {},
   "outputs": [
    {
     "data": {
      "text/plain": [
       "<Axes: >"
      ]
     },
     "execution_count": 78,
     "metadata": {},
     "output_type": "execute_result"
    },
    {
     "data": {
      "image/png": "[encoded data removed]",
      "text/plain": [
       "<Figure size 700x700 with 1 Axes>"
      ]
     },
     "metadata": {},
     "output_type": "display_data"
    },
    {
     "name": "stderr",
     "output_type": "stream",
     "text": [
      "----------------------------------------\n",
      "Exception occurred during processing of request from ('127.0.0.1', 47712)\n",
      "Traceback (most recent call last):\n",
      "  File \"/opt/conda/lib/python3.10/socketserver.py\", line 316, in _handle_request_noblock\n",
      "    self.process_request(request, client_address)\n",
      "  File \"/opt/conda/lib/python3.10/socketserver.py\", line 347, in process_request\n",
      "    self.finish_request(request, client_address)\n",
      "  File \"/opt/conda/lib/python3.10/socketserver.py\", line 360, in finish_request\n",
      "    self.RequestHandlerClass(request, client_address, self)\n",
      "  File \"/opt/conda/lib/python3.10/socketserver.py\", line 747, in __init__\n",
      "    self.handle()\n",
      "  File \"/opt/conda/lib/python3.10/site-packages/pyspark/accumulators.py\", line 295, in handle\n",
      "    poll(accum_updates)\n",
      "  File \"/opt/conda/lib/python3.10/site-packages/pyspark/accumulators.py\", line 267, in poll\n",
      "    if self.rfile in r and func():\n",
      "  File \"/opt/conda/lib/python3.10/site-packages/pyspark/accumulators.py\", line 271, in accum_updates\n",
      "    num_updates = read_int(self.rfile)\n",
      "  File \"/opt/conda/lib/python3.10/site-packages/pyspark/serializers.py\", line 596, in read_int\n",
      "    raise EOFError\n",
      "EOFError\n",
      "----------------------------------------\n"
     ]
    }
   ],
   "source": [
    "import seaborn as sns\n",
    "import matplotlib.pyplot as plt\n",
    "\n",
    "labels = [\"0\", \"1\"]\n",
    "_ = plt.figure(figsize=(7, 7))\n",
    "sns.heatmap(metrics.confusionMatrix().toArray(),\n",
    "            cmap='viridis',\n",
    "            annot=True,fmt='0',\n",
    "            cbar=False, \n",
    "            xticklabels=labels, \n",
    "            yticklabels=labels)"
   ]
  },
  {
   "cell_type": "markdown",
   "id": "12130861-a09e-4334-8b9b-f685feff7271",
   "metadata": {},
   "source": [
    "### Hyperparameter Tuning Decision Tree"
   ]
  },
  {
   "cell_type": "code",
   "execution_count": 21,
   "id": "1b478f73-02e8-48ba-99a8-203805160b31",
   "metadata": {
    "tags": []
   },
   "outputs": [],
   "source": [
    "from pyspark.ml.evaluation import MulticlassClassificationEvaluator\n",
    "from pyspark.ml.tuning import ParamGridBuilder, CrossValidator\n",
    "from pyspark.mllib.evaluation import MulticlassMetrics\n",
    "from pyspark.ml.evaluation import MulticlassClassificationEvaluator\n",
    "from pyspark.mllib.evaluation import MulticlassMetrics\n",
    "import seaborn as sns\n",
    "import matplotlib.pyplot as plt"
   ]
  },
  {
   "cell_type": "code",
   "execution_count": 22,
   "id": "891dba5a-9d97-46d2-957e-3946af9ae88c",
   "metadata": {
    "tags": []
   },
   "outputs": [
    {
     "name": "stderr",
     "output_type": "stream",
     "text": [
      "                                                                                \r"
     ]
    }
   ],
   "source": [
    "n=trainingData.count()"
   ]
  },
  {
   "cell_type": "code",
   "execution_count": 23,
   "id": "d4a01fd0-6945-4474-996b-01007cacce39",
   "metadata": {
    "tags": []
   },
   "outputs": [],
   "source": [
    "max_depth=[5,15,25]\n",
    "max_bins=[32,64]\n",
    "min_inst=[round(0.005*n),round(0.02*n)]\n",
    "impurity=['entropy', 'gini']\n",
    "# Creiamo la colonna 'weights' basata sulla frequenza delle classi\n",
    "trainingData_w = trainingData.withColumn(\"weights\", when(trainingData[\"Working_Weekend\"] == 0 , 1)#Calcolo del peso per la classe 0\n",
    "    .when(trainingData[\"Working_Weekend\"] == 1, n_0/n_1)  # Calcolo del peso per la classe 1\n",
    "\n",
    ")\n"
   ]
  },
  {
   "cell_type": "code",
   "execution_count": 24,
   "id": "24ef2eea-08a7-492f-ab4c-766b34ddb1b0",
   "metadata": {
    "collapsed": true,
    "jupyter": {
     "outputs_hidden": true
    },
    "tags": []
   },
   "outputs": [
    {
     "name": "stderr",
     "output_type": "stream",
     "text": [
      "                                                                                \r"
     ]
    },
    {
     "name": "stdout",
     "output_type": "stream",
     "text": [
      "0.8146560049445668\n",
      "Test Error = 0.185344\n"
     ]
    },
    {
     "name": "stderr",
     "output_type": "stream",
     "text": [
      "/opt/conda/lib/python3.10/site-packages/pyspark/sql/context.py:158: FutureWarning: Deprecated in 3.0.0. Use SparkSession.builder.getOrCreate() instead.\n",
      "  warnings.warn(\n",
      "[Stage 49:>                                                         (0 + 9) / 9]\r"
     ]
    },
    {
     "name": "stdout",
     "output_type": "stream",
     "text": [
      "Precision for class  0 : 81.94%\n",
      "Recall for class  0 : 99.00%\n",
      "avg_F1-Score for class  0 : 89.67%\n",
      "----------------------------\n",
      "Precision for class  1 : 56.67%\n",
      "Recall for class  1 : 5.63%\n",
      "avg_F1-Score for class  1 : 10.25%\n",
      "----------------------------\n",
      "[0.8966571896269493, 0.1025065469509914]\n",
      "----------------------\n",
      "avg_F1-Score: 49.96%\n"
     ]
    },
    {
     "name": "stderr",
     "output_type": "stream",
     "text": [
      "                                                                                \r"
     ]
    },
    {
     "data": {
      "text/plain": [
       "<Axes: >"
      ]
     },
     "execution_count": 24,
     "metadata": {},
     "output_type": "execute_result"
    },
    {
     "data": {
      "image/png": "[encoded data removed]",
      "text/plain": [
       "<Figure size 700x700 with 1 Axes>"
      ]
     },
     "metadata": {},
     "output_type": "display_data"
    }
   ],
   "source": [
    "dt = DecisionTreeClassifier(labelCol=\"Working_Weekend\", featuresCol=\"features\", maxDepth=10, maxBins=64, \n",
    "                            minInstancesPerNode=round(0.005*n), impurity='entropy')\n",
    "dt = dt.fit(trainingData)\n",
    "predictions = dt.transform(testData)\n",
    "# Select (prediction, true label) and compute test error\n",
    "evaluator = MulticlassClassificationEvaluator(labelCol=\"Working_Weekend\"\n",
    "                                              , predictionCol=\"prediction\"\n",
    "                                              , metricName=\"accuracy\")\n",
    "\n",
    "accuracy = evaluator.evaluate(predictions)\n",
    "print(accuracy)\n",
    "print(\"Test Error = %g\" % (1.0 - accuracy))\n",
    "\n",
    "# Calcolare precision, recall e F1-score\n",
    "predictionAndLabels = predictions.select(\"prediction\", \"Working_Weekend\").rdd.map(lambda x: (float(x[0]), float(x[1])))\n",
    "metrics = MulticlassMetrics(predictionAndLabels)\n",
    "\n",
    "list_avg=[]\n",
    "for i in range(2):\n",
    "    precision = metrics.precision(label=float(i))  \n",
    "    recall = metrics.recall(label=float(i))\n",
    "    f1Score= metrics.fMeasure(label=float(i)) # need .0\n",
    "    print(\"Precision for class \",i,\": {:.2%}\".format(precision))\n",
    "    print(\"Recall for class \",i,\": {:.2%}\".format(recall))\n",
    "    print(\"avg_F1-Score for class \",i,\": {:.2%}\".format(f1Score))\n",
    "    list_avg.append(f1Score)\n",
    "    print('----------------------------')\n",
    "sum_=0\n",
    "print(list_avg)\n",
    "for elem in list_avg:\n",
    "    sum_+=elem\n",
    "\n",
    "avg_f1=sum_/2\n",
    "print('----------------------')\n",
    "\n",
    "print(\"avg_F1-Score: {:.2%}\".format(avg_f1))\n",
    "\n",
    "labels = [\"0\", \"1\"]\n",
    "_ = plt.figure(figsize=(7, 7))\n",
    "sns.heatmap(metrics.confusionMatrix().toArray(),\n",
    "            cmap='viridis',\n",
    "            annot=True,fmt='0',\n",
    "            cbar=False, \n",
    "            xticklabels=labels, \n",
    "            yticklabels=labels)"
   ]
  },
  {
   "cell_type": "code",
   "execution_count": 26,
   "id": "957a671e-4eca-458b-aab4-40107aac71ec",
   "metadata": {
    "tags": []
   },
   "outputs": [
    {
     "name": "stdout",
     "output_type": "stream",
     "text": [
      "Le features più importanti per la predizione sono :\n",
      "Astronomical_Twilight con un'importanza dello 0.39674769296160967\n",
      "hour con un'importanza dello 0.32836379986942116\n",
      "Distance_mi con un'importanza dello 0.10371155524226432\n",
      "Humidity_perc con un'importanza dello 0.05484820355043007\n",
      "Temperature_F con un'importanza dello 0.05129234236474299\n",
      "Severity con un'importanza dello 0.04315345507201346\n",
      "Start_Lng con un'importanza dello 0.010359151214266319\n",
      "Start_Lat con un'importanza dello 0.007796942498625501\n",
      "month con un'importanza dello 0.003726857226626541\n"
     ]
    }
   ],
   "source": [
    "feat_imp=dt.featureImportances\n",
    "from pyspark.ml.linalg import SparseVector\n",
    "non_zero_elements = [(index, value) for index, value in zip(feat_imp.indices, feat_imp.values) if value != 0]\n",
    "sorted_non_zero_elements = sorted(non_zero_elements, key=lambda x: x[1], reverse=True)\n",
    "print('Le features più importanti per la predizione sono :')\n",
    "for el in sorted_non_zero_elements:\n",
    "    if el[0]>=24:\n",
    "        print(num_col[len(num_col)-1], 'con un\\'importanza dello', el[1])\n",
    "    else:\n",
    "        print(num_col[el[0]], 'con un\\'importanza dello', el[1])"
   ]
  },
  {
   "cell_type": "code",
   "execution_count": 25,
   "id": "4c7d9f09-3603-4b9a-8558-556037e952f5",
   "metadata": {
    "tags": []
   },
   "outputs": [
    {
     "name": "stderr",
     "output_type": "stream",
     "text": [
      "                                                                                \r"
     ]
    },
    {
     "name": "stdout",
     "output_type": "stream",
     "text": [
      "0.8121644068451346\n",
      "Test Error = 0.187836\n"
     ]
    },
    {
     "name": "stderr",
     "output_type": "stream",
     "text": [
      "/opt/conda/lib/python3.10/site-packages/pyspark/sql/context.py:158: FutureWarning: Deprecated in 3.0.0. Use SparkSession.builder.getOrCreate() instead.\n",
      "  warnings.warn(\n",
      "[Stage 85:======================================>                   (6 + 3) / 9]\r"
     ]
    },
    {
     "name": "stdout",
     "output_type": "stream",
     "text": [
      "Precision for class  0 : 81.22%\n",
      "Recall for class  0 : 100.00%\n",
      "avg_F1-Score for class  0 : 89.63%\n",
      "----------------------------\n",
      "Precision for class  1 : 0.00%\n",
      "Recall for class  1 : 0.00%\n",
      "avg_F1-Score for class  1 : 0.00%\n",
      "----------------------------\n",
      "[0.8963473775087132, 0.0]\n",
      "----------------------\n",
      "avg_F1-Score: 44.82%\n"
     ]
    },
    {
     "name": "stderr",
     "output_type": "stream",
     "text": [
      "                                                                                \r"
     ]
    },
    {
     "data": {
      "text/plain": [
       "<Axes: >"
      ]
     },
     "execution_count": 25,
     "metadata": {},
     "output_type": "execute_result"
    },
    {
     "data": {
      "image/png": "[encoded data removed]",
      "text/plain": [
       "<Figure size 700x700 with 1 Axes>"
      ]
     },
     "metadata": {},
     "output_type": "display_data"
    }
   ],
   "source": [
    "dt = DecisionTreeClassifier(labelCol=\"Working_Weekend\", featuresCol=\"features\", maxDepth=15, maxBins=32, \n",
    "                            minInstancesPerNode=round(0.02*n))\n",
    "dt = dt.fit(trainingData)\n",
    "predictions = dt.transform(testData)\n",
    "# Select (prediction, true label) and compute test error\n",
    "evaluator = MulticlassClassificationEvaluator(labelCol=\"Working_Weekend\"\n",
    "                                              , predictionCol=\"prediction\"\n",
    "                                              , metricName=\"accuracy\")\n",
    "\n",
    "accuracy = evaluator.evaluate(predictions)\n",
    "print(accuracy)\n",
    "print(\"Test Error = %g\" % (1.0 - accuracy))\n",
    "\n",
    "# Calcolare precision, recall e F1-score\n",
    "predictionAndLabels = predictions.select(\"prediction\", \"Working_Weekend\").rdd.map(lambda x: (float(x[0]), float(x[1])))\n",
    "metrics = MulticlassMetrics(predictionAndLabels)\n",
    "\n",
    "list_avg=[]\n",
    "for i in range(2):\n",
    "    precision = metrics.precision(label=float(i))  \n",
    "    recall = metrics.recall(label=float(i))\n",
    "    f1Score= metrics.fMeasure(label=float(i)) # need .0\n",
    "    print(\"Precision for class \",i,\": {:.2%}\".format(precision))\n",
    "    print(\"Recall for class \",i,\": {:.2%}\".format(recall))\n",
    "    print(\"avg_F1-Score for class \",i,\": {:.2%}\".format(f1Score))\n",
    "    list_avg.append(f1Score)\n",
    "    print('----------------------------')\n",
    "sum_=0\n",
    "print(list_avg)\n",
    "for elem in list_avg:\n",
    "    sum_+=elem\n",
    "\n",
    "avg_f1=sum_/2\n",
    "print('----------------------')\n",
    "\n",
    "print(\"avg_F1-Score: {:.2%}\".format(avg_f1))\n",
    "\n",
    "labels = [\"0\", \"1\"]\n",
    "_ = plt.figure(figsize=(7, 7))\n",
    "sns.heatmap(metrics.confusionMatrix().toArray(),\n",
    "            cmap='viridis',\n",
    "            annot=True,fmt='0',\n",
    "            cbar=False, \n",
    "            xticklabels=labels, \n",
    "            yticklabels=labels)"
   ]
  },
  {
   "cell_type": "code",
   "execution_count": 36,
   "id": "96cbe5a3-44a8-4d5c-8b6c-a0701e755f05",
   "metadata": {
    "tags": []
   },
   "outputs": [
    {
     "name": "stdout",
     "output_type": "stream",
     "text": [
      "Le features più importanti per la predizione sono :\n"
     ]
    }
   ],
   "source": [
    "feat_imp=dt.featureImportances\n",
    "from pyspark.ml.linalg import SparseVector\n",
    "non_zero_elements = [(index, value) for index, value in zip(feat_imp.indices, feat_imp.values) if value != 0]\n",
    "sorted_non_zero_elements = sorted(non_zero_elements, key=lambda x: x[1], reverse=True)\n",
    "print('Le features più importanti per la predizione sono :')\n",
    "for el in sorted_non_zero_elements:\n",
    "    print(num_col[el[0]], 'con un\\'importanza dello', el[1])"
   ]
  },
  {
   "cell_type": "code",
   "execution_count": 26,
   "id": "4c8db50b-f5a9-49e5-a576-832bb5269b69",
   "metadata": {
    "tags": []
   },
   "outputs": [
    {
     "name": "stderr",
     "output_type": "stream",
     "text": [
      "                                                                                \r"
     ]
    },
    {
     "name": "stdout",
     "output_type": "stream",
     "text": [
      "0.8146560049445668\n",
      "Test Error = 0.185344\n"
     ]
    },
    {
     "name": "stderr",
     "output_type": "stream",
     "text": [
      "/opt/conda/lib/python3.10/site-packages/pyspark/sql/context.py:158: FutureWarning: Deprecated in 3.0.0. Use SparkSession.builder.getOrCreate() instead.\n",
      "  warnings.warn(\n",
      "[Stage 137:======================================>                  (6 + 3) / 9]\r"
     ]
    },
    {
     "name": "stdout",
     "output_type": "stream",
     "text": [
      "Precision for class  0 : 81.94%\n",
      "Recall for class  0 : 99.00%\n",
      "avg_F1-Score for class  0 : 89.67%\n",
      "----------------------------\n",
      "Precision for class  1 : 56.67%\n",
      "Recall for class  1 : 5.63%\n",
      "avg_F1-Score for class  1 : 10.25%\n",
      "----------------------------\n",
      "[0.8966571896269493, 0.1025065469509914]\n",
      "----------------------\n",
      "avg_F1-Score: 49.96%\n"
     ]
    },
    {
     "name": "stderr",
     "output_type": "stream",
     "text": [
      "                                                                                \r"
     ]
    },
    {
     "data": {
      "text/plain": [
       "<Axes: >"
      ]
     },
     "execution_count": 26,
     "metadata": {},
     "output_type": "execute_result"
    },
    {
     "data": {
      "image/png": "[encoded data removed]",
      "text/plain": [
       "<Figure size 700x700 with 1 Axes>"
      ]
     },
     "metadata": {},
     "output_type": "display_data"
    }
   ],
   "source": [
    "dt = DecisionTreeClassifier(labelCol=\"Working_Weekend\", featuresCol=\"features\", maxDepth=25, maxBins=64,\n",
    "                            minInstancesPerNode=round(0.005*n), impurity='entropy' )\n",
    "dt = dt.fit(trainingData)\n",
    "predictions = dt.transform(testData)\n",
    "# Select (prediction, true label) and compute test error\n",
    "evaluator = MulticlassClassificationEvaluator(labelCol=\"Working_Weekend\"\n",
    "                                              , predictionCol=\"prediction\"\n",
    "                                              , metricName=\"accuracy\")\n",
    "\n",
    "accuracy = evaluator.evaluate(predictions)\n",
    "print(accuracy)\n",
    "print(\"Test Error = %g\" % (1.0 - accuracy))\n",
    "\n",
    "# Calcolare precision, recall e F1-score\n",
    "predictionAndLabels = predictions.select(\"prediction\", \"Working_Weekend\").rdd.map(lambda x: (float(x[0]), float(x[1])))\n",
    "metrics = MulticlassMetrics(predictionAndLabels)\n",
    "\n",
    "list_avg=[]\n",
    "for i in range(2):\n",
    "    precision = metrics.precision(label=float(i))  \n",
    "    recall = metrics.recall(label=float(i))\n",
    "    f1Score= metrics.fMeasure(label=float(i)) # need .0\n",
    "    print(\"Precision for class \",i,\": {:.2%}\".format(precision))\n",
    "    print(\"Recall for class \",i,\": {:.2%}\".format(recall))\n",
    "    print(\"avg_F1-Score for class \",i,\": {:.2%}\".format(f1Score))\n",
    "    list_avg.append(f1Score)\n",
    "    print('----------------------------')\n",
    "sum_=0\n",
    "print(list_avg)\n",
    "for elem in list_avg:\n",
    "    sum_+=elem\n",
    "\n",
    "avg_f1=sum_/2\n",
    "print('----------------------')\n",
    "\n",
    "print(\"avg_F1-Score: {:.2%}\".format(avg_f1))\n",
    "\n",
    "labels = [\"0\", \"1\"]\n",
    "_ = plt.figure(figsize=(7, 7))\n",
    "sns.heatmap(metrics.confusionMatrix().toArray(),\n",
    "            cmap='viridis',\n",
    "            annot=True,fmt='0',\n",
    "            cbar=False, \n",
    "            xticklabels=labels, \n",
    "            yticklabels=labels)"
   ]
  },
  {
   "cell_type": "code",
   "execution_count": 34,
   "id": "9e3ce890-cdad-4182-8e13-0ba30b00d1f2",
   "metadata": {
    "tags": []
   },
   "outputs": [
    {
     "name": "stdout",
     "output_type": "stream",
     "text": [
      "Le features più importanti per la predizione sono :\n",
      "Astronomical_Twilight con un'importanza dello 0.39674769296160967\n",
      "hour con un'importanza dello 0.32836379986942116\n",
      "Distance_mi con un'importanza dello 0.10371155524226432\n",
      "Humidity_perc con un'importanza dello 0.05484820355043007\n",
      "Temperature_F con un'importanza dello 0.05129234236474299\n",
      "Severity con un'importanza dello 0.04315345507201346\n",
      "Start_Lng con un'importanza dello 0.010359151214266319\n",
      "Start_Lat con un'importanza dello 0.007796942498625501\n",
      "month con un'importanza dello 0.003726857226626541\n"
     ]
    }
   ],
   "source": [
    "feat_imp=dt.featureImportances\n",
    "from pyspark.ml.linalg import SparseVector\n",
    "non_zero_elements = [(index, value) for index, value in zip(feat_imp.indices, feat_imp.values) if value != 0]\n",
    "sorted_non_zero_elements = sorted(non_zero_elements, key=lambda x: x[1], reverse=True)\n",
    "print('Le features più importanti per la predizione sono :')\n",
    "for el in sorted_non_zero_elements:\n",
    "    print(num_col[el[0]], 'con un\\'importanza dello', el[1])"
   ]
  },
  {
   "cell_type": "code",
   "execution_count": 28,
   "id": "a5c44da2-f8d0-4c08-9442-baf39ec3ee7d",
   "metadata": {
    "tags": []
   },
   "outputs": [
    {
     "name": "stderr",
     "output_type": "stream",
     "text": [
      "                                                                                \r"
     ]
    },
    {
     "name": "stdout",
     "output_type": "stream",
     "text": [
      "0.6118901379070576\n",
      "Test Error = 0.38811\n"
     ]
    },
    {
     "name": "stderr",
     "output_type": "stream",
     "text": [
      "/opt/conda/lib/python3.10/site-packages/pyspark/sql/context.py:158: FutureWarning: Deprecated in 3.0.0. Use SparkSession.builder.getOrCreate() instead.\n",
      "  warnings.warn(\n",
      "                                                                                \r"
     ]
    },
    {
     "name": "stdout",
     "output_type": "stream",
     "text": [
      "Precision for class  0 : 88.58%\n",
      "Recall for class  0 : 59.94%\n",
      "avg_F1-Score for class  0 : 71.50%\n",
      "----------------------------\n",
      "Precision for class  1 : 27.77%\n",
      "Recall for class  1 : 66.60%\n",
      "avg_F1-Score for class  1 : 39.20%\n",
      "----------------------------\n",
      "[0.7149787234042553, 0.39197530864197533]\n",
      "----------------------\n",
      "avg_F1-Score: 55.35%\n"
     ]
    },
    {
     "data": {
      "text/plain": [
       "<Axes: >"
      ]
     },
     "execution_count": 28,
     "metadata": {},
     "output_type": "execute_result"
    },
    {
     "data": {
      "image/png": "[encoded data removed]",
      "text/plain": [
       "<Figure size 700x700 with 1 Axes>"
      ]
     },
     "metadata": {},
     "output_type": "display_data"
    }
   ],
   "source": [
    "trainingData_w = trainingData.withColumn(\"weights\", when(trainingData[\"Working_Weekend\"] == 0 , 1)#Calcolo del peso per la classe 0\n",
    "    .when(trainingData[\"Working_Weekend\"] == 1, n_0/n_1)  # Calcolo del peso per la classe 1\n",
    "\n",
    ")\n",
    "\n",
    "dt = DecisionTreeClassifier(labelCol=\"Working_Weekend\", featuresCol=\"features\", maxDepth=10, maxBins=32, \n",
    "                            minInstancesPerNode=round(0.02*n), weightCol='weights')\n",
    "dt = dt.fit(trainingData_w)\n",
    "predictions = dt.transform(testData)\n",
    "# Select (prediction, true label) and compute test error\n",
    "evaluator = MulticlassClassificationEvaluator(labelCol=\"Working_Weekend\"\n",
    "                                              , predictionCol=\"prediction\"\n",
    "                                              , metricName=\"accuracy\")\n",
    "\n",
    "accuracy = evaluator.evaluate(predictions)\n",
    "print(accuracy)\n",
    "print(\"Test Error = %g\" % (1.0 - accuracy))\n",
    "\n",
    "# Calcolare precision, recall e F1-score\n",
    "predictionAndLabels = predictions.select(\"prediction\", \"Working_Weekend\").rdd.map(lambda x: (float(x[0]), float(x[1])))\n",
    "metrics = MulticlassMetrics(predictionAndLabels)\n",
    "\n",
    "list_avg=[]\n",
    "for i in range(2):\n",
    "    precision = metrics.precision(label=float(i))  \n",
    "    recall = metrics.recall(label=float(i))\n",
    "    f1Score= metrics.fMeasure(label=float(i)) # need .0\n",
    "    print(\"Precision for class \",i,\": {:.2%}\".format(precision))\n",
    "    print(\"Recall for class \",i,\": {:.2%}\".format(recall))\n",
    "    print(\"avg_F1-Score for class \",i,\": {:.2%}\".format(f1Score))\n",
    "    list_avg.append(f1Score)\n",
    "    print('----------------------------')\n",
    "sum_=0\n",
    "print(list_avg)\n",
    "for elem in list_avg:\n",
    "    sum_+=elem\n",
    "\n",
    "avg_f1=sum_/2\n",
    "print('----------------------')\n",
    "\n",
    "print(\"avg_F1-Score: {:.2%}\".format(avg_f1))\n",
    "\n",
    "labels = [\"0\", \"1\"]\n",
    "_ = plt.figure(figsize=(7, 7))\n",
    "sns.heatmap(metrics.confusionMatrix().toArray(),\n",
    "            cmap='viridis',\n",
    "            annot=True,fmt='0',\n",
    "            cbar=False, \n",
    "            xticklabels=labels, \n",
    "            yticklabels=labels)"
   ]
  },
  {
   "cell_type": "code",
   "execution_count": 38,
   "id": "0a274388-fc37-4f12-a728-e862298f30f2",
   "metadata": {
    "tags": []
   },
   "outputs": [
    {
     "name": "stdout",
     "output_type": "stream",
     "text": [
      "Le features più importanti per la predizione sono :\n",
      "hour con un'importanza dello 0.4180572181839158\n",
      "Astronomical_Twilight con un'importanza dello 0.3658356693882028\n",
      "Distance_mi con un'importanza dello 0.06957409259532209\n",
      "Severity con un'importanza dello 0.03923707455152482\n",
      "Humidity_perc con un'importanza dello 0.037652383430681786\n",
      "Temperature_F con un'importanza dello 0.0259586025040222\n",
      "Wind_Speed_mph con un'importanza dello 0.012531048376619055\n",
      "Start_Lat con un'importanza dello 0.011451612559550267\n",
      "Start_Lng con un'importanza dello 0.010977080148193591\n",
      "month con un'importanza dello 0.008725218261967666\n"
     ]
    }
   ],
   "source": [
    "feat_imp=dt.featureImportances\n",
    "from pyspark.ml.linalg import SparseVector\n",
    "non_zero_elements = [(index, value) for index, value in zip(feat_imp.indices, feat_imp.values) if value != 0]\n",
    "sorted_non_zero_elements = sorted(non_zero_elements, key=lambda x: x[1], reverse=True)\n",
    "print('Le features più importanti per la predizione sono :')\n",
    "for el in sorted_non_zero_elements:\n",
    "    print(num_col[el[0]], 'con un\\'importanza dello', el[1])"
   ]
  },
  {
   "cell_type": "code",
   "execution_count": 32,
   "id": "5a56e47f-a8d3-4099-a695-1c22209cc65d",
   "metadata": {
    "tags": []
   },
   "outputs": [
    {
     "name": "stderr",
     "output_type": "stream",
     "text": [
      "/opt/conda/lib/python3.10/site-packages/pyspark/sql/context.py:158: FutureWarning: Deprecated in 3.0.0. Use SparkSession.builder.getOrCreate() instead.\n",
      "  warnings.warn(\n"
     ]
    },
    {
     "name": "stdout",
     "output_type": "stream",
     "text": [
      "0.8134584926797234\n",
      "Test Error = 0.186542\n"
     ]
    },
    {
     "name": "stderr",
     "output_type": "stream",
     "text": [
      "[Stage 377:======================================>                  (6 + 3) / 9]\r"
     ]
    },
    {
     "name": "stdout",
     "output_type": "stream",
     "text": [
      "Precision for class  0 : 82.44%\n",
      "Recall for class  0 : 97.89%\n",
      "avg_F1-Score for class  0 : 89.50%\n",
      "----------------------------\n",
      "Precision for class  1 : 51.82%\n",
      "Recall for class  1 : 9.83%\n",
      "avg_F1-Score for class  1 : 16.53%\n",
      "----------------------------\n",
      "[0.8949966296288242, 0.16525496974935178]\n",
      "----------------------\n",
      "avg_F1-Score: 53.01%\n"
     ]
    },
    {
     "name": "stderr",
     "output_type": "stream",
     "text": [
      "                                                                                \r"
     ]
    },
    {
     "data": {
      "text/plain": [
       "<Axes: >"
      ]
     },
     "execution_count": 32,
     "metadata": {},
     "output_type": "execute_result"
    },
    {
     "data": {
      "image/png": "[encoded data removed]",
      "text/plain": [
       "<Figure size 700x700 with 1 Axes>"
      ]
     },
     "metadata": {},
     "output_type": "display_data"
    }
   ],
   "source": [
    "trainingData_w = trainingData.withColumn(\"weights\", when(trainingData[\"Working_Weekend\"] == 0 , 1)#Calcolo del peso per la classe 0\n",
    "    .when(trainingData[\"Working_Weekend\"] == 1, 1.2)  # Calcolo del peso per la classe 1\n",
    "\n",
    ")\n",
    "\n",
    "dt = DecisionTreeClassifier(labelCol=\"Working_Weekend\", featuresCol=\"features\", maxDepth=25, maxBins=64,\n",
    "                            minInstancesPerNode=round(0.005*n), impurity='entropy', weightCol='weights' )\n",
    "dt = dt.fit(trainingData_w)\n",
    "predictions = dt.transform(testData)\n",
    "# Select (prediction, true label) and compute test error\n",
    "evaluator = MulticlassClassificationEvaluator(labelCol=\"Working_Weekend\"\n",
    "                                              , predictionCol=\"prediction\"\n",
    "                                              , metricName=\"accuracy\")\n",
    "\n",
    "accuracy = evaluator.evaluate(predictions)\n",
    "print(accuracy)\n",
    "print(\"Test Error = %g\" % (1.0 - accuracy))\n",
    "\n",
    "# Calcolare precision, recall e F1-score\n",
    "predictionAndLabels = predictions.select(\"prediction\", \"Working_Weekend\").rdd.map(lambda x: (float(x[0]), float(x[1])))\n",
    "metrics = MulticlassMetrics(predictionAndLabels)\n",
    "\n",
    "list_avg=[]\n",
    "for i in range(2):\n",
    "    precision = metrics.precision(label=float(i))  \n",
    "    recall = metrics.recall(label=float(i))\n",
    "    f1Score= metrics.fMeasure(label=float(i)) # need .0\n",
    "    print(\"Precision for class \",i,\": {:.2%}\".format(precision))\n",
    "    print(\"Recall for class \",i,\": {:.2%}\".format(recall))\n",
    "    print(\"avg_F1-Score for class \",i,\": {:.2%}\".format(f1Score))\n",
    "    list_avg.append(f1Score)\n",
    "    print('----------------------------')\n",
    "sum_=0\n",
    "print(list_avg)\n",
    "for elem in list_avg:\n",
    "    sum_+=elem\n",
    "\n",
    "avg_f1=sum_/2\n",
    "print('----------------------')\n",
    "\n",
    "print(\"avg_F1-Score: {:.2%}\".format(avg_f1))\n",
    "\n",
    "labels = [\"0\", \"1\"]\n",
    "_ = plt.figure(figsize=(7, 7))\n",
    "sns.heatmap(metrics.confusionMatrix().toArray(),\n",
    "            cmap='viridis',\n",
    "            annot=True,fmt='0',\n",
    "            cbar=False, \n",
    "            xticklabels=labels, \n",
    "            yticklabels=labels)"
   ]
  },
  {
   "cell_type": "code",
   "execution_count": 40,
   "id": "2c01cbc1-9142-43d6-9a38-9d6a7ee755b3",
   "metadata": {
    "tags": []
   },
   "outputs": [
    {
     "name": "stdout",
     "output_type": "stream",
     "text": [
      "Le features più importanti per la predizione sono :\n",
      "Astronomical_Twilight con un'importanza dello 0.39673305939649506\n",
      "hour con un'importanza dello 0.3314160939708721\n",
      "Distance_mi con un'importanza dello 0.10321486736392307\n",
      "Humidity_perc con un'importanza dello 0.05276530679588937\n",
      "Temperature_F con un'importanza dello 0.050757792267868015\n",
      "Severity con un'importanza dello 0.04416765816080697\n",
      "Start_Lng con un'importanza dello 0.009971992321348211\n",
      "Start_Lat con un'importanza dello 0.007501022574755842\n",
      "month con un'importanza dello 0.0034722071480412027\n"
     ]
    }
   ],
   "source": [
    "feat_imp=dt.featureImportances\n",
    "from pyspark.ml.linalg import SparseVector\n",
    "non_zero_elements = [(index, value) for index, value in zip(feat_imp.indices, feat_imp.values) if value != 0]\n",
    "sorted_non_zero_elements = sorted(non_zero_elements, key=lambda x: x[1], reverse=True)\n",
    "print('Le features più importanti per la predizione sono :')\n",
    "for el in sorted_non_zero_elements:\n",
    "    print(num_col[el[0]], 'con un\\'importanza dello', el[1])"
   ]
  },
  {
   "cell_type": "markdown",
   "id": "d2e867a6-b347-47f0-8b10-6620c3222605",
   "metadata": {},
   "source": [
    "### Hyperparameter Tuning Random Forest"
   ]
  },
  {
   "cell_type": "code",
   "execution_count": 26,
   "id": "bfebf6e4-cf58-4ecf-9a98-885f865a804e",
   "metadata": {
    "tags": []
   },
   "outputs": [
    {
     "name": "stderr",
     "output_type": "stream",
     "text": [
      "                                                                                \r"
     ]
    },
    {
     "name": "stdout",
     "output_type": "stream",
     "text": [
      "Test Accuracy = 0.818055\n",
      "Alberi :  5 maxDepth :  10\n"
     ]
    },
    {
     "name": "stderr",
     "output_type": "stream",
     "text": [
      "/opt/conda/lib/python3.10/site-packages/pyspark/sql/context.py:158: FutureWarning: Deprecated in 3.0.0. Use SparkSession.builder.getOrCreate() instead.\n",
      "  warnings.warn(\n",
      "                                                                                \r"
     ]
    },
    {
     "name": "stdout",
     "output_type": "stream",
     "text": [
      "Precision for class  0 : 81.99%\n",
      "Recall for class  0 : 99.43%\n",
      "avg_F1-Score for class  0 : 89.88%\n",
      "----------------------------\n",
      "Precision for class  1 : 69.48%\n",
      "Recall for class  1 : 5.59%\n",
      "avg_F1-Score for class  1 : 10.35%\n",
      "----------------------------\n",
      "[0.8987532244196045, 0.10354015987818804]\n",
      "----------------------\n",
      "avg_F1-Score: 50.11%\n"
     ]
    },
    {
     "data": {
      "image/png": "[encoded data removed]",
      "text/plain": [
       "<Figure size 700x700 with 1 Axes>"
      ]
     },
     "metadata": {},
     "output_type": "display_data"
    },
    {
     "name": "stderr",
     "output_type": "stream",
     "text": [
      "23/12/13 17:43:08 WARN DAGScheduler: Broadcasting large task binary with size 1155.1 KiB\n",
      "23/12/13 17:43:11 WARN DAGScheduler: Broadcasting large task binary with size 1611.1 KiB\n",
      "23/12/13 17:43:14 WARN DAGScheduler: Broadcasting large task binary with size 2.1 MiB\n",
      "23/12/13 17:43:16 WARN DAGScheduler: Broadcasting large task binary with size 2.8 MiB\n",
      "23/12/13 17:43:19 WARN DAGScheduler: Broadcasting large task binary with size 1767.7 KiB\n",
      "/opt/conda/lib/python3.10/site-packages/pyspark/sql/context.py:158: FutureWarning: Deprecated in 3.0.0. Use SparkSession.builder.getOrCreate() instead.\n",
      "  warnings.warn(\n"
     ]
    },
    {
     "name": "stdout",
     "output_type": "stream",
     "text": [
      "Test Accuracy = 0.83032\n",
      "Alberi :  5 maxDepth :  15\n"
     ]
    },
    {
     "name": "stderr",
     "output_type": "stream",
     "text": [
      "23/12/13 17:43:25 WARN DAGScheduler: Broadcasting large task binary with size 1755.4 KiB\n",
      "23/12/13 17:43:26 WARN DAGScheduler: Broadcasting large task binary with size 1766.7 KiB\n",
      "[Stage 283:=========================>                               (4 + 5) / 9]\r"
     ]
    },
    {
     "name": "stdout",
     "output_type": "stream",
     "text": [
      "Precision for class  0 : 83.42%\n",
      "Recall for class  0 : 98.73%\n",
      "avg_F1-Score for class  0 : 90.43%\n",
      "----------------------------\n",
      "Precision for class  1 : 73.43%\n",
      "Recall for class  1 : 15.15%\n",
      "avg_F1-Score for class  1 : 25.11%\n",
      "----------------------------\n",
      "[0.9043205506605531, 0.25112948597732504]\n",
      "----------------------\n",
      "avg_F1-Score: 57.77%\n"
     ]
    },
    {
     "name": "stderr",
     "output_type": "stream",
     "text": [
      "                                                                                \r"
     ]
    },
    {
     "data": {
      "image/png": "[encoded data removed]",
      "text/plain": [
       "<Figure size 700x700 with 1 Axes>"
      ]
     },
     "metadata": {},
     "output_type": "display_data"
    },
    {
     "name": "stderr",
     "output_type": "stream",
     "text": [
      "23/12/13 17:43:57 WARN DAGScheduler: Broadcasting large task binary with size 1155.1 KiB\n",
      "23/12/13 17:44:00 WARN DAGScheduler: Broadcasting large task binary with size 1611.1 KiB\n",
      "23/12/13 17:44:03 WARN DAGScheduler: Broadcasting large task binary with size 2.1 MiB\n",
      "23/12/13 17:44:06 WARN DAGScheduler: Broadcasting large task binary with size 2.8 MiB\n",
      "23/12/13 17:44:09 WARN DAGScheduler: Broadcasting large task binary with size 3.6 MiB\n",
      "23/12/13 17:44:13 WARN DAGScheduler: Broadcasting large task binary with size 4.5 MiB\n",
      "23/12/13 17:44:19 WARN DAGScheduler: Broadcasting large task binary with size 5.5 MiB\n",
      "23/12/13 17:44:24 WARN DAGScheduler: Broadcasting large task binary with size 6.5 MiB\n",
      "23/12/13 17:44:29 WARN DAGScheduler: Broadcasting large task binary with size 7.6 MiB\n",
      "23/12/13 17:44:38 WARN DAGScheduler: Broadcasting large task binary with size 4.5 MiB\n",
      "                                                                                \r"
     ]
    },
    {
     "name": "stdout",
     "output_type": "stream",
     "text": [
      "Test Accuracy = 0.846718\n",
      "Alberi :  5 maxDepth :  20\n"
     ]
    },
    {
     "name": "stderr",
     "output_type": "stream",
     "text": [
      "/opt/conda/lib/python3.10/site-packages/pyspark/sql/context.py:158: FutureWarning: Deprecated in 3.0.0. Use SparkSession.builder.getOrCreate() instead.\n",
      "  warnings.warn(\n",
      "23/12/13 17:44:50 WARN DAGScheduler: Broadcasting large task binary with size 4.5 MiB\n",
      "23/12/13 17:44:53 WARN DAGScheduler: Broadcasting large task binary with size 4.5 MiB\n",
      "                                                                                \r"
     ]
    },
    {
     "name": "stdout",
     "output_type": "stream",
     "text": [
      "Precision for class  0 : 85.46%\n",
      "Recall for class  0 : 97.76%\n",
      "avg_F1-Score for class  0 : 91.20%\n",
      "----------------------------\n",
      "Precision for class  1 : 74.34%\n",
      "Recall for class  1 : 28.09%\n",
      "avg_F1-Score for class  1 : 40.78%\n",
      "----------------------------\n",
      "[0.9119669876203575, 0.4077611940298508]\n",
      "----------------------\n",
      "avg_F1-Score: 65.99%\n"
     ]
    },
    {
     "data": {
      "image/png": "[encoded data removed]",
      "text/plain": [
       "<Figure size 700x700 with 1 Axes>"
      ]
     },
     "metadata": {},
     "output_type": "display_data"
    },
    {
     "name": "stderr",
     "output_type": "stream",
     "text": [
      "----------------------------------------\n",
      "Exception occurred during processing of request from ('127.0.0.1', 33040)\n",
      "Traceback (most recent call last):\n",
      "  File \"/opt/conda/lib/python3.10/socketserver.py\", line 316, in _handle_request_noblock\n",
      "    self.process_request(request, client_address)\n",
      "  File \"/opt/conda/lib/python3.10/socketserver.py\", line 347, in process_request\n",
      "    self.finish_request(request, client_address)\n",
      "  File \"/opt/conda/lib/python3.10/socketserver.py\", line 360, in finish_request\n",
      "    self.RequestHandlerClass(request, client_address, self)\n",
      "  File \"/opt/conda/lib/python3.10/socketserver.py\", line 747, in __init__\n",
      "    self.handle()\n",
      "  File \"/opt/conda/lib/python3.10/site-packages/pyspark/accumulators.py\", line 295, in handle\n",
      "    poll(accum_updates)\n",
      "  File \"/opt/conda/lib/python3.10/site-packages/pyspark/accumulators.py\", line 267, in poll\n",
      "    if self.rfile in r and func():\n",
      "  File \"/opt/conda/lib/python3.10/site-packages/pyspark/accumulators.py\", line 271, in accum_updates\n",
      "    num_updates = read_int(self.rfile)\n",
      "  File \"/opt/conda/lib/python3.10/site-packages/pyspark/serializers.py\", line 596, in read_int\n",
      "    raise EOFError\n",
      "EOFError\n",
      "----------------------------------------\n"
     ]
    }
   ],
   "source": [
    "for maxDepth in range(10,21,5):\n",
    "    rf = RandomForestClassifier(labelCol=\"Working_Weekend\", featuresCol=\"features\", numTrees=5,maxDepth= maxDepth) \n",
    "    # Addestra il modello sul set di dati sottocampionato\n",
    "    model = rf.fit(trainingData) \n",
    "    predictions = model.transform(testData)\n",
    "    evaluator = MulticlassClassificationEvaluator(\n",
    "    labelCol=\"Working_Weekend\", predictionCol=\"prediction\", metricName=\"accuracy\")\n",
    "    accuracy = evaluator.evaluate(predictions)\n",
    "    print(\"Test Accuracy = %g\" % accuracy) \n",
    "    print(\"Alberi : \",5,\"maxDepth : \",maxDepth)\n",
    "    from pyspark.mllib.evaluation import MulticlassMetrics\n",
    "    # Calcolare precision, recall e F1-score\n",
    "    predictionAndLabels = predictions.select(\"prediction\", \"Working_Weekend\").rdd.map(lambda x: (float(x[0]), float(x[1])))\n",
    "    metrics = MulticlassMetrics(predictionAndLabels)\n",
    "\n",
    "    list_avg=[]\n",
    "    for i in range(2):\n",
    "        precision = metrics.precision(label=float(i))  \n",
    "        recall = metrics.recall(label=float(i))\n",
    "        f1Score= metrics.fMeasure(label=float(i)) # need .0\n",
    "        print(\"Precision for class \",i,\": {:.2%}\".format(precision))\n",
    "        print(\"Recall for class \",i,\": {:.2%}\".format(recall))\n",
    "        print(\"avg_F1-Score for class \",i,\": {:.2%}\".format(f1Score))\n",
    "        list_avg.append(f1Score)\n",
    "        print('----------------------------')\n",
    "    sum_=0\n",
    "    print(list_avg)\n",
    "    for elem in list_avg:\n",
    "        sum_+=elem\n",
    "\n",
    "    avg_f1=sum_/2\n",
    "    print('----------------------')\n",
    "\n",
    "    print(\"avg_F1-Score: {:.2%}\".format(avg_f1))\n",
    "    import seaborn as sns\n",
    "    import matplotlib.pyplot as plt\n",
    "    labels = [\"0\", \"1\"]\n",
    "    _ = plt.figure(figsize=(7, 7))\n",
    "    sns.heatmap(metrics.confusionMatrix().toArray(),\n",
    "                cmap='viridis',\n",
    "                annot=True,fmt='0',\n",
    "                cbar=False, \n",
    "                xticklabels=labels, \n",
    "                yticklabels=labels)\n",
    "    plt.show()"
   ]
  },
  {
   "cell_type": "code",
   "execution_count": null,
   "id": "6f487ecb-ca8e-4cd6-ab71-3da04411583f",
   "metadata": {},
   "outputs": [],
   "source": []
  },
  {
   "cell_type": "markdown",
   "id": "ba316648-465c-416a-b032-0e62d66707bf",
   "metadata": {
    "tags": []
   },
   "source": [
    "### Undersampling Decision Tree"
   ]
  },
  {
   "cell_type": "code",
   "execution_count": 41,
   "id": "04b9478e-6ffb-4a1a-aeec-63e950372c6f",
   "metadata": {},
   "outputs": [],
   "source": [
    "train_und = trainingData.sampleBy('Working_Weekend', fractions={0:n_1/n_0 ,1: 1})"
   ]
  },
  {
   "cell_type": "code",
   "execution_count": 42,
   "id": "fb8a96f0-66ba-41dc-8adb-096505d0df20",
   "metadata": {
    "tags": []
   },
   "outputs": [
    {
     "name": "stderr",
     "output_type": "stream",
     "text": [
      "                                                                                \r"
     ]
    }
   ],
   "source": [
    "from pyspark.ml.classification import DecisionTreeClassifier\n",
    "\n",
    "dt = DecisionTreeClassifier(labelCol=\"Working_Weekend\", featuresCol=\"features\")\n",
    "\n",
    "dt = dt.fit(train_und)"
   ]
  },
  {
   "cell_type": "code",
   "execution_count": 43,
   "id": "1d8c1b38-84ac-42f0-90c1-e02c30974160",
   "metadata": {
    "tags": []
   },
   "outputs": [
    {
     "name": "stdout",
     "output_type": "stream",
     "text": [
      "Le features più importanti per la predizione sono :\n",
      "hour con un'importanza dello 0.41381551402056416\n",
      "Astronomical_Twilight con un'importanza dello 0.40355079304729086\n",
      "Distance_mi con un'importanza dello 0.0915637409767024\n",
      "Severity con un'importanza dello 0.044475370756716856\n",
      "Temperature_F con un'importanza dello 0.03079040398108429\n",
      "Start_Lng con un'importanza dello 0.008395077877697964\n",
      "Precipitation_in con un'importanza dello 0.004600507643728077\n",
      "Wind_Speed_mph con un'importanza dello 0.001460303471199964\n",
      "Start_Lat con un'importanza dello 0.0013482882250155247\n"
     ]
    }
   ],
   "source": [
    "feat_imp=dt.featureImportances\n",
    "from pyspark.ml.linalg import SparseVector\n",
    "non_zero_elements = [(index, value) for index, value in zip(feat_imp.indices, feat_imp.values) if value != 0]\n",
    "sorted_non_zero_elements = sorted(non_zero_elements, key=lambda x: x[1], reverse=True)\n",
    "print('Le features più importanti per la predizione sono :')\n",
    "for el in sorted_non_zero_elements:\n",
    "    print(num_col[el[0]], 'con un\\'importanza dello', el[1])"
   ]
  },
  {
   "cell_type": "code",
   "execution_count": 55,
   "id": "2c6c1859-60c6-4fd9-b287-51ac1c4be730",
   "metadata": {
    "tags": []
   },
   "outputs": [],
   "source": [
    "# Make predictions.\n",
    "predictions = dt.transform(testData)\n",
    "\n",
    "#predictions.show(20)"
   ]
  },
  {
   "cell_type": "code",
   "execution_count": 56,
   "id": "8fa59643-91fe-479e-800d-45c0815e22fd",
   "metadata": {
    "tags": []
   },
   "outputs": [],
   "source": [
    "from pyspark.ml.evaluation import MulticlassClassificationEvaluator"
   ]
  },
  {
   "cell_type": "code",
   "execution_count": 57,
   "id": "928c0dd0-8a1b-496f-bc74-ddf455374edc",
   "metadata": {
    "tags": []
   },
   "outputs": [
    {
     "name": "stderr",
     "output_type": "stream",
     "text": [
      "[Stage 93:===================================================>      (8 + 1) / 9]\r"
     ]
    },
    {
     "name": "stdout",
     "output_type": "stream",
     "text": [
      "0.5812956310117047\n",
      "Test Error = 0.418704\n"
     ]
    },
    {
     "name": "stderr",
     "output_type": "stream",
     "text": [
      "                                                                                \r"
     ]
    }
   ],
   "source": [
    "# Select (prediction, true label) and compute test error\n",
    "evaluator = MulticlassClassificationEvaluator(labelCol=\"Working_Weekend\"\n",
    "                                              , predictionCol=\"prediction\"\n",
    "                                              , metricName=\"accuracy\")\n",
    "\n",
    "accuracy = evaluator.evaluate(predictions)\n",
    "print(accuracy)\n",
    "print(\"Test Error = %g\" % (1.0 - accuracy))"
   ]
  },
  {
   "cell_type": "code",
   "execution_count": 58,
   "id": "0ffda341-ecdc-441d-b296-857529696701",
   "metadata": {
    "tags": []
   },
   "outputs": [
    {
     "name": "stderr",
     "output_type": "stream",
     "text": [
      "/opt/conda/lib/python3.10/site-packages/pyspark/sql/context.py:158: FutureWarning: Deprecated in 3.0.0. Use SparkSession.builder.getOrCreate() instead.\n",
      "  warnings.warn(\n",
      "[Stage 96:===================>                                      (3 + 6) / 9]\r"
     ]
    },
    {
     "name": "stdout",
     "output_type": "stream",
     "text": [
      "Precision for class  0 : 87.78%\n",
      "Recall for class  0 : 56.28%\n",
      "avg_F1-Score for class  0 : 68.59%\n",
      "----------------------------\n",
      "Precision for class  1 : 25.91%\n",
      "Recall for class  1 : 66.11%\n",
      "avg_F1-Score for class  1 : 37.23%\n",
      "----------------------------\n",
      "[0.6858807163971482, 0.3723071577484364]\n",
      "----------------------\n",
      "avg_F1-Score: 52.91%\n"
     ]
    },
    {
     "name": "stderr",
     "output_type": "stream",
     "text": [
      "                                                                                \r"
     ]
    }
   ],
   "source": [
    "from pyspark.mllib.evaluation import MulticlassMetrics\n",
    "# Calcolare precision, recall e F1-score\n",
    "predictionAndLabels = predictions.select(\"prediction\", \"Working_Weekend\").rdd.map(lambda x: (float(x[0]), float(x[1])))\n",
    "metrics = MulticlassMetrics(predictionAndLabels)\n",
    "\n",
    "list_avg=[]\n",
    "for i in range(2):\n",
    "    precision = metrics.precision(label=float(i))  \n",
    "    recall = metrics.recall(label=float(i))\n",
    "    f1Score= metrics.fMeasure(label=float(i)) # need .0\n",
    "    print(\"Precision for class \",i,\": {:.2%}\".format(precision))\n",
    "    print(\"Recall for class \",i,\": {:.2%}\".format(recall))\n",
    "    print(\"avg_F1-Score for class \",i,\": {:.2%}\".format(f1Score))\n",
    "    list_avg.append(f1Score)\n",
    "    print('----------------------------')\n",
    "sum_=0\n",
    "print(list_avg)\n",
    "for elem in list_avg:\n",
    "    sum_+=elem\n",
    "\n",
    "avg_f1=sum_/2\n",
    "print('----------------------')\n",
    "\n",
    "print(\"avg_F1-Score: {:.2%}\".format(avg_f1))"
   ]
  },
  {
   "cell_type": "code",
   "execution_count": 59,
   "id": "5f59d928-1cdc-453a-adab-9bd828bc1dbd",
   "metadata": {},
   "outputs": [
    {
     "data": {
      "text/plain": [
       "<Axes: >"
      ]
     },
     "execution_count": 59,
     "metadata": {},
     "output_type": "execute_result"
    },
    {
     "data": {
      "image/png": "[encoded data removed]",
      "text/plain": [
       "<Figure size 700x700 with 1 Axes>"
      ]
     },
     "metadata": {},
     "output_type": "display_data"
    }
   ],
   "source": [
    "import seaborn as sns\n",
    "import matplotlib.pyplot as plt\n",
    "\n",
    "labels = [\"0\", \"1\"]\n",
    "_ = plt.figure(figsize=(7, 7))\n",
    "sns.heatmap(metrics.confusionMatrix().toArray(),\n",
    "            cmap='viridis',\n",
    "            annot=True,fmt='0',\n",
    "            cbar=False, \n",
    "            xticklabels=labels, \n",
    "            yticklabels=labels)"
   ]
  },
  {
   "cell_type": "markdown",
   "id": "0bcd16a6-144a-4ad0-a232-b51824b79def",
   "metadata": {},
   "source": [
    "### Undersampling Random Forest"
   ]
  },
  {
   "cell_type": "code",
   "execution_count": 24,
   "id": "2b208532-865a-481f-8b67-912aad56df68",
   "metadata": {
    "tags": []
   },
   "outputs": [
    {
     "name": "stderr",
     "output_type": "stream",
     "text": [
      "23/12/13 17:55:37 WARN DAGScheduler: Broadcasting large task binary with size 1065.3 KiB\n",
      "23/12/13 17:55:42 WARN DAGScheduler: Broadcasting large task binary with size 1449.6 KiB\n",
      "23/12/13 17:55:48 WARN DAGScheduler: Broadcasting large task binary with size 1910.4 KiB\n",
      "23/12/13 17:55:53 WARN DAGScheduler: Broadcasting large task binary with size 2.4 MiB\n",
      "                                                                                \r"
     ]
    },
    {
     "name": "stdout",
     "output_type": "stream",
     "text": [
      "Test Accuracy = 0.665083\n",
      "Alberi :  5 maxDepth :  10\n"
     ]
    },
    {
     "name": "stderr",
     "output_type": "stream",
     "text": [
      "/opt/conda/lib/python3.10/site-packages/pyspark/sql/context.py:158: FutureWarning: Deprecated in 3.0.0. Use SparkSession.builder.getOrCreate() instead.\n",
      "  warnings.warn(\n",
      "                                                                                \r"
     ]
    },
    {
     "name": "stdout",
     "output_type": "stream",
     "text": [
      "Precision for class  0 : 89.32%\n",
      "Recall for class  0 : 66.74%\n",
      "avg_F1-Score for class  0 : 76.40%\n",
      "----------------------------\n",
      "Precision for class  1 : 31.29%\n",
      "Recall for class  1 : 65.50%\n",
      "avg_F1-Score for class  1 : 42.35%\n",
      "----------------------------\n",
      "[0.7639788751565307, 0.4235372340425532]\n",
      "----------------------\n",
      "avg_F1-Score: 59.38%\n"
     ]
    },
    {
     "data": {
      "image/png": "[encoded data removed]",
      "text/plain": [
       "<Figure size 700x700 with 1 Axes>"
      ]
     },
     "metadata": {},
     "output_type": "display_data"
    },
    {
     "name": "stderr",
     "output_type": "stream",
     "text": [
      "23/12/13 17:56:34 WARN DAGScheduler: Broadcasting large task binary with size 1065.3 KiB\n",
      "23/12/13 17:56:35 WARN DAGScheduler: Broadcasting large task binary with size 1449.6 KiB\n",
      "23/12/13 17:56:37 WARN DAGScheduler: Broadcasting large task binary with size 1910.4 KiB\n",
      "23/12/13 17:56:39 WARN DAGScheduler: Broadcasting large task binary with size 2.4 MiB\n",
      "23/12/13 17:56:41 WARN DAGScheduler: Broadcasting large task binary with size 1608.0 KiB\n",
      "/opt/conda/lib/python3.10/site-packages/pyspark/sql/context.py:158: FutureWarning: Deprecated in 3.0.0. Use SparkSession.builder.getOrCreate() instead.\n",
      "  warnings.warn(\n"
     ]
    },
    {
     "name": "stdout",
     "output_type": "stream",
     "text": [
      "Test Accuracy = 0.692471\n",
      "Alberi :  5 maxDepth :  15\n"
     ]
    },
    {
     "name": "stderr",
     "output_type": "stream",
     "text": [
      "23/12/13 17:56:46 WARN DAGScheduler: Broadcasting large task binary with size 1595.7 KiB\n",
      "23/12/13 17:56:46 WARN DAGScheduler: Broadcasting large task binary with size 1607.0 KiB\n",
      "                                                                                \r"
     ]
    },
    {
     "name": "stdout",
     "output_type": "stream",
     "text": [
      "Precision for class  0 : 91.39%\n",
      "Recall for class  0 : 68.59%\n",
      "avg_F1-Score for class  0 : 78.37%\n",
      "----------------------------\n",
      "Precision for class  1 : 34.67%\n",
      "Recall for class  1 : 72.07%\n",
      "avg_F1-Score for class  1 : 46.82%\n",
      "----------------------------\n",
      "[0.7836919900010868, 0.4682030728122913]\n",
      "----------------------\n",
      "avg_F1-Score: 62.59%\n"
     ]
    },
    {
     "data": {
      "image/png": "[encoded data removed]",
      "text/plain": [
       "<Figure size 700x700 with 1 Axes>"
      ]
     },
     "metadata": {},
     "output_type": "display_data"
    },
    {
     "name": "stderr",
     "output_type": "stream",
     "text": [
      "23/12/13 17:57:12 WARN DAGScheduler: Broadcasting large task binary with size 1065.3 KiB\n",
      "23/12/13 17:57:13 WARN DAGScheduler: Broadcasting large task binary with size 1449.6 KiB\n",
      "23/12/13 17:57:14 WARN DAGScheduler: Broadcasting large task binary with size 1910.4 KiB\n",
      "23/12/13 17:57:15 WARN DAGScheduler: Broadcasting large task binary with size 2.4 MiB\n",
      "23/12/13 17:57:17 WARN DAGScheduler: Broadcasting large task binary with size 3.0 MiB\n",
      "23/12/13 17:57:21 WARN DAGScheduler: Broadcasting large task binary with size 3.6 MiB\n",
      "23/12/13 17:57:24 WARN DAGScheduler: Broadcasting large task binary with size 4.2 MiB\n",
      "23/12/13 17:57:26 WARN DAGScheduler: Broadcasting large task binary with size 4.9 MiB\n",
      "23/12/13 17:57:28 WARN DAGScheduler: Broadcasting large task binary with size 5.6 MiB\n",
      "23/12/13 17:57:33 WARN DAGScheduler: Broadcasting large task binary with size 3.4 MiB\n",
      "                                                                                \r"
     ]
    },
    {
     "name": "stdout",
     "output_type": "stream",
     "text": [
      "Test Accuracy = 0.715398\n",
      "Alberi :  5 maxDepth :  20\n"
     ]
    },
    {
     "name": "stderr",
     "output_type": "stream",
     "text": [
      "/opt/conda/lib/python3.10/site-packages/pyspark/sql/context.py:158: FutureWarning: Deprecated in 3.0.0. Use SparkSession.builder.getOrCreate() instead.\n",
      "  warnings.warn(\n",
      "23/12/13 17:57:37 WARN DAGScheduler: Broadcasting large task binary with size 3.4 MiB\n",
      "23/12/13 17:57:38 WARN DAGScheduler: Broadcasting large task binary with size 3.4 MiB\n",
      "                                                                                \r"
     ]
    },
    {
     "name": "stdout",
     "output_type": "stream",
     "text": [
      "Precision for class  0 : 92.48%\n",
      "Recall for class  0 : 70.71%\n",
      "avg_F1-Score for class  0 : 80.14%\n",
      "----------------------------\n",
      "Precision for class  1 : 37.23%\n",
      "Recall for class  1 : 75.13%\n",
      "avg_F1-Score for class  1 : 49.79%\n",
      "----------------------------\n",
      "[0.8014177706499913, 0.49790438545677584]\n",
      "----------------------\n",
      "avg_F1-Score: 64.97%\n"
     ]
    },
    {
     "data": {
      "image/png": "[encoded data removed]",
      "text/plain": [
       "<Figure size 700x700 with 1 Axes>"
      ]
     },
     "metadata": {},
     "output_type": "display_data"
    }
   ],
   "source": [
    "for maxDepth in range(10,21,5):\n",
    "    rf = RandomForestClassifier(labelCol=\"Working_Weekend\", featuresCol=\"features\", numTrees=5,maxDepth= maxDepth) \n",
    "    # Addestra il modello sul set di dati sottocampionato\n",
    "    model = rf.fit(train_und) \n",
    "    predictions = model.transform(testData)\n",
    "    evaluator = MulticlassClassificationEvaluator(\n",
    "    labelCol=\"Working_Weekend\", predictionCol=\"prediction\", metricName=\"accuracy\")\n",
    "    accuracy = evaluator.evaluate(predictions)\n",
    "    print(\"Test Accuracy = %g\" % accuracy) \n",
    "    print(\"Alberi : \",5,\"maxDepth : \",maxDepth)\n",
    "    from pyspark.mllib.evaluation import MulticlassMetrics\n",
    "    # Calcolare precision, recall e F1-score\n",
    "    predictionAndLabels = predictions.select(\"prediction\", \"Working_Weekend\").rdd.map(lambda x: (float(x[0]), float(x[1])))\n",
    "    metrics = MulticlassMetrics(predictionAndLabels)\n",
    "\n",
    "    list_avg=[]\n",
    "    for i in range(2):\n",
    "        precision = metrics.precision(label=float(i))  \n",
    "        recall = metrics.recall(label=float(i))\n",
    "        f1Score= metrics.fMeasure(label=float(i)) # need .0\n",
    "        print(\"Precision for class \",i,\": {:.2%}\".format(precision))\n",
    "        print(\"Recall for class \",i,\": {:.2%}\".format(recall))\n",
    "        print(\"avg_F1-Score for class \",i,\": {:.2%}\".format(f1Score))\n",
    "        list_avg.append(f1Score)\n",
    "        print('----------------------------')\n",
    "    sum_=0\n",
    "    print(list_avg)\n",
    "    for elem in list_avg:\n",
    "        sum_+=elem\n",
    "\n",
    "    avg_f1=sum_/2\n",
    "    print('----------------------')\n",
    "\n",
    "    print(\"avg_F1-Score: {:.2%}\".format(avg_f1))\n",
    "    import seaborn as sns\n",
    "    import matplotlib.pyplot as plt\n",
    "    labels = [\"0\", \"1\"]\n",
    "    _ = plt.figure(figsize=(7, 7))\n",
    "    sns.heatmap(metrics.confusionMatrix().toArray(),\n",
    "                cmap='viridis',\n",
    "                annot=True,fmt='0',\n",
    "                cbar=False, \n",
    "                xticklabels=labels, \n",
    "                yticklabels=labels)\n",
    "    plt.show()"
   ]
  },
  {
   "cell_type": "code",
   "execution_count": null,
   "id": "fb6e6216-08ac-4bc5-ad03-d3774314a722",
   "metadata": {},
   "outputs": [],
   "source": []
  },
  {
   "cell_type": "markdown",
   "id": "6af9fc63-02af-4838-af84-b5dbc85c744e",
   "metadata": {},
   "source": [
    "### Oversampling Decision Tree"
   ]
  },
  {
   "cell_type": "code",
   "execution_count": 44,
   "id": "292799bf-b1be-4c79-a691-e11658c9504e",
   "metadata": {
    "tags": []
   },
   "outputs": [],
   "source": [
    "under_1=trainingData.filter(col('Working_Weekend') == 1)\n",
    "under_1 = trainingData.sample(True, 0.3, seed=42)"
   ]
  },
  {
   "cell_type": "code",
   "execution_count": 27,
   "id": "0b623c53-4cba-46bb-ad6f-cd0697adc5e7",
   "metadata": {
    "tags": []
   },
   "outputs": [
    {
     "name": "stderr",
     "output_type": "stream",
     "text": [
      "                                                                                \r"
     ]
    },
    {
     "data": {
      "text/plain": [
       "36533"
      ]
     },
     "execution_count": 27,
     "metadata": {},
     "output_type": "execute_result"
    }
   ],
   "source": [
    "under_1.count()"
   ]
  },
  {
   "cell_type": "code",
   "execution_count": 45,
   "id": "e8d763c6-5a48-4344-b63a-ab36abe96229",
   "metadata": {
    "tags": []
   },
   "outputs": [
    {
     "name": "stdout",
     "output_type": "stream",
     "text": [
      "2.348732952668586\n",
      "1.3487329526685858\n",
      "0.34873295266858584\n"
     ]
    }
   ],
   "source": [
    "oversample_1=trainingData.filter(col('Working_Weekend') == 1)\n",
    "num_campioni_da_generare = n_0\n",
    "num_campioni_da_generare=(num_campioni_da_generare-n_1)/n_1 #percentuale \n",
    "#print(num_campioni_da_generare)\n",
    "full_1=oversample_1\n",
    "#print(full.count())\n",
    "while num_campioni_da_generare>1:\n",
    "    oversample_1= oversample_1.unionAll(full_1)\n",
    "    num_campioni_da_generare=num_campioni_da_generare-1.0\n",
    "    print(num_campioni_da_generare)\n",
    "df_minority_oversampled = full_1.sample(True, num_campioni_da_generare, seed=42)\n",
    "\n",
    "oversample_1 = oversample_1.unionAll(df_minority_oversampled)"
   ]
  },
  {
   "cell_type": "code",
   "execution_count": 46,
   "id": "1e850cbd-9b98-4c35-841d-cb3e61ca588d",
   "metadata": {
    "tags": []
   },
   "outputs": [],
   "source": [
    "df_over=oversample_1.unionAll(trainingData.filter(col('Working_Weekend') == 0))"
   ]
  },
  {
   "cell_type": "code",
   "execution_count": 63,
   "id": "c967e0dd-4b62-4116-b596-f69c41f77036",
   "metadata": {
    "tags": []
   },
   "outputs": [
    {
     "name": "stderr",
     "output_type": "stream",
     "text": [
      "                                                                                \r"
     ]
    },
    {
     "data": {
      "text/plain": [
       "198246"
      ]
     },
     "execution_count": 63,
     "metadata": {},
     "output_type": "execute_result"
    }
   ],
   "source": [
    "df_over.count()"
   ]
  },
  {
   "cell_type": "code",
   "execution_count": 47,
   "id": "f9c24cf3-82c5-4639-92ea-33cad1ae53ba",
   "metadata": {
    "tags": []
   },
   "outputs": [
    {
     "name": "stderr",
     "output_type": "stream",
     "text": [
      "[Stage 309:================================================>      (48 + 6) / 54]\r"
     ]
    },
    {
     "name": "stdout",
     "output_type": "stream",
     "text": [
      "+---------------+---------------+\n",
      "|Working_Weekend|Working_Weekend|\n",
      "+---------------+---------------+\n",
      "|              0|          92154|\n",
      "|              1|          92078|\n",
      "+---------------+---------------+\n",
      "\n"
     ]
    },
    {
     "name": "stderr",
     "output_type": "stream",
     "text": [
      "                                                                                \r"
     ]
    }
   ],
   "source": [
    "from pyspark.sql import functions as F\n",
    "g=df_over.groupBy('Working_Weekend').agg(F.count('Working_Weekend').alias('Working_Weekend'))\n",
    "g=g.sort('Working_Weekend')\n",
    "g.show()"
   ]
  },
  {
   "cell_type": "code",
   "execution_count": 48,
   "id": "93fded21-ca62-4295-99cf-cee65cab10de",
   "metadata": {
    "tags": []
   },
   "outputs": [],
   "source": [
    "train_over=df_over"
   ]
  },
  {
   "cell_type": "code",
   "execution_count": 67,
   "id": "f8d04678-d65e-4911-a64a-9debad9fa8d2",
   "metadata": {
    "tags": []
   },
   "outputs": [
    {
     "name": "stderr",
     "output_type": "stream",
     "text": [
      "                                                                                \r"
     ]
    }
   ],
   "source": [
    "from pyspark.ml.classification import DecisionTreeClassifier\n",
    "\n",
    "dt = DecisionTreeClassifier(labelCol=\"Working_Weekend\", featuresCol=\"features\")\n",
    "\n",
    "dt = dt.fit(train_over)"
   ]
  },
  {
   "cell_type": "code",
   "execution_count": 49,
   "id": "4a4f4eec-deb4-46f7-9d2f-c66d7a8ba73e",
   "metadata": {
    "tags": []
   },
   "outputs": [
    {
     "name": "stdout",
     "output_type": "stream",
     "text": [
      "Le features più importanti per la predizione sono :\n",
      "hour con un'importanza dello 0.41381551402056416\n",
      "Astronomical_Twilight con un'importanza dello 0.40355079304729086\n",
      "Distance_mi con un'importanza dello 0.0915637409767024\n",
      "Severity con un'importanza dello 0.044475370756716856\n",
      "Temperature_F con un'importanza dello 0.03079040398108429\n",
      "Start_Lng con un'importanza dello 0.008395077877697964\n",
      "Precipitation_in con un'importanza dello 0.004600507643728077\n",
      "Wind_Speed_mph con un'importanza dello 0.001460303471199964\n",
      "Start_Lat con un'importanza dello 0.0013482882250155247\n"
     ]
    }
   ],
   "source": [
    "feat_imp=dt.featureImportances\n",
    "from pyspark.ml.linalg import SparseVector\n",
    "non_zero_elements = [(index, value) for index, value in zip(feat_imp.indices, feat_imp.values) if value != 0]\n",
    "sorted_non_zero_elements = sorted(non_zero_elements, key=lambda x: x[1], reverse=True)\n",
    "print('Le features più importanti per la predizione sono :')\n",
    "for el in sorted_non_zero_elements:\n",
    "    print(num_col[el[0]], 'con un\\'importanza dello', el[1])"
   ]
  },
  {
   "cell_type": "code",
   "execution_count": 71,
   "id": "3a576d3f-e00e-48d1-9166-ecd162cab75e",
   "metadata": {
    "tags": []
   },
   "outputs": [],
   "source": [
    "# Make predictions.\n",
    "predictions = dt.transform(testData)\n",
    "\n",
    "#predictions.show(20)"
   ]
  },
  {
   "cell_type": "code",
   "execution_count": 72,
   "id": "d122ae14-912b-4fa5-ab27-d8c2bc9def78",
   "metadata": {
    "tags": []
   },
   "outputs": [],
   "source": [
    "from pyspark.ml.evaluation import MulticlassClassificationEvaluator"
   ]
  },
  {
   "cell_type": "code",
   "execution_count": 73,
   "id": "d7092e46-028f-40ca-b35e-f13f8063943c",
   "metadata": {
    "tags": []
   },
   "outputs": [
    {
     "name": "stderr",
     "output_type": "stream",
     "text": [
      "[Stage 121:===================>                                     (3 + 6) / 9]\r"
     ]
    },
    {
     "name": "stdout",
     "output_type": "stream",
     "text": [
      "0.736257581025225\n",
      "Test Error = 0.263742\n"
     ]
    },
    {
     "name": "stderr",
     "output_type": "stream",
     "text": [
      "                                                                                \r"
     ]
    }
   ],
   "source": [
    "# Select (prediction, true label) and compute test error\n",
    "evaluator = MulticlassClassificationEvaluator(labelCol=\"Working_Weekend\"\n",
    "                                              , predictionCol=\"prediction\"\n",
    "                                              , metricName=\"accuracy\")\n",
    "\n",
    "accuracy = evaluator.evaluate(predictions)\n",
    "print(accuracy)\n",
    "print(\"Test Error = %g\" % (1.0 - accuracy))"
   ]
  },
  {
   "cell_type": "code",
   "execution_count": 74,
   "id": "98d57557-0665-4371-86d2-3f484d6f576f",
   "metadata": {
    "tags": []
   },
   "outputs": [
    {
     "name": "stderr",
     "output_type": "stream",
     "text": [
      "/opt/conda/lib/python3.10/site-packages/pyspark/sql/context.py:158: FutureWarning: Deprecated in 3.0.0. Use SparkSession.builder.getOrCreate() instead.\n",
      "  warnings.warn(\n",
      "[Stage 124:============================================>            (7 + 2) / 9]\r"
     ]
    },
    {
     "name": "stdout",
     "output_type": "stream",
     "text": [
      "Precision for class  0 : 85.96%\n",
      "Recall for class  0 : 80.71%\n",
      "avg_F1-Score for class  0 : 83.25%\n",
      "----------------------------\n",
      "Precision for class  1 : 34.01%\n",
      "Recall for class  1 : 42.99%\n",
      "avg_F1-Score for class  1 : 37.98%\n",
      "----------------------------\n",
      "[0.8325176926567809, 0.3797974292592088]\n",
      "----------------------\n",
      "avg_F1-Score: 60.62%\n"
     ]
    },
    {
     "name": "stderr",
     "output_type": "stream",
     "text": [
      "                                                                                \r"
     ]
    }
   ],
   "source": [
    "from pyspark.mllib.evaluation import MulticlassMetrics\n",
    "# Calcolare precision, recall e F1-score\n",
    "predictionAndLabels = predictions.select(\"prediction\", \"Working_Weekend\").rdd.map(lambda x: (float(x[0]), float(x[1])))\n",
    "metrics = MulticlassMetrics(predictionAndLabels)\n",
    "\n",
    "list_avg=[]\n",
    "for i in range(2):\n",
    "    precision = metrics.precision(label=float(i))  \n",
    "    recall = metrics.recall(label=float(i))\n",
    "    f1Score= metrics.fMeasure(label=float(i)) # need .0\n",
    "    print(\"Precision for class \",i,\": {:.2%}\".format(precision))\n",
    "    print(\"Recall for class \",i,\": {:.2%}\".format(recall))\n",
    "    print(\"avg_F1-Score for class \",i,\": {:.2%}\".format(f1Score))\n",
    "    list_avg.append(f1Score)\n",
    "    print('----------------------------')\n",
    "sum_=0\n",
    "print(list_avg)\n",
    "for elem in list_avg:\n",
    "    sum_+=elem\n",
    "\n",
    "avg_f1=sum_/2\n",
    "print('----------------------')\n",
    "\n",
    "print(\"avg_F1-Score: {:.2%}\".format(avg_f1))"
   ]
  },
  {
   "cell_type": "code",
   "execution_count": 75,
   "id": "93f09c5c-1f86-46a1-b129-703f9b981586",
   "metadata": {},
   "outputs": [
    {
     "data": {
      "text/plain": [
       "<Axes: >"
      ]
     },
     "execution_count": 75,
     "metadata": {},
     "output_type": "execute_result"
    },
    {
     "data": {
      "image/png": "[encoded data removed]",
      "text/plain": [
       "<Figure size 700x700 with 1 Axes>"
      ]
     },
     "metadata": {},
     "output_type": "display_data"
    }
   ],
   "source": [
    "import seaborn as sns\n",
    "import matplotlib.pyplot as plt\n",
    "\n",
    "labels = [\"0\", \"1\"]\n",
    "_ = plt.figure(figsize=(7, 7))\n",
    "sns.heatmap(metrics.confusionMatrix().toArray(),\n",
    "            cmap='viridis',\n",
    "            annot=True,fmt='0',\n",
    "            cbar=False, \n",
    "            xticklabels=labels, \n",
    "            yticklabels=labels)"
   ]
  },
  {
   "cell_type": "markdown",
   "id": "4e4c92b4-b5d5-4127-9eeb-8d3b442fc210",
   "metadata": {},
   "source": [
    "### Oversampling Random Forest"
   ]
  },
  {
   "cell_type": "code",
   "execution_count": 50,
   "id": "c10a6ee1-5ed8-4a90-a8c2-eba643e8ba0a",
   "metadata": {
    "tags": []
   },
   "outputs": [
    {
     "name": "stderr",
     "output_type": "stream",
     "text": [
      "[Stage 329:======>                                                  (1 + 8) / 9]\r"
     ]
    },
    {
     "name": "stdout",
     "output_type": "stream",
     "text": [
      "Test Accuracy = 0.64041\n"
     ]
    },
    {
     "name": "stderr",
     "output_type": "stream",
     "text": [
      "                                                                                \r"
     ]
    }
   ],
   "source": [
    "from pyspark.ml import Pipeline\n",
    "from pyspark.ml.classification import RandomForestClassifier\n",
    "from pyspark.ml.feature import IndexToString, StringIndexer, VectorIndexer\n",
    "from pyspark.ml.evaluation import MulticlassClassificationEvaluator\n",
    "from pyspark.mllib.evaluation import MulticlassMetrics\n",
    "\n",
    "# Train a RandomForest model.\n",
    "rf = RandomForestClassifier(labelCol=\"Working_Weekend\", featuresCol=\"features\", numTrees=10)\n",
    "\n",
    "\n",
    "# Train model.  This also runs the indexers.\n",
    "model = rf.fit(train_over)\n",
    "\n",
    "# Make predictions.\n",
    "predictions = model.transform(testData)\n",
    "\n",
    "# Select example rows to display.\n",
    "#predictions.select(\"predictedLabel\", \"Severity\", \"features\").show(5)\n",
    "\n",
    "evaluator = MulticlassClassificationEvaluator(\n",
    "    labelCol=\"Working_Weekend\", predictionCol=\"prediction\", metricName=\"accuracy\")\n",
    "accuracy = evaluator.evaluate(predictions)\n",
    "print(\"Test Accuracy = %g\" % (accuracy))\n"
   ]
  },
  {
   "cell_type": "code",
   "execution_count": 51,
   "id": "58aeef08-cbcd-4be0-85c2-da733df9233b",
   "metadata": {
    "tags": []
   },
   "outputs": [
    {
     "name": "stdout",
     "output_type": "stream",
     "text": [
      "Le features più importanti per la predizione sono :\n",
      "Distance_mi con un'importanza dello 0.2577306376632109\n",
      "Astronomical_Twilight con un'importanza dello 0.25113639105825236\n",
      "hour con un'importanza dello 0.22036584494644237\n",
      "Severity con un'importanza dello 0.1331408507375343\n",
      "Humidity_perc con un'importanza dello 0.030487571178669015\n",
      "Temperature_F con un'importanza dello 0.02599470938445227\n",
      "month con un'importanza dello 0.01917355376517502\n",
      "Start_Lat con un'importanza dello 0.015557106660562009\n",
      "Start_Lng con un'importanza dello 0.014246228060488196\n",
      "Visibility_mi con un'importanza dello 0.009051925883467692\n",
      "Wind_Speed_mph con un'importanza dello 0.007212016664554176\n",
      "Weather_Condition_1hot con un'importanza dello 0.005641615379543949\n",
      "Weather_Condition_1hot con un'importanza dello 0.003940459520748699\n",
      "Traffic_Signal con un'importanza dello 0.001311102997465388\n",
      "Weather_Condition_1hot con un'importanza dello 0.0012567004008505495\n",
      "Railway con un'importanza dello 0.001193735120904679\n",
      "Precipitation_in con un'importanza dello 0.0010693823102753742\n",
      "Weather_Condition_1hot con un'importanza dello 0.0006997702796179599\n",
      "Stop con un'importanza dello 0.000267639703325481\n",
      "Station con un'importanza dello 0.0002635372870740353\n",
      "Junction con un'importanza dello 0.00012774637826508945\n",
      "Crossing con un'importanza dello 0.00011772905913632408\n",
      "Amenity con un'importanza dello 1.2154187090830823e-05\n",
      "Give_Way con un'importanza dello 1.5913728931362816e-06\n"
     ]
    }
   ],
   "source": [
    "feat_imp=model.featureImportances\n",
    "from pyspark.ml.linalg import SparseVector\n",
    "non_zero_elements = [(index, value) for index, value in zip(feat_imp.indices, feat_imp.values) if value != 0]\n",
    "sorted_non_zero_elements = sorted(non_zero_elements, key=lambda x: x[1], reverse=True)\n",
    "print('Le features più importanti per la predizione sono :')\n",
    "for el in sorted_non_zero_elements:\n",
    "    if el[0]>=24:\n",
    "        print(num_col[len(num_col)-1], 'con un\\'importanza dello', el[1])\n",
    "    else:\n",
    "        print(num_col[el[0]], 'con un\\'importanza dello', el[1])"
   ]
  },
  {
   "cell_type": "code",
   "execution_count": 77,
   "id": "87e9c463-2c9a-4080-a6c2-8bcdcfd1400d",
   "metadata": {
    "tags": []
   },
   "outputs": [
    {
     "name": "stderr",
     "output_type": "stream",
     "text": [
      "/opt/conda/lib/python3.10/site-packages/pyspark/sql/context.py:158: FutureWarning: Deprecated in 3.0.0. Use SparkSession.builder.getOrCreate() instead.\n",
      "  warnings.warn(\n",
      "[Stage 146:==================================================>      (8 + 1) / 9]\r"
     ]
    },
    {
     "name": "stdout",
     "output_type": "stream",
     "text": [
      "Precision for class  0 : 81.22%\n",
      "Recall for class  0 : 100.00%\n",
      "avg_F1-Score for class  0 : 89.64%\n",
      "----------------------------\n",
      "Precision for class  1 : 100.00%\n",
      "Recall for class  1 : 0.02%\n",
      "avg_F1-Score for class  1 : 0.04%\n",
      "----------------------------\n",
      "[0.8963664851152727, 0.0004112264829855043]\n",
      "----------------------\n",
      "avg_F1-Score: 44.84%\n"
     ]
    },
    {
     "name": "stderr",
     "output_type": "stream",
     "text": [
      "                                                                                \r"
     ]
    }
   ],
   "source": [
    "from pyspark.mllib.evaluation import MulticlassMetrics\n",
    "# Calcolare precision, recall e F1-score\n",
    "predictionAndLabels = predictions.select(\"prediction\", \"Working_Weekend\").rdd.map(lambda x: (float(x[0]), float(x[1])))\n",
    "metrics = MulticlassMetrics(predictionAndLabels)\n",
    "\n",
    "list_avg=[]\n",
    "for i in range(2):\n",
    "    precision = metrics.precision(label=float(i))  \n",
    "    recall = metrics.recall(label=float(i))\n",
    "    f1Score= metrics.fMeasure(label=float(i)) # need .0\n",
    "    print(\"Precision for class \",i,\": {:.2%}\".format(precision))\n",
    "    print(\"Recall for class \",i,\": {:.2%}\".format(recall))\n",
    "    print(\"avg_F1-Score for class \",i,\": {:.2%}\".format(f1Score))\n",
    "    list_avg.append(f1Score)\n",
    "    print('----------------------------')\n",
    "sum_=0\n",
    "print(list_avg)\n",
    "for elem in list_avg:\n",
    "    sum_+=elem\n",
    "\n",
    "avg_f1=sum_/2\n",
    "print('----------------------')\n",
    "\n",
    "print(\"avg_F1-Score: {:.2%}\".format(avg_f1))"
   ]
  },
  {
   "cell_type": "code",
   "execution_count": 78,
   "id": "b35a2100-7fa3-4bd4-ba83-a77f2ece4cf4",
   "metadata": {},
   "outputs": [
    {
     "data": {
      "text/plain": [
       "<Axes: >"
      ]
     },
     "execution_count": 78,
     "metadata": {},
     "output_type": "execute_result"
    },
    {
     "data": {
      "image/png": "[encoded data removed]",
      "text/plain": [
       "<Figure size 700x700 with 1 Axes>"
      ]
     },
     "metadata": {},
     "output_type": "display_data"
    },
    {
     "name": "stderr",
     "output_type": "stream",
     "text": [
      "----------------------------------------\n",
      "Exception occurred during processing of request from ('127.0.0.1', 47712)\n",
      "Traceback (most recent call last):\n",
      "  File \"/opt/conda/lib/python3.10/socketserver.py\", line 316, in _handle_request_noblock\n",
      "    self.process_request(request, client_address)\n",
      "  File \"/opt/conda/lib/python3.10/socketserver.py\", line 347, in process_request\n",
      "    self.finish_request(request, client_address)\n",
      "  File \"/opt/conda/lib/python3.10/socketserver.py\", line 360, in finish_request\n",
      "    self.RequestHandlerClass(request, client_address, self)\n",
      "  File \"/opt/conda/lib/python3.10/socketserver.py\", line 747, in __init__\n",
      "    self.handle()\n",
      "  File \"/opt/conda/lib/python3.10/site-packages/pyspark/accumulators.py\", line 295, in handle\n",
      "    poll(accum_updates)\n",
      "  File \"/opt/conda/lib/python3.10/site-packages/pyspark/accumulators.py\", line 267, in poll\n",
      "    if self.rfile in r and func():\n",
      "  File \"/opt/conda/lib/python3.10/site-packages/pyspark/accumulators.py\", line 271, in accum_updates\n",
      "    num_updates = read_int(self.rfile)\n",
      "  File \"/opt/conda/lib/python3.10/site-packages/pyspark/serializers.py\", line 596, in read_int\n",
      "    raise EOFError\n",
      "EOFError\n",
      "----------------------------------------\n"
     ]
    }
   ],
   "source": [
    "import seaborn as sns\n",
    "import matplotlib.pyplot as plt\n",
    "\n",
    "labels = [\"0\", \"1\"]\n",
    "_ = plt.figure(figsize=(7, 7))\n",
    "sns.heatmap(metrics.confusionMatrix().toArray(),\n",
    "            cmap='viridis',\n",
    "            annot=True,fmt='0',\n",
    "            cbar=False, \n",
    "            xticklabels=labels, \n",
    "            yticklabels=labels)"
   ]
  },
  {
   "cell_type": "code",
   "execution_count": 31,
   "id": "b22b24d5-0dba-4f54-9a13-9956ab70342d",
   "metadata": {
    "tags": []
   },
   "outputs": [
    {
     "name": "stderr",
     "output_type": "stream",
     "text": [
      "23/12/13 18:05:53 WARN DAGScheduler: Broadcasting large task binary with size 1193.2 KiB\n",
      "23/12/13 18:06:06 WARN DAGScheduler: Broadcasting large task binary with size 1563.7 KiB\n",
      "23/12/13 18:06:18 WARN DAGScheduler: Broadcasting large task binary with size 2.0 MiB\n",
      "23/12/13 18:06:39 WARN DAGScheduler: Broadcasting large task binary with size 2.6 MiB\n",
      "23/12/13 18:06:54 WARN DAGScheduler: Broadcasting large task binary with size 3.4 MiB\n",
      "                                                                                \r"
     ]
    },
    {
     "name": "stdout",
     "output_type": "stream",
     "text": [
      "Test Accuracy = 0.667265\n",
      "Alberi :  5 maxDepth :  10\n"
     ]
    },
    {
     "name": "stderr",
     "output_type": "stream",
     "text": [
      "/opt/conda/lib/python3.10/site-packages/pyspark/sql/context.py:158: FutureWarning: Deprecated in 3.0.0. Use SparkSession.builder.getOrCreate() instead.\n",
      "  warnings.warn(\n",
      "[Stage 315:=========================>                               (4 + 5) / 9]\r"
     ]
    },
    {
     "name": "stdout",
     "output_type": "stream",
     "text": [
      "Precision for class  0 : 89.90%\n",
      "Recall for class  0 : 66.50%\n",
      "avg_F1-Score for class  0 : 76.45%\n",
      "----------------------------\n",
      "Precision for class  1 : 31.85%\n",
      "Recall for class  1 : 67.69%\n",
      "avg_F1-Score for class  1 : 43.32%\n",
      "----------------------------\n",
      "[0.764513703779646, 0.4331918533872931]\n",
      "----------------------\n",
      "avg_F1-Score: 59.89%\n"
     ]
    },
    {
     "name": "stderr",
     "output_type": "stream",
     "text": [
      "                                                                                \r"
     ]
    },
    {
     "data": {
      "image/png": "[encoded data removed]",
      "text/plain": [
       "<Figure size 700x700 with 1 Axes>"
      ]
     },
     "metadata": {},
     "output_type": "display_data"
    },
    {
     "name": "stderr",
     "output_type": "stream",
     "text": [
      "23/12/13 18:09:22 WARN DAGScheduler: Broadcasting large task binary with size 1193.2 KiB\n",
      "23/12/13 18:09:28 WARN DAGScheduler: Broadcasting large task binary with size 1563.7 KiB\n",
      "23/12/13 18:09:35 WARN DAGScheduler: Broadcasting large task binary with size 2.0 MiB\n",
      "23/12/13 18:09:47 WARN DAGScheduler: Broadcasting large task binary with size 2.6 MiB\n",
      "23/12/13 18:09:58 WARN DAGScheduler: Broadcasting large task binary with size 3.4 MiB\n",
      "23/12/13 18:10:18 WARN DAGScheduler: Broadcasting large task binary with size 2.0 MiB\n",
      "                                                                                \r"
     ]
    },
    {
     "name": "stdout",
     "output_type": "stream",
     "text": [
      "Test Accuracy = 0.729787\n",
      "Alberi :  5 maxDepth :  15\n"
     ]
    },
    {
     "name": "stderr",
     "output_type": "stream",
     "text": [
      "/opt/conda/lib/python3.10/site-packages/pyspark/sql/context.py:158: FutureWarning: Deprecated in 3.0.0. Use SparkSession.builder.getOrCreate() instead.\n",
      "  warnings.warn(\n",
      "23/12/13 18:10:24 WARN DAGScheduler: Broadcasting large task binary with size 2.0 MiB\n",
      "23/12/13 18:10:24 WARN DAGScheduler: Broadcasting large task binary with size 2.0 MiB\n",
      "                                                                                \r"
     ]
    },
    {
     "name": "stdout",
     "output_type": "stream",
     "text": [
      "Precision for class  0 : 91.45%\n",
      "Recall for class  0 : 73.61%\n",
      "avg_F1-Score for class  0 : 81.57%\n",
      "----------------------------\n",
      "Precision for class  1 : 38.10%\n",
      "Recall for class  1 : 70.23%\n",
      "avg_F1-Score for class  1 : 49.40%\n",
      "----------------------------\n",
      "[0.8156736672903107, 0.4940325497287523]\n",
      "----------------------\n",
      "avg_F1-Score: 65.49%\n"
     ]
    },
    {
     "data": {
      "image/png": "[encoded data removed]",
      "text/plain": [
       "<Figure size 700x700 with 1 Axes>"
      ]
     },
     "metadata": {},
     "output_type": "display_data"
    },
    {
     "name": "stderr",
     "output_type": "stream",
     "text": [
      "23/12/13 18:12:26 WARN DAGScheduler: Broadcasting large task binary with size 1193.2 KiB\n",
      "23/12/13 18:12:32 WARN DAGScheduler: Broadcasting large task binary with size 1563.7 KiB\n",
      "23/12/13 18:12:39 WARN DAGScheduler: Broadcasting large task binary with size 2.0 MiB\n",
      "23/12/13 18:12:47 WARN DAGScheduler: Broadcasting large task binary with size 2.6 MiB\n",
      "23/12/13 18:12:59 WARN DAGScheduler: Broadcasting large task binary with size 3.4 MiB\n",
      "23/12/13 18:13:15 WARN DAGScheduler: Broadcasting large task binary with size 4.4 MiB\n",
      "23/12/13 18:13:37 WARN DAGScheduler: Broadcasting large task binary with size 5.4 MiB\n",
      "23/12/13 18:14:01 WARN DAGScheduler: Broadcasting large task binary with size 6.6 MiB\n",
      "23/12/13 18:14:45 WARN DAGScheduler: Broadcasting large task binary with size 8.0 MiB\n",
      "23/12/13 18:16:01 WARN DAGScheduler: Broadcasting large task binary with size 9.3 MiB\n",
      "23/12/13 18:17:23 WARN DAGScheduler: Broadcasting large task binary with size 5.6 MiB\n",
      "                                                                                \r"
     ]
    },
    {
     "name": "stdout",
     "output_type": "stream",
     "text": [
      "Test Accuracy = 0.799281\n",
      "Alberi :  5 maxDepth :  20\n"
     ]
    },
    {
     "name": "stderr",
     "output_type": "stream",
     "text": [
      "/opt/conda/lib/python3.10/site-packages/pyspark/sql/context.py:158: FutureWarning: Deprecated in 3.0.0. Use SparkSession.builder.getOrCreate() instead.\n",
      "  warnings.warn(\n",
      "23/12/13 18:17:32 WARN DAGScheduler: Broadcasting large task binary with size 5.6 MiB\n",
      "23/12/13 18:17:33 WARN DAGScheduler: Broadcasting large task binary with size 5.6 MiB\n",
      "[Stage 409:==================================================>      (8 + 1) / 9]\r"
     ]
    },
    {
     "name": "stdout",
     "output_type": "stream",
     "text": [
      "Precision for class  0 : 91.98%\n",
      "Recall for class  0 : 82.48%\n",
      "avg_F1-Score for class  0 : 86.97%\n",
      "----------------------------\n",
      "Precision for class  1 : 47.63%\n",
      "Recall for class  1 : 68.90%\n",
      "avg_F1-Score for class  1 : 56.33%\n",
      "----------------------------\n",
      "[0.869699325425684, 0.563251239808355]\n",
      "----------------------\n",
      "avg_F1-Score: 71.65%\n"
     ]
    },
    {
     "name": "stderr",
     "output_type": "stream",
     "text": [
      "                                                                                \r"
     ]
    },
    {
     "data": {
      "image/png": "[encoded data removed]",
      "text/plain": [
       "<Figure size 700x700 with 1 Axes>"
      ]
     },
     "metadata": {},
     "output_type": "display_data"
    }
   ],
   "source": [
    "for maxDepth in range(10,21,5):\n",
    "    rf = RandomForestClassifier(labelCol=\"Working_Weekend\", featuresCol=\"features\", numTrees=5,maxDepth= maxDepth) \n",
    "    # Addestra il modello sul set di dati sottocampionato\n",
    "    model = rf.fit(train_over) \n",
    "    predictions = model.transform(testData)\n",
    "    evaluator = MulticlassClassificationEvaluator(\n",
    "    labelCol=\"Working_Weekend\", predictionCol=\"prediction\", metricName=\"accuracy\")\n",
    "    accuracy = evaluator.evaluate(predictions)\n",
    "    print(\"Test Accuracy = %g\" % accuracy) \n",
    "    print(\"Alberi : \",5,\"maxDepth : \",maxDepth)\n",
    "    from pyspark.mllib.evaluation import MulticlassMetrics\n",
    "    # Calcolare precision, recall e F1-score\n",
    "    predictionAndLabels = predictions.select(\"prediction\", \"Working_Weekend\").rdd.map(lambda x: (float(x[0]), float(x[1])))\n",
    "    metrics = MulticlassMetrics(predictionAndLabels)\n",
    "\n",
    "    list_avg=[]\n",
    "    for i in range(2):\n",
    "        precision = metrics.precision(label=float(i))  \n",
    "        recall = metrics.recall(label=float(i))\n",
    "        f1Score= metrics.fMeasure(label=float(i)) # need .0\n",
    "        print(\"Precision for class \",i,\": {:.2%}\".format(precision))\n",
    "        print(\"Recall for class \",i,\": {:.2%}\".format(recall))\n",
    "        print(\"avg_F1-Score for class \",i,\": {:.2%}\".format(f1Score))\n",
    "        list_avg.append(f1Score)\n",
    "        print('----------------------------')\n",
    "    sum_=0\n",
    "    print(list_avg)\n",
    "    for elem in list_avg:\n",
    "        sum_+=elem\n",
    "\n",
    "    avg_f1=sum_/2\n",
    "    print('----------------------')\n",
    "\n",
    "    print(\"avg_F1-Score: {:.2%}\".format(avg_f1))\n",
    "    import seaborn as sns\n",
    "    import matplotlib.pyplot as plt\n",
    "    labels = [\"0\", \"1\"]\n",
    "    _ = plt.figure(figsize=(7, 7))\n",
    "    sns.heatmap(metrics.confusionMatrix().toArray(),\n",
    "                cmap='viridis',\n",
    "                annot=True,fmt='0',\n",
    "                cbar=False, \n",
    "                xticklabels=labels, \n",
    "                yticklabels=labels)\n",
    "    plt.show()"
   ]
  },
  {
   "cell_type": "code",
   "execution_count": null,
   "id": "3aea7c1b-67d4-4fef-aa1a-bc95f8679e36",
   "metadata": {},
   "outputs": [],
   "source": []
  }
 ],
 "metadata": {
  "kernelspec": {
   "display_name": "Python 3 (ipykernel)",
   "language": "python",
   "name": "python3"
  },
  "language_info": {
   "codemirror_mode": {
    "name": "ipython",
    "version": 3
   },
   "file_extension": ".py",
   "mimetype": "text/x-python",
   "name": "python",
   "nbconvert_exporter": "python",
   "pygments_lexer": "ipython3",
   "version": "3.9.13"
  }
 },
 "nbformat": 4,
 "nbformat_minor": 5
}
