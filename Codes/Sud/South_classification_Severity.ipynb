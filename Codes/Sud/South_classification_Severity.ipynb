{
 "cells": [
  {
   "cell_type": "code",
   "execution_count": 1,
   "id": "5530b5ac-bfd8-4641-9d1e-e0d7abb0e6f2",
   "metadata": {
    "tags": []
   },
   "outputs": [
    {
     "name": "stderr",
     "output_type": "stream",
     "text": [
      "Setting default log level to \"WARN\".\n",
      "To adjust logging level use sc.setLogLevel(newLevel). For SparkR, use setLogLevel(newLevel).\n",
      "23/12/16 17:30:27 WARN NativeCodeLoader: Unable to load native-hadoop library for your platform... using builtin-java classes where applicable\n"
     ]
    }
   ],
   "source": [
    "import pandas as pd\n",
    "import matplotlib.pyplot as plt\n",
    "import seaborn as sns\n",
    "from pyspark.ml.feature import StringIndexer,OneHotEncoder\n",
    "from pyspark.sql import SQLContext, SparkSession, Row\n",
    "from pyspark.mllib.stat import Statistics\n",
    "from pyspark.ml import Pipeline\n",
    "from pyspark.ml.feature import VectorAssembler, MinMaxScaler, StandardScaler\n",
    "from pyspark.sql.functions import col\n",
    "\n",
    "from pyspark.mllib.regression import LabeledPoint\n",
    "from pyspark.ml.linalg import Vectors\n",
    "\n",
    "spark = SparkSession.Builder().appName('DDAM_Project_south').getOrCreate()"
   ]
  },
  {
   "cell_type": "code",
   "execution_count": 2,
   "id": "45c87279-017e-48b3-89ee-3cdfa8c5d53e",
   "metadata": {
    "tags": []
   },
   "outputs": [
    {
     "name": "stderr",
     "output_type": "stream",
     "text": [
      "                                                                                \r"
     ]
    }
   ],
   "source": [
    "df = spark.read.options(inferSchema = True, delimiter = ',', header = True).csv('../../Datasets/South_Incidents_Cleaned.csv')"
   ]
  },
  {
   "cell_type": "markdown",
   "id": "ab301ab3-d22d-4041-80b5-82ca7c217f50",
   "metadata": {},
   "source": [
    "Preparing data"
   ]
  },
  {
   "cell_type": "code",
   "execution_count": 3,
   "id": "3a48e32d-13e6-4a12-a077-c3495444c437",
   "metadata": {
    "tags": []
   },
   "outputs": [],
   "source": [
    "to_drop=['Start_Time','City','County','State','Wind_Direction','day_of_the_week','season']\n",
    "df_class=df.drop(*to_drop)\n",
    "#df_class.show()"
   ]
  },
  {
   "cell_type": "code",
   "execution_count": 4,
   "id": "582a1127-b8eb-448f-8de2-6c5feec8b919",
   "metadata": {
    "tags": []
   },
   "outputs": [],
   "source": [
    "colonne_booleane = ['Amenity', 'Bump', 'Crossing', 'Give_Way', 'Junction', 'No_Exit', 'Railway', 'Roundabout', 'Station', 'Stop', 'Traffic_Calming', 'Traffic_Signal']\n",
    "\n",
    "# Converti le colonne booleane in numeriche\n",
    "for col_name in colonne_booleane:\n",
    "    df_class = df_class.withColumn(col_name, col(col_name).cast(\"int\"))\n",
    "\n",
    "#df_class.show()\n"
   ]
  },
  {
   "cell_type": "code",
   "execution_count": 5,
   "id": "3719107d-27c4-41ed-90f1-890b3a6cdcca",
   "metadata": {
    "tags": []
   },
   "outputs": [],
   "source": [
    "from pyspark.sql.functions import when, count, isnull\n",
    "df_class = df_class.withColumn(\"Astronomical_Twilight\", when(df_class[\"Astronomical_Twilight\"] == 'Day', 0).otherwise(1))\n",
    "df_class = df_class.withColumn(\"Working_Weekend\", when(df_class[\"Working_Weekend\"] == 'WorkingDay', 0).otherwise(1))"
   ]
  },
  {
   "cell_type": "code",
   "execution_count": 6,
   "id": "94072e50-02d5-4bf2-905c-0acfb7181473",
   "metadata": {
    "tags": []
   },
   "outputs": [
    {
     "name": "stderr",
     "output_type": "stream",
     "text": [
      "                                                                                \r"
     ]
    }
   ],
   "source": [
    "indexer = StringIndexer(inputCol=\"Weather_Condition\", outputCol=\"Weather_Condition_Indexed\")\n",
    "df_class = indexer.fit(df_class).transform(df_class)"
   ]
  },
  {
   "cell_type": "code",
   "execution_count": 7,
   "id": "7facc06f-176e-40d1-af95-929de2bd46f1",
   "metadata": {
    "tags": []
   },
   "outputs": [],
   "source": [
    "from pyspark.ml.feature import OneHotEncoder\n",
    "onehotencoder_vector = OneHotEncoder(inputCol=\"Weather_Condition_Indexed\", outputCol=\"Weather_Condition_1hot\")\n",
    "df_class = onehotencoder_vector.fit(df_class).transform(df_class)"
   ]
  },
  {
   "cell_type": "code",
   "execution_count": 8,
   "id": "4dfa763e-83f9-4dae-8312-9f3e2af05723",
   "metadata": {
    "tags": []
   },
   "outputs": [
    {
     "name": "stdout",
     "output_type": "stream",
     "text": [
      "root\n",
      " |-- Severity: integer (nullable = true)\n",
      " |-- Start_Lat: double (nullable = true)\n",
      " |-- Start_Lng: double (nullable = true)\n",
      " |-- Distance_mi: double (nullable = true)\n",
      " |-- Temperature_F: double (nullable = true)\n",
      " |-- Humidity_perc: double (nullable = true)\n",
      " |-- Visibility_mi: double (nullable = true)\n",
      " |-- Wind_Speed_mph: double (nullable = true)\n",
      " |-- Precipitation_in: double (nullable = true)\n",
      " |-- Amenity: integer (nullable = true)\n",
      " |-- Bump: integer (nullable = true)\n",
      " |-- Crossing: integer (nullable = true)\n",
      " |-- Give_Way: integer (nullable = true)\n",
      " |-- Junction: integer (nullable = true)\n",
      " |-- No_Exit: integer (nullable = true)\n",
      " |-- Railway: integer (nullable = true)\n",
      " |-- Roundabout: integer (nullable = true)\n",
      " |-- Station: integer (nullable = true)\n",
      " |-- Stop: integer (nullable = true)\n",
      " |-- Traffic_Calming: integer (nullable = true)\n",
      " |-- Traffic_Signal: integer (nullable = true)\n",
      " |-- month: integer (nullable = true)\n",
      " |-- hour: integer (nullable = true)\n",
      " |-- Astronomical_Twilight: integer (nullable = false)\n",
      " |-- Weather_Condition: string (nullable = true)\n",
      " |-- Working_Weekend: integer (nullable = false)\n",
      " |-- Weather_Condition_Indexed: double (nullable = false)\n",
      " |-- Weather_Condition_1hot: vector (nullable = true)\n",
      "\n"
     ]
    }
   ],
   "source": [
    "df_class.printSchema()"
   ]
  },
  {
   "cell_type": "code",
   "execution_count": 10,
   "id": "13590614-f62d-4ccd-8b35-119daa6b2073",
   "metadata": {
    "tags": []
   },
   "outputs": [],
   "source": [
    "df_class=df_class.drop('Weather_Condition')\n",
    "#df_class.show()\n"
   ]
  },
  {
   "cell_type": "code",
   "execution_count": 11,
   "id": "f759cd3c-f1bf-451a-9e25-c4f76b353792",
   "metadata": {
    "tags": []
   },
   "outputs": [],
   "source": [
    "df_class=df_class.drop('Weather_Condition_Indexed')"
   ]
  },
  {
   "cell_type": "code",
   "execution_count": 12,
   "id": "97da7618-0267-4254-aa00-c0898a55c293",
   "metadata": {
    "tags": []
   },
   "outputs": [
    {
     "name": "stdout",
     "output_type": "stream",
     "text": [
      "['Start_Lat', 'Start_Lng', 'Distance_mi', 'Temperature_F', 'Humidity_perc', 'Visibility_mi', 'Wind_Speed_mph', 'Precipitation_in', 'Amenity', 'Bump', 'Crossing', 'Give_Way', 'Junction', 'No_Exit', 'Railway', 'Roundabout', 'Station', 'Stop', 'Traffic_Calming', 'Traffic_Signal', 'month', 'hour', 'Astronomical_Twilight', 'Working_Weekend', 'Weather_Condition_1hot']\n"
     ]
    }
   ],
   "source": [
    "num_col = [item[0] for item in df_class.dtypes if not item[1].startswith('string')]\n",
    "num_col.remove(\"Severity\")\n",
    "print(num_col)"
   ]
  },
  {
   "cell_type": "code",
   "execution_count": 13,
   "id": "457422c7-5548-4eaa-ad86-301356adb7da",
   "metadata": {
    "tags": []
   },
   "outputs": [],
   "source": [
    "assembler = VectorAssembler(inputCols=num_col, outputCol=\"features\")\n",
    "\n",
    "output_dataset = assembler.transform(df_class)\n",
    "\n",
    "classificationData = output_dataset.select(\"features\", \"Severity\")\n",
    "\n",
    "#classificationData.show(truncate=False)"
   ]
  },
  {
   "cell_type": "code",
   "execution_count": 14,
   "id": "c46c164f-a2ec-422c-bd87-4d6ceb30234f",
   "metadata": {
    "tags": []
   },
   "outputs": [],
   "source": [
    "classificationData= classificationData.withColumn(\"Severity\", col(\"Severity\") - 1)"
   ]
  },
  {
   "cell_type": "code",
   "execution_count": 15,
   "id": "55885c9b-61a8-4a51-a42c-49e8a5042734",
   "metadata": {
    "tags": []
   },
   "outputs": [],
   "source": [
    "(trainingData, testData) = classificationData.randomSplit([0.7, 0.3],seed=0)"
   ]
  },
  {
   "cell_type": "code",
   "execution_count": 16,
   "id": "2d8823e7-f8de-4455-a347-f59a19ed2380",
   "metadata": {
    "tags": []
   },
   "outputs": [],
   "source": [
    "from pyspark.sql import functions as F\n",
    "g=trainingData.groupBy('Severity').agg(F.count('Severity').alias('Count'))\n",
    "g=g.sort('Severity')\n",
    "#g.show()"
   ]
  },
  {
   "cell_type": "code",
   "execution_count": 17,
   "id": "10c03c62-96fa-421d-ab59-3a03575831ed",
   "metadata": {
    "tags": []
   },
   "outputs": [
    {
     "name": "stderr",
     "output_type": "stream",
     "text": [
      "                                                                                \r"
     ]
    }
   ],
   "source": [
    "g_p=g.toPandas()"
   ]
  },
  {
   "cell_type": "code",
   "execution_count": 32,
   "id": "07220069-0d9c-4ec3-abb4-3388c2b8647c",
   "metadata": {
    "collapsed": true,
    "jupyter": {
     "outputs_hidden": true
    },
    "tags": []
   },
   "outputs": [
    {
     "data": {
      "text/html": [
       "<div>\n",
       "<style scoped>\n",
       "    .dataframe tbody tr th:only-of-type {\n",
       "        vertical-align: middle;\n",
       "    }\n",
       "\n",
       "    .dataframe tbody tr th {\n",
       "        vertical-align: top;\n",
       "    }\n",
       "\n",
       "    .dataframe thead th {\n",
       "        text-align: right;\n",
       "    }\n",
       "</style>\n",
       "<table border=\"1\" class=\"dataframe\">\n",
       "  <thead>\n",
       "    <tr style=\"text-align: right;\">\n",
       "      <th></th>\n",
       "      <th>Severity</th>\n",
       "      <th>Count</th>\n",
       "    </tr>\n",
       "  </thead>\n",
       "  <tbody>\n",
       "    <tr>\n",
       "      <th>0</th>\n",
       "      <td>0</td>\n",
       "      <td>3692</td>\n",
       "    </tr>\n",
       "    <tr>\n",
       "      <th>1</th>\n",
       "      <td>1</td>\n",
       "      <td>107932</td>\n",
       "    </tr>\n",
       "    <tr>\n",
       "      <th>2</th>\n",
       "      <td>2</td>\n",
       "      <td>8248</td>\n",
       "    </tr>\n",
       "    <tr>\n",
       "      <th>3</th>\n",
       "      <td>3</td>\n",
       "      <td>1952</td>\n",
       "    </tr>\n",
       "  </tbody>\n",
       "</table>\n",
       "</div>"
      ],
      "text/plain": [
       "   Severity   Count\n",
       "0         0    3692\n",
       "1         1  107932\n",
       "2         2    8248\n",
       "3         3    1952"
      ]
     },
     "execution_count": 32,
     "metadata": {},
     "output_type": "execute_result"
    }
   ],
   "source": [
    "g_p"
   ]
  },
  {
   "cell_type": "code",
   "execution_count": 18,
   "id": "536bb730-c91b-4bd0-8eda-f4fdf7ab8a14",
   "metadata": {
    "tags": []
   },
   "outputs": [],
   "source": [
    "n_0=g_p.iloc[0,1]\n",
    "n_1=g_p.iloc[1,1]\n",
    "n_2=g_p.iloc[2,1]\n",
    "n_3=g_p.iloc[3,1]"
   ]
  },
  {
   "cell_type": "code",
   "execution_count": 19,
   "id": "e52ba0ec-bfae-4e4b-9155-0660b06cf364",
   "metadata": {
    "collapsed": true,
    "jupyter": {
     "outputs_hidden": true
    },
    "tags": []
   },
   "outputs": [
    {
     "name": "stderr",
     "output_type": "stream",
     "text": [
      "[Stage 17:>                                                         (0 + 1) / 1]\r"
     ]
    },
    {
     "name": "stdout",
     "output_type": "stream",
     "text": [
      "+--------------------+--------+\n",
      "|            features|Severity|\n",
      "+--------------------+--------+\n",
      "|(28,[0,1,2,3,4,5,...|       1|\n",
      "|(28,[0,1,2,3,4,5,...|       1|\n",
      "|(28,[0,1,2,3,4,5,...|       1|\n",
      "|(28,[0,1,2,3,4,5,...|       1|\n",
      "|(28,[0,1,2,3,4,5,...|       1|\n",
      "|(28,[0,1,2,3,4,5,...|       1|\n",
      "|(28,[0,1,2,3,4,5,...|       1|\n",
      "|(28,[0,1,2,3,4,5,...|       1|\n",
      "|(28,[0,1,2,3,4,5,...|       1|\n",
      "|(28,[0,1,2,3,4,5,...|       1|\n",
      "|(28,[0,1,2,3,4,5,...|       1|\n",
      "|(28,[0,1,2,3,4,5,...|       3|\n",
      "|(28,[0,1,2,3,4,5,...|       1|\n",
      "|(28,[0,1,2,3,4,5,...|       1|\n",
      "|(28,[0,1,2,3,4,5,...|       1|\n",
      "|(28,[0,1,2,3,4,5,...|       1|\n",
      "|(28,[0,1,2,3,4,5,...|       1|\n",
      "|(28,[0,1,2,3,4,5,...|       1|\n",
      "|(28,[0,1,2,3,4,5,...|       1|\n",
      "|(28,[0,1,2,3,4,5,...|       1|\n",
      "+--------------------+--------+\n",
      "only showing top 20 rows\n",
      "\n"
     ]
    },
    {
     "name": "stderr",
     "output_type": "stream",
     "text": [
      "                                                                                \r"
     ]
    }
   ],
   "source": [
    "trainingData.show()"
   ]
  },
  {
   "cell_type": "code",
   "execution_count": 18,
   "id": "fab5ec6b-622e-4366-be7b-39237e0e30b3",
   "metadata": {
    "collapsed": true,
    "jupyter": {
     "outputs_hidden": true
    },
    "tags": []
   },
   "outputs": [
    {
     "name": "stderr",
     "output_type": "stream",
     "text": [
      "[Stage 8:>                                                          (0 + 1) / 1]\r"
     ]
    },
    {
     "name": "stdout",
     "output_type": "stream",
     "text": [
      "+--------------------+--------+\n",
      "|            features|Severity|\n",
      "+--------------------+--------+\n",
      "|(28,[0,1,2,3,4,5,...|       2|\n",
      "|(28,[0,1,2,3,4,5,...|       2|\n",
      "|(28,[0,1,2,3,4,5,...|       2|\n",
      "|(28,[0,1,2,3,4,5,...|       2|\n",
      "|(28,[0,1,2,3,4,5,...|       2|\n",
      "|(28,[0,1,2,3,4,5,...|       2|\n",
      "|(28,[0,1,2,3,4,5,...|       2|\n",
      "|(28,[0,1,2,3,4,5,...|       2|\n",
      "|(28,[0,1,2,3,4,5,...|       2|\n",
      "|(28,[0,1,2,3,4,5,...|       2|\n",
      "|(28,[0,1,2,3,4,5,...|       2|\n",
      "|(28,[0,1,2,3,4,5,...|       2|\n",
      "|(28,[0,1,2,3,4,5,...|       2|\n",
      "|(28,[0,1,2,3,4,5,...|       2|\n",
      "|(28,[0,1,2,3,4,5,...|       2|\n",
      "|(28,[0,1,2,3,4,5,...|       2|\n",
      "|(28,[0,1,2,3,4,5,...|       2|\n",
      "|(28,[0,1,2,3,4,5,...|       2|\n",
      "|(28,[0,1,2,3,4,5,...|       2|\n",
      "|(28,[0,1,2,3,4,5,...|       2|\n",
      "+--------------------+--------+\n",
      "only showing top 20 rows\n",
      "\n"
     ]
    },
    {
     "name": "stderr",
     "output_type": "stream",
     "text": [
      "                                                                                \r"
     ]
    }
   ],
   "source": [
    "testData.show()"
   ]
  },
  {
   "cell_type": "markdown",
   "id": "822b774c-0310-4bad-bb62-fe4eb38a158b",
   "metadata": {
    "tags": []
   },
   "source": [
    "### Decision Tree con iperparametri di default"
   ]
  },
  {
   "cell_type": "code",
   "execution_count": 19,
   "id": "04cabeb1-fab1-4531-b657-47d357156439",
   "metadata": {
    "tags": []
   },
   "outputs": [],
   "source": [
    "from pyspark.ml.classification import DecisionTreeClassifier, RandomForestClassifier"
   ]
  },
  {
   "cell_type": "code",
   "execution_count": 20,
   "id": "28425593-c26d-4cef-8b7f-373b5605efea",
   "metadata": {
    "tags": []
   },
   "outputs": [
    {
     "name": "stderr",
     "output_type": "stream",
     "text": [
      "                                                                                \r"
     ]
    }
   ],
   "source": [
    "from pyspark.ml.classification import DecisionTreeClassifier, RandomForestClassifier\n",
    "\n",
    "dt = DecisionTreeClassifier(labelCol=\"Severity\", featuresCol=\"features\")\n",
    "\n",
    "dt = dt.fit(trainingData)"
   ]
  },
  {
   "cell_type": "code",
   "execution_count": 27,
   "id": "6c5e11ca-e5ef-4b2a-94e0-db37194f01b5",
   "metadata": {
    "tags": []
   },
   "outputs": [
    {
     "name": "stdout",
     "output_type": "stream",
     "text": [
      "Le features più importanti per la predizione sono :\n",
      "Distance_mi con un'importanza dello 0.6612883663066517\n",
      "hour con un'importanza dello 0.13902223753669454\n",
      "month con un'importanza dello 0.13289372484121123\n",
      "Traffic_Signal con un'importanza dello 0.035982162223901604\n",
      "Working_Weekend con un'importanza dello 0.01536888202058574\n",
      "Start_Lat con un'importanza dello 0.007937137878130142\n",
      "Start_Lng con un'importanza dello 0.007507489192825154\n"
     ]
    }
   ],
   "source": [
    "feat_imp=dt.featureImportances\n",
    "from pyspark.ml.linalg import SparseVector\n",
    "non_zero_elements = [(index, value) for index, value in zip(feat_imp.indices, feat_imp.values) if value != 0]\n",
    "sorted_non_zero_elements = sorted(non_zero_elements, key=lambda x: x[1], reverse=True)\n",
    "print('Le features più importanti per la predizione sono :')\n",
    "for el in sorted_non_zero_elements:\n",
    "    print(num_col[el[0]], 'con un\\'importanza dello', el[1])"
   ]
  },
  {
   "cell_type": "code",
   "execution_count": 36,
   "id": "e98bb98b-a5a9-4966-9198-0f5d219ea7d1",
   "metadata": {
    "tags": []
   },
   "outputs": [],
   "source": [
    "# Make predictions.\n",
    "predictions = dt.transform(testData)\n",
    "\n",
    "#predictions.show(20)"
   ]
  },
  {
   "cell_type": "code",
   "execution_count": 37,
   "id": "49457abe-fa29-4b93-a863-119c083f8bbf",
   "metadata": {
    "tags": []
   },
   "outputs": [],
   "source": [
    "from pyspark.ml.evaluation import MulticlassClassificationEvaluator"
   ]
  },
  {
   "cell_type": "code",
   "execution_count": 38,
   "id": "bd51f93f-9b66-4f03-9159-0073ede2d38b",
   "metadata": {
    "tags": []
   },
   "outputs": [
    {
     "name": "stderr",
     "output_type": "stream",
     "text": [
      "[Stage 73:============>                                             (2 + 7) / 9]\r"
     ]
    },
    {
     "name": "stdout",
     "output_type": "stream",
     "text": [
      "0.9229729207710434\n",
      "Test Error = 0.0770271\n"
     ]
    },
    {
     "name": "stderr",
     "output_type": "stream",
     "text": [
      "                                                                                \r"
     ]
    }
   ],
   "source": [
    "# Select (prediction, true label) and compute test error\n",
    "evaluator = MulticlassClassificationEvaluator(labelCol=\"Severity\"\n",
    "                                              , predictionCol=\"prediction\"\n",
    "                                              , metricName=\"accuracy\")\n",
    "\n",
    "accuracy = evaluator.evaluate(predictions)\n",
    "print(accuracy)\n",
    "print(\"Test Error = %g\" % (1.0 - accuracy))"
   ]
  },
  {
   "cell_type": "code",
   "execution_count": 40,
   "id": "0b7b5c84-6463-4809-bf18-d43970e24ae7",
   "metadata": {
    "tags": []
   },
   "outputs": [
    {
     "name": "stderr",
     "output_type": "stream",
     "text": [
      "/opt/conda/lib/python3.10/site-packages/pyspark/sql/context.py:158: FutureWarning: Deprecated in 3.0.0. Use SparkSession.builder.getOrCreate() instead.\n",
      "  warnings.warn(\n",
      "[Stage 76:================================>                         (5 + 4) / 9]\r"
     ]
    },
    {
     "name": "stdout",
     "output_type": "stream",
     "text": [
      "Precision for class  0 : 61.59%\n",
      "Recall for class  0 : 68.47%\n",
      "avg_F1-Score for class  0 : 64.85%\n",
      "----------------------------\n",
      "Precision for class  1 : 95.93%\n",
      "Recall for class  1 : 96.83%\n",
      "avg_F1-Score for class  1 : 96.38%\n",
      "----------------------------\n",
      "Precision for class  2 : 61.01%\n",
      "Recall for class  2 : 65.41%\n",
      "avg_F1-Score for class  2 : 63.13%\n",
      "----------------------------\n",
      "Precision for class  3 : 0.00%\n",
      "Recall for class  3 : 0.00%\n",
      "avg_F1-Score for class  3 : 0.00%\n",
      "----------------------------\n",
      "[0.6484944532488115, 0.9638170370932261, 0.6313180002754442, 0.0]\n",
      "----------------------\n",
      "avg_F1-Score: 56.09%\n"
     ]
    },
    {
     "name": "stderr",
     "output_type": "stream",
     "text": [
      "                                                                                \r"
     ]
    }
   ],
   "source": [
    "from pyspark.mllib.evaluation import MulticlassMetrics\n",
    "# Calcolare precision, recall e F1-score\n",
    "predictionAndLabels = predictions.select(\"prediction\", \"Severity\").rdd.map(lambda x: (float(x[0]), float(x[1])))\n",
    "metrics = MulticlassMetrics(predictionAndLabels)\n",
    "\n",
    "list_avg=[]\n",
    "for i in range(4):\n",
    "    precision = metrics.precision(label=float(i))  \n",
    "    recall = metrics.recall(label=float(i))\n",
    "    f1Score= metrics.fMeasure(label=float(i)) # need .0\n",
    "    print(\"Precision for class \",i,\": {:.2%}\".format(precision))\n",
    "    print(\"Recall for class \",i,\": {:.2%}\".format(recall))\n",
    "    print(\"avg_F1-Score for class \",i,\": {:.2%}\".format(f1Score))\n",
    "    list_avg.append(f1Score)\n",
    "    print('----------------------------')\n",
    "sum_=0\n",
    "print(list_avg)\n",
    "for elem in list_avg:\n",
    "    sum_+=elem\n",
    "\n",
    "avg_f1=sum_/4\n",
    "print('----------------------')\n",
    "\n",
    "print(\"avg_F1-Score: {:.2%}\".format(avg_f1))"
   ]
  },
  {
   "cell_type": "code",
   "execution_count": 41,
   "id": "cec944f0-396f-48f8-9c65-8ab5f39a5fe0",
   "metadata": {},
   "outputs": [
    {
     "data": {
      "text/plain": [
       "<Axes: >"
      ]
     },
     "execution_count": 41,
     "metadata": {},
     "output_type": "execute_result"
    },
    {
     "data": {
      "image/png": "[encoded data removed]",
      "text/plain": [
       "<Figure size 700x700 with 1 Axes>"
      ]
     },
     "metadata": {},
     "output_type": "display_data"
    }
   ],
   "source": [
    "import seaborn as sns\n",
    "import matplotlib.pyplot as plt\n",
    "\n",
    "labels = [\"0\", \"1\", \"2\", \"3\"]\n",
    "_ = plt.figure(figsize=(7, 7))\n",
    "sns.heatmap(metrics.confusionMatrix().toArray(),\n",
    "            cmap='viridis',\n",
    "            annot=True,fmt='0',\n",
    "            cbar=False, \n",
    "            xticklabels=labels, \n",
    "            yticklabels=labels)"
   ]
  },
  {
   "cell_type": "markdown",
   "id": "86cb5d97-6584-44ab-90da-9d90a927a012",
   "metadata": {},
   "source": [
    "### Random Forest con iperparametri di default"
   ]
  },
  {
   "cell_type": "code",
   "execution_count": 28,
   "id": "278440cb-e324-4b1a-8763-eaed11d29100",
   "metadata": {
    "tags": []
   },
   "outputs": [
    {
     "name": "stderr",
     "output_type": "stream",
     "text": [
      "[Stage 50:============>                                             (2 + 7) / 9]\r"
     ]
    },
    {
     "name": "stdout",
     "output_type": "stream",
     "text": [
      "Test Accuracy = 0.886096\n"
     ]
    },
    {
     "name": "stderr",
     "output_type": "stream",
     "text": [
      "                                                                                \r"
     ]
    }
   ],
   "source": [
    "from pyspark.ml import Pipeline\n",
    "from pyspark.ml.classification import RandomForestClassifier\n",
    "from pyspark.ml.feature import IndexToString, StringIndexer, VectorIndexer\n",
    "from pyspark.ml.evaluation import MulticlassClassificationEvaluator\n",
    "from pyspark.mllib.evaluation import MulticlassMetrics\n",
    "\n",
    "# Train a RandomForest model.\n",
    "rf = RandomForestClassifier(labelCol=\"Severity\", featuresCol=\"features\", numTrees=10)\n",
    "\n",
    "\n",
    "# Train model.  This also runs the indexers.\n",
    "model = rf.fit(trainingData)\n",
    "\n",
    "# Make predictions.\n",
    "predictions = model.transform(testData)\n",
    "\n",
    "# Select example rows to display.\n",
    "#predictions.select(\"predictedLabel\", \"Severity\", \"features\").show(5)\n",
    "\n",
    "evaluator = MulticlassClassificationEvaluator(\n",
    "    labelCol=\"Severity\", predictionCol=\"prediction\", metricName=\"accuracy\")\n",
    "accuracy = evaluator.evaluate(predictions)\n",
    "print(\"Test Accuracy = %g\" % (accuracy))\n"
   ]
  },
  {
   "cell_type": "code",
   "execution_count": 30,
   "id": "fd93c998-6875-4e8a-91d7-fee6252af3b7",
   "metadata": {
    "tags": []
   },
   "outputs": [
    {
     "name": "stdout",
     "output_type": "stream",
     "text": [
      "Le features più importanti per la predizione sono :\n",
      "Distance_mi con un'importanza dello 0.7161794022669217\n",
      "month con un'importanza dello 0.0902938345147864\n",
      "hour con un'importanza dello 0.05949296837218236\n",
      "Temperature_F con un'importanza dello 0.0377976224280459\n",
      "Start_Lat con un'importanza dello 0.028664947551425218\n",
      "Start_Lng con un'importanza dello 0.023437960041040807\n",
      "Working_Weekend con un'importanza dello 0.013914063882021318\n",
      "Traffic_Signal con un'importanza dello 0.009887799826560876\n",
      "Humidity_perc con un'importanza dello 0.00591918870079402\n",
      "Astronomical_Twilight con un'importanza dello 0.004891380845628448\n",
      "Crossing con un'importanza dello 0.002962839945416048\n",
      "Wind_Speed_mph con un'importanza dello 0.002111943477993254\n",
      "Stop con un'importanza dello 0.001604804797072646\n",
      "Railway con un'importanza dello 0.0009717550563269034\n",
      "Station con un'importanza dello 0.0007785520158302715\n",
      "Visibility_mi con un'importanza dello 0.0004820087343897208\n",
      "Precipitation_in con un'importanza dello 0.0003389809882723506\n",
      "Weather_Condition_1hot con un'importanza dello 0.00022929010162992458\n",
      "Give_Way con un'importanza dello 4.065645366188411e-05\n"
     ]
    }
   ],
   "source": [
    "feat_imp=model.featureImportances\n",
    "from pyspark.ml.linalg import SparseVector\n",
    "non_zero_elements = [(index, value) for index, value in zip(feat_imp.indices, feat_imp.values) if value != 0]\n",
    "sorted_non_zero_elements = sorted(non_zero_elements, key=lambda x: x[1], reverse=True)\n",
    "print('Le features più importanti per la predizione sono :')\n",
    "for el in sorted_non_zero_elements:\n",
    "    print(num_col[el[0]], 'con un\\'importanza dello', el[1])"
   ]
  },
  {
   "cell_type": "code",
   "execution_count": 21,
   "id": "3e7ba4ed-ef4d-4cfe-8745-f0d865f1ae20",
   "metadata": {
    "tags": []
   },
   "outputs": [
    {
     "name": "stderr",
     "output_type": "stream",
     "text": [
      "/opt/conda/lib/python3.10/site-packages/pyspark/sql/context.py:158: FutureWarning: Deprecated in 3.0.0. Use SparkSession.builder.getOrCreate() instead.\n",
      "  warnings.warn(\n",
      "[Stage 54:================================>                         (5 + 4) / 9]\r"
     ]
    },
    {
     "name": "stdout",
     "output_type": "stream",
     "text": [
      "Precision for class  0 : 67.30%\n",
      "Recall for class  0 : 23.56%\n",
      "avg_F1-Score for class  0 : 34.90%\n",
      "----------------------------\n",
      "Precision for class  1 : 90.86%\n",
      "Recall for class  1 : 99.29%\n",
      "avg_F1-Score for class  1 : 94.89%\n",
      "----------------------------\n",
      "Precision for class  2 : 71.74%\n",
      "Recall for class  2 : 21.80%\n",
      "avg_F1-Score for class  2 : 33.44%\n",
      "----------------------------\n",
      "Precision for class  3 : 0.00%\n",
      "Recall for class  3 : 0.00%\n",
      "avg_F1-Score for class  3 : 0.00%\n",
      "----------------------------\n",
      "[0.34903321764997514, 0.9488612125563151, 0.33442766469687024, 0.0]\n",
      "----------------------\n",
      "avg_F1-Score: 40.81%\n"
     ]
    },
    {
     "name": "stderr",
     "output_type": "stream",
     "text": [
      "                                                                                \r"
     ]
    }
   ],
   "source": [
    "from pyspark.mllib.evaluation import MulticlassMetrics\n",
    "# Calcolare precision, recall e F1-score\n",
    "predictionAndLabels = predictions.select(\"prediction\", \"Severity\").rdd.map(lambda x: (float(x[0]), float(x[1])))\n",
    "metrics = MulticlassMetrics(predictionAndLabels)\n",
    "\n",
    "list_avg=[]\n",
    "for i in range(4):\n",
    "    precision = metrics.precision(label=float(i))  \n",
    "    recall = metrics.recall(label=float(i))\n",
    "    f1Score= metrics.fMeasure(label=float(i)) # need .0\n",
    "    print(\"Precision for class \",i,\": {:.2%}\".format(precision))\n",
    "    print(\"Recall for class \",i,\": {:.2%}\".format(recall))\n",
    "    print(\"avg_F1-Score for class \",i,\": {:.2%}\".format(f1Score))\n",
    "    list_avg.append(f1Score)\n",
    "    print('----------------------------')\n",
    "sum_=0\n",
    "print(list_avg)\n",
    "for elem in list_avg:\n",
    "    sum_+=elem\n",
    "\n",
    "avg_f1=sum_/4\n",
    "print('----------------------')\n",
    "\n",
    "print(\"avg_F1-Score: {:.2%}\".format(avg_f1))"
   ]
  },
  {
   "cell_type": "code",
   "execution_count": 22,
   "id": "5b3402b5-585e-4ddf-981a-3018a8e6d2d9",
   "metadata": {},
   "outputs": [
    {
     "data": {
      "text/plain": [
       "<Axes: >"
      ]
     },
     "execution_count": 22,
     "metadata": {},
     "output_type": "execute_result"
    },
    {
     "data": {
      "image/png": "[encoded data removed]",
      "text/plain": [
       "<Figure size 700x700 with 1 Axes>"
      ]
     },
     "metadata": {},
     "output_type": "display_data"
    }
   ],
   "source": [
    "import seaborn as sns\n",
    "import matplotlib.pyplot as plt\n",
    "\n",
    "labels = [\"0\", \"1\", \"2\", \"3\"]\n",
    "_ = plt.figure(figsize=(7, 7))\n",
    "sns.heatmap(metrics.confusionMatrix().toArray(),\n",
    "            cmap='viridis',\n",
    "            annot=True,fmt='0',\n",
    "            cbar=False, \n",
    "            xticklabels=labels, \n",
    "            yticklabels=labels)"
   ]
  },
  {
   "cell_type": "markdown",
   "id": "dda63dd9-4973-4250-9056-0b608156ee3d",
   "metadata": {
    "tags": []
   },
   "source": [
    "### Hyperparameter Tuning Decision Tree"
   ]
  },
  {
   "cell_type": "code",
   "execution_count": 32,
   "id": "bbaba361-7f37-40ee-bbfd-486ae4082484",
   "metadata": {
    "tags": []
   },
   "outputs": [],
   "source": [
    "from pyspark.ml.evaluation import MulticlassClassificationEvaluator\n",
    "from pyspark.ml.tuning import ParamGridBuilder, CrossValidator\n",
    "from pyspark.mllib.evaluation import MulticlassMetrics\n",
    "from pyspark.ml.evaluation import MulticlassClassificationEvaluator\n",
    "from pyspark.mllib.evaluation import MulticlassMetrics\n",
    "import seaborn as sns\n",
    "import matplotlib.pyplot as plt"
   ]
  },
  {
   "cell_type": "code",
   "execution_count": 33,
   "id": "b5b375c0-4cc1-462e-9801-82e00116eeca",
   "metadata": {
    "tags": []
   },
   "outputs": [
    {
     "name": "stderr",
     "output_type": "stream",
     "text": [
      "                                                                                \r"
     ]
    }
   ],
   "source": [
    "n=trainingData.count()"
   ]
  },
  {
   "cell_type": "code",
   "execution_count": 21,
   "id": "bba4fab6-ecd8-486a-b8b1-dd508a52ea34",
   "metadata": {
    "tags": []
   },
   "outputs": [],
   "source": [
    "max_depth=[5,15,25]\n",
    "max_bins=[32,64]\n",
    "min_inst=[round(0.005*n),round(0.02*n)]\n",
    "impurity=['entropy', 'gini']"
   ]
  },
  {
   "cell_type": "code",
   "execution_count": 23,
   "id": "24f5843c-20b3-480d-87d2-2715fa74490d",
   "metadata": {
    "collapsed": true,
    "jupyter": {
     "outputs_hidden": true
    },
    "tags": []
   },
   "outputs": [
    {
     "name": "stderr",
     "output_type": "stream",
     "text": [
      "                                                                                \r"
     ]
    },
    {
     "name": "stdout",
     "output_type": "stream",
     "text": [
      "0.9223162204967744\n",
      "Test Error = 0.0776838\n"
     ]
    },
    {
     "name": "stderr",
     "output_type": "stream",
     "text": [
      "/opt/conda/lib/python3.10/site-packages/pyspark/sql/context.py:158: FutureWarning: Deprecated in 3.0.0. Use SparkSession.builder.getOrCreate() instead.\n",
      "  warnings.warn(\n",
      "[Stage 76:============>                                             (2 + 7) / 9]\r"
     ]
    },
    {
     "name": "stdout",
     "output_type": "stream",
     "text": [
      "Precision for class  0 : 57.70%\n",
      "Recall for class  0 : 77.98%\n",
      "avg_F1-Score for class  0 : 66.33%\n",
      "----------------------------\n",
      "Precision for class  1 : 95.92%\n",
      "Recall for class  1 : 96.69%\n",
      "avg_F1-Score for class  1 : 96.31%\n",
      "----------------------------\n",
      "Precision for class  2 : 63.01%\n",
      "Recall for class  2 : 62.21%\n",
      "avg_F1-Score for class  2 : 62.61%\n",
      "----------------------------\n",
      "Precision for class  3 : 0.00%\n",
      "Recall for class  3 : 0.00%\n",
      "avg_F1-Score for class  3 : 0.00%\n",
      "----------------------------\n",
      "[0.6632507828067179, 0.9630665799175885, 0.6260769672601953, 0.0]\n",
      "----------------------\n",
      "avg_F1-Score: 56.31%\n"
     ]
    },
    {
     "name": "stderr",
     "output_type": "stream",
     "text": [
      "                                                                                \r"
     ]
    },
    {
     "data": {
      "text/plain": [
       "<Axes: >"
      ]
     },
     "execution_count": 23,
     "metadata": {},
     "output_type": "execute_result"
    },
    {
     "data": {
      "image/png": "[encoded data removed]",
      "text/plain": [
       "<Figure size 700x700 with 1 Axes>"
      ]
     },
     "metadata": {},
     "output_type": "display_data"
    }
   ],
   "source": [
    "dt = DecisionTreeClassifier(labelCol=\"Severity\", featuresCol=\"features\", maxDepth=10, maxBins=64, \n",
    "                            minInstancesPerNode=round(0.005*n), impurity='entropy')\n",
    "dt = dt.fit(trainingData)\n",
    "predictions = dt.transform(testData)\n",
    "# Select (prediction, true label) and compute test error\n",
    "evaluator = MulticlassClassificationEvaluator(labelCol=\"Severity\"\n",
    "                                              , predictionCol=\"prediction\"\n",
    "                                              , metricName=\"accuracy\")\n",
    "\n",
    "accuracy = evaluator.evaluate(predictions)\n",
    "print(accuracy)\n",
    "print(\"Test Error = %g\" % (1.0 - accuracy))\n",
    "\n",
    "# Calcolare precision, recall e F1-score\n",
    "predictionAndLabels = predictions.select(\"prediction\", \"Severity\").rdd.map(lambda x: (float(x[0]), float(x[1])))\n",
    "metrics = MulticlassMetrics(predictionAndLabels)\n",
    "\n",
    "list_avg=[]\n",
    "for i in range(4):\n",
    "    precision = metrics.precision(label=float(i))  \n",
    "    recall = metrics.recall(label=float(i))\n",
    "    f1Score= metrics.fMeasure(label=float(i)) # need .0\n",
    "    print(\"Precision for class \",i,\": {:.2%}\".format(precision))\n",
    "    print(\"Recall for class \",i,\": {:.2%}\".format(recall))\n",
    "    print(\"avg_F1-Score for class \",i,\": {:.2%}\".format(f1Score))\n",
    "    list_avg.append(f1Score)\n",
    "    print('----------------------------')\n",
    "sum_=0\n",
    "print(list_avg)\n",
    "for elem in list_avg:\n",
    "    sum_+=elem\n",
    "\n",
    "avg_f1=sum_/4\n",
    "print('----------------------')\n",
    "\n",
    "print(\"avg_F1-Score: {:.2%}\".format(avg_f1))\n",
    "\n",
    "labels = [\"0\", \"1\", \"2\", \"3\"]\n",
    "_ = plt.figure(figsize=(7, 7))\n",
    "sns.heatmap(metrics.confusionMatrix().toArray(),\n",
    "            cmap='viridis',\n",
    "            annot=True,fmt='0',\n",
    "            cbar=False, \n",
    "            xticklabels=labels, \n",
    "            yticklabels=labels)"
   ]
  },
  {
   "cell_type": "code",
   "execution_count": 35,
   "id": "6b8f73f0-83b8-447c-a8b4-32181b44c3b3",
   "metadata": {
    "tags": []
   },
   "outputs": [
    {
     "name": "stdout",
     "output_type": "stream",
     "text": [
      "Le features più importanti per la predizione sono :\n",
      "Distance_mi con un'importanza dello 0.7747811581697881\n",
      "month con un'importanza dello 0.11434358258175494\n",
      "hour con un'importanza dello 0.07755385248187031\n",
      "Traffic_Signal con un'importanza dello 0.020896767777655957\n",
      "Start_Lat con un'importanza dello 0.009241995664636042\n",
      "Start_Lng con un'importanza dello 0.0031826433242946356\n"
     ]
    }
   ],
   "source": [
    "feat_imp=dt.featureImportances\n",
    "from pyspark.ml.linalg import SparseVector\n",
    "non_zero_elements = [(index, value) for index, value in zip(feat_imp.indices, feat_imp.values) if value != 0]\n",
    "sorted_non_zero_elements = sorted(non_zero_elements, key=lambda x: x[1], reverse=True)\n",
    "print('Le features più importanti per la predizione sono :')\n",
    "for el in sorted_non_zero_elements:\n",
    "    print(num_col[el[0]], 'con un\\'importanza dello', el[1])"
   ]
  },
  {
   "cell_type": "code",
   "execution_count": null,
   "id": "4b73455c-7a0e-4505-9faf-77b10601cc9c",
   "metadata": {
    "tags": []
   },
   "outputs": [],
   "source": [
    "dt = DecisionTreeClassifier(labelCol=\"Severity\", featuresCol=\"features\", maxDepth=15, maxBins=32, \n",
    "                            minInstancesPerNode=round(0.02*n))\n",
    "dt = dt.fit(trainingData)\n",
    "predictions = dt.transform(testData)\n",
    "# Select (prediction, true label) and compute test error\n",
    "evaluator = MulticlassClassificationEvaluator(labelCol=\"Severity\"\n",
    "                                              , predictionCol=\"prediction\"\n",
    "                                              , metricName=\"accuracy\")\n",
    "\n",
    "accuracy = evaluator.evaluate(predictions)\n",
    "print(accuracy)\n",
    "print(\"Test Error = %g\" % (1.0 - accuracy))\n",
    "\n",
    "# Calcolare precision, recall e F1-score\n",
    "predictionAndLabels = predictions.select(\"prediction\", \"Severity\").rdd.map(lambda x: (float(x[0]), float(x[1])))\n",
    "metrics = MulticlassMetrics(predictionAndLabels)\n",
    "\n",
    "list_avg=[]\n",
    "for i in range(4):\n",
    "    precision = metrics.precision(label=float(i))  \n",
    "    recall = metrics.recall(label=float(i))\n",
    "    f1Score= metrics.fMeasure(label=float(i)) # need .0\n",
    "    print(\"Precision for class \",i,\": {:.2%}\".format(precision))\n",
    "    print(\"Recall for class \",i,\": {:.2%}\".format(recall))\n",
    "    print(\"avg_F1-Score for class \",i,\": {:.2%}\".format(f1Score))\n",
    "    list_avg.append(f1Score)\n",
    "    print('----------------------------')\n",
    "sum_=0\n",
    "print(list_avg)\n",
    "for elem in list_avg:\n",
    "    sum_+=elem\n",
    "\n",
    "avg_f1=sum_/4\n",
    "print('----------------------')\n",
    "\n",
    "print(\"avg_F1-Score: {:.2%}\".format(avg_f1))\n",
    "\n",
    "labels = [\"0\", \"1\", \"2\", \"3\"]\n",
    "_ = plt.figure(figsize=(7, 7))\n",
    "sns.heatmap(metrics.confusionMatrix().toArray(),\n",
    "            cmap='viridis',\n",
    "            annot=True,fmt='0',\n",
    "            cbar=False, \n",
    "            xticklabels=labels, \n",
    "            yticklabels=labels)"
   ]
  },
  {
   "cell_type": "code",
   "execution_count": 27,
   "id": "0d7e1a40-177d-42af-955e-55424c7e6976",
   "metadata": {
    "tags": []
   },
   "outputs": [
    {
     "name": "stdout",
     "output_type": "stream",
     "text": [
      "Le features più importanti per la predizione sono :\n",
      "Distance_mi con un'importanza dello 0.6612883663066517\n",
      "hour con un'importanza dello 0.13902223753669454\n",
      "month con un'importanza dello 0.13289372484121123\n",
      "Traffic_Signal con un'importanza dello 0.035982162223901604\n",
      "Working_Weekend con un'importanza dello 0.01536888202058574\n",
      "Start_Lat con un'importanza dello 0.007937137878130142\n",
      "Start_Lng con un'importanza dello 0.007507489192825154\n"
     ]
    }
   ],
   "source": [
    "feat_imp=dt.featureImportances\n",
    "from pyspark.ml.linalg import SparseVector\n",
    "non_zero_elements = [(index, value) for index, value in zip(feat_imp.indices, feat_imp.values) if value != 0]\n",
    "sorted_non_zero_elements = sorted(non_zero_elements, key=lambda x: x[1], reverse=True)\n",
    "print('Le features più importanti per la predizione sono :')\n",
    "for el in sorted_non_zero_elements:\n",
    "    print(num_col[el[0]], 'con un\\'importanza dello', el[1])"
   ]
  },
  {
   "cell_type": "code",
   "execution_count": 24,
   "id": "33d18740-694b-4dc2-a1ff-ffdb9875b123",
   "metadata": {
    "collapsed": true,
    "jupyter": {
     "outputs_hidden": true
    },
    "tags": []
   },
   "outputs": [
    {
     "name": "stderr",
     "output_type": "stream",
     "text": [
      "                                                                                \r"
     ]
    },
    {
     "name": "stdout",
     "output_type": "stream",
     "text": [
      "0.9225093676362653\n",
      "Test Error = 0.0774906\n"
     ]
    },
    {
     "name": "stderr",
     "output_type": "stream",
     "text": [
      "/opt/conda/lib/python3.10/site-packages/pyspark/sql/context.py:158: FutureWarning: Deprecated in 3.0.0. Use SparkSession.builder.getOrCreate() instead.\n",
      "  warnings.warn(\n",
      "                                                                                \r"
     ]
    },
    {
     "name": "stdout",
     "output_type": "stream",
     "text": [
      "Precision for class  0 : 62.08%\n",
      "Recall for class  0 : 69.81%\n",
      "avg_F1-Score for class  0 : 65.72%\n",
      "----------------------------\n",
      "Precision for class  1 : 95.94%\n",
      "Recall for class  1 : 96.68%\n",
      "avg_F1-Score for class  1 : 96.31%\n",
      "----------------------------\n",
      "Precision for class  2 : 60.81%\n",
      "Recall for class  2 : 66.15%\n",
      "avg_F1-Score for class  2 : 63.37%\n",
      "----------------------------\n",
      "Precision for class  3 : 0.00%\n",
      "Recall for class  3 : 0.00%\n",
      "avg_F1-Score for class  3 : 0.00%\n",
      "----------------------------\n",
      "[0.6572148708254569, 0.9630722179444077, 0.6336796063422635, 0.0]\n",
      "----------------------\n",
      "avg_F1-Score: 56.35%\n"
     ]
    },
    {
     "data": {
      "text/plain": [
       "<Axes: >"
      ]
     },
     "execution_count": 24,
     "metadata": {},
     "output_type": "execute_result"
    },
    {
     "data": {
      "image/png": "[encoded data removed]",
      "text/plain": [
       "<Figure size 700x700 with 1 Axes>"
      ]
     },
     "metadata": {},
     "output_type": "display_data"
    }
   ],
   "source": [
    "dt = DecisionTreeClassifier(labelCol=\"Severity\", featuresCol=\"features\", maxDepth=25, maxBins=64,\n",
    "                            minInstancesPerNode=round(0.005*n), impurity='entropy' )\n",
    "dt = dt.fit(trainingData)\n",
    "predictions = dt.transform(testData)\n",
    "# Select (prediction, true label) and compute test error\n",
    "evaluator = MulticlassClassificationEvaluator(labelCol=\"Severity\"\n",
    "                                              , predictionCol=\"prediction\"\n",
    "                                              , metricName=\"accuracy\")\n",
    "\n",
    "accuracy = evaluator.evaluate(predictions)\n",
    "print(accuracy)\n",
    "print(\"Test Error = %g\" % (1.0 - accuracy))\n",
    "\n",
    "# Calcolare precision, recall e F1-score\n",
    "predictionAndLabels = predictions.select(\"prediction\", \"Severity\").rdd.map(lambda x: (float(x[0]), float(x[1])))\n",
    "metrics = MulticlassMetrics(predictionAndLabels)\n",
    "\n",
    "list_avg=[]\n",
    "for i in range(4):\n",
    "    precision = metrics.precision(label=float(i))  \n",
    "    recall = metrics.recall(label=float(i))\n",
    "    f1Score= metrics.fMeasure(label=float(i)) # need .0\n",
    "    print(\"Precision for class \",i,\": {:.2%}\".format(precision))\n",
    "    print(\"Recall for class \",i,\": {:.2%}\".format(recall))\n",
    "    print(\"avg_F1-Score for class \",i,\": {:.2%}\".format(f1Score))\n",
    "    list_avg.append(f1Score)\n",
    "    print('----------------------------')\n",
    "sum_=0\n",
    "print(list_avg)\n",
    "for elem in list_avg:\n",
    "    sum_+=elem\n",
    "\n",
    "avg_f1=sum_/4\n",
    "print('----------------------')\n",
    "\n",
    "print(\"avg_F1-Score: {:.2%}\".format(avg_f1))\n",
    "\n",
    "labels = [\"0\", \"1\", \"2\", \"3\"]\n",
    "_ = plt.figure(figsize=(7, 7))\n",
    "sns.heatmap(metrics.confusionMatrix().toArray(),\n",
    "            cmap='viridis',\n",
    "            annot=True,fmt='0',\n",
    "            cbar=False, \n",
    "            xticklabels=labels, \n",
    "            yticklabels=labels)"
   ]
  },
  {
   "cell_type": "code",
   "execution_count": 27,
   "id": "5f3a7163-d4b1-4458-86db-e8f6dc570613",
   "metadata": {
    "tags": []
   },
   "outputs": [
    {
     "name": "stdout",
     "output_type": "stream",
     "text": [
      "Le features più importanti per la predizione sono :\n",
      "Distance_mi con un'importanza dello 0.6612883663066517\n",
      "hour con un'importanza dello 0.13902223753669454\n",
      "month con un'importanza dello 0.13289372484121123\n",
      "Traffic_Signal con un'importanza dello 0.035982162223901604\n",
      "Working_Weekend con un'importanza dello 0.01536888202058574\n",
      "Start_Lat con un'importanza dello 0.007937137878130142\n",
      "Start_Lng con un'importanza dello 0.007507489192825154\n"
     ]
    }
   ],
   "source": [
    "feat_imp=dt.featureImportances\n",
    "from pyspark.ml.linalg import SparseVector\n",
    "non_zero_elements = [(index, value) for index, value in zip(feat_imp.indices, feat_imp.values) if value != 0]\n",
    "sorted_non_zero_elements = sorted(non_zero_elements, key=lambda x: x[1], reverse=True)\n",
    "print('Le features più importanti per la predizione sono :')\n",
    "for el in sorted_non_zero_elements:\n",
    "    print(num_col[el[0]], 'con un\\'importanza dello', el[1])"
   ]
  },
  {
   "cell_type": "code",
   "execution_count": 29,
   "id": "c8782f91-7d33-47a0-8515-d7af6679232f",
   "metadata": {
    "collapsed": true,
    "jupyter": {
     "outputs_hidden": true
    },
    "tags": []
   },
   "outputs": [
    {
     "name": "stderr",
     "output_type": "stream",
     "text": [
      "                                                                                \r"
     ]
    },
    {
     "name": "stdout",
     "output_type": "stream",
     "text": [
      "0.5986595588519334\n",
      "Test Error = 0.40134\n"
     ]
    },
    {
     "name": "stderr",
     "output_type": "stream",
     "text": [
      "/opt/conda/lib/python3.10/site-packages/pyspark/sql/context.py:158: FutureWarning: Deprecated in 3.0.0. Use SparkSession.builder.getOrCreate() instead.\n",
      "  warnings.warn(\n",
      "[Stage 176:===================>                                     (3 + 6) / 9]\r"
     ]
    },
    {
     "name": "stdout",
     "output_type": "stream",
     "text": [
      "Precision for class  0 : 52.88%\n",
      "Recall for class  0 : 84.74%\n",
      "avg_F1-Score for class  0 : 65.12%\n",
      "----------------------------\n",
      "Precision for class  1 : 98.94%\n",
      "Recall for class  1 : 57.31%\n",
      "avg_F1-Score for class  1 : 72.58%\n",
      "----------------------------\n",
      "Precision for class  2 : 42.31%\n",
      "Recall for class  2 : 79.11%\n",
      "avg_F1-Score for class  2 : 55.14%\n",
      "----------------------------\n",
      "Precision for class  3 : 3.93%\n",
      "Recall for class  3 : 74.97%\n",
      "avg_F1-Score for class  3 : 7.47%\n",
      "----------------------------\n",
      "[0.6512345679012346, 0.725781099192014, 0.5513674788662357, 0.07471163417061889]\n",
      "----------------------\n",
      "avg_F1-Score: 50.08%\n"
     ]
    },
    {
     "name": "stderr",
     "output_type": "stream",
     "text": [
      "                                                                                \r"
     ]
    },
    {
     "data": {
      "text/plain": [
       "<Axes: >"
      ]
     },
     "execution_count": 29,
     "metadata": {},
     "output_type": "execute_result"
    },
    {
     "data": {
      "image/png": "[encoded data removed]",
      "text/plain": [
       "<Figure size 700x700 with 1 Axes>"
      ]
     },
     "metadata": {},
     "output_type": "display_data"
    }
   ],
   "source": [
    "trainingData_w = trainingData.withColumn(\"weights\", when(trainingData[\"Severity\"] == 0 , n_1/n_0).when(trainingData[\"Severity\"] == 1, 1)\n",
    "    .when(trainingData[\"Severity\"] == 2, n_1/n_2).when(trainingData[\"Severity\"] == 3, n_1/n_3)\n",
    "\n",
    ")\n",
    "\n",
    "dt = DecisionTreeClassifier(labelCol=\"Severity\", featuresCol=\"features\", maxDepth=10, maxBins=32, \n",
    "                            minInstancesPerNode=round(0.02*n), weightCol='weights')\n",
    "dt = dt.fit(trainingData_w)\n",
    "predictions = dt.transform(testData)\n",
    "# Select (prediction, true label) and compute test error\n",
    "evaluator = MulticlassClassificationEvaluator(labelCol=\"Severity\"\n",
    "                                              , predictionCol=\"prediction\"\n",
    "                                              , metricName=\"accuracy\")\n",
    "\n",
    "accuracy = evaluator.evaluate(predictions)\n",
    "print(accuracy)\n",
    "print(\"Test Error = %g\" % (1.0 - accuracy))\n",
    "\n",
    "# Calcolare precision, recall e F1-score\n",
    "predictionAndLabels = predictions.select(\"prediction\", \"Severity\").rdd.map(lambda x: (float(x[0]), float(x[1])))\n",
    "metrics = MulticlassMetrics(predictionAndLabels)\n",
    "\n",
    "list_avg=[]\n",
    "for i in range(4):\n",
    "    precision = metrics.precision(label=float(i))  \n",
    "    recall = metrics.recall(label=float(i))\n",
    "    f1Score= metrics.fMeasure(label=float(i)) # need .0\n",
    "    print(\"Precision for class \",i,\": {:.2%}\".format(precision))\n",
    "    print(\"Recall for class \",i,\": {:.2%}\".format(recall))\n",
    "    print(\"avg_F1-Score for class \",i,\": {:.2%}\".format(f1Score))\n",
    "    list_avg.append(f1Score)\n",
    "    print('----------------------------')\n",
    "sum_=0\n",
    "print(list_avg)\n",
    "for elem in list_avg:\n",
    "    sum_+=elem\n",
    "\n",
    "avg_f1=sum_/4\n",
    "print('----------------------')\n",
    "\n",
    "print(\"avg_F1-Score: {:.2%}\".format(avg_f1))\n",
    "\n",
    "labels = [\"0\", \"1\", \"2\", \"3\"]\n",
    "_ = plt.figure(figsize=(7, 7))\n",
    "sns.heatmap(metrics.confusionMatrix().toArray(),\n",
    "            cmap='viridis',\n",
    "            annot=True,fmt='0',\n",
    "            cbar=False, \n",
    "            xticklabels=labels, \n",
    "            yticklabels=labels)"
   ]
  },
  {
   "cell_type": "code",
   "execution_count": 39,
   "id": "e8ac069f-76d9-434f-a513-82f5ce84497f",
   "metadata": {
    "tags": []
   },
   "outputs": [
    {
     "name": "stdout",
     "output_type": "stream",
     "text": [
      "Le features più importanti per la predizione sono :\n",
      "Distance_mi con un'importanza dello 0.6121533885571321\n",
      "hour con un'importanza dello 0.19393891740806393\n",
      "month con un'importanza dello 0.12014492492903611\n",
      "Start_Lat con un'importanza dello 0.05091408724838658\n",
      "Start_Lng con un'importanza dello 0.017617420537750984\n",
      "Humidity_perc con un'importanza dello 0.005231261319630373\n"
     ]
    }
   ],
   "source": [
    "feat_imp=dt.featureImportances\n",
    "from pyspark.ml.linalg import SparseVector\n",
    "non_zero_elements = [(index, value) for index, value in zip(feat_imp.indices, feat_imp.values) if value != 0]\n",
    "sorted_non_zero_elements = sorted(non_zero_elements, key=lambda x: x[1], reverse=True)\n",
    "print('Le features più importanti per la predizione sono :')\n",
    "for el in sorted_non_zero_elements:\n",
    "    print(num_col[el[0]], 'con un\\'importanza dello', el[1])"
   ]
  },
  {
   "cell_type": "code",
   "execution_count": 38,
   "id": "1871c471-73a3-44de-8b2b-c0b155b067f0",
   "metadata": {
    "collapsed": true,
    "jupyter": {
     "outputs_hidden": true
    },
    "tags": []
   },
   "outputs": [
    {
     "name": "stderr",
     "output_type": "stream",
     "text": [
      "/opt/conda/lib/python3.10/site-packages/pyspark/sql/context.py:158: FutureWarning: Deprecated in 3.0.0. Use SparkSession.builder.getOrCreate() instead.\n",
      "  warnings.warn(\n"
     ]
    },
    {
     "name": "stdout",
     "output_type": "stream",
     "text": [
      "0.7125391122957468\n",
      "Test Error = 0.287461\n"
     ]
    },
    {
     "name": "stderr",
     "output_type": "stream",
     "text": [
      "                                                                                \r"
     ]
    },
    {
     "name": "stdout",
     "output_type": "stream",
     "text": [
      "Precision for class  0 : 46.49%\n",
      "Recall for class  0 : 88.62%\n",
      "avg_F1-Score for class  0 : 60.99%\n",
      "----------------------------\n",
      "Precision for class  1 : 98.61%\n",
      "Recall for class  1 : 70.58%\n",
      "avg_F1-Score for class  1 : 82.27%\n",
      "----------------------------\n",
      "Precision for class  2 : 47.96%\n",
      "Recall for class  2 : 73.74%\n",
      "avg_F1-Score for class  2 : 58.12%\n",
      "----------------------------\n",
      "Precision for class  3 : 5.33%\n",
      "Recall for class  3 : 66.86%\n",
      "avg_F1-Score for class  3 : 9.88%\n",
      "----------------------------\n",
      "[0.6098572086596038, 0.8227321183816437, 0.5811965811965812, 0.09880187532557737]\n",
      "----------------------\n",
      "avg_F1-Score: 52.81%\n"
     ]
    },
    {
     "data": {
      "text/plain": [
       "<Axes: >"
      ]
     },
     "execution_count": 38,
     "metadata": {},
     "output_type": "execute_result"
    },
    {
     "data": {
      "image/png": "[encoded data removed]",
      "text/plain": [
       "<Figure size 700x700 with 1 Axes>"
      ]
     },
     "metadata": {},
     "output_type": "display_data"
    }
   ],
   "source": [
    "trainingData_w = trainingData.withColumn(\"weights\", when(trainingData[\"Severity\"] == 0 , n_1/n_0*0.5).when(trainingData[\"Severity\"] == 1, 1)\n",
    "    .when(trainingData[\"Severity\"] == 2, n_1/n_2*0.5).when(trainingData[\"Severity\"] == 3, n_1/n_3*0.7)\n",
    "\n",
    ")\n",
    "\n",
    "dt = DecisionTreeClassifier(labelCol=\"Severity\", featuresCol=\"features\", maxDepth=25, maxBins=64,\n",
    "                            minInstancesPerNode=round(0.005*n), impurity='entropy', weightCol='weights' )\n",
    "dt = dt.fit(trainingData_w)\n",
    "predictions = dt.transform(testData)\n",
    "# Select (prediction, true label) and compute test error\n",
    "evaluator = MulticlassClassificationEvaluator(labelCol=\"Severity\"\n",
    "                                              , predictionCol=\"prediction\"\n",
    "                                              , metricName=\"accuracy\")\n",
    "\n",
    "accuracy = evaluator.evaluate(predictions)\n",
    "print(accuracy)\n",
    "print(\"Test Error = %g\" % (1.0 - accuracy))\n",
    "\n",
    "# Calcolare precision, recall e F1-score\n",
    "predictionAndLabels = predictions.select(\"prediction\", \"Severity\").rdd.map(lambda x: (float(x[0]), float(x[1])))\n",
    "metrics = MulticlassMetrics(predictionAndLabels)\n",
    "\n",
    "list_avg=[]\n",
    "for i in range(4):\n",
    "    precision = metrics.precision(label=float(i))  \n",
    "    recall = metrics.recall(label=float(i))\n",
    "    f1Score= metrics.fMeasure(label=float(i)) # need .0\n",
    "    print(\"Precision for class \",i,\": {:.2%}\".format(precision))\n",
    "    print(\"Recall for class \",i,\": {:.2%}\".format(recall))\n",
    "    print(\"avg_F1-Score for class \",i,\": {:.2%}\".format(f1Score))\n",
    "    list_avg.append(f1Score)\n",
    "    print('----------------------------')\n",
    "sum_=0\n",
    "print(list_avg)\n",
    "for elem in list_avg:\n",
    "    sum_+=elem\n",
    "\n",
    "avg_f1=sum_/4\n",
    "print('----------------------')\n",
    "\n",
    "print(\"avg_F1-Score: {:.2%}\".format(avg_f1))\n",
    "\n",
    "labels = [\"0\", \"1\", \"2\", \"3\"]\n",
    "_ = plt.figure(figsize=(7, 7))\n",
    "sns.heatmap(metrics.confusionMatrix().toArray(),\n",
    "            cmap='viridis',\n",
    "            annot=True,fmt='0',\n",
    "            cbar=False, \n",
    "            xticklabels=labels, \n",
    "            yticklabels=labels)"
   ]
  },
  {
   "cell_type": "code",
   "execution_count": 41,
   "id": "905e0788-5107-4f69-a182-881ab9a56f6e",
   "metadata": {
    "tags": []
   },
   "outputs": [
    {
     "name": "stdout",
     "output_type": "stream",
     "text": [
      "Le features più importanti per la predizione sono :\n",
      "Distance_mi con un'importanza dello 0.7147739237485864\n",
      "month con un'importanza dello 0.11660536278525323\n",
      "hour con un'importanza dello 0.07814397787664897\n",
      "Start_Lat con un'importanza dello 0.04486030231841338\n",
      "Start_Lng con un'importanza dello 0.03310587302500542\n",
      "Traffic_Signal con un'importanza dello 0.006003467110928374\n",
      "Junction con un'importanza dello 0.0018142425210296536\n",
      "Wind_Speed_mph con un'importanza dello 0.0015118489985857853\n",
      "Humidity_perc con un'importanza dello 0.0014603994263918695\n",
      "Temperature_F con un'importanza dello 0.0011881936922712225\n",
      "Working_Weekend con un'importanza dello 0.0005324084968857959\n"
     ]
    }
   ],
   "source": [
    "feat_imp=dt.featureImportances\n",
    "from pyspark.ml.linalg import SparseVector\n",
    "non_zero_elements = [(index, value) for index, value in zip(feat_imp.indices, feat_imp.values) if value != 0]\n",
    "sorted_non_zero_elements = sorted(non_zero_elements, key=lambda x: x[1], reverse=True)\n",
    "print('Le features più importanti per la predizione sono :')\n",
    "for el in sorted_non_zero_elements:\n",
    "    print(num_col[el[0]], 'con un\\'importanza dello', el[1])"
   ]
  },
  {
   "cell_type": "code",
   "execution_count": 42,
   "id": "f544f2ee-6abc-48a1-8833-05a07e8ff0d7",
   "metadata": {
    "tags": []
   },
   "outputs": [
    {
     "name": "stderr",
     "output_type": "stream",
     "text": [
      "                                                                                \r"
     ]
    },
    {
     "name": "stdout",
     "output_type": "stream",
     "text": [
      "0.7009695986402441\n",
      "Test Error = 0.29903\n"
     ]
    },
    {
     "name": "stderr",
     "output_type": "stream",
     "text": [
      "/opt/conda/lib/python3.10/site-packages/pyspark/sql/context.py:158: FutureWarning: Deprecated in 3.0.0. Use SparkSession.builder.getOrCreate() instead.\n",
      "  warnings.warn(\n",
      "[Stage 494:=========================>                               (4 + 5) / 9]\r"
     ]
    },
    {
     "name": "stdout",
     "output_type": "stream",
     "text": [
      "Precision for class  0 : 48.42%\n",
      "Recall for class  0 : 89.16%\n",
      "avg_F1-Score for class  0 : 62.76%\n",
      "----------------------------\n",
      "Precision for class  1 : 98.41%\n",
      "Recall for class  1 : 69.35%\n",
      "avg_F1-Score for class  1 : 81.36%\n",
      "----------------------------\n",
      "Precision for class  2 : 50.94%\n",
      "Recall for class  2 : 72.43%\n",
      "avg_F1-Score for class  2 : 59.82%\n",
      "----------------------------\n",
      "Precision for class  3 : 4.92%\n",
      "Recall for class  3 : 67.57%\n",
      "avg_F1-Score for class  3 : 9.18%\n",
      "----------------------------\n",
      "[0.6275618374558304, 0.8135961270709058, 0.5981616780579778, 0.09177972865123703]\n",
      "----------------------\n",
      "avg_F1-Score: 53.28%\n"
     ]
    },
    {
     "name": "stderr",
     "output_type": "stream",
     "text": [
      "                                                                                \r"
     ]
    },
    {
     "data": {
      "text/plain": [
       "<Axes: >"
      ]
     },
     "execution_count": 42,
     "metadata": {},
     "output_type": "execute_result"
    },
    {
     "data": {
      "image/png": "[encoded data removed]",
      "text/plain": [
       "<Figure size 700x700 with 1 Axes>"
      ]
     },
     "metadata": {},
     "output_type": "display_data"
    },
    {
     "name": "stderr",
     "output_type": "stream",
     "text": [
      "----------------------------------------\n",
      "Exception occurred during processing of request from ('127.0.0.1', 39754)\n",
      "Traceback (most recent call last):\n",
      "  File \"/opt/conda/lib/python3.10/socketserver.py\", line 316, in _handle_request_noblock\n",
      "    self.process_request(request, client_address)\n",
      "  File \"/opt/conda/lib/python3.10/socketserver.py\", line 347, in process_request\n",
      "    self.finish_request(request, client_address)\n",
      "  File \"/opt/conda/lib/python3.10/socketserver.py\", line 360, in finish_request\n",
      "    self.RequestHandlerClass(request, client_address, self)\n",
      "  File \"/opt/conda/lib/python3.10/socketserver.py\", line 747, in __init__\n",
      "    self.handle()\n",
      "  File \"/opt/conda/lib/python3.10/site-packages/pyspark/accumulators.py\", line 295, in handle\n",
      "    poll(accum_updates)\n",
      "  File \"/opt/conda/lib/python3.10/site-packages/pyspark/accumulators.py\", line 267, in poll\n",
      "    if self.rfile in r and func():\n",
      "  File \"/opt/conda/lib/python3.10/site-packages/pyspark/accumulators.py\", line 271, in accum_updates\n",
      "    num_updates = read_int(self.rfile)\n",
      "  File \"/opt/conda/lib/python3.10/site-packages/pyspark/serializers.py\", line 596, in read_int\n",
      "    raise EOFError\n",
      "EOFError\n",
      "----------------------------------------\n"
     ]
    }
   ],
   "source": [
    "trainingData_w = trainingData.withColumn(\"weights\", when(trainingData[\"Severity\"] == 0 , n_1/n_0*0.4).when(trainingData[\"Severity\"] == 1, 1)\n",
    "    .when(trainingData[\"Severity\"] == 2, n_1/n_2*0.4).when(trainingData[\"Severity\"] == 3, n_1/n_3*0.8)\n",
    "\n",
    ")\n",
    "\n",
    "dt = DecisionTreeClassifier(labelCol=\"Severity\", featuresCol=\"features\", maxDepth=15, maxBins=64,\n",
    "                            minInstancesPerNode=round(0.005*n), weightCol='weights' )\n",
    "dt = dt.fit(trainingData_w)\n",
    "predictions = dt.transform(testData)\n",
    "# Select (prediction, true label) and compute test error\n",
    "evaluator = MulticlassClassificationEvaluator(labelCol=\"Severity\"\n",
    "                                              , predictionCol=\"prediction\"\n",
    "                                              , metricName=\"accuracy\")\n",
    "\n",
    "accuracy = evaluator.evaluate(predictions)\n",
    "print(accuracy)\n",
    "print(\"Test Error = %g\" % (1.0 - accuracy))\n",
    "\n",
    "# Calcolare precision, recall e F1-score\n",
    "predictionAndLabels = predictions.select(\"prediction\", \"Severity\").rdd.map(lambda x: (float(x[0]), float(x[1])))\n",
    "metrics = MulticlassMetrics(predictionAndLabels)\n",
    "\n",
    "list_avg=[]\n",
    "for i in range(4):\n",
    "    precision = metrics.precision(label=float(i))  \n",
    "    recall = metrics.recall(label=float(i))\n",
    "    f1Score= metrics.fMeasure(label=float(i)) # need .0\n",
    "    print(\"Precision for class \",i,\": {:.2%}\".format(precision))\n",
    "    print(\"Recall for class \",i,\": {:.2%}\".format(recall))\n",
    "    print(\"avg_F1-Score for class \",i,\": {:.2%}\".format(f1Score))\n",
    "    list_avg.append(f1Score)\n",
    "    print('----------------------------')\n",
    "sum_=0\n",
    "print(list_avg)\n",
    "for elem in list_avg:\n",
    "    sum_+=elem\n",
    "\n",
    "avg_f1=sum_/4\n",
    "print('----------------------')\n",
    "\n",
    "print(\"avg_F1-Score: {:.2%}\".format(avg_f1))\n",
    "\n",
    "labels = [\"0\", \"1\", \"2\", \"3\"]\n",
    "_ = plt.figure(figsize=(7, 7))\n",
    "sns.heatmap(metrics.confusionMatrix().toArray(),\n",
    "            cmap='viridis',\n",
    "            annot=True,fmt='0',\n",
    "            cbar=False, \n",
    "            xticklabels=labels, \n",
    "            yticklabels=labels)"
   ]
  },
  {
   "cell_type": "code",
   "execution_count": 43,
   "id": "b719fa0f-4ab7-4a65-baa0-54e698d73cf7",
   "metadata": {
    "tags": []
   },
   "outputs": [
    {
     "name": "stdout",
     "output_type": "stream",
     "text": [
      "Le features più importanti per la predizione sono :\n",
      "Distance_mi con un'importanza dello 0.572924799182621\n",
      "hour con un'importanza dello 0.12643825081676635\n",
      "month con un'importanza dello 0.10832896488943804\n",
      "Start_Lat con un'importanza dello 0.0947573656725931\n",
      "Start_Lng con un'importanza dello 0.06155956073097662\n",
      "Traffic_Signal con un'importanza dello 0.017985559770060115\n",
      "Humidity_perc con un'importanza dello 0.0062392211180105\n",
      "Junction con un'importanza dello 0.005960122078013797\n",
      "Wind_Speed_mph con un'importanza dello 0.004576102442835202\n",
      "Temperature_F con un'importanza dello 0.0007607514520151893\n",
      "Weather_Condition_1hot con un'importanza dello 0.0004693018466702224\n"
     ]
    }
   ],
   "source": [
    "feat_imp=dt.featureImportances\n",
    "from pyspark.ml.linalg import SparseVector\n",
    "non_zero_elements = [(index, value) for index, value in zip(feat_imp.indices, feat_imp.values) if value != 0]\n",
    "sorted_non_zero_elements = sorted(non_zero_elements, key=lambda x: x[1], reverse=True)\n",
    "print('Le features più importanti per la predizione sono :')\n",
    "for el in sorted_non_zero_elements:\n",
    "    print(num_col[el[0]], 'con un\\'importanza dello', el[1])"
   ]
  },
  {
   "cell_type": "markdown",
   "id": "9cc3cc17-4e85-4bef-ae89-429b32e9802e",
   "metadata": {
    "tags": []
   },
   "source": [
    "### Hyperparameter Tuning Random Forest"
   ]
  },
  {
   "cell_type": "code",
   "execution_count": 23,
   "id": "fb6733f1-16eb-43de-8ad9-964db2800b8f",
   "metadata": {
    "tags": []
   },
   "outputs": [
    {
     "name": "stderr",
     "output_type": "stream",
     "text": [
      "                                                                                \r"
     ]
    },
    {
     "name": "stdout",
     "output_type": "stream",
     "text": [
      "Test Accuracy = 0.926314\n",
      "Alberi :  5 maxDepth :  10\n"
     ]
    },
    {
     "name": "stderr",
     "output_type": "stream",
     "text": [
      "/opt/conda/lib/python3.10/site-packages/pyspark/sql/context.py:158: FutureWarning: Deprecated in 3.0.0. Use SparkSession.builder.getOrCreate() instead.\n",
      "  warnings.warn(\n",
      "                                                                                \r"
     ]
    },
    {
     "name": "stdout",
     "output_type": "stream",
     "text": [
      "Precision for class  0 : 62.49%\n",
      "Recall for class  0 : 73.03%\n",
      "avg_F1-Score for class  0 : 67.35%\n",
      "----------------------------\n",
      "Precision for class  1 : 95.16%\n",
      "Recall for class  1 : 97.64%\n",
      "avg_F1-Score for class  1 : 96.39%\n",
      "----------------------------\n",
      "Precision for class  2 : 69.68%\n",
      "Recall for class  2 : 57.79%\n",
      "avg_F1-Score for class  2 : 63.18%\n",
      "----------------------------\n",
      "Precision for class  3 : 100.00%\n",
      "Recall for class  3 : 0.12%\n",
      "avg_F1-Score for class  3 : 0.23%\n",
      "----------------------------\n",
      "[0.6734567901234567, 0.9638673344367302, 0.6318252730109205, 0.0023474178403755865]\n",
      "----------------------\n",
      "avg_F1-Score: 56.79%\n"
     ]
    },
    {
     "data": {
      "image/png": "[encoded data removed]",
      "text/plain": [
       "<Figure size 700x700 with 1 Axes>"
      ]
     },
     "metadata": {},
     "output_type": "display_data"
    },
    {
     "name": "stderr",
     "output_type": "stream",
     "text": [
      "23/12/13 16:18:09 WARN DAGScheduler: Broadcasting large task binary with size 1083.0 KiB\n",
      "23/12/13 16:18:12 WARN DAGScheduler: Broadcasting large task binary with size 1542.9 KiB\n",
      "23/12/13 16:18:13 WARN DAGScheduler: Broadcasting large task binary with size 2.1 MiB\n",
      "23/12/13 16:18:15 WARN DAGScheduler: Broadcasting large task binary with size 2.7 MiB\n",
      "23/12/13 16:18:17 WARN DAGScheduler: Broadcasting large task binary with size 3.5 MiB\n",
      "23/12/13 16:18:20 WARN DAGScheduler: Broadcasting large task binary with size 2025.7 KiB\n",
      "                                                                                \r"
     ]
    },
    {
     "name": "stdout",
     "output_type": "stream",
     "text": [
      "Test Accuracy = 0.927898\n",
      "Alberi :  5 maxDepth :  15\n"
     ]
    },
    {
     "name": "stderr",
     "output_type": "stream",
     "text": [
      "/opt/conda/lib/python3.10/site-packages/pyspark/sql/context.py:158: FutureWarning: Deprecated in 3.0.0. Use SparkSession.builder.getOrCreate() instead.\n",
      "  warnings.warn(\n",
      "23/12/13 16:18:26 WARN DAGScheduler: Broadcasting large task binary with size 2013.4 KiB\n",
      "23/12/13 16:18:26 WARN DAGScheduler: Broadcasting large task binary with size 2024.9 KiB\n",
      "                                                                                \r"
     ]
    },
    {
     "name": "stdout",
     "output_type": "stream",
     "text": [
      "Precision for class  0 : 64.61%\n",
      "Recall for class  0 : 72.36%\n",
      "avg_F1-Score for class  0 : 68.27%\n",
      "----------------------------\n",
      "Precision for class  1 : 95.44%\n",
      "Recall for class  1 : 97.41%\n",
      "avg_F1-Score for class  1 : 96.42%\n",
      "----------------------------\n",
      "Precision for class  2 : 69.60%\n",
      "Recall for class  2 : 62.93%\n",
      "avg_F1-Score for class  2 : 66.10%\n",
      "----------------------------\n",
      "Precision for class  3 : 31.15%\n",
      "Recall for class  3 : 2.23%\n",
      "avg_F1-Score for class  3 : 4.17%\n",
      "----------------------------\n",
      "[0.682664982633407, 0.9641691002941906, 0.6609712230215826, 0.041666666666666664]\n",
      "----------------------\n",
      "avg_F1-Score: 58.74%\n"
     ]
    },
    {
     "data": {
      "image/png": "[encoded data removed]",
      "text/plain": [
       "<Figure size 700x700 with 1 Axes>"
      ]
     },
     "metadata": {},
     "output_type": "display_data"
    },
    {
     "name": "stderr",
     "output_type": "stream",
     "text": [
      "23/12/13 16:18:51 WARN DAGScheduler: Broadcasting large task binary with size 1083.0 KiB\n",
      "23/12/13 16:18:52 WARN DAGScheduler: Broadcasting large task binary with size 1542.9 KiB\n",
      "23/12/13 16:18:53 WARN DAGScheduler: Broadcasting large task binary with size 2.1 MiB\n",
      "23/12/13 16:18:56 WARN DAGScheduler: Broadcasting large task binary with size 2.7 MiB\n",
      "23/12/13 16:19:02 WARN DAGScheduler: Broadcasting large task binary with size 3.5 MiB\n",
      "23/12/13 16:19:09 WARN DAGScheduler: Broadcasting large task binary with size 4.3 MiB\n",
      "23/12/13 16:19:12 WARN DAGScheduler: Broadcasting large task binary with size 5.2 MiB\n",
      "23/12/13 16:19:18 WARN DAGScheduler: Broadcasting large task binary with size 6.1 MiB\n",
      "23/12/13 16:19:25 WARN DAGScheduler: Broadcasting large task binary with size 6.9 MiB\n",
      "23/12/13 16:19:33 WARN DAGScheduler: Broadcasting large task binary with size 7.7 MiB\n",
      "23/12/13 16:19:48 WARN DAGScheduler: Broadcasting large task binary with size 4.2 MiB\n",
      "                                                                                \r"
     ]
    },
    {
     "name": "stdout",
     "output_type": "stream",
     "text": [
      "Test Accuracy = 0.927164\n",
      "Alberi :  5 maxDepth :  20\n"
     ]
    },
    {
     "name": "stderr",
     "output_type": "stream",
     "text": [
      "/opt/conda/lib/python3.10/site-packages/pyspark/sql/context.py:158: FutureWarning: Deprecated in 3.0.0. Use SparkSession.builder.getOrCreate() instead.\n",
      "  warnings.warn(\n",
      "23/12/13 16:20:03 WARN DAGScheduler: Broadcasting large task binary with size 4.2 MiB\n",
      "23/12/13 16:20:05 WARN DAGScheduler: Broadcasting large task binary with size 4.2 MiB\n",
      "                                                                                \r"
     ]
    },
    {
     "name": "stdout",
     "output_type": "stream",
     "text": [
      "Precision for class  0 : 67.51%\n",
      "Recall for class  0 : 71.62%\n",
      "avg_F1-Score for class  0 : 69.50%\n",
      "----------------------------\n",
      "Precision for class  1 : 95.45%\n",
      "Recall for class  1 : 97.23%\n",
      "avg_F1-Score for class  1 : 96.33%\n",
      "----------------------------\n",
      "Precision for class  2 : 69.21%\n",
      "Recall for class  2 : 63.90%\n",
      "avg_F1-Score for class  2 : 66.45%\n",
      "----------------------------\n",
      "Precision for class  3 : 23.70%\n",
      "Recall for class  3 : 4.82%\n",
      "avg_F1-Score for class  3 : 8.01%\n",
      "----------------------------\n",
      "[0.6950308541734329, 0.9633249196384268, 0.6644902804570412, 0.080078125]\n",
      "----------------------\n",
      "avg_F1-Score: 60.07%\n"
     ]
    },
    {
     "data": {
      "image/png": "[encoded data removed]",
      "text/plain": [
       "<Figure size 700x700 with 1 Axes>"
      ]
     },
     "metadata": {},
     "output_type": "display_data"
    }
   ],
   "source": [
    "for maxDepth in range(10,21,5):\n",
    "    rf = RandomForestClassifier(labelCol=\"Severity\", featuresCol=\"features\", numTrees=5,maxDepth= maxDepth) \n",
    "    # Addestra il modello sul set di dati sottocampionato\n",
    "    model = rf.fit(trainingData) \n",
    "    predictions = model.transform(testData)\n",
    "    evaluator = MulticlassClassificationEvaluator(\n",
    "    labelCol=\"Severity\", predictionCol=\"prediction\", metricName=\"accuracy\")\n",
    "    accuracy = evaluator.evaluate(predictions)\n",
    "    print(\"Test Accuracy = %g\" % accuracy) \n",
    "    print(\"Alberi : \",5,\"maxDepth : \",maxDepth)\n",
    "    from pyspark.mllib.evaluation import MulticlassMetrics\n",
    "    # Calcolare precision, recall e F1-score\n",
    "    predictionAndLabels = predictions.select(\"prediction\", \"Severity\").rdd.map(lambda x: (float(x[0]), float(x[1])))\n",
    "    metrics = MulticlassMetrics(predictionAndLabels)\n",
    "\n",
    "    list_avg=[]\n",
    "    for i in range(4):\n",
    "        precision = metrics.precision(label=float(i))  \n",
    "        recall = metrics.recall(label=float(i))\n",
    "        f1Score= metrics.fMeasure(label=float(i)) # need .0\n",
    "        print(\"Precision for class \",i,\": {:.2%}\".format(precision))\n",
    "        print(\"Recall for class \",i,\": {:.2%}\".format(recall))\n",
    "        print(\"avg_F1-Score for class \",i,\": {:.2%}\".format(f1Score))\n",
    "        list_avg.append(f1Score)\n",
    "        print('----------------------------')\n",
    "    sum_=0\n",
    "    print(list_avg)\n",
    "    for elem in list_avg:\n",
    "        sum_+=elem\n",
    "\n",
    "    avg_f1=sum_/4\n",
    "    print('----------------------')\n",
    "\n",
    "    print(\"avg_F1-Score: {:.2%}\".format(avg_f1))\n",
    "    import seaborn as sns\n",
    "    import matplotlib.pyplot as plt\n",
    "    labels = [\"0\", \"1\", \"2\", \"3\"]\n",
    "    _ = plt.figure(figsize=(7, 7))\n",
    "    sns.heatmap(metrics.confusionMatrix().toArray(),\n",
    "                cmap='viridis',\n",
    "                annot=True,fmt='0',\n",
    "                cbar=False, \n",
    "                xticklabels=labels, \n",
    "                yticklabels=labels)\n",
    "    plt.show()"
   ]
  },
  {
   "cell_type": "code",
   "execution_count": null,
   "id": "1b6bcd91-49a0-43cf-a837-75013df22892",
   "metadata": {},
   "outputs": [],
   "source": []
  },
  {
   "cell_type": "markdown",
   "id": "67823c1d-7fa7-4ce7-98c1-5f9455959af9",
   "metadata": {
    "jp-MarkdownHeadingCollapsed": true,
    "tags": []
   },
   "source": [
    "### Grid Decision Tree"
   ]
  },
  {
   "cell_type": "code",
   "execution_count": 79,
   "id": "add196f6-5cff-45bd-8e2a-62771334e1f9",
   "metadata": {
    "tags": []
   },
   "outputs": [],
   "source": [
    "from pyspark.ml.evaluation import MulticlassClassificationEvaluator\n",
    "from pyspark.ml.tuning import ParamGridBuilder, CrossValidator\n",
    "from pyspark.mllib.evaluation import MulticlassMetrics"
   ]
  },
  {
   "cell_type": "code",
   "execution_count": 50,
   "id": "11b00068-71cd-46d8-9a8f-b72cf2224e5c",
   "metadata": {
    "tags": []
   },
   "outputs": [],
   "source": [
    "dt = DecisionTreeClassifier(labelCol=\"Severity\", featuresCol=\"features\")\n",
    "\n",
    "# Definiamo la Pipeline\n",
    "#pipeline = Pipeline(stages=[dt])"
   ]
  },
  {
   "cell_type": "code",
   "execution_count": 51,
   "id": "afcc0c6c-2722-4af6-90f0-d739ac7f57b6",
   "metadata": {
    "tags": []
   },
   "outputs": [],
   "source": [
    "n=df.count()"
   ]
  },
  {
   "cell_type": "code",
   "execution_count": 54,
   "id": "437c2efc-2b32-453a-9932-38a4aa968c0f",
   "metadata": {},
   "outputs": [
    {
     "name": "stderr",
     "output_type": "stream",
     "text": [
      "[Stage 23244:================================================>      (8 + 1) / 9]\r"
     ]
    },
    {
     "name": "stdout",
     "output_type": "stream",
     "text": [
      "Accuratezza sul set di test utilizzando il miglior modello = 92.65%\n",
      "Migliori parametri:\n"
     ]
    },
    {
     "name": "stderr",
     "output_type": "stream",
     "text": [
      "                                                                                \r"
     ]
    },
    {
     "ename": "AttributeError",
     "evalue": "'DecisionTreeClassificationModel' object has no attribute 'layers'",
     "output_type": "error",
     "traceback": [
      "\u001b[0;31m---------------------------------------------------------------------------\u001b[0m",
      "\u001b[0;31mAttributeError\u001b[0m                            Traceback (most recent call last)",
      "Cell \u001b[0;32mIn[54], line 36\u001b[0m\n\u001b[1;32m     34\u001b[0m \u001b[38;5;66;03m# Stampa i migliori parametri trovati durante il tuning\u001b[39;00m\n\u001b[1;32m     35\u001b[0m \u001b[38;5;28mprint\u001b[39m(\u001b[38;5;124m\"\u001b[39m\u001b[38;5;124mMigliori parametri:\u001b[39m\u001b[38;5;124m\"\u001b[39m)\n\u001b[0;32m---> 36\u001b[0m \u001b[38;5;28mprint\u001b[39m(\u001b[38;5;124m\"\u001b[39m\u001b[38;5;124mLayers: \u001b[39m\u001b[38;5;132;01m{}\u001b[39;00m\u001b[38;5;124m\"\u001b[39m\u001b[38;5;241m.\u001b[39mformat(\u001b[43mbest_model\u001b[49m\u001b[38;5;241;43m.\u001b[39;49m\u001b[43mlayers\u001b[49m))\n\u001b[1;32m     37\u001b[0m \u001b[38;5;28mprint\u001b[39m(\u001b[38;5;124m\"\u001b[39m\u001b[38;5;124mMax Iterations: \u001b[39m\u001b[38;5;132;01m{}\u001b[39;00m\u001b[38;5;124m\"\u001b[39m\u001b[38;5;241m.\u001b[39mformat(best_model\u001b[38;5;241m.\u001b[39mgetMaxIter()))\n",
      "\u001b[0;31mAttributeError\u001b[0m: 'DecisionTreeClassificationModel' object has no attribute 'layers'"
     ]
    }
   ],
   "source": [
    "param_grid = (ParamGridBuilder()\n",
    "              .addGrid(dt.maxDepth, [5,10,15,20,25,30])\n",
    "              .addGrid(dt.maxBins, [32, 64, 128])\n",
    "              .addGrid(dt.minInstancesPerNode, [round(0.01*n),round(0.005*n),round(0.001*n),round(0.02*n)])\n",
    "              .addGrid(dt.impurity, ['entropy', 'gini'])\n",
    "              .build())\n",
    "\n",
    "# Crea il CrossValidator\n",
    "cross_validator = CrossValidator(estimator=dt,\n",
    "                                 estimatorParamMaps=param_grid,\n",
    "                                 evaluator=MulticlassClassificationEvaluator(labelCol=\"Severity\", \n",
    "                                                                             predictionCol=\"prediction\", \n",
    "                                                                             metricName=\"accuracy\"),\n",
    "                                 numFolds=5,\n",
    "                                 )\n",
    "\n",
    "# Esegui la cross-validation e scegli il miglior set di parametri\n",
    "cv_model = cross_validator.fit(trainingData)\n",
    "\n",
    "# Ottieni il miglior modello dalla cross-validation\n",
    "best_model = cv_model.bestModel\n",
    "\n",
    "# Esegui predizioni sul set di test utilizzando il miglior modello\n",
    "result = best_model.transform(testData)\n",
    "\n",
    "# Valuta l'accuratezza sul set di test\n",
    "evaluator = MulticlassClassificationEvaluator(labelCol=\"Severity\", \n",
    "                                              predictionCol=\"prediction\", \n",
    "                                              metricName=\"accuracy\")\n",
    "\n",
    "accuracy = evaluator.evaluate(result)\n",
    "print(\"Accuratezza sul set di test utilizzando il miglior modello = {:.2%}\".format(accuracy))\n"
   ]
  },
  {
   "cell_type": "code",
   "execution_count": 58,
   "id": "e7cc9e52-7d92-4a15-858f-f2ecef422cae",
   "metadata": {
    "tags": []
   },
   "outputs": [
    {
     "data": {
      "text/plain": [
       "SparseVector(28, {0: 0.0297, 1: 0.0294, 2: 0.637, 19: 0.0456, 20: 0.1225, 21: 0.1358})"
      ]
     },
     "execution_count": 58,
     "metadata": {},
     "output_type": "execute_result"
    }
   ],
   "source": [
    "best_model.featureImportances"
   ]
  },
  {
   "cell_type": "code",
   "execution_count": 57,
   "id": "11fa343a-3b81-4706-a525-b015cf236517",
   "metadata": {
    "collapsed": true,
    "jupyter": {
     "outputs_hidden": true
    },
    "tags": []
   },
   "outputs": [
    {
     "name": "stdout",
     "output_type": "stream",
     "text": [
      "DecisionTreeClassificationModel: uid=DecisionTreeClassifier_a936a7752804, depth=9, numNodes=63, numClasses=5, numFeatures=28\n",
      "  If (feature 2 <= 0.0015)\n",
      "   If (feature 20 <= 4.5)\n",
      "    If (feature 21 <= 11.5)\n",
      "     If (feature 19 <= 0.5)\n",
      "      If (feature 0 <= 32.485717)\n",
      "       If (feature 1 <= -90.748863)\n",
      "        Predict: 2.0\n",
      "       Else (feature 1 > -90.748863)\n",
      "        Predict: 3.0\n",
      "      Else (feature 0 > 32.485717)\n",
      "       If (feature 1 <= -109.906473)\n",
      "        Predict: 2.0\n",
      "       Else (feature 1 > -109.906473)\n",
      "        If (feature 21 <= 8.5)\n",
      "         If (feature 1 <= -97.12063549999999)\n",
      "          Predict: 3.0\n",
      "         Else (feature 1 > -97.12063549999999)\n",
      "          If (feature 1 <= -96.7038785)\n",
      "           Predict: 2.0\n",
      "          Else (feature 1 > -96.7038785)\n",
      "           Predict: 3.0\n",
      "        Else (feature 21 > 8.5)\n",
      "         Predict: 3.0\n",
      "     Else (feature 19 > 0.5)\n",
      "      Predict: 2.0\n",
      "    Else (feature 21 > 11.5)\n",
      "     If (feature 19 <= 0.5)\n",
      "      If (feature 1 <= -97.557363)\n",
      "       If (feature 0 <= 30.0837885)\n",
      "        Predict: 3.0\n",
      "       Else (feature 0 > 30.0837885)\n",
      "        If (feature 1 <= -111.9502225)\n",
      "         Predict: 3.0\n",
      "        Else (feature 1 > -111.9502225)\n",
      "         Predict: 2.0\n",
      "      Else (feature 1 > -97.557363)\n",
      "       If (feature 0 <= 29.714164500000003)\n",
      "        Predict: 2.0\n",
      "       Else (feature 0 > 29.714164500000003)\n",
      "        Predict: 3.0\n",
      "     Else (feature 19 > 0.5)\n",
      "      Predict: 2.0\n",
      "   Else (feature 20 > 4.5)\n",
      "    If (feature 21 <= 10.5)\n",
      "     If (feature 19 <= 0.5)\n",
      "      If (feature 0 <= 32.452536)\n",
      "       If (feature 0 <= 30.0837885)\n",
      "        If (feature 0 <= 29.680429000000004)\n",
      "         Predict: 1.0\n",
      "        Else (feature 0 > 29.680429000000004)\n",
      "         Predict: 3.0\n",
      "       Else (feature 0 > 30.0837885)\n",
      "        Predict: 1.0\n",
      "      Else (feature 0 > 32.452536)\n",
      "       If (feature 21 <= 8.5)\n",
      "        If (feature 1 <= -96.90210103999999)\n",
      "         If (feature 1 <= -98.48404500000001)\n",
      "          If (feature 1 <= -112.098848)\n",
      "           Predict: 3.0\n",
      "          Else (feature 1 > -112.098848)\n",
      "           Predict: 2.0\n",
      "         Else (feature 1 > -98.48404500000001)\n",
      "          Predict: 3.0\n",
      "        Else (feature 1 > -96.90210103999999)\n",
      "         If (feature 0 <= 32.8886445)\n",
      "          If (feature 1 <= -96.7038785)\n",
      "           Predict: 1.0\n",
      "          Else (feature 1 > -96.7038785)\n",
      "           Predict: 3.0\n",
      "         Else (feature 0 > 32.8886445)\n",
      "          Predict: 2.0\n",
      "       Else (feature 21 > 8.5)\n",
      "        Predict: 3.0\n",
      "     Else (feature 19 > 0.5)\n",
      "      Predict: 1.0\n",
      "    Else (feature 21 > 10.5)\n",
      "     If (feature 19 <= 0.5)\n",
      "      If (feature 1 <= -109.906473)\n",
      "       If (feature 1 <= -112.0387335)\n",
      "        Predict: 3.0\n",
      "       Else (feature 1 > -112.0387335)\n",
      "        Predict: 2.0\n",
      "      Else (feature 1 > -109.906473)\n",
      "       Predict: 3.0\n",
      "     Else (feature 19 > 0.5)\n",
      "      If (feature 1 <= -97.78324)\n",
      "       Predict: 2.0\n",
      "      Else (feature 1 > -97.78324)\n",
      "       If (feature 1 <= -95.70305228187702)\n",
      "        Predict: 3.0\n",
      "       Else (feature 1 > -95.70305228187702)\n",
      "        Predict: 2.0\n",
      "  Else (feature 2 > 0.0015)\n",
      "   Predict: 2.0\n",
      "\n"
     ]
    }
   ],
   "source": [
    "print(best_model.toDebugString)"
   ]
  },
  {
   "cell_type": "code",
   "execution_count": 60,
   "id": "6f983e13-7e60-4439-bd76-0237179aa743",
   "metadata": {},
   "outputs": [
    {
     "name": "stderr",
     "output_type": "stream",
     "text": [
      "                                                                                \r"
     ]
    },
    {
     "data": {
      "text/plain": [
       "[Row(prediction=1.0), Row(prediction=3.0), Row(prediction=2.0)]"
      ]
     },
     "execution_count": 60,
     "metadata": {},
     "output_type": "execute_result"
    }
   ],
   "source": [
    "result.select('prediction').distinct().collect()"
   ]
  },
  {
   "cell_type": "code",
   "execution_count": 63,
   "id": "2a338226-4f23-4b8d-9834-4424866d67db",
   "metadata": {},
   "outputs": [
    {
     "name": "stderr",
     "output_type": "stream",
     "text": [
      "/opt/conda/lib/python3.10/site-packages/pyspark/sql/context.py:158: FutureWarning: Deprecated in 3.0.0. Use SparkSession.builder.getOrCreate() instead.\n",
      "  warnings.warn(\n",
      "[Stage 23255:>                                                      (0 + 1) / 1]\r"
     ]
    },
    {
     "name": "stdout",
     "output_type": "stream",
     "text": [
      "DenseMatrix([[1.0240e+03, 2.0900e+02, 2.6100e+02, 0.0000e+00],\n",
      "             [3.3900e+02, 4.4585e+04, 1.0010e+03, 0.0000e+00],\n",
      "             [2.4200e+02, 9.0200e+02, 2.3600e+03, 0.0000e+00],\n",
      "             [0.0000e+00, 8.4700e+02, 4.0000e+00, 0.0000e+00]])\n"
     ]
    },
    {
     "name": "stderr",
     "output_type": "stream",
     "text": [
      "                                                                                \r"
     ]
    }
   ],
   "source": [
    "from pyspark.sql.types import FloatType\n",
    "from pyspark.mllib.evaluation import MulticlassMetrics\n",
    "\n",
    "\n",
    "#important: need to cast to float type, and order by prediction, else it won't work\n",
    "preds_and_labels = result.select(['prediction','Severity']).withColumn('label', F.col('Severity').cast(FloatType())).orderBy('prediction')\n",
    "\n",
    "#select only prediction and label columns\n",
    "preds_and_labels = preds_and_labels.select(['prediction','label'])\n",
    "\n",
    "metrics = MulticlassMetrics(preds_and_labels.rdd.map(tuple))\n",
    "\n",
    "print(metrics.confusionMatrix())"
   ]
  },
  {
   "cell_type": "code",
   "execution_count": 79,
   "id": "a2f9ef65-d215-4b83-9bb9-d5677e82a925",
   "metadata": {
    "tags": []
   },
   "outputs": [
    {
     "name": "stderr",
     "output_type": "stream",
     "text": [
      "[Stage 23295:========================>                              (4 + 5) / 9]\r"
     ]
    },
    {
     "name": "stdout",
     "output_type": "stream",
     "text": [
      "+----------+-----+\n",
      "|prediction|count|\n",
      "+----------+-----+\n",
      "|       1.0| 1605|\n",
      "|       3.0| 3626|\n",
      "|       2.0|46543|\n",
      "+----------+-----+\n",
      "\n"
     ]
    },
    {
     "name": "stderr",
     "output_type": "stream",
     "text": [
      "                                                                                \r"
     ]
    }
   ],
   "source": [
    "result_counts = result.groupBy(\"prediction\").count()\n",
    "\n",
    "# Stampare i risultati\n",
    "result_counts.show()"
   ]
  },
  {
   "cell_type": "code",
   "execution_count": 80,
   "id": "00b9ccb7-17c0-4651-b26a-b7a970e45a8d",
   "metadata": {},
   "outputs": [
    {
     "name": "stderr",
     "output_type": "stream",
     "text": [
      "[Stage 23298:==============================>                        (5 + 4) / 9]\r"
     ]
    },
    {
     "name": "stdout",
     "output_type": "stream",
     "text": [
      "+--------+-----+\n",
      "|Severity|count|\n",
      "+--------+-----+\n",
      "|       1| 1494|\n",
      "|       3| 3504|\n",
      "|       4|  851|\n",
      "|       2|45925|\n",
      "+--------+-----+\n",
      "\n"
     ]
    },
    {
     "name": "stderr",
     "output_type": "stream",
     "text": [
      "                                                                                \r"
     ]
    }
   ],
   "source": [
    "result_counts = result.groupBy(\"Severity\").count()\n",
    "\n",
    "# Stampare i risultati\n",
    "result_counts.show()"
   ]
  },
  {
   "cell_type": "markdown",
   "id": "b4fe1038-aac9-4807-aefe-847c1f94db4a",
   "metadata": {},
   "source": [
    "Dopo una grid search l'accuratezza aumenta leggermente da 92.19% a 92.65%. In ogni caso, la classe 4 non viene mai riconosciuta. TP per classe 2 e 3 sono più alti per la grid search, invece la classe 1 viene riconosciuta meglio dal dt base"
   ]
  },
  {
   "cell_type": "markdown",
   "id": "543f601c-5069-43aa-86de-d1f465a0a4b0",
   "metadata": {},
   "source": [
    "#### Grid aggiungendo i pesi di ciascuna classe"
   ]
  },
  {
   "cell_type": "code",
   "execution_count": 80,
   "id": "8bf6e78d-9b55-4a30-96b8-c23aea5227e5",
   "metadata": {
    "tags": []
   },
   "outputs": [],
   "source": [
    "from pyspark.ml.evaluation import MulticlassClassificationEvaluator\n",
    "from pyspark.ml.tuning import ParamGridBuilder, CrossValidator\n",
    "from pyspark.mllib.evaluation import MulticlassMetrics\n",
    "from pyspark.sql.functions import lit"
   ]
  },
  {
   "cell_type": "code",
   "execution_count": 81,
   "id": "fe018404-e9bc-4a84-b263-72d5765b4f58",
   "metadata": {
    "tags": []
   },
   "outputs": [],
   "source": [
    "dt = DecisionTreeClassifier(labelCol=\"Severity\", featuresCol=\"features\")\n",
    "\n",
    "# Definiamo la Pipeline\n",
    "#pipeline = Pipeline(stages=[dt])"
   ]
  },
  {
   "cell_type": "code",
   "execution_count": 82,
   "id": "82e8e53f-54c1-42cd-b453-1eb9fd965afd",
   "metadata": {
    "tags": []
   },
   "outputs": [],
   "source": [
    "n=df.count()"
   ]
  },
  {
   "cell_type": "code",
   "execution_count": 71,
   "id": "aa408711-390c-4486-ae48-774c39f0ce02",
   "metadata": {
    "tags": []
   },
   "outputs": [
    {
     "name": "stderr",
     "output_type": "stream",
     "text": [
      "[Stage 68:=========================>                                (4 + 5) / 9]\r"
     ]
    },
    {
     "name": "stdout",
     "output_type": "stream",
     "text": [
      "+--------+------+\n",
      "|Severity| Count|\n",
      "+--------+------+\n",
      "|       4|  1933|\n",
      "|       1|  3645|\n",
      "|       3|  8207|\n",
      "|       2|108039|\n",
      "+--------+------+\n",
      "\n"
     ]
    },
    {
     "name": "stderr",
     "output_type": "stream",
     "text": [
      "                                                                                \r"
     ]
    }
   ],
   "source": [
    "from pyspark.sql import functions as F\n",
    "g=trainingData.groupBy('Severity').agg(F.count('Severity').alias('Count'))\n",
    "g.sort('Count').show()"
   ]
  },
  {
   "cell_type": "code",
   "execution_count": 69,
   "id": "c8efcf71-de60-403b-a5fb-4295afeb86fd",
   "metadata": {
    "tags": []
   },
   "outputs": [],
   "source": [
    "trainingData = trainingData.withColumn(\"weights1\", lit(1))#colonna con pesi tutti pari ad 1"
   ]
  },
  {
   "cell_type": "code",
   "execution_count": 74,
   "id": "ebd05755-9441-412a-ba42-da41455adb03",
   "metadata": {
    "tags": []
   },
   "outputs": [],
   "source": [
    "# Creiamo la colonna 'weights' basata sulla frequenza delle classi\n",
    "trainingData = trainingData.withColumn(\"weights2\", when(trainingData[\"Severity\"] == 0,n_1/n_0)#Calcolo del peso per la classe 0\n",
    "    .when(trainingData[\"Severity\"] == 1, 1)  # Calcolo del peso per la classe 1\n",
    "    .when(trainingData[\"Severity\"] == 2, n_1 / n_2)  # Calcolo del peso per la classe 2\n",
    "    .when(trainingData[\"Severity\"] == 3, n_1 / n_3)  # Calcolo del peso per la classe 3\n",
    ")\n"
   ]
  },
  {
   "cell_type": "code",
   "execution_count": 75,
   "id": "9de61941-1aae-4878-9093-faaf1aa2646a",
   "metadata": {
    "tags": []
   },
   "outputs": [],
   "source": [
    "trainingData = trainingData.withColumn(\"weights3\", when(trainingData[\"Severity\"] == 3,n_1 / n_3).otherwise(1))#teniamo solo il peso per la classe 3\n",
    "#che non viene mai riconosciuta dal modello, alle altre lasciamo pesi pari ad 1\n",
    "\n"
   ]
  },
  {
   "cell_type": "code",
   "execution_count": 83,
   "id": "3a3c4281-e4c5-413f-bda5-a348a6c6b77b",
   "metadata": {
    "tags": []
   },
   "outputs": [
    {
     "data": {
      "text/plain": [
       "DataFrame[features: vector, Severity: int, weights1: int, weights2: double, weights3: double]"
      ]
     },
     "execution_count": 83,
     "metadata": {},
     "output_type": "execute_result"
    }
   ],
   "source": [
    "trainingData"
   ]
  },
  {
   "cell_type": "code",
   "execution_count": 86,
   "id": "472d742e-25e1-43f1-91aa-4894d85a87a4",
   "metadata": {},
   "outputs": [
    {
     "name": "stderr",
     "output_type": "stream",
     "text": [
      "23/12/08 16:35:09 WARN BlockManager: Asked to remove block broadcast_39998_piece0, which does not exist\n",
      "[Stage 70705:========================>                              (4 + 5) / 9]\r"
     ]
    },
    {
     "name": "stdout",
     "output_type": "stream",
     "text": [
      "Accuratezza sul set di test utilizzando il miglior modello = 92.48%\n"
     ]
    },
    {
     "name": "stderr",
     "output_type": "stream",
     "text": [
      "                                                                                \r"
     ]
    }
   ],
   "source": [
    "param_grid = (ParamGridBuilder()\n",
    "              .addGrid(dt.maxDepth, [5,10,15,20,25,30])\n",
    "              .addGrid(dt.maxBins, [32, 64, 128])\n",
    "              .addGrid(dt.minInstancesPerNode, [round(0.01*n),round(0.005*n),round(0.001*n),round(0.02*n)])\n",
    "              .addGrid(dt.weightCol, ['weights1','weights2','weights3'])\n",
    "              .addGrid(dt.impurity, ['entropy', 'gini'])\n",
    "              .build())\n",
    "\n",
    "# Crea il CrossValidator\n",
    "cross_validator = CrossValidator(estimator=dt,\n",
    "                                 estimatorParamMaps=param_grid,\n",
    "                                 evaluator=MulticlassClassificationEvaluator(labelCol=\"Severity\", \n",
    "                                                                             predictionCol=\"prediction\", \n",
    "                                                                             metricName=\"accuracy\"),\n",
    "                                 numFolds=5,\n",
    "                                 )\n",
    "\n",
    "# Esegui la cross-validation e scegli il miglior set di parametri\n",
    "cv_model = cross_validator.fit(trainingData)\n",
    "\n",
    "# Ottieni il miglior modello dalla cross-validation\n",
    "best_model = cv_model.bestModel\n",
    "\n",
    "# Esegui predizioni sul set di test utilizzando il miglior modello\n",
    "result = best_model.transform(testData)\n",
    "\n",
    "# Valuta l'accuratezza sul set di test\n",
    "evaluator = MulticlassClassificationEvaluator(labelCol=\"Severity\", \n",
    "                                              predictionCol=\"prediction\", \n",
    "                                              metricName=\"accuracy\")\n",
    "\n",
    "accuracy = evaluator.evaluate(result)\n",
    "print(\"Accuratezza sul set di test utilizzando il miglior modello = {:.2%}\".format(accuracy))\n"
   ]
  },
  {
   "cell_type": "code",
   "execution_count": 87,
   "id": "78f86dd2-55a0-4a5d-96aa-84b1a9eccc09",
   "metadata": {
    "tags": []
   },
   "outputs": [
    {
     "data": {
      "text/plain": [
       "SparseVector(28, {0: 0.0147, 1: 0.0151, 2: 0.7566, 4: 0.0004, 19: 0.0286, 20: 0.1078, 21: 0.0768})"
      ]
     },
     "execution_count": 87,
     "metadata": {},
     "output_type": "execute_result"
    }
   ],
   "source": [
    "best_model.featureImportances"
   ]
  },
  {
   "cell_type": "code",
   "execution_count": 88,
   "id": "f1493aef-c768-459f-ba13-77ecde0b2343",
   "metadata": {
    "collapsed": true,
    "jupyter": {
     "outputs_hidden": true
    },
    "tags": []
   },
   "outputs": [
    {
     "name": "stdout",
     "output_type": "stream",
     "text": [
      "DecisionTreeClassificationModel: uid=DecisionTreeClassifier_82ae68269034, depth=9, numNodes=59, numClasses=5, numFeatures=28\n",
      "  If (feature 2 <= 0.0015)\n",
      "   If (feature 20 <= 4.5)\n",
      "    If (feature 21 <= 11.5)\n",
      "     If (feature 19 <= 0.5)\n",
      "      If (feature 0 <= 31.317270999999998)\n",
      "       Predict: 2.0\n",
      "      Else (feature 0 > 31.317270999999998)\n",
      "       If (feature 1 <= -110.777632)\n",
      "        Predict: 2.0\n",
      "       Else (feature 1 > -110.777632)\n",
      "        If (feature 21 <= 8.5)\n",
      "         If (feature 1 <= -97.080408)\n",
      "          Predict: 3.0\n",
      "         Else (feature 1 > -97.080408)\n",
      "          If (feature 1 <= -96.65978962734064)\n",
      "           Predict: 2.0\n",
      "          Else (feature 1 > -96.65978962734064)\n",
      "           Predict: 3.0\n",
      "        Else (feature 21 > 8.5)\n",
      "         Predict: 3.0\n",
      "     Else (feature 19 > 0.5)\n",
      "      Predict: 2.0\n",
      "    Else (feature 21 > 11.5)\n",
      "     If (feature 19 <= 0.5)\n",
      "      If (feature 1 <= -97.5204535)\n",
      "       If (feature 0 <= 30.063663617672766)\n",
      "        Predict: 3.0\n",
      "       Else (feature 0 > 30.063663617672766)\n",
      "        If (feature 1 <= -111.9373815)\n",
      "         Predict: 3.0\n",
      "        Else (feature 1 > -111.9373815)\n",
      "         Predict: 2.0\n",
      "      Else (feature 1 > -97.5204535)\n",
      "       If (feature 0 <= 29.7182335)\n",
      "        Predict: 2.0\n",
      "       Else (feature 0 > 29.7182335)\n",
      "        Predict: 3.0\n",
      "     Else (feature 19 > 0.5)\n",
      "      Predict: 2.0\n",
      "   Else (feature 20 > 4.5)\n",
      "    If (feature 21 <= 10.5)\n",
      "     If (feature 19 <= 0.5)\n",
      "      If (feature 0 <= 32.488659999999996)\n",
      "       If (feature 0 <= 30.063663617672766)\n",
      "        If (feature 1 <= -95.4621765)\n",
      "         Predict: 1.0\n",
      "        Else (feature 1 > -95.4621765)\n",
      "         Predict: 3.0\n",
      "       Else (feature 0 > 30.063663617672766)\n",
      "        Predict: 1.0\n",
      "      Else (feature 0 > 32.488659999999996)\n",
      "       If (feature 21 <= 8.5)\n",
      "        If (feature 1 <= -96.897985)\n",
      "         If (feature 1 <= -98.5782045)\n",
      "          If (feature 20 <= 6.5)\n",
      "           Predict: 2.0\n",
      "          Else (feature 20 > 6.5)\n",
      "           Predict: 1.0\n",
      "         Else (feature 1 > -98.5782045)\n",
      "          Predict: 3.0\n",
      "        Else (feature 1 > -96.897985)\n",
      "         If (feature 1 <= -96.68300500000001)\n",
      "          Predict: 1.0\n",
      "         Else (feature 1 > -96.68300500000001)\n",
      "          Predict: 3.0\n",
      "       Else (feature 21 > 8.5)\n",
      "        Predict: 3.0\n",
      "     Else (feature 19 > 0.5)\n",
      "      Predict: 1.0\n",
      "    Else (feature 21 > 10.5)\n",
      "     If (feature 19 <= 0.5)\n",
      "      If (feature 1 <= -109.1520375)\n",
      "       If (feature 1 <= -112.0383785)\n",
      "        Predict: 3.0\n",
      "       Else (feature 1 > -112.0383785)\n",
      "        Predict: 2.0\n",
      "      Else (feature 1 > -109.1520375)\n",
      "       Predict: 3.0\n",
      "     Else (feature 19 > 0.5)\n",
      "      If (feature 1 <= -98.2649355)\n",
      "       Predict: 2.0\n",
      "      Else (feature 1 > -98.2649355)\n",
      "       If (feature 4 <= 50.1875)\n",
      "        Predict: 3.0\n",
      "       Else (feature 4 > 50.1875)\n",
      "        Predict: 2.0\n",
      "  Else (feature 2 > 0.0015)\n",
      "   Predict: 2.0\n",
      "\n"
     ]
    }
   ],
   "source": [
    "print(best_model.toDebugString)"
   ]
  },
  {
   "cell_type": "code",
   "execution_count": 90,
   "id": "86039388-cba6-429c-a1e6-dfa4a2edfdf6",
   "metadata": {},
   "outputs": [
    {
     "name": "stderr",
     "output_type": "stream",
     "text": [
      "                                                                                \r"
     ]
    },
    {
     "data": {
      "text/plain": [
       "[Row(prediction=1.0), Row(prediction=3.0), Row(prediction=2.0)]"
      ]
     },
     "execution_count": 90,
     "metadata": {},
     "output_type": "execute_result"
    }
   ],
   "source": [
    "result.select('prediction').distinct().collect()"
   ]
  },
  {
   "cell_type": "code",
   "execution_count": 89,
   "id": "e280ee8e-199e-48cb-84e5-06881b1cb46f",
   "metadata": {},
   "outputs": [
    {
     "name": "stderr",
     "output_type": "stream",
     "text": [
      "                                                                                \r"
     ]
    },
    {
     "name": "stdout",
     "output_type": "stream",
     "text": [
      "DenseMatrix([[1.1480e+03, 1.7800e+02, 2.1500e+02, 0.0000e+00],\n",
      "             [3.9800e+02, 4.4463e+04, 9.5700e+02, 0.0000e+00],\n",
      "             [3.4300e+02, 9.3200e+02, 2.2700e+03, 0.0000e+00],\n",
      "             [2.0000e+00, 8.6600e+02, 2.0000e+00, 0.0000e+00]])\n"
     ]
    },
    {
     "name": "stderr",
     "output_type": "stream",
     "text": [
      "                                                                                \r"
     ]
    }
   ],
   "source": [
    "from pyspark.sql.types import FloatType\n",
    "from pyspark.mllib.evaluation import MulticlassMetrics\n",
    "\n",
    "\n",
    "#important: need to cast to float type, and order by prediction, else it won't work\n",
    "preds_and_labels = result.select(['prediction','Severity']).withColumn('label', F.col('Severity').cast(FloatType())).orderBy('prediction')\n",
    "\n",
    "#select only prediction and label columns\n",
    "preds_and_labels = preds_and_labels.select(['prediction','label'])\n",
    "\n",
    "metrics = MulticlassMetrics(preds_and_labels.rdd.map(tuple))\n",
    "\n",
    "print(metrics.confusionMatrix())"
   ]
  },
  {
   "cell_type": "code",
   "execution_count": 91,
   "id": "670158e6-7c65-4ec9-ad94-0a890ba1de67",
   "metadata": {
    "tags": []
   },
   "outputs": [
    {
     "name": "stderr",
     "output_type": "stream",
     "text": [
      "[Stage 70717:==================>                                    (3 + 6) / 9]\r"
     ]
    },
    {
     "name": "stdout",
     "output_type": "stream",
     "text": [
      "+----------+-----+\n",
      "|prediction|count|\n",
      "+----------+-----+\n",
      "|       1.0| 1891|\n",
      "|       3.0| 3444|\n",
      "|       2.0|46439|\n",
      "+----------+-----+\n",
      "\n"
     ]
    },
    {
     "name": "stderr",
     "output_type": "stream",
     "text": [
      "                                                                                \r"
     ]
    }
   ],
   "source": [
    "result_counts = result.groupBy(\"prediction\").count()\n",
    "\n",
    "# Stampare i risultati\n",
    "result_counts.show()"
   ]
  },
  {
   "cell_type": "code",
   "execution_count": null,
   "id": "a860a975-9d8f-44be-9a8d-761a91a84052",
   "metadata": {
    "tags": []
   },
   "outputs": [],
   "source": []
  },
  {
   "cell_type": "code",
   "execution_count": 92,
   "id": "a25b89ea-fb8e-47e1-b999-1ea4e993909e",
   "metadata": {},
   "outputs": [
    {
     "name": "stderr",
     "output_type": "stream",
     "text": [
      "[Stage 70720:====================================>                  (6 + 3) / 9]\r"
     ]
    },
    {
     "name": "stdout",
     "output_type": "stream",
     "text": [
      "+--------+-----+\n",
      "|Severity|count|\n",
      "+--------+-----+\n",
      "|       1| 1541|\n",
      "|       3| 3545|\n",
      "|       4|  870|\n",
      "|       2|45818|\n",
      "+--------+-----+\n",
      "\n"
     ]
    },
    {
     "name": "stderr",
     "output_type": "stream",
     "text": [
      "                                                                                \r"
     ]
    }
   ],
   "source": [
    "result_counts = result.groupBy(\"Severity\").count()\n",
    "\n",
    "# Stampare i risultati\n",
    "result_counts.show()"
   ]
  },
  {
   "cell_type": "markdown",
   "id": "421979dd-4675-4df4-b74c-17eb0f7b5127",
   "metadata": {},
   "source": [
    "### Undersampling Decision Tree"
   ]
  },
  {
   "cell_type": "markdown",
   "id": "7b9d69ef-2dca-4b74-903a-3851a097e5fb",
   "metadata": {},
   "source": [
    "Faccio una media delle occorrenze delle altre tre classi e riduco la classe di maggioranza a quel numero"
   ]
  },
  {
   "cell_type": "code",
   "execution_count": 44,
   "id": "9c48c88a-e0e7-4d66-9fd9-59c8c8c8b06f",
   "metadata": {
    "tags": []
   },
   "outputs": [],
   "source": [
    "und=(n_0+n_2+n_3)/3"
   ]
  },
  {
   "cell_type": "code",
   "execution_count": 45,
   "id": "2cc62124-3adb-444b-b936-3b601eb13115",
   "metadata": {
    "tags": []
   },
   "outputs": [],
   "source": [
    "train_und = trainingData.sampleBy('Severity', fractions={0:1.0 ,1: und/n_1 , 2:1.0, 3:1.0})"
   ]
  },
  {
   "cell_type": "code",
   "execution_count": 46,
   "id": "66754d73-f9af-4b81-ba2e-a53a0489176d",
   "metadata": {
    "tags": []
   },
   "outputs": [
    {
     "name": "stderr",
     "output_type": "stream",
     "text": [
      "                                                                                \r"
     ]
    }
   ],
   "source": [
    "from pyspark.ml.classification import DecisionTreeClassifier\n",
    "\n",
    "dt = DecisionTreeClassifier(labelCol=\"Severity\", featuresCol=\"features\")\n",
    "\n",
    "dt = dt.fit(train_und)"
   ]
  },
  {
   "cell_type": "code",
   "execution_count": 47,
   "id": "247cf00b-e2ff-4ae0-a1df-394db0855570",
   "metadata": {
    "tags": []
   },
   "outputs": [
    {
     "name": "stdout",
     "output_type": "stream",
     "text": [
      "Le features più importanti per la predizione sono :\n",
      "Distance_mi con un'importanza dello 0.5878387933407612\n",
      "hour con un'importanza dello 0.18787016737761703\n",
      "month con un'importanza dello 0.13517178917503334\n",
      "Traffic_Signal con un'importanza dello 0.024515717507060573\n",
      "Start_Lat con un'importanza dello 0.024461436818320137\n",
      "Crossing con un'importanza dello 0.018810805473401394\n",
      "Working_Weekend con un'importanza dello 0.016604658753093828\n",
      "Start_Lng con un'importanza dello 0.004077988489718357\n",
      "Visibility_mi con un'importanza dello 0.0006486430649941318\n"
     ]
    }
   ],
   "source": [
    "feat_imp=dt.featureImportances\n",
    "from pyspark.ml.linalg import SparseVector\n",
    "non_zero_elements = [(index, value) for index, value in zip(feat_imp.indices, feat_imp.values) if value != 0]\n",
    "sorted_non_zero_elements = sorted(non_zero_elements, key=lambda x: x[1], reverse=True)\n",
    "print('Le features più importanti per la predizione sono :')\n",
    "for el in sorted_non_zero_elements:\n",
    "    print(num_col[el[0]], 'con un\\'importanza dello', el[1])"
   ]
  },
  {
   "cell_type": "code",
   "execution_count": 46,
   "id": "a7e7a59b-04c4-4221-954f-02e19504c228",
   "metadata": {
    "tags": []
   },
   "outputs": [],
   "source": [
    "# Make predictions.\n",
    "predictions = dt.transform(testData)\n",
    "\n",
    "#predictions.show(20)"
   ]
  },
  {
   "cell_type": "code",
   "execution_count": 47,
   "id": "9405f81f-ed5d-4623-858b-2ca82e1ef83a",
   "metadata": {
    "tags": []
   },
   "outputs": [],
   "source": [
    "from pyspark.ml.evaluation import MulticlassClassificationEvaluator"
   ]
  },
  {
   "cell_type": "code",
   "execution_count": 48,
   "id": "6832fe50-df7e-471b-a2dd-758fee049e50",
   "metadata": {
    "tags": []
   },
   "outputs": [
    {
     "name": "stderr",
     "output_type": "stream",
     "text": [
      "[Stage 95:======>                                                   (1 + 8) / 9]\r"
     ]
    },
    {
     "name": "stdout",
     "output_type": "stream",
     "text": [
      "0.865453702630664\n",
      "Test Error = 0.134546\n"
     ]
    },
    {
     "name": "stderr",
     "output_type": "stream",
     "text": [
      "                                                                                \r"
     ]
    }
   ],
   "source": [
    "# Select (prediction, true label) and compute test error\n",
    "evaluator = MulticlassClassificationEvaluator(labelCol=\"Severity\"\n",
    "                                              , predictionCol=\"prediction\"\n",
    "                                              , metricName=\"accuracy\")\n",
    "\n",
    "accuracy = evaluator.evaluate(predictions)\n",
    "print(accuracy)\n",
    "print(\"Test Error = %g\" % (1.0 - accuracy))"
   ]
  },
  {
   "cell_type": "code",
   "execution_count": 49,
   "id": "adf0f4c6-3366-4cb3-aec8-c633321a2774",
   "metadata": {
    "tags": []
   },
   "outputs": [
    {
     "name": "stderr",
     "output_type": "stream",
     "text": [
      "/opt/conda/lib/python3.10/site-packages/pyspark/sql/context.py:158: FutureWarning: Deprecated in 3.0.0. Use SparkSession.builder.getOrCreate() instead.\n",
      "  warnings.warn(\n",
      "[Stage 98:======================================>                   (6 + 3) / 9]\r"
     ]
    },
    {
     "name": "stdout",
     "output_type": "stream",
     "text": [
      "Precision for class  0 : 49.77%\n",
      "Recall for class  0 : 88.69%\n",
      "avg_F1-Score for class  0 : 63.76%\n",
      "----------------------------\n",
      "Precision for class  1 : 97.83%\n",
      "Recall for class  1 : 88.35%\n",
      "avg_F1-Score for class  1 : 92.85%\n",
      "----------------------------\n",
      "Precision for class  2 : 46.50%\n",
      "Recall for class  2 : 78.77%\n",
      "avg_F1-Score for class  2 : 58.48%\n",
      "----------------------------\n",
      "Precision for class  3 : 8.80%\n",
      "Recall for class  3 : 17.63%\n",
      "avg_F1-Score for class  3 : 11.74%\n",
      "----------------------------\n",
      "[0.6376323387872954, 0.9284758058056912, 0.5848077126814282, 0.11737089201877934]\n",
      "----------------------\n",
      "avg_F1-Score: 56.71%\n"
     ]
    },
    {
     "name": "stderr",
     "output_type": "stream",
     "text": [
      "                                                                                \r"
     ]
    }
   ],
   "source": [
    "from pyspark.mllib.evaluation import MulticlassMetrics\n",
    "# Calcolare precision, recall e F1-score\n",
    "predictionAndLabels = predictions.select(\"prediction\", \"Severity\").rdd.map(lambda x: (float(x[0]), float(x[1])))\n",
    "metrics = MulticlassMetrics(predictionAndLabels)\n",
    "\n",
    "list_avg=[]\n",
    "for i in range(4):\n",
    "    precision = metrics.precision(label=float(i))  \n",
    "    recall = metrics.recall(label=float(i))\n",
    "    f1Score= metrics.fMeasure(label=float(i)) # need .0\n",
    "    print(\"Precision for class \",i,\": {:.2%}\".format(precision))\n",
    "    print(\"Recall for class \",i,\": {:.2%}\".format(recall))\n",
    "    print(\"avg_F1-Score for class \",i,\": {:.2%}\".format(f1Score))\n",
    "    list_avg.append(f1Score)\n",
    "    print('----------------------------')\n",
    "sum_=0\n",
    "print(list_avg)\n",
    "for elem in list_avg:\n",
    "    sum_+=elem\n",
    "\n",
    "avg_f1=sum_/4\n",
    "print('----------------------')\n",
    "\n",
    "print(\"avg_F1-Score: {:.2%}\".format(avg_f1))"
   ]
  },
  {
   "cell_type": "code",
   "execution_count": 50,
   "id": "cba2a1f4-b0a8-4838-9ba5-cd24422df013",
   "metadata": {},
   "outputs": [
    {
     "data": {
      "text/plain": [
       "<Axes: >"
      ]
     },
     "execution_count": 50,
     "metadata": {},
     "output_type": "execute_result"
    },
    {
     "data": {
      "image/png": "[encoded data removed]",
      "text/plain": [
       "<Figure size 700x700 with 1 Axes>"
      ]
     },
     "metadata": {},
     "output_type": "display_data"
    }
   ],
   "source": [
    "import seaborn as sns\n",
    "import matplotlib.pyplot as plt\n",
    "\n",
    "labels = [\"0\", \"1\", \"2\", \"3\"]\n",
    "_ = plt.figure(figsize=(7, 7))\n",
    "sns.heatmap(metrics.confusionMatrix().toArray(),\n",
    "            cmap='viridis',\n",
    "            annot=True,fmt='0',\n",
    "            cbar=False, \n",
    "            xticklabels=labels, \n",
    "            yticklabels=labels)"
   ]
  },
  {
   "cell_type": "markdown",
   "id": "c33f56a2-5ecd-4af0-8b68-14e30aa161d6",
   "metadata": {},
   "source": [
    "### Undersampling Random Forest"
   ]
  },
  {
   "cell_type": "code",
   "execution_count": 20,
   "id": "649d9cdc-813c-4405-846d-b7fa246a7170",
   "metadata": {
    "tags": []
   },
   "outputs": [
    {
     "name": "stderr",
     "output_type": "stream",
     "text": [
      "[Stage 51:============>                                             (2 + 7) / 9]\r"
     ]
    },
    {
     "name": "stdout",
     "output_type": "stream",
     "text": [
      "Test Accuracy = 0.902268\n"
     ]
    },
    {
     "name": "stderr",
     "output_type": "stream",
     "text": [
      "                                                                                \r"
     ]
    }
   ],
   "source": [
    "from pyspark.ml import Pipeline\n",
    "from pyspark.ml.classification import RandomForestClassifier\n",
    "from pyspark.ml.feature import IndexToString, StringIndexer, VectorIndexer\n",
    "from pyspark.ml.evaluation import MulticlassClassificationEvaluator\n",
    "from pyspark.mllib.evaluation import MulticlassMetrics\n",
    "\n",
    "# Train a RandomForest model.\n",
    "rf = RandomForestClassifier(labelCol=\"Severity\", featuresCol=\"features\", numTrees=10)\n",
    "\n",
    "\n",
    "# Train model.  This also runs the indexers.\n",
    "model = rf.fit(train_und)\n",
    "\n",
    "# Make predictions.\n",
    "predictions = model.transform(testData)\n",
    "\n",
    "# Select example rows to display.\n",
    "#predictions.select(\"predictedLabel\", \"Severity\", \"features\").show(5)\n",
    "\n",
    "evaluator = MulticlassClassificationEvaluator(\n",
    "    labelCol=\"Severity\", predictionCol=\"prediction\", metricName=\"accuracy\")\n",
    "accuracy = evaluator.evaluate(predictions)\n",
    "print(\"Test Accuracy = %g\" % (accuracy))\n"
   ]
  },
  {
   "cell_type": "code",
   "execution_count": 65,
   "id": "fe3d399c-3f50-423e-bbca-9c0a6a54d527",
   "metadata": {
    "tags": []
   },
   "outputs": [
    {
     "name": "stdout",
     "output_type": "stream",
     "text": [
      "Le features più importanti per la predizione sono :\n",
      "Distance_mi con un'importanza dello 0.5900640375889754\n",
      "month con un'importanza dello 0.12415762396096944\n",
      "hour con un'importanza dello 0.09638401485805824\n",
      "Temperature_F con un'importanza dello 0.0352334093607984\n",
      "Traffic_Signal con un'importanza dello 0.031787611478965055\n",
      "Start_Lat con un'importanza dello 0.027430302669734525\n",
      "Start_Lng con un'importanza dello 0.026479025985123562\n",
      "Humidity_perc con un'importanza dello 0.021624336405664808\n",
      "Crossing con un'importanza dello 0.017346098693595262\n",
      "Wind_Speed_mph con un'importanza dello 0.010006743246720337\n",
      "Working_Weekend con un'importanza dello 0.00963972645193331\n",
      "Astronomical_Twilight con un'importanza dello 0.003736928173264075\n",
      "Stop con un'importanza dello 0.0037191795365214184\n",
      "Weather_Condition_1hot con un'importanza dello 0.0007675441854816697\n",
      "Station con un'importanza dello 0.000503464959096789\n",
      "Junction con un'importanza dello 0.0004385699601344944\n",
      "Railway con un'importanza dello 0.000221534754779951\n",
      "Visibility_mi con un'importanza dello 0.00020176465290111485\n",
      "Weather_Condition_1hot con un'importanza dello 8.581339683652105e-05\n",
      "Weather_Condition_1hot con un'importanza dello 7.074605667710358e-05\n",
      "Precipitation_in con un'importanza dello 6.45712366215108e-05\n",
      "Weather_Condition_1hot con un'importanza dello 3.695238714700582e-05\n"
     ]
    }
   ],
   "source": [
    "feat_imp=model.featureImportances\n",
    "from pyspark.ml.linalg import SparseVector\n",
    "non_zero_elements = [(index, value) for index, value in zip(feat_imp.indices, feat_imp.values) if value != 0]\n",
    "sorted_non_zero_elements = sorted(non_zero_elements, key=lambda x: x[1], reverse=True)\n",
    "print('Le features più importanti per la predizione sono :')\n",
    "for el in sorted_non_zero_elements:\n",
    "    if el[0]>=24:\n",
    "        print(num_col[len(num_col)-1], 'con un\\'importanza dello', el[1])\n",
    "    else:\n",
    "        print(num_col[el[0]], 'con un\\'importanza dello', el[1])"
   ]
  },
  {
   "cell_type": "code",
   "execution_count": 21,
   "id": "da8556db-dac5-4cce-8d19-4c47603f8bd9",
   "metadata": {
    "tags": []
   },
   "outputs": [
    {
     "name": "stderr",
     "output_type": "stream",
     "text": [
      "/opt/conda/lib/python3.10/site-packages/pyspark/sql/context.py:158: FutureWarning: Deprecated in 3.0.0. Use SparkSession.builder.getOrCreate() instead.\n",
      "  warnings.warn(\n",
      "[Stage 54:================================>                         (5 + 4) / 9]\r"
     ]
    },
    {
     "name": "stdout",
     "output_type": "stream",
     "text": [
      "Precision for class  0 : 67.30%\n",
      "Recall for class  0 : 23.56%\n",
      "avg_F1-Score for class  0 : 34.90%\n",
      "----------------------------\n",
      "Precision for class  1 : 90.86%\n",
      "Recall for class  1 : 99.29%\n",
      "avg_F1-Score for class  1 : 94.89%\n",
      "----------------------------\n",
      "Precision for class  2 : 71.74%\n",
      "Recall for class  2 : 21.80%\n",
      "avg_F1-Score for class  2 : 33.44%\n",
      "----------------------------\n",
      "Precision for class  3 : 0.00%\n",
      "Recall for class  3 : 0.00%\n",
      "avg_F1-Score for class  3 : 0.00%\n",
      "----------------------------\n",
      "[0.34903321764997514, 0.9488612125563151, 0.33442766469687024, 0.0]\n",
      "----------------------\n",
      "avg_F1-Score: 40.81%\n"
     ]
    },
    {
     "name": "stderr",
     "output_type": "stream",
     "text": [
      "                                                                                \r"
     ]
    }
   ],
   "source": [
    "from pyspark.mllib.evaluation import MulticlassMetrics\n",
    "# Calcolare precision, recall e F1-score\n",
    "predictionAndLabels = predictions.select(\"prediction\", \"Severity\").rdd.map(lambda x: (float(x[0]), float(x[1])))\n",
    "metrics = MulticlassMetrics(predictionAndLabels)\n",
    "\n",
    "list_avg=[]\n",
    "for i in range(4):\n",
    "    precision = metrics.precision(label=float(i))  \n",
    "    recall = metrics.recall(label=float(i))\n",
    "    f1Score= metrics.fMeasure(label=float(i)) # need .0\n",
    "    print(\"Precision for class \",i,\": {:.2%}\".format(precision))\n",
    "    print(\"Recall for class \",i,\": {:.2%}\".format(recall))\n",
    "    print(\"avg_F1-Score for class \",i,\": {:.2%}\".format(f1Score))\n",
    "    list_avg.append(f1Score)\n",
    "    print('----------------------------')\n",
    "sum_=0\n",
    "print(list_avg)\n",
    "for elem in list_avg:\n",
    "    sum_+=elem\n",
    "\n",
    "avg_f1=sum_/4\n",
    "print('----------------------')\n",
    "\n",
    "print(\"avg_F1-Score: {:.2%}\".format(avg_f1))"
   ]
  },
  {
   "cell_type": "code",
   "execution_count": 22,
   "id": "c47b9f59-0d82-4601-ad6a-ff938a63552b",
   "metadata": {},
   "outputs": [
    {
     "data": {
      "text/plain": [
       "<Axes: >"
      ]
     },
     "execution_count": 22,
     "metadata": {},
     "output_type": "execute_result"
    },
    {
     "data": {
      "image/png": "[encoded data removed]",
      "text/plain": [
       "<Figure size 700x700 with 1 Axes>"
      ]
     },
     "metadata": {},
     "output_type": "display_data"
    }
   ],
   "source": [
    "import seaborn as sns\n",
    "import matplotlib.pyplot as plt\n",
    "\n",
    "labels = [\"0\", \"1\", \"2\", \"3\"]\n",
    "_ = plt.figure(figsize=(7, 7))\n",
    "sns.heatmap(metrics.confusionMatrix().toArray(),\n",
    "            cmap='viridis',\n",
    "            annot=True,fmt='0',\n",
    "            cbar=False, \n",
    "            xticklabels=labels, \n",
    "            yticklabels=labels)"
   ]
  },
  {
   "cell_type": "code",
   "execution_count": 26,
   "id": "68415db0-1246-472f-ac63-4f0265a2fe26",
   "metadata": {
    "tags": []
   },
   "outputs": [
    {
     "name": "stderr",
     "output_type": "stream",
     "text": [
      "/opt/conda/lib/python3.10/site-packages/pyspark/sql/context.py:158: FutureWarning: Deprecated in 3.0.0. Use SparkSession.builder.getOrCreate() instead.\n",
      "  warnings.warn(\n"
     ]
    },
    {
     "name": "stdout",
     "output_type": "stream",
     "text": [
      "Test Accuracy = 0.835632\n",
      "Alberi :  5 maxDepth :  10\n"
     ]
    },
    {
     "name": "stderr",
     "output_type": "stream",
     "text": [
      "                                                                                \r"
     ]
    },
    {
     "name": "stdout",
     "output_type": "stream",
     "text": [
      "Precision for class  0 : 55.23%\n",
      "Recall for class  0 : 79.85%\n",
      "avg_F1-Score for class  0 : 65.30%\n",
      "----------------------------\n",
      "Precision for class  1 : 98.20%\n",
      "Recall for class  1 : 84.46%\n",
      "avg_F1-Score for class  1 : 90.82%\n",
      "----------------------------\n",
      "Precision for class  2 : 45.27%\n",
      "Recall for class  2 : 84.82%\n",
      "avg_F1-Score for class  2 : 59.03%\n",
      "----------------------------\n",
      "Precision for class  3 : 8.76%\n",
      "Recall for class  3 : 36.55%\n",
      "avg_F1-Score for class  3 : 14.13%\n",
      "----------------------------\n",
      "[0.6529830322933772, 0.9081501252604716, 0.5903267454563512, 0.14126731773790596]\n",
      "----------------------\n",
      "avg_F1-Score: 57.32%\n"
     ]
    },
    {
     "data": {
      "image/png": "[encoded data removed]",
      "text/plain": [
       "<Figure size 700x700 with 1 Axes>"
      ]
     },
     "metadata": {},
     "output_type": "display_data"
    },
    {
     "name": "stderr",
     "output_type": "stream",
     "text": [
      "23/12/13 16:26:35 WARN DAGScheduler: Broadcasting large task binary with size 1059.8 KiB\n",
      "23/12/13 16:26:36 WARN DAGScheduler: Broadcasting large task binary with size 1369.7 KiB\n",
      "23/12/13 16:26:37 WARN DAGScheduler: Broadcasting large task binary with size 1713.4 KiB\n",
      "23/12/13 16:26:38 WARN DAGScheduler: Broadcasting large task binary with size 2.0 MiB\n",
      "23/12/13 16:26:39 WARN DAGScheduler: Broadcasting large task binary with size 1350.9 KiB\n",
      "                                                                                \r"
     ]
    },
    {
     "name": "stdout",
     "output_type": "stream",
     "text": [
      "Test Accuracy = 0.799417\n",
      "Alberi :  5 maxDepth :  15\n"
     ]
    },
    {
     "name": "stderr",
     "output_type": "stream",
     "text": [
      "/opt/conda/lib/python3.10/site-packages/pyspark/sql/context.py:158: FutureWarning: Deprecated in 3.0.0. Use SparkSession.builder.getOrCreate() instead.\n",
      "  warnings.warn(\n",
      "23/12/13 16:26:44 WARN DAGScheduler: Broadcasting large task binary with size 1338.6 KiB\n",
      "23/12/13 16:26:45 WARN DAGScheduler: Broadcasting large task binary with size 1350.2 KiB\n",
      "[Stage 238:===============================>                         (5 + 4) / 9]\r"
     ]
    },
    {
     "name": "stdout",
     "output_type": "stream",
     "text": [
      "Precision for class  0 : 55.89%\n",
      "Recall for class  0 : 82.26%\n",
      "avg_F1-Score for class  0 : 66.56%\n",
      "----------------------------\n",
      "Precision for class  1 : 98.47%\n",
      "Recall for class  1 : 79.95%\n",
      "avg_F1-Score for class  1 : 88.25%\n",
      "----------------------------\n",
      "Precision for class  2 : 44.97%\n",
      "Recall for class  2 : 86.02%\n",
      "avg_F1-Score for class  2 : 59.06%\n",
      "----------------------------\n",
      "Precision for class  3 : 7.68%\n",
      "Recall for class  3 : 50.41%\n",
      "avg_F1-Score for class  3 : 13.33%\n",
      "----------------------------\n",
      "[0.6655835364202546, 0.8824823044476223, 0.5906329610033314, 0.13331261653200746]\n",
      "----------------------\n",
      "avg_F1-Score: 56.80%\n"
     ]
    },
    {
     "name": "stderr",
     "output_type": "stream",
     "text": [
      "                                                                                \r"
     ]
    },
    {
     "data": {
      "image/png": "[encoded data removed]",
      "text/plain": [
       "<Figure size 700x700 with 1 Axes>"
      ]
     },
     "metadata": {},
     "output_type": "display_data"
    },
    {
     "name": "stderr",
     "output_type": "stream",
     "text": [
      "23/12/13 16:27:06 WARN DAGScheduler: Broadcasting large task binary with size 1059.8 KiB\n",
      "23/12/13 16:27:07 WARN DAGScheduler: Broadcasting large task binary with size 1369.7 KiB\n",
      "23/12/13 16:27:08 WARN DAGScheduler: Broadcasting large task binary with size 1713.4 KiB\n",
      "23/12/13 16:27:09 WARN DAGScheduler: Broadcasting large task binary with size 2.0 MiB\n",
      "23/12/13 16:27:12 WARN DAGScheduler: Broadcasting large task binary with size 2.4 MiB\n",
      "23/12/13 16:27:12 WARN DAGScheduler: Broadcasting large task binary with size 2.7 MiB\n",
      "23/12/13 16:27:13 WARN DAGScheduler: Broadcasting large task binary with size 3.0 MiB\n",
      "23/12/13 16:27:14 WARN DAGScheduler: Broadcasting large task binary with size 3.3 MiB\n",
      "23/12/13 16:27:16 WARN DAGScheduler: Broadcasting large task binary with size 3.5 MiB\n",
      "23/12/13 16:27:17 WARN DAGScheduler: Broadcasting large task binary with size 2.1 MiB\n",
      "/opt/conda/lib/python3.10/site-packages/pyspark/sql/context.py:158: FutureWarning: Deprecated in 3.0.0. Use SparkSession.builder.getOrCreate() instead.\n",
      "  warnings.warn(\n",
      "23/12/13 16:27:22 WARN DAGScheduler: Broadcasting large task binary with size 2.1 MiB\n"
     ]
    },
    {
     "name": "stdout",
     "output_type": "stream",
     "text": [
      "Test Accuracy = 0.783868\n",
      "Alberi :  5 maxDepth :  20\n"
     ]
    },
    {
     "name": "stderr",
     "output_type": "stream",
     "text": [
      "23/12/13 16:27:22 WARN DAGScheduler: Broadcasting large task binary with size 2.1 MiB\n",
      "[Stage 290:============>                                            (2 + 7) / 9]\r"
     ]
    },
    {
     "name": "stdout",
     "output_type": "stream",
     "text": [
      "Precision for class  0 : 55.35%\n",
      "Recall for class  0 : 81.73%\n",
      "avg_F1-Score for class  0 : 66.00%\n",
      "----------------------------\n",
      "Precision for class  1 : 98.57%\n",
      "Recall for class  1 : 78.09%\n",
      "avg_F1-Score for class  1 : 87.14%\n",
      "----------------------------\n",
      "Precision for class  2 : 44.14%\n",
      "Recall for class  2 : 86.87%\n",
      "avg_F1-Score for class  2 : 58.53%\n",
      "----------------------------\n",
      "Precision for class  3 : 7.27%\n",
      "Recall for class  3 : 53.70%\n",
      "avg_F1-Score for class  3 : 12.80%\n",
      "----------------------------\n",
      "[0.66, 0.8713992394513358, 0.5853283338140564, 0.1280470720089661]\n",
      "----------------------\n",
      "avg_F1-Score: 56.12%\n"
     ]
    },
    {
     "name": "stderr",
     "output_type": "stream",
     "text": [
      "                                                                                \r"
     ]
    },
    {
     "data": {
      "image/png": "[encoded data removed]",
      "text/plain": [
       "<Figure size 700x700 with 1 Axes>"
      ]
     },
     "metadata": {},
     "output_type": "display_data"
    }
   ],
   "source": [
    "for maxDepth in range(10,21,5):\n",
    "    rf = RandomForestClassifier(labelCol=\"Severity\", featuresCol=\"features\", numTrees=5,maxDepth= maxDepth) \n",
    "    # Addestra il modello sul set di dati sottocampionato\n",
    "    model = rf.fit(train_und) \n",
    "    predictions = model.transform(testData)\n",
    "    evaluator = MulticlassClassificationEvaluator(\n",
    "    labelCol=\"Severity\", predictionCol=\"prediction\", metricName=\"accuracy\")\n",
    "    accuracy = evaluator.evaluate(predictions)\n",
    "    print(\"Test Accuracy = %g\" % accuracy) \n",
    "    print(\"Alberi : \",5,\"maxDepth : \",maxDepth)\n",
    "    from pyspark.mllib.evaluation import MulticlassMetrics\n",
    "    # Calcolare precision, recall e F1-score\n",
    "    predictionAndLabels = predictions.select(\"prediction\", \"Severity\").rdd.map(lambda x: (float(x[0]), float(x[1])))\n",
    "    metrics = MulticlassMetrics(predictionAndLabels)\n",
    "\n",
    "    list_avg=[]\n",
    "    for i in range(4):\n",
    "        precision = metrics.precision(label=float(i))  \n",
    "        recall = metrics.recall(label=float(i))\n",
    "        f1Score= metrics.fMeasure(label=float(i)) # need .0\n",
    "        print(\"Precision for class \",i,\": {:.2%}\".format(precision))\n",
    "        print(\"Recall for class \",i,\": {:.2%}\".format(recall))\n",
    "        print(\"avg_F1-Score for class \",i,\": {:.2%}\".format(f1Score))\n",
    "        list_avg.append(f1Score)\n",
    "        print('----------------------------')\n",
    "    sum_=0\n",
    "    print(list_avg)\n",
    "    for elem in list_avg:\n",
    "        sum_+=elem\n",
    "\n",
    "    avg_f1=sum_/4\n",
    "    print('----------------------')\n",
    "\n",
    "    print(\"avg_F1-Score: {:.2%}\".format(avg_f1))\n",
    "    import seaborn as sns\n",
    "    import matplotlib.pyplot as plt\n",
    "    labels = [\"0\", \"1\", \"2\", \"3\"]\n",
    "    _ = plt.figure(figsize=(7, 7))\n",
    "    sns.heatmap(metrics.confusionMatrix().toArray(),\n",
    "                cmap='viridis',\n",
    "                annot=True,fmt='0',\n",
    "                cbar=False, \n",
    "                xticklabels=labels, \n",
    "                yticklabels=labels)\n",
    "    plt.show()"
   ]
  },
  {
   "cell_type": "markdown",
   "id": "81c05b93-fb33-4a2f-993f-5ec2f6118642",
   "metadata": {
    "jp-MarkdownHeadingCollapsed": true,
    "tags": []
   },
   "source": [
    "### Oversampling"
   ]
  },
  {
   "cell_type": "code",
   "execution_count": 51,
   "id": "04d47f98-c192-47f6-97d0-f9e2f7420eea",
   "metadata": {
    "tags": []
   },
   "outputs": [],
   "source": [
    "trainingData_over=trainingData"
   ]
  },
  {
   "cell_type": "code",
   "execution_count": 21,
   "id": "6376c408-e271-4cab-88b3-fc748ee22fea",
   "metadata": {
    "tags": []
   },
   "outputs": [
    {
     "name": "stderr",
     "output_type": "stream",
     "text": [
      "                                                                                \r"
     ]
    },
    {
     "name": "stdout",
     "output_type": "stream",
     "text": [
      "125516\n"
     ]
    },
    {
     "name": "stderr",
     "output_type": "stream",
     "text": [
      "                                                                                \r"
     ]
    },
    {
     "name": "stdout",
     "output_type": "stream",
     "text": [
      "129208\n"
     ]
    },
    {
     "name": "stderr",
     "output_type": "stream",
     "text": [
      "                                                                                \r"
     ]
    },
    {
     "name": "stdout",
     "output_type": "stream",
     "text": [
      "132900\n"
     ]
    },
    {
     "name": "stderr",
     "output_type": "stream",
     "text": [
      "ERROR:root:KeyboardInterrupt while sending command.               (0 + 32) / 45]\n",
      "Traceback (most recent call last):\n",
      "  File \"/opt/conda/lib/python3.10/site-packages/py4j/java_gateway.py\", line 1038, in send_command\n",
      "    response = connection.send_command(command)\n",
      "  File \"/opt/conda/lib/python3.10/site-packages/py4j/clientserver.py\", line 511, in send_command\n",
      "    answer = smart_decode(self.stream.readline()[:-1])\n",
      "  File \"/opt/conda/lib/python3.10/socket.py\", line 705, in readinto\n",
      "    return self._sock.recv_into(b)\n",
      "KeyboardInterrupt\n",
      "[Stage 29:=======>                                                (6 + 32) / 45]\r"
     ]
    },
    {
     "ename": "KeyboardInterrupt",
     "evalue": "",
     "output_type": "error",
     "traceback": [
      "\u001b[0;31m---------------------------------------------------------------------------\u001b[0m",
      "\u001b[0;31mKeyboardInterrupt\u001b[0m                         Traceback (most recent call last)",
      "Cell \u001b[0;32mIn[21], line 3\u001b[0m\n\u001b[1;32m      1\u001b[0m \u001b[38;5;28;01mfor\u001b[39;00m _ \u001b[38;5;129;01min\u001b[39;00m \u001b[38;5;28mrange\u001b[39m(\u001b[38;5;241m10\u001b[39m):\n\u001b[1;32m      2\u001b[0m     trainingData_over \u001b[38;5;241m=\u001b[39m trainingData_over\u001b[38;5;241m.\u001b[39munionAll(trainingData\u001b[38;5;241m.\u001b[39mfilter(col(\u001b[38;5;124m'\u001b[39m\u001b[38;5;124mSeverity\u001b[39m\u001b[38;5;124m'\u001b[39m) \u001b[38;5;241m==\u001b[39m \u001b[38;5;241m0\u001b[39m))\n\u001b[0;32m----> 3\u001b[0m     \u001b[38;5;28mprint\u001b[39m(\u001b[43mtrainingData_over\u001b[49m\u001b[38;5;241;43m.\u001b[39;49m\u001b[43mcount\u001b[49m\u001b[43m(\u001b[49m\u001b[43m)\u001b[49m)\n",
      "File \u001b[0;32m/opt/conda/lib/python3.10/site-packages/pyspark/sql/dataframe.py:1234\u001b[0m, in \u001b[0;36mDataFrame.count\u001b[0;34m(self)\u001b[0m\n\u001b[1;32m   1211\u001b[0m \u001b[38;5;28;01mdef\u001b[39;00m \u001b[38;5;21mcount\u001b[39m(\u001b[38;5;28mself\u001b[39m) \u001b[38;5;241m-\u001b[39m\u001b[38;5;241m>\u001b[39m \u001b[38;5;28mint\u001b[39m:\n\u001b[1;32m   1212\u001b[0m \u001b[38;5;250m    \u001b[39m\u001b[38;5;124;03m\"\"\"Returns the number of rows in this :class:`DataFrame`.\u001b[39;00m\n\u001b[1;32m   1213\u001b[0m \n\u001b[1;32m   1214\u001b[0m \u001b[38;5;124;03m    .. versionadded:: 1.3.0\u001b[39;00m\n\u001b[0;32m   (...)\u001b[0m\n\u001b[1;32m   1232\u001b[0m \u001b[38;5;124;03m    3\u001b[39;00m\n\u001b[1;32m   1233\u001b[0m \u001b[38;5;124;03m    \"\"\"\u001b[39;00m\n\u001b[0;32m-> 1234\u001b[0m     \u001b[38;5;28;01mreturn\u001b[39;00m \u001b[38;5;28mint\u001b[39m(\u001b[38;5;28;43mself\u001b[39;49m\u001b[38;5;241;43m.\u001b[39;49m\u001b[43m_jdf\u001b[49m\u001b[38;5;241;43m.\u001b[39;49m\u001b[43mcount\u001b[49m\u001b[43m(\u001b[49m\u001b[43m)\u001b[49m)\n",
      "File \u001b[0;32m/opt/conda/lib/python3.10/site-packages/py4j/java_gateway.py:1321\u001b[0m, in \u001b[0;36mJavaMember.__call__\u001b[0;34m(self, *args)\u001b[0m\n\u001b[1;32m   1314\u001b[0m args_command, temp_args \u001b[38;5;241m=\u001b[39m \u001b[38;5;28mself\u001b[39m\u001b[38;5;241m.\u001b[39m_build_args(\u001b[38;5;241m*\u001b[39margs)\n\u001b[1;32m   1316\u001b[0m command \u001b[38;5;241m=\u001b[39m proto\u001b[38;5;241m.\u001b[39mCALL_COMMAND_NAME \u001b[38;5;241m+\u001b[39m\\\n\u001b[1;32m   1317\u001b[0m     \u001b[38;5;28mself\u001b[39m\u001b[38;5;241m.\u001b[39mcommand_header \u001b[38;5;241m+\u001b[39m\\\n\u001b[1;32m   1318\u001b[0m     args_command \u001b[38;5;241m+\u001b[39m\\\n\u001b[1;32m   1319\u001b[0m     proto\u001b[38;5;241m.\u001b[39mEND_COMMAND_PART\n\u001b[0;32m-> 1321\u001b[0m answer \u001b[38;5;241m=\u001b[39m \u001b[38;5;28;43mself\u001b[39;49m\u001b[38;5;241;43m.\u001b[39;49m\u001b[43mgateway_client\u001b[49m\u001b[38;5;241;43m.\u001b[39;49m\u001b[43msend_command\u001b[49m\u001b[43m(\u001b[49m\u001b[43mcommand\u001b[49m\u001b[43m)\u001b[49m\n\u001b[1;32m   1322\u001b[0m return_value \u001b[38;5;241m=\u001b[39m get_return_value(\n\u001b[1;32m   1323\u001b[0m     answer, \u001b[38;5;28mself\u001b[39m\u001b[38;5;241m.\u001b[39mgateway_client, \u001b[38;5;28mself\u001b[39m\u001b[38;5;241m.\u001b[39mtarget_id, \u001b[38;5;28mself\u001b[39m\u001b[38;5;241m.\u001b[39mname)\n\u001b[1;32m   1325\u001b[0m \u001b[38;5;28;01mfor\u001b[39;00m temp_arg \u001b[38;5;129;01min\u001b[39;00m temp_args:\n",
      "File \u001b[0;32m/opt/conda/lib/python3.10/site-packages/py4j/java_gateway.py:1038\u001b[0m, in \u001b[0;36mGatewayClient.send_command\u001b[0;34m(self, command, retry, binary)\u001b[0m\n\u001b[1;32m   1036\u001b[0m connection \u001b[38;5;241m=\u001b[39m \u001b[38;5;28mself\u001b[39m\u001b[38;5;241m.\u001b[39m_get_connection()\n\u001b[1;32m   1037\u001b[0m \u001b[38;5;28;01mtry\u001b[39;00m:\n\u001b[0;32m-> 1038\u001b[0m     response \u001b[38;5;241m=\u001b[39m \u001b[43mconnection\u001b[49m\u001b[38;5;241;43m.\u001b[39;49m\u001b[43msend_command\u001b[49m\u001b[43m(\u001b[49m\u001b[43mcommand\u001b[49m\u001b[43m)\u001b[49m\n\u001b[1;32m   1039\u001b[0m     \u001b[38;5;28;01mif\u001b[39;00m binary:\n\u001b[1;32m   1040\u001b[0m         \u001b[38;5;28;01mreturn\u001b[39;00m response, \u001b[38;5;28mself\u001b[39m\u001b[38;5;241m.\u001b[39m_create_connection_guard(connection)\n",
      "File \u001b[0;32m/opt/conda/lib/python3.10/site-packages/py4j/clientserver.py:511\u001b[0m, in \u001b[0;36mClientServerConnection.send_command\u001b[0;34m(self, command)\u001b[0m\n\u001b[1;32m    509\u001b[0m \u001b[38;5;28;01mtry\u001b[39;00m:\n\u001b[1;32m    510\u001b[0m     \u001b[38;5;28;01mwhile\u001b[39;00m \u001b[38;5;28;01mTrue\u001b[39;00m:\n\u001b[0;32m--> 511\u001b[0m         answer \u001b[38;5;241m=\u001b[39m smart_decode(\u001b[38;5;28;43mself\u001b[39;49m\u001b[38;5;241;43m.\u001b[39;49m\u001b[43mstream\u001b[49m\u001b[38;5;241;43m.\u001b[39;49m\u001b[43mreadline\u001b[49m\u001b[43m(\u001b[49m\u001b[43m)\u001b[49m[:\u001b[38;5;241m-\u001b[39m\u001b[38;5;241m1\u001b[39m])\n\u001b[1;32m    512\u001b[0m         logger\u001b[38;5;241m.\u001b[39mdebug(\u001b[38;5;124m\"\u001b[39m\u001b[38;5;124mAnswer received: \u001b[39m\u001b[38;5;132;01m{0}\u001b[39;00m\u001b[38;5;124m\"\u001b[39m\u001b[38;5;241m.\u001b[39mformat(answer))\n\u001b[1;32m    513\u001b[0m         \u001b[38;5;66;03m# Happens when a the other end is dead. There might be an empty\u001b[39;00m\n\u001b[1;32m    514\u001b[0m         \u001b[38;5;66;03m# answer before the socket raises an error.\u001b[39;00m\n",
      "File \u001b[0;32m/opt/conda/lib/python3.10/socket.py:705\u001b[0m, in \u001b[0;36mSocketIO.readinto\u001b[0;34m(self, b)\u001b[0m\n\u001b[1;32m    703\u001b[0m \u001b[38;5;28;01mwhile\u001b[39;00m \u001b[38;5;28;01mTrue\u001b[39;00m:\n\u001b[1;32m    704\u001b[0m     \u001b[38;5;28;01mtry\u001b[39;00m:\n\u001b[0;32m--> 705\u001b[0m         \u001b[38;5;28;01mreturn\u001b[39;00m \u001b[38;5;28;43mself\u001b[39;49m\u001b[38;5;241;43m.\u001b[39;49m\u001b[43m_sock\u001b[49m\u001b[38;5;241;43m.\u001b[39;49m\u001b[43mrecv_into\u001b[49m\u001b[43m(\u001b[49m\u001b[43mb\u001b[49m\u001b[43m)\u001b[49m\n\u001b[1;32m    706\u001b[0m     \u001b[38;5;28;01mexcept\u001b[39;00m timeout:\n\u001b[1;32m    707\u001b[0m         \u001b[38;5;28mself\u001b[39m\u001b[38;5;241m.\u001b[39m_timeout_occurred \u001b[38;5;241m=\u001b[39m \u001b[38;5;28;01mTrue\u001b[39;00m\n",
      "\u001b[0;31mKeyboardInterrupt\u001b[0m: "
     ]
    },
    {
     "name": "stderr",
     "output_type": "stream",
     "text": [
      "                                                                                \r"
     ]
    }
   ],
   "source": [
    "for _ in range(10):\n",
    "    trainingData_over = trainingData_over.unionAll(trainingData.filter(col('Severity') == 0))\n",
    "    print(trainingData_over.count())"
   ]
  },
  {
   "cell_type": "code",
   "execution_count": 22,
   "id": "b52d090f-bece-4ab0-bdad-98d1d2d735c2",
   "metadata": {
    "tags": []
   },
   "outputs": [],
   "source": [
    "trainingData_over = trainingData.unionAll(trainingData.filter(col('Severity') == 0))"
   ]
  },
  {
   "cell_type": "code",
   "execution_count": 30,
   "id": "2ac01bc7-0644-437e-8956-66427d1979ef",
   "metadata": {
    "tags": []
   },
   "outputs": [
    {
     "name": "stderr",
     "output_type": "stream",
     "text": [
      "                                                                                \r"
     ]
    },
    {
     "data": {
      "text/plain": [
       "125516"
      ]
     },
     "execution_count": 30,
     "metadata": {},
     "output_type": "execute_result"
    }
   ],
   "source": [
    "trainingData_over.count()"
   ]
  },
  {
   "cell_type": "code",
   "execution_count": 31,
   "id": "06dbec82-8326-46bd-af7c-f71d3e6d7a87",
   "metadata": {
    "tags": []
   },
   "outputs": [
    {
     "name": "stderr",
     "output_type": "stream",
     "text": [
      "                                                                                \r"
     ]
    },
    {
     "data": {
      "text/plain": [
       "158744"
      ]
     },
     "execution_count": 31,
     "metadata": {},
     "output_type": "execute_result"
    }
   ],
   "source": [
    "trainingData.count()+(36920)"
   ]
  },
  {
   "cell_type": "code",
   "execution_count": 26,
   "id": "e64d72de-d210-4af2-a0ff-abaa29e54570",
   "metadata": {
    "tags": []
   },
   "outputs": [
    {
     "name": "stderr",
     "output_type": "stream",
     "text": [
      "                                                                                \r"
     ]
    },
    {
     "data": {
      "text/plain": [
       "3692"
      ]
     },
     "execution_count": 26,
     "metadata": {},
     "output_type": "execute_result"
    }
   ],
   "source": [
    "trainingData.filter(col('Severity') == 0).count()"
   ]
  },
  {
   "cell_type": "markdown",
   "id": "a73a5fac-a377-4dfc-a759-9b2388312539",
   "metadata": {},
   "source": [
    "##### Oversampling per la classe 0"
   ]
  },
  {
   "cell_type": "code",
   "execution_count": 51,
   "id": "c4cedcd0-4bc3-4938-b4e5-9f3ad321ea46",
   "metadata": {
    "collapsed": true,
    "jupyter": {
     "outputs_hidden": true
    },
    "tags": []
   },
   "outputs": [
    {
     "name": "stdout",
     "output_type": "stream",
     "text": [
      "28.234019501625134\n"
     ]
    },
    {
     "name": "stderr",
     "output_type": "stream",
     "text": [
      "                                                                                \r"
     ]
    },
    {
     "name": "stdout",
     "output_type": "stream",
     "text": [
      "3692\n"
     ]
    },
    {
     "name": "stderr",
     "output_type": "stream",
     "text": [
      "                                                                                \r"
     ]
    },
    {
     "name": "stdout",
     "output_type": "stream",
     "text": [
      "125516\n"
     ]
    },
    {
     "name": "stderr",
     "output_type": "stream",
     "text": [
      "                                                                                \r"
     ]
    },
    {
     "name": "stdout",
     "output_type": "stream",
     "text": [
      "129208\n"
     ]
    },
    {
     "name": "stderr",
     "output_type": "stream",
     "text": [
      "                                                                                \r"
     ]
    },
    {
     "name": "stdout",
     "output_type": "stream",
     "text": [
      "132900\n"
     ]
    },
    {
     "name": "stderr",
     "output_type": "stream",
     "text": [
      "                                                                                \r"
     ]
    },
    {
     "name": "stdout",
     "output_type": "stream",
     "text": [
      "136592\n"
     ]
    },
    {
     "name": "stderr",
     "output_type": "stream",
     "text": [
      "ERROR:root:KeyboardInterrupt while sending command.              (25 + 29) / 54]\n",
      "Traceback (most recent call last):\n",
      "  File \"/opt/conda/lib/python3.10/site-packages/py4j/java_gateway.py\", line 1038, in send_command\n",
      "    response = connection.send_command(command)\n",
      "  File \"/opt/conda/lib/python3.10/site-packages/py4j/clientserver.py\", line 511, in send_command\n",
      "    answer = smart_decode(self.stream.readline()[:-1])\n",
      "  File \"/opt/conda/lib/python3.10/socket.py\", line 705, in readinto\n",
      "    return self._sock.recv_into(b)\n",
      "KeyboardInterrupt\n",
      "[Stage 112:==============================>                       (30 + 24) / 54]\r"
     ]
    },
    {
     "ename": "KeyboardInterrupt",
     "evalue": "",
     "output_type": "error",
     "traceback": [
      "\u001b[0;31m---------------------------------------------------------------------------\u001b[0m",
      "\u001b[0;31mKeyboardInterrupt\u001b[0m                         Traceback (most recent call last)",
      "Cell \u001b[0;32mIn[51], line 15\u001b[0m\n\u001b[1;32m     11\u001b[0m     num_campioni_da_generare\u001b[38;5;241m=\u001b[39mnum_campioni_da_generare\u001b[38;5;241m-\u001b[39m\u001b[38;5;241m1.0\u001b[39m\n\u001b[1;32m     12\u001b[0m     \u001b[38;5;66;03m#num_campioni_da_generare=num_campioni_da_generare/n_0\u001b[39;00m\n\u001b[1;32m     13\u001b[0m     \u001b[38;5;66;03m#print(num_campioni_da_generare)\u001b[39;00m\n\u001b[1;32m     14\u001b[0m     \u001b[38;5;66;03m#print('------')\u001b[39;00m\n\u001b[0;32m---> 15\u001b[0m     \u001b[38;5;28mprint\u001b[39m(\u001b[43mtrainingData_over\u001b[49m\u001b[38;5;241;43m.\u001b[39;49m\u001b[43mcount\u001b[49m\u001b[43m(\u001b[49m\u001b[43m)\u001b[49m)\n\u001b[1;32m     16\u001b[0m \u001b[38;5;28mprint\u001b[39m(num_campioni_da_generare, \u001b[38;5;124m'\u001b[39m\u001b[38;5;124mu\u001b[39m\u001b[38;5;124m'\u001b[39m)\n\u001b[1;32m     17\u001b[0m df_minority_oversampled \u001b[38;5;241m=\u001b[39m full\u001b[38;5;241m.\u001b[39msample(\u001b[38;5;28;01mTrue\u001b[39;00m, num_campioni_da_generare, seed\u001b[38;5;241m=\u001b[39m\u001b[38;5;241m42\u001b[39m)\n",
      "File \u001b[0;32m/opt/conda/lib/python3.10/site-packages/pyspark/sql/dataframe.py:1234\u001b[0m, in \u001b[0;36mDataFrame.count\u001b[0;34m(self)\u001b[0m\n\u001b[1;32m   1211\u001b[0m \u001b[38;5;28;01mdef\u001b[39;00m \u001b[38;5;21mcount\u001b[39m(\u001b[38;5;28mself\u001b[39m) \u001b[38;5;241m-\u001b[39m\u001b[38;5;241m>\u001b[39m \u001b[38;5;28mint\u001b[39m:\n\u001b[1;32m   1212\u001b[0m \u001b[38;5;250m    \u001b[39m\u001b[38;5;124;03m\"\"\"Returns the number of rows in this :class:`DataFrame`.\u001b[39;00m\n\u001b[1;32m   1213\u001b[0m \n\u001b[1;32m   1214\u001b[0m \u001b[38;5;124;03m    .. versionadded:: 1.3.0\u001b[39;00m\n\u001b[0;32m   (...)\u001b[0m\n\u001b[1;32m   1232\u001b[0m \u001b[38;5;124;03m    3\u001b[39;00m\n\u001b[1;32m   1233\u001b[0m \u001b[38;5;124;03m    \"\"\"\u001b[39;00m\n\u001b[0;32m-> 1234\u001b[0m     \u001b[38;5;28;01mreturn\u001b[39;00m \u001b[38;5;28mint\u001b[39m(\u001b[38;5;28;43mself\u001b[39;49m\u001b[38;5;241;43m.\u001b[39;49m\u001b[43m_jdf\u001b[49m\u001b[38;5;241;43m.\u001b[39;49m\u001b[43mcount\u001b[49m\u001b[43m(\u001b[49m\u001b[43m)\u001b[49m)\n",
      "File \u001b[0;32m/opt/conda/lib/python3.10/site-packages/py4j/java_gateway.py:1321\u001b[0m, in \u001b[0;36mJavaMember.__call__\u001b[0;34m(self, *args)\u001b[0m\n\u001b[1;32m   1314\u001b[0m args_command, temp_args \u001b[38;5;241m=\u001b[39m \u001b[38;5;28mself\u001b[39m\u001b[38;5;241m.\u001b[39m_build_args(\u001b[38;5;241m*\u001b[39margs)\n\u001b[1;32m   1316\u001b[0m command \u001b[38;5;241m=\u001b[39m proto\u001b[38;5;241m.\u001b[39mCALL_COMMAND_NAME \u001b[38;5;241m+\u001b[39m\\\n\u001b[1;32m   1317\u001b[0m     \u001b[38;5;28mself\u001b[39m\u001b[38;5;241m.\u001b[39mcommand_header \u001b[38;5;241m+\u001b[39m\\\n\u001b[1;32m   1318\u001b[0m     args_command \u001b[38;5;241m+\u001b[39m\\\n\u001b[1;32m   1319\u001b[0m     proto\u001b[38;5;241m.\u001b[39mEND_COMMAND_PART\n\u001b[0;32m-> 1321\u001b[0m answer \u001b[38;5;241m=\u001b[39m \u001b[38;5;28;43mself\u001b[39;49m\u001b[38;5;241;43m.\u001b[39;49m\u001b[43mgateway_client\u001b[49m\u001b[38;5;241;43m.\u001b[39;49m\u001b[43msend_command\u001b[49m\u001b[43m(\u001b[49m\u001b[43mcommand\u001b[49m\u001b[43m)\u001b[49m\n\u001b[1;32m   1322\u001b[0m return_value \u001b[38;5;241m=\u001b[39m get_return_value(\n\u001b[1;32m   1323\u001b[0m     answer, \u001b[38;5;28mself\u001b[39m\u001b[38;5;241m.\u001b[39mgateway_client, \u001b[38;5;28mself\u001b[39m\u001b[38;5;241m.\u001b[39mtarget_id, \u001b[38;5;28mself\u001b[39m\u001b[38;5;241m.\u001b[39mname)\n\u001b[1;32m   1325\u001b[0m \u001b[38;5;28;01mfor\u001b[39;00m temp_arg \u001b[38;5;129;01min\u001b[39;00m temp_args:\n",
      "File \u001b[0;32m/opt/conda/lib/python3.10/site-packages/py4j/java_gateway.py:1038\u001b[0m, in \u001b[0;36mGatewayClient.send_command\u001b[0;34m(self, command, retry, binary)\u001b[0m\n\u001b[1;32m   1036\u001b[0m connection \u001b[38;5;241m=\u001b[39m \u001b[38;5;28mself\u001b[39m\u001b[38;5;241m.\u001b[39m_get_connection()\n\u001b[1;32m   1037\u001b[0m \u001b[38;5;28;01mtry\u001b[39;00m:\n\u001b[0;32m-> 1038\u001b[0m     response \u001b[38;5;241m=\u001b[39m \u001b[43mconnection\u001b[49m\u001b[38;5;241;43m.\u001b[39;49m\u001b[43msend_command\u001b[49m\u001b[43m(\u001b[49m\u001b[43mcommand\u001b[49m\u001b[43m)\u001b[49m\n\u001b[1;32m   1039\u001b[0m     \u001b[38;5;28;01mif\u001b[39;00m binary:\n\u001b[1;32m   1040\u001b[0m         \u001b[38;5;28;01mreturn\u001b[39;00m response, \u001b[38;5;28mself\u001b[39m\u001b[38;5;241m.\u001b[39m_create_connection_guard(connection)\n",
      "File \u001b[0;32m/opt/conda/lib/python3.10/site-packages/py4j/clientserver.py:511\u001b[0m, in \u001b[0;36mClientServerConnection.send_command\u001b[0;34m(self, command)\u001b[0m\n\u001b[1;32m    509\u001b[0m \u001b[38;5;28;01mtry\u001b[39;00m:\n\u001b[1;32m    510\u001b[0m     \u001b[38;5;28;01mwhile\u001b[39;00m \u001b[38;5;28;01mTrue\u001b[39;00m:\n\u001b[0;32m--> 511\u001b[0m         answer \u001b[38;5;241m=\u001b[39m smart_decode(\u001b[38;5;28;43mself\u001b[39;49m\u001b[38;5;241;43m.\u001b[39;49m\u001b[43mstream\u001b[49m\u001b[38;5;241;43m.\u001b[39;49m\u001b[43mreadline\u001b[49m\u001b[43m(\u001b[49m\u001b[43m)\u001b[49m[:\u001b[38;5;241m-\u001b[39m\u001b[38;5;241m1\u001b[39m])\n\u001b[1;32m    512\u001b[0m         logger\u001b[38;5;241m.\u001b[39mdebug(\u001b[38;5;124m\"\u001b[39m\u001b[38;5;124mAnswer received: \u001b[39m\u001b[38;5;132;01m{0}\u001b[39;00m\u001b[38;5;124m\"\u001b[39m\u001b[38;5;241m.\u001b[39mformat(answer))\n\u001b[1;32m    513\u001b[0m         \u001b[38;5;66;03m# Happens when a the other end is dead. There might be an empty\u001b[39;00m\n\u001b[1;32m    514\u001b[0m         \u001b[38;5;66;03m# answer before the socket raises an error.\u001b[39;00m\n",
      "File \u001b[0;32m/opt/conda/lib/python3.10/socket.py:705\u001b[0m, in \u001b[0;36mSocketIO.readinto\u001b[0;34m(self, b)\u001b[0m\n\u001b[1;32m    703\u001b[0m \u001b[38;5;28;01mwhile\u001b[39;00m \u001b[38;5;28;01mTrue\u001b[39;00m:\n\u001b[1;32m    704\u001b[0m     \u001b[38;5;28;01mtry\u001b[39;00m:\n\u001b[0;32m--> 705\u001b[0m         \u001b[38;5;28;01mreturn\u001b[39;00m \u001b[38;5;28;43mself\u001b[39;49m\u001b[38;5;241;43m.\u001b[39;49m\u001b[43m_sock\u001b[49m\u001b[38;5;241;43m.\u001b[39;49m\u001b[43mrecv_into\u001b[49m\u001b[43m(\u001b[49m\u001b[43mb\u001b[49m\u001b[43m)\u001b[49m\n\u001b[1;32m    706\u001b[0m     \u001b[38;5;28;01mexcept\u001b[39;00m timeout:\n\u001b[1;32m    707\u001b[0m         \u001b[38;5;28mself\u001b[39m\u001b[38;5;241m.\u001b[39m_timeout_occurred \u001b[38;5;241m=\u001b[39m \u001b[38;5;28;01mTrue\u001b[39;00m\n",
      "\u001b[0;31mKeyboardInterrupt\u001b[0m: "
     ]
    },
    {
     "name": "stderr",
     "output_type": "stream",
     "text": [
      "                                                                                \r"
     ]
    }
   ],
   "source": [
    "trainingData_over=trainingData\n",
    "num_campioni_da_generare = n_1 - n_0\n",
    "num_campioni_da_generare=num_campioni_da_generare/n_0 #percentuale \n",
    "print(num_campioni_da_generare)\n",
    "full=trainingData.filter(col('Severity') == 0)\n",
    "print(full.count())\n",
    "\n",
    "while num_campioni_da_generare>1:\n",
    "    full = full.unionAll(full)\n",
    "    #trainingData_over = trainingData_over.unionAll(df_minority_oversampled)\n",
    "    num_campioni_da_generare=num_campioni_da_generare-1.0\n",
    "    #num_campioni_da_generare=num_campioni_da_generare/n_0\n",
    "    #print(num_campioni_da_generare)\n",
    "    #print('------')\n",
    "    #print(trainingData_over.count())\n",
    "print(num_campioni_da_generare, 'u')\n",
    "df_minority_oversampled = full.sample(True, num_campioni_da_generare, seed=42)\n",
    "\n",
    "oversample_0 = full.unionAll(df_minority_oversampled)"
   ]
  },
  {
   "cell_type": "code",
   "execution_count": 45,
   "id": "69e84536-217d-4821-9611-cfdd3a227919",
   "metadata": {
    "tags": []
   },
   "outputs": [
    {
     "data": {
      "text/plain": [
       "103376"
      ]
     },
     "execution_count": 45,
     "metadata": {},
     "output_type": "execute_result"
    }
   ],
   "source": [
    "3692*28"
   ]
  },
  {
   "cell_type": "code",
   "execution_count": 44,
   "id": "977b0886-a8bc-4084-970f-e7c971370978",
   "metadata": {
    "tags": []
   },
   "outputs": [
    {
     "data": {
      "text/plain": [
       "107932"
      ]
     },
     "execution_count": 44,
     "metadata": {},
     "output_type": "execute_result"
    }
   ],
   "source": [
    "n_1"
   ]
  },
  {
   "cell_type": "code",
   "execution_count": 42,
   "id": "b4eba514-b130-4cea-b32a-f108f586845e",
   "metadata": {
    "tags": []
   },
   "outputs": [
    {
     "data": {
      "text/plain": [
       "28.234019501625134"
      ]
     },
     "execution_count": 42,
     "metadata": {},
     "output_type": "execute_result"
    }
   ],
   "source": [
    "(n_1-n_0)/n_0"
   ]
  },
  {
   "cell_type": "code",
   "execution_count": 48,
   "id": "636b6a54-6433-413e-8e4c-15b1b7b543c7",
   "metadata": {
    "tags": []
   },
   "outputs": [
    {
     "name": "stderr",
     "output_type": "stream",
     "text": [
      "23/12/11 15:11:06 WARN DAGScheduler: Broadcasting large task binary with size 1617.1 KiB\n",
      "                                                                                \r"
     ]
    },
    {
     "data": {
      "text/plain": [
       "226074"
      ]
     },
     "execution_count": 48,
     "metadata": {},
     "output_type": "execute_result"
    }
   ],
   "source": [
    "trainingData_over.count()"
   ]
  },
  {
   "cell_type": "code",
   "execution_count": 66,
   "id": "9330a790-f57c-48f2-8b70-387ff6a11637",
   "metadata": {
    "tags": []
   },
   "outputs": [
    {
     "name": "stderr",
     "output_type": "stream",
     "text": [
      "23/12/09 14:21:43 WARN DAGScheduler: Broadcasting large task binary with size 3.8 MiB\n",
      "ERROR:root:KeyboardInterrupt while sending command.              (0 + 32) / 648]\n",
      "Traceback (most recent call last):\n",
      "  File \"/opt/conda/lib/python3.10/site-packages/py4j/java_gateway.py\", line 1038, in send_command\n",
      "    response = connection.send_command(command)\n",
      "  File \"/opt/conda/lib/python3.10/site-packages/py4j/clientserver.py\", line 511, in send_command\n",
      "    answer = smart_decode(self.stream.readline()[:-1])\n",
      "  File \"/opt/conda/lib/python3.10/socket.py\", line 705, in readinto\n",
      "    return self._sock.recv_into(b)\n",
      "KeyboardInterrupt\n"
     ]
    },
    {
     "ename": "KeyboardInterrupt",
     "evalue": "",
     "output_type": "error",
     "traceback": [
      "\u001b[0;31m---------------------------------------------------------------------------\u001b[0m",
      "\u001b[0;31mKeyboardInterrupt\u001b[0m                         Traceback (most recent call last)",
      "Cell \u001b[0;32mIn[66], line 4\u001b[0m\n\u001b[1;32m      1\u001b[0m prediction_counts \u001b[38;5;241m=\u001b[39m trainingData_over\u001b[38;5;241m.\u001b[39mgroupBy(\u001b[38;5;124m\"\u001b[39m\u001b[38;5;124mSeverity\u001b[39m\u001b[38;5;124m\"\u001b[39m)\u001b[38;5;241m.\u001b[39mcount()\n\u001b[1;32m      3\u001b[0m \u001b[38;5;66;03m# Stampare i risultati\u001b[39;00m\n\u001b[0;32m----> 4\u001b[0m \u001b[43mprediction_counts\u001b[49m\u001b[38;5;241;43m.\u001b[39;49m\u001b[43mshow\u001b[49m\u001b[43m(\u001b[49m\u001b[43m)\u001b[49m\n",
      "File \u001b[0;32m/opt/conda/lib/python3.10/site-packages/pyspark/sql/dataframe.py:959\u001b[0m, in \u001b[0;36mDataFrame.show\u001b[0;34m(self, n, truncate, vertical)\u001b[0m\n\u001b[1;32m    953\u001b[0m     \u001b[38;5;28;01mraise\u001b[39;00m PySparkTypeError(\n\u001b[1;32m    954\u001b[0m         error_class\u001b[38;5;241m=\u001b[39m\u001b[38;5;124m\"\u001b[39m\u001b[38;5;124mNOT_BOOL\u001b[39m\u001b[38;5;124m\"\u001b[39m,\n\u001b[1;32m    955\u001b[0m         message_parameters\u001b[38;5;241m=\u001b[39m{\u001b[38;5;124m\"\u001b[39m\u001b[38;5;124marg_name\u001b[39m\u001b[38;5;124m\"\u001b[39m: \u001b[38;5;124m\"\u001b[39m\u001b[38;5;124mvertical\u001b[39m\u001b[38;5;124m\"\u001b[39m, \u001b[38;5;124m\"\u001b[39m\u001b[38;5;124marg_type\u001b[39m\u001b[38;5;124m\"\u001b[39m: \u001b[38;5;28mtype\u001b[39m(vertical)\u001b[38;5;241m.\u001b[39m\u001b[38;5;18m__name__\u001b[39m},\n\u001b[1;32m    956\u001b[0m     )\n\u001b[1;32m    958\u001b[0m \u001b[38;5;28;01mif\u001b[39;00m \u001b[38;5;28misinstance\u001b[39m(truncate, \u001b[38;5;28mbool\u001b[39m) \u001b[38;5;129;01mand\u001b[39;00m truncate:\n\u001b[0;32m--> 959\u001b[0m     \u001b[38;5;28mprint\u001b[39m(\u001b[38;5;28;43mself\u001b[39;49m\u001b[38;5;241;43m.\u001b[39;49m\u001b[43m_jdf\u001b[49m\u001b[38;5;241;43m.\u001b[39;49m\u001b[43mshowString\u001b[49m\u001b[43m(\u001b[49m\u001b[43mn\u001b[49m\u001b[43m,\u001b[49m\u001b[43m \u001b[49m\u001b[38;5;241;43m20\u001b[39;49m\u001b[43m,\u001b[49m\u001b[43m \u001b[49m\u001b[43mvertical\u001b[49m\u001b[43m)\u001b[49m)\n\u001b[1;32m    960\u001b[0m \u001b[38;5;28;01melse\u001b[39;00m:\n\u001b[1;32m    961\u001b[0m     \u001b[38;5;28;01mtry\u001b[39;00m:\n",
      "File \u001b[0;32m/opt/conda/lib/python3.10/site-packages/py4j/java_gateway.py:1321\u001b[0m, in \u001b[0;36mJavaMember.__call__\u001b[0;34m(self, *args)\u001b[0m\n\u001b[1;32m   1314\u001b[0m args_command, temp_args \u001b[38;5;241m=\u001b[39m \u001b[38;5;28mself\u001b[39m\u001b[38;5;241m.\u001b[39m_build_args(\u001b[38;5;241m*\u001b[39margs)\n\u001b[1;32m   1316\u001b[0m command \u001b[38;5;241m=\u001b[39m proto\u001b[38;5;241m.\u001b[39mCALL_COMMAND_NAME \u001b[38;5;241m+\u001b[39m\\\n\u001b[1;32m   1317\u001b[0m     \u001b[38;5;28mself\u001b[39m\u001b[38;5;241m.\u001b[39mcommand_header \u001b[38;5;241m+\u001b[39m\\\n\u001b[1;32m   1318\u001b[0m     args_command \u001b[38;5;241m+\u001b[39m\\\n\u001b[1;32m   1319\u001b[0m     proto\u001b[38;5;241m.\u001b[39mEND_COMMAND_PART\n\u001b[0;32m-> 1321\u001b[0m answer \u001b[38;5;241m=\u001b[39m \u001b[38;5;28;43mself\u001b[39;49m\u001b[38;5;241;43m.\u001b[39;49m\u001b[43mgateway_client\u001b[49m\u001b[38;5;241;43m.\u001b[39;49m\u001b[43msend_command\u001b[49m\u001b[43m(\u001b[49m\u001b[43mcommand\u001b[49m\u001b[43m)\u001b[49m\n\u001b[1;32m   1322\u001b[0m return_value \u001b[38;5;241m=\u001b[39m get_return_value(\n\u001b[1;32m   1323\u001b[0m     answer, \u001b[38;5;28mself\u001b[39m\u001b[38;5;241m.\u001b[39mgateway_client, \u001b[38;5;28mself\u001b[39m\u001b[38;5;241m.\u001b[39mtarget_id, \u001b[38;5;28mself\u001b[39m\u001b[38;5;241m.\u001b[39mname)\n\u001b[1;32m   1325\u001b[0m \u001b[38;5;28;01mfor\u001b[39;00m temp_arg \u001b[38;5;129;01min\u001b[39;00m temp_args:\n",
      "File \u001b[0;32m/opt/conda/lib/python3.10/site-packages/py4j/java_gateway.py:1038\u001b[0m, in \u001b[0;36mGatewayClient.send_command\u001b[0;34m(self, command, retry, binary)\u001b[0m\n\u001b[1;32m   1036\u001b[0m connection \u001b[38;5;241m=\u001b[39m \u001b[38;5;28mself\u001b[39m\u001b[38;5;241m.\u001b[39m_get_connection()\n\u001b[1;32m   1037\u001b[0m \u001b[38;5;28;01mtry\u001b[39;00m:\n\u001b[0;32m-> 1038\u001b[0m     response \u001b[38;5;241m=\u001b[39m \u001b[43mconnection\u001b[49m\u001b[38;5;241;43m.\u001b[39;49m\u001b[43msend_command\u001b[49m\u001b[43m(\u001b[49m\u001b[43mcommand\u001b[49m\u001b[43m)\u001b[49m\n\u001b[1;32m   1039\u001b[0m     \u001b[38;5;28;01mif\u001b[39;00m binary:\n\u001b[1;32m   1040\u001b[0m         \u001b[38;5;28;01mreturn\u001b[39;00m response, \u001b[38;5;28mself\u001b[39m\u001b[38;5;241m.\u001b[39m_create_connection_guard(connection)\n",
      "File \u001b[0;32m/opt/conda/lib/python3.10/site-packages/py4j/clientserver.py:511\u001b[0m, in \u001b[0;36mClientServerConnection.send_command\u001b[0;34m(self, command)\u001b[0m\n\u001b[1;32m    509\u001b[0m \u001b[38;5;28;01mtry\u001b[39;00m:\n\u001b[1;32m    510\u001b[0m     \u001b[38;5;28;01mwhile\u001b[39;00m \u001b[38;5;28;01mTrue\u001b[39;00m:\n\u001b[0;32m--> 511\u001b[0m         answer \u001b[38;5;241m=\u001b[39m smart_decode(\u001b[38;5;28;43mself\u001b[39;49m\u001b[38;5;241;43m.\u001b[39;49m\u001b[43mstream\u001b[49m\u001b[38;5;241;43m.\u001b[39;49m\u001b[43mreadline\u001b[49m\u001b[43m(\u001b[49m\u001b[43m)\u001b[49m[:\u001b[38;5;241m-\u001b[39m\u001b[38;5;241m1\u001b[39m])\n\u001b[1;32m    512\u001b[0m         logger\u001b[38;5;241m.\u001b[39mdebug(\u001b[38;5;124m\"\u001b[39m\u001b[38;5;124mAnswer received: \u001b[39m\u001b[38;5;132;01m{0}\u001b[39;00m\u001b[38;5;124m\"\u001b[39m\u001b[38;5;241m.\u001b[39mformat(answer))\n\u001b[1;32m    513\u001b[0m         \u001b[38;5;66;03m# Happens when a the other end is dead. There might be an empty\u001b[39;00m\n\u001b[1;32m    514\u001b[0m         \u001b[38;5;66;03m# answer before the socket raises an error.\u001b[39;00m\n",
      "File \u001b[0;32m/opt/conda/lib/python3.10/socket.py:705\u001b[0m, in \u001b[0;36mSocketIO.readinto\u001b[0;34m(self, b)\u001b[0m\n\u001b[1;32m    703\u001b[0m \u001b[38;5;28;01mwhile\u001b[39;00m \u001b[38;5;28;01mTrue\u001b[39;00m:\n\u001b[1;32m    704\u001b[0m     \u001b[38;5;28;01mtry\u001b[39;00m:\n\u001b[0;32m--> 705\u001b[0m         \u001b[38;5;28;01mreturn\u001b[39;00m \u001b[38;5;28;43mself\u001b[39;49m\u001b[38;5;241;43m.\u001b[39;49m\u001b[43m_sock\u001b[49m\u001b[38;5;241;43m.\u001b[39;49m\u001b[43mrecv_into\u001b[49m\u001b[43m(\u001b[49m\u001b[43mb\u001b[49m\u001b[43m)\u001b[49m\n\u001b[1;32m    706\u001b[0m     \u001b[38;5;28;01mexcept\u001b[39;00m timeout:\n\u001b[1;32m    707\u001b[0m         \u001b[38;5;28mself\u001b[39m\u001b[38;5;241m.\u001b[39m_timeout_occurred \u001b[38;5;241m=\u001b[39m \u001b[38;5;28;01mTrue\u001b[39;00m\n",
      "\u001b[0;31mKeyboardInterrupt\u001b[0m: "
     ]
    }
   ],
   "source": [
    "prediction_counts = trainingData_over.groupBy(\"Severity\").count()\n",
    "\n",
    "# Stampare i risultati\n",
    "prediction_counts.show()"
   ]
  },
  {
   "cell_type": "markdown",
   "id": "0428e3eb-5d2b-43cf-9055-7f8db9b350e4",
   "metadata": {},
   "source": [
    "##### Oversampling per la classe 2"
   ]
  },
  {
   "cell_type": "code",
   "execution_count": null,
   "id": "f23315a7-cb80-4db2-b0a5-47eb16c06a08",
   "metadata": {},
   "outputs": [],
   "source": [
    "num_campioni_da_generare = n_1 - n_2\n",
    "num_campioni_da_generare=num_campioni_da_generare/n_2 #percentuale \n",
    "\n",
    "while num_campioni_da_generare>1:\n",
    "    df_minority_oversampled = df_spark.filter(col('classe') == 2).sample(True, 1.0, seed=42)\n",
    "    trainingData = trainingData.unionAll(df_minority_oversampled)\n",
    "    num_campioni_da_generare=num_campioni_da_generare-n_2\n",
    "    num_campioni_da_generare=num_campioni_da_generare/n_2\n",
    "\n",
    "df_minority_oversampled = trainingData.filter(col('classe') == 2).sample(True, num_campioni_da_generare, seed=42)\n",
    "\n",
    "trainingData = trainingData.unionAll(df_minority_oversampled)"
   ]
  },
  {
   "cell_type": "markdown",
   "id": "4534069b-24a6-4eed-acca-f7e40e583b4a",
   "metadata": {},
   "source": [
    "##### Oversampling per la classe 4"
   ]
  },
  {
   "cell_type": "code",
   "execution_count": null,
   "id": "5dc7635b-2f17-4690-97b2-9e9578cde8a1",
   "metadata": {},
   "outputs": [],
   "source": [
    "num_campioni_da_generare = n_1 - n_3\n",
    "num_campioni_da_generare=num_campioni_da_generare/n_3 #percentuale \n",
    "\n",
    "while num_campioni_da_generare>1:\n",
    "    df_minority_oversampled = df_spark.filter(col('classe') == 3).sample(True, 1.0, seed=42)\n",
    "    trainingData = trainingData.unionAll(df_minority_oversampled)\n",
    "    num_campioni_da_generare=num_campioni_da_generare-n_3\n",
    "    num_campioni_da_generare=num_campioni_da_generare/n_3\n",
    "\n",
    "df_minority_oversampled = trainingData.filter(col('classe') == 3).sample(True, num_campioni_da_generare, seed=42)\n",
    "\n",
    "trainingData = trainingData.unionAll(df_minority_oversampled)"
   ]
  },
  {
   "cell_type": "code",
   "execution_count": null,
   "id": "50740584-cd16-4526-aaa2-a6341d27f094",
   "metadata": {},
   "outputs": [],
   "source": []
  },
  {
   "cell_type": "code",
   "execution_count": 22,
   "id": "3ba7c8f9-6c8e-4f8a-8291-9b1e22958e12",
   "metadata": {
    "tags": []
   },
   "outputs": [
    {
     "name": "stdout",
     "output_type": "stream",
     "text": [
      "27.234019501625134\n",
      "26.234019501625134\n",
      "25.234019501625134\n",
      "24.234019501625134\n",
      "23.234019501625134\n",
      "22.234019501625134\n",
      "21.234019501625134\n",
      "20.234019501625134\n",
      "19.234019501625134\n",
      "18.234019501625134\n",
      "17.234019501625134\n",
      "16.234019501625134\n",
      "15.234019501625134\n"
     ]
    },
    {
     "name": "stderr",
     "output_type": "stream",
     "text": [
      "23/12/11 18:12:06 WARN Executor: Issue communicating with driver in heartbeater\n",
      "org.apache.spark.rpc.RpcTimeoutException: Cannot receive any reply from jupyter-c-2eandreazzoli1:45657 in 10000 milliseconds. This timeout is controlled by spark.executor.heartbeatInterval\n",
      "\tat org.apache.spark.rpc.RpcTimeout.org$apache$spark$rpc$RpcTimeout$$createRpcTimeoutException(RpcTimeout.scala:47)\n",
      "\tat org.apache.spark.rpc.RpcTimeout$$anonfun$addMessageIfTimeout$1.applyOrElse(RpcTimeout.scala:62)\n",
      "\tat org.apache.spark.rpc.RpcTimeout$$anonfun$addMessageIfTimeout$1.applyOrElse(RpcTimeout.scala:58)\n",
      "\tat scala.runtime.AbstractPartialFunction.apply(AbstractPartialFunction.scala:38)\n",
      "\tat scala.util.Failure.recover(Try.scala:234)\n",
      "\tat scala.concurrent.Future.$anonfun$recover$1(Future.scala:395)\n",
      "\tat scala.concurrent.impl.Promise.liftedTree1$1(Promise.scala:33)\n",
      "\tat scala.concurrent.impl.Promise.$anonfun$transform$1(Promise.scala:33)\n",
      "\tat scala.concurrent.impl.CallbackRunnable.run(Promise.scala:64)\n",
      "\tat org.apache.spark.util.ThreadUtils$$anon$1.execute(ThreadUtils.scala:99)\n",
      "\tat scala.concurrent.impl.ExecutionContextImpl$$anon$4.execute(ExecutionContextImpl.scala:138)\n",
      "\tat scala.concurrent.impl.CallbackRunnable.executeWithValue(Promise.scala:72)\n",
      "\tat scala.concurrent.impl.Promise$DefaultPromise.$anonfun$tryComplete$1(Promise.scala:288)\n",
      "\tat scala.concurrent.impl.Promise$DefaultPromise.$anonfun$tryComplete$1$adapted(Promise.scala:288)\n",
      "\tat scala.concurrent.impl.Promise$DefaultPromise.tryComplete(Promise.scala:288)\n",
      "\tat scala.concurrent.Promise.complete(Promise.scala:53)\n",
      "\tat scala.concurrent.Promise.complete$(Promise.scala:52)\n",
      "\tat scala.concurrent.impl.Promise$DefaultPromise.complete(Promise.scala:187)\n",
      "\tat scala.concurrent.impl.Promise.$anonfun$transform$1(Promise.scala:33)\n",
      "\tat scala.concurrent.impl.CallbackRunnable.run(Promise.scala:64)\n",
      "\tat scala.concurrent.BatchingExecutor$Batch.processBatch$1(BatchingExecutor.scala:67)\n",
      "\tat scala.concurrent.BatchingExecutor$Batch.$anonfun$run$1(BatchingExecutor.scala:82)\n",
      "\tat scala.runtime.java8.JFunction0$mcV$sp.apply(JFunction0$mcV$sp.java:23)\n",
      "\tat scala.concurrent.BlockContext$.withBlockContext(BlockContext.scala:85)\n",
      "\tat scala.concurrent.BatchingExecutor$Batch.run(BatchingExecutor.scala:59)\n",
      "\tat scala.concurrent.Future$InternalCallbackExecutor$.unbatchedExecute(Future.scala:875)\n",
      "\tat scala.concurrent.BatchingExecutor.execute(BatchingExecutor.scala:110)\n",
      "\tat scala.concurrent.BatchingExecutor.execute$(BatchingExecutor.scala:107)\n",
      "\tat scala.concurrent.Future$InternalCallbackExecutor$.execute(Future.scala:873)\n",
      "\tat scala.concurrent.impl.CallbackRunnable.executeWithValue(Promise.scala:72)\n",
      "\tat scala.concurrent.impl.Promise$DefaultPromise.$anonfun$tryComplete$1(Promise.scala:288)\n",
      "\tat scala.concurrent.impl.Promise$DefaultPromise.$anonfun$tryComplete$1$adapted(Promise.scala:288)\n",
      "\tat scala.concurrent.impl.Promise$DefaultPromise.tryComplete(Promise.scala:288)\n",
      "\tat scala.concurrent.Promise.tryFailure(Promise.scala:112)\n",
      "\tat scala.concurrent.Promise.tryFailure$(Promise.scala:112)\n",
      "\tat scala.concurrent.impl.Promise$DefaultPromise.tryFailure(Promise.scala:187)\n",
      "\tat org.apache.spark.rpc.netty.NettyRpcEnv.org$apache$spark$rpc$netty$NettyRpcEnv$$onFailure$1(NettyRpcEnv.scala:214)\n",
      "\tat org.apache.spark.rpc.netty.NettyRpcEnv$$anon$1.run(NettyRpcEnv.scala:264)\n",
      "\tat java.util.concurrent.Executors$RunnableAdapter.call(Executors.java:511)\n",
      "\tat java.util.concurrent.FutureTask.run(FutureTask.java:266)\n",
      "\tat java.util.concurrent.ScheduledThreadPoolExecutor$ScheduledFutureTask.access$201(ScheduledThreadPoolExecutor.java:180)\n",
      "\tat java.util.concurrent.ScheduledThreadPoolExecutor$ScheduledFutureTask.run(ScheduledThreadPoolExecutor.java:293)\n",
      "\tat java.util.concurrent.ThreadPoolExecutor.runWorker(ThreadPoolExecutor.java:1142)\n",
      "\tat java.util.concurrent.ThreadPoolExecutor$Worker.run(ThreadPoolExecutor.java:617)\n",
      "\tat java.lang.Thread.run(Thread.java:745)\n",
      "Caused by: java.util.concurrent.TimeoutException: Cannot receive any reply from jupyter-c-2eandreazzoli1:45657 in 10000 milliseconds\n",
      "\tat org.apache.spark.rpc.netty.NettyRpcEnv$$anon$1.run(NettyRpcEnv.scala:265)\n",
      "\t... 7 more\n",
      "23/12/11 18:12:32 WARN NettyRpcEnv: Ignored message: HeartbeatResponse(false)\n"
     ]
    },
    {
     "name": "stdout",
     "output_type": "stream",
     "text": [
      "14.234019501625134\n",
      "13.234019501625134\n",
      "12.234019501625134\n",
      "11.234019501625134\n",
      "10.234019501625134\n",
      "9.234019501625134\n",
      "8.234019501625134\n",
      "7.234019501625134\n",
      "6.234019501625134\n",
      "5.234019501625134\n",
      "4.234019501625134\n",
      "3.2340195016251343\n",
      "2.2340195016251343\n",
      "1.2340195016251343\n",
      "0.2340195016251343\n"
     ]
    }
   ],
   "source": [
    "oversample_0=trainingData.filter(col('Severity') == 0)\n",
    "num_campioni_da_generare = n_1 - n_0\n",
    "num_campioni_da_generare=num_campioni_da_generare/n_0 #percentuale \n",
    "#print(num_campioni_da_generare)\n",
    "full_0=oversample_0\n",
    "#print(full.count())\n",
    "\n",
    "while num_campioni_da_generare>1:\n",
    "    oversample_0 = oversample_0.unionAll(full_0)\n",
    "    #trainingData_over = trainingData_over.unionAll(df_minority_oversampled)\n",
    "    num_campioni_da_generare=num_campioni_da_generare-1.0\n",
    "    #num_campioni_da_generare=num_campioni_da_generare/n_0\n",
    "    print(num_campioni_da_generare)\n",
    "    #print('------')\n",
    "    #print(trainingData_over.count())\n",
    "#print(num_campioni_da_generare, 'u')\n",
    "df_minority_oversampled = full_0.sample(True, num_campioni_da_generare, seed=42)\n",
    "\n",
    "oversample_0 = full_0.unionAll(df_minority_oversampled)"
   ]
  },
  {
   "cell_type": "code",
   "execution_count": null,
   "id": "102f887f-094c-4f6c-9662-8ccdd6c507b1",
   "metadata": {},
   "outputs": [],
   "source": [
    "oversample_2=trainingData.filter(col('Severity') == 2)\n",
    "num_campioni_da_generare = n_1 - n_2\n",
    "num_campioni_da_generare=num_campioni_da_generare/n_2 #percentuale \n",
    "#print(num_campioni_da_generare)\n",
    "full_2=oversample_2\n",
    "#print(full.count())\n",
    "\n",
    "while num_campioni_da_generare>1:\n",
    "    oversample_2 = oversample_2.unionAll(full_2)\n",
    "    #trainingData_over = trainingData_over.unionAll(df_minority_oversampled)\n",
    "    num_campioni_da_generare=num_campioni_da_generare-1.0\n",
    "    #num_campioni_da_generare=num_campioni_da_generare/n_0\n",
    "    print(num_campioni_da_generare)\n",
    "    #print('------')\n",
    "    #print(trainingData_over.count())\n",
    "#print(num_campioni_da_generare, 'u')\n",
    "df_minority_oversampled = full_2.sample(True, num_campioni_da_generare, seed=42)\n",
    "\n",
    "oversample_2 = full_2.unionAll(df_minority_oversampled)"
   ]
  },
  {
   "cell_type": "code",
   "execution_count": null,
   "id": "05ab80c1-e8cc-49c6-be12-6556072fe873",
   "metadata": {},
   "outputs": [],
   "source": [
    "trainingData_over=trainingData\n",
    "num_campioni_da_generare = n_1 - n_3\n",
    "num_campioni_da_generare=num_campioni_da_generare/n_3 #percentuale \n",
    "#print(num_campioni_da_generare)\n",
    "full=trainingData.filter(col('Severity') == 3)\n",
    "#print(full.count())\n",
    "\n",
    "while num_campioni_da_generare>1:\n",
    "    full = full.unionAll(full)\n",
    "    #trainingData_over = trainingData_over.unionAll(df_minority_oversampled)\n",
    "    num_campioni_da_generare=num_campioni_da_generare-1.0\n",
    "    #num_campioni_da_generare=num_campioni_da_generare/n_0\n",
    "    #print(num_campioni_da_generare)\n",
    "    #print('------')\n",
    "    #print(trainingData_over.count())\n",
    "#print(num_campioni_da_generare, 'u')\n",
    "df_minority_oversampled = full.sample(True, num_campioni_da_generare, seed=42)\n",
    "\n",
    "oversample_3 = full.unionAll(df_minority_oversampled)"
   ]
  },
  {
   "cell_type": "code",
   "execution_count": null,
   "id": "deed94f2-c446-4a84-a467-102cbc4bdcb8",
   "metadata": {},
   "outputs": [],
   "source": [
    "df_oversampled=oversample_0.unionAll(oversample_2).unionAll(oversample_3).unionAll(trainingData.filter(col('Severity') == 1\n",
    "                                                                                                      ))"
   ]
  },
  {
   "cell_type": "code",
   "execution_count": null,
   "id": "c5666906-931d-46f7-b85e-3863d02bc521",
   "metadata": {},
   "outputs": [],
   "source": []
  },
  {
   "cell_type": "markdown",
   "id": "f4435f3f-c422-4780-a42c-7969ac3344dd",
   "metadata": {},
   "source": [
    "### Decision Tree Mezzo"
   ]
  },
  {
   "cell_type": "code",
   "execution_count": 67,
   "id": "eefc7476-829b-4fce-a924-64796a128ae9",
   "metadata": {
    "tags": []
   },
   "outputs": [],
   "source": [
    "under_1=trainingData.filter(col('Severity') == 1)\n",
    "under_1 = trainingData.sample(True, 0.3, seed=42)"
   ]
  },
  {
   "cell_type": "code",
   "execution_count": 68,
   "id": "5d83dc92-e5b7-413e-94e1-ecf8110f5728",
   "metadata": {
    "tags": []
   },
   "outputs": [
    {
     "name": "stdout",
     "output_type": "stream",
     "text": [
      "6.114402173913043\n",
      "5.114402173913043\n",
      "4.114402173913043\n",
      "3.114402173913043\n",
      "2.114402173913043\n",
      "1.1144021739130432\n",
      "0.11440217391304319\n"
     ]
    }
   ],
   "source": [
    "oversample_0=trainingData.filter(col('Severity') == 0)\n",
    "num_campioni_da_generare = round(n_1*0.3)\n",
    "num_campioni_da_generare=(num_campioni_da_generare-n_0)/n_0 #percentuale \n",
    "#print(num_campioni_da_generare)\n",
    "full_0=oversample_0\n",
    "#print(full.count())\n",
    "while num_campioni_da_generare>1:\n",
    "    oversample_0 = oversample_0.unionAll(full_0)\n",
    "    #trainingData_over = trainingData_over.unionAll(df_minority_oversampled)\n",
    "    num_campioni_da_generare=num_campioni_da_generare-1.0\n",
    "    #num_campioni_da_generare=num_campioni_da_generare/n_0\n",
    "    print(num_campioni_da_generare)\n",
    "    #print('------')\n",
    "    #print(trainingData_over.count())\n",
    "#print(num_campioni_da_generare, 'u')\n",
    "df_minority_oversampled = full_0.sample(True, num_campioni_da_generare, seed=42)\n",
    "\n",
    "oversample_0 = oversample_0.unionAll(df_minority_oversampled)"
   ]
  },
  {
   "cell_type": "code",
   "execution_count": 69,
   "id": "16dac0c7-4f08-462f-b3d4-524af229da94",
   "metadata": {
    "tags": []
   },
   "outputs": [
    {
     "name": "stdout",
     "output_type": "stream",
     "text": [
      "1.6652755615564012\n",
      "0.6652755615564012\n"
     ]
    }
   ],
   "source": [
    "oversample_2=trainingData.filter(col('Severity') == 2)\n",
    "num_campioni_da_generare = round(n_1*0.3)\n",
    "num_campioni_da_generare=(num_campioni_da_generare-n_2)/n_2 #percentuale \n",
    "#print(num_campioni_da_generare)\n",
    "full_2=oversample_2\n",
    "#print(full.count())\n",
    "\n",
    "while num_campioni_da_generare>1:\n",
    "    oversample_2 = oversample_2.unionAll(full_2)\n",
    "    #trainingData_over = trainingData_over.unionAll(df_minority_oversampled)\n",
    "    num_campioni_da_generare=num_campioni_da_generare-1.0\n",
    "    #num_campioni_da_generare=num_campioni_da_generare/n_0\n",
    "    print(num_campioni_da_generare)\n",
    "    #print('------')\n",
    "    #print(trainingData_over.count())\n",
    "#print(num_campioni_da_generare, 'u')\n",
    "df_minority_oversampled = full_2.sample(True, num_campioni_da_generare, seed=42)\n",
    "\n",
    "oversample_2 = oversample_2.unionAll(df_minority_oversampled)"
   ]
  },
  {
   "cell_type": "code",
   "execution_count": 70,
   "id": "be11ee98-9309-4b32-bf28-e0fcbe24afee",
   "metadata": {
    "tags": []
   },
   "outputs": [
    {
     "name": "stdout",
     "output_type": "stream",
     "text": [
      "13.066094853683149\n",
      "12.066094853683149\n",
      "11.066094853683149\n",
      "10.066094853683149\n",
      "9.066094853683149\n",
      "8.066094853683149\n",
      "7.066094853683149\n",
      "6.066094853683149\n",
      "5.066094853683149\n",
      "4.066094853683149\n",
      "3.0660948536831487\n",
      "2.0660948536831487\n",
      "1.0660948536831487\n",
      "0.06609485368314871\n"
     ]
    }
   ],
   "source": [
    "oversample_3=trainingData.filter(col('Severity') == 3)\n",
    "num_campioni_da_generare = round(n_1*0.3)\n",
    "num_campioni_da_generare=(num_campioni_da_generare-n_3)/n_3 #percentuale \n",
    "#print(num_campioni_da_generare)\n",
    "full_3=oversample_3\n",
    "#print(full.count())\n",
    "\n",
    "while num_campioni_da_generare>1:\n",
    "    oversample_3 = oversample_3.unionAll(full_3)\n",
    "    #trainingData_over = trainingData_over.unionAll(df_minority_oversampled)\n",
    "    num_campioni_da_generare=num_campioni_da_generare-1.0\n",
    "    #num_campioni_da_generare=num_campioni_da_generare/n_0\n",
    "    print(num_campioni_da_generare)\n",
    "    #print('------')\n",
    "    #print(trainingData_over.count())\n",
    "#print(num_campioni_da_generare, 'u')\n",
    "df_minority_oversampled = full_3.sample(True, num_campioni_da_generare, seed=42)\n",
    "\n",
    "oversample_3 = oversample_3.unionAll(df_minority_oversampled)"
   ]
  },
  {
   "cell_type": "code",
   "execution_count": 71,
   "id": "29c00a95-39f2-435c-8019-32fcd37185f8",
   "metadata": {
    "tags": []
   },
   "outputs": [],
   "source": [
    "df_mezzo=oversample_0.unionAll(oversample_2).unionAll(oversample_3).unionAll(under_1)"
   ]
  },
  {
   "cell_type": "code",
   "execution_count": 53,
   "id": "20d85d09-7519-40fc-ac3c-ccf1c40e45fe",
   "metadata": {
    "tags": []
   },
   "outputs": [
    {
     "name": "stderr",
     "output_type": "stream",
     "text": [
      "23/12/11 21:08:59 WARN DAGScheduler: Broadcasting large task binary with size 1672.2 KiB\n",
      "                                                                                \r"
     ]
    },
    {
     "data": {
      "text/plain": [
       "133639"
      ]
     },
     "execution_count": 53,
     "metadata": {},
     "output_type": "execute_result"
    }
   ],
   "source": [
    "df_mezzo.count()"
   ]
  },
  {
   "cell_type": "code",
   "execution_count": 55,
   "id": "64841b32-33cd-4987-a12c-5fbc55534df2",
   "metadata": {
    "tags": []
   },
   "outputs": [
    {
     "name": "stderr",
     "output_type": "stream",
     "text": [
      "23/12/11 21:11:28 WARN DAGScheduler: Broadcasting large task binary with size 1682.9 KiB\n",
      "[Stage 42:=====================================================>(276 + 3) / 279]\r"
     ]
    },
    {
     "name": "stdout",
     "output_type": "stream",
     "text": [
      "+--------+-----+\n",
      "|Severity|Count|\n",
      "+--------+-----+\n",
      "|       0|33434|\n",
      "|       1|32343|\n",
      "|       2|34853|\n",
      "|       3|33009|\n",
      "+--------+-----+\n",
      "\n"
     ]
    },
    {
     "name": "stderr",
     "output_type": "stream",
     "text": [
      "                                                                                \r"
     ]
    }
   ],
   "source": [
    "from pyspark.sql import functions as F\n",
    "g=df_mezzo.groupBy('Severity').agg(F.count('Severity').alias('Count'))\n",
    "g=g.sort('Severity')\n",
    "g.show()"
   ]
  },
  {
   "cell_type": "code",
   "execution_count": 72,
   "id": "711945e0-64df-48dc-a1aa-86a2e0c95eb4",
   "metadata": {
    "tags": []
   },
   "outputs": [],
   "source": [
    "train_mezzo=df_mezzo"
   ]
  },
  {
   "cell_type": "code",
   "execution_count": 73,
   "id": "9e659069-fb17-4980-8554-3918cb9476a2",
   "metadata": {
    "tags": []
   },
   "outputs": [
    {
     "name": "stderr",
     "output_type": "stream",
     "text": [
      "23/12/16 17:57:18 WARN DAGScheduler: Broadcasting large task binary with size 1617.2 KiB\n",
      "23/12/16 18:00:21 WARN DAGScheduler: Broadcasting large task binary with size 2.3 MiB\n",
      "23/12/16 18:00:21 WARN DAGScheduler: Broadcasting large task binary with size 2.3 MiB\n",
      "23/12/16 18:03:58 WARN DAGScheduler: Broadcasting large task binary with size 2.3 MiB\n",
      "23/12/16 18:05:35 WARN DAGScheduler: Broadcasting large task binary with size 2.3 MiB\n",
      "23/12/16 18:06:53 WARN DAGScheduler: Broadcasting large task binary with size 2.3 MiB\n",
      "23/12/16 18:07:14 WARN DAGScheduler: Broadcasting large task binary with size 2.3 MiB\n",
      "23/12/16 18:07:55 WARN DAGScheduler: Broadcasting large task binary with size 2.3 MiB\n",
      "23/12/16 18:08:36 WARN DAGScheduler: Broadcasting large task binary with size 2.3 MiB\n",
      "                                                                                \r"
     ]
    }
   ],
   "source": [
    "from pyspark.ml.classification import DecisionTreeClassifier\n",
    "\n",
    "dt = DecisionTreeClassifier(labelCol=\"Severity\", featuresCol=\"features\")\n",
    "\n",
    "dt = dt.fit(train_mezzo)"
   ]
  },
  {
   "cell_type": "code",
   "execution_count": 74,
   "id": "163c334f-9c08-4b0d-89b3-8dc2d25021fd",
   "metadata": {
    "tags": []
   },
   "outputs": [
    {
     "name": "stdout",
     "output_type": "stream",
     "text": [
      "Le features più importanti per la predizione sono :\n",
      "Distance_mi con un'importanza dello 0.5880523912169244\n",
      "hour con un'importanza dello 0.1947084125202182\n",
      "month con un'importanza dello 0.12628916642521873\n",
      "Start_Lat con un'importanza dello 0.029860234045226315\n",
      "Crossing con un'importanza dello 0.020259465072310915\n",
      "Working_Weekend con un'importanza dello 0.01752714265595271\n",
      "Traffic_Signal con un'importanza dello 0.008377278835874769\n",
      "Start_Lng con un'importanza dello 0.00800894476425396\n",
      "Junction con un'importanza dello 0.0033188214244961756\n",
      "Stop con un'importanza dello 0.0027416781144444053\n",
      "Precipitation_in con un'importanza dello 0.0008564649250794217\n"
     ]
    }
   ],
   "source": [
    "feat_imp=dt.featureImportances\n",
    "from pyspark.ml.linalg import SparseVector\n",
    "non_zero_elements = [(index, value) for index, value in zip(feat_imp.indices, feat_imp.values) if value != 0]\n",
    "sorted_non_zero_elements = sorted(non_zero_elements, key=lambda x: x[1], reverse=True)\n",
    "print('Le features più importanti per la predizione sono :')\n",
    "for el in sorted_non_zero_elements:\n",
    "    print(num_col[el[0]], 'con un\\'importanza dello', el[1])"
   ]
  },
  {
   "cell_type": "code",
   "execution_count": 60,
   "id": "9e609fd9-5189-4990-a534-2197be81a861",
   "metadata": {
    "tags": []
   },
   "outputs": [],
   "source": [
    "# Make predictions.\n",
    "predictions = dt.transform(testData)\n",
    "\n",
    "#predictions.show(20)"
   ]
  },
  {
   "cell_type": "code",
   "execution_count": 61,
   "id": "c0c5970f-0402-4f70-ad95-fc0f1269f21d",
   "metadata": {
    "tags": []
   },
   "outputs": [],
   "source": [
    "from pyspark.ml.evaluation import MulticlassClassificationEvaluator"
   ]
  },
  {
   "cell_type": "code",
   "execution_count": 62,
   "id": "e30d2659-e76b-4bf9-a1ad-2100f90365e3",
   "metadata": {
    "tags": []
   },
   "outputs": [
    {
     "name": "stderr",
     "output_type": "stream",
     "text": [
      "[Stage 117:=========================>                               (4 + 5) / 9]\r"
     ]
    },
    {
     "name": "stdout",
     "output_type": "stream",
     "text": [
      "0.6422528682350215\n",
      "Test Error = 0.357747\n"
     ]
    },
    {
     "name": "stderr",
     "output_type": "stream",
     "text": [
      "                                                                                \r"
     ]
    }
   ],
   "source": [
    "# Select (prediction, true label) and compute test error\n",
    "evaluator = MulticlassClassificationEvaluator(labelCol=\"Severity\"\n",
    "                                              , predictionCol=\"prediction\"\n",
    "                                              , metricName=\"accuracy\")\n",
    "\n",
    "accuracy = evaluator.evaluate(predictions)\n",
    "print(accuracy)\n",
    "print(\"Test Error = %g\" % (1.0 - accuracy))"
   ]
  },
  {
   "cell_type": "code",
   "execution_count": 63,
   "id": "09ab4693-01b8-4c3c-89b1-e1f416577215",
   "metadata": {
    "tags": []
   },
   "outputs": [
    {
     "name": "stderr",
     "output_type": "stream",
     "text": [
      "/opt/conda/lib/python3.10/site-packages/pyspark/sql/context.py:158: FutureWarning: Deprecated in 3.0.0. Use SparkSession.builder.getOrCreate() instead.\n",
      "  warnings.warn(\n",
      "[Stage 120:=========================>                               (4 + 5) / 9]\r"
     ]
    },
    {
     "name": "stdout",
     "output_type": "stream",
     "text": [
      "Precision for class  0 : 49.17%\n",
      "Recall for class  0 : 88.76%\n",
      "avg_F1-Score for class  0 : 63.28%\n",
      "----------------------------\n",
      "Precision for class  1 : 98.58%\n",
      "Recall for class  1 : 62.28%\n",
      "avg_F1-Score for class  1 : 76.33%\n",
      "----------------------------\n",
      "Precision for class  2 : 46.69%\n",
      "Recall for class  2 : 78.51%\n",
      "avg_F1-Score for class  2 : 58.56%\n",
      "----------------------------\n",
      "Precision for class  3 : 4.05%\n",
      "Recall for class  3 : 67.45%\n",
      "avg_F1-Score for class  3 : 7.64%\n",
      "----------------------------\n",
      "[0.6327845382963494, 0.7633345343421808, 0.5855683269476373, 0.07641107561235357]\n",
      "----------------------\n",
      "avg_F1-Score: 51.45%\n"
     ]
    },
    {
     "name": "stderr",
     "output_type": "stream",
     "text": [
      "                                                                                \r"
     ]
    }
   ],
   "source": [
    "from pyspark.mllib.evaluation import MulticlassMetrics\n",
    "# Calcolare precision, recall e F1-score\n",
    "predictionAndLabels = predictions.select(\"prediction\", \"Severity\").rdd.map(lambda x: (float(x[0]), float(x[1])))\n",
    "metrics = MulticlassMetrics(predictionAndLabels)\n",
    "\n",
    "list_avg=[]\n",
    "for i in range(4):\n",
    "    precision = metrics.precision(label=float(i))  \n",
    "    recall = metrics.recall(label=float(i))\n",
    "    f1Score= metrics.fMeasure(label=float(i)) # need .0\n",
    "    print(\"Precision for class \",i,\": {:.2%}\".format(precision))\n",
    "    print(\"Recall for class \",i,\": {:.2%}\".format(recall))\n",
    "    print(\"avg_F1-Score for class \",i,\": {:.2%}\".format(f1Score))\n",
    "    list_avg.append(f1Score)\n",
    "    print('----------------------------')\n",
    "sum_=0\n",
    "print(list_avg)\n",
    "for elem in list_avg:\n",
    "    sum_+=elem\n",
    "\n",
    "avg_f1=sum_/4\n",
    "print('----------------------')\n",
    "\n",
    "print(\"avg_F1-Score: {:.2%}\".format(avg_f1))"
   ]
  },
  {
   "cell_type": "code",
   "execution_count": 64,
   "id": "80717855-57d4-42db-8082-1a19db7a7e43",
   "metadata": {},
   "outputs": [
    {
     "data": {
      "text/plain": [
       "<Axes: >"
      ]
     },
     "execution_count": 64,
     "metadata": {},
     "output_type": "execute_result"
    },
    {
     "data": {
      "image/png": "[encoded data removed]",
      "text/plain": [
       "<Figure size 700x700 with 1 Axes>"
      ]
     },
     "metadata": {},
     "output_type": "display_data"
    }
   ],
   "source": [
    "import seaborn as sns\n",
    "import matplotlib.pyplot as plt\n",
    "\n",
    "labels = [\"0\", \"1\", \"2\", \"3\"]\n",
    "_ = plt.figure(figsize=(7, 7))\n",
    "sns.heatmap(metrics.confusionMatrix().toArray(),\n",
    "            cmap='viridis',\n",
    "            annot=True,fmt='0',\n",
    "            cbar=False, \n",
    "            xticklabels=labels, \n",
    "            yticklabels=labels)"
   ]
  },
  {
   "cell_type": "markdown",
   "id": "b2dcb3c6-d62f-491c-ada6-736900cd6b94",
   "metadata": {},
   "source": [
    "### Random Forest Mezzo"
   ]
  },
  {
   "cell_type": "code",
   "execution_count": 75,
   "id": "ec853557-9fa0-4f51-a59f-271d42788921",
   "metadata": {
    "tags": []
   },
   "outputs": [
    {
     "name": "stderr",
     "output_type": "stream",
     "text": [
      "23/12/16 18:10:06 WARN DAGScheduler: Broadcasting large task binary with size 1617.2 KiB\n",
      "23/12/16 18:14:39 WARN DAGScheduler: Broadcasting large task binary with size 2.3 MiB\n",
      "23/12/16 18:14:39 WARN DAGScheduler: Broadcasting large task binary with size 2.3 MiB\n",
      "23/12/16 18:18:18 WARN DAGScheduler: Broadcasting large task binary with size 2.3 MiB\n",
      "23/12/16 18:21:19 WARN DAGScheduler: Broadcasting large task binary with size 2.3 MiB\n",
      "23/12/16 18:24:29 WARN DAGScheduler: Broadcasting large task binary with size 2.3 MiB\n",
      "23/12/16 18:25:13 WARN DAGScheduler: Broadcasting large task binary with size 2.3 MiB\n",
      "23/12/16 18:25:57 WARN DAGScheduler: Broadcasting large task binary with size 2.3 MiB\n",
      "23/12/16 18:26:22 WARN DAGScheduler: Broadcasting large task binary with size 2.4 MiB\n",
      "[Stage 329:===============================>                         (5 + 4) / 9]\r"
     ]
    },
    {
     "name": "stdout",
     "output_type": "stream",
     "text": [
      "Test Accuracy = 0.581093\n"
     ]
    },
    {
     "name": "stderr",
     "output_type": "stream",
     "text": [
      "                                                                                \r"
     ]
    }
   ],
   "source": [
    "from pyspark.ml import Pipeline\n",
    "from pyspark.ml.classification import RandomForestClassifier\n",
    "from pyspark.ml.feature import IndexToString, StringIndexer, VectorIndexer\n",
    "from pyspark.ml.evaluation import MulticlassClassificationEvaluator\n",
    "from pyspark.mllib.evaluation import MulticlassMetrics\n",
    "\n",
    "# Train a RandomForest model.\n",
    "rf = RandomForestClassifier(labelCol=\"Severity\", featuresCol=\"features\", numTrees=10)\n",
    "\n",
    "\n",
    "# Train model.  This also runs the indexers.\n",
    "model = rf.fit(train_mezzo)\n",
    "\n",
    "# Make predictions.\n",
    "predictions = model.transform(testData)\n",
    "\n",
    "# Select example rows to display.\n",
    "#predictions.select(\"predictedLabel\", \"Severity\", \"features\").show(5)\n",
    "\n",
    "evaluator = MulticlassClassificationEvaluator(\n",
    "    labelCol=\"Severity\", predictionCol=\"prediction\", metricName=\"accuracy\")\n",
    "accuracy = evaluator.evaluate(predictions)\n",
    "print(\"Test Accuracy = %g\" % (accuracy))\n"
   ]
  },
  {
   "cell_type": "code",
   "execution_count": 76,
   "id": "acbf9341-f1aa-4da0-a17a-6c3a9d62a312",
   "metadata": {
    "tags": []
   },
   "outputs": [
    {
     "name": "stdout",
     "output_type": "stream",
     "text": [
      "Le features più importanti per la predizione sono :\n",
      "Distance_mi con un'importanza dello 0.5559964791302766\n",
      "hour con un'importanza dello 0.13726643485859308\n",
      "month con un'importanza dello 0.08438605566732052\n",
      "Temperature_F con un'importanza dello 0.05474006796802648\n",
      "Start_Lng con un'importanza dello 0.038598627654546\n",
      "Traffic_Signal con un'importanza dello 0.03575889785655264\n",
      "Start_Lat con un'importanza dello 0.026843722710239076\n",
      "Working_Weekend con un'importanza dello 0.016461399090782015\n",
      "Humidity_perc con un'importanza dello 0.015204414571432146\n",
      "Crossing con un'importanza dello 0.013176780634590601\n",
      "Wind_Speed_mph con un'importanza dello 0.008631981234960534\n",
      "Stop con un'importanza dello 0.004772077587448764\n",
      "Astronomical_Twilight con un'importanza dello 0.003324110887141906\n",
      "Junction con un'importanza dello 0.002801587740332875\n",
      "Station con un'importanza dello 0.0014132321762760467\n",
      "Weather_Condition_1hot con un'importanza dello 0.0001945314108614524\n",
      "Precipitation_in con un'importanza dello 0.00015264692799125436\n",
      "Railway con un'importanza dello 0.00011555447824549063\n",
      "Visibility_mi con un'importanza dello 7.235877071415734e-05\n",
      "Give_Way con un'importanza dello 6.652870890863872e-05\n",
      "Amenity con un'importanza dello 2.2509934759670764e-05\n"
     ]
    }
   ],
   "source": [
    "feat_imp=model.featureImportances\n",
    "from pyspark.ml.linalg import SparseVector\n",
    "non_zero_elements = [(index, value) for index, value in zip(feat_imp.indices, feat_imp.values) if value != 0]\n",
    "sorted_non_zero_elements = sorted(non_zero_elements, key=lambda x: x[1], reverse=True)\n",
    "print('Le features più importanti per la predizione sono :')\n",
    "for el in sorted_non_zero_elements:\n",
    "    if el[0]>=24:\n",
    "        print(num_col[len(num_col)-1], 'con un\\'importanza dello', el[1])\n",
    "    else:\n",
    "        print(num_col[el[0]], 'con un\\'importanza dello', el[1])"
   ]
  },
  {
   "cell_type": "code",
   "execution_count": 66,
   "id": "d7c55200-9d9f-4128-8e83-bbc9b4597982",
   "metadata": {
    "tags": []
   },
   "outputs": [
    {
     "name": "stderr",
     "output_type": "stream",
     "text": [
      "/opt/conda/lib/python3.10/site-packages/pyspark/sql/context.py:158: FutureWarning: Deprecated in 3.0.0. Use SparkSession.builder.getOrCreate() instead.\n",
      "  warnings.warn(\n",
      "[Stage 142:============>                                            (2 + 7) / 9]\r"
     ]
    },
    {
     "name": "stdout",
     "output_type": "stream",
     "text": [
      "Precision for class  0 : 49.03%\n",
      "Recall for class  0 : 88.02%\n",
      "avg_F1-Score for class  0 : 62.98%\n",
      "----------------------------\n",
      "Precision for class  1 : 99.04%\n",
      "Recall for class  1 : 51.85%\n",
      "avg_F1-Score for class  1 : 68.07%\n",
      "----------------------------\n",
      "Precision for class  2 : 44.58%\n",
      "Recall for class  2 : 79.74%\n",
      "avg_F1-Score for class  2 : 57.18%\n",
      "----------------------------\n",
      "Precision for class  3 : 3.58%\n",
      "Recall for class  3 : 78.97%\n",
      "avg_F1-Score for class  3 : 6.85%\n",
      "----------------------------\n",
      "[0.6297892720306514, 0.6806631413462914, 0.5718379042161277, 0.06846663270504331]\n",
      "----------------------\n",
      "avg_F1-Score: 48.77%\n"
     ]
    },
    {
     "name": "stderr",
     "output_type": "stream",
     "text": [
      "                                                                                \r"
     ]
    }
   ],
   "source": [
    "from pyspark.mllib.evaluation import MulticlassMetrics\n",
    "# Calcolare precision, recall e F1-score\n",
    "predictionAndLabels = predictions.select(\"prediction\", \"Severity\").rdd.map(lambda x: (float(x[0]), float(x[1])))\n",
    "metrics = MulticlassMetrics(predictionAndLabels)\n",
    "\n",
    "list_avg=[]\n",
    "for i in range(4):\n",
    "    precision = metrics.precision(label=float(i))  \n",
    "    recall = metrics.recall(label=float(i))\n",
    "    f1Score= metrics.fMeasure(label=float(i)) # need .0\n",
    "    print(\"Precision for class \",i,\": {:.2%}\".format(precision))\n",
    "    print(\"Recall for class \",i,\": {:.2%}\".format(recall))\n",
    "    print(\"avg_F1-Score for class \",i,\": {:.2%}\".format(f1Score))\n",
    "    list_avg.append(f1Score)\n",
    "    print('----------------------------')\n",
    "sum_=0\n",
    "print(list_avg)\n",
    "for elem in list_avg:\n",
    "    sum_+=elem\n",
    "\n",
    "avg_f1=sum_/4\n",
    "print('----------------------')\n",
    "\n",
    "print(\"avg_F1-Score: {:.2%}\".format(avg_f1))"
   ]
  },
  {
   "cell_type": "code",
   "execution_count": 67,
   "id": "22872397-c50f-41a1-a9bc-37348f81a7ea",
   "metadata": {},
   "outputs": [
    {
     "data": {
      "text/plain": [
       "<Axes: >"
      ]
     },
     "execution_count": 67,
     "metadata": {},
     "output_type": "execute_result"
    },
    {
     "data": {
      "image/png": "[encoded data removed]",
      "text/plain": [
       "<Figure size 700x700 with 1 Axes>"
      ]
     },
     "metadata": {},
     "output_type": "display_data"
    },
    {
     "name": "stderr",
     "output_type": "stream",
     "text": [
      "----------------------------------------\n",
      "Exception occurred during processing of request from ('127.0.0.1', 59048)\n",
      "Traceback (most recent call last):\n",
      "  File \"/opt/conda/lib/python3.10/socketserver.py\", line 316, in _handle_request_noblock\n",
      "    self.process_request(request, client_address)\n",
      "  File \"/opt/conda/lib/python3.10/socketserver.py\", line 347, in process_request\n",
      "    self.finish_request(request, client_address)\n",
      "  File \"/opt/conda/lib/python3.10/socketserver.py\", line 360, in finish_request\n",
      "    self.RequestHandlerClass(request, client_address, self)\n",
      "  File \"/opt/conda/lib/python3.10/socketserver.py\", line 747, in __init__\n",
      "    self.handle()\n",
      "  File \"/opt/conda/lib/python3.10/site-packages/pyspark/accumulators.py\", line 295, in handle\n",
      "    poll(accum_updates)\n",
      "  File \"/opt/conda/lib/python3.10/site-packages/pyspark/accumulators.py\", line 267, in poll\n",
      "    if self.rfile in r and func():\n",
      "  File \"/opt/conda/lib/python3.10/site-packages/pyspark/accumulators.py\", line 271, in accum_updates\n",
      "    num_updates = read_int(self.rfile)\n",
      "  File \"/opt/conda/lib/python3.10/site-packages/pyspark/serializers.py\", line 596, in read_int\n",
      "    raise EOFError\n",
      "EOFError\n",
      "----------------------------------------\n"
     ]
    }
   ],
   "source": [
    "import seaborn as sns\n",
    "import matplotlib.pyplot as plt\n",
    "\n",
    "labels = [\"0\", \"1\", \"2\", \"3\"]\n",
    "_ = plt.figure(figsize=(7, 7))\n",
    "sns.heatmap(metrics.confusionMatrix().toArray(),\n",
    "            cmap='viridis',\n",
    "            annot=True,fmt='0',\n",
    "            cbar=False, \n",
    "            xticklabels=labels, \n",
    "            yticklabels=labels)"
   ]
  }
 ],
 "metadata": {
  "kernelspec": {
   "display_name": "base",
   "language": "python",
   "name": "python3"
  },
  "language_info": {
   "codemirror_mode": {
    "name": "ipython",
    "version": 3
   },
   "file_extension": ".py",
   "mimetype": "text/x-python",
   "name": "python",
   "nbconvert_exporter": "python",
   "pygments_lexer": "ipython3",
   "version": "3.9.13"
  }
 },
 "nbformat": 4,
 "nbformat_minor": 5
}
